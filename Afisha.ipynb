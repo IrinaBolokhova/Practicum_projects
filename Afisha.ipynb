{
 "cells": [
  {
   "cell_type": "markdown",
   "metadata": {
    "id": "LMuaGIE3lGcr"
   },
   "source": [
    "# Исследование активности пользователей Яндекс Афиши в осенний период 2024 года"
   ]
  },
  {
   "cell_type": "markdown",
   "metadata": {},
   "source": [
    "Автор: Болохова Ирина\n",
    "\n",
    "Дата: 26.08.2025"
   ]
  },
  {
   "cell_type": "markdown",
   "metadata": {},
   "source": [
    "## Введение\n",
    "\n",
    "Коллеги из продуктового отдела Яндекс Афиши отметили значительное изменение в поведении пользователей. Причины этого явления пока не ясны. Возможно, повлияла сезонность, и предпочтения аудитории изменились? Или же сама аудитория трансформировалась? Важно выяснить, какие мероприятия стали более популярными, а какие организаторы и площадки вышли в лидеры. Также необходимо понять, отличаются ли пользователи, бронирующие билеты через мобильные устройства, от тех, кто предпочитает делать это со стационарного компьютера."
   ]
  },
  {
   "cell_type": "markdown",
   "metadata": {},
   "source": [
    "### Цель:\n",
    "\n",
    "Провести исследовательский анализ данных сервиса Яндекс Афиша для изучения динамики пользовательского поведения осенью 2024 года, основной акцент сделать на выявлении изменений в предпочтениях пользователей и популярности событий, а также проверить гипотезы о статистически значимых различиях в поведении пользователей мобильных и стационарных устройств."
   ]
  },
  {
   "cell_type": "markdown",
   "metadata": {},
   "source": [
    "### Задачи:\n",
    "\n",
    "1. Загрузить данные и познакомиться с их содержимым:\n",
    "    - вывести общую информацию о данных в каждом датасете;\n",
    "    - оценить объём данных, их корректность и соответствие описанию;\n",
    "    - предположить, какие шаги необходимо сделать на стадии предобработки данных.\n",
    "2. Провести предобработку данных:\n",
    "    - проверить данные на пропуски;\n",
    "    - изучить значения в ключевых столбцах;\n",
    "    - проверить данные на наличие дубликатов;\n",
    "    - провести преобразование типов;\n",
    "    - добавить необходимые для дальнейшей работы столбцы.\n",
    "3. Провести исследовательский анализ данных:\n",
    "     - изучить распределения заказов по сегментам и их сезонные изменения;\n",
    "     - изучить активность пользователей осенью 2024 года;\n",
    "     - определить популярные события и партнеров.\n",
    "4. Провести статистический анализ данных:\n",
    "     - проверить гипотезу о среднем количестве заказов;\n",
    "     - проверить гипотезу о среднем времени между заказами.\n",
    "5. Сформулировать выводы по проведённому анализу."
   ]
  },
  {
   "cell_type": "markdown",
   "metadata": {},
   "source": [
    "### Описание данных\n",
    "\n",
    "В проекте будут использоваться данные о бронировании билетов на сервисе Яндекс Афиша за период с 1 июня по 31 октября 2024 года.\n",
    "\n",
    "Датасет `final_tickets_orders_df.csv` включает информацию обо всех заказах билетов, совершённых с двух типов устройств — мобильных и стационарных. Датасет содержит слудующие поля:\n",
    "   - `order_id` — уникальный идентификатор заказа.\n",
    "   - `user_id` — уникальный идентификатор пользователя.\n",
    "   - `created_dt_msk` — дата создания заказа (московское время).\n",
    "   - `created_ts_msk` — дата и время создания заказа (московское время).\n",
    "   - `event_id` — идентификатор мероприятия из таблицы events.\n",
    "   - `cinema_circuit` — сеть кинотеатров. Если не применимо, то здесь будет значение 'нет'.\n",
    "   - `age_limit` — возрастное ограничение мероприятия.\n",
    "   - `currency_code` — валюта оплаты, например rub для российских рублей.\n",
    "   - `device_type_canonical` — тип устройства, с которого был оформлен заказ, например mobile для мобильных устройств, desktop для стационарных.\n",
    "   - `revenue` — выручка от заказа.\n",
    "   - `service_name` — название билетного оператора.\n",
    "   - `tickets_count` — количество купленных билетов.\n",
    "   - `total` — общая сумма заказа.\n",
    "   - `days_since_prev` — количество дней с предыдущей покупки для каждого пользователя. Если покупки не было, то данные содержат пропуск.\n",
    "   \n",
    "Датасет `final_tickets_events_df.csv` содержит информацию о событиях, включая город и регион события, а также информацию о площадке проведения мероприятия. Датасет содержит следуюшие поля:\n",
    "   - `event_id` — уникальный идентификатор мероприятия.\n",
    "   - `event_name` — название мероприятия. \n",
    "   - `event_type_description` — описание типа мероприятия.\n",
    "   - `event_type_main` — основной тип мероприятия: театральная постановка, концерт и так далее.\n",
    "   - `organizers` — организаторы мероприятия.\n",
    "   - `region_name` — название региона.\n",
    "   - `city_name` — название города.\n",
    "   - `venue_id` — уникальный идентификатор площадки.\n",
    "   - `venue_name` — название площадки.\n",
    "   - `venue_address` — адрес площадки.\n",
    "   \n",
    "Датасет `final_tickets_tenge_df.csv` содеержит информацию о курсе тенге к российскому рублю за 2024 год. Значения в рублях представлено для 100 тенге. Датасет содержит следующие поля:\n",
    "   - `nominal` — номинал (100 тенге).\n",
    "   - `data` — дата.\n",
    "   - `curs` — курс тенге к рублю.\n",
    "   - `cdx` — обозначение валюты (kzt)."
   ]
  },
  {
   "cell_type": "markdown",
   "metadata": {},
   "source": [
    "### Содержимое проекта\n",
    "\n",
    "1. Знакомство с данными.\n",
    "2. Предобработка данных.\n",
    "3. Проведение исследовательского анализа данных.\n",
    "4. Проведение статистического анализа данных и проверка гипотез.\n",
    "5. Итоговые выводы и рекомендации."
   ]
  },
  {
   "cell_type": "markdown",
   "metadata": {},
   "source": [
    "## 1. Знакомство с данными"
   ]
  },
  {
   "cell_type": "markdown",
   "metadata": {},
   "source": [
    "Для начала загрузим все необходимые в проекте библиотеки."
   ]
  },
  {
   "cell_type": "code",
   "execution_count": 1,
   "metadata": {},
   "outputs": [],
   "source": [
    "# Импортируем библиотеки\n",
    "import pandas as pd\n",
    "\n",
    "# Загружаем библиотеки для визуализации данных\n",
    "import matplotlib.pyplot as plt\n",
    "import seaborn as sns\n",
    "\n",
    "from scipy.stats import ttest_ind, mannwhitneyu\n",
    "from statsmodels.stats.power import NormalIndPower\n",
    "from statsmodels.stats.proportion import proportion_effectsize\n"
   ]
  },
  {
   "cell_type": "markdown",
   "metadata": {},
   "source": [
    "Теперь загрузим данные."
   ]
  },
  {
   "cell_type": "code",
   "execution_count": 2,
   "metadata": {},
   "outputs": [],
   "source": [
    "# Загрузим датасет final_tickets_orders_df.csv в переменную tickets_orders_df\n",
    "try:\n",
    "    tickets_orders_df = pd.read_csv('https://code.s3.yandex.net/datasets/final_tickets_orders_df.csv')\n",
    "except:\n",
    "    tickets_orders_df = pd.read_csv('final_tickets_orders_df.csv')\n",
    "    \n",
    "# Загрузим датасет final_tickets_events_df.csv в переменную tickets_events_df\n",
    "try:\n",
    "    tickets_events_df = pd.read_csv('https://code.s3.yandex.net/datasets/final_tickets_events_df.csv')\n",
    "except:\n",
    "    tickets_events_df = pd.read_csv('final_tickets_events_df.csv')\n",
    "    \n",
    "# Загрузим датасет final_tickets_tenge_df.csv в переменную tickets_tenge_df\n",
    "try:\n",
    "    tickets_tenge_df = pd.read_csv('https://code.s3.yandex.net/datasets/final_tickets_tenge_df.csv')\n",
    "except:\n",
    "    tickets_tenge_df = pd.read_csv('final_tickets_tenge_df.csv')"
   ]
  },
  {
   "cell_type": "markdown",
   "metadata": {},
   "source": [
    "Познакомимся с данными датасетов.\n",
    "\n",
    "Начнем с датасета `tickets_orders_df`: выведем о них общую информацию и первые строки датасета."
   ]
  },
  {
   "cell_type": "code",
   "execution_count": 3,
   "metadata": {},
   "outputs": [
    {
     "name": "stdout",
     "output_type": "stream",
     "text": [
      "<class 'pandas.core.frame.DataFrame'>\n",
      "RangeIndex: 290849 entries, 0 to 290848\n",
      "Data columns (total 14 columns):\n",
      " #   Column                 Non-Null Count   Dtype  \n",
      "---  ------                 --------------   -----  \n",
      " 0   order_id               290849 non-null  int64  \n",
      " 1   user_id                290849 non-null  object \n",
      " 2   created_dt_msk         290849 non-null  object \n",
      " 3   created_ts_msk         290849 non-null  object \n",
      " 4   event_id               290849 non-null  int64  \n",
      " 5   cinema_circuit         290849 non-null  object \n",
      " 6   age_limit              290849 non-null  int64  \n",
      " 7   currency_code          290849 non-null  object \n",
      " 8   device_type_canonical  290849 non-null  object \n",
      " 9   revenue                290849 non-null  float64\n",
      " 10  service_name           290849 non-null  object \n",
      " 11  tickets_count          290849 non-null  int64  \n",
      " 12  total                  290849 non-null  float64\n",
      " 13  days_since_prev        268909 non-null  float64\n",
      "dtypes: float64(3), int64(4), object(7)\n",
      "memory usage: 31.1+ MB\n"
     ]
    }
   ],
   "source": [
    "# Выведем информацию о датасете tickets_orders_df\n",
    "tickets_orders_df.info()"
   ]
  },
  {
   "cell_type": "code",
   "execution_count": 4,
   "metadata": {},
   "outputs": [
    {
     "data": {
      "text/html": [
       "<div>\n",
       "<style scoped>\n",
       "    .dataframe tbody tr th:only-of-type {\n",
       "        vertical-align: middle;\n",
       "    }\n",
       "\n",
       "    .dataframe tbody tr th {\n",
       "        vertical-align: top;\n",
       "    }\n",
       "\n",
       "    .dataframe thead th {\n",
       "        text-align: right;\n",
       "    }\n",
       "</style>\n",
       "<table border=\"1\" class=\"dataframe\">\n",
       "  <thead>\n",
       "    <tr style=\"text-align: right;\">\n",
       "      <th></th>\n",
       "      <th>order_id</th>\n",
       "      <th>user_id</th>\n",
       "      <th>created_dt_msk</th>\n",
       "      <th>created_ts_msk</th>\n",
       "      <th>event_id</th>\n",
       "      <th>cinema_circuit</th>\n",
       "      <th>age_limit</th>\n",
       "      <th>currency_code</th>\n",
       "      <th>device_type_canonical</th>\n",
       "      <th>revenue</th>\n",
       "      <th>service_name</th>\n",
       "      <th>tickets_count</th>\n",
       "      <th>total</th>\n",
       "      <th>days_since_prev</th>\n",
       "    </tr>\n",
       "  </thead>\n",
       "  <tbody>\n",
       "    <tr>\n",
       "      <th>0</th>\n",
       "      <td>4359165</td>\n",
       "      <td>0002849b70a3ce2</td>\n",
       "      <td>2024-08-20</td>\n",
       "      <td>2024-08-20 16:08:03</td>\n",
       "      <td>169230</td>\n",
       "      <td>нет</td>\n",
       "      <td>16</td>\n",
       "      <td>rub</td>\n",
       "      <td>mobile</td>\n",
       "      <td>1521.94</td>\n",
       "      <td>Край билетов</td>\n",
       "      <td>4</td>\n",
       "      <td>10870.99</td>\n",
       "      <td>NaN</td>\n",
       "    </tr>\n",
       "    <tr>\n",
       "      <th>1</th>\n",
       "      <td>7965605</td>\n",
       "      <td>0005ca5e93f2cf4</td>\n",
       "      <td>2024-07-23</td>\n",
       "      <td>2024-07-23 18:36:24</td>\n",
       "      <td>237325</td>\n",
       "      <td>нет</td>\n",
       "      <td>0</td>\n",
       "      <td>rub</td>\n",
       "      <td>mobile</td>\n",
       "      <td>289.45</td>\n",
       "      <td>Мой билет</td>\n",
       "      <td>2</td>\n",
       "      <td>2067.51</td>\n",
       "      <td>NaN</td>\n",
       "    </tr>\n",
       "    <tr>\n",
       "      <th>2</th>\n",
       "      <td>7292370</td>\n",
       "      <td>0005ca5e93f2cf4</td>\n",
       "      <td>2024-10-06</td>\n",
       "      <td>2024-10-06 13:56:02</td>\n",
       "      <td>578454</td>\n",
       "      <td>нет</td>\n",
       "      <td>0</td>\n",
       "      <td>rub</td>\n",
       "      <td>mobile</td>\n",
       "      <td>1258.57</td>\n",
       "      <td>За билетом!</td>\n",
       "      <td>4</td>\n",
       "      <td>13984.16</td>\n",
       "      <td>75.0</td>\n",
       "    </tr>\n",
       "    <tr>\n",
       "      <th>3</th>\n",
       "      <td>1139875</td>\n",
       "      <td>000898990054619</td>\n",
       "      <td>2024-07-13</td>\n",
       "      <td>2024-07-13 19:40:48</td>\n",
       "      <td>387271</td>\n",
       "      <td>нет</td>\n",
       "      <td>0</td>\n",
       "      <td>rub</td>\n",
       "      <td>mobile</td>\n",
       "      <td>8.49</td>\n",
       "      <td>Лови билет!</td>\n",
       "      <td>2</td>\n",
       "      <td>212.28</td>\n",
       "      <td>NaN</td>\n",
       "    </tr>\n",
       "    <tr>\n",
       "      <th>4</th>\n",
       "      <td>972400</td>\n",
       "      <td>000898990054619</td>\n",
       "      <td>2024-10-04</td>\n",
       "      <td>2024-10-04 22:33:15</td>\n",
       "      <td>509453</td>\n",
       "      <td>нет</td>\n",
       "      <td>18</td>\n",
       "      <td>rub</td>\n",
       "      <td>mobile</td>\n",
       "      <td>1390.41</td>\n",
       "      <td>Билеты без проблем</td>\n",
       "      <td>3</td>\n",
       "      <td>10695.43</td>\n",
       "      <td>83.0</td>\n",
       "    </tr>\n",
       "  </tbody>\n",
       "</table>\n",
       "</div>"
      ],
      "text/plain": [
       "   order_id          user_id created_dt_msk       created_ts_msk  event_id  \\\n",
       "0   4359165  0002849b70a3ce2     2024-08-20  2024-08-20 16:08:03    169230   \n",
       "1   7965605  0005ca5e93f2cf4     2024-07-23  2024-07-23 18:36:24    237325   \n",
       "2   7292370  0005ca5e93f2cf4     2024-10-06  2024-10-06 13:56:02    578454   \n",
       "3   1139875  000898990054619     2024-07-13  2024-07-13 19:40:48    387271   \n",
       "4    972400  000898990054619     2024-10-04  2024-10-04 22:33:15    509453   \n",
       "\n",
       "  cinema_circuit  age_limit currency_code device_type_canonical  revenue  \\\n",
       "0            нет         16           rub                mobile  1521.94   \n",
       "1            нет          0           rub                mobile   289.45   \n",
       "2            нет          0           rub                mobile  1258.57   \n",
       "3            нет          0           rub                mobile     8.49   \n",
       "4            нет         18           rub                mobile  1390.41   \n",
       "\n",
       "         service_name  tickets_count     total  days_since_prev  \n",
       "0        Край билетов              4  10870.99              NaN  \n",
       "1           Мой билет              2   2067.51              NaN  \n",
       "2         За билетом!              4  13984.16             75.0  \n",
       "3         Лови билет!              2    212.28              NaN  \n",
       "4  Билеты без проблем              3  10695.43             83.0  "
      ]
     },
     "execution_count": 4,
     "metadata": {},
     "output_type": "execute_result"
    }
   ],
   "source": [
    "# Выведем первые строки датасета tickets_orders_df\n",
    "tickets_orders_df.head()"
   ]
  },
  {
   "cell_type": "markdown",
   "metadata": {},
   "source": [
    "Датасет `tickets_orders_df` содержит 14 столбцов и 290849 строк.\n",
    "\n",
    "После первичного анализа данных можно сделать следующие выводы:\n",
    " - Названия столбцов единого вида и не требуют переименования.\n",
    " - Представленные данные хранятся в типах данных `object`, `int64` и `float64`. \n",
    " - Значения в столбцах `created_dt_msk` и `created_ts_msk` показывают дату (и время) создания заказа, их тип данных следует привести к типу времени и даты. \n",
    "   Значения в остальных столбцах имеют верный тип данных.\n",
    " - Пропуски содержатся только в столбце `days_since_pre`, что объясняется данными в столбце - пропуски в нем возможны. \n",
    " - Значения в столбцах соответствуют своему описанию.\n",
    "\n",
    "Познакомимся с данными датасета `tickets_events_df`: выведем о них общую информацию и первые строки датасета."
   ]
  },
  {
   "cell_type": "code",
   "execution_count": 5,
   "metadata": {},
   "outputs": [
    {
     "name": "stdout",
     "output_type": "stream",
     "text": [
      "<class 'pandas.core.frame.DataFrame'>\n",
      "RangeIndex: 22427 entries, 0 to 22426\n",
      "Data columns (total 11 columns):\n",
      " #   Column                  Non-Null Count  Dtype \n",
      "---  ------                  --------------  ----- \n",
      " 0   event_id                22427 non-null  int64 \n",
      " 1   event_name              22427 non-null  object\n",
      " 2   event_type_description  22427 non-null  object\n",
      " 3   event_type_main         22427 non-null  object\n",
      " 4   organizers              22427 non-null  object\n",
      " 5   region_name             22427 non-null  object\n",
      " 6   city_name               22427 non-null  object\n",
      " 7   city_id                 22427 non-null  int64 \n",
      " 8   venue_id                22427 non-null  int64 \n",
      " 9   venue_name              22427 non-null  object\n",
      " 10  venue_address           22427 non-null  object\n",
      "dtypes: int64(3), object(8)\n",
      "memory usage: 1.9+ MB\n"
     ]
    }
   ],
   "source": [
    "# Выведем информацию о датасете tickets_events_df\n",
    "tickets_events_df.info()"
   ]
  },
  {
   "cell_type": "code",
   "execution_count": 6,
   "metadata": {},
   "outputs": [
    {
     "data": {
      "text/html": [
       "<div>\n",
       "<style scoped>\n",
       "    .dataframe tbody tr th:only-of-type {\n",
       "        vertical-align: middle;\n",
       "    }\n",
       "\n",
       "    .dataframe tbody tr th {\n",
       "        vertical-align: top;\n",
       "    }\n",
       "\n",
       "    .dataframe thead th {\n",
       "        text-align: right;\n",
       "    }\n",
       "</style>\n",
       "<table border=\"1\" class=\"dataframe\">\n",
       "  <thead>\n",
       "    <tr style=\"text-align: right;\">\n",
       "      <th></th>\n",
       "      <th>event_id</th>\n",
       "      <th>event_name</th>\n",
       "      <th>event_type_description</th>\n",
       "      <th>event_type_main</th>\n",
       "      <th>organizers</th>\n",
       "      <th>region_name</th>\n",
       "      <th>city_name</th>\n",
       "      <th>city_id</th>\n",
       "      <th>venue_id</th>\n",
       "      <th>venue_name</th>\n",
       "      <th>venue_address</th>\n",
       "    </tr>\n",
       "  </thead>\n",
       "  <tbody>\n",
       "    <tr>\n",
       "      <th>0</th>\n",
       "      <td>4436</td>\n",
       "      <td>e4f26fba-da77-4c61-928a-6c3e434d793f</td>\n",
       "      <td>спектакль</td>\n",
       "      <td>театр</td>\n",
       "      <td>№4893</td>\n",
       "      <td>Североярская область</td>\n",
       "      <td>Озёрск</td>\n",
       "      <td>2</td>\n",
       "      <td>1600</td>\n",
       "      <td>Кладбище искусств \"Проблема\" и партнеры</td>\n",
       "      <td>наб. Загородная, д. 785</td>\n",
       "    </tr>\n",
       "    <tr>\n",
       "      <th>1</th>\n",
       "      <td>5785</td>\n",
       "      <td>5cc08a60-fdea-4186-9bb2-bffc3603fb77</td>\n",
       "      <td>спектакль</td>\n",
       "      <td>театр</td>\n",
       "      <td>№1931</td>\n",
       "      <td>Светополянский округ</td>\n",
       "      <td>Глиноград</td>\n",
       "      <td>54</td>\n",
       "      <td>2196</td>\n",
       "      <td>Лекции по искусству \"Свет\" Групп</td>\n",
       "      <td>ул. Ягодная, д. 942</td>\n",
       "    </tr>\n",
       "    <tr>\n",
       "      <th>2</th>\n",
       "      <td>8817</td>\n",
       "      <td>8e379a89-3a10-4811-ba06-ec22ebebe989</td>\n",
       "      <td>спектакль</td>\n",
       "      <td>театр</td>\n",
       "      <td>№4896</td>\n",
       "      <td>Североярская область</td>\n",
       "      <td>Озёрск</td>\n",
       "      <td>2</td>\n",
       "      <td>4043</td>\n",
       "      <td>Кинокомитет \"Золотая\" Инк</td>\n",
       "      <td>ш. Коммуны, д. 92 стр. 6</td>\n",
       "    </tr>\n",
       "    <tr>\n",
       "      <th>3</th>\n",
       "      <td>8849</td>\n",
       "      <td>682e3129-6a32-4952-9d8a-ef7f60d4c247</td>\n",
       "      <td>спектакль</td>\n",
       "      <td>театр</td>\n",
       "      <td>№4960</td>\n",
       "      <td>Каменевский регион</td>\n",
       "      <td>Глиногорск</td>\n",
       "      <td>213</td>\n",
       "      <td>1987</td>\n",
       "      <td>Выставка ремесел \"Свет\" Лтд</td>\n",
       "      <td>пер. Набережный, д. 35</td>\n",
       "    </tr>\n",
       "    <tr>\n",
       "      <th>4</th>\n",
       "      <td>8850</td>\n",
       "      <td>d6e99176-c77f-4af0-9222-07c571f6c624</td>\n",
       "      <td>спектакль</td>\n",
       "      <td>театр</td>\n",
       "      <td>№4770</td>\n",
       "      <td>Лесодальний край</td>\n",
       "      <td>Родниковец</td>\n",
       "      <td>55</td>\n",
       "      <td>4230</td>\n",
       "      <td>Фестивальный проект \"Листья\" Групп</td>\n",
       "      <td>пер. Проезжий, д. 9</td>\n",
       "    </tr>\n",
       "  </tbody>\n",
       "</table>\n",
       "</div>"
      ],
      "text/plain": [
       "   event_id                            event_name event_type_description  \\\n",
       "0      4436  e4f26fba-da77-4c61-928a-6c3e434d793f              спектакль   \n",
       "1      5785  5cc08a60-fdea-4186-9bb2-bffc3603fb77              спектакль   \n",
       "2      8817  8e379a89-3a10-4811-ba06-ec22ebebe989              спектакль   \n",
       "3      8849  682e3129-6a32-4952-9d8a-ef7f60d4c247              спектакль   \n",
       "4      8850  d6e99176-c77f-4af0-9222-07c571f6c624              спектакль   \n",
       "\n",
       "  event_type_main organizers           region_name   city_name  city_id  \\\n",
       "0           театр      №4893  Североярская область      Озёрск        2   \n",
       "1           театр      №1931  Светополянский округ   Глиноград       54   \n",
       "2           театр      №4896  Североярская область      Озёрск        2   \n",
       "3           театр      №4960    Каменевский регион  Глиногорск      213   \n",
       "4           театр      №4770      Лесодальний край  Родниковец       55   \n",
       "\n",
       "   venue_id                               venue_name             venue_address  \n",
       "0      1600  Кладбище искусств \"Проблема\" и партнеры   наб. Загородная, д. 785  \n",
       "1      2196         Лекции по искусству \"Свет\" Групп       ул. Ягодная, д. 942  \n",
       "2      4043                Кинокомитет \"Золотая\" Инк  ш. Коммуны, д. 92 стр. 6  \n",
       "3      1987              Выставка ремесел \"Свет\" Лтд    пер. Набережный, д. 35  \n",
       "4      4230       Фестивальный проект \"Листья\" Групп       пер. Проезжий, д. 9  "
      ]
     },
     "execution_count": 6,
     "metadata": {},
     "output_type": "execute_result"
    }
   ],
   "source": [
    "# Выведем первые строки датасета tickets_events_df\n",
    "tickets_events_df.head()"
   ]
  },
  {
   "cell_type": "markdown",
   "metadata": {},
   "source": [
    "Датасет `tickets_events_df` содержит 11 столбцов и 22427 строк.\n",
    "\n",
    "После первичного анализа данных можно сделать следующие выводы:\n",
    " - Названия столбцов единого вида и не требуют переименования.\n",
    " - Представленные данные хранятся в типах данных `object` и `int64`. \n",
    " - Значения в столбцах имеют верный тип данных.\n",
    " - Пропуски в столбцах отсутствуют. \n",
    " - Значения в столбцах соответствуют своему описанию.\n",
    "\n",
    "Познакомимся с данными датасета `tickets_tenge_df`: выведем о них общую информацию и первые строки датасета."
   ]
  },
  {
   "cell_type": "code",
   "execution_count": 7,
   "metadata": {},
   "outputs": [
    {
     "name": "stdout",
     "output_type": "stream",
     "text": [
      "<class 'pandas.core.frame.DataFrame'>\n",
      "RangeIndex: 357 entries, 0 to 356\n",
      "Data columns (total 4 columns):\n",
      " #   Column   Non-Null Count  Dtype  \n",
      "---  ------   --------------  -----  \n",
      " 0   data     357 non-null    object \n",
      " 1   nominal  357 non-null    int64  \n",
      " 2   curs     357 non-null    float64\n",
      " 3   cdx      357 non-null    object \n",
      "dtypes: float64(1), int64(1), object(2)\n",
      "memory usage: 11.3+ KB\n"
     ]
    }
   ],
   "source": [
    "# Выведем информацию о датасете tickets_tenge_df\n",
    "tickets_tenge_df.info()"
   ]
  },
  {
   "cell_type": "code",
   "execution_count": 8,
   "metadata": {},
   "outputs": [
    {
     "data": {
      "text/html": [
       "<div>\n",
       "<style scoped>\n",
       "    .dataframe tbody tr th:only-of-type {\n",
       "        vertical-align: middle;\n",
       "    }\n",
       "\n",
       "    .dataframe tbody tr th {\n",
       "        vertical-align: top;\n",
       "    }\n",
       "\n",
       "    .dataframe thead th {\n",
       "        text-align: right;\n",
       "    }\n",
       "</style>\n",
       "<table border=\"1\" class=\"dataframe\">\n",
       "  <thead>\n",
       "    <tr style=\"text-align: right;\">\n",
       "      <th></th>\n",
       "      <th>data</th>\n",
       "      <th>nominal</th>\n",
       "      <th>curs</th>\n",
       "      <th>cdx</th>\n",
       "    </tr>\n",
       "  </thead>\n",
       "  <tbody>\n",
       "    <tr>\n",
       "      <th>0</th>\n",
       "      <td>2024-01-10</td>\n",
       "      <td>100</td>\n",
       "      <td>19.9391</td>\n",
       "      <td>kzt</td>\n",
       "    </tr>\n",
       "    <tr>\n",
       "      <th>1</th>\n",
       "      <td>2024-01-11</td>\n",
       "      <td>100</td>\n",
       "      <td>19.7255</td>\n",
       "      <td>kzt</td>\n",
       "    </tr>\n",
       "    <tr>\n",
       "      <th>2</th>\n",
       "      <td>2024-01-12</td>\n",
       "      <td>100</td>\n",
       "      <td>19.5839</td>\n",
       "      <td>kzt</td>\n",
       "    </tr>\n",
       "    <tr>\n",
       "      <th>3</th>\n",
       "      <td>2024-01-13</td>\n",
       "      <td>100</td>\n",
       "      <td>19.4501</td>\n",
       "      <td>kzt</td>\n",
       "    </tr>\n",
       "    <tr>\n",
       "      <th>4</th>\n",
       "      <td>2024-01-14</td>\n",
       "      <td>100</td>\n",
       "      <td>19.4501</td>\n",
       "      <td>kzt</td>\n",
       "    </tr>\n",
       "  </tbody>\n",
       "</table>\n",
       "</div>"
      ],
      "text/plain": [
       "         data  nominal     curs  cdx\n",
       "0  2024-01-10      100  19.9391  kzt\n",
       "1  2024-01-11      100  19.7255  kzt\n",
       "2  2024-01-12      100  19.5839  kzt\n",
       "3  2024-01-13      100  19.4501  kzt\n",
       "4  2024-01-14      100  19.4501  kzt"
      ]
     },
     "execution_count": 8,
     "metadata": {},
     "output_type": "execute_result"
    }
   ],
   "source": [
    "# Выведем первые строки датасета tickets_tenge_df\n",
    "tickets_tenge_df.head()"
   ]
  },
  {
   "cell_type": "markdown",
   "metadata": {},
   "source": [
    "Датасет `tickets_tenge_df` содержит 4 столбца и 357 строк.\n",
    "\n",
    "После первичного анализа данных можно сделать следующие выводы:\n",
    " - Названия столбцов единого вида и не требуют переименования.\n",
    " - Представленные данные хранятся в типах данных `object`, `float64` и `int64`. \n",
    " - Значения в столбцe `data` показывают дату, в которую существует определенных курс, его тип данных следует привести к типу времени и даты. Значения в остальных столбцах имеют верный тип данных.\n",
    " - Пропуски в столбцах отсутствуют. \n",
    " - Значения в столбцах соответствуют своему описанию."
   ]
  },
  {
   "cell_type": "markdown",
   "metadata": {},
   "source": [
    "## 2. Предобработка данных"
   ]
  },
  {
   "cell_type": "markdown",
   "metadata": {},
   "source": [
    "### 2.1 Объединение датасетов и работа с пропусками\n",
    "\n",
    "Перед проведением предобработки данных объединим два основных датасета `tickets_orders_df` и `tickets_events_df` в единый датасет `tickets_df`, а затем проведем предобработку данных."
   ]
  },
  {
   "cell_type": "code",
   "execution_count": 9,
   "metadata": {},
   "outputs": [
    {
     "data": {
      "text/html": [
       "<div>\n",
       "<style scoped>\n",
       "    .dataframe tbody tr th:only-of-type {\n",
       "        vertical-align: middle;\n",
       "    }\n",
       "\n",
       "    .dataframe tbody tr th {\n",
       "        vertical-align: top;\n",
       "    }\n",
       "\n",
       "    .dataframe thead th {\n",
       "        text-align: right;\n",
       "    }\n",
       "</style>\n",
       "<table border=\"1\" class=\"dataframe\">\n",
       "  <thead>\n",
       "    <tr style=\"text-align: right;\">\n",
       "      <th></th>\n",
       "      <th>order_id</th>\n",
       "      <th>user_id</th>\n",
       "      <th>created_dt_msk</th>\n",
       "      <th>created_ts_msk</th>\n",
       "      <th>event_id</th>\n",
       "      <th>cinema_circuit</th>\n",
       "      <th>age_limit</th>\n",
       "      <th>currency_code</th>\n",
       "      <th>device_type_canonical</th>\n",
       "      <th>revenue</th>\n",
       "      <th>...</th>\n",
       "      <th>event_name</th>\n",
       "      <th>event_type_description</th>\n",
       "      <th>event_type_main</th>\n",
       "      <th>organizers</th>\n",
       "      <th>region_name</th>\n",
       "      <th>city_name</th>\n",
       "      <th>city_id</th>\n",
       "      <th>venue_id</th>\n",
       "      <th>venue_name</th>\n",
       "      <th>venue_address</th>\n",
       "    </tr>\n",
       "  </thead>\n",
       "  <tbody>\n",
       "    <tr>\n",
       "      <th>0</th>\n",
       "      <td>4359165</td>\n",
       "      <td>0002849b70a3ce2</td>\n",
       "      <td>2024-08-20</td>\n",
       "      <td>2024-08-20 16:08:03</td>\n",
       "      <td>169230</td>\n",
       "      <td>нет</td>\n",
       "      <td>16</td>\n",
       "      <td>rub</td>\n",
       "      <td>mobile</td>\n",
       "      <td>1521.94</td>\n",
       "      <td>...</td>\n",
       "      <td>f0f7b271-04eb-4af6-bcb8-8f05cf46d6ad</td>\n",
       "      <td>спектакль</td>\n",
       "      <td>театр</td>\n",
       "      <td>№3322</td>\n",
       "      <td>Каменевский регион</td>\n",
       "      <td>Глиногорск</td>\n",
       "      <td>213.0</td>\n",
       "      <td>3972.0</td>\n",
       "      <td>Сценический центр \"Деталь\" Групп</td>\n",
       "      <td>алл. Машиностроителей, д. 19 стр. 6</td>\n",
       "    </tr>\n",
       "    <tr>\n",
       "      <th>1</th>\n",
       "      <td>7965605</td>\n",
       "      <td>0005ca5e93f2cf4</td>\n",
       "      <td>2024-07-23</td>\n",
       "      <td>2024-07-23 18:36:24</td>\n",
       "      <td>237325</td>\n",
       "      <td>нет</td>\n",
       "      <td>0</td>\n",
       "      <td>rub</td>\n",
       "      <td>mobile</td>\n",
       "      <td>289.45</td>\n",
       "      <td>...</td>\n",
       "      <td>40efeb04-81b7-4135-b41f-708ff00cc64c</td>\n",
       "      <td>событие</td>\n",
       "      <td>выставки</td>\n",
       "      <td>№4850</td>\n",
       "      <td>Каменевский регион</td>\n",
       "      <td>Глиногорск</td>\n",
       "      <td>213.0</td>\n",
       "      <td>2941.0</td>\n",
       "      <td>Музыкальная школа для детей \"Аккаунт\" Лтд</td>\n",
       "      <td>алл. Шмидта, д. 9 стр. 4</td>\n",
       "    </tr>\n",
       "    <tr>\n",
       "      <th>2</th>\n",
       "      <td>7292370</td>\n",
       "      <td>0005ca5e93f2cf4</td>\n",
       "      <td>2024-10-06</td>\n",
       "      <td>2024-10-06 13:56:02</td>\n",
       "      <td>578454</td>\n",
       "      <td>нет</td>\n",
       "      <td>0</td>\n",
       "      <td>rub</td>\n",
       "      <td>mobile</td>\n",
       "      <td>1258.57</td>\n",
       "      <td>...</td>\n",
       "      <td>01f3fb7b-ed07-4f94-b1d3-9a2e1ee5a8ca</td>\n",
       "      <td>цирковое шоу</td>\n",
       "      <td>другое</td>\n",
       "      <td>№1540</td>\n",
       "      <td>Каменевский регион</td>\n",
       "      <td>Глиногорск</td>\n",
       "      <td>213.0</td>\n",
       "      <td>4507.0</td>\n",
       "      <td>Училище искусств \"Нирвана\" Инк</td>\n",
       "      <td>алл. Юбилейная, д. 5/6</td>\n",
       "    </tr>\n",
       "    <tr>\n",
       "      <th>3</th>\n",
       "      <td>1139875</td>\n",
       "      <td>000898990054619</td>\n",
       "      <td>2024-07-13</td>\n",
       "      <td>2024-07-13 19:40:48</td>\n",
       "      <td>387271</td>\n",
       "      <td>нет</td>\n",
       "      <td>0</td>\n",
       "      <td>rub</td>\n",
       "      <td>mobile</td>\n",
       "      <td>8.49</td>\n",
       "      <td>...</td>\n",
       "      <td>2f638715-8844-466c-b43f-378a627c419f</td>\n",
       "      <td>выставка</td>\n",
       "      <td>другое</td>\n",
       "      <td>№5049</td>\n",
       "      <td>Североярская область</td>\n",
       "      <td>Озёрск</td>\n",
       "      <td>2.0</td>\n",
       "      <td>3574.0</td>\n",
       "      <td>Театр альтернативного искусства \"Ода\" Лимитед</td>\n",
       "      <td>алл. Есенина, д. 243 к. 3/8</td>\n",
       "    </tr>\n",
       "    <tr>\n",
       "      <th>4</th>\n",
       "      <td>972400</td>\n",
       "      <td>000898990054619</td>\n",
       "      <td>2024-10-04</td>\n",
       "      <td>2024-10-04 22:33:15</td>\n",
       "      <td>509453</td>\n",
       "      <td>нет</td>\n",
       "      <td>18</td>\n",
       "      <td>rub</td>\n",
       "      <td>mobile</td>\n",
       "      <td>1390.41</td>\n",
       "      <td>...</td>\n",
       "      <td>10d805d3-9809-4d8a-834e-225b7d03f95d</td>\n",
       "      <td>шоу</td>\n",
       "      <td>стендап</td>\n",
       "      <td>№832</td>\n",
       "      <td>Озернинский край</td>\n",
       "      <td>Родниковецк</td>\n",
       "      <td>240.0</td>\n",
       "      <td>1896.0</td>\n",
       "      <td>Театр кукол \"Огни\" Инкорпорэйтед</td>\n",
       "      <td>ш. Набережное, д. 595 стр. 8</td>\n",
       "    </tr>\n",
       "    <tr>\n",
       "      <th>...</th>\n",
       "      <td>...</td>\n",
       "      <td>...</td>\n",
       "      <td>...</td>\n",
       "      <td>...</td>\n",
       "      <td>...</td>\n",
       "      <td>...</td>\n",
       "      <td>...</td>\n",
       "      <td>...</td>\n",
       "      <td>...</td>\n",
       "      <td>...</td>\n",
       "      <td>...</td>\n",
       "      <td>...</td>\n",
       "      <td>...</td>\n",
       "      <td>...</td>\n",
       "      <td>...</td>\n",
       "      <td>...</td>\n",
       "      <td>...</td>\n",
       "      <td>...</td>\n",
       "      <td>...</td>\n",
       "      <td>...</td>\n",
       "      <td>...</td>\n",
       "    </tr>\n",
       "    <tr>\n",
       "      <th>290844</th>\n",
       "      <td>368620</td>\n",
       "      <td>fffcd3dde79eb2c</td>\n",
       "      <td>2024-10-27</td>\n",
       "      <td>2024-10-27 18:00:57</td>\n",
       "      <td>33189</td>\n",
       "      <td>нет</td>\n",
       "      <td>6</td>\n",
       "      <td>rub</td>\n",
       "      <td>mobile</td>\n",
       "      <td>965.57</td>\n",
       "      <td>...</td>\n",
       "      <td>e3dcdb45-9eaa-4ce4-9b85-1562e548172e</td>\n",
       "      <td>цирковое шоу</td>\n",
       "      <td>другое</td>\n",
       "      <td>№1823</td>\n",
       "      <td>Каменевский регион</td>\n",
       "      <td>Глиногорск</td>\n",
       "      <td>213.0</td>\n",
       "      <td>3952.0</td>\n",
       "      <td>Творческое объединение \"Модуль\" Инкорпорэйтед</td>\n",
       "      <td>алл. Глинки, д. 9/8 к. 67</td>\n",
       "    </tr>\n",
       "    <tr>\n",
       "      <th>290845</th>\n",
       "      <td>368562</td>\n",
       "      <td>fffcd3dde79eb2c</td>\n",
       "      <td>2024-10-27</td>\n",
       "      <td>2024-10-27 17:53:53</td>\n",
       "      <td>33189</td>\n",
       "      <td>нет</td>\n",
       "      <td>6</td>\n",
       "      <td>rub</td>\n",
       "      <td>mobile</td>\n",
       "      <td>1448.36</td>\n",
       "      <td>...</td>\n",
       "      <td>e3dcdb45-9eaa-4ce4-9b85-1562e548172e</td>\n",
       "      <td>цирковое шоу</td>\n",
       "      <td>другое</td>\n",
       "      <td>№1823</td>\n",
       "      <td>Каменевский регион</td>\n",
       "      <td>Глиногорск</td>\n",
       "      <td>213.0</td>\n",
       "      <td>3952.0</td>\n",
       "      <td>Творческое объединение \"Модуль\" Инкорпорэйтед</td>\n",
       "      <td>алл. Глинки, д. 9/8 к. 67</td>\n",
       "    </tr>\n",
       "    <tr>\n",
       "      <th>290846</th>\n",
       "      <td>8473772</td>\n",
       "      <td>fffcd3dde79eb2c</td>\n",
       "      <td>2024-10-30</td>\n",
       "      <td>2024-10-30 13:37:43</td>\n",
       "      <td>205231</td>\n",
       "      <td>нет</td>\n",
       "      <td>16</td>\n",
       "      <td>rub</td>\n",
       "      <td>desktop</td>\n",
       "      <td>178.95</td>\n",
       "      <td>...</td>\n",
       "      <td>74883818-57a6-494a-b162-bb0260877cbf</td>\n",
       "      <td>спектакль</td>\n",
       "      <td>театр</td>\n",
       "      <td>№4837</td>\n",
       "      <td>Каменевский регион</td>\n",
       "      <td>Глиногорск</td>\n",
       "      <td>213.0</td>\n",
       "      <td>3470.0</td>\n",
       "      <td>Клуб киноманов \"Верность\" Лтд</td>\n",
       "      <td>пр. Титова, д. 5 стр. 68</td>\n",
       "    </tr>\n",
       "    <tr>\n",
       "      <th>290847</th>\n",
       "      <td>5526067</td>\n",
       "      <td>fffeeb3c120cf0b</td>\n",
       "      <td>2024-09-24</td>\n",
       "      <td>2024-09-24 10:07:42</td>\n",
       "      <td>454526</td>\n",
       "      <td>нет</td>\n",
       "      <td>18</td>\n",
       "      <td>rub</td>\n",
       "      <td>desktop</td>\n",
       "      <td>661.53</td>\n",
       "      <td>...</td>\n",
       "      <td>6f4c6a50-0106-407b-8f54-332c740b01da</td>\n",
       "      <td>шоу</td>\n",
       "      <td>стендап</td>\n",
       "      <td>№998</td>\n",
       "      <td>Широковская область</td>\n",
       "      <td>Ягодиновка</td>\n",
       "      <td>239.0</td>\n",
       "      <td>2449.0</td>\n",
       "      <td>Гильдия художников \"Флит\" Инк</td>\n",
       "      <td>пр. Макарова, д. 4</td>\n",
       "    </tr>\n",
       "    <tr>\n",
       "      <th>290848</th>\n",
       "      <td>813654</td>\n",
       "      <td>ffff00725179321</td>\n",
       "      <td>2024-09-25</td>\n",
       "      <td>2024-09-25 15:12:40</td>\n",
       "      <td>284965</td>\n",
       "      <td>нет</td>\n",
       "      <td>16</td>\n",
       "      <td>rub</td>\n",
       "      <td>mobile</td>\n",
       "      <td>802.25</td>\n",
       "      <td>...</td>\n",
       "      <td>58574140-962c-49a3-af70-b773a05661a3</td>\n",
       "      <td>концерт</td>\n",
       "      <td>концерты</td>\n",
       "      <td>№2170</td>\n",
       "      <td>Малиновоярский округ</td>\n",
       "      <td>Верховино</td>\n",
       "      <td>197.0</td>\n",
       "      <td>4113.0</td>\n",
       "      <td>Мастерская живого действия \"Гардероб\" Лимитед</td>\n",
       "      <td>ш. 30 лет Победы, д. 38 стр. 664</td>\n",
       "    </tr>\n",
       "  </tbody>\n",
       "</table>\n",
       "<p>290849 rows × 24 columns</p>\n",
       "</div>"
      ],
      "text/plain": [
       "        order_id          user_id created_dt_msk       created_ts_msk  \\\n",
       "0        4359165  0002849b70a3ce2     2024-08-20  2024-08-20 16:08:03   \n",
       "1        7965605  0005ca5e93f2cf4     2024-07-23  2024-07-23 18:36:24   \n",
       "2        7292370  0005ca5e93f2cf4     2024-10-06  2024-10-06 13:56:02   \n",
       "3        1139875  000898990054619     2024-07-13  2024-07-13 19:40:48   \n",
       "4         972400  000898990054619     2024-10-04  2024-10-04 22:33:15   \n",
       "...          ...              ...            ...                  ...   \n",
       "290844    368620  fffcd3dde79eb2c     2024-10-27  2024-10-27 18:00:57   \n",
       "290845    368562  fffcd3dde79eb2c     2024-10-27  2024-10-27 17:53:53   \n",
       "290846   8473772  fffcd3dde79eb2c     2024-10-30  2024-10-30 13:37:43   \n",
       "290847   5526067  fffeeb3c120cf0b     2024-09-24  2024-09-24 10:07:42   \n",
       "290848    813654  ffff00725179321     2024-09-25  2024-09-25 15:12:40   \n",
       "\n",
       "        event_id cinema_circuit  age_limit currency_code  \\\n",
       "0         169230            нет         16           rub   \n",
       "1         237325            нет          0           rub   \n",
       "2         578454            нет          0           rub   \n",
       "3         387271            нет          0           rub   \n",
       "4         509453            нет         18           rub   \n",
       "...          ...            ...        ...           ...   \n",
       "290844     33189            нет          6           rub   \n",
       "290845     33189            нет          6           rub   \n",
       "290846    205231            нет         16           rub   \n",
       "290847    454526            нет         18           rub   \n",
       "290848    284965            нет         16           rub   \n",
       "\n",
       "       device_type_canonical  revenue  ...  \\\n",
       "0                     mobile  1521.94  ...   \n",
       "1                     mobile   289.45  ...   \n",
       "2                     mobile  1258.57  ...   \n",
       "3                     mobile     8.49  ...   \n",
       "4                     mobile  1390.41  ...   \n",
       "...                      ...      ...  ...   \n",
       "290844                mobile   965.57  ...   \n",
       "290845                mobile  1448.36  ...   \n",
       "290846               desktop   178.95  ...   \n",
       "290847               desktop   661.53  ...   \n",
       "290848                mobile   802.25  ...   \n",
       "\n",
       "                                  event_name  event_type_description  \\\n",
       "0       f0f7b271-04eb-4af6-bcb8-8f05cf46d6ad               спектакль   \n",
       "1       40efeb04-81b7-4135-b41f-708ff00cc64c                 событие   \n",
       "2       01f3fb7b-ed07-4f94-b1d3-9a2e1ee5a8ca            цирковое шоу   \n",
       "3       2f638715-8844-466c-b43f-378a627c419f                выставка   \n",
       "4       10d805d3-9809-4d8a-834e-225b7d03f95d                     шоу   \n",
       "...                                      ...                     ...   \n",
       "290844  e3dcdb45-9eaa-4ce4-9b85-1562e548172e            цирковое шоу   \n",
       "290845  e3dcdb45-9eaa-4ce4-9b85-1562e548172e            цирковое шоу   \n",
       "290846  74883818-57a6-494a-b162-bb0260877cbf               спектакль   \n",
       "290847  6f4c6a50-0106-407b-8f54-332c740b01da                     шоу   \n",
       "290848  58574140-962c-49a3-af70-b773a05661a3                 концерт   \n",
       "\n",
       "        event_type_main  organizers           region_name    city_name  \\\n",
       "0                 театр       №3322    Каменевский регион   Глиногорск   \n",
       "1              выставки       №4850    Каменевский регион   Глиногорск   \n",
       "2                другое       №1540    Каменевский регион   Глиногорск   \n",
       "3                другое       №5049  Североярская область       Озёрск   \n",
       "4               стендап        №832      Озернинский край  Родниковецк   \n",
       "...                 ...         ...                   ...          ...   \n",
       "290844           другое       №1823    Каменевский регион   Глиногорск   \n",
       "290845           другое       №1823    Каменевский регион   Глиногорск   \n",
       "290846            театр       №4837    Каменевский регион   Глиногорск   \n",
       "290847          стендап        №998   Широковская область   Ягодиновка   \n",
       "290848         концерты       №2170  Малиновоярский округ    Верховино   \n",
       "\n",
       "       city_id venue_id                                     venue_name  \\\n",
       "0        213.0   3972.0               Сценический центр \"Деталь\" Групп   \n",
       "1        213.0   2941.0      Музыкальная школа для детей \"Аккаунт\" Лтд   \n",
       "2        213.0   4507.0                 Училище искусств \"Нирвана\" Инк   \n",
       "3          2.0   3574.0  Театр альтернативного искусства \"Ода\" Лимитед   \n",
       "4        240.0   1896.0               Театр кукол \"Огни\" Инкорпорэйтед   \n",
       "...        ...      ...                                            ...   \n",
       "290844   213.0   3952.0  Творческое объединение \"Модуль\" Инкорпорэйтед   \n",
       "290845   213.0   3952.0  Творческое объединение \"Модуль\" Инкорпорэйтед   \n",
       "290846   213.0   3470.0                  Клуб киноманов \"Верность\" Лтд   \n",
       "290847   239.0   2449.0                  Гильдия художников \"Флит\" Инк   \n",
       "290848   197.0   4113.0  Мастерская живого действия \"Гардероб\" Лимитед   \n",
       "\n",
       "                              venue_address  \n",
       "0       алл. Машиностроителей, д. 19 стр. 6  \n",
       "1                  алл. Шмидта, д. 9 стр. 4  \n",
       "2                    алл. Юбилейная, д. 5/6  \n",
       "3               алл. Есенина, д. 243 к. 3/8  \n",
       "4              ш. Набережное, д. 595 стр. 8  \n",
       "...                                     ...  \n",
       "290844            алл. Глинки, д. 9/8 к. 67  \n",
       "290845            алл. Глинки, д. 9/8 к. 67  \n",
       "290846             пр. Титова, д. 5 стр. 68  \n",
       "290847                   пр. Макарова, д. 4  \n",
       "290848     ш. 30 лет Победы, д. 38 стр. 664  \n",
       "\n",
       "[290849 rows x 24 columns]"
      ]
     },
     "metadata": {},
     "output_type": "display_data"
    }
   ],
   "source": [
    "# Объединим таблицы в одну\n",
    "tickets_df = tickets_orders_df.merge(tickets_events_df, on='event_id', how='left')\n",
    "display(tickets_df) "
   ]
  },
  {
   "cell_type": "code",
   "execution_count": 10,
   "metadata": {},
   "outputs": [
    {
     "name": "stdout",
     "output_type": "stream",
     "text": [
      "<class 'pandas.core.frame.DataFrame'>\n",
      "Int64Index: 290849 entries, 0 to 290848\n",
      "Data columns (total 24 columns):\n",
      " #   Column                  Non-Null Count   Dtype  \n",
      "---  ------                  --------------   -----  \n",
      " 0   order_id                290849 non-null  int64  \n",
      " 1   user_id                 290849 non-null  object \n",
      " 2   created_dt_msk          290849 non-null  object \n",
      " 3   created_ts_msk          290849 non-null  object \n",
      " 4   event_id                290849 non-null  int64  \n",
      " 5   cinema_circuit          290849 non-null  object \n",
      " 6   age_limit               290849 non-null  int64  \n",
      " 7   currency_code           290849 non-null  object \n",
      " 8   device_type_canonical   290849 non-null  object \n",
      " 9   revenue                 290849 non-null  float64\n",
      " 10  service_name            290849 non-null  object \n",
      " 11  tickets_count           290849 non-null  int64  \n",
      " 12  total                   290849 non-null  float64\n",
      " 13  days_since_prev         268909 non-null  float64\n",
      " 14  event_name              290611 non-null  object \n",
      " 15  event_type_description  290611 non-null  object \n",
      " 16  event_type_main         290611 non-null  object \n",
      " 17  organizers              290611 non-null  object \n",
      " 18  region_name             290611 non-null  object \n",
      " 19  city_name               290611 non-null  object \n",
      " 20  city_id                 290611 non-null  float64\n",
      " 21  venue_id                290611 non-null  float64\n",
      " 22  venue_name              290611 non-null  object \n",
      " 23  venue_address           290611 non-null  object \n",
      "dtypes: float64(5), int64(4), object(15)\n",
      "memory usage: 55.5+ MB\n"
     ]
    }
   ],
   "source": [
    "# Выведем информацию о полученном датасете\n",
    "tickets_df.info()"
   ]
  },
  {
   "cell_type": "markdown",
   "metadata": {},
   "source": [
    "В полученной объединенной таблице `tickets_df` получилось 24 столбца и 290611 строки.\n",
    "Пропуски в данных присутствуют в столбце `days_since_prev`, что объясняется самими данными, а также во всех столбцах из таблицы с событиями. Посчитаем их количество."
   ]
  },
  {
   "cell_type": "code",
   "execution_count": 11,
   "metadata": {},
   "outputs": [
    {
     "data": {
      "text/plain": [
       "21940"
      ]
     },
     "execution_count": 11,
     "metadata": {},
     "output_type": "execute_result"
    }
   ],
   "source": [
    "# Посчитаем количество пропусков в столбце days_since_prev\n",
    "tickets_df['days_since_prev'].isna().sum()"
   ]
  },
  {
   "cell_type": "code",
   "execution_count": 12,
   "metadata": {},
   "outputs": [
    {
     "data": {
      "text/plain": [
       "7.5"
      ]
     },
     "execution_count": 12,
     "metadata": {},
     "output_type": "execute_result"
    }
   ],
   "source": [
    "# Посчитаепм долю пропусков в столбце days_since_prev \n",
    "round(100 * tickets_df['days_since_prev'].isna().mean(), 1)"
   ]
  },
  {
   "cell_type": "code",
   "execution_count": 13,
   "metadata": {},
   "outputs": [
    {
     "data": {
      "text/plain": [
       "238"
      ]
     },
     "execution_count": 13,
     "metadata": {},
     "output_type": "execute_result"
    }
   ],
   "source": [
    "# Посчитаем количество пропусков в столбце event_name\n",
    "tickets_df['event_name'].isna().sum()"
   ]
  },
  {
   "cell_type": "code",
   "execution_count": 14,
   "metadata": {},
   "outputs": [
    {
     "data": {
      "text/plain": [
       "0.08"
      ]
     },
     "execution_count": 14,
     "metadata": {},
     "output_type": "execute_result"
    }
   ],
   "source": [
    "# Посчитаепм долю пропусков в столбце event_name \n",
    "round(100 * tickets_df['event_name'].isna().mean(), 2)"
   ]
  },
  {
   "cell_type": "markdown",
   "metadata": {},
   "source": [
    "По полученным результатам видим, что доля пропусков в столбце `days_since_prev` составлявляет **7.5%** от общего количества строк, а доля пропусков в части таблицы про события на примере столбца `event_name` (т.к. количество пропусков в них одинаково) составляет **менее 1%** от общего количества данных.\n",
    "\n",
    "Так как столбец `days_since_prev` по своей сути может содержать пропуски, удалять их не будем.\n",
    "\n",
    "А пропуски в столбцах `event_name`, `event_type_description`, `event_type_main`, `organizers`, `region_name`, `city_name`, `city_id`, `venue_id`, `venue_name` и `venue_address` удалим, так как их доля относительно общего количества данных мала."
   ]
  },
  {
   "cell_type": "code",
   "execution_count": 15,
   "metadata": {},
   "outputs": [
    {
     "name": "stdout",
     "output_type": "stream",
     "text": [
      "<class 'pandas.core.frame.DataFrame'>\n",
      "Int64Index: 290611 entries, 0 to 290848\n",
      "Data columns (total 24 columns):\n",
      " #   Column                  Non-Null Count   Dtype  \n",
      "---  ------                  --------------   -----  \n",
      " 0   order_id                290611 non-null  int64  \n",
      " 1   user_id                 290611 non-null  object \n",
      " 2   created_dt_msk          290611 non-null  object \n",
      " 3   created_ts_msk          290611 non-null  object \n",
      " 4   event_id                290611 non-null  int64  \n",
      " 5   cinema_circuit          290611 non-null  object \n",
      " 6   age_limit               290611 non-null  int64  \n",
      " 7   currency_code           290611 non-null  object \n",
      " 8   device_type_canonical   290611 non-null  object \n",
      " 9   revenue                 290611 non-null  float64\n",
      " 10  service_name            290611 non-null  object \n",
      " 11  tickets_count           290611 non-null  int64  \n",
      " 12  total                   290611 non-null  float64\n",
      " 13  days_since_prev         268698 non-null  float64\n",
      " 14  event_name              290611 non-null  object \n",
      " 15  event_type_description  290611 non-null  object \n",
      " 16  event_type_main         290611 non-null  object \n",
      " 17  organizers              290611 non-null  object \n",
      " 18  region_name             290611 non-null  object \n",
      " 19  city_name               290611 non-null  object \n",
      " 20  city_id                 290611 non-null  float64\n",
      " 21  venue_id                290611 non-null  float64\n",
      " 22  venue_name              290611 non-null  object \n",
      " 23  venue_address           290611 non-null  object \n",
      "dtypes: float64(5), int64(4), object(15)\n",
      "memory usage: 55.4+ MB\n"
     ]
    }
   ],
   "source": [
    "# Удалим пропуски в столбцах event_name, event_type_description, event_type_main, \n",
    "# organizers, region_name, city_name, city_id, venue_id, venue_name и venue_address\n",
    "tickets_df_clean = tickets_df.dropna(subset = ['event_name', 'event_type_description', 'event_type_main', 'organizers', 'region_name',\n",
    "                                         'city_name', 'city_id', 'venue_id', 'venue_name', 'venue_address'])\n",
    "tickets_df_clean.info()"
   ]
  },
  {
   "cell_type": "markdown",
   "metadata": {},
   "source": [
    "Пропуски удалили.\n",
    "\n",
    "### 2.2 Работа с дубликатами\n",
    "\n",
    "Теперь проверим данные на явные и неявные дубликаты."
   ]
  },
  {
   "cell_type": "code",
   "execution_count": 16,
   "metadata": {},
   "outputs": [
    {
     "data": {
      "text/plain": [
       "0"
      ]
     },
     "execution_count": 16,
     "metadata": {},
     "output_type": "execute_result"
    }
   ],
   "source": [
    "# Проверим датасет на явные дубликаты\n",
    "tickets_df_clean.duplicated().sum()"
   ]
  },
  {
   "cell_type": "markdown",
   "metadata": {},
   "source": [
    "Явные дубликаты отсутствуют.\n",
    "\n",
    "Проверим данные на наличие неявных дубликатов. Проверим по столбцам `user_id`, `created_ts_msk`, `device_type_canonical`,  `service_name`, `event_id`, `revenue`, `total`, `event_id`."
   ]
  },
  {
   "cell_type": "code",
   "execution_count": 17,
   "metadata": {},
   "outputs": [
    {
     "data": {
      "text/plain": [
       "42"
      ]
     },
     "execution_count": 17,
     "metadata": {},
     "output_type": "execute_result"
    }
   ],
   "source": [
    "# Проверим данные на неявные дубликаты\n",
    "tickets_df_clean.duplicated(subset = ['user_id', 'created_ts_msk', 'device_type_canonical', \n",
    "                                'service_name', 'event_id', 'revenue', 'total', 'event_id']).sum()"
   ]
  },
  {
   "cell_type": "code",
   "execution_count": 18,
   "metadata": {},
   "outputs": [
    {
     "data": {
      "text/plain": [
       "0.014"
      ]
     },
     "execution_count": 18,
     "metadata": {},
     "output_type": "execute_result"
    }
   ],
   "source": [
    "# Посчитаем долю таких дубликатов\n",
    "round(100 * tickets_df_clean.duplicated(subset = ['user_id', 'created_ts_msk', 'device_type_canonical', \n",
    "                                'service_name', 'event_id', 'revenue', 'total', 'event_id']).mean(), 3)"
   ]
  },
  {
   "cell_type": "markdown",
   "metadata": {},
   "source": [
    "В данных содержатся 42 неявных дубликата, что составляет **0.014%** от общего количества данных. \n",
    "\n",
    "Посмотрим, что это за данные."
   ]
  },
  {
   "cell_type": "code",
   "execution_count": 19,
   "metadata": {},
   "outputs": [
    {
     "name": "stdout",
     "output_type": "stream",
     "text": [
      "        order_id          user_id created_dt_msk       created_ts_msk  \\\n",
      "11777    1123983  06eb7897f65b433     2024-08-13  2024-08-13 16:31:07   \n",
      "11778    1123867  06eb7897f65b433     2024-08-13  2024-08-13 16:31:07   \n",
      "26894    1930705  0dc525d7bacbb0d     2024-07-31  2024-07-31 13:26:11   \n",
      "26896    1930763  0dc525d7bacbb0d     2024-07-31  2024-07-31 13:26:11   \n",
      "53715    1935113  206ea45ec11d478     2024-10-29  2024-10-29 16:46:54   \n",
      "...          ...              ...            ...                  ...   \n",
      "285615   8548012  fd4d47438ebb946     2024-06-19  2024-06-19 15:40:56   \n",
      "285617   8548041  fd4d47438ebb946     2024-06-19  2024-06-19 15:40:50   \n",
      "285618   8548070  fd4d47438ebb946     2024-06-19  2024-06-19 15:40:50   \n",
      "285619   8548099  fd4d47438ebb946     2024-06-19  2024-06-19 15:40:56   \n",
      "285622   8547867  fd4d47438ebb946     2024-06-19  2024-06-19 15:40:56   \n",
      "\n",
      "        event_id cinema_circuit  age_limit currency_code  \\\n",
      "11777     183706            нет         18           rub   \n",
      "11778     183706            нет         18           rub   \n",
      "26894     393430            нет         18           rub   \n",
      "26896     393430            нет         18           rub   \n",
      "53715     442183            нет         16           rub   \n",
      "...          ...            ...        ...           ...   \n",
      "285615    489843            нет         18           rub   \n",
      "285617    489843            нет         18           rub   \n",
      "285618    489843            нет         18           rub   \n",
      "285619    489843            нет         18           rub   \n",
      "285622    489843            нет         18           rub   \n",
      "\n",
      "       device_type_canonical  revenue  ...  \\\n",
      "11777                 mobile    69.82  ...   \n",
      "11778                 mobile    69.82  ...   \n",
      "26894                desktop  1556.05  ...   \n",
      "26896                desktop  1556.05  ...   \n",
      "53715                 mobile   601.69  ...   \n",
      "...                      ...      ...  ...   \n",
      "285615               desktop  1319.43  ...   \n",
      "285617               desktop   989.57  ...   \n",
      "285618               desktop   989.57  ...   \n",
      "285619               desktop   989.57  ...   \n",
      "285622               desktop  1319.43  ...   \n",
      "\n",
      "                                  event_name  event_type_description  \\\n",
      "11777   69796237-909b-42a7-bfb5-c1b8574c4c76               спектакль   \n",
      "11778   69796237-909b-42a7-bfb5-c1b8574c4c76               спектакль   \n",
      "26894   b33d7a0b-a715-47e3-803e-02482884a73e                 концерт   \n",
      "26896   b33d7a0b-a715-47e3-803e-02482884a73e                 концерт   \n",
      "53715   dcf6f06f-8499-41d7-8bc2-a0e3d7afe313                 концерт   \n",
      "...                                      ...                     ...   \n",
      "285615  25a26bf3-cb70-4f37-a7f0-c97cc065d414               спектакль   \n",
      "285617  25a26bf3-cb70-4f37-a7f0-c97cc065d414               спектакль   \n",
      "285618  25a26bf3-cb70-4f37-a7f0-c97cc065d414               спектакль   \n",
      "285619  25a26bf3-cb70-4f37-a7f0-c97cc065d414               спектакль   \n",
      "285622  25a26bf3-cb70-4f37-a7f0-c97cc065d414               спектакль   \n",
      "\n",
      "        event_type_main  organizers           region_name   city_name city_id  \\\n",
      "11777             театр       №1482  Светополянский округ   Глиноград    54.0   \n",
      "11778             театр       №1482  Светополянский округ   Глиноград    54.0   \n",
      "26894          концерты       №5048    Каменевский регион  Глиногорск   213.0   \n",
      "26896          концерты       №5048    Каменевский регион  Глиногорск   213.0   \n",
      "53715          концерты        №894    Каменевский регион  Глиногорск   213.0   \n",
      "...                 ...         ...                   ...         ...     ...   \n",
      "285615            театр       №1858    Каменевский регион  Глиногорск   213.0   \n",
      "285617            театр       №1858    Каменевский регион  Глиногорск   213.0   \n",
      "285618            театр       №1858    Каменевский регион  Глиногорск   213.0   \n",
      "285619            театр       №1858    Каменевский регион  Глиногорск   213.0   \n",
      "285622            театр       №1858    Каменевский регион  Глиногорск   213.0   \n",
      "\n",
      "       venue_id                                         venue_name  \\\n",
      "11777    4443.0  Центр культурного наследия \"Объединение\" и пар...   \n",
      "11778    4443.0  Центр культурного наследия \"Объединение\" и пар...   \n",
      "26894    2704.0                    Летний фестиваль \"Симфония\" Лтд   \n",
      "26896    2704.0                    Летний фестиваль \"Симфония\" Лтд   \n",
      "53715    4363.0                  Студия дизайна \"Лестница\" Лимитед   \n",
      "...         ...                                                ...   \n",
      "285615   4017.0              Студия анимации \"Точка\" Инкорпорэйтед   \n",
      "285617   4017.0              Студия анимации \"Точка\" Инкорпорэйтед   \n",
      "285618   4017.0              Студия анимации \"Точка\" Инкорпорэйтед   \n",
      "285619   4017.0              Студия анимации \"Точка\" Инкорпорэйтед   \n",
      "285622   4017.0              Студия анимации \"Точка\" Инкорпорэйтед   \n",
      "\n",
      "                         venue_address  \n",
      "11777            бул. Карбышева, д. 50  \n",
      "11778            бул. Карбышева, д. 50  \n",
      "26894     бул. Боровой, д. 8/1 стр. 43  \n",
      "26896     бул. Боровой, д. 8/1 стр. 43  \n",
      "53715   наб. Школьная, д. 9/8 стр. 7/5  \n",
      "...                                ...  \n",
      "285615    алл. Тамбовская, д. 7 к. 827  \n",
      "285617    алл. Тамбовская, д. 7 к. 827  \n",
      "285618    алл. Тамбовская, д. 7 к. 827  \n",
      "285619    алл. Тамбовская, д. 7 к. 827  \n",
      "285622    алл. Тамбовская, д. 7 к. 827  \n",
      "\n",
      "[81 rows x 24 columns]\n"
     ]
    }
   ],
   "source": [
    "# Выведем получившиеся дубликаты\n",
    "print(tickets_df_clean[tickets_df_clean.duplicated(subset = ['user_id', 'created_ts_msk', 'device_type_canonical', \n",
    "                                'service_name', 'event_id', 'revenue', 'total', 'event_id'], keep=False)])"
   ]
  },
  {
   "cell_type": "markdown",
   "metadata": {},
   "source": [
    "По полученным данным видим, что дубликаты по перечисленным полям идентичны, отличаются только номером заказа. Так как нельзя создать 2 заказа в одно и тоже время, будем считать их ошибкой в данных и удалим."
   ]
  },
  {
   "cell_type": "code",
   "execution_count": 20,
   "metadata": {},
   "outputs": [
    {
     "data": {
      "text/plain": [
       "0"
      ]
     },
     "execution_count": 20,
     "metadata": {},
     "output_type": "execute_result"
    }
   ],
   "source": [
    "# Удалим найденные дубликаты\n",
    "tickets_df_clean = tickets_df_clean.drop_duplicates(subset = ['user_id', 'created_ts_msk', 'device_type_canonical', \n",
    "                                'service_name', 'event_id', 'revenue', 'total', 'event_id'])\n",
    "tickets_df_clean.duplicated(subset = ['user_id', 'created_ts_msk', 'device_type_canonical', \n",
    "                                'service_name', 'event_id', 'revenue', 'total', 'event_id']).sum()"
   ]
  },
  {
   "cell_type": "markdown",
   "metadata": {},
   "source": [
    "Данные очистили от дубликатов.\n",
    "\n",
    "### 2.3 Преобразование типов данных\n",
    "\n",
    "Теперь преобразуем тип данных для столбцов, содержащих дату и время, во временной."
   ]
  },
  {
   "cell_type": "code",
   "execution_count": 21,
   "metadata": {},
   "outputs": [],
   "source": [
    "# Преобразуем тип данных столбца created_dt_msk\n",
    "tickets_df_clean['created_dt_msk'] = pd.to_datetime(tickets_df_clean['created_dt_msk'])"
   ]
  },
  {
   "cell_type": "code",
   "execution_count": 22,
   "metadata": {},
   "outputs": [
    {
     "name": "stdout",
     "output_type": "stream",
     "text": [
      "<class 'pandas.core.frame.DataFrame'>\n",
      "Int64Index: 290569 entries, 0 to 290848\n",
      "Data columns (total 24 columns):\n",
      " #   Column                  Non-Null Count   Dtype         \n",
      "---  ------                  --------------   -----         \n",
      " 0   order_id                290569 non-null  int64         \n",
      " 1   user_id                 290569 non-null  object        \n",
      " 2   created_dt_msk          290569 non-null  datetime64[ns]\n",
      " 3   created_ts_msk          290569 non-null  datetime64[ns]\n",
      " 4   event_id                290569 non-null  int64         \n",
      " 5   cinema_circuit          290569 non-null  object        \n",
      " 6   age_limit               290569 non-null  int64         \n",
      " 7   currency_code           290569 non-null  object        \n",
      " 8   device_type_canonical   290569 non-null  object        \n",
      " 9   revenue                 290569 non-null  float64       \n",
      " 10  service_name            290569 non-null  object        \n",
      " 11  tickets_count           290569 non-null  int64         \n",
      " 12  total                   290569 non-null  float64       \n",
      " 13  days_since_prev         268656 non-null  float64       \n",
      " 14  event_name              290569 non-null  object        \n",
      " 15  event_type_description  290569 non-null  object        \n",
      " 16  event_type_main         290569 non-null  object        \n",
      " 17  organizers              290569 non-null  object        \n",
      " 18  region_name             290569 non-null  object        \n",
      " 19  city_name               290569 non-null  object        \n",
      " 20  city_id                 290569 non-null  float64       \n",
      " 21  venue_id                290569 non-null  float64       \n",
      " 22  venue_name              290569 non-null  object        \n",
      " 23  venue_address           290569 non-null  object        \n",
      "dtypes: datetime64[ns](2), float64(5), int64(4), object(13)\n",
      "memory usage: 55.4+ MB\n"
     ]
    }
   ],
   "source": [
    "# Преобразуем тип данных столбца created_ts_msk\n",
    "tickets_df_clean['created_ts_msk'] = pd.to_datetime(tickets_df_clean['created_ts_msk'])\n",
    "tickets_df_clean.info()"
   ]
  },
  {
   "cell_type": "code",
   "execution_count": 23,
   "metadata": {},
   "outputs": [
    {
     "name": "stdout",
     "output_type": "stream",
     "text": [
      "<class 'pandas.core.frame.DataFrame'>\n",
      "RangeIndex: 357 entries, 0 to 356\n",
      "Data columns (total 4 columns):\n",
      " #   Column   Non-Null Count  Dtype         \n",
      "---  ------   --------------  -----         \n",
      " 0   data     357 non-null    datetime64[ns]\n",
      " 1   nominal  357 non-null    int64         \n",
      " 2   curs     357 non-null    float64       \n",
      " 3   cdx      357 non-null    object        \n",
      "dtypes: datetime64[ns](1), float64(1), int64(1), object(1)\n",
      "memory usage: 11.3+ KB\n"
     ]
    }
   ],
   "source": [
    "# Преобразуем тип данных столбца data в таблице tickets_tenge_df\n",
    "tickets_tenge_df['data'] = pd.to_datetime(tickets_tenge_df['data'])\n",
    "tickets_tenge_df.info()"
   ]
  },
  {
   "cell_type": "markdown",
   "metadata": {},
   "source": [
    "Типы данных преобразованы.\n",
    "\n",
    "### 2.4 Изучение категориальных данных\n",
    "\n",
    "Изучим категориальные значения в столбцах."
   ]
  },
  {
   "cell_type": "code",
   "execution_count": 24,
   "metadata": {},
   "outputs": [
    {
     "data": {
      "text/plain": [
       "array(['нет', 'Другое', 'Киномакс', 'КиноСити', 'Москино', 'ЦентрФильм'],\n",
       "      dtype=object)"
      ]
     },
     "execution_count": 24,
     "metadata": {},
     "output_type": "execute_result"
    }
   ],
   "source": [
    "# Рассмотрим, какие категории присутствуют в столбце cinema_circuit\n",
    "tickets_df_clean['cinema_circuit'].unique()"
   ]
  },
  {
   "cell_type": "code",
   "execution_count": 25,
   "metadata": {},
   "outputs": [
    {
     "data": {
      "text/plain": [
       "array([16,  0, 18, 12,  6])"
      ]
     },
     "execution_count": 25,
     "metadata": {},
     "output_type": "execute_result"
    }
   ],
   "source": [
    "# Рассмотрим, какие категории присутствуют в столбце age_limit\n",
    "tickets_df_clean['age_limit'].unique()"
   ]
  },
  {
   "cell_type": "code",
   "execution_count": 26,
   "metadata": {},
   "outputs": [
    {
     "data": {
      "text/plain": [
       "array(['rub', 'kzt'], dtype=object)"
      ]
     },
     "execution_count": 26,
     "metadata": {},
     "output_type": "execute_result"
    }
   ],
   "source": [
    "# Рассмотрим, какие категории присутствуют в столбце currency_code\n",
    "tickets_df_clean['currency_code'].unique()"
   ]
  },
  {
   "cell_type": "code",
   "execution_count": 27,
   "metadata": {},
   "outputs": [
    {
     "data": {
      "text/plain": [
       "array(['mobile', 'desktop'], dtype=object)"
      ]
     },
     "execution_count": 27,
     "metadata": {},
     "output_type": "execute_result"
    }
   ],
   "source": [
    "# Рассмотрим, какие категории присутствуют в столбце device_type_canonical\n",
    "tickets_df_clean['device_type_canonical'].unique()"
   ]
  },
  {
   "cell_type": "code",
   "execution_count": 28,
   "metadata": {},
   "outputs": [
    {
     "data": {
      "text/plain": [
       "array(['Край билетов', 'Мой билет', 'За билетом!', 'Лови билет!',\n",
       "       'Билеты без проблем', 'Облачко', 'Лучшие билеты', 'Прачечная',\n",
       "       'Быстробилет', 'Дом культуры', 'Весь в билетах', 'Билеты в руки',\n",
       "       'Тебе билет!', 'Show_ticket', 'Городской дом культуры', 'Яблоко',\n",
       "       'Билет по телефону', 'Выступления.ру', 'Росбилет',\n",
       "       'Шоу начинается!', 'Мир касс', 'Восьмёрка', 'Телебилет',\n",
       "       'Crazy ticket!', 'Реестр', 'Быстрый кассир', 'КарандашРУ',\n",
       "       'Радио ticket', 'Дырокол', 'Вперёд!', 'Кино билет', 'Цвет и билет',\n",
       "       'Зе Бест!', 'Тех билет', 'Лимоны', 'Билеты в интернете'],\n",
       "      dtype=object)"
      ]
     },
     "execution_count": 28,
     "metadata": {},
     "output_type": "execute_result"
    }
   ],
   "source": [
    "# Рассмотрим, какие категории присутствуют в столбце service_name\n",
    "tickets_df_clean['service_name'].unique()"
   ]
  },
  {
   "cell_type": "code",
   "execution_count": 29,
   "metadata": {},
   "outputs": [
    {
     "data": {
      "text/plain": [
       "array(['спектакль', 'событие', 'цирковое шоу', 'выставка', 'шоу',\n",
       "       'концерт', 'спорт', 'мюзикл', 'фестиваль', 'ёлка', 'балет',\n",
       "       'спортивное мероприятие', 'опера', 'музыкальный спектакль',\n",
       "       'кукольный спектакль', 'оперетта', 'снегурочка', 'рок-мюзикл',\n",
       "       'экскурсия', 'подарок'], dtype=object)"
      ]
     },
     "execution_count": 29,
     "metadata": {},
     "output_type": "execute_result"
    }
   ],
   "source": [
    "# Рассмотрим, какие категории присутствуют в столбце event_type_description\n",
    "tickets_df_clean['event_type_description'].unique()"
   ]
  },
  {
   "cell_type": "code",
   "execution_count": 30,
   "metadata": {},
   "outputs": [
    {
     "data": {
      "text/plain": [
       "array(['театр', 'выставки', 'другое', 'стендап', 'концерты', 'спорт',\n",
       "       'ёлки'], dtype=object)"
      ]
     },
     "execution_count": 30,
     "metadata": {},
     "output_type": "execute_result"
    }
   ],
   "source": [
    "# Рассмотрим, какие категории присутствуют в столбце event_type_main\n",
    "tickets_df_clean['event_type_main'].unique()"
   ]
  },
  {
   "cell_type": "code",
   "execution_count": 31,
   "metadata": {},
   "outputs": [
    {
     "data": {
      "text/plain": [
       "array(['Каменевский регион', 'Североярская область', 'Озернинский край',\n",
       "       'Лугоградская область', 'Поленовский край', 'Широковская область',\n",
       "       'Медовская область', 'Златопольский округ', 'Малиновоярский округ',\n",
       "       'Яблоневская область', 'Ветренский регион', 'Боровлянский край',\n",
       "       'Крутоводская область', 'Ягодиновская область',\n",
       "       'Серебряноярский округ', 'Лесодальний край', 'Верхоречная область',\n",
       "       'Горицветская область', 'Речиновская область', 'Травиницкий округ',\n",
       "       'Сосновская область', 'Серебринская область', 'Травяная область',\n",
       "       'Каменноярский край', 'Солнечноземская область',\n",
       "       'Светополянский округ', 'Заречная область', 'Ручейковский край',\n",
       "       'Глиногорская область', 'Тепляковская область',\n",
       "       'Каменноозёрный край', 'Солнечнореченская область',\n",
       "       'Зоринский регион', 'Берёзовская область', 'Лесостепной край',\n",
       "       'Малиновая область', 'Синегорский регион', 'Луговая область',\n",
       "       'Шанырский регион', 'Каменополянский округ', 'Речицкая область',\n",
       "       'Горностепной регион', 'Речицкий регион', 'Золотоключевской край',\n",
       "       'Лесоярская область', 'Зеленоградский округ',\n",
       "       'Миропольская область', 'Дальнеземская область',\n",
       "       'Озернопольская область', 'Берестовский округ',\n",
       "       'Ключеводский округ', 'Нежинская область', 'Дальнезорский край',\n",
       "       'Вишнёвский край', 'Каменичская область', 'Голубевский округ',\n",
       "       'Тихогорская область', 'Крутоводский регион',\n",
       "       'Чистогорская область', 'Североозёрский округ', 'Тихолесский край',\n",
       "       'Кристальная область', 'Горноземский регион',\n",
       "       'Радужнопольский край', 'Белоярская область', 'Островная область',\n",
       "       'Тихореченская область', 'Кристаловская область',\n",
       "       'Яснопольский округ', 'Островогорский округ',\n",
       "       'Радужногорская область', 'Дубравная область', 'Залесский край',\n",
       "       'Североключевской округ', 'Верховинская область',\n",
       "       'Светолесский край', 'Сосноводолинская область',\n",
       "       'Верхозёрский край', 'Лесноярский край', 'Теплоозёрский округ',\n",
       "       'Лесополянская область'], dtype=object)"
      ]
     },
     "execution_count": 31,
     "metadata": {},
     "output_type": "execute_result"
    }
   ],
   "source": [
    "# Рассмотрим, какие категории присутствуют в столбце region_name\n",
    "tickets_df_clean['region_name'].unique()"
   ]
  },
  {
   "cell_type": "code",
   "execution_count": 32,
   "metadata": {},
   "outputs": [
    {
     "data": {
      "text/plain": [
       "array(['Глиногорск', 'Озёрск', 'Родниковецк', 'Кристалевск',\n",
       "       'Дальнозолотск', 'Радужнополье', 'Радужсвет', 'Кумсай',\n",
       "       'Верховино', 'Светополье', 'Кокжар', 'Каменский', 'Лесоярич',\n",
       "       'Никольянов', 'Речинцево', 'Лесозолотск', 'Дальнозерск',\n",
       "       'Серебрянка', 'Островецк', 'Родниковец', 'Дальнесветск',\n",
       "       'Луговаярово', 'Ягодиновка', 'Дальнополин', 'Солчелуг', 'Озёрчане',\n",
       "       'Серебровино', 'Лесоярово', 'Глинополье', 'Глиноград',\n",
       "       'Дальнесветин', 'Северополье', 'Теплоозеро', 'Горнодолинск',\n",
       "       'Ордакент', 'Озёрово', 'Луговинск', 'Лугоград', 'Златопольск',\n",
       "       'Крутовинск', 'Сарыжар', 'Сосновечин', 'Тихоярск', 'Яблонецк',\n",
       "       'Жаркентай', 'Широковка', 'Синеводов', 'Синеводск', 'Тихосветск',\n",
       "       'Радужанов', 'Глиногорь', 'Каменосветск', 'Родниковск',\n",
       "       'Травогород', 'Глинянск', 'Радужинск', 'Поляногорье',\n",
       "       'Дальнолесье', 'Ручейник', 'Ключеград', 'Ключеводск', 'Поленовино',\n",
       "       'Речичанск', 'Ключевополье', 'Шаныртау', 'Дальнесоснов', 'Ордасай',\n",
       "       'Теплоозёрск', 'Чистогорье', 'Ручейный', 'Островярово', 'Ягодинск',\n",
       "       'Поленоозёрово', 'Акбасты', 'Медовино', 'Каменёвка', 'Рощино',\n",
       "       'Солнечнёвка', 'Верхозолотск', 'Боровлянск', 'Лугиново',\n",
       "       'Сосноград', 'Радужнояр', 'Кенесар', 'Островенск', 'Горнополец',\n",
       "       'Яблоновец', 'Вишнёво', 'Ясногородин', 'Нежинск', 'Малиноворск',\n",
       "       'Леснойск', 'Озёриново', 'Островополь', 'Тихоречка', 'Поленояр',\n",
       "       'Ручьевино', 'Травяниново', 'Кристаловец', 'Буркиттау',\n",
       "       'Ручейковск', 'Песковино', 'Горнополье', 'Зоревец', 'Акбастау',\n",
       "       'Заречиновка', 'Сосновогорец', 'Лесочистка', 'Лесоводск',\n",
       "       'Каменевовск', 'Сарытау', 'Малиновец', 'Речевинец', 'Кристалинск',\n",
       "       'Верхоозёров', 'Травяночистск', 'Байкуль', 'Светоярчик',\n",
       "       'Зориново', 'Лесореченск', 'Водниково', 'Берестовец', 'Мироярово',\n",
       "       'Медвежанск', 'Тихолесье', 'Каменичи', 'Тихогорово', 'Лесиново',\n",
       "       'Синегориново', 'Зелёнаярово', 'Лесозерск', 'Солнечеполье',\n",
       "       'Солнечеводск', 'Лесогорич', 'Ключевогорск', 'Нивинск',\n",
       "       'Травогорск', 'Лесоярка', 'Шынгысай', 'Луговское', 'Горноставинск',\n",
       "       'Зоречанск', 'Ручейновинск', 'Лесодолинск', 'Поленовец', 'Крутово',\n",
       "       'Зеленополье', 'Тепляковск', 'Желкаин', 'Березиноск',\n",
       "       'Горнополянск', 'Песчанская', 'Светополь', 'Поленоград',\n",
       "       'Вишнёвогорск', 'Северогорск', 'Речное', 'Каменевск', 'Травянский',\n",
       "       'Глинозорь', 'Луговинец', 'Серебровка', 'Горяново', 'Медовецк',\n",
       "       'Каменозолото', 'Желтоксан', 'Ясногорец', 'Горицветск',\n",
       "       'Ясносветск', 'Сосновинск', 'Белоярск', 'Солнечейск', 'Каменояр',\n",
       "       'Зеленолесье', 'Нуртас', 'Светогория', 'Беловодск', 'Малиновинск',\n",
       "       'Серебринск', 'Ключевинск', 'Тихозорин', 'Голубино', 'Долиновка',\n",
       "       'Шалкартау', 'Миросветск', 'Травяниково', 'Ясноград',\n",
       "       'Светочистенск', 'Кумсары', 'Зеленоградовск', 'Поленосветск',\n",
       "       'Каменодолин', 'Вишнёводск', 'Северобережье', 'Светозёринск',\n",
       "       'Каражар', 'Горнополёк', 'Ключезолотск', 'Горнолуг', 'Песчанец',\n",
       "       'Бережанка', 'Соловьёвка', 'Крутоводск', 'Бозарык', 'Родничанск',\n",
       "       'Берёзодальн', 'Озёречин', 'Поленосвет', 'Зоревичск', 'Коксуйск',\n",
       "       'Златоречинск', 'Жетисайск', 'Байтерековск', 'Акжолтау',\n",
       "       'Сереброяр', 'Яблоневое', 'Лесинск', 'Речинск', 'Заречнинск',\n",
       "       'Яснополянск', 'Речиноград', 'Радужнаярова', 'Светозорск',\n",
       "       'Горнополяровск', 'Речепольск', 'Тиходеревск', 'Ягодиноград',\n",
       "       'Желтау', 'Поленовичи', 'Тулебайск', 'Златоозёрово',\n",
       "       'Кристальевка', 'Сарыбулак', 'Сосновогорск', 'Теплоград',\n",
       "       'Яблоневск', 'Реченск', 'Бурьяново', 'Островозёров', 'Солнечёвино',\n",
       "       'Берёзоречье', 'Ветеринск', 'Тихолесьевск', 'Зореполин',\n",
       "       'Тихоозёрск', 'Родинсветск', 'Медвежник', 'Ясновский',\n",
       "       'Заречнаярово', 'Светоярич', 'Ручейницк', 'Лесогорский',\n",
       "       'Зелёново', 'Крутоводинск', 'Яснолесье', 'Солнечелесье', 'Луновка',\n",
       "       'Мироград', 'Светлоярск', 'Североград', 'Медвежиновск',\n",
       "       'Сосновецк', 'Зеленополин', 'Каражол', 'Заречка', 'Глинореч',\n",
       "       'Каменевский', 'Берёзогорск', 'Светозолотск', 'Гореловск',\n",
       "       'Малиновочист', 'Островской', 'Каменогорье', 'Чистояр', 'Ташбулак',\n",
       "       'Бережанск', 'Кристалин', 'Зареченец', 'Талдысай', 'Ягодино',\n",
       "       'Синеполинск', 'Берестяград', 'Алтынсай', 'Заречийск',\n",
       "       'Берёзополье', 'Зеленополец', 'Шынартас', 'Радужновка',\n",
       "       'Поленолесье', 'Златоречье', 'Островсков', 'Тогусжол',\n",
       "       'Светоречин', 'Айкольск', 'Радужовинск', 'Айсуак', 'Заречник',\n",
       "       'Глинолес', 'Зелёнояр', 'Синегорск', 'Каменогорский', 'Полянск',\n",
       "       'Крутовичи', 'Глинозолото', 'Ягодинска', 'Верховка', 'Тепляровск',\n",
       "       'Реченогор', 'Озёроярск', 'Тастай', 'Светоярово', 'Верхозорье',\n",
       "       'Поляноречинск', 'Малиновецк', 'Острововск', 'Светочистка',\n",
       "       'Долиновск', 'Мирополь', 'Озёряновск', 'Златополье', 'Кристаловка',\n",
       "       'Берёзореч', 'Зеленогорье', 'Солнечеград', 'Голубевск',\n",
       "       'Глинополянск', 'Радугорь', 'Кристолесье', 'Березиногорск',\n",
       "       'Миролесье', 'Заречинск', 'Ягодиноск', 'Байсары', 'Берёзиново',\n",
       "       'Солнечегорск', 'Глинополин', 'Озёроград', 'Ягодинец', 'Алтынкала',\n",
       "       'Горнолесье', 'Карасуй', 'Лесополин', 'Дальнеград', 'Горноград',\n",
       "       'Березовцево', 'Берёзовка', 'Дальнозелен', 'Травино', 'Карасуйск',\n",
       "       'Кызылжол', 'Поляновск', 'Лесогорск'], dtype=object)"
      ]
     },
     "execution_count": 32,
     "metadata": {},
     "output_type": "execute_result"
    }
   ],
   "source": [
    "# Рассмотрим, какие категории присутствуют в столбце city_name\n",
    "tickets_df_clean['city_name'].unique()"
   ]
  },
  {
   "cell_type": "code",
   "execution_count": 33,
   "metadata": {},
   "outputs": [
    {
     "data": {
      "text/plain": [
       "array(['Сценический центр \"Деталь\" Групп',\n",
       "       'Музыкальная школа для детей \"Аккаунт\" Лтд',\n",
       "       'Училище искусств \"Нирвана\" Инк', ...,\n",
       "       'Университет искусств \"Прогресс\" Групп',\n",
       "       'Творческая ярмарка \"График\" Инк', 'Школа музыки \"Парадигма\" Лтд'],\n",
       "      dtype=object)"
      ]
     },
     "execution_count": 33,
     "metadata": {},
     "output_type": "execute_result"
    }
   ],
   "source": [
    "# Рассмотрим, какие категории присутствуют в столбце venue_name\n",
    "tickets_df_clean['venue_name'].unique()"
   ]
  },
  {
   "cell_type": "markdown",
   "metadata": {},
   "source": [
    "Изучив полученные значения, можно сказать, что в данных отсутствуют возможные неявные дубликаты из-зи написания, однако присутствует несколько значений, которые можно принять за пропуски:\n",
    "   - в столбце `cinema_circuit` значение **'нет'**;\n",
    "   - в столбце `age_limit` значение **'0'**.\n",
    "   \n",
    "Однако эти значения не являются пропусками, т.к. несут свою смысловую нагрузку.\n",
    "\n",
    "### 2.5 Изучение количественных данных\n",
    "\n",
    "Теперь изучим количественные данные датасета `tickets_df_clean`.\n",
    "Для этого изучим статистические параметры и распределение на наличие выбросов наиболее важные столбцы: `revenue` и `tickets_count` в разрезе разных валют. "
   ]
  },
  {
   "cell_type": "code",
   "execution_count": 34,
   "metadata": {},
   "outputs": [
    {
     "data": {
      "text/plain": [
       "count    285501.000000\n",
       "mean        548.030210\n",
       "std         871.781464\n",
       "min         -90.760000\n",
       "25%         114.220000\n",
       "50%         346.700000\n",
       "75%         793.320000\n",
       "max       81174.540000\n",
       "Name: revenue, dtype: float64"
      ]
     },
     "execution_count": 34,
     "metadata": {},
     "output_type": "execute_result"
    }
   ],
   "source": [
    "# Отберем данные для валюты в руб.\n",
    "tickets_rub = tickets_df_clean[(tickets_df_clean['currency_code'] == 'rub')]\n",
    "# Отберем данные для валюты в тенге\n",
    "tickets_kzt = tickets_df_clean[(tickets_df_clean['currency_code'] == 'kzt')]\n",
    "\n",
    "# Изучим статистические данные столбца revenue в руб.\n",
    "tickets_rub['revenue'].describe()"
   ]
  },
  {
   "cell_type": "markdown",
   "metadata": {},
   "source": [
    "По полученным статистическим показателям можно заметить, что данные о выручке с заказа в рублях имеют асимметричное распределение, смещенное вправо из-за наличия выбросов, поскольку среднее значение больше медианы **(548.03 > 346.7)**. Стандартное отклонение составляет **871.78** и почти в 2 раза превышает среднее значение **548.03**, что указывает на большой разброс данных. В данных присутствуют отрицательные значения **(min = -90.76)** - возможной причиной могут быть возвраты средств или ошибки в данных. Большинство значений небольшие: **75% всех значений ≤ 793.32**, но есть редкие очень крупные операции **(max = 81,174.54)**.\n",
    "\n",
    "Дополнительно проверим это и построим гистограмму распределения выручки с заказов в рублях, для большей информативности построим гистограмму в логарифмической шкале."
   ]
  },
  {
   "cell_type": "code",
   "execution_count": 35,
   "metadata": {},
   "outputs": [
    {
     "data": {
      "image/png": "[encoded data removed]",
      "text/plain": [
       "<Figure size 720x360 with 1 Axes>"
      ]
     },
     "metadata": {
      "needs_background": "light"
     },
     "output_type": "display_data"
    }
   ],
   "source": [
    "# Создаём контейнер графика matplotlib и задаём его размер\n",
    "plt.figure(figsize=(10, 5))\n",
    "\n",
    "# Строим гистограмму \n",
    "tickets_rub['revenue'].plot(\n",
    "                kind='hist', # Тип графика - гистограмма\n",
    "                bins=50, # Устанавливаем количество корзин \n",
    "                alpha=0.75,\n",
    "                edgecolor='black',\n",
    "                rot=0, # Градус вращения подписи по оси Х\n",
    "                logy=True\n",
    ")\n",
    "\n",
    "# Настраиваем оформление графика\n",
    "plt.title('Распределение выручки с заказа в рублях в логарифмической шкале')\n",
    "plt.xlabel('Сумма выручки с заказа')\n",
    "\n",
    "# Добавляем сетку графика\n",
    "plt.grid()\n",
    "\n",
    "# Выводим график\n",
    "plt.show()"
   ]
  },
  {
   "cell_type": "markdown",
   "metadata": {},
   "source": [
    "Полученная гистограмма подтверждает статистические данные о том, что большинство значений небольшие, однако присутствуют несколько выбросов с большими значениями выручки."
   ]
  },
  {
   "cell_type": "code",
   "execution_count": 36,
   "metadata": {},
   "outputs": [
    {
     "data": {
      "text/plain": [
       "count     5068.000000\n",
       "mean      4995.827484\n",
       "std       4917.039292\n",
       "min          0.000000\n",
       "25%        518.100000\n",
       "50%       3698.830000\n",
       "75%       7397.660000\n",
       "max      26425.860000\n",
       "Name: revenue, dtype: float64"
      ]
     },
     "execution_count": 36,
     "metadata": {},
     "output_type": "execute_result"
    }
   ],
   "source": [
    "# Изучим статистические данные столбца revenue в тенге\n",
    "tickets_kzt['revenue'].describe()"
   ]
  },
  {
   "cell_type": "markdown",
   "metadata": {},
   "source": [
    "По полученным статистическим показателям можно заметить, что данные о выручке с заказа в тенге имеют асимметричное распределение, смещенное вправо из-за наличия выбросов, поскольку среднее значение больше медианы **(4,996 > 3,699)**. Стандартное отклонение составляет **4,917** и почти равно среднему значению **4,996**, что указывает на очень неравномерное распределение данных: есть как мелкие, так и очень крупные заказы. Большинство значений небольшие: **50% заказов приносят меньше 3,700 тенге**, но есть редкие крупные заказы **(max = 26,425)**.\n",
    "\n",
    "Дополнительно проверим это и построим гистограмму распределения выручки с заказов в тенге."
   ]
  },
  {
   "cell_type": "code",
   "execution_count": 37,
   "metadata": {},
   "outputs": [
    {
     "data": {
      "image/png": "[encoded data removed]",
      "text/plain": [
       "<Figure size 720x360 with 1 Axes>"
      ]
     },
     "metadata": {
      "needs_background": "light"
     },
     "output_type": "display_data"
    }
   ],
   "source": [
    "# Создаём контейнер графика matplotlib и задаём его размер\n",
    "plt.figure(figsize=(10, 5))\n",
    "\n",
    "# Строим гистограмму \n",
    "tickets_kzt['revenue'].plot(\n",
    "                kind='hist', # Тип графика - гистограмма\n",
    "                bins=50, # Устанавливаем количество корзин \n",
    "                alpha=0.75,\n",
    "                edgecolor='black',\n",
    "                rot=0 # Градус вращения подписи по оси Х\n",
    "                #logy=True\n",
    ")\n",
    "\n",
    "# Настраиваем оформление графика\n",
    "plt.title('Распределение выручки с заказа в тенге')\n",
    "plt.xlabel('Сумма выручки с заказа')\n",
    "\n",
    "# Добавляем сетку графика\n",
    "plt.grid()\n",
    "\n",
    "# Выводим график\n",
    "plt.show()"
   ]
  },
  {
   "cell_type": "markdown",
   "metadata": {},
   "source": [
    "Полученная гистограмма подтверждает статистические данные о том, что большинство значений небольшие и данные распределены неравномерно, однако присутствуют несколько выбросов с большими значениями выручки.\n",
    "\n",
    "Так как для обоих валют имеются выбросы с высокими значениями выручки с заказа, отфильтруем каждый из валютных датасетов по 99-му процентилю."
   ]
  },
  {
   "cell_type": "code",
   "execution_count": 38,
   "metadata": {
    "scrolled": true
   },
   "outputs": [
    {
     "name": "stdout",
     "output_type": "stream",
     "text": [
      "99-й процентиль для revenue: 2570.80\n"
     ]
    },
    {
     "data": {
      "text/plain": [
       "282702"
      ]
     },
     "execution_count": 38,
     "metadata": {},
     "output_type": "execute_result"
    }
   ],
   "source": [
    "# Вычисляем 99-й процентиль для колонки revenue датасет tickets_rub\n",
    "percentile_99 = tickets_rub['revenue'].quantile(0.99)\n",
    "print(f\"99-й процентиль для revenue: {percentile_99:.2f}\")\n",
    "\n",
    "# Фильтруем данные - оставляем только значения ≤ 99-го процентиля\n",
    "tickets_rub = tickets_rub[tickets_rub['revenue'] <= percentile_99]\n",
    "len(tickets_rub)"
   ]
  },
  {
   "cell_type": "code",
   "execution_count": 39,
   "metadata": {},
   "outputs": [
    {
     "name": "stdout",
     "output_type": "stream",
     "text": [
      "99-й процентиль для revenue: 17617.24\n"
     ]
    },
    {
     "data": {
      "text/plain": [
       "5039"
      ]
     },
     "execution_count": 39,
     "metadata": {},
     "output_type": "execute_result"
    }
   ],
   "source": [
    "# Вычисляем 99-й процентиль для колонки revenue датасет tickets_kzt\n",
    "percentile_99 = tickets_kzt['revenue'].quantile(0.99)\n",
    "print(f\"99-й процентиль для revenue: {percentile_99:.2f}\")\n",
    "\n",
    "# Фильтруем данные - оставляем только значения ≤ 99-го процентиля\n",
    "tickets_kzt = tickets_kzt[tickets_kzt['revenue'] <= percentile_99]\n",
    "len(tickets_kzt)"
   ]
  },
  {
   "cell_type": "code",
   "execution_count": 40,
   "metadata": {},
   "outputs": [
    {
     "data": {
      "text/html": [
       "<div>\n",
       "<style scoped>\n",
       "    .dataframe tbody tr th:only-of-type {\n",
       "        vertical-align: middle;\n",
       "    }\n",
       "\n",
       "    .dataframe tbody tr th {\n",
       "        vertical-align: top;\n",
       "    }\n",
       "\n",
       "    .dataframe thead th {\n",
       "        text-align: right;\n",
       "    }\n",
       "</style>\n",
       "<table border=\"1\" class=\"dataframe\">\n",
       "  <thead>\n",
       "    <tr style=\"text-align: right;\">\n",
       "      <th></th>\n",
       "      <th>order_id</th>\n",
       "      <th>user_id</th>\n",
       "      <th>created_dt_msk</th>\n",
       "      <th>created_ts_msk</th>\n",
       "      <th>event_id</th>\n",
       "      <th>cinema_circuit</th>\n",
       "      <th>age_limit</th>\n",
       "      <th>currency_code</th>\n",
       "      <th>device_type_canonical</th>\n",
       "      <th>revenue</th>\n",
       "      <th>...</th>\n",
       "      <th>event_name</th>\n",
       "      <th>event_type_description</th>\n",
       "      <th>event_type_main</th>\n",
       "      <th>organizers</th>\n",
       "      <th>region_name</th>\n",
       "      <th>city_name</th>\n",
       "      <th>city_id</th>\n",
       "      <th>venue_id</th>\n",
       "      <th>venue_name</th>\n",
       "      <th>venue_address</th>\n",
       "    </tr>\n",
       "  </thead>\n",
       "  <tbody>\n",
       "    <tr>\n",
       "      <th>0</th>\n",
       "      <td>4359165</td>\n",
       "      <td>0002849b70a3ce2</td>\n",
       "      <td>2024-08-20</td>\n",
       "      <td>2024-08-20 16:08:03</td>\n",
       "      <td>169230</td>\n",
       "      <td>нет</td>\n",
       "      <td>16</td>\n",
       "      <td>rub</td>\n",
       "      <td>mobile</td>\n",
       "      <td>1521.94</td>\n",
       "      <td>...</td>\n",
       "      <td>f0f7b271-04eb-4af6-bcb8-8f05cf46d6ad</td>\n",
       "      <td>спектакль</td>\n",
       "      <td>театр</td>\n",
       "      <td>№3322</td>\n",
       "      <td>Каменевский регион</td>\n",
       "      <td>Глиногорск</td>\n",
       "      <td>213.0</td>\n",
       "      <td>3972.0</td>\n",
       "      <td>Сценический центр \"Деталь\" Групп</td>\n",
       "      <td>алл. Машиностроителей, д. 19 стр. 6</td>\n",
       "    </tr>\n",
       "    <tr>\n",
       "      <th>1</th>\n",
       "      <td>7965605</td>\n",
       "      <td>0005ca5e93f2cf4</td>\n",
       "      <td>2024-07-23</td>\n",
       "      <td>2024-07-23 18:36:24</td>\n",
       "      <td>237325</td>\n",
       "      <td>нет</td>\n",
       "      <td>0</td>\n",
       "      <td>rub</td>\n",
       "      <td>mobile</td>\n",
       "      <td>289.45</td>\n",
       "      <td>...</td>\n",
       "      <td>40efeb04-81b7-4135-b41f-708ff00cc64c</td>\n",
       "      <td>событие</td>\n",
       "      <td>выставки</td>\n",
       "      <td>№4850</td>\n",
       "      <td>Каменевский регион</td>\n",
       "      <td>Глиногорск</td>\n",
       "      <td>213.0</td>\n",
       "      <td>2941.0</td>\n",
       "      <td>Музыкальная школа для детей \"Аккаунт\" Лтд</td>\n",
       "      <td>алл. Шмидта, д. 9 стр. 4</td>\n",
       "    </tr>\n",
       "    <tr>\n",
       "      <th>2</th>\n",
       "      <td>7292370</td>\n",
       "      <td>0005ca5e93f2cf4</td>\n",
       "      <td>2024-10-06</td>\n",
       "      <td>2024-10-06 13:56:02</td>\n",
       "      <td>578454</td>\n",
       "      <td>нет</td>\n",
       "      <td>0</td>\n",
       "      <td>rub</td>\n",
       "      <td>mobile</td>\n",
       "      <td>1258.57</td>\n",
       "      <td>...</td>\n",
       "      <td>01f3fb7b-ed07-4f94-b1d3-9a2e1ee5a8ca</td>\n",
       "      <td>цирковое шоу</td>\n",
       "      <td>другое</td>\n",
       "      <td>№1540</td>\n",
       "      <td>Каменевский регион</td>\n",
       "      <td>Глиногорск</td>\n",
       "      <td>213.0</td>\n",
       "      <td>4507.0</td>\n",
       "      <td>Училище искусств \"Нирвана\" Инк</td>\n",
       "      <td>алл. Юбилейная, д. 5/6</td>\n",
       "    </tr>\n",
       "    <tr>\n",
       "      <th>3</th>\n",
       "      <td>1139875</td>\n",
       "      <td>000898990054619</td>\n",
       "      <td>2024-07-13</td>\n",
       "      <td>2024-07-13 19:40:48</td>\n",
       "      <td>387271</td>\n",
       "      <td>нет</td>\n",
       "      <td>0</td>\n",
       "      <td>rub</td>\n",
       "      <td>mobile</td>\n",
       "      <td>8.49</td>\n",
       "      <td>...</td>\n",
       "      <td>2f638715-8844-466c-b43f-378a627c419f</td>\n",
       "      <td>выставка</td>\n",
       "      <td>другое</td>\n",
       "      <td>№5049</td>\n",
       "      <td>Североярская область</td>\n",
       "      <td>Озёрск</td>\n",
       "      <td>2.0</td>\n",
       "      <td>3574.0</td>\n",
       "      <td>Театр альтернативного искусства \"Ода\" Лимитед</td>\n",
       "      <td>алл. Есенина, д. 243 к. 3/8</td>\n",
       "    </tr>\n",
       "    <tr>\n",
       "      <th>4</th>\n",
       "      <td>972400</td>\n",
       "      <td>000898990054619</td>\n",
       "      <td>2024-10-04</td>\n",
       "      <td>2024-10-04 22:33:15</td>\n",
       "      <td>509453</td>\n",
       "      <td>нет</td>\n",
       "      <td>18</td>\n",
       "      <td>rub</td>\n",
       "      <td>mobile</td>\n",
       "      <td>1390.41</td>\n",
       "      <td>...</td>\n",
       "      <td>10d805d3-9809-4d8a-834e-225b7d03f95d</td>\n",
       "      <td>шоу</td>\n",
       "      <td>стендап</td>\n",
       "      <td>№832</td>\n",
       "      <td>Озернинский край</td>\n",
       "      <td>Родниковецк</td>\n",
       "      <td>240.0</td>\n",
       "      <td>1896.0</td>\n",
       "      <td>Театр кукол \"Огни\" Инкорпорэйтед</td>\n",
       "      <td>ш. Набережное, д. 595 стр. 8</td>\n",
       "    </tr>\n",
       "    <tr>\n",
       "      <th>...</th>\n",
       "      <td>...</td>\n",
       "      <td>...</td>\n",
       "      <td>...</td>\n",
       "      <td>...</td>\n",
       "      <td>...</td>\n",
       "      <td>...</td>\n",
       "      <td>...</td>\n",
       "      <td>...</td>\n",
       "      <td>...</td>\n",
       "      <td>...</td>\n",
       "      <td>...</td>\n",
       "      <td>...</td>\n",
       "      <td>...</td>\n",
       "      <td>...</td>\n",
       "      <td>...</td>\n",
       "      <td>...</td>\n",
       "      <td>...</td>\n",
       "      <td>...</td>\n",
       "      <td>...</td>\n",
       "      <td>...</td>\n",
       "      <td>...</td>\n",
       "    </tr>\n",
       "    <tr>\n",
       "      <th>287736</th>\n",
       "      <td>6862648</td>\n",
       "      <td>ffc24188a1d58f2</td>\n",
       "      <td>2024-07-11</td>\n",
       "      <td>2024-07-11 12:39:48</td>\n",
       "      <td>538828</td>\n",
       "      <td>нет</td>\n",
       "      <td>12</td>\n",
       "      <td>kzt</td>\n",
       "      <td>mobile</td>\n",
       "      <td>4735.52</td>\n",
       "      <td>...</td>\n",
       "      <td>603c97c6-b64f-4ec6-8de9-20b95c20b2b5</td>\n",
       "      <td>концерт</td>\n",
       "      <td>концерты</td>\n",
       "      <td>№2434</td>\n",
       "      <td>Верхоречная область</td>\n",
       "      <td>Серебрянка</td>\n",
       "      <td>163.0</td>\n",
       "      <td>4348.0</td>\n",
       "      <td>Мастерская живого действия \"Юность\" Лтд</td>\n",
       "      <td>наб. Осенняя, д. 376</td>\n",
       "    </tr>\n",
       "    <tr>\n",
       "      <th>287737</th>\n",
       "      <td>6763294</td>\n",
       "      <td>ffc24188a1d58f2</td>\n",
       "      <td>2024-09-05</td>\n",
       "      <td>2024-09-05 12:07:00</td>\n",
       "      <td>538828</td>\n",
       "      <td>нет</td>\n",
       "      <td>12</td>\n",
       "      <td>kzt</td>\n",
       "      <td>mobile</td>\n",
       "      <td>4735.52</td>\n",
       "      <td>...</td>\n",
       "      <td>603c97c6-b64f-4ec6-8de9-20b95c20b2b5</td>\n",
       "      <td>концерт</td>\n",
       "      <td>концерты</td>\n",
       "      <td>№2434</td>\n",
       "      <td>Верхоречная область</td>\n",
       "      <td>Серебрянка</td>\n",
       "      <td>163.0</td>\n",
       "      <td>4348.0</td>\n",
       "      <td>Мастерская живого действия \"Юность\" Лтд</td>\n",
       "      <td>наб. Осенняя, д. 376</td>\n",
       "    </tr>\n",
       "    <tr>\n",
       "      <th>287738</th>\n",
       "      <td>3984021</td>\n",
       "      <td>ffc24188a1d58f2</td>\n",
       "      <td>2024-09-06</td>\n",
       "      <td>2024-09-06 19:20:03</td>\n",
       "      <td>533803</td>\n",
       "      <td>нет</td>\n",
       "      <td>16</td>\n",
       "      <td>kzt</td>\n",
       "      <td>mobile</td>\n",
       "      <td>1849.41</td>\n",
       "      <td>...</td>\n",
       "      <td>0686ac7b-6f3e-4177-bb73-16b54acd1223</td>\n",
       "      <td>фестиваль</td>\n",
       "      <td>концерты</td>\n",
       "      <td>№4950</td>\n",
       "      <td>Шанырский регион</td>\n",
       "      <td>Широковка</td>\n",
       "      <td>162.0</td>\n",
       "      <td>3407.0</td>\n",
       "      <td>Арт-кафе \"Речка\" Лимитед</td>\n",
       "      <td>алл. Путейская, д. 548 стр. 7</td>\n",
       "    </tr>\n",
       "    <tr>\n",
       "      <th>287739</th>\n",
       "      <td>8493869</td>\n",
       "      <td>ffc4133fbba20f4</td>\n",
       "      <td>2024-06-21</td>\n",
       "      <td>2024-06-21 14:04:34</td>\n",
       "      <td>533803</td>\n",
       "      <td>нет</td>\n",
       "      <td>16</td>\n",
       "      <td>kzt</td>\n",
       "      <td>mobile</td>\n",
       "      <td>3698.83</td>\n",
       "      <td>...</td>\n",
       "      <td>0686ac7b-6f3e-4177-bb73-16b54acd1223</td>\n",
       "      <td>фестиваль</td>\n",
       "      <td>концерты</td>\n",
       "      <td>№4950</td>\n",
       "      <td>Шанырский регион</td>\n",
       "      <td>Широковка</td>\n",
       "      <td>162.0</td>\n",
       "      <td>3407.0</td>\n",
       "      <td>Арт-кафе \"Речка\" Лимитед</td>\n",
       "      <td>алл. Путейская, д. 548 стр. 7</td>\n",
       "    </tr>\n",
       "    <tr>\n",
       "      <th>287740</th>\n",
       "      <td>8493898</td>\n",
       "      <td>ffc4133fbba20f4</td>\n",
       "      <td>2024-06-21</td>\n",
       "      <td>2024-06-21 13:41:39</td>\n",
       "      <td>533803</td>\n",
       "      <td>нет</td>\n",
       "      <td>16</td>\n",
       "      <td>kzt</td>\n",
       "      <td>mobile</td>\n",
       "      <td>3698.83</td>\n",
       "      <td>...</td>\n",
       "      <td>0686ac7b-6f3e-4177-bb73-16b54acd1223</td>\n",
       "      <td>фестиваль</td>\n",
       "      <td>концерты</td>\n",
       "      <td>№4950</td>\n",
       "      <td>Шанырский регион</td>\n",
       "      <td>Широковка</td>\n",
       "      <td>162.0</td>\n",
       "      <td>3407.0</td>\n",
       "      <td>Арт-кафе \"Речка\" Лимитед</td>\n",
       "      <td>алл. Путейская, д. 548 стр. 7</td>\n",
       "    </tr>\n",
       "  </tbody>\n",
       "</table>\n",
       "<p>287741 rows × 24 columns</p>\n",
       "</div>"
      ],
      "text/plain": [
       "        order_id          user_id created_dt_msk      created_ts_msk  \\\n",
       "0        4359165  0002849b70a3ce2     2024-08-20 2024-08-20 16:08:03   \n",
       "1        7965605  0005ca5e93f2cf4     2024-07-23 2024-07-23 18:36:24   \n",
       "2        7292370  0005ca5e93f2cf4     2024-10-06 2024-10-06 13:56:02   \n",
       "3        1139875  000898990054619     2024-07-13 2024-07-13 19:40:48   \n",
       "4         972400  000898990054619     2024-10-04 2024-10-04 22:33:15   \n",
       "...          ...              ...            ...                 ...   \n",
       "287736   6862648  ffc24188a1d58f2     2024-07-11 2024-07-11 12:39:48   \n",
       "287737   6763294  ffc24188a1d58f2     2024-09-05 2024-09-05 12:07:00   \n",
       "287738   3984021  ffc24188a1d58f2     2024-09-06 2024-09-06 19:20:03   \n",
       "287739   8493869  ffc4133fbba20f4     2024-06-21 2024-06-21 14:04:34   \n",
       "287740   8493898  ffc4133fbba20f4     2024-06-21 2024-06-21 13:41:39   \n",
       "\n",
       "        event_id cinema_circuit  age_limit currency_code  \\\n",
       "0         169230            нет         16           rub   \n",
       "1         237325            нет          0           rub   \n",
       "2         578454            нет          0           rub   \n",
       "3         387271            нет          0           rub   \n",
       "4         509453            нет         18           rub   \n",
       "...          ...            ...        ...           ...   \n",
       "287736    538828            нет         12           kzt   \n",
       "287737    538828            нет         12           kzt   \n",
       "287738    533803            нет         16           kzt   \n",
       "287739    533803            нет         16           kzt   \n",
       "287740    533803            нет         16           kzt   \n",
       "\n",
       "       device_type_canonical  revenue  ...  \\\n",
       "0                     mobile  1521.94  ...   \n",
       "1                     mobile   289.45  ...   \n",
       "2                     mobile  1258.57  ...   \n",
       "3                     mobile     8.49  ...   \n",
       "4                     mobile  1390.41  ...   \n",
       "...                      ...      ...  ...   \n",
       "287736                mobile  4735.52  ...   \n",
       "287737                mobile  4735.52  ...   \n",
       "287738                mobile  1849.41  ...   \n",
       "287739                mobile  3698.83  ...   \n",
       "287740                mobile  3698.83  ...   \n",
       "\n",
       "                                  event_name  event_type_description  \\\n",
       "0       f0f7b271-04eb-4af6-bcb8-8f05cf46d6ad               спектакль   \n",
       "1       40efeb04-81b7-4135-b41f-708ff00cc64c                 событие   \n",
       "2       01f3fb7b-ed07-4f94-b1d3-9a2e1ee5a8ca            цирковое шоу   \n",
       "3       2f638715-8844-466c-b43f-378a627c419f                выставка   \n",
       "4       10d805d3-9809-4d8a-834e-225b7d03f95d                     шоу   \n",
       "...                                      ...                     ...   \n",
       "287736  603c97c6-b64f-4ec6-8de9-20b95c20b2b5                 концерт   \n",
       "287737  603c97c6-b64f-4ec6-8de9-20b95c20b2b5                 концерт   \n",
       "287738  0686ac7b-6f3e-4177-bb73-16b54acd1223               фестиваль   \n",
       "287739  0686ac7b-6f3e-4177-bb73-16b54acd1223               фестиваль   \n",
       "287740  0686ac7b-6f3e-4177-bb73-16b54acd1223               фестиваль   \n",
       "\n",
       "        event_type_main  organizers           region_name    city_name  \\\n",
       "0                 театр       №3322    Каменевский регион   Глиногорск   \n",
       "1              выставки       №4850    Каменевский регион   Глиногорск   \n",
       "2                другое       №1540    Каменевский регион   Глиногорск   \n",
       "3                другое       №5049  Североярская область       Озёрск   \n",
       "4               стендап        №832      Озернинский край  Родниковецк   \n",
       "...                 ...         ...                   ...          ...   \n",
       "287736         концерты       №2434   Верхоречная область   Серебрянка   \n",
       "287737         концерты       №2434   Верхоречная область   Серебрянка   \n",
       "287738         концерты       №4950      Шанырский регион    Широковка   \n",
       "287739         концерты       №4950      Шанырский регион    Широковка   \n",
       "287740         концерты       №4950      Шанырский регион    Широковка   \n",
       "\n",
       "       city_id venue_id                                     venue_name  \\\n",
       "0        213.0   3972.0               Сценический центр \"Деталь\" Групп   \n",
       "1        213.0   2941.0      Музыкальная школа для детей \"Аккаунт\" Лтд   \n",
       "2        213.0   4507.0                 Училище искусств \"Нирвана\" Инк   \n",
       "3          2.0   3574.0  Театр альтернативного искусства \"Ода\" Лимитед   \n",
       "4        240.0   1896.0               Театр кукол \"Огни\" Инкорпорэйтед   \n",
       "...        ...      ...                                            ...   \n",
       "287736   163.0   4348.0        Мастерская живого действия \"Юность\" Лтд   \n",
       "287737   163.0   4348.0        Мастерская живого действия \"Юность\" Лтд   \n",
       "287738   162.0   3407.0                       Арт-кафе \"Речка\" Лимитед   \n",
       "287739   162.0   3407.0                       Арт-кафе \"Речка\" Лимитед   \n",
       "287740   162.0   3407.0                       Арт-кафе \"Речка\" Лимитед   \n",
       "\n",
       "                              venue_address  \n",
       "0       алл. Машиностроителей, д. 19 стр. 6  \n",
       "1                  алл. Шмидта, д. 9 стр. 4  \n",
       "2                    алл. Юбилейная, д. 5/6  \n",
       "3               алл. Есенина, д. 243 к. 3/8  \n",
       "4              ш. Набережное, д. 595 стр. 8  \n",
       "...                                     ...  \n",
       "287736                 наб. Осенняя, д. 376  \n",
       "287737                 наб. Осенняя, д. 376  \n",
       "287738        алл. Путейская, д. 548 стр. 7  \n",
       "287739        алл. Путейская, д. 548 стр. 7  \n",
       "287740        алл. Путейская, д. 548 стр. 7  \n",
       "\n",
       "[287741 rows x 24 columns]"
      ]
     },
     "metadata": {},
     "output_type": "display_data"
    }
   ],
   "source": [
    "# Соедим полцченные датасеты\n",
    "tickets_df_clean = pd.concat([tickets_rub, tickets_kzt], ignore_index=True)\n",
    "display(tickets_df_clean)"
   ]
  },
  {
   "cell_type": "markdown",
   "metadata": {},
   "source": [
    "Данные по 99-му процентилю отфильтрованы и объеденены в единый датасет.\n",
    "\n",
    "Теперь изучим статистические данные о количестве билетов в заказе по столбцу `tickets_count`, также в разрезе валют."
   ]
  },
  {
   "cell_type": "code",
   "execution_count": 41,
   "metadata": {},
   "outputs": [
    {
     "data": {
      "text/plain": [
       "count    282702.000000\n",
       "mean          2.740069\n",
       "std           1.163514\n",
       "min           1.000000\n",
       "25%           2.000000\n",
       "50%           3.000000\n",
       "75%           3.000000\n",
       "max          57.000000\n",
       "Name: tickets_count, dtype: float64"
      ]
     },
     "execution_count": 41,
     "metadata": {},
     "output_type": "execute_result"
    }
   ],
   "source": [
    "# Изучим статистические данные столбца tickets_count в руб.\n",
    "tickets_rub['tickets_count'].describe()"
   ]
  },
  {
   "cell_type": "markdown",
   "metadata": {},
   "source": [
    "По полученным статистическим данным можно сделать следующие выводы:\n",
    "   - распределение близко к нормальному, так как **медиана (3) ≈ Среднему (2.75)**\n",
    "   - стандартное отклонение **1.17** показывает, что данные достаточно сконцентрированы вокруг среднего\n",
    "   - 50% заказов содержат 2-3 билета\n",
    "   - в данных присутствует явный выброс - максимальное значение **57 билетов**\n",
    "   \n",
    "Дополнительно построим гистограмму в логарифмической шкале."
   ]
  },
  {
   "cell_type": "code",
   "execution_count": 42,
   "metadata": {},
   "outputs": [
    {
     "data": {
      "image/png": "[encoded data removed]",
      "text/plain": [
       "<Figure size 720x360 with 1 Axes>"
      ]
     },
     "metadata": {
      "needs_background": "light"
     },
     "output_type": "display_data"
    }
   ],
   "source": [
    "# Создаём контейнер графика matplotlib и задаём его размер\n",
    "plt.figure(figsize=(10, 5))\n",
    "\n",
    "# Строим гистограмму \n",
    "tickets_rub['tickets_count'].plot(\n",
    "                kind='hist', # Тип графика - гистограмма\n",
    "                bins=50, # Устанавливаем количество корзин \n",
    "                alpha=0.75,\n",
    "                edgecolor='black',\n",
    "                rot=0, # Градус вращения подписи по оси Х\n",
    "                logy=True\n",
    ")\n",
    "\n",
    "# Настраиваем оформление графика\n",
    "plt.title('Распределение количества билетов в заказах в рублях в логарифмической шкале')\n",
    "plt.xlabel('Количество билетов в заказе')\n",
    "\n",
    "# Добавляем сетку графика\n",
    "plt.grid()\n",
    "\n",
    "# Выводим график\n",
    "plt.show()"
   ]
  },
  {
   "cell_type": "markdown",
   "metadata": {},
   "source": [
    "По гистограмме видим, что большая часть заказов содержит **менее 10 билетов**, часть заказов содержит до 15 билетов в заказе, но присутствуют **несколько выбросов со значениями около 30, 38, 48 и 57 билетами в заказе**. Вероятно это были заказы для больших экскурсионных групп или для проведения корпоративных мероприятий."
   ]
  },
  {
   "cell_type": "code",
   "execution_count": 43,
   "metadata": {},
   "outputs": [
    {
     "data": {
      "text/plain": [
       "count    5039.000000\n",
       "mean        2.748760\n",
       "std         1.101618\n",
       "min         1.000000\n",
       "25%         2.000000\n",
       "50%         3.000000\n",
       "75%         3.000000\n",
       "max         6.000000\n",
       "Name: tickets_count, dtype: float64"
      ]
     },
     "execution_count": 43,
     "metadata": {},
     "output_type": "execute_result"
    }
   ],
   "source": [
    "# Изучим статистические данные столбца tickets_count в тенге.\n",
    "tickets_kzt['tickets_count'].describe()"
   ]
  },
  {
   "cell_type": "markdown",
   "metadata": {},
   "source": [
    "По полученным статистическим данным можно сделать следующие выводы:\n",
    "   - распределение симметричное: **медиана (3) близка к среднему (2.75)**;\n",
    "   - низкая вариативность: **стандартное отклонение всего 1.1**;\n",
    "   - отсутствие выбросов (**максимальное значение: 6 билетов**).\n",
    "   \n",
    "Для лучшего восприятия построим гистограмму."
   ]
  },
  {
   "cell_type": "code",
   "execution_count": 44,
   "metadata": {},
   "outputs": [
    {
     "data": {
      "image/png": "[encoded data removed]",
      "text/plain": [
       "<Figure size 720x360 with 1 Axes>"
      ]
     },
     "metadata": {
      "needs_background": "light"
     },
     "output_type": "display_data"
    }
   ],
   "source": [
    "# Создаём контейнер графика matplotlib и задаём его размер\n",
    "plt.figure(figsize=(10, 5))\n",
    "\n",
    "# Строим гистограмму \n",
    "tickets_kzt['tickets_count'].plot(\n",
    "                kind='hist', # Тип графика - гистограмма\n",
    "                bins=15, # Устанавливаем количество корзин \n",
    "                alpha=0.75,\n",
    "                edgecolor='black',\n",
    "                rot=0 # Градус вращения подписи по оси Х\n",
    "                #logy=True\n",
    ")\n",
    "\n",
    "# Настраиваем оформление графика\n",
    "plt.title('Распределение количества билетов в заказах в тенге')\n",
    "plt.xlabel('Количество билетов в заказе')\n",
    "\n",
    "# Добавляем сетку графика\n",
    "plt.grid()\n",
    "\n",
    "# Выводим график\n",
    "plt.show()"
   ]
  },
  {
   "cell_type": "markdown",
   "metadata": {},
   "source": [
    "В общем по итогам статистического анализа значений выручки за заказ и количества билетов в заказе в разрезе валют можно сдедать следующие выводы:\n",
    "   - и в России, и в Казахстане распределение выручки **асимметричное**, имеет **основной пик в области небольших значений** выручки, а также **присутствуют выбросы** - заказы с большими значениями выручки. Но в Казахстане данные имеют только один четко выраженный пик в начале распределения\n",
    "   - распределение количества билетов **в Казахстане имеет нормальное распределение**, в отличие от распределения количества билетов **в России, где присутствуют выбросы с большим количеством билетов в заказе**."
   ]
  },
  {
   "cell_type": "markdown",
   "metadata": {},
   "source": [
    "### 2.6 Создание новых столбцов\n",
    "\n",
    "Перед тем, как создавать новые столбцы, к исследуемому датасету `tickets_df_clean` присоединим датасет `tickets_tenge_df`."
   ]
  },
  {
   "cell_type": "code",
   "execution_count": 45,
   "metadata": {},
   "outputs": [
    {
     "data": {
      "text/html": [
       "<div>\n",
       "<style scoped>\n",
       "    .dataframe tbody tr th:only-of-type {\n",
       "        vertical-align: middle;\n",
       "    }\n",
       "\n",
       "    .dataframe tbody tr th {\n",
       "        vertical-align: top;\n",
       "    }\n",
       "\n",
       "    .dataframe thead th {\n",
       "        text-align: right;\n",
       "    }\n",
       "</style>\n",
       "<table border=\"1\" class=\"dataframe\">\n",
       "  <thead>\n",
       "    <tr style=\"text-align: right;\">\n",
       "      <th></th>\n",
       "      <th>order_id</th>\n",
       "      <th>user_id</th>\n",
       "      <th>created_dt_msk</th>\n",
       "      <th>created_ts_msk</th>\n",
       "      <th>event_id</th>\n",
       "      <th>cinema_circuit</th>\n",
       "      <th>age_limit</th>\n",
       "      <th>currency_code</th>\n",
       "      <th>device_type_canonical</th>\n",
       "      <th>revenue</th>\n",
       "      <th>...</th>\n",
       "      <th>region_name</th>\n",
       "      <th>city_name</th>\n",
       "      <th>city_id</th>\n",
       "      <th>venue_id</th>\n",
       "      <th>venue_name</th>\n",
       "      <th>venue_address</th>\n",
       "      <th>data</th>\n",
       "      <th>nominal</th>\n",
       "      <th>curs</th>\n",
       "      <th>cdx</th>\n",
       "    </tr>\n",
       "  </thead>\n",
       "  <tbody>\n",
       "    <tr>\n",
       "      <th>0</th>\n",
       "      <td>4359165</td>\n",
       "      <td>0002849b70a3ce2</td>\n",
       "      <td>2024-08-20</td>\n",
       "      <td>2024-08-20 16:08:03</td>\n",
       "      <td>169230</td>\n",
       "      <td>нет</td>\n",
       "      <td>16</td>\n",
       "      <td>rub</td>\n",
       "      <td>mobile</td>\n",
       "      <td>1521.94</td>\n",
       "      <td>...</td>\n",
       "      <td>Каменевский регион</td>\n",
       "      <td>Глиногорск</td>\n",
       "      <td>213.0</td>\n",
       "      <td>3972.0</td>\n",
       "      <td>Сценический центр \"Деталь\" Групп</td>\n",
       "      <td>алл. Машиностроителей, д. 19 стр. 6</td>\n",
       "      <td>2024-08-20</td>\n",
       "      <td>100</td>\n",
       "      <td>18.6972</td>\n",
       "      <td>kzt</td>\n",
       "    </tr>\n",
       "    <tr>\n",
       "      <th>1</th>\n",
       "      <td>7965605</td>\n",
       "      <td>0005ca5e93f2cf4</td>\n",
       "      <td>2024-07-23</td>\n",
       "      <td>2024-07-23 18:36:24</td>\n",
       "      <td>237325</td>\n",
       "      <td>нет</td>\n",
       "      <td>0</td>\n",
       "      <td>rub</td>\n",
       "      <td>mobile</td>\n",
       "      <td>289.45</td>\n",
       "      <td>...</td>\n",
       "      <td>Каменевский регион</td>\n",
       "      <td>Глиногорск</td>\n",
       "      <td>213.0</td>\n",
       "      <td>2941.0</td>\n",
       "      <td>Музыкальная школа для детей \"Аккаунт\" Лтд</td>\n",
       "      <td>алл. Шмидта, д. 9 стр. 4</td>\n",
       "      <td>2024-07-23</td>\n",
       "      <td>100</td>\n",
       "      <td>18.3419</td>\n",
       "      <td>kzt</td>\n",
       "    </tr>\n",
       "    <tr>\n",
       "      <th>2</th>\n",
       "      <td>7292370</td>\n",
       "      <td>0005ca5e93f2cf4</td>\n",
       "      <td>2024-10-06</td>\n",
       "      <td>2024-10-06 13:56:02</td>\n",
       "      <td>578454</td>\n",
       "      <td>нет</td>\n",
       "      <td>0</td>\n",
       "      <td>rub</td>\n",
       "      <td>mobile</td>\n",
       "      <td>1258.57</td>\n",
       "      <td>...</td>\n",
       "      <td>Каменевский регион</td>\n",
       "      <td>Глиногорск</td>\n",
       "      <td>213.0</td>\n",
       "      <td>4507.0</td>\n",
       "      <td>Училище искусств \"Нирвана\" Инк</td>\n",
       "      <td>алл. Юбилейная, д. 5/6</td>\n",
       "      <td>2024-10-06</td>\n",
       "      <td>100</td>\n",
       "      <td>19.6475</td>\n",
       "      <td>kzt</td>\n",
       "    </tr>\n",
       "    <tr>\n",
       "      <th>3</th>\n",
       "      <td>1139875</td>\n",
       "      <td>000898990054619</td>\n",
       "      <td>2024-07-13</td>\n",
       "      <td>2024-07-13 19:40:48</td>\n",
       "      <td>387271</td>\n",
       "      <td>нет</td>\n",
       "      <td>0</td>\n",
       "      <td>rub</td>\n",
       "      <td>mobile</td>\n",
       "      <td>8.49</td>\n",
       "      <td>...</td>\n",
       "      <td>Североярская область</td>\n",
       "      <td>Озёрск</td>\n",
       "      <td>2.0</td>\n",
       "      <td>3574.0</td>\n",
       "      <td>Театр альтернативного искусства \"Ода\" Лимитед</td>\n",
       "      <td>алл. Есенина, д. 243 к. 3/8</td>\n",
       "      <td>2024-07-13</td>\n",
       "      <td>100</td>\n",
       "      <td>18.5010</td>\n",
       "      <td>kzt</td>\n",
       "    </tr>\n",
       "    <tr>\n",
       "      <th>4</th>\n",
       "      <td>972400</td>\n",
       "      <td>000898990054619</td>\n",
       "      <td>2024-10-04</td>\n",
       "      <td>2024-10-04 22:33:15</td>\n",
       "      <td>509453</td>\n",
       "      <td>нет</td>\n",
       "      <td>18</td>\n",
       "      <td>rub</td>\n",
       "      <td>mobile</td>\n",
       "      <td>1390.41</td>\n",
       "      <td>...</td>\n",
       "      <td>Озернинский край</td>\n",
       "      <td>Родниковецк</td>\n",
       "      <td>240.0</td>\n",
       "      <td>1896.0</td>\n",
       "      <td>Театр кукол \"Огни\" Инкорпорэйтед</td>\n",
       "      <td>ш. Набережное, д. 595 стр. 8</td>\n",
       "      <td>2024-10-04</td>\n",
       "      <td>100</td>\n",
       "      <td>19.6648</td>\n",
       "      <td>kzt</td>\n",
       "    </tr>\n",
       "  </tbody>\n",
       "</table>\n",
       "<p>5 rows × 28 columns</p>\n",
       "</div>"
      ],
      "text/plain": [
       "   order_id          user_id created_dt_msk      created_ts_msk  event_id  \\\n",
       "0   4359165  0002849b70a3ce2     2024-08-20 2024-08-20 16:08:03    169230   \n",
       "1   7965605  0005ca5e93f2cf4     2024-07-23 2024-07-23 18:36:24    237325   \n",
       "2   7292370  0005ca5e93f2cf4     2024-10-06 2024-10-06 13:56:02    578454   \n",
       "3   1139875  000898990054619     2024-07-13 2024-07-13 19:40:48    387271   \n",
       "4    972400  000898990054619     2024-10-04 2024-10-04 22:33:15    509453   \n",
       "\n",
       "  cinema_circuit  age_limit currency_code device_type_canonical  revenue  ...  \\\n",
       "0            нет         16           rub                mobile  1521.94  ...   \n",
       "1            нет          0           rub                mobile   289.45  ...   \n",
       "2            нет          0           rub                mobile  1258.57  ...   \n",
       "3            нет          0           rub                mobile     8.49  ...   \n",
       "4            нет         18           rub                mobile  1390.41  ...   \n",
       "\n",
       "            region_name    city_name  city_id  venue_id  \\\n",
       "0    Каменевский регион   Глиногорск    213.0    3972.0   \n",
       "1    Каменевский регион   Глиногорск    213.0    2941.0   \n",
       "2    Каменевский регион   Глиногорск    213.0    4507.0   \n",
       "3  Североярская область       Озёрск      2.0    3574.0   \n",
       "4      Озернинский край  Родниковецк    240.0    1896.0   \n",
       "\n",
       "                                      venue_name  \\\n",
       "0               Сценический центр \"Деталь\" Групп   \n",
       "1      Музыкальная школа для детей \"Аккаунт\" Лтд   \n",
       "2                 Училище искусств \"Нирвана\" Инк   \n",
       "3  Театр альтернативного искусства \"Ода\" Лимитед   \n",
       "4               Театр кукол \"Огни\" Инкорпорэйтед   \n",
       "\n",
       "                         venue_address       data nominal     curs  cdx  \n",
       "0  алл. Машиностроителей, д. 19 стр. 6 2024-08-20     100  18.6972  kzt  \n",
       "1             алл. Шмидта, д. 9 стр. 4 2024-07-23     100  18.3419  kzt  \n",
       "2               алл. Юбилейная, д. 5/6 2024-10-06     100  19.6475  kzt  \n",
       "3          алл. Есенина, д. 243 к. 3/8 2024-07-13     100  18.5010  kzt  \n",
       "4         ш. Набережное, д. 595 стр. 8 2024-10-04     100  19.6648  kzt  \n",
       "\n",
       "[5 rows x 28 columns]"
      ]
     },
     "execution_count": 45,
     "metadata": {},
     "output_type": "execute_result"
    }
   ],
   "source": [
    "# Присоединим датасет tickets_tenge_df\n",
    "tickets_df_new = tickets_df_clean.merge(tickets_tenge_df, left_on = 'created_dt_msk', right_on = 'data', how = 'left')\n",
    "tickets_df_new.head()"
   ]
  },
  {
   "cell_type": "code",
   "execution_count": 46,
   "metadata": {},
   "outputs": [
    {
     "data": {
      "text/html": [
       "<div>\n",
       "<style scoped>\n",
       "    .dataframe tbody tr th:only-of-type {\n",
       "        vertical-align: middle;\n",
       "    }\n",
       "\n",
       "    .dataframe tbody tr th {\n",
       "        vertical-align: top;\n",
       "    }\n",
       "\n",
       "    .dataframe thead th {\n",
       "        text-align: right;\n",
       "    }\n",
       "</style>\n",
       "<table border=\"1\" class=\"dataframe\">\n",
       "  <thead>\n",
       "    <tr style=\"text-align: right;\">\n",
       "      <th></th>\n",
       "      <th>order_id</th>\n",
       "      <th>user_id</th>\n",
       "      <th>created_dt_msk</th>\n",
       "      <th>created_ts_msk</th>\n",
       "      <th>event_id</th>\n",
       "      <th>cinema_circuit</th>\n",
       "      <th>age_limit</th>\n",
       "      <th>currency_code</th>\n",
       "      <th>device_type_canonical</th>\n",
       "      <th>revenue</th>\n",
       "      <th>...</th>\n",
       "      <th>city_name</th>\n",
       "      <th>city_id</th>\n",
       "      <th>venue_id</th>\n",
       "      <th>venue_name</th>\n",
       "      <th>venue_address</th>\n",
       "      <th>data</th>\n",
       "      <th>nominal</th>\n",
       "      <th>curs</th>\n",
       "      <th>cdx</th>\n",
       "      <th>revenue_rub</th>\n",
       "    </tr>\n",
       "  </thead>\n",
       "  <tbody>\n",
       "    <tr>\n",
       "      <th>0</th>\n",
       "      <td>4359165</td>\n",
       "      <td>0002849b70a3ce2</td>\n",
       "      <td>2024-08-20</td>\n",
       "      <td>2024-08-20 16:08:03</td>\n",
       "      <td>169230</td>\n",
       "      <td>нет</td>\n",
       "      <td>16</td>\n",
       "      <td>rub</td>\n",
       "      <td>mobile</td>\n",
       "      <td>1521.94</td>\n",
       "      <td>...</td>\n",
       "      <td>Глиногорск</td>\n",
       "      <td>213.0</td>\n",
       "      <td>3972.0</td>\n",
       "      <td>Сценический центр \"Деталь\" Групп</td>\n",
       "      <td>алл. Машиностроителей, д. 19 стр. 6</td>\n",
       "      <td>2024-08-20</td>\n",
       "      <td>100</td>\n",
       "      <td>18.6972</td>\n",
       "      <td>kzt</td>\n",
       "      <td>1521.94</td>\n",
       "    </tr>\n",
       "    <tr>\n",
       "      <th>1</th>\n",
       "      <td>7965605</td>\n",
       "      <td>0005ca5e93f2cf4</td>\n",
       "      <td>2024-07-23</td>\n",
       "      <td>2024-07-23 18:36:24</td>\n",
       "      <td>237325</td>\n",
       "      <td>нет</td>\n",
       "      <td>0</td>\n",
       "      <td>rub</td>\n",
       "      <td>mobile</td>\n",
       "      <td>289.45</td>\n",
       "      <td>...</td>\n",
       "      <td>Глиногорск</td>\n",
       "      <td>213.0</td>\n",
       "      <td>2941.0</td>\n",
       "      <td>Музыкальная школа для детей \"Аккаунт\" Лтд</td>\n",
       "      <td>алл. Шмидта, д. 9 стр. 4</td>\n",
       "      <td>2024-07-23</td>\n",
       "      <td>100</td>\n",
       "      <td>18.3419</td>\n",
       "      <td>kzt</td>\n",
       "      <td>289.45</td>\n",
       "    </tr>\n",
       "    <tr>\n",
       "      <th>2</th>\n",
       "      <td>7292370</td>\n",
       "      <td>0005ca5e93f2cf4</td>\n",
       "      <td>2024-10-06</td>\n",
       "      <td>2024-10-06 13:56:02</td>\n",
       "      <td>578454</td>\n",
       "      <td>нет</td>\n",
       "      <td>0</td>\n",
       "      <td>rub</td>\n",
       "      <td>mobile</td>\n",
       "      <td>1258.57</td>\n",
       "      <td>...</td>\n",
       "      <td>Глиногорск</td>\n",
       "      <td>213.0</td>\n",
       "      <td>4507.0</td>\n",
       "      <td>Училище искусств \"Нирвана\" Инк</td>\n",
       "      <td>алл. Юбилейная, д. 5/6</td>\n",
       "      <td>2024-10-06</td>\n",
       "      <td>100</td>\n",
       "      <td>19.6475</td>\n",
       "      <td>kzt</td>\n",
       "      <td>1258.57</td>\n",
       "    </tr>\n",
       "    <tr>\n",
       "      <th>3</th>\n",
       "      <td>1139875</td>\n",
       "      <td>000898990054619</td>\n",
       "      <td>2024-07-13</td>\n",
       "      <td>2024-07-13 19:40:48</td>\n",
       "      <td>387271</td>\n",
       "      <td>нет</td>\n",
       "      <td>0</td>\n",
       "      <td>rub</td>\n",
       "      <td>mobile</td>\n",
       "      <td>8.49</td>\n",
       "      <td>...</td>\n",
       "      <td>Озёрск</td>\n",
       "      <td>2.0</td>\n",
       "      <td>3574.0</td>\n",
       "      <td>Театр альтернативного искусства \"Ода\" Лимитед</td>\n",
       "      <td>алл. Есенина, д. 243 к. 3/8</td>\n",
       "      <td>2024-07-13</td>\n",
       "      <td>100</td>\n",
       "      <td>18.5010</td>\n",
       "      <td>kzt</td>\n",
       "      <td>8.49</td>\n",
       "    </tr>\n",
       "    <tr>\n",
       "      <th>4</th>\n",
       "      <td>972400</td>\n",
       "      <td>000898990054619</td>\n",
       "      <td>2024-10-04</td>\n",
       "      <td>2024-10-04 22:33:15</td>\n",
       "      <td>509453</td>\n",
       "      <td>нет</td>\n",
       "      <td>18</td>\n",
       "      <td>rub</td>\n",
       "      <td>mobile</td>\n",
       "      <td>1390.41</td>\n",
       "      <td>...</td>\n",
       "      <td>Родниковецк</td>\n",
       "      <td>240.0</td>\n",
       "      <td>1896.0</td>\n",
       "      <td>Театр кукол \"Огни\" Инкорпорэйтед</td>\n",
       "      <td>ш. Набережное, д. 595 стр. 8</td>\n",
       "      <td>2024-10-04</td>\n",
       "      <td>100</td>\n",
       "      <td>19.6648</td>\n",
       "      <td>kzt</td>\n",
       "      <td>1390.41</td>\n",
       "    </tr>\n",
       "  </tbody>\n",
       "</table>\n",
       "<p>5 rows × 29 columns</p>\n",
       "</div>"
      ],
      "text/plain": [
       "   order_id          user_id created_dt_msk      created_ts_msk  event_id  \\\n",
       "0   4359165  0002849b70a3ce2     2024-08-20 2024-08-20 16:08:03    169230   \n",
       "1   7965605  0005ca5e93f2cf4     2024-07-23 2024-07-23 18:36:24    237325   \n",
       "2   7292370  0005ca5e93f2cf4     2024-10-06 2024-10-06 13:56:02    578454   \n",
       "3   1139875  000898990054619     2024-07-13 2024-07-13 19:40:48    387271   \n",
       "4    972400  000898990054619     2024-10-04 2024-10-04 22:33:15    509453   \n",
       "\n",
       "  cinema_circuit  age_limit currency_code device_type_canonical  revenue  ...  \\\n",
       "0            нет         16           rub                mobile  1521.94  ...   \n",
       "1            нет          0           rub                mobile   289.45  ...   \n",
       "2            нет          0           rub                mobile  1258.57  ...   \n",
       "3            нет          0           rub                mobile     8.49  ...   \n",
       "4            нет         18           rub                mobile  1390.41  ...   \n",
       "\n",
       "     city_name  city_id  venue_id  \\\n",
       "0   Глиногорск    213.0    3972.0   \n",
       "1   Глиногорск    213.0    2941.0   \n",
       "2   Глиногорск    213.0    4507.0   \n",
       "3       Озёрск      2.0    3574.0   \n",
       "4  Родниковецк    240.0    1896.0   \n",
       "\n",
       "                                      venue_name  \\\n",
       "0               Сценический центр \"Деталь\" Групп   \n",
       "1      Музыкальная школа для детей \"Аккаунт\" Лтд   \n",
       "2                 Училище искусств \"Нирвана\" Инк   \n",
       "3  Театр альтернативного искусства \"Ода\" Лимитед   \n",
       "4               Театр кукол \"Огни\" Инкорпорэйтед   \n",
       "\n",
       "                         venue_address       data nominal     curs  cdx  \\\n",
       "0  алл. Машиностроителей, д. 19 стр. 6 2024-08-20     100  18.6972  kzt   \n",
       "1             алл. Шмидта, д. 9 стр. 4 2024-07-23     100  18.3419  kzt   \n",
       "2               алл. Юбилейная, д. 5/6 2024-10-06     100  19.6475  kzt   \n",
       "3          алл. Есенина, д. 243 к. 3/8 2024-07-13     100  18.5010  kzt   \n",
       "4         ш. Набережное, д. 595 стр. 8 2024-10-04     100  19.6648  kzt   \n",
       "\n",
       "  revenue_rub  \n",
       "0     1521.94  \n",
       "1      289.45  \n",
       "2     1258.57  \n",
       "3        8.49  \n",
       "4     1390.41  \n",
       "\n",
       "[5 rows x 29 columns]"
      ]
     },
     "execution_count": 46,
     "metadata": {},
     "output_type": "execute_result"
    }
   ],
   "source": [
    "# Создадим столбец revenue_rub, содержащий выручку с заказа в единой валюте — российском рубле\n",
    "tickets_df_new['revenue_rub'] = tickets_df_new.apply(\n",
    "    lambda row: (row['revenue'] * row['curs'])/row['nominal'] if row['currency_code'] == 'kzt' else \n",
    "               row['revenue'] if row['currency_code'] == 'rub' else \n",
    "               None,  \n",
    "    axis=1\n",
    ")\n",
    "tickets_df_new.head()"
   ]
  },
  {
   "cell_type": "code",
   "execution_count": 47,
   "metadata": {},
   "outputs": [
    {
     "data": {
      "text/html": [
       "<div>\n",
       "<style scoped>\n",
       "    .dataframe tbody tr th:only-of-type {\n",
       "        vertical-align: middle;\n",
       "    }\n",
       "\n",
       "    .dataframe tbody tr th {\n",
       "        vertical-align: top;\n",
       "    }\n",
       "\n",
       "    .dataframe thead th {\n",
       "        text-align: right;\n",
       "    }\n",
       "</style>\n",
       "<table border=\"1\" class=\"dataframe\">\n",
       "  <thead>\n",
       "    <tr style=\"text-align: right;\">\n",
       "      <th></th>\n",
       "      <th>order_id</th>\n",
       "      <th>user_id</th>\n",
       "      <th>created_dt_msk</th>\n",
       "      <th>created_ts_msk</th>\n",
       "      <th>event_id</th>\n",
       "      <th>cinema_circuit</th>\n",
       "      <th>age_limit</th>\n",
       "      <th>currency_code</th>\n",
       "      <th>device_type_canonical</th>\n",
       "      <th>revenue</th>\n",
       "      <th>...</th>\n",
       "      <th>city_id</th>\n",
       "      <th>venue_id</th>\n",
       "      <th>venue_name</th>\n",
       "      <th>venue_address</th>\n",
       "      <th>data</th>\n",
       "      <th>nominal</th>\n",
       "      <th>curs</th>\n",
       "      <th>cdx</th>\n",
       "      <th>revenue_rub</th>\n",
       "      <th>one_ticket_revenue_rub</th>\n",
       "    </tr>\n",
       "  </thead>\n",
       "  <tbody>\n",
       "    <tr>\n",
       "      <th>0</th>\n",
       "      <td>4359165</td>\n",
       "      <td>0002849b70a3ce2</td>\n",
       "      <td>2024-08-20</td>\n",
       "      <td>2024-08-20 16:08:03</td>\n",
       "      <td>169230</td>\n",
       "      <td>нет</td>\n",
       "      <td>16</td>\n",
       "      <td>rub</td>\n",
       "      <td>mobile</td>\n",
       "      <td>1521.94</td>\n",
       "      <td>...</td>\n",
       "      <td>213.0</td>\n",
       "      <td>3972.0</td>\n",
       "      <td>Сценический центр \"Деталь\" Групп</td>\n",
       "      <td>алл. Машиностроителей, д. 19 стр. 6</td>\n",
       "      <td>2024-08-20</td>\n",
       "      <td>100</td>\n",
       "      <td>18.6972</td>\n",
       "      <td>kzt</td>\n",
       "      <td>1521.94</td>\n",
       "      <td>380.4850</td>\n",
       "    </tr>\n",
       "    <tr>\n",
       "      <th>1</th>\n",
       "      <td>7965605</td>\n",
       "      <td>0005ca5e93f2cf4</td>\n",
       "      <td>2024-07-23</td>\n",
       "      <td>2024-07-23 18:36:24</td>\n",
       "      <td>237325</td>\n",
       "      <td>нет</td>\n",
       "      <td>0</td>\n",
       "      <td>rub</td>\n",
       "      <td>mobile</td>\n",
       "      <td>289.45</td>\n",
       "      <td>...</td>\n",
       "      <td>213.0</td>\n",
       "      <td>2941.0</td>\n",
       "      <td>Музыкальная школа для детей \"Аккаунт\" Лтд</td>\n",
       "      <td>алл. Шмидта, д. 9 стр. 4</td>\n",
       "      <td>2024-07-23</td>\n",
       "      <td>100</td>\n",
       "      <td>18.3419</td>\n",
       "      <td>kzt</td>\n",
       "      <td>289.45</td>\n",
       "      <td>144.7250</td>\n",
       "    </tr>\n",
       "    <tr>\n",
       "      <th>2</th>\n",
       "      <td>7292370</td>\n",
       "      <td>0005ca5e93f2cf4</td>\n",
       "      <td>2024-10-06</td>\n",
       "      <td>2024-10-06 13:56:02</td>\n",
       "      <td>578454</td>\n",
       "      <td>нет</td>\n",
       "      <td>0</td>\n",
       "      <td>rub</td>\n",
       "      <td>mobile</td>\n",
       "      <td>1258.57</td>\n",
       "      <td>...</td>\n",
       "      <td>213.0</td>\n",
       "      <td>4507.0</td>\n",
       "      <td>Училище искусств \"Нирвана\" Инк</td>\n",
       "      <td>алл. Юбилейная, д. 5/6</td>\n",
       "      <td>2024-10-06</td>\n",
       "      <td>100</td>\n",
       "      <td>19.6475</td>\n",
       "      <td>kzt</td>\n",
       "      <td>1258.57</td>\n",
       "      <td>314.6425</td>\n",
       "    </tr>\n",
       "    <tr>\n",
       "      <th>3</th>\n",
       "      <td>1139875</td>\n",
       "      <td>000898990054619</td>\n",
       "      <td>2024-07-13</td>\n",
       "      <td>2024-07-13 19:40:48</td>\n",
       "      <td>387271</td>\n",
       "      <td>нет</td>\n",
       "      <td>0</td>\n",
       "      <td>rub</td>\n",
       "      <td>mobile</td>\n",
       "      <td>8.49</td>\n",
       "      <td>...</td>\n",
       "      <td>2.0</td>\n",
       "      <td>3574.0</td>\n",
       "      <td>Театр альтернативного искусства \"Ода\" Лимитед</td>\n",
       "      <td>алл. Есенина, д. 243 к. 3/8</td>\n",
       "      <td>2024-07-13</td>\n",
       "      <td>100</td>\n",
       "      <td>18.5010</td>\n",
       "      <td>kzt</td>\n",
       "      <td>8.49</td>\n",
       "      <td>4.2450</td>\n",
       "    </tr>\n",
       "    <tr>\n",
       "      <th>4</th>\n",
       "      <td>972400</td>\n",
       "      <td>000898990054619</td>\n",
       "      <td>2024-10-04</td>\n",
       "      <td>2024-10-04 22:33:15</td>\n",
       "      <td>509453</td>\n",
       "      <td>нет</td>\n",
       "      <td>18</td>\n",
       "      <td>rub</td>\n",
       "      <td>mobile</td>\n",
       "      <td>1390.41</td>\n",
       "      <td>...</td>\n",
       "      <td>240.0</td>\n",
       "      <td>1896.0</td>\n",
       "      <td>Театр кукол \"Огни\" Инкорпорэйтед</td>\n",
       "      <td>ш. Набережное, д. 595 стр. 8</td>\n",
       "      <td>2024-10-04</td>\n",
       "      <td>100</td>\n",
       "      <td>19.6648</td>\n",
       "      <td>kzt</td>\n",
       "      <td>1390.41</td>\n",
       "      <td>463.4700</td>\n",
       "    </tr>\n",
       "  </tbody>\n",
       "</table>\n",
       "<p>5 rows × 30 columns</p>\n",
       "</div>"
      ],
      "text/plain": [
       "   order_id          user_id created_dt_msk      created_ts_msk  event_id  \\\n",
       "0   4359165  0002849b70a3ce2     2024-08-20 2024-08-20 16:08:03    169230   \n",
       "1   7965605  0005ca5e93f2cf4     2024-07-23 2024-07-23 18:36:24    237325   \n",
       "2   7292370  0005ca5e93f2cf4     2024-10-06 2024-10-06 13:56:02    578454   \n",
       "3   1139875  000898990054619     2024-07-13 2024-07-13 19:40:48    387271   \n",
       "4    972400  000898990054619     2024-10-04 2024-10-04 22:33:15    509453   \n",
       "\n",
       "  cinema_circuit  age_limit currency_code device_type_canonical  revenue  ...  \\\n",
       "0            нет         16           rub                mobile  1521.94  ...   \n",
       "1            нет          0           rub                mobile   289.45  ...   \n",
       "2            нет          0           rub                mobile  1258.57  ...   \n",
       "3            нет          0           rub                mobile     8.49  ...   \n",
       "4            нет         18           rub                mobile  1390.41  ...   \n",
       "\n",
       "  city_id  venue_id                                     venue_name  \\\n",
       "0   213.0    3972.0               Сценический центр \"Деталь\" Групп   \n",
       "1   213.0    2941.0      Музыкальная школа для детей \"Аккаунт\" Лтд   \n",
       "2   213.0    4507.0                 Училище искусств \"Нирвана\" Инк   \n",
       "3     2.0    3574.0  Театр альтернативного искусства \"Ода\" Лимитед   \n",
       "4   240.0    1896.0               Театр кукол \"Огни\" Инкорпорэйтед   \n",
       "\n",
       "                         venue_address       data nominal     curs  cdx  \\\n",
       "0  алл. Машиностроителей, д. 19 стр. 6 2024-08-20     100  18.6972  kzt   \n",
       "1             алл. Шмидта, д. 9 стр. 4 2024-07-23     100  18.3419  kzt   \n",
       "2               алл. Юбилейная, д. 5/6 2024-10-06     100  19.6475  kzt   \n",
       "3          алл. Есенина, д. 243 к. 3/8 2024-07-13     100  18.5010  kzt   \n",
       "4         ш. Набережное, д. 595 стр. 8 2024-10-04     100  19.6648  kzt   \n",
       "\n",
       "  revenue_rub one_ticket_revenue_rub  \n",
       "0     1521.94               380.4850  \n",
       "1      289.45               144.7250  \n",
       "2     1258.57               314.6425  \n",
       "3        8.49                 4.2450  \n",
       "4     1390.41               463.4700  \n",
       "\n",
       "[5 rows x 30 columns]"
      ]
     },
     "execution_count": 47,
     "metadata": {},
     "output_type": "execute_result"
    }
   ],
   "source": [
    "# Создадим столбец one_ticket_revenue_rub, содержащий значение выручки с продажи одного билета на мероприятие\n",
    "tickets_df_new['one_ticket_revenue_rub'] = tickets_df_new['revenue_rub'] / tickets_df_new['tickets_count']\n",
    "tickets_df_new.head()"
   ]
  },
  {
   "cell_type": "code",
   "execution_count": 48,
   "metadata": {},
   "outputs": [
    {
     "data": {
      "text/html": [
       "<div>\n",
       "<style scoped>\n",
       "    .dataframe tbody tr th:only-of-type {\n",
       "        vertical-align: middle;\n",
       "    }\n",
       "\n",
       "    .dataframe tbody tr th {\n",
       "        vertical-align: top;\n",
       "    }\n",
       "\n",
       "    .dataframe thead th {\n",
       "        text-align: right;\n",
       "    }\n",
       "</style>\n",
       "<table border=\"1\" class=\"dataframe\">\n",
       "  <thead>\n",
       "    <tr style=\"text-align: right;\">\n",
       "      <th></th>\n",
       "      <th>order_id</th>\n",
       "      <th>user_id</th>\n",
       "      <th>created_dt_msk</th>\n",
       "      <th>created_ts_msk</th>\n",
       "      <th>event_id</th>\n",
       "      <th>cinema_circuit</th>\n",
       "      <th>age_limit</th>\n",
       "      <th>currency_code</th>\n",
       "      <th>device_type_canonical</th>\n",
       "      <th>revenue</th>\n",
       "      <th>...</th>\n",
       "      <th>venue_id</th>\n",
       "      <th>venue_name</th>\n",
       "      <th>venue_address</th>\n",
       "      <th>data</th>\n",
       "      <th>nominal</th>\n",
       "      <th>curs</th>\n",
       "      <th>cdx</th>\n",
       "      <th>revenue_rub</th>\n",
       "      <th>one_ticket_revenue_rub</th>\n",
       "      <th>month</th>\n",
       "    </tr>\n",
       "  </thead>\n",
       "  <tbody>\n",
       "    <tr>\n",
       "      <th>0</th>\n",
       "      <td>4359165</td>\n",
       "      <td>0002849b70a3ce2</td>\n",
       "      <td>2024-08-20</td>\n",
       "      <td>2024-08-20 16:08:03</td>\n",
       "      <td>169230</td>\n",
       "      <td>нет</td>\n",
       "      <td>16</td>\n",
       "      <td>rub</td>\n",
       "      <td>mobile</td>\n",
       "      <td>1521.94</td>\n",
       "      <td>...</td>\n",
       "      <td>3972.0</td>\n",
       "      <td>Сценический центр \"Деталь\" Групп</td>\n",
       "      <td>алл. Машиностроителей, д. 19 стр. 6</td>\n",
       "      <td>2024-08-20</td>\n",
       "      <td>100</td>\n",
       "      <td>18.6972</td>\n",
       "      <td>kzt</td>\n",
       "      <td>1521.94</td>\n",
       "      <td>380.4850</td>\n",
       "      <td>8</td>\n",
       "    </tr>\n",
       "    <tr>\n",
       "      <th>1</th>\n",
       "      <td>7965605</td>\n",
       "      <td>0005ca5e93f2cf4</td>\n",
       "      <td>2024-07-23</td>\n",
       "      <td>2024-07-23 18:36:24</td>\n",
       "      <td>237325</td>\n",
       "      <td>нет</td>\n",
       "      <td>0</td>\n",
       "      <td>rub</td>\n",
       "      <td>mobile</td>\n",
       "      <td>289.45</td>\n",
       "      <td>...</td>\n",
       "      <td>2941.0</td>\n",
       "      <td>Музыкальная школа для детей \"Аккаунт\" Лтд</td>\n",
       "      <td>алл. Шмидта, д. 9 стр. 4</td>\n",
       "      <td>2024-07-23</td>\n",
       "      <td>100</td>\n",
       "      <td>18.3419</td>\n",
       "      <td>kzt</td>\n",
       "      <td>289.45</td>\n",
       "      <td>144.7250</td>\n",
       "      <td>7</td>\n",
       "    </tr>\n",
       "    <tr>\n",
       "      <th>2</th>\n",
       "      <td>7292370</td>\n",
       "      <td>0005ca5e93f2cf4</td>\n",
       "      <td>2024-10-06</td>\n",
       "      <td>2024-10-06 13:56:02</td>\n",
       "      <td>578454</td>\n",
       "      <td>нет</td>\n",
       "      <td>0</td>\n",
       "      <td>rub</td>\n",
       "      <td>mobile</td>\n",
       "      <td>1258.57</td>\n",
       "      <td>...</td>\n",
       "      <td>4507.0</td>\n",
       "      <td>Училище искусств \"Нирвана\" Инк</td>\n",
       "      <td>алл. Юбилейная, д. 5/6</td>\n",
       "      <td>2024-10-06</td>\n",
       "      <td>100</td>\n",
       "      <td>19.6475</td>\n",
       "      <td>kzt</td>\n",
       "      <td>1258.57</td>\n",
       "      <td>314.6425</td>\n",
       "      <td>10</td>\n",
       "    </tr>\n",
       "    <tr>\n",
       "      <th>3</th>\n",
       "      <td>1139875</td>\n",
       "      <td>000898990054619</td>\n",
       "      <td>2024-07-13</td>\n",
       "      <td>2024-07-13 19:40:48</td>\n",
       "      <td>387271</td>\n",
       "      <td>нет</td>\n",
       "      <td>0</td>\n",
       "      <td>rub</td>\n",
       "      <td>mobile</td>\n",
       "      <td>8.49</td>\n",
       "      <td>...</td>\n",
       "      <td>3574.0</td>\n",
       "      <td>Театр альтернативного искусства \"Ода\" Лимитед</td>\n",
       "      <td>алл. Есенина, д. 243 к. 3/8</td>\n",
       "      <td>2024-07-13</td>\n",
       "      <td>100</td>\n",
       "      <td>18.5010</td>\n",
       "      <td>kzt</td>\n",
       "      <td>8.49</td>\n",
       "      <td>4.2450</td>\n",
       "      <td>7</td>\n",
       "    </tr>\n",
       "    <tr>\n",
       "      <th>4</th>\n",
       "      <td>972400</td>\n",
       "      <td>000898990054619</td>\n",
       "      <td>2024-10-04</td>\n",
       "      <td>2024-10-04 22:33:15</td>\n",
       "      <td>509453</td>\n",
       "      <td>нет</td>\n",
       "      <td>18</td>\n",
       "      <td>rub</td>\n",
       "      <td>mobile</td>\n",
       "      <td>1390.41</td>\n",
       "      <td>...</td>\n",
       "      <td>1896.0</td>\n",
       "      <td>Театр кукол \"Огни\" Инкорпорэйтед</td>\n",
       "      <td>ш. Набережное, д. 595 стр. 8</td>\n",
       "      <td>2024-10-04</td>\n",
       "      <td>100</td>\n",
       "      <td>19.6648</td>\n",
       "      <td>kzt</td>\n",
       "      <td>1390.41</td>\n",
       "      <td>463.4700</td>\n",
       "      <td>10</td>\n",
       "    </tr>\n",
       "  </tbody>\n",
       "</table>\n",
       "<p>5 rows × 31 columns</p>\n",
       "</div>"
      ],
      "text/plain": [
       "   order_id          user_id created_dt_msk      created_ts_msk  event_id  \\\n",
       "0   4359165  0002849b70a3ce2     2024-08-20 2024-08-20 16:08:03    169230   \n",
       "1   7965605  0005ca5e93f2cf4     2024-07-23 2024-07-23 18:36:24    237325   \n",
       "2   7292370  0005ca5e93f2cf4     2024-10-06 2024-10-06 13:56:02    578454   \n",
       "3   1139875  000898990054619     2024-07-13 2024-07-13 19:40:48    387271   \n",
       "4    972400  000898990054619     2024-10-04 2024-10-04 22:33:15    509453   \n",
       "\n",
       "  cinema_circuit  age_limit currency_code device_type_canonical  revenue  ...  \\\n",
       "0            нет         16           rub                mobile  1521.94  ...   \n",
       "1            нет          0           rub                mobile   289.45  ...   \n",
       "2            нет          0           rub                mobile  1258.57  ...   \n",
       "3            нет          0           rub                mobile     8.49  ...   \n",
       "4            нет         18           rub                mobile  1390.41  ...   \n",
       "\n",
       "  venue_id                                     venue_name  \\\n",
       "0   3972.0               Сценический центр \"Деталь\" Групп   \n",
       "1   2941.0      Музыкальная школа для детей \"Аккаунт\" Лтд   \n",
       "2   4507.0                 Училище искусств \"Нирвана\" Инк   \n",
       "3   3574.0  Театр альтернативного искусства \"Ода\" Лимитед   \n",
       "4   1896.0               Театр кукол \"Огни\" Инкорпорэйтед   \n",
       "\n",
       "                         venue_address       data nominal     curs  cdx  \\\n",
       "0  алл. Машиностроителей, д. 19 стр. 6 2024-08-20     100  18.6972  kzt   \n",
       "1             алл. Шмидта, д. 9 стр. 4 2024-07-23     100  18.3419  kzt   \n",
       "2               алл. Юбилейная, д. 5/6 2024-10-06     100  19.6475  kzt   \n",
       "3          алл. Есенина, д. 243 к. 3/8 2024-07-13     100  18.5010  kzt   \n",
       "4         ш. Набережное, д. 595 стр. 8 2024-10-04     100  19.6648  kzt   \n",
       "\n",
       "  revenue_rub one_ticket_revenue_rub month  \n",
       "0     1521.94               380.4850     8  \n",
       "1      289.45               144.7250     7  \n",
       "2     1258.57               314.6425    10  \n",
       "3        8.49                 4.2450     7  \n",
       "4     1390.41               463.4700    10  \n",
       "\n",
       "[5 rows x 31 columns]"
      ]
     },
     "execution_count": 48,
     "metadata": {},
     "output_type": "execute_result"
    }
   ],
   "source": [
    "# Создадим новый столбец month, содержащий месяц даты создания заказа\n",
    "tickets_df_new['month'] = tickets_df_new['created_dt_msk'].dt.month\n",
    "tickets_df_new.head()"
   ]
  },
  {
   "cell_type": "code",
   "execution_count": 49,
   "metadata": {},
   "outputs": [
    {
     "data": {
      "text/html": [
       "<div>\n",
       "<style scoped>\n",
       "    .dataframe tbody tr th:only-of-type {\n",
       "        vertical-align: middle;\n",
       "    }\n",
       "\n",
       "    .dataframe tbody tr th {\n",
       "        vertical-align: top;\n",
       "    }\n",
       "\n",
       "    .dataframe thead th {\n",
       "        text-align: right;\n",
       "    }\n",
       "</style>\n",
       "<table border=\"1\" class=\"dataframe\">\n",
       "  <thead>\n",
       "    <tr style=\"text-align: right;\">\n",
       "      <th></th>\n",
       "      <th>order_id</th>\n",
       "      <th>user_id</th>\n",
       "      <th>created_dt_msk</th>\n",
       "      <th>created_ts_msk</th>\n",
       "      <th>event_id</th>\n",
       "      <th>cinema_circuit</th>\n",
       "      <th>age_limit</th>\n",
       "      <th>currency_code</th>\n",
       "      <th>device_type_canonical</th>\n",
       "      <th>revenue</th>\n",
       "      <th>...</th>\n",
       "      <th>venue_name</th>\n",
       "      <th>venue_address</th>\n",
       "      <th>data</th>\n",
       "      <th>nominal</th>\n",
       "      <th>curs</th>\n",
       "      <th>cdx</th>\n",
       "      <th>revenue_rub</th>\n",
       "      <th>one_ticket_revenue_rub</th>\n",
       "      <th>month</th>\n",
       "      <th>season</th>\n",
       "    </tr>\n",
       "  </thead>\n",
       "  <tbody>\n",
       "    <tr>\n",
       "      <th>0</th>\n",
       "      <td>4359165</td>\n",
       "      <td>0002849b70a3ce2</td>\n",
       "      <td>2024-08-20</td>\n",
       "      <td>2024-08-20 16:08:03</td>\n",
       "      <td>169230</td>\n",
       "      <td>нет</td>\n",
       "      <td>16</td>\n",
       "      <td>rub</td>\n",
       "      <td>mobile</td>\n",
       "      <td>1521.94</td>\n",
       "      <td>...</td>\n",
       "      <td>Сценический центр \"Деталь\" Групп</td>\n",
       "      <td>алл. Машиностроителей, д. 19 стр. 6</td>\n",
       "      <td>2024-08-20</td>\n",
       "      <td>100</td>\n",
       "      <td>18.6972</td>\n",
       "      <td>kzt</td>\n",
       "      <td>1521.94</td>\n",
       "      <td>380.4850</td>\n",
       "      <td>8</td>\n",
       "      <td>лето</td>\n",
       "    </tr>\n",
       "    <tr>\n",
       "      <th>1</th>\n",
       "      <td>7965605</td>\n",
       "      <td>0005ca5e93f2cf4</td>\n",
       "      <td>2024-07-23</td>\n",
       "      <td>2024-07-23 18:36:24</td>\n",
       "      <td>237325</td>\n",
       "      <td>нет</td>\n",
       "      <td>0</td>\n",
       "      <td>rub</td>\n",
       "      <td>mobile</td>\n",
       "      <td>289.45</td>\n",
       "      <td>...</td>\n",
       "      <td>Музыкальная школа для детей \"Аккаунт\" Лтд</td>\n",
       "      <td>алл. Шмидта, д. 9 стр. 4</td>\n",
       "      <td>2024-07-23</td>\n",
       "      <td>100</td>\n",
       "      <td>18.3419</td>\n",
       "      <td>kzt</td>\n",
       "      <td>289.45</td>\n",
       "      <td>144.7250</td>\n",
       "      <td>7</td>\n",
       "      <td>лето</td>\n",
       "    </tr>\n",
       "    <tr>\n",
       "      <th>2</th>\n",
       "      <td>7292370</td>\n",
       "      <td>0005ca5e93f2cf4</td>\n",
       "      <td>2024-10-06</td>\n",
       "      <td>2024-10-06 13:56:02</td>\n",
       "      <td>578454</td>\n",
       "      <td>нет</td>\n",
       "      <td>0</td>\n",
       "      <td>rub</td>\n",
       "      <td>mobile</td>\n",
       "      <td>1258.57</td>\n",
       "      <td>...</td>\n",
       "      <td>Училище искусств \"Нирвана\" Инк</td>\n",
       "      <td>алл. Юбилейная, д. 5/6</td>\n",
       "      <td>2024-10-06</td>\n",
       "      <td>100</td>\n",
       "      <td>19.6475</td>\n",
       "      <td>kzt</td>\n",
       "      <td>1258.57</td>\n",
       "      <td>314.6425</td>\n",
       "      <td>10</td>\n",
       "      <td>осень</td>\n",
       "    </tr>\n",
       "    <tr>\n",
       "      <th>3</th>\n",
       "      <td>1139875</td>\n",
       "      <td>000898990054619</td>\n",
       "      <td>2024-07-13</td>\n",
       "      <td>2024-07-13 19:40:48</td>\n",
       "      <td>387271</td>\n",
       "      <td>нет</td>\n",
       "      <td>0</td>\n",
       "      <td>rub</td>\n",
       "      <td>mobile</td>\n",
       "      <td>8.49</td>\n",
       "      <td>...</td>\n",
       "      <td>Театр альтернативного искусства \"Ода\" Лимитед</td>\n",
       "      <td>алл. Есенина, д. 243 к. 3/8</td>\n",
       "      <td>2024-07-13</td>\n",
       "      <td>100</td>\n",
       "      <td>18.5010</td>\n",
       "      <td>kzt</td>\n",
       "      <td>8.49</td>\n",
       "      <td>4.2450</td>\n",
       "      <td>7</td>\n",
       "      <td>лето</td>\n",
       "    </tr>\n",
       "    <tr>\n",
       "      <th>4</th>\n",
       "      <td>972400</td>\n",
       "      <td>000898990054619</td>\n",
       "      <td>2024-10-04</td>\n",
       "      <td>2024-10-04 22:33:15</td>\n",
       "      <td>509453</td>\n",
       "      <td>нет</td>\n",
       "      <td>18</td>\n",
       "      <td>rub</td>\n",
       "      <td>mobile</td>\n",
       "      <td>1390.41</td>\n",
       "      <td>...</td>\n",
       "      <td>Театр кукол \"Огни\" Инкорпорэйтед</td>\n",
       "      <td>ш. Набережное, д. 595 стр. 8</td>\n",
       "      <td>2024-10-04</td>\n",
       "      <td>100</td>\n",
       "      <td>19.6648</td>\n",
       "      <td>kzt</td>\n",
       "      <td>1390.41</td>\n",
       "      <td>463.4700</td>\n",
       "      <td>10</td>\n",
       "      <td>осень</td>\n",
       "    </tr>\n",
       "  </tbody>\n",
       "</table>\n",
       "<p>5 rows × 32 columns</p>\n",
       "</div>"
      ],
      "text/plain": [
       "   order_id          user_id created_dt_msk      created_ts_msk  event_id  \\\n",
       "0   4359165  0002849b70a3ce2     2024-08-20 2024-08-20 16:08:03    169230   \n",
       "1   7965605  0005ca5e93f2cf4     2024-07-23 2024-07-23 18:36:24    237325   \n",
       "2   7292370  0005ca5e93f2cf4     2024-10-06 2024-10-06 13:56:02    578454   \n",
       "3   1139875  000898990054619     2024-07-13 2024-07-13 19:40:48    387271   \n",
       "4    972400  000898990054619     2024-10-04 2024-10-04 22:33:15    509453   \n",
       "\n",
       "  cinema_circuit  age_limit currency_code device_type_canonical  revenue  ...  \\\n",
       "0            нет         16           rub                mobile  1521.94  ...   \n",
       "1            нет          0           rub                mobile   289.45  ...   \n",
       "2            нет          0           rub                mobile  1258.57  ...   \n",
       "3            нет          0           rub                mobile     8.49  ...   \n",
       "4            нет         18           rub                mobile  1390.41  ...   \n",
       "\n",
       "                                      venue_name  \\\n",
       "0               Сценический центр \"Деталь\" Групп   \n",
       "1      Музыкальная школа для детей \"Аккаунт\" Лтд   \n",
       "2                 Училище искусств \"Нирвана\" Инк   \n",
       "3  Театр альтернативного искусства \"Ода\" Лимитед   \n",
       "4               Театр кукол \"Огни\" Инкорпорэйтед   \n",
       "\n",
       "                         venue_address       data  nominal     curs  cdx  \\\n",
       "0  алл. Машиностроителей, д. 19 стр. 6 2024-08-20      100  18.6972  kzt   \n",
       "1             алл. Шмидта, д. 9 стр. 4 2024-07-23      100  18.3419  kzt   \n",
       "2               алл. Юбилейная, д. 5/6 2024-10-06      100  19.6475  kzt   \n",
       "3          алл. Есенина, д. 243 к. 3/8 2024-07-13      100  18.5010  kzt   \n",
       "4         ш. Набережное, д. 595 стр. 8 2024-10-04      100  19.6648  kzt   \n",
       "\n",
       "  revenue_rub one_ticket_revenue_rub month season  \n",
       "0     1521.94               380.4850     8   лето  \n",
       "1      289.45               144.7250     7   лето  \n",
       "2     1258.57               314.6425    10  осень  \n",
       "3        8.49                 4.2450     7   лето  \n",
       "4     1390.41               463.4700    10  осень  \n",
       "\n",
       "[5 rows x 32 columns]"
      ]
     },
     "execution_count": 49,
     "metadata": {},
     "output_type": "execute_result"
    }
   ],
   "source": [
    "# Создадим новый столбец season, содержащий данные о сезонности\n",
    "tickets_df_new['season'] = tickets_df_new.apply(\n",
    "    lambda row: 'зима' if row['month'] in [12, 1, 2] else \n",
    "                'весна' if row['month'] in [3, 4, 5] else \n",
    "                'лето' if row['month'] in [6, 7, 8] else\n",
    "                'осень' if row['month'] in [9, 10, 11] else\n",
    "               None,  \n",
    "    axis=1\n",
    ")\n",
    "tickets_df_new.head()"
   ]
  },
  {
   "cell_type": "code",
   "execution_count": 50,
   "metadata": {},
   "outputs": [
    {
     "name": "stdout",
     "output_type": "stream",
     "text": [
      "<class 'pandas.core.frame.DataFrame'>\n",
      "Int64Index: 287741 entries, 0 to 287740\n",
      "Data columns (total 32 columns):\n",
      " #   Column                  Non-Null Count   Dtype         \n",
      "---  ------                  --------------   -----         \n",
      " 0   order_id                287741 non-null  int64         \n",
      " 1   user_id                 287741 non-null  object        \n",
      " 2   created_dt_msk          287741 non-null  datetime64[ns]\n",
      " 3   created_ts_msk          287741 non-null  datetime64[ns]\n",
      " 4   event_id                287741 non-null  int64         \n",
      " 5   cinema_circuit          287741 non-null  object        \n",
      " 6   age_limit               287741 non-null  int64         \n",
      " 7   currency_code           287741 non-null  object        \n",
      " 8   device_type_canonical   287741 non-null  object        \n",
      " 9   revenue                 287741 non-null  float64       \n",
      " 10  service_name            287741 non-null  object        \n",
      " 11  tickets_count           287741 non-null  int64         \n",
      " 12  total                   287741 non-null  float64       \n",
      " 13  days_since_prev         266029 non-null  float64       \n",
      " 14  event_name              287741 non-null  object        \n",
      " 15  event_type_description  287741 non-null  object        \n",
      " 16  event_type_main         287741 non-null  object        \n",
      " 17  organizers              287741 non-null  object        \n",
      " 18  region_name             287741 non-null  object        \n",
      " 19  city_name               287741 non-null  object        \n",
      " 20  city_id                 287741 non-null  float64       \n",
      " 21  venue_id                287741 non-null  float64       \n",
      " 22  venue_name              287741 non-null  object        \n",
      " 23  venue_address           287741 non-null  object        \n",
      " 24  data                    287741 non-null  datetime64[ns]\n",
      " 25  nominal                 287741 non-null  int64         \n",
      " 26  curs                    287741 non-null  float64       \n",
      " 27  cdx                     287741 non-null  object        \n",
      " 28  revenue_rub             287741 non-null  float64       \n",
      " 29  one_ticket_revenue_rub  287741 non-null  float64       \n",
      " 30  month                   287741 non-null  int64         \n",
      " 31  season                  287741 non-null  object        \n",
      "dtypes: datetime64[ns](3), float64(8), int64(6), object(15)\n",
      "memory usage: 72.4+ MB\n"
     ]
    }
   ],
   "source": [
    "# Получим итоговую информацию о полученном датасете\n",
    "tickets_df_new.info()"
   ]
  },
  {
   "cell_type": "code",
   "execution_count": 51,
   "metadata": {},
   "outputs": [
    {
     "name": "stdout",
     "output_type": "stream",
     "text": [
      "Всего удалено 3108 строк, что составляет 1% данных.\n"
     ]
    }
   ],
   "source": [
    "#Посчитаем количество удаленных строк в результате предобработки данных\n",
    "deleted_rows = len(tickets_df) - len(tickets_df_new)\n",
    "deleted_rows_percent = round(deleted_rows / len(tickets_df) * 100)\n",
    "print(f'Всего удалено {deleted_rows} строк, что составляет {deleted_rows_percent}% данных.')"
   ]
  },
  {
   "cell_type": "markdown",
   "metadata": {},
   "source": [
    "### Промежуточные выводы\n",
    "\n",
    "В процессе предобработки данных были выполнены следующие этапы:\n",
    "\n",
    " - Объеденены начальные датасеты  и получен итоговый датасет `tickets_df_new` с **287665** строками и **32** столбцами.\n",
    " - Найдены и удалены неявные дубликаты и часть пропусков.\n",
    " - Данные, отображающие дату и время, были приведены к соответствующему типу.\n",
    " - Исследованы количественные данные столбцов `revenue` и `tickets_count` - распределение данных о величине выручки за заказ имеет асимметричное распределение и выбросы в области высоких значений выручки, а данные по количеству билетов в заказе имеет разные распределения в России и Казахстане (в России - асимметричное с выбросами (более 30 билетов в заказе), в Казахстане - симметричное распределение).\n",
    " - Были созданы новые столбцы, содержащие данные для дальгейшего анализа.\n",
    " - Всего в результате предобработки данных было удалено **3108 строк**, что составляет **1%** от превоначального количества."
   ]
  },
  {
   "cell_type": "markdown",
   "metadata": {},
   "source": [
    "## 3. Проведение исследовательского анализа данных."
   ]
  },
  {
   "cell_type": "markdown",
   "metadata": {},
   "source": [
    "### 3.1 Анализ распределения заказов по сегментам и их сезонные изменения"
   ]
  },
  {
   "cell_type": "markdown",
   "metadata": {},
   "source": [
    "Изучим изменение пользовательской активности или пользовательского интереса в связи с сезонностью и проанализируем динамику по таким разрезам:\n",
    "   - тип мероприятия `event_type_main`;\n",
    "   - тип устройства `device_type_canonical`;\n",
    "   - категория мероприятий по возрастному рейтингу `age_limit`."
   ]
  },
  {
   "cell_type": "code",
   "execution_count": 52,
   "metadata": {},
   "outputs": [
    {
     "data": {
      "text/plain": [
       "6     34163\n",
       "7     40405\n",
       "8     44547\n",
       "9     69350\n",
       "10    99276\n",
       "Name: month, dtype: int64"
      ]
     },
     "metadata": {},
     "output_type": "display_data"
    }
   ],
   "source": [
    "# Сгруппируем данные по месяцам и посмотрим на распределение количества заказов\n",
    "group_month = tickets_df_new['month'].value_counts().sort_values()\n",
    "display(group_month)"
   ]
  },
  {
   "cell_type": "code",
   "execution_count": 53,
   "metadata": {},
   "outputs": [
    {
     "data": {
      "image/png": "[encoded data removed]",
      "text/plain": [
       "<Figure size 864x360 with 1 Axes>"
      ]
     },
     "metadata": {
      "needs_background": "light"
     },
     "output_type": "display_data"
    }
   ],
   "source": [
    "# Визуализируем полученные данные с помощью столбцатой диаграммы\n",
    "# Создаём контейнер графика matplotlib и задаём его размер\n",
    "plt.figure(figsize=(12, 5))\n",
    "\n",
    "# Строим столбчатую диаграмму с помощью pandas через plot(kind='bar')\n",
    "group_month.plot(\n",
    "               kind='bar', # Тип графика - столбчатая диаграмма\n",
    "               rot=0, # Градус вращения подписи по оси Х\n",
    "               legend=False, # Выключаем легенду\n",
    "               title=f'Распределение количества заказов билетов по месяцам',\n",
    "               color='green' #настраиваем цвет графика\n",
    ")\n",
    "\n",
    "# Настраиваем оформление графика\n",
    "plt.xlabel('Номер месяца')\n",
    "plt.ylabel('Количество заказов')\n",
    "# Добавляем сетку графика\n",
    "plt.grid()\n",
    "\n",
    "# Выводим график\n",
    "plt.show()"
   ]
  },
  {
   "cell_type": "markdown",
   "metadata": {},
   "source": [
    "По полученной диаграмме видим, что в течение всего наблюдаемого периода с июня по октябрь количество заказов **растет**, и в октябре количесто заказов примерно **в 3 раза больше**, чем в июне.\n",
    "\n",
    "Рассмотрим теперь динамику количества заказов в разрезе разных категорий."
   ]
  },
  {
   "cell_type": "code",
   "execution_count": 54,
   "metadata": {
    "scrolled": true
   },
   "outputs": [
    {
     "data": {
      "text/html": [
       "<div>\n",
       "<style scoped>\n",
       "    .dataframe tbody tr th:only-of-type {\n",
       "        vertical-align: middle;\n",
       "    }\n",
       "\n",
       "    .dataframe tbody tr th {\n",
       "        vertical-align: top;\n",
       "    }\n",
       "\n",
       "    .dataframe thead th {\n",
       "        text-align: right;\n",
       "    }\n",
       "</style>\n",
       "<table border=\"1\" class=\"dataframe\">\n",
       "  <thead>\n",
       "    <tr style=\"text-align: right;\">\n",
       "      <th>device_type_canonical</th>\n",
       "      <th>desktop</th>\n",
       "      <th>mobile</th>\n",
       "    </tr>\n",
       "    <tr>\n",
       "      <th>season</th>\n",
       "      <th></th>\n",
       "      <th></th>\n",
       "    </tr>\n",
       "  </thead>\n",
       "  <tbody>\n",
       "    <tr>\n",
       "      <th>лето</th>\n",
       "      <td>0.193586</td>\n",
       "      <td>0.806414</td>\n",
       "    </tr>\n",
       "    <tr>\n",
       "      <th>осень</th>\n",
       "      <td>0.203427</td>\n",
       "      <td>0.796573</td>\n",
       "    </tr>\n",
       "  </tbody>\n",
       "</table>\n",
       "</div>"
      ],
      "text/plain": [
       "device_type_canonical   desktop    mobile\n",
       "season                                   \n",
       "лето                   0.193586  0.806414\n",
       "осень                  0.203427  0.796573"
      ]
     },
     "metadata": {},
     "output_type": "display_data"
    }
   ],
   "source": [
    "# Рассмотрим динамику количества заказов в разрезе разных типов устройств\n",
    "group_device = tickets_df_new.groupby('season')['device_type_canonical'].value_counts(normalize=True).unstack(fill_value=0)\n",
    "display(group_device)"
   ]
  },
  {
   "cell_type": "code",
   "execution_count": 55,
   "metadata": {},
   "outputs": [
    {
     "data": {
      "text/plain": [
       "<Figure size 864x360 with 0 Axes>"
      ]
     },
     "metadata": {},
     "output_type": "display_data"
    },
    {
     "data": {
      "image/png": "[encoded data removed]",
      "text/plain": [
       "<Figure size 432x288 with 1 Axes>"
      ]
     },
     "metadata": {
      "needs_background": "light"
     },
     "output_type": "display_data"
    }
   ],
   "source": [
    "# Визуализируем полученные данные с помощью столбцатой диаграммы\n",
    "# Создаём контейнер графика matplotlib и задаём его размер\n",
    "plt.figure(figsize=(12, 5))\n",
    "\n",
    "# Строим столбчатую диаграмму с помощью pandas через plot(kind='bar')\n",
    "group_device.plot(\n",
    "               kind='bar', # Тип графика - столбчатая диаграмма\n",
    "               rot=0, # Градус вращения подписи по оси Х\n",
    "               legend=True, # Выключаем легенду\n",
    "               title=f'Распределение долей количества заказов билетов по типам устройств'\n",
    ")\n",
    "\n",
    "# Настраиваем оформление графика\n",
    "plt.xlabel('Сезон')\n",
    "plt.ylabel('Доля заказов')\n",
    "# Добавляем сетку графика\n",
    "plt.grid()\n",
    "\n",
    "# Выводим график\n",
    "plt.show()"
   ]
  },
  {
   "cell_type": "markdown",
   "metadata": {},
   "source": [
    "По полученным числовым данным и диаграмме можно заметить, что доля заказов с различных питов устройств в летнее и осеннее время практически не отличается - разница составляет **1%**: летом выше доля заказов с мобильных устройств, а осенью - со стационарных.                          "
   ]
  },
  {
   "cell_type": "code",
   "execution_count": 56,
   "metadata": {},
   "outputs": [
    {
     "data": {
      "text/html": [
       "<div>\n",
       "<style scoped>\n",
       "    .dataframe tbody tr th:only-of-type {\n",
       "        vertical-align: middle;\n",
       "    }\n",
       "\n",
       "    .dataframe tbody tr th {\n",
       "        vertical-align: top;\n",
       "    }\n",
       "\n",
       "    .dataframe thead th {\n",
       "        text-align: right;\n",
       "    }\n",
       "</style>\n",
       "<table border=\"1\" class=\"dataframe\">\n",
       "  <thead>\n",
       "    <tr style=\"text-align: right;\">\n",
       "      <th>event_type_main</th>\n",
       "      <th>выставки</th>\n",
       "      <th>другое</th>\n",
       "      <th>концерты</th>\n",
       "      <th>спорт</th>\n",
       "      <th>стендап</th>\n",
       "      <th>театр</th>\n",
       "      <th>ёлки</th>\n",
       "    </tr>\n",
       "    <tr>\n",
       "      <th>season</th>\n",
       "      <th></th>\n",
       "      <th></th>\n",
       "      <th></th>\n",
       "      <th></th>\n",
       "      <th></th>\n",
       "      <th></th>\n",
       "      <th></th>\n",
       "    </tr>\n",
       "  </thead>\n",
       "  <tbody>\n",
       "    <tr>\n",
       "      <th>лето</th>\n",
       "      <td>0.020283</td>\n",
       "      <td>0.271712</td>\n",
       "      <td>0.426193</td>\n",
       "      <td>0.025236</td>\n",
       "      <td>0.053276</td>\n",
       "      <td>0.201007</td>\n",
       "      <td>0.002292</td>\n",
       "    </tr>\n",
       "    <tr>\n",
       "      <th>осень</th>\n",
       "      <td>0.014446</td>\n",
       "      <td>0.197034</td>\n",
       "      <td>0.372048</td>\n",
       "      <td>0.111970</td>\n",
       "      <td>0.041055</td>\n",
       "      <td>0.253419</td>\n",
       "      <td>0.010028</td>\n",
       "    </tr>\n",
       "  </tbody>\n",
       "</table>\n",
       "</div>"
      ],
      "text/plain": [
       "event_type_main  выставки    другое  концерты     спорт   стендап     театр  \\\n",
       "season                                                                        \n",
       "лето             0.020283  0.271712  0.426193  0.025236  0.053276  0.201007   \n",
       "осень            0.014446  0.197034  0.372048  0.111970  0.041055  0.253419   \n",
       "\n",
       "event_type_main      ёлки  \n",
       "season                     \n",
       "лето             0.002292  \n",
       "осень            0.010028  "
      ]
     },
     "metadata": {},
     "output_type": "display_data"
    }
   ],
   "source": [
    "# Рассмотрим динамику количества заказов в разрезе разных типов мероприятий\n",
    "group_event_type = tickets_df_new.groupby('season')['event_type_main'].value_counts(normalize=True).unstack(fill_value=0)\n",
    "#group_event_type = tickets_df_new.groupby(['season', 'event_type_main'])['order_id'].count().reset_index()\n",
    "display(group_event_type)"
   ]
  },
  {
   "cell_type": "code",
   "execution_count": 57,
   "metadata": {},
   "outputs": [
    {
     "data": {
      "text/html": [
       "<div>\n",
       "<style scoped>\n",
       "    .dataframe tbody tr th:only-of-type {\n",
       "        vertical-align: middle;\n",
       "    }\n",
       "\n",
       "    .dataframe tbody tr th {\n",
       "        vertical-align: top;\n",
       "    }\n",
       "\n",
       "    .dataframe thead th {\n",
       "        text-align: right;\n",
       "    }\n",
       "</style>\n",
       "<table border=\"1\" class=\"dataframe\">\n",
       "  <thead>\n",
       "    <tr style=\"text-align: right;\">\n",
       "      <th>season</th>\n",
       "      <th>лето</th>\n",
       "      <th>осень</th>\n",
       "    </tr>\n",
       "    <tr>\n",
       "      <th>event_type_main</th>\n",
       "      <th></th>\n",
       "      <th></th>\n",
       "    </tr>\n",
       "  </thead>\n",
       "  <tbody>\n",
       "    <tr>\n",
       "      <th>выставки</th>\n",
       "      <td>0.020283</td>\n",
       "      <td>0.014446</td>\n",
       "    </tr>\n",
       "    <tr>\n",
       "      <th>другое</th>\n",
       "      <td>0.271712</td>\n",
       "      <td>0.197034</td>\n",
       "    </tr>\n",
       "    <tr>\n",
       "      <th>концерты</th>\n",
       "      <td>0.426193</td>\n",
       "      <td>0.372048</td>\n",
       "    </tr>\n",
       "    <tr>\n",
       "      <th>спорт</th>\n",
       "      <td>0.025236</td>\n",
       "      <td>0.111970</td>\n",
       "    </tr>\n",
       "    <tr>\n",
       "      <th>стендап</th>\n",
       "      <td>0.053276</td>\n",
       "      <td>0.041055</td>\n",
       "    </tr>\n",
       "    <tr>\n",
       "      <th>театр</th>\n",
       "      <td>0.201007</td>\n",
       "      <td>0.253419</td>\n",
       "    </tr>\n",
       "    <tr>\n",
       "      <th>ёлки</th>\n",
       "      <td>0.002292</td>\n",
       "      <td>0.010028</td>\n",
       "    </tr>\n",
       "  </tbody>\n",
       "</table>\n",
       "</div>"
      ],
      "text/plain": [
       "season               лето     осень\n",
       "event_type_main                    \n",
       "выставки         0.020283  0.014446\n",
       "другое           0.271712  0.197034\n",
       "концерты         0.426193  0.372048\n",
       "спорт            0.025236  0.111970\n",
       "стендап          0.053276  0.041055\n",
       "театр            0.201007  0.253419\n",
       "ёлки             0.002292  0.010028"
      ]
     },
     "metadata": {},
     "output_type": "display_data"
    }
   ],
   "source": [
    "# Транспонируем датасет\n",
    "group_event_type_transposed = group_event_type.T\n",
    "display(group_event_type_transposed)"
   ]
  },
  {
   "cell_type": "code",
   "execution_count": 58,
   "metadata": {},
   "outputs": [
    {
     "data": {
      "text/plain": [
       "<Figure size 1008x504 with 0 Axes>"
      ]
     },
     "metadata": {},
     "output_type": "display_data"
    },
    {
     "data": {
      "image/png": "[encoded data removed]",
      "text/plain": [
       "<Figure size 432x288 with 1 Axes>"
      ]
     },
     "metadata": {
      "needs_background": "light"
     },
     "output_type": "display_data"
    }
   ],
   "source": [
    "# Визуализируем полученные данные с помощью столбцатой диаграммы\n",
    "# Создаём контейнер графика matplotlib и задаём его размер\n",
    "plt.figure(figsize=(14, 7))\n",
    "\n",
    "# Строим столбчатую диаграмму с помощью pandas через plot(kind='bar')\n",
    "group_event_type_transposed.plot(\n",
    "               kind='bar', # Тип графика - столбчатая диаграмма\n",
    "               #x='event_type_main',\n",
    "               rot=0, # Градус вращения подписи по оси Х\n",
    "               legend=True, # Выключаем легенду\n",
    "               title=f'Распределение долей количества заказов билетов по типам мероприятий'\n",
    ")\n",
    "\n",
    "\n",
    "# Настраиваем оформление графика\n",
    "plt.xlabel('Сезон')\n",
    "plt.ylabel('Доля заказов')\n",
    "# Добавляем сетку графика\n",
    "plt.grid()\n",
    "\n",
    "# Выводим график\n",
    "plt.show()"
   ]
  },
  {
   "cell_type": "markdown",
   "metadata": {},
   "source": [
    "По полученной диаграмме и числовым данным можно заметить, что на часть мероприятий доля заказов выросла (спорт, театр, ёлки), а на часть мероприятий уменьшилась (концерты, стендап, выставки):\n",
    "   - в оба сезона лидируют продажи билетов на `концерты`, но летом доля концертов **выше на 5.4%**;\n",
    "   - доля заказов билетов на `елки` в оба сезона минимальна, но осенью доля **увеличилась на 0.8%**\n",
    "   - доля заказов билетов в `театр` осенью **увеличилась на 5.2%**;\n",
    "   - доля заказов на `спортивные мероприятия` осенью **увеличилась на 8.7%**;\n",
    "   - доля заказов билетов на `стендап` осенью **уменьшилась на 1.2%**;\n",
    "   - доля заказов билетов на `выставки` осенью **уменьшилась на 0.6%**.\n",
    "   \n",
    "Данные изменения можно объяснить тем, что в летнее время проводится большое количество фестивалей, а во многих театрах каникулы, осенью же возвращаются театры, ближе к зиме появляется больше билетов на различные новогодние мероприятия. \n",
    "   "
   ]
  },
  {
   "cell_type": "code",
   "execution_count": 59,
   "metadata": {},
   "outputs": [
    {
     "data": {
      "text/html": [
       "<div>\n",
       "<style scoped>\n",
       "    .dataframe tbody tr th:only-of-type {\n",
       "        vertical-align: middle;\n",
       "    }\n",
       "\n",
       "    .dataframe tbody tr th {\n",
       "        vertical-align: top;\n",
       "    }\n",
       "\n",
       "    .dataframe thead th {\n",
       "        text-align: right;\n",
       "    }\n",
       "</style>\n",
       "<table border=\"1\" class=\"dataframe\">\n",
       "  <thead>\n",
       "    <tr style=\"text-align: right;\">\n",
       "      <th>season</th>\n",
       "      <th>лето</th>\n",
       "      <th>осень</th>\n",
       "    </tr>\n",
       "    <tr>\n",
       "      <th>age_limit</th>\n",
       "      <th></th>\n",
       "      <th></th>\n",
       "    </tr>\n",
       "  </thead>\n",
       "  <tbody>\n",
       "    <tr>\n",
       "      <th>0</th>\n",
       "      <td>0.179675</td>\n",
       "      <td>0.236191</td>\n",
       "    </tr>\n",
       "    <tr>\n",
       "      <th>6</th>\n",
       "      <td>0.181950</td>\n",
       "      <td>0.176242</td>\n",
       "    </tr>\n",
       "    <tr>\n",
       "      <th>12</th>\n",
       "      <td>0.205381</td>\n",
       "      <td>0.220974</td>\n",
       "    </tr>\n",
       "    <tr>\n",
       "      <th>16</th>\n",
       "      <td>0.283373</td>\n",
       "      <td>0.262207</td>\n",
       "    </tr>\n",
       "    <tr>\n",
       "      <th>18</th>\n",
       "      <td>0.149620</td>\n",
       "      <td>0.104385</td>\n",
       "    </tr>\n",
       "  </tbody>\n",
       "</table>\n",
       "</div>"
      ],
      "text/plain": [
       "season         лето     осень\n",
       "age_limit                    \n",
       "0          0.179675  0.236191\n",
       "6          0.181950  0.176242\n",
       "12         0.205381  0.220974\n",
       "16         0.283373  0.262207\n",
       "18         0.149620  0.104385"
      ]
     },
     "metadata": {},
     "output_type": "display_data"
    }
   ],
   "source": [
    "# Рассмотрим динамику количества заказов в разрезе категорий мероприятий по возрастному рейтингу\n",
    "group_age = tickets_df_new.groupby('season')['age_limit'].value_counts(normalize=True).unstack(fill_value=0)\n",
    "group_age_transposed = group_age.T\n",
    "display(group_age_transposed)"
   ]
  },
  {
   "cell_type": "code",
   "execution_count": 60,
   "metadata": {},
   "outputs": [
    {
     "data": {
      "text/plain": [
       "<Figure size 864x360 with 0 Axes>"
      ]
     },
     "metadata": {},
     "output_type": "display_data"
    },
    {
     "data": {
      "image/png": "[encoded data removed]",
      "text/plain": [
       "<Figure size 432x288 with 1 Axes>"
      ]
     },
     "metadata": {
      "needs_background": "light"
     },
     "output_type": "display_data"
    }
   ],
   "source": [
    "# Визуализируем полученные данные с помощью столбцатой диаграммы\n",
    "# Создаём контейнер графика matplotlib и задаём его размер\n",
    "plt.figure(figsize=(12, 5))\n",
    "\n",
    "# Строим столбчатую диаграмму с помощью pandas через plot(kind='bar')\n",
    "group_age_transposed.plot(\n",
    "               kind='bar', # Тип графика - столбчатая диаграмма\n",
    "               rot=0, # Градус вращения подписи по оси Х\n",
    "               legend=True, # Выключаем легенду\n",
    "               title=f'Распределение долей количества заказов билетов по возрастному рейтингу'\n",
    ")\n",
    "\n",
    "# Настраиваем оформление графика\n",
    "plt.xlabel('Сезон')\n",
    "plt.ylabel('Доля заказов')\n",
    "# Добавляем сетку графика\n",
    "plt.grid()\n",
    "\n",
    "# Выводим график\n",
    "plt.show()"
   ]
  },
  {
   "cell_type": "markdown",
   "metadata": {},
   "source": [
    "По полученной диаграмме и числовым данным можно увидеть, что доля заказов на мероприятия возрастных категорий `0+` и `12+` осенью **выросла** (на **5.7%** и **1.6%** соответственно), а доля мероприятий с возрастными категориями `6+`, `16+` и `18+` осенью **уменьшилась** (на **0.6%**, **2.1%** и **4.5%** соответственно).\n",
    "\n",
    "Теперь изучим изменение выручки с продажи одного билета в зависимости от типа мероприятия летом и осенью."
   ]
  },
  {
   "cell_type": "code",
   "execution_count": 61,
   "metadata": {},
   "outputs": [
    {
     "data": {
      "text/html": [
       "<div>\n",
       "<style scoped>\n",
       "    .dataframe tbody tr th:only-of-type {\n",
       "        vertical-align: middle;\n",
       "    }\n",
       "\n",
       "    .dataframe tbody tr th {\n",
       "        vertical-align: top;\n",
       "    }\n",
       "\n",
       "    .dataframe thead th {\n",
       "        text-align: right;\n",
       "    }\n",
       "</style>\n",
       "<table border=\"1\" class=\"dataframe\">\n",
       "  <thead>\n",
       "    <tr style=\"text-align: right;\">\n",
       "      <th></th>\n",
       "      <th>season</th>\n",
       "      <th>event_type_main</th>\n",
       "      <th>one_ticket_revenue_rub</th>\n",
       "    </tr>\n",
       "  </thead>\n",
       "  <tbody>\n",
       "    <tr>\n",
       "      <th>0</th>\n",
       "      <td>лето</td>\n",
       "      <td>выставки</td>\n",
       "      <td>86.42</td>\n",
       "    </tr>\n",
       "    <tr>\n",
       "      <th>1</th>\n",
       "      <td>лето</td>\n",
       "      <td>другое</td>\n",
       "      <td>77.44</td>\n",
       "    </tr>\n",
       "    <tr>\n",
       "      <th>2</th>\n",
       "      <td>лето</td>\n",
       "      <td>концерты</td>\n",
       "      <td>304.79</td>\n",
       "    </tr>\n",
       "    <tr>\n",
       "      <th>3</th>\n",
       "      <td>лето</td>\n",
       "      <td>спорт</td>\n",
       "      <td>50.76</td>\n",
       "    </tr>\n",
       "    <tr>\n",
       "      <th>4</th>\n",
       "      <td>лето</td>\n",
       "      <td>стендап</td>\n",
       "      <td>218.52</td>\n",
       "    </tr>\n",
       "    <tr>\n",
       "      <th>5</th>\n",
       "      <td>лето</td>\n",
       "      <td>театр</td>\n",
       "      <td>214.14</td>\n",
       "    </tr>\n",
       "    <tr>\n",
       "      <th>6</th>\n",
       "      <td>лето</td>\n",
       "      <td>ёлки</td>\n",
       "      <td>271.44</td>\n",
       "    </tr>\n",
       "    <tr>\n",
       "      <th>7</th>\n",
       "      <td>осень</td>\n",
       "      <td>выставки</td>\n",
       "      <td>90.60</td>\n",
       "    </tr>\n",
       "    <tr>\n",
       "      <th>8</th>\n",
       "      <td>осень</td>\n",
       "      <td>другое</td>\n",
       "      <td>76.12</td>\n",
       "    </tr>\n",
       "    <tr>\n",
       "      <th>9</th>\n",
       "      <td>осень</td>\n",
       "      <td>концерты</td>\n",
       "      <td>268.36</td>\n",
       "    </tr>\n",
       "    <tr>\n",
       "      <th>10</th>\n",
       "      <td>осень</td>\n",
       "      <td>спорт</td>\n",
       "      <td>49.97</td>\n",
       "    </tr>\n",
       "    <tr>\n",
       "      <th>11</th>\n",
       "      <td>осень</td>\n",
       "      <td>стендап</td>\n",
       "      <td>231.12</td>\n",
       "    </tr>\n",
       "    <tr>\n",
       "      <th>12</th>\n",
       "      <td>осень</td>\n",
       "      <td>театр</td>\n",
       "      <td>175.98</td>\n",
       "    </tr>\n",
       "    <tr>\n",
       "      <th>13</th>\n",
       "      <td>осень</td>\n",
       "      <td>ёлки</td>\n",
       "      <td>229.59</td>\n",
       "    </tr>\n",
       "  </tbody>\n",
       "</table>\n",
       "</div>"
      ],
      "text/plain": [
       "   season event_type_main  one_ticket_revenue_rub\n",
       "0    лето        выставки                   86.42\n",
       "1    лето          другое                   77.44\n",
       "2    лето        концерты                  304.79\n",
       "3    лето           спорт                   50.76\n",
       "4    лето         стендап                  218.52\n",
       "5    лето           театр                  214.14\n",
       "6    лето            ёлки                  271.44\n",
       "7   осень        выставки                   90.60\n",
       "8   осень          другое                   76.12\n",
       "9   осень        концерты                  268.36\n",
       "10  осень           спорт                   49.97\n",
       "11  осень         стендап                  231.12\n",
       "12  осень           театр                  175.98\n",
       "13  осень            ёлки                  229.59"
      ]
     },
     "metadata": {},
     "output_type": "display_data"
    }
   ],
   "source": [
    "# Рассчитаем выручку с продажи 1 билета в зависимости от типа мероприятий\n",
    "group_one_ticket_revenue = tickets_df_new.groupby(['season', 'event_type_main'])['one_ticket_revenue_rub'].mean().round(2).reset_index()\n",
    "display(group_one_ticket_revenue)\n"
   ]
  },
  {
   "cell_type": "code",
   "execution_count": 62,
   "metadata": {
    "scrolled": true
   },
   "outputs": [
    {
     "data": {
      "image/png": "[encoded data removed]",
      "text/plain": [
       "<Figure size 864x360 with 1 Axes>"
      ]
     },
     "metadata": {
      "needs_background": "light"
     },
     "output_type": "display_data"
    }
   ],
   "source": [
    "# Визуализируем полученные данные с помощью столбцатой диаграммы\n",
    "# Создаём контейнер графика matplotlib и задаём его размер\n",
    "plt.figure(figsize=(12, 5))\n",
    "\n",
    "# Строим столбчатую диаграмму с помощью pandas через plot(kind='bar')\n",
    "sns.barplot(data=group_one_ticket_revenue, \n",
    "           x='event_type_main', \n",
    "           y='one_ticket_revenue_rub', \n",
    "           hue='season',\n",
    "           palette='tab10')\n",
    "plt.title('Выручка за билет по сезонам и типам мероприятий')\n",
    "plt.ylabel('Выручка за билет, руб')\n",
    "plt.xlabel('Тип мероприятия')\n",
    "plt.legend(title='Сезон')\n",
    "plt.grid(axis='y', alpha=0.3)\n",
    "plt.tight_layout()\n",
    "plt.show()"
   ]
  },
  {
   "cell_type": "markdown",
   "metadata": {},
   "source": [
    "По полученной диаграмме видим, что разница между средней выручкой за билет в разные сезоны невелика, рассчитаем ее."
   ]
  },
  {
   "cell_type": "code",
   "execution_count": 63,
   "metadata": {},
   "outputs": [
    {
     "data": {
      "text/html": [
       "<div>\n",
       "<style scoped>\n",
       "    .dataframe tbody tr th:only-of-type {\n",
       "        vertical-align: middle;\n",
       "    }\n",
       "\n",
       "    .dataframe tbody tr th {\n",
       "        vertical-align: top;\n",
       "    }\n",
       "\n",
       "    .dataframe thead th {\n",
       "        text-align: right;\n",
       "    }\n",
       "</style>\n",
       "<table border=\"1\" class=\"dataframe\">\n",
       "  <thead>\n",
       "    <tr style=\"text-align: right;\">\n",
       "      <th>season</th>\n",
       "      <th>лето</th>\n",
       "      <th>осень</th>\n",
       "      <th>относительная_разница_%</th>\n",
       "    </tr>\n",
       "    <tr>\n",
       "      <th>event_type_main</th>\n",
       "      <th></th>\n",
       "      <th></th>\n",
       "      <th></th>\n",
       "    </tr>\n",
       "  </thead>\n",
       "  <tbody>\n",
       "    <tr>\n",
       "      <th>выставки</th>\n",
       "      <td>86.42</td>\n",
       "      <td>90.60</td>\n",
       "      <td>4.84</td>\n",
       "    </tr>\n",
       "    <tr>\n",
       "      <th>другое</th>\n",
       "      <td>77.44</td>\n",
       "      <td>76.12</td>\n",
       "      <td>-1.70</td>\n",
       "    </tr>\n",
       "    <tr>\n",
       "      <th>концерты</th>\n",
       "      <td>304.79</td>\n",
       "      <td>268.36</td>\n",
       "      <td>-11.95</td>\n",
       "    </tr>\n",
       "    <tr>\n",
       "      <th>спорт</th>\n",
       "      <td>50.76</td>\n",
       "      <td>49.97</td>\n",
       "      <td>-1.56</td>\n",
       "    </tr>\n",
       "    <tr>\n",
       "      <th>стендап</th>\n",
       "      <td>218.52</td>\n",
       "      <td>231.12</td>\n",
       "      <td>5.77</td>\n",
       "    </tr>\n",
       "    <tr>\n",
       "      <th>театр</th>\n",
       "      <td>214.14</td>\n",
       "      <td>175.98</td>\n",
       "      <td>-17.82</td>\n",
       "    </tr>\n",
       "    <tr>\n",
       "      <th>ёлки</th>\n",
       "      <td>271.44</td>\n",
       "      <td>229.59</td>\n",
       "      <td>-15.42</td>\n",
       "    </tr>\n",
       "  </tbody>\n",
       "</table>\n",
       "</div>"
      ],
      "text/plain": [
       "season             лето   осень  относительная_разница_%\n",
       "event_type_main                                         \n",
       "выставки          86.42   90.60                     4.84\n",
       "другое            77.44   76.12                    -1.70\n",
       "концерты         304.79  268.36                   -11.95\n",
       "спорт             50.76   49.97                    -1.56\n",
       "стендап          218.52  231.12                     5.77\n",
       "театр            214.14  175.98                   -17.82\n",
       "ёлки             271.44  229.59                   -15.42"
      ]
     },
     "metadata": {},
     "output_type": "display_data"
    }
   ],
   "source": [
    "# Рассчитаем относительное изменение средней выручки за билет\n",
    "# Создаем pivot таблицу\n",
    "pivot_df = group_one_ticket_revenue.pivot(index='event_type_main', \n",
    "                             columns='season', \n",
    "                             values='one_ticket_revenue_rub')\n",
    "pivot_df['относительная_разница_%'] = ((pivot_df['осень'] - pivot_df['лето']) / pivot_df['лето'] * 100).round(2)\n",
    "\n",
    "display(pivot_df)"
   ]
  },
  {
   "cell_type": "code",
   "execution_count": 64,
   "metadata": {},
   "outputs": [
    {
     "data": {
      "text/plain": [
       "<Figure size 1008x504 with 0 Axes>"
      ]
     },
     "metadata": {},
     "output_type": "display_data"
    },
    {
     "data": {
      "image/png": "[encoded data removed]",
      "text/plain": [
       "<Figure size 432x288 with 1 Axes>"
      ]
     },
     "metadata": {
      "needs_background": "light"
     },
     "output_type": "display_data"
    }
   ],
   "source": [
    "# Визуализируем изменение средней выручки\n",
    "# Создаём контейнер графика matplotlib и задаём его размер\n",
    "plt.figure(figsize=(14, 7))\n",
    "\n",
    "# Строим столбчатую диаграмму с помощью pandas через plot(kind='bar')\n",
    "pivot_df.plot(\n",
    "               kind='bar', # Тип графика - столбчатая диаграмма\n",
    "               use_index=True,\n",
    "               y='относительная_разница_%',\n",
    "               rot=0, # Градус вращения подписи по оси Х\n",
    "               legend=True, # Выключаем легенду\n",
    "               title=f'Относительная разница изменения средней выручки'\n",
    ")\n",
    "\n",
    "# Настраиваем оформление графика\n",
    "plt.xlabel('Тип мероприятия')\n",
    "plt.ylabel('Изменение выручки, %')\n",
    "# Добавляем сетку графика\n",
    "plt.grid()\n",
    "\n",
    "# Выводим график\n",
    "plt.show()"
   ]
  },
  {
   "cell_type": "markdown",
   "metadata": {},
   "source": [
    "По данным в таблице и диаграмме видим, что средняя стоимость билета на `выставку` и `стендап` осенью **на 5% выше**, чем летом, для остальных типов мероприятий средняя стоимость билета осенью **уменьшилась**: меньше всего на `спортивные мероприятия` - **3.83%**, больше всего стоимость уменьшилась на билеты в `театр` - на **17.82%**.\n",
    "\n",
    "Объединяя эти выводы можно сказать, что тип устройства не зависит от сезонности, а вот тип мероприятия и возрастное ограничение зависит от сезона. Средняя стоимость билета для большинства типов мероприятий уменьшилась осенью на те типы мероприятия, доля заказов которых увеличилась (за исключением концертов)."
   ]
  },
  {
   "cell_type": "markdown",
   "metadata": {},
   "source": [
    "###  3.2. Осенняя активность пользователей"
   ]
  },
  {
   "cell_type": "markdown",
   "metadata": {},
   "source": [
    "Изучим активность пользователей осенью 2024 года.\n",
    "\n",
    "Для начала проанализируем динамику изменений по дням."
   ]
  },
  {
   "cell_type": "code",
   "execution_count": 65,
   "metadata": {},
   "outputs": [
    {
     "data": {
      "text/html": [
       "<div>\n",
       "<style scoped>\n",
       "    .dataframe tbody tr th:only-of-type {\n",
       "        vertical-align: middle;\n",
       "    }\n",
       "\n",
       "    .dataframe tbody tr th {\n",
       "        vertical-align: top;\n",
       "    }\n",
       "\n",
       "    .dataframe thead th {\n",
       "        text-align: right;\n",
       "    }\n",
       "</style>\n",
       "<table border=\"1\" class=\"dataframe\">\n",
       "  <thead>\n",
       "    <tr style=\"text-align: right;\">\n",
       "      <th></th>\n",
       "      <th>created_dt_msk</th>\n",
       "      <th>total_orders</th>\n",
       "      <th>dau</th>\n",
       "      <th>avg_revenue</th>\n",
       "      <th>avg_orders</th>\n",
       "    </tr>\n",
       "  </thead>\n",
       "  <tbody>\n",
       "    <tr>\n",
       "      <th>0</th>\n",
       "      <td>2024-09-01</td>\n",
       "      <td>1327</td>\n",
       "      <td>564</td>\n",
       "      <td>200.168708</td>\n",
       "      <td>2.352837</td>\n",
       "    </tr>\n",
       "    <tr>\n",
       "      <th>1</th>\n",
       "      <td>2024-09-02</td>\n",
       "      <td>1380</td>\n",
       "      <td>574</td>\n",
       "      <td>189.464639</td>\n",
       "      <td>2.404181</td>\n",
       "    </tr>\n",
       "    <tr>\n",
       "      <th>2</th>\n",
       "      <td>2024-09-03</td>\n",
       "      <td>5113</td>\n",
       "      <td>778</td>\n",
       "      <td>80.350151</td>\n",
       "      <td>6.571979</td>\n",
       "    </tr>\n",
       "    <tr>\n",
       "      <th>3</th>\n",
       "      <td>2024-09-04</td>\n",
       "      <td>1773</td>\n",
       "      <td>686</td>\n",
       "      <td>178.048069</td>\n",
       "      <td>2.584548</td>\n",
       "    </tr>\n",
       "    <tr>\n",
       "      <th>4</th>\n",
       "      <td>2024-09-05</td>\n",
       "      <td>1944</td>\n",
       "      <td>739</td>\n",
       "      <td>189.510156</td>\n",
       "      <td>2.630582</td>\n",
       "    </tr>\n",
       "    <tr>\n",
       "      <th>...</th>\n",
       "      <td>...</td>\n",
       "      <td>...</td>\n",
       "      <td>...</td>\n",
       "      <td>...</td>\n",
       "      <td>...</td>\n",
       "    </tr>\n",
       "    <tr>\n",
       "      <th>56</th>\n",
       "      <td>2024-10-27</td>\n",
       "      <td>2849</td>\n",
       "      <td>1034</td>\n",
       "      <td>186.968328</td>\n",
       "      <td>2.755319</td>\n",
       "    </tr>\n",
       "    <tr>\n",
       "      <th>57</th>\n",
       "      <td>2024-10-28</td>\n",
       "      <td>2838</td>\n",
       "      <td>985</td>\n",
       "      <td>170.654940</td>\n",
       "      <td>2.881218</td>\n",
       "    </tr>\n",
       "    <tr>\n",
       "      <th>58</th>\n",
       "      <td>2024-10-29</td>\n",
       "      <td>2835</td>\n",
       "      <td>998</td>\n",
       "      <td>177.366072</td>\n",
       "      <td>2.840681</td>\n",
       "    </tr>\n",
       "    <tr>\n",
       "      <th>59</th>\n",
       "      <td>2024-10-30</td>\n",
       "      <td>2927</td>\n",
       "      <td>1039</td>\n",
       "      <td>182.791483</td>\n",
       "      <td>2.817132</td>\n",
       "    </tr>\n",
       "    <tr>\n",
       "      <th>60</th>\n",
       "      <td>2024-10-31</td>\n",
       "      <td>5961</td>\n",
       "      <td>1272</td>\n",
       "      <td>150.530017</td>\n",
       "      <td>4.686321</td>\n",
       "    </tr>\n",
       "  </tbody>\n",
       "</table>\n",
       "<p>61 rows × 5 columns</p>\n",
       "</div>"
      ],
      "text/plain": [
       "   created_dt_msk  total_orders   dau  avg_revenue  avg_orders\n",
       "0      2024-09-01          1327   564   200.168708    2.352837\n",
       "1      2024-09-02          1380   574   189.464639    2.404181\n",
       "2      2024-09-03          5113   778    80.350151    6.571979\n",
       "3      2024-09-04          1773   686   178.048069    2.584548\n",
       "4      2024-09-05          1944   739   189.510156    2.630582\n",
       "..            ...           ...   ...          ...         ...\n",
       "56     2024-10-27          2849  1034   186.968328    2.755319\n",
       "57     2024-10-28          2838   985   170.654940    2.881218\n",
       "58     2024-10-29          2835   998   177.366072    2.840681\n",
       "59     2024-10-30          2927  1039   182.791483    2.817132\n",
       "60     2024-10-31          5961  1272   150.530017    4.686321\n",
       "\n",
       "[61 rows x 5 columns]"
      ]
     },
     "metadata": {},
     "output_type": "display_data"
    }
   ],
   "source": [
    "# Создадим таблицу, содержащую количество заказов, количество уникальных пользователей и среднюю стоимость билета \n",
    "# на каждый осенний день\n",
    "activ_for_days_df = tickets_df_new[tickets_df_new['season']=='осень'].groupby('created_dt_msk').agg({\n",
    "    'order_id':'count',\n",
    "    'user_id':'nunique',\n",
    "    'one_ticket_revenue_rub':'mean'\n",
    "}).rename(columns={\n",
    "    'order_id': 'total_orders',\n",
    "    'user_id': 'dau',\n",
    "    'one_ticket_revenue_rub': 'avg_revenue'}).reset_index()\n",
    "\n",
    "# Добавим столбец, показывающий среднее число заказов на пользователя\n",
    "activ_for_days_df['avg_orders'] = activ_for_days_df['total_orders'] / activ_for_days_df['dau']    \n",
    "display(activ_for_days_df)"
   ]
  },
  {
   "cell_type": "markdown",
   "metadata": {},
   "source": [
    "Визуализируем полученные данные."
   ]
  },
  {
   "cell_type": "code",
   "execution_count": 66,
   "metadata": {},
   "outputs": [
    {
     "data": {
      "image/png": "[encoded data removed]",
      "text/plain": [
       "<Figure size 1152x864 with 4 Axes>"
      ]
     },
     "metadata": {
      "needs_background": "light"
     },
     "output_type": "display_data"
    }
   ],
   "source": [
    "fig, ((ax1), (ax2), (ax3), (ax4)) = plt.subplots(4, 1, figsize=(16, 12))\n",
    "\n",
    "# 1. Общее число заказов\n",
    "ax1.plot(activ_for_days_df['created_dt_msk'], activ_for_days_df['total_orders'], marker='o', linewidth=2)\n",
    "ax1.set_title('Динамика общего числа заказов по дням')\n",
    "ax1.set_ylabel('Количество заказов')\n",
    "ax1.tick_params(axis='x', rotation=45)\n",
    "ax1.grid(alpha=0.3)\n",
    "\n",
    "# 2. DAU - количество активных пользователей\n",
    "ax2.plot(activ_for_days_df['created_dt_msk'], activ_for_days_df['dau'], marker='o', color='orange', linewidth=2)\n",
    "ax2.set_title('Динамика DAU по дням')\n",
    "ax2.set_ylabel('Активные пользователи')\n",
    "ax2.tick_params(axis='x', rotation=45)\n",
    "ax2.grid(alpha=0.3)\n",
    "\n",
    "# 3. Среднее число заказов на пользователя\n",
    "ax3.plot(activ_for_days_df['created_dt_msk'], activ_for_days_df['avg_orders'], marker='o', color='green', linewidth=2)\n",
    "ax3.set_title('Среднее число заказов на пользователя')\n",
    "ax3.set_ylabel('Заказов на пользователя')\n",
    "ax3.tick_params(axis='x', rotation=45)\n",
    "ax3.grid(alpha=0.3)\n",
    "\n",
    "# 4. Средняя стоимость билета\n",
    "ax4.plot(activ_for_days_df['created_dt_msk'], activ_for_days_df['avg_revenue'], marker='o', color='red', linewidth=2)\n",
    "ax4.set_title('Динамика средней стоимости билета')\n",
    "ax4.set_ylabel('Стоимость билета, руб')\n",
    "ax4.tick_params(axis='x', rotation=45)\n",
    "ax4.grid(alpha=0.3)\n",
    "\n",
    "plt.tight_layout()\n",
    "plt.show()"
   ]
  },
  {
   "cell_type": "markdown",
   "metadata": {},
   "source": [
    "По полученным графикам сделать следующие выводы:\n",
    " - графики динамики общего числа заказов и среднего числа заказов на пользователя имеют схожий вид - имеются 2 явных максимума: в начале сентября и в начале октября, в целом с течением времени происходит рост общего числа заказов и среднего числа заказов на пользователя;\n",
    " - количество активных пользователей имеет положительную динамику и к концу октября увеличилось примерно в 2 раза;\n",
    " - динамика средней стоимости билета имеет вид, обратный динамике среднего числа заказов на пользователя - в дни, когда зафиксировано максимальное количество заказов, средняя стоимость билета минимальна, в целом динамика достаточно равномерная и немного снижается к концу октября.\n",
    " \n",
    " Теперь изучим пользовательскую активность в будни и выходные."
   ]
  },
  {
   "cell_type": "code",
   "execution_count": 67,
   "metadata": {},
   "outputs": [
    {
     "data": {
      "text/html": [
       "<div>\n",
       "<style scoped>\n",
       "    .dataframe tbody tr th:only-of-type {\n",
       "        vertical-align: middle;\n",
       "    }\n",
       "\n",
       "    .dataframe tbody tr th {\n",
       "        vertical-align: top;\n",
       "    }\n",
       "\n",
       "    .dataframe thead th {\n",
       "        text-align: right;\n",
       "    }\n",
       "</style>\n",
       "<table border=\"1\" class=\"dataframe\">\n",
       "  <thead>\n",
       "    <tr style=\"text-align: right;\">\n",
       "      <th></th>\n",
       "      <th>total_orders</th>\n",
       "      <th>dau</th>\n",
       "      <th>avg_orders</th>\n",
       "      <th>avg_revenue</th>\n",
       "    </tr>\n",
       "    <tr>\n",
       "      <th>day_of_week</th>\n",
       "      <th></th>\n",
       "      <th></th>\n",
       "      <th></th>\n",
       "      <th></th>\n",
       "    </tr>\n",
       "  </thead>\n",
       "  <tbody>\n",
       "    <tr>\n",
       "      <th>Monday</th>\n",
       "      <td>2390.33</td>\n",
       "      <td>853.67</td>\n",
       "      <td>2.78</td>\n",
       "      <td>184.49</td>\n",
       "    </tr>\n",
       "    <tr>\n",
       "      <th>Tuesday</th>\n",
       "      <td>3498.78</td>\n",
       "      <td>934.56</td>\n",
       "      <td>3.72</td>\n",
       "      <td>156.67</td>\n",
       "    </tr>\n",
       "    <tr>\n",
       "      <th>Wednesday</th>\n",
       "      <td>2543.44</td>\n",
       "      <td>923.56</td>\n",
       "      <td>2.75</td>\n",
       "      <td>185.49</td>\n",
       "    </tr>\n",
       "    <tr>\n",
       "      <th>Thursday</th>\n",
       "      <td>3018.44</td>\n",
       "      <td>962.11</td>\n",
       "      <td>3.06</td>\n",
       "      <td>181.81</td>\n",
       "    </tr>\n",
       "    <tr>\n",
       "      <th>Friday</th>\n",
       "      <td>3104.38</td>\n",
       "      <td>1022.62</td>\n",
       "      <td>3.00</td>\n",
       "      <td>185.36</td>\n",
       "    </tr>\n",
       "    <tr>\n",
       "      <th>Saturday</th>\n",
       "      <td>2667.62</td>\n",
       "      <td>961.00</td>\n",
       "      <td>2.76</td>\n",
       "      <td>192.50</td>\n",
       "    </tr>\n",
       "    <tr>\n",
       "      <th>Sunday</th>\n",
       "      <td>2154.56</td>\n",
       "      <td>822.78</td>\n",
       "      <td>2.60</td>\n",
       "      <td>197.64</td>\n",
       "    </tr>\n",
       "  </tbody>\n",
       "</table>\n",
       "</div>"
      ],
      "text/plain": [
       "             total_orders      dau  avg_orders  avg_revenue\n",
       "day_of_week                                                \n",
       "Monday            2390.33   853.67        2.78       184.49\n",
       "Tuesday           3498.78   934.56        3.72       156.67\n",
       "Wednesday         2543.44   923.56        2.75       185.49\n",
       "Thursday          3018.44   962.11        3.06       181.81\n",
       "Friday            3104.38  1022.62        3.00       185.36\n",
       "Saturday          2667.62   961.00        2.76       192.50\n",
       "Sunday            2154.56   822.78        2.60       197.64"
      ]
     },
     "metadata": {},
     "output_type": "display_data"
    }
   ],
   "source": [
    "# Добавляем день недели\n",
    "activ_for_days_df['day_of_week'] = pd.to_datetime(activ_for_days_df['created_dt_msk']).dt.day_name()\n",
    "\n",
    "# Агрегируем по дням недели\n",
    "weekly_activ = activ_for_days_df.groupby('day_of_week').agg({\n",
    "    'total_orders': 'mean',\n",
    "    'dau': 'mean',\n",
    "    'avg_orders': 'mean',\n",
    "    'avg_revenue': 'mean'\n",
    "}).round(2)\n",
    "\n",
    "# Правильный порядок дней недели\n",
    "days_order = ['Monday', 'Tuesday', 'Wednesday', 'Thursday', 'Friday', 'Saturday', 'Sunday']\n",
    "weekly_activ = weekly_activ.reindex(days_order)\n",
    "display(weekly_activ)"
   ]
  },
  {
   "cell_type": "code",
   "execution_count": 68,
   "metadata": {},
   "outputs": [
    {
     "data": {
      "image/png": "[encoded data removed]",
      "text/plain": [
       "<Figure size 432x288 with 1 Axes>"
      ]
     },
     "metadata": {
      "needs_background": "light"
     },
     "output_type": "display_data"
    }
   ],
   "source": [
    "# Построим графики для полученных данных\n",
    "# Строим столбчатую диаграмму с помощью pandas через plot(kind='bar')\n",
    "weekly_activ['total_orders'].plot(\n",
    "               kind='bar', # Тип графика - столбчатая диаграмма\n",
    "               rot=45, # Градус вращения подписи по оси Х\n",
    "               legend=False, # Выключаем легенду\n",
    "               title=f'Распределение количества заказов по дням недели',\n",
    "               colormap='tab10' #настраиваем цвет графика\n",
    ")\n",
    "\n",
    "# Настраиваем оформление графика\n",
    "plt.xlabel('День недели')\n",
    "plt.ylabel('Количество заказов')\n",
    "# Добавляем сетку графика\n",
    "plt.grid()\n",
    "\n",
    "# Выводим график\n",
    "plt.show()\n",
    "\n"
   ]
  },
  {
   "cell_type": "code",
   "execution_count": 69,
   "metadata": {},
   "outputs": [
    {
     "data": {
      "image/png": "[encoded data removed]",
      "text/plain": [
       "<Figure size 432x288 with 1 Axes>"
      ]
     },
     "metadata": {
      "needs_background": "light"
     },
     "output_type": "display_data"
    }
   ],
   "source": [
    "# Строим столбчатую диаграмму с помощью pandas через plot(kind='bar')\n",
    "weekly_activ['dau'].plot(\n",
    "               kind='bar', # Тип графика - столбчатая диаграмма\n",
    "               rot=45, # Градус вращения подписи по оси Х\n",
    "               legend=False, # Выключаем легенду\n",
    "               title=f'Распределение количества уникальных пользователей по дням недели',\n",
    "               colormap='tab10' #настраиваем цвет графика\n",
    ")\n",
    "\n",
    "# Настраиваем оформление графика\n",
    "plt.xlabel('День недели')\n",
    "plt.ylabel('Количество пользователей')\n",
    "# Добавляем сетку графика\n",
    "plt.grid()\n",
    "\n",
    "# Выводим график\n",
    "plt.show()"
   ]
  },
  {
   "cell_type": "code",
   "execution_count": 70,
   "metadata": {},
   "outputs": [
    {
     "data": {
      "image/png": "[encoded data removed]",
      "text/plain": [
       "<Figure size 432x288 with 1 Axes>"
      ]
     },
     "metadata": {
      "needs_background": "light"
     },
     "output_type": "display_data"
    }
   ],
   "source": [
    "# Строим столбчатую диаграмму с помощью pandas через plot(kind='bar')\n",
    "weekly_activ['avg_orders'].plot(\n",
    "               kind='bar', # Тип графика - столбчатая диаграмма\n",
    "               rot=45, # Градус вращения подписи по оси Х\n",
    "               legend=False, # Выключаем легенду\n",
    "               title=f'Распределение среднего количества заказов на пользователя по дням недели',\n",
    "               colormap='tab10' #настраиваем цвет графика\n",
    ")\n",
    "\n",
    "# Настраиваем оформление графика\n",
    "plt.xlabel('День недели')\n",
    "plt.ylabel('Количество заказов')\n",
    "# Добавляем сетку графика\n",
    "plt.grid()\n",
    "\n",
    "# Выводим график\n",
    "plt.show()"
   ]
  },
  {
   "cell_type": "code",
   "execution_count": 71,
   "metadata": {},
   "outputs": [
    {
     "data": {
      "image/png": "[encoded data removed]",
      "text/plain": [
       "<Figure size 432x288 with 1 Axes>"
      ]
     },
     "metadata": {
      "needs_background": "light"
     },
     "output_type": "display_data"
    }
   ],
   "source": [
    "# Строим столбчатую диаграмму с помощью pandas через plot(kind='bar')\n",
    "weekly_activ['avg_revenue'].plot(\n",
    "               kind='bar', # Тип графика - столбчатая диаграмма\n",
    "               rot=45, # Градус вращения подписи по оси Х\n",
    "               legend=False, # Выключаем легенду\n",
    "               title=f'Распределение средней стоимости билета по дням недели',\n",
    "               colormap='tab10' #настраиваем цвет графика\n",
    ")\n",
    "\n",
    "# Настраиваем оформление графика\n",
    "plt.xlabel('День недели')\n",
    "plt.ylabel('Стоимость билета')\n",
    "# Добавляем сетку графика\n",
    "plt.grid()\n",
    "\n",
    "# Выводим график\n",
    "plt.show()"
   ]
  },
  {
   "cell_type": "markdown",
   "metadata": {},
   "source": [
    "По полученным диаграмма можно сделать следующие выводы:\n",
    " - **наибольшее** `количество заказов` происходит по **вторникам, четвергам и пятницам**, а **наименьшее в воскресенье и понедельник**;\n",
    " - **наибольшее** `количество уникальных пользователей` наблюдается по **четвергам, пятницам и субботам**;\n",
    " - **максимальное** `среднее количество заказов на пользователя` наблюдается **во вторник и составляет 3.72**, а **минимальное - в воскресенье и составляет 2.6**;\n",
    " - `средняя стоимость 1 билета` имеет небольшие колебания от **минимальной во втроник (156.67 руб)** до **максимальной в воскресенье (197.64 руб)**."
   ]
  },
  {
   "cell_type": "markdown",
   "metadata": {},
   "source": [
    "### 3.3. Популярные события и партнёры"
   ]
  },
  {
   "cell_type": "markdown",
   "metadata": {},
   "source": [
    "Изучим изменение популярности событий и пользовательской активности осенью 2024 года, и рассмотрим, как события распределены по регионам и партнёрам."
   ]
  },
  {
   "cell_type": "code",
   "execution_count": 72,
   "metadata": {},
   "outputs": [
    {
     "data": {
      "text/html": [
       "<div>\n",
       "<style scoped>\n",
       "    .dataframe tbody tr th:only-of-type {\n",
       "        vertical-align: middle;\n",
       "    }\n",
       "\n",
       "    .dataframe tbody tr th {\n",
       "        vertical-align: top;\n",
       "    }\n",
       "\n",
       "    .dataframe thead th {\n",
       "        text-align: right;\n",
       "    }\n",
       "</style>\n",
       "<table border=\"1\" class=\"dataframe\">\n",
       "  <thead>\n",
       "    <tr style=\"text-align: right;\">\n",
       "      <th></th>\n",
       "      <th>region_name</th>\n",
       "      <th>count_event</th>\n",
       "      <th>total_order</th>\n",
       "      <th>share_event, %</th>\n",
       "      <th>share_orders, %</th>\n",
       "    </tr>\n",
       "  </thead>\n",
       "  <tbody>\n",
       "    <tr>\n",
       "      <th>0</th>\n",
       "      <td>Каменевский регион</td>\n",
       "      <td>3280</td>\n",
       "      <td>46682</td>\n",
       "      <td>29.79</td>\n",
       "      <td>27.68</td>\n",
       "    </tr>\n",
       "    <tr>\n",
       "      <th>1</th>\n",
       "      <td>Североярская область</td>\n",
       "      <td>2254</td>\n",
       "      <td>20718</td>\n",
       "      <td>20.47</td>\n",
       "      <td>12.29</td>\n",
       "    </tr>\n",
       "    <tr>\n",
       "      <th>2</th>\n",
       "      <td>Светополянский округ</td>\n",
       "      <td>713</td>\n",
       "      <td>4778</td>\n",
       "      <td>6.48</td>\n",
       "      <td>2.83</td>\n",
       "    </tr>\n",
       "    <tr>\n",
       "      <th>3</th>\n",
       "      <td>Широковская область</td>\n",
       "      <td>674</td>\n",
       "      <td>8715</td>\n",
       "      <td>6.12</td>\n",
       "      <td>5.17</td>\n",
       "    </tr>\n",
       "    <tr>\n",
       "      <th>4</th>\n",
       "      <td>Речиновская область</td>\n",
       "      <td>494</td>\n",
       "      <td>3565</td>\n",
       "      <td>4.49</td>\n",
       "      <td>2.11</td>\n",
       "    </tr>\n",
       "    <tr>\n",
       "      <th>...</th>\n",
       "      <td>...</td>\n",
       "      <td>...</td>\n",
       "      <td>...</td>\n",
       "      <td>...</td>\n",
       "      <td>...</td>\n",
       "    </tr>\n",
       "    <tr>\n",
       "      <th>74</th>\n",
       "      <td>Кристальная область</td>\n",
       "      <td>4</td>\n",
       "      <td>23</td>\n",
       "      <td>0.04</td>\n",
       "      <td>0.01</td>\n",
       "    </tr>\n",
       "    <tr>\n",
       "      <th>75</th>\n",
       "      <td>Яснопольский округ</td>\n",
       "      <td>3</td>\n",
       "      <td>18</td>\n",
       "      <td>0.03</td>\n",
       "      <td>0.01</td>\n",
       "    </tr>\n",
       "    <tr>\n",
       "      <th>76</th>\n",
       "      <td>Светолесский край</td>\n",
       "      <td>2</td>\n",
       "      <td>18</td>\n",
       "      <td>0.02</td>\n",
       "      <td>0.01</td>\n",
       "    </tr>\n",
       "    <tr>\n",
       "      <th>77</th>\n",
       "      <td>Верхозёрский край</td>\n",
       "      <td>2</td>\n",
       "      <td>11</td>\n",
       "      <td>0.02</td>\n",
       "      <td>0.01</td>\n",
       "    </tr>\n",
       "    <tr>\n",
       "      <th>78</th>\n",
       "      <td>Сосноводолинская область</td>\n",
       "      <td>1</td>\n",
       "      <td>9</td>\n",
       "      <td>0.01</td>\n",
       "      <td>0.01</td>\n",
       "    </tr>\n",
       "  </tbody>\n",
       "</table>\n",
       "<p>79 rows × 5 columns</p>\n",
       "</div>"
      ],
      "text/plain": [
       "                 region_name  count_event  total_order  share_event, %  \\\n",
       "0         Каменевский регион         3280        46682           29.79   \n",
       "1       Североярская область         2254        20718           20.47   \n",
       "2       Светополянский округ          713         4778            6.48   \n",
       "3        Широковская область          674         8715            6.12   \n",
       "4        Речиновская область          494         3565            4.49   \n",
       "..                       ...          ...          ...             ...   \n",
       "74       Кристальная область            4           23            0.04   \n",
       "75        Яснопольский округ            3           18            0.03   \n",
       "76         Светолесский край            2           18            0.02   \n",
       "77         Верхозёрский край            2           11            0.02   \n",
       "78  Сосноводолинская область            1            9            0.01   \n",
       "\n",
       "    share_orders, %  \n",
       "0             27.68  \n",
       "1             12.29  \n",
       "2              2.83  \n",
       "3              5.17  \n",
       "4              2.11  \n",
       "..              ...  \n",
       "74             0.01  \n",
       "75             0.01  \n",
       "76             0.01  \n",
       "77             0.01  \n",
       "78             0.01  \n",
       "\n",
       "[79 rows x 5 columns]"
      ]
     },
     "metadata": {},
     "output_type": "display_data"
    }
   ],
   "source": [
    "# Создадим таблицу, содержащую количество уникальных мероприятий и количество заказов для каждого региона\n",
    "region_event = tickets_df_new[tickets_df_new['season']=='осень'].groupby('region_name').agg({\n",
    "    'event_name':'nunique',\n",
    "    'order_id':'count'\n",
    "}).rename(columns={\n",
    "    'event_name': 'count_event',\n",
    "    'order_id': 'total_order'}).sort_values(by='count_event', ascending=False).reset_index()\n",
    "\n",
    "# Считаем общее количество уникальных мероприятий\n",
    "uniq_event = tickets_df_new[tickets_df_new['season']=='осень']['event_name'].nunique()\n",
    "# Считаем общее количество заказов\n",
    "count_orders = tickets_df_new[tickets_df_new['season']=='осень']['order_id'].count()\n",
    "\n",
    "#Создим столбец, отражающий долю проводимых мероприятий в регионе от общего количества мероприятий\n",
    "region_event['share_event, %'] = round(100 * region_event['count_event'] / uniq_event, 2)\n",
    "\n",
    "#Создим столбец, отражающий долю заказов в регионе от общего количества заказов\n",
    "region_event['share_orders, %'] = round(100 * region_event['total_order'] / count_orders, 2)\n",
    "\n",
    "display(region_event)"
   ]
  },
  {
   "cell_type": "markdown",
   "metadata": {},
   "source": [
    "По полученной таблице можно выделить 2 самых популярных региона по количеству проведенных в них мероприятий осенью 2024 года и количеству созданных заказов: \n",
    " - `Каменевский регион` - проведено **3280 мероприятий**, что составляет **29.79%** от общего количества осенних мероприятий, создано **46682 заказов**, что составляет **27.68%** от общего количества осенних заказов;\n",
    " - `Североярская область` - проведено **2254 мероприятий**, что составляет **20.47%** от общего количества осенних мероприятий, создано **20718 заказа**, что составляет **12.29%** от обего количества осенних заказов.\n",
    "\n",
    "Также по расчитанным данным можно сказать, что большая часть регионов проводила **не более 720 мероприятий**, а их доля составляет **не больше 7%**.\n",
    "\n",
    "Часть регионов провела **менее 5 мероприятий** за осенний период 2024 года, например такие регионы:\n",
    " - Кристальная область;\n",
    " - Яснопольский округ;\n",
    " - Светолесский край;\n",
    " - Верхоозерский край;\n",
    " - Сосноводолинская область.\n",
    " \n",
    "Теперь изучим популярность билетных партнеров."
   ]
  },
  {
   "cell_type": "code",
   "execution_count": 73,
   "metadata": {},
   "outputs": [
    {
     "data": {
      "text/html": [
       "<div>\n",
       "<style scoped>\n",
       "    .dataframe tbody tr th:only-of-type {\n",
       "        vertical-align: middle;\n",
       "    }\n",
       "\n",
       "    .dataframe tbody tr th {\n",
       "        vertical-align: top;\n",
       "    }\n",
       "\n",
       "    .dataframe thead th {\n",
       "        text-align: right;\n",
       "    }\n",
       "</style>\n",
       "<table border=\"1\" class=\"dataframe\">\n",
       "  <thead>\n",
       "    <tr style=\"text-align: right;\">\n",
       "      <th></th>\n",
       "      <th>service_name</th>\n",
       "      <th>count_event</th>\n",
       "      <th>total_order</th>\n",
       "      <th>total_revenue</th>\n",
       "      <th>share_event, %</th>\n",
       "      <th>share_orders, %</th>\n",
       "    </tr>\n",
       "  </thead>\n",
       "  <tbody>\n",
       "    <tr>\n",
       "      <th>0</th>\n",
       "      <td>Лови билет!</td>\n",
       "      <td>2870</td>\n",
       "      <td>25794</td>\n",
       "      <td>1.038194e+07</td>\n",
       "      <td>26.07</td>\n",
       "      <td>15.30</td>\n",
       "    </tr>\n",
       "    <tr>\n",
       "      <th>1</th>\n",
       "      <td>Билеты без проблем</td>\n",
       "      <td>2190</td>\n",
       "      <td>32404</td>\n",
       "      <td>1.217252e+07</td>\n",
       "      <td>19.89</td>\n",
       "      <td>19.22</td>\n",
       "    </tr>\n",
       "    <tr>\n",
       "      <th>2</th>\n",
       "      <td>Билеты в руки</td>\n",
       "      <td>2070</td>\n",
       "      <td>25726</td>\n",
       "      <td>7.612742e+06</td>\n",
       "      <td>18.80</td>\n",
       "      <td>15.26</td>\n",
       "    </tr>\n",
       "    <tr>\n",
       "      <th>3</th>\n",
       "      <td>Лучшие билеты</td>\n",
       "      <td>1210</td>\n",
       "      <td>12432</td>\n",
       "      <td>1.676010e+06</td>\n",
       "      <td>10.99</td>\n",
       "      <td>7.37</td>\n",
       "    </tr>\n",
       "    <tr>\n",
       "      <th>4</th>\n",
       "      <td>Облачко</td>\n",
       "      <td>1124</td>\n",
       "      <td>15478</td>\n",
       "      <td>1.061105e+07</td>\n",
       "      <td>10.21</td>\n",
       "      <td>9.18</td>\n",
       "    </tr>\n",
       "    <tr>\n",
       "      <th>5</th>\n",
       "      <td>Мой билет</td>\n",
       "      <td>818</td>\n",
       "      <td>19416</td>\n",
       "      <td>1.085068e+07</td>\n",
       "      <td>7.43</td>\n",
       "      <td>11.51</td>\n",
       "    </tr>\n",
       "    <tr>\n",
       "      <th>6</th>\n",
       "      <td>Тебе билет!</td>\n",
       "      <td>749</td>\n",
       "      <td>3760</td>\n",
       "      <td>2.166179e+06</td>\n",
       "      <td>6.80</td>\n",
       "      <td>2.23</td>\n",
       "    </tr>\n",
       "    <tr>\n",
       "      <th>7</th>\n",
       "      <td>Прачечная</td>\n",
       "      <td>635</td>\n",
       "      <td>5798</td>\n",
       "      <td>2.548310e+06</td>\n",
       "      <td>5.77</td>\n",
       "      <td>3.44</td>\n",
       "    </tr>\n",
       "    <tr>\n",
       "      <th>8</th>\n",
       "      <td>Весь в билетах</td>\n",
       "      <td>503</td>\n",
       "      <td>9415</td>\n",
       "      <td>9.350394e+06</td>\n",
       "      <td>4.57</td>\n",
       "      <td>5.58</td>\n",
       "    </tr>\n",
       "    <tr>\n",
       "      <th>9</th>\n",
       "      <td>Яблоко</td>\n",
       "      <td>453</td>\n",
       "      <td>3473</td>\n",
       "      <td>2.763332e+06</td>\n",
       "      <td>4.11</td>\n",
       "      <td>2.06</td>\n",
       "    </tr>\n",
       "    <tr>\n",
       "      <th>10</th>\n",
       "      <td>Городской дом культуры</td>\n",
       "      <td>268</td>\n",
       "      <td>1738</td>\n",
       "      <td>1.054293e+06</td>\n",
       "      <td>2.43</td>\n",
       "      <td>1.03</td>\n",
       "    </tr>\n",
       "    <tr>\n",
       "      <th>11</th>\n",
       "      <td>За билетом!</td>\n",
       "      <td>193</td>\n",
       "      <td>1738</td>\n",
       "      <td>1.200925e+06</td>\n",
       "      <td>1.75</td>\n",
       "      <td>1.03</td>\n",
       "    </tr>\n",
       "    <tr>\n",
       "      <th>12</th>\n",
       "      <td>Show_ticket</td>\n",
       "      <td>187</td>\n",
       "      <td>1300</td>\n",
       "      <td>9.061671e+05</td>\n",
       "      <td>1.70</td>\n",
       "      <td>0.77</td>\n",
       "    </tr>\n",
       "    <tr>\n",
       "      <th>13</th>\n",
       "      <td>Край билетов</td>\n",
       "      <td>181</td>\n",
       "      <td>2997</td>\n",
       "      <td>3.018373e+06</td>\n",
       "      <td>1.64</td>\n",
       "      <td>1.78</td>\n",
       "    </tr>\n",
       "    <tr>\n",
       "      <th>14</th>\n",
       "      <td>Дом культуры</td>\n",
       "      <td>174</td>\n",
       "      <td>1737</td>\n",
       "      <td>1.633088e+06</td>\n",
       "      <td>1.58</td>\n",
       "      <td>1.03</td>\n",
       "    </tr>\n",
       "    <tr>\n",
       "      <th>15</th>\n",
       "      <td>Crazy ticket!</td>\n",
       "      <td>171</td>\n",
       "      <td>550</td>\n",
       "      <td>3.194516e+05</td>\n",
       "      <td>1.55</td>\n",
       "      <td>0.33</td>\n",
       "    </tr>\n",
       "    <tr>\n",
       "      <th>16</th>\n",
       "      <td>Мир касс</td>\n",
       "      <td>129</td>\n",
       "      <td>983</td>\n",
       "      <td>8.224440e+05</td>\n",
       "      <td>1.17</td>\n",
       "      <td>0.58</td>\n",
       "    </tr>\n",
       "    <tr>\n",
       "      <th>17</th>\n",
       "      <td>Быстробилет</td>\n",
       "      <td>122</td>\n",
       "      <td>1162</td>\n",
       "      <td>9.294932e+05</td>\n",
       "      <td>1.11</td>\n",
       "      <td>0.69</td>\n",
       "    </tr>\n",
       "    <tr>\n",
       "      <th>18</th>\n",
       "      <td>Восьмёрка</td>\n",
       "      <td>92</td>\n",
       "      <td>390</td>\n",
       "      <td>2.384224e+05</td>\n",
       "      <td>0.84</td>\n",
       "      <td>0.23</td>\n",
       "    </tr>\n",
       "    <tr>\n",
       "      <th>19</th>\n",
       "      <td>Выступления.ру</td>\n",
       "      <td>75</td>\n",
       "      <td>917</td>\n",
       "      <td>6.066301e+05</td>\n",
       "      <td>0.68</td>\n",
       "      <td>0.54</td>\n",
       "    </tr>\n",
       "    <tr>\n",
       "      <th>20</th>\n",
       "      <td>Росбилет</td>\n",
       "      <td>40</td>\n",
       "      <td>182</td>\n",
       "      <td>2.686503e+05</td>\n",
       "      <td>0.36</td>\n",
       "      <td>0.11</td>\n",
       "    </tr>\n",
       "    <tr>\n",
       "      <th>21</th>\n",
       "      <td>КарандашРУ</td>\n",
       "      <td>28</td>\n",
       "      <td>69</td>\n",
       "      <td>1.368957e+04</td>\n",
       "      <td>0.25</td>\n",
       "      <td>0.04</td>\n",
       "    </tr>\n",
       "    <tr>\n",
       "      <th>22</th>\n",
       "      <td>Вперёд!</td>\n",
       "      <td>21</td>\n",
       "      <td>38</td>\n",
       "      <td>1.454002e+04</td>\n",
       "      <td>0.19</td>\n",
       "      <td>0.02</td>\n",
       "    </tr>\n",
       "    <tr>\n",
       "      <th>23</th>\n",
       "      <td>Телебилет</td>\n",
       "      <td>12</td>\n",
       "      <td>206</td>\n",
       "      <td>1.133770e+05</td>\n",
       "      <td>0.11</td>\n",
       "      <td>0.12</td>\n",
       "    </tr>\n",
       "    <tr>\n",
       "      <th>24</th>\n",
       "      <td>Шоу начинается!</td>\n",
       "      <td>9</td>\n",
       "      <td>406</td>\n",
       "      <td>4.051482e+05</td>\n",
       "      <td>0.08</td>\n",
       "      <td>0.24</td>\n",
       "    </tr>\n",
       "    <tr>\n",
       "      <th>25</th>\n",
       "      <td>Радио ticket</td>\n",
       "      <td>7</td>\n",
       "      <td>322</td>\n",
       "      <td>4.471995e+04</td>\n",
       "      <td>0.06</td>\n",
       "      <td>0.19</td>\n",
       "    </tr>\n",
       "    <tr>\n",
       "      <th>26</th>\n",
       "      <td>Билет по телефону</td>\n",
       "      <td>7</td>\n",
       "      <td>50</td>\n",
       "      <td>3.780782e+04</td>\n",
       "      <td>0.06</td>\n",
       "      <td>0.03</td>\n",
       "    </tr>\n",
       "    <tr>\n",
       "      <th>27</th>\n",
       "      <td>Реестр</td>\n",
       "      <td>4</td>\n",
       "      <td>15</td>\n",
       "      <td>1.269610e+04</td>\n",
       "      <td>0.04</td>\n",
       "      <td>0.01</td>\n",
       "    </tr>\n",
       "    <tr>\n",
       "      <th>28</th>\n",
       "      <td>Дырокол</td>\n",
       "      <td>2</td>\n",
       "      <td>62</td>\n",
       "      <td>8.888888e+04</td>\n",
       "      <td>0.02</td>\n",
       "      <td>0.04</td>\n",
       "    </tr>\n",
       "    <tr>\n",
       "      <th>29</th>\n",
       "      <td>Тех билет</td>\n",
       "      <td>2</td>\n",
       "      <td>5</td>\n",
       "      <td>1.722630e+03</td>\n",
       "      <td>0.02</td>\n",
       "      <td>0.00</td>\n",
       "    </tr>\n",
       "    <tr>\n",
       "      <th>30</th>\n",
       "      <td>Лимоны</td>\n",
       "      <td>1</td>\n",
       "      <td>1</td>\n",
       "      <td>1.199300e+02</td>\n",
       "      <td>0.01</td>\n",
       "      <td>0.00</td>\n",
       "    </tr>\n",
       "    <tr>\n",
       "      <th>31</th>\n",
       "      <td>Быстрый кассир</td>\n",
       "      <td>1</td>\n",
       "      <td>8</td>\n",
       "      <td>7.780710e+03</td>\n",
       "      <td>0.01</td>\n",
       "      <td>0.00</td>\n",
       "    </tr>\n",
       "    <tr>\n",
       "      <th>32</th>\n",
       "      <td>Билеты в интернете</td>\n",
       "      <td>1</td>\n",
       "      <td>4</td>\n",
       "      <td>5.482300e+02</td>\n",
       "      <td>0.01</td>\n",
       "      <td>0.00</td>\n",
       "    </tr>\n",
       "    <tr>\n",
       "      <th>33</th>\n",
       "      <td>Кино билет</td>\n",
       "      <td>1</td>\n",
       "      <td>48</td>\n",
       "      <td>1.587226e+04</td>\n",
       "      <td>0.01</td>\n",
       "      <td>0.03</td>\n",
       "    </tr>\n",
       "    <tr>\n",
       "      <th>34</th>\n",
       "      <td>Зе Бест!</td>\n",
       "      <td>1</td>\n",
       "      <td>2</td>\n",
       "      <td>3.001000e+01</td>\n",
       "      <td>0.01</td>\n",
       "      <td>0.00</td>\n",
       "    </tr>\n",
       "  </tbody>\n",
       "</table>\n",
       "</div>"
      ],
      "text/plain": [
       "              service_name  count_event  total_order  total_revenue  \\\n",
       "0              Лови билет!         2870        25794   1.038194e+07   \n",
       "1       Билеты без проблем         2190        32404   1.217252e+07   \n",
       "2            Билеты в руки         2070        25726   7.612742e+06   \n",
       "3            Лучшие билеты         1210        12432   1.676010e+06   \n",
       "4                  Облачко         1124        15478   1.061105e+07   \n",
       "5                Мой билет          818        19416   1.085068e+07   \n",
       "6              Тебе билет!          749         3760   2.166179e+06   \n",
       "7                Прачечная          635         5798   2.548310e+06   \n",
       "8           Весь в билетах          503         9415   9.350394e+06   \n",
       "9                   Яблоко          453         3473   2.763332e+06   \n",
       "10  Городской дом культуры          268         1738   1.054293e+06   \n",
       "11             За билетом!          193         1738   1.200925e+06   \n",
       "12             Show_ticket          187         1300   9.061671e+05   \n",
       "13            Край билетов          181         2997   3.018373e+06   \n",
       "14            Дом культуры          174         1737   1.633088e+06   \n",
       "15           Crazy ticket!          171          550   3.194516e+05   \n",
       "16                Мир касс          129          983   8.224440e+05   \n",
       "17             Быстробилет          122         1162   9.294932e+05   \n",
       "18               Восьмёрка           92          390   2.384224e+05   \n",
       "19          Выступления.ру           75          917   6.066301e+05   \n",
       "20                Росбилет           40          182   2.686503e+05   \n",
       "21              КарандашРУ           28           69   1.368957e+04   \n",
       "22                 Вперёд!           21           38   1.454002e+04   \n",
       "23               Телебилет           12          206   1.133770e+05   \n",
       "24         Шоу начинается!            9          406   4.051482e+05   \n",
       "25            Радио ticket            7          322   4.471995e+04   \n",
       "26       Билет по телефону            7           50   3.780782e+04   \n",
       "27                  Реестр            4           15   1.269610e+04   \n",
       "28                 Дырокол            2           62   8.888888e+04   \n",
       "29               Тех билет            2            5   1.722630e+03   \n",
       "30                  Лимоны            1            1   1.199300e+02   \n",
       "31          Быстрый кассир            1            8   7.780710e+03   \n",
       "32      Билеты в интернете            1            4   5.482300e+02   \n",
       "33              Кино билет            1           48   1.587226e+04   \n",
       "34                Зе Бест!            1            2   3.001000e+01   \n",
       "\n",
       "    share_event, %  share_orders, %  \n",
       "0            26.07            15.30  \n",
       "1            19.89            19.22  \n",
       "2            18.80            15.26  \n",
       "3            10.99             7.37  \n",
       "4            10.21             9.18  \n",
       "5             7.43            11.51  \n",
       "6             6.80             2.23  \n",
       "7             5.77             3.44  \n",
       "8             4.57             5.58  \n",
       "9             4.11             2.06  \n",
       "10            2.43             1.03  \n",
       "11            1.75             1.03  \n",
       "12            1.70             0.77  \n",
       "13            1.64             1.78  \n",
       "14            1.58             1.03  \n",
       "15            1.55             0.33  \n",
       "16            1.17             0.58  \n",
       "17            1.11             0.69  \n",
       "18            0.84             0.23  \n",
       "19            0.68             0.54  \n",
       "20            0.36             0.11  \n",
       "21            0.25             0.04  \n",
       "22            0.19             0.02  \n",
       "23            0.11             0.12  \n",
       "24            0.08             0.24  \n",
       "25            0.06             0.19  \n",
       "26            0.06             0.03  \n",
       "27            0.04             0.01  \n",
       "28            0.02             0.04  \n",
       "29            0.02             0.00  \n",
       "30            0.01             0.00  \n",
       "31            0.01             0.00  \n",
       "32            0.01             0.00  \n",
       "33            0.01             0.03  \n",
       "34            0.01             0.00  "
      ]
     },
     "metadata": {},
     "output_type": "display_data"
    }
   ],
   "source": [
    "# Создадим таблицу, содержащую количество уникальных мероприятий, количество заказов и суммарную выручку \n",
    "# для каждого билетного партнера\n",
    "service_event = tickets_df_new[tickets_df_new['season']=='осень'].groupby('service_name').agg({\n",
    "    'event_name':'nunique',\n",
    "    'order_id':'count',\n",
    "    'revenue_rub':'sum'\n",
    "}).rename(columns={\n",
    "    'event_name': 'count_event',\n",
    "    'order_id': 'total_order',\n",
    "    'revenue_rub': 'total_revenue'}).sort_values(by='count_event', ascending=False).reset_index()\n",
    "\n",
    "#Создим столбец, отражающий долю проводимых мероприятий в регионе от общего количества мероприятий\n",
    "service_event['share_event, %'] = round(100 * service_event['count_event'] / uniq_event, 2)\n",
    "\n",
    "#Создим столбец, отражающий долю заказов в регионе от общего количества заказов\n",
    "service_event['share_orders, %'] = round(100 * service_event['total_order'] / count_orders, 2)\n",
    "\n",
    "display(service_event)"
   ]
  },
  {
   "cell_type": "markdown",
   "metadata": {},
   "source": [
    "По полученной таблице можно выделить **5** билетных сервисов-партнеров, реализовавших билеты более, чем на **1000** мероприятий осенью 2024 года:\n",
    " - сервис `Лови билет!` продал билеты на **2870** мероприятий, что составляет **26.07%** от общего количества осенних мероприятий и получил суммарную выручку в размере **10.4 млн руб**;\n",
    " - сервис `Билеты без проблем` продал билеты на **2190** мероприятия, что составляет **19.89%** от общего количества осенних мероприятий, и получил суммарную выручку в размере **12.2 млн руб**;\n",
    " - сервис `Билеты в руки` продал билеты на **2070** мероприятий, что составляет **18.8%** от общего количества осенних мероприятий, и получил суммарную выручку в размере **7.6** млн руб;\n",
    " - сервис `Лучшие билеты` продал билеты на **1210** мероприятий, что составляет **10.99%** от общего количества осенних мероприятий, и получил суммарную выручку вразмере **1.7 млн руб**;\n",
    " - сервис `Облачко` продал билеты на **1124** мероприятий, что составляет **10.21%** от общего количества осенних мероприятий, и получил суммарную выручку в размере **10.7 млн руб**.\n",
    " \n",
    "Также по полученным данным можно сказать, что половина сервисов реализовала билеты на **менее 1%** от общего количества мероприятий в течении осени 2024 года (**менее 100 мероприятий**)."
   ]
  },
  {
   "cell_type": "markdown",
   "metadata": {},
   "source": [
    "### Промежуточные выводы"
   ]
  },
  {
   "cell_type": "markdown",
   "metadata": {},
   "source": [
    "В ходе исследовательского данных были осуществлены следующие действия:\n",
    "- изучено влияние сезонности на категории данных: больше всего от сезонности зависит тип мероприятия и возрастное ограничение, также сезонность влияет на среднюю стоимость билета;\n",
    "- изучена осенняя активность пользователей:\n",
    "  - в течении осени происходит рост количества заказов и число активных пользователей;\n",
    "  - наибольшее количество заказов совершалось по `вторникам`, а наибольшее количество пользователей пользовались сервисом по `пятницам`;\n",
    "- выявлены самые популярные регионы по количеству проведенных мероприятий: `Каменевский регион` и `Североярская область`;\n",
    "- выделены топ-5 активных билетных сервисов, реализовавших билеты более, чем на 1000 мероприятий: `Лови билет!`, `Билеты без проблем`, `Билеты в руки`, `Лучшие билеты`, `Облачко`."
   ]
  },
  {
   "cell_type": "markdown",
   "metadata": {},
   "source": [
    "## 4. Статистический анализ данных"
   ]
  },
  {
   "cell_type": "markdown",
   "metadata": {},
   "source": [
    "Коллеги из продуктового отдела хотят отдельно проверить несколько гипотез относительно активности пользователей мобильных и стационарных устройств в осенний период. \n",
    "\n",
    "Проверим две гипотезы, которые предполагают большую активность пользователей мобильных устройств:\n",
    " - Среднее количество заказов на одного пользователя мобильного приложения выше по сравнению с пользователями стационарных устройств.\n",
    " - Среднее время между заказами пользователей мобильных приложений выше по сравнению с пользователями стационарных устройств.\n",
    " \n",
    "Начнем с гипотезы о среднем количестве заказов."
   ]
  },
  {
   "cell_type": "markdown",
   "metadata": {},
   "source": [
    "### 4.1 Среднее количество заказов"
   ]
  },
  {
   "cell_type": "markdown",
   "metadata": {},
   "source": [
    "Суть первой гипотезы состоит в том, что **среднее количество заказов на одного пользователя мобильного приложения выше, чем у пользователя стационарного устройства**.\n",
    "\n",
    "формулируем нулевую и альтернативную гипотезы:\n",
    "- Нулевая гипотеза **Н0** - среднее количество заказов на одного пользователя для мобильных и стационарных устройств одинаково: \n",
    "    **pA = pB**.\n",
    "\n",
    "- Альтернативная гипотеза **Н1** - cреднее количество заказов на одного пользователя мобильного приложения выше, чем у пользователя стационарного устройства:\n",
    "    **pA > pB**.\n",
    "    \n",
    "Группой **А** будут пользователи с мобильными устройствами, группой **В** будут пользователи со стационарными устройствами."
   ]
  },
  {
   "cell_type": "code",
   "execution_count": 74,
   "metadata": {},
   "outputs": [
    {
     "data": {
      "text/html": [
       "<div>\n",
       "<style scoped>\n",
       "    .dataframe tbody tr th:only-of-type {\n",
       "        vertical-align: middle;\n",
       "    }\n",
       "\n",
       "    .dataframe tbody tr th {\n",
       "        vertical-align: top;\n",
       "    }\n",
       "\n",
       "    .dataframe thead th {\n",
       "        text-align: right;\n",
       "    }\n",
       "</style>\n",
       "<table border=\"1\" class=\"dataframe\">\n",
       "  <thead>\n",
       "    <tr style=\"text-align: right;\">\n",
       "      <th></th>\n",
       "      <th>user_id</th>\n",
       "      <th>order_id</th>\n",
       "      <th>device_type_canonical</th>\n",
       "    </tr>\n",
       "  </thead>\n",
       "  <tbody>\n",
       "    <tr>\n",
       "      <th>0</th>\n",
       "      <td>0005ca5e93f2cf4</td>\n",
       "      <td>1</td>\n",
       "      <td>mobile</td>\n",
       "    </tr>\n",
       "    <tr>\n",
       "      <th>1</th>\n",
       "      <td>000898990054619</td>\n",
       "      <td>2</td>\n",
       "      <td>mobile</td>\n",
       "    </tr>\n",
       "    <tr>\n",
       "      <th>2</th>\n",
       "      <td>000a55a418c128c</td>\n",
       "      <td>2</td>\n",
       "      <td>mobile</td>\n",
       "    </tr>\n",
       "    <tr>\n",
       "      <th>3</th>\n",
       "      <td>001e7037d013f0f</td>\n",
       "      <td>2</td>\n",
       "      <td>mobile</td>\n",
       "    </tr>\n",
       "    <tr>\n",
       "      <th>4</th>\n",
       "      <td>00245c702bc343e</td>\n",
       "      <td>2</td>\n",
       "      <td>mobile</td>\n",
       "    </tr>\n",
       "    <tr>\n",
       "      <th>...</th>\n",
       "      <td>...</td>\n",
       "      <td>...</td>\n",
       "      <td>...</td>\n",
       "    </tr>\n",
       "    <tr>\n",
       "      <th>15806</th>\n",
       "      <td>fff13b79bd47d7c</td>\n",
       "      <td>3</td>\n",
       "      <td>mobile</td>\n",
       "    </tr>\n",
       "    <tr>\n",
       "      <th>15807</th>\n",
       "      <td>fff32fc9ad0f9f6</td>\n",
       "      <td>1</td>\n",
       "      <td>desktop</td>\n",
       "    </tr>\n",
       "    <tr>\n",
       "      <th>15808</th>\n",
       "      <td>fffcd3dde79eb2c</td>\n",
       "      <td>16</td>\n",
       "      <td>mobile</td>\n",
       "    </tr>\n",
       "    <tr>\n",
       "      <th>15809</th>\n",
       "      <td>fffeeb3c120cf0b</td>\n",
       "      <td>1</td>\n",
       "      <td>desktop</td>\n",
       "    </tr>\n",
       "    <tr>\n",
       "      <th>15810</th>\n",
       "      <td>ffff00725179321</td>\n",
       "      <td>1</td>\n",
       "      <td>mobile</td>\n",
       "    </tr>\n",
       "  </tbody>\n",
       "</table>\n",
       "<p>15811 rows × 3 columns</p>\n",
       "</div>"
      ],
      "text/plain": [
       "               user_id  order_id device_type_canonical\n",
       "0      0005ca5e93f2cf4         1                mobile\n",
       "1      000898990054619         2                mobile\n",
       "2      000a55a418c128c         2                mobile\n",
       "3      001e7037d013f0f         2                mobile\n",
       "4      00245c702bc343e         2                mobile\n",
       "...                ...       ...                   ...\n",
       "15806  fff13b79bd47d7c         3                mobile\n",
       "15807  fff32fc9ad0f9f6         1               desktop\n",
       "15808  fffcd3dde79eb2c        16                mobile\n",
       "15809  fffeeb3c120cf0b         1               desktop\n",
       "15810  ffff00725179321         1                mobile\n",
       "\n",
       "[15811 rows x 3 columns]"
      ]
     },
     "metadata": {},
     "output_type": "display_data"
    }
   ],
   "source": [
    "# Создадим датасет df_test_1 с данными, необходимыми для проверики гипотезы\n",
    "df_test_1 = tickets_df_new[tickets_df_new['season']=='осень'].groupby('user_id').agg(\n",
    "    {'order_id':'count', 'device_type_canonical':'first'}).reset_index()\n",
    "display(df_test_1)"
   ]
  },
  {
   "cell_type": "code",
   "execution_count": 75,
   "metadata": {},
   "outputs": [
    {
     "name": "stdout",
     "output_type": "stream",
     "text": [
      "13205\n"
     ]
    }
   ],
   "source": [
    "#Рассчитаем количество уникальных пользователей в группе А \n",
    "count_users_A = df_test_1[df_test_1['device_type_canonical']=='mobile']['user_id'].nunique()\n",
    "print(count_users_A)"
   ]
  },
  {
   "cell_type": "code",
   "execution_count": 76,
   "metadata": {},
   "outputs": [
    {
     "name": "stdout",
     "output_type": "stream",
     "text": [
      "2606\n"
     ]
    }
   ],
   "source": [
    "#Рассчитаем количество уникальных пользователей в группе B \n",
    "count_users_B = df_test_1[df_test_1['device_type_canonical']=='desktop']['user_id'].nunique()\n",
    "print(count_users_B)"
   ]
  },
  {
   "cell_type": "code",
   "execution_count": 77,
   "metadata": {},
   "outputs": [
    {
     "data": {
      "text/plain": [
       "(83.51780406046423, 16.482195939535767)"
      ]
     },
     "execution_count": 77,
     "metadata": {},
     "output_type": "execute_result"
    }
   ],
   "source": [
    "# Посчитаем, в каком процентном отношении находятся группы\n",
    "(100 * df_test_1[df_test_1['device_type_canonical']=='mobile']['user_id'].nunique() / df_test_1['user_id'].nunique(),\n",
    "100 * df_test_1[df_test_1['device_type_canonical']=='desktop']['user_id'].nunique() / df_test_1['user_id'].nunique())"
   ]
  },
  {
   "cell_type": "markdown",
   "metadata": {},
   "source": [
    "Видим, что данные неравномерно распределены по группам: **83.5%** пользователей с мобильным приложением против **16.5%** пользователей со стационарными устройствами.\n",
    "\n",
    "Проверим, есть ли пересечения групп."
   ]
  },
  {
   "cell_type": "code",
   "execution_count": 78,
   "metadata": {},
   "outputs": [
    {
     "name": "stdout",
     "output_type": "stream",
     "text": [
      "Пересекающиеся элементы: set()\n",
      "Количество пересечений: 0\n"
     ]
    }
   ],
   "source": [
    "#Проверим, есть ли пользователи, встречающиеся одновременно в обеих группах\n",
    "group_A = df_test_1[df_test_1['device_type_canonical']=='mobile']['user_id']\n",
    "group_B = df_test_1[df_test_1['device_type_canonical']=='desktop']['user_id']\n",
    "\n",
    "intersection = set(group_A) & set(group_B)\n",
    "count = len(intersection)\n",
    "\n",
    "print(f'Пересекающиеся элементы: {intersection}')  \n",
    "print(f'Количество пересечений: {count}') "
   ]
  },
  {
   "cell_type": "markdown",
   "metadata": {},
   "source": [
    "Пересечений в данных нет.\n",
    "\n",
    "Рассчитаем метрику: среднее количество заказов на одного пользователя."
   ]
  },
  {
   "cell_type": "code",
   "execution_count": 79,
   "metadata": {},
   "outputs": [
    {
     "data": {
      "text/plain": [
       "device_type_canonical\n",
       "desktop     9.584421\n",
       "mobile     10.878379\n",
       "Name: order_id, dtype: float64"
      ]
     },
     "metadata": {},
     "output_type": "display_data"
    }
   ],
   "source": [
    "# Рассчитаем среднее количество заказов на одного пользователя для каждой группы\n",
    "avg_order = df_test_1.groupby('device_type_canonical').order_id.mean() \n",
    "display(avg_order)"
   ]
  },
  {
   "cell_type": "markdown",
   "metadata": {},
   "source": [
    "Получили, что среднее количество заказов на 1 пользователя с мобильным приложением больше, чем для пользователей со стационарными устройствами.\n",
    "\n",
    "С помощью прверки гипотезы, проверим, действительно ли это так.\n",
    "\n",
    "Так как данные у нас неравномерно распределены по группам ( 83.4% в группе А против 16.6% в группе В), будем использовать **тест Манна-Уитни**, который не зависит от равномерности размера выборок.\n",
    "\n",
    "Сформулируем нулевую и альтернативную гипотезы:\n",
    "- Нулевая гипотеза **Н0**: Dist(XA)=Dist(XB) - распределение количества заказов в *группе А (мобильные устройства)* и в *группе В (стационарные устройства)* не различается.\n",
    "- Альтернативная гипотеза **Н1**: Dist(XA)>Dist(XB) - распределение количества заказов в *группе А (мобильные устройства)* больше, чем в *группе В (стационарные устройства)*.\n",
    "\n",
    "Гипотезу будем проверять на уровне значимости alpha = 0.05."
   ]
  },
  {
   "cell_type": "code",
   "execution_count": 80,
   "metadata": {},
   "outputs": [
    {
     "name": "stdout",
     "output_type": "stream",
     "text": [
      "pvalue=0.9281401955892072 > 0.05\n",
      "Нулевая гипотеза находит подтверждение!\n"
     ]
    }
   ],
   "source": [
    "# Выборка целевой метрики для группы A\n",
    "metric_a = df_test_1[df_test_1['device_type_canonical']=='mobile'].order_id \n",
    "# Выборка целевой метрики для группы B\n",
    "metric_b = df_test_1[df_test_1['device_type_canonical']=='desktop'].order_id \n",
    "\n",
    "# На каком уровне значимости проверяем гипотезу о равенстве распределений\n",
    "alpha = 0.05 \n",
    "\n",
    "# Применяем тест Манна — Уитни\n",
    "stat_mw, p_value_mw = mannwhitneyu(\n",
    "    metric_a, \n",
    "    metric_b, \n",
    "    alternative='greater' # Альтернативная гипотеза односторонняя\n",
    ") \n",
    "\n",
    "if p_value_mw > alpha:\n",
    "    print(f'pvalue={p_value_mw} > {alpha}')\n",
    "    print('Нулевая гипотеза находит подтверждение!')\n",
    "else:\n",
    "    print(f'pvalue={p_value_mw} < {alpha}')\n",
    "    print('Нулевая гипотеза не находит подтверждения!')"
   ]
  },
  {
   "cell_type": "markdown",
   "metadata": {},
   "source": [
    "Поскольку p-value = 0.9281401955892072 **выше** уровня значимости, значит, мы попадаем в область принятия нулевой гипотезы. \n",
    "\n",
    "На основании полученного значения p-value можем сделать вывод, что распределения метрики в группах A и B **не различаются**. \n",
    "Это означает, что среднее количество заказов на пользователя с мобильными и стационарными устройствами **не различается**."
   ]
  },
  {
   "cell_type": "markdown",
   "metadata": {},
   "source": [
    "### 4.2 Среднее время между заказами"
   ]
  },
  {
   "cell_type": "markdown",
   "metadata": {},
   "source": [
    "Суть второй гипотезы состоит в том, что **Среднее время между заказами пользователей мобильных приложений выше по сравнению с пользователями стационарных устройств**.\n",
    "\n",
    "формулируем нулевую и альтернативную гипотезы:\n",
    "- Нулевая гипотеза **Н0** - среднее время между заказами для пользователей мобильных и стационарных устройств одинаково: \n",
    "    **pA = pB**.\n",
    "\n",
    "- Альтернативная гипотеза **Н1** - среднее время между заказами для пользователей мобильного приложения выше, чем у пользователя стационарного устройства:\n",
    "    **pA > pB**.\n",
    "    \n",
    "Группой **А** также будут пользователи с мобильными устройствами, группой **В** будут пользователи со стационарными устройствами."
   ]
  },
  {
   "cell_type": "code",
   "execution_count": 81,
   "metadata": {},
   "outputs": [
    {
     "data": {
      "text/html": [
       "<div>\n",
       "<style scoped>\n",
       "    .dataframe tbody tr th:only-of-type {\n",
       "        vertical-align: middle;\n",
       "    }\n",
       "\n",
       "    .dataframe tbody tr th {\n",
       "        vertical-align: top;\n",
       "    }\n",
       "\n",
       "    .dataframe thead th {\n",
       "        text-align: right;\n",
       "    }\n",
       "</style>\n",
       "<table border=\"1\" class=\"dataframe\">\n",
       "  <thead>\n",
       "    <tr style=\"text-align: right;\">\n",
       "      <th></th>\n",
       "      <th>user_id</th>\n",
       "      <th>days_since_prev</th>\n",
       "      <th>device_type_canonical</th>\n",
       "    </tr>\n",
       "  </thead>\n",
       "  <tbody>\n",
       "    <tr>\n",
       "      <th>2</th>\n",
       "      <td>0005ca5e93f2cf4</td>\n",
       "      <td>75.0</td>\n",
       "      <td>mobile</td>\n",
       "    </tr>\n",
       "    <tr>\n",
       "      <th>4</th>\n",
       "      <td>000898990054619</td>\n",
       "      <td>83.0</td>\n",
       "      <td>mobile</td>\n",
       "    </tr>\n",
       "    <tr>\n",
       "      <th>5</th>\n",
       "      <td>000898990054619</td>\n",
       "      <td>19.0</td>\n",
       "      <td>mobile</td>\n",
       "    </tr>\n",
       "    <tr>\n",
       "      <th>7</th>\n",
       "      <td>000a55a418c128c</td>\n",
       "      <td>NaN</td>\n",
       "      <td>mobile</td>\n",
       "    </tr>\n",
       "    <tr>\n",
       "      <th>8</th>\n",
       "      <td>000a55a418c128c</td>\n",
       "      <td>16.0</td>\n",
       "      <td>mobile</td>\n",
       "    </tr>\n",
       "    <tr>\n",
       "      <th>...</th>\n",
       "      <td>...</td>\n",
       "      <td>...</td>\n",
       "      <td>...</td>\n",
       "    </tr>\n",
       "    <tr>\n",
       "      <th>287730</th>\n",
       "      <td>ff3c5654070575e</td>\n",
       "      <td>1.0</td>\n",
       "      <td>desktop</td>\n",
       "    </tr>\n",
       "    <tr>\n",
       "      <th>287731</th>\n",
       "      <td>ff3c5654070575e</td>\n",
       "      <td>15.0</td>\n",
       "      <td>desktop</td>\n",
       "    </tr>\n",
       "    <tr>\n",
       "      <th>287732</th>\n",
       "      <td>ff3c5654070575e</td>\n",
       "      <td>3.0</td>\n",
       "      <td>mobile</td>\n",
       "    </tr>\n",
       "    <tr>\n",
       "      <th>287737</th>\n",
       "      <td>ffc24188a1d58f2</td>\n",
       "      <td>56.0</td>\n",
       "      <td>mobile</td>\n",
       "    </tr>\n",
       "    <tr>\n",
       "      <th>287738</th>\n",
       "      <td>ffc24188a1d58f2</td>\n",
       "      <td>1.0</td>\n",
       "      <td>mobile</td>\n",
       "    </tr>\n",
       "  </tbody>\n",
       "</table>\n",
       "<p>168626 rows × 3 columns</p>\n",
       "</div>"
      ],
      "text/plain": [
       "                user_id  days_since_prev device_type_canonical\n",
       "2       0005ca5e93f2cf4             75.0                mobile\n",
       "4       000898990054619             83.0                mobile\n",
       "5       000898990054619             19.0                mobile\n",
       "7       000a55a418c128c              NaN                mobile\n",
       "8       000a55a418c128c             16.0                mobile\n",
       "...                 ...              ...                   ...\n",
       "287730  ff3c5654070575e              1.0               desktop\n",
       "287731  ff3c5654070575e             15.0               desktop\n",
       "287732  ff3c5654070575e              3.0                mobile\n",
       "287737  ffc24188a1d58f2             56.0                mobile\n",
       "287738  ffc24188a1d58f2              1.0                mobile\n",
       "\n",
       "[168626 rows x 3 columns]"
      ]
     },
     "metadata": {},
     "output_type": "display_data"
    }
   ],
   "source": [
    "# Создадим датасет df_test_2 с данными, необходимыми для проверики гипотезы\n",
    "#df_test_2 = tickets_df_new[tickets_df_new['season']=='осень'].groupby('user_id').agg(\n",
    "#    {'order_id':'count', 'device_type_canonical':'first'}).reset_index()\n",
    "\n",
    "df_test_2 = tickets_df_new[tickets_df_new['season']=='осень'][{'user_id', 'days_since_prev', 'device_type_canonical'}]\n",
    "display(df_test_2)"
   ]
  },
  {
   "cell_type": "code",
   "execution_count": 82,
   "metadata": {},
   "outputs": [
    {
     "data": {
      "text/plain": [
       "8346"
      ]
     },
     "execution_count": 82,
     "metadata": {},
     "output_type": "execute_result"
    }
   ],
   "source": [
    "df_test_2['days_since_prev'].isna().sum()"
   ]
  },
  {
   "cell_type": "markdown",
   "metadata": {},
   "source": [
    "В данных содержатся пропуски в столбце `days_since_prev`, которые показывают, что не было предыдущего заказа. Так как они могут повлиять на проведение статистического теста, заменим их на значение '0'."
   ]
  },
  {
   "cell_type": "code",
   "execution_count": 83,
   "metadata": {
    "scrolled": true
   },
   "outputs": [
    {
     "data": {
      "text/html": [
       "<div>\n",
       "<style scoped>\n",
       "    .dataframe tbody tr th:only-of-type {\n",
       "        vertical-align: middle;\n",
       "    }\n",
       "\n",
       "    .dataframe tbody tr th {\n",
       "        vertical-align: top;\n",
       "    }\n",
       "\n",
       "    .dataframe thead th {\n",
       "        text-align: right;\n",
       "    }\n",
       "</style>\n",
       "<table border=\"1\" class=\"dataframe\">\n",
       "  <thead>\n",
       "    <tr style=\"text-align: right;\">\n",
       "      <th></th>\n",
       "      <th>user_id</th>\n",
       "      <th>days_since_prev</th>\n",
       "      <th>device_type_canonical</th>\n",
       "    </tr>\n",
       "  </thead>\n",
       "  <tbody>\n",
       "    <tr>\n",
       "      <th>2</th>\n",
       "      <td>0005ca5e93f2cf4</td>\n",
       "      <td>75.0</td>\n",
       "      <td>mobile</td>\n",
       "    </tr>\n",
       "    <tr>\n",
       "      <th>4</th>\n",
       "      <td>000898990054619</td>\n",
       "      <td>83.0</td>\n",
       "      <td>mobile</td>\n",
       "    </tr>\n",
       "    <tr>\n",
       "      <th>5</th>\n",
       "      <td>000898990054619</td>\n",
       "      <td>19.0</td>\n",
       "      <td>mobile</td>\n",
       "    </tr>\n",
       "    <tr>\n",
       "      <th>7</th>\n",
       "      <td>000a55a418c128c</td>\n",
       "      <td>0.0</td>\n",
       "      <td>mobile</td>\n",
       "    </tr>\n",
       "    <tr>\n",
       "      <th>8</th>\n",
       "      <td>000a55a418c128c</td>\n",
       "      <td>16.0</td>\n",
       "      <td>mobile</td>\n",
       "    </tr>\n",
       "    <tr>\n",
       "      <th>...</th>\n",
       "      <td>...</td>\n",
       "      <td>...</td>\n",
       "      <td>...</td>\n",
       "    </tr>\n",
       "    <tr>\n",
       "      <th>287730</th>\n",
       "      <td>ff3c5654070575e</td>\n",
       "      <td>1.0</td>\n",
       "      <td>desktop</td>\n",
       "    </tr>\n",
       "    <tr>\n",
       "      <th>287731</th>\n",
       "      <td>ff3c5654070575e</td>\n",
       "      <td>15.0</td>\n",
       "      <td>desktop</td>\n",
       "    </tr>\n",
       "    <tr>\n",
       "      <th>287732</th>\n",
       "      <td>ff3c5654070575e</td>\n",
       "      <td>3.0</td>\n",
       "      <td>mobile</td>\n",
       "    </tr>\n",
       "    <tr>\n",
       "      <th>287737</th>\n",
       "      <td>ffc24188a1d58f2</td>\n",
       "      <td>56.0</td>\n",
       "      <td>mobile</td>\n",
       "    </tr>\n",
       "    <tr>\n",
       "      <th>287738</th>\n",
       "      <td>ffc24188a1d58f2</td>\n",
       "      <td>1.0</td>\n",
       "      <td>mobile</td>\n",
       "    </tr>\n",
       "  </tbody>\n",
       "</table>\n",
       "<p>168626 rows × 3 columns</p>\n",
       "</div>"
      ],
      "text/plain": [
       "                user_id  days_since_prev device_type_canonical\n",
       "2       0005ca5e93f2cf4             75.0                mobile\n",
       "4       000898990054619             83.0                mobile\n",
       "5       000898990054619             19.0                mobile\n",
       "7       000a55a418c128c              0.0                mobile\n",
       "8       000a55a418c128c             16.0                mobile\n",
       "...                 ...              ...                   ...\n",
       "287730  ff3c5654070575e              1.0               desktop\n",
       "287731  ff3c5654070575e             15.0               desktop\n",
       "287732  ff3c5654070575e              3.0                mobile\n",
       "287737  ffc24188a1d58f2             56.0                mobile\n",
       "287738  ffc24188a1d58f2              1.0                mobile\n",
       "\n",
       "[168626 rows x 3 columns]"
      ]
     },
     "metadata": {},
     "output_type": "display_data"
    }
   ],
   "source": [
    "# Заменим пропуски на индикаторное значение\n",
    "df_test_2['days_since_prev'] = df_test_2['days_since_prev'].fillna(0)\n",
    "display(df_test_2)"
   ]
  },
  {
   "cell_type": "code",
   "execution_count": 84,
   "metadata": {},
   "outputs": [
    {
     "name": "stdout",
     "output_type": "stream",
     "text": [
      "14192\n"
     ]
    }
   ],
   "source": [
    "#Рассчитаем количество уникальных пользователей в группе А \n",
    "count_users_A2 = df_test_2[df_test_2['device_type_canonical']=='mobile']['user_id'].nunique()\n",
    "print(count_users_A2)"
   ]
  },
  {
   "cell_type": "code",
   "execution_count": 85,
   "metadata": {},
   "outputs": [
    {
     "name": "stdout",
     "output_type": "stream",
     "text": [
      "4868\n"
     ]
    }
   ],
   "source": [
    "#Рассчитаем количество уникальных пользователей в группе А \n",
    "count_users_B2 = df_test_2[df_test_2['device_type_canonical']=='desktop']['user_id'].nunique()\n",
    "print(count_users_B2)"
   ]
  },
  {
   "cell_type": "code",
   "execution_count": 86,
   "metadata": {},
   "outputs": [
    {
     "name": "stdout",
     "output_type": "stream",
     "text": [
      "Пересекающиеся элементы: {'93ca3682dfbf7f6', '2e6074a460fff32', '96a25f54d908ee8', 'd194f380a27e5e2', 'b13ad7486136c8d', '50eb77276f29d38', 'bc5316788167e3b', '8b26b596b2299da', 'adc0500e9f5a800', '1021a86d7ee6fb8', '7905e1ad9c5c9a6', '871a53e26a29e43', 'bb1e257bf430031', 'b984607e6b45126', 'd1e72c97b9d86b3', '1661c382a640334', 'c6ae4b598a40999', '1c7336368c8b9a2', 'eb3bcf81738b42b', '565cd8e4773a513', '913e3e352828809', '836758524e31943', '0beb8fc0c0a9ce1', '4648356d1b14ae6', 'd09eb35b2089fa0', 'cdab4b39206973f', 'fe4d4062301a853', 'a67de5f9e037c09', '30df2644f473577', 'c173c804d4e7d7e', 'b91bb2847fa1d1f', '03f5debdd56212b', '134015ef0767506', '96060f1e1575ef3', '2843abbe6127f34', 'fcca25c3a7b4a39', 'a5cb909ca7e5f08', '4a179bd6f563e76', 'b5293cfc33c715a', '08b7f8a3a38362e', '1b06d790a0c7a43', 'e5c01b7f050bee2', '76dfb606b98b55d', 'a63458a4b735f95', 'c765ab78dc1d2e4', '2d96073e7fbc833', '555ab1e99054cb1', '7569bb8b9b34493', 'e35e526ac722993', '85fd87d3e897840', '5260515eb447d16', 'b0d4b34b8ad437d', '586f795f132bf46', 'fb60aae662d5ff3', '26740f2c2b03d4a', 'c48caf43cec3c29', '09b132ae7270fea', '1c2a2133e1df1b4', 'c21879f03b29cd6', '9d1f63bdeb7b377', 'c939f21e7986fad', 'ef945ebe2743333', '5072710c581eaae', 'ed55a590fc5d1d8', '4347993f9c5aa86', '471b8f54c745460', '32c1700242a043e', '9ce88c6c82ca4ec', 'a715329ff73ec09', 'eef5cc4fbb715d8', '3b41cc6ebf2d466', 'de50543d4c7990b', '938699c80c98f4e', 'b11294e5f3e6da6', '965b6ef296a5f9e', 'cbc43a91bf43233', '8fc0abc01a023ce', 'f34026a6903a4be', '586071d39ad85b1', '35564a44c5a2cee', '60563f062db79c0', 'ee8728a2b62cbfd', '3339b83a03ec3b3', 'e5aadd81dcf52c7', '0e962445084918d', '268635f94705f75', '2e64c88c4570e98', '59f0dd3a2ee0322', 'ef88ed4359e92d1', 'f5b7ff94f3e1626', '96c0751d65520e0', '360946a8aa9c45e', 'ccd00018804a932', 'b0c19eec1d5e86e', '856bebae1aeb7fe', 'a3465bb7f920908', 'b7c5c9fde28eeed', 'cdbc02c6ad8087a', 'bb47f8fb5a4fee1', 'f62f5b4ada2e521', 'a994c788d181f03', 'd58f4c2e2b2abf5', 'cf204b05ce2fd07', 'c47f245a7630206', '229f9a7b6775279', '91a98b70e3f470b', '89ac9a387238e92', '41fcc35f83eb011', '4b3f9ba6cf3685a', '539da7bb20e4c2b', '171a6aa678110ee', '0c0ec33129d7690', '53891a5ba793a53', '5245e419c5ac876', 'e07cd9ebfd3b59e', '086a3a0a69f5075', '16fd7c1b112bb7f', '379dcbb332f9db8', 'c7d4d0d8a2f0135', '24d6e3f6e011332', 'e24c2c530618485', 'e504837e9afab52', '66541f69c562b7c', 'cd99039e8be8901', 'fdcebf159b268b2', 'ccc423be909e8c5', 'cdd2398f7788a8c', 'b4b396f5b8e22e0', '5001885a4e06011', '89f321f502859f5', 'c27c4f10223ae0b', '4a5d3c4927b820c', '769823f9bc10a94', '9a0dafe6d8d202a', '9fc57230cc1bea0', '8ae6135e7f170d1', '800f1e4a26a1bdc', '99b8fad0995a825', 'a7f7e877d0b404f', '807f4d91418298a', '6d6447fec3ee8a5', 'cdf94f91434c4f7', 'b4883bec91207fc', 'fa782f29115bf54', 'dac40e4077d8097', 'd290b36577c9879', 'f07f5cdebad9258', 'ef038f050e09f50', 'a6f355f72b2df3c', '88458fc3ff68b2a', '6bf524b4616ddc4', '043f4fd29dac324', '7b512377b787016', 'c3d56a4deb7b6e5', '724e34291525e41', 'c0d5e30e7aa3a4a', '441c881b3815a5e', 'e3c444c0caa4a33', '9255b55af9b9ca7', 'e34f74178239b2b', '26068df7451bdb0', '877e948fafbb345', 'a797b15acffb357', 'fcc99f1c4c5c140', '29fd7521cc06e0d', 'c9057c415fe1006', 'bc8b2c7e044be5e', '355de7158726ec6', '79bf9f0860179b6', 'c92dbe1d51e0231', 'b6ffff236c675ac', 'd99f6f30af06fc2', '76ca1d3421b91cc', 'f04f9286231dde0', '5f79061ceaa6606', '002b75ca606ba46', '1d87af742003a4a', 'b24acc39d810cd2', '4b1f711504b066b', 'a5268eb886bc426', 'dad0988b89c14f9', '07bbae54c0e3c74', '30b55267a961b74', '576dc7834e83fc2', 'b4c38e1c262e99e', 'e7baf14aea1df9a', 'dff935f7a33dff2', 'f1124ad5c86f806', '7f378fb055db71a', 'b1170dcea2e6685', '446f3b7b2500ce9', 'b916100adfff4ea', 'b4fd7af97ddd1d1', '47826af858b7113', '988dcf44f2f28a0', 'ef81d44bf2c267b', '1f400af7bf235df', '38ca349f72f9b29', 'a41272092d6f47c', '364f53af13a8fe1', 'e517761c1d934d6', 'a33e9bcceadff71', '125b899851eaea5', '0c820a0dae71ce2', 'a6c29ab806e766e', '78a3d9e7eaca60d', '5a141b76e217479', '503a6a3298f5aa3', '64355d032beb3ca', '4efff8f6744ac25', '7f3c961dbd37131', 'ff9310a90294d5c', '5444df5ae6d312c', '570663d186a3a7b', 'cbca91941c9998a', 'eaada5b85f8d5d2', '9fad4425b6fb2e5', 'e6b936b224bcbad', 'f0999e117c2fbfa', 'a2cfc926084e15b', '199ea77545fa200', 'f04eb3bb2657868', 'c4fc3211f4fe25c', 'd83405b8227ab3f', 'f9bd2299a90f624', '3f9912e0e3acb04', 'fa30444978894f1', '21b0708e338afb1', '002ec276eee9b0b', '27f42ec8f707ba9', '4c96e2a46134b1c', 'a015d9df9345a18', '8dbb77a73cc0345', 'fe936ae193261e0', '1d2b6da94768a5b', '4a59695ed371fbd', '6e9c11679b5b6ee', 'de111731c5580de', '10869889a1b5842', '8beb8039148f19c', 'b199462cde92352', '82bb11a4d78ddbb', '84031171c1d5314', 'a5597b4887c922d', 'ab7630fe11933fb', '5db4ea81909b842', 'fb2209ca9c8a3a4', 'a14c2bcc8918e49', '8290565e304d595', '3c23cc787ff7e84', 'a628b1e2a1cfc27', '0cdaeb01752d2b1', 'd6ccb7a1cd0e953', '353f5a73e9908bb', '922ce62178fe531', 'c246d091aa0b554', '788087e88da82a1', '1c191bb7b007ba1', '3b923df021bc416', 'bebeb710b74565f', '7678c1d10e112dc', 'f7b30e62f2e4bff', '6e3a7f25a754dc3', '1f51b993f67c7b5', 'd7ec9b772cc82c7', '0338b387e8fcfcc', '00fcd3ab0e5c558', '7033e91896b1f09', 'dcbc7a9957027d3', '66bc4efc46ef036', '77eba1002a839ca', '48db4894b715911', '8adaf6c0a39c717', '59141d0abcf435e', 'c087ecad30bb654', '9c91b8372bd1e46', '479b2b69d719cea', '07d12fc26a4c023', '36214e83e4ee08b', 'cf1ac176cff074a', 'd43ae67d2c795be', '7d2c09b2962cf23', 'c26d3592b09d59a', '08f093e7ac68187', 'f98a542063923fb', '61111f47c0677c8', '8f0d39de46f36f3', '56a73f2bc0492d8', '4c80917d29761bb', 'a9d5c50e10128f8', '1d9204aff100551', 'd5bfdd8b5254fbe', '62815eb56a46032', '7c4609abe525ad9', '4b7cb1c7b99076a', '4ebfb0591b9afd3', '891ce9a8ea39005', 'c31e4e1f23ea0a9', 'eb51107b5107296', '2e8772726f4ebe4', '043ad5de015a5d2', 'c7117960698af53', '1de26091325077e', '0d27dadd637f49b', 'fd12902f7b779fc', '5fd2529d08ea5a3', '6b7371b8a093d74', '991f4790499dd13', '992f64b9657ff00', 'a144866c2a8096a', 'f17fcdd8b032749', '2c94b508b5108d4', '24a731b1d598f48', '488278fc316a3ca', '671ab76357e9e0f', '080732859319383', '7732e86dd3a62db', '066c69126749be8', 'ddf1bc88e6501fc', 'd7c18f712064485', 'dbfb2af7356f7af', 'e63ab6e6e171ae3', 'c6ef049c34ebdc5', 'cfd21a3210b5a35', 'c0f8ec8db34e344', '5b1123971a165a5', '41bc45039a89d4f', 'ba1f5e27622d8b5', 'b422206352d1487', '81e735400e60e96', '1073a5b2efb4002', '7d1820d1f6535f9', '60ea243a698f2ab', 'a5d0f91d9f98d41', 'c2366fe0957e8a6', '59893258039297e', '3ca83a9387c9722', 'c949da9d164c71a', '86a32a6604ab2ea', 'a002432e8dfc1e9', '2fb21df5072105b', 'c069ed5b2631489', '2bf8877b04e2761', '7bdfbbeebb73445', '30742b012f4dab8', '85e19cbc69ed2e8', '5c451927ca41556', 'f330ab92b587474', '8f21afb9d7e1ec1', '10ce7b2a76269d8', '19cc222b427ecba', '78dd0488e0bfeae', '561d4ed7a7541a4', 'e1e022e82416ee7', '41a70b927a02d79', 'd958e136783142e', '39430ad62129ea7', 'c1f0c9a10fafeee', '40c96a8311c1ae1', '96d572b21c9d950', '9a847fe99956c95', 'f7cdb4064394863', '4c3dc66e884d310', 'caa19aca1d2ab5c', 'd50cf1f42877f2e', 'a844511cb293dee', 'f9575bc94e88caf', 'ea20653ab7c1c3f', '1f0f6c8d174ebfb', 'f096340772f4c23', 'e3c474eef1e2892', 'fc4eef38f4b7fb5', '61a476128fbd669', '6acf69c3c1b3b52', '4a0e92e363d4ca2', '88eaef2092646aa', '463d468bb739ba9', 'c2a4913038c9f18', 'b5eca0e395b7cfc', '59b7b1bf72fd600', '5f3fca73efacb67', 'c537a322a341682', 'c96b961916a84fb', 'a31487427b9c682', 'c254979a4cf9d1f', '1b1044865472bd7', 'ea996b287daf4b5', '6ab1cd8f516fbcf', 'c8314c817c3385f', '6a3af5230c0fe77', '4d52b31f256e0c3', '5a9999a41805370', '00f4f5244501ce6', '1fed2fa7d970058', '578f6fcdff4a554', '6b9c1f46e3cf26b', 'b13a3ef69d2dd28', '5e94e92b5d72271', '60238d5383494d9', '6d7b09524968f35', '7ae3c326ca08885', '34b2f07283266a9', '3365d2ab36a3c13', '252a07c65c85971', '82c94f765c52030', '2afa6b2546df6cc', 'eaf3d0efdc9a0a4', 'ab8468075883147', '4b49d4f93d5cd86', 'e8b45cbd02f5615', '908123c96c2b21d', 'faeb88addaf0c79', '30c64de3da7bf94', '461ee08811dad2a', '77a6f7754f47a7a', 'd809ae0290b17fe', '33f1846323eda6d', 'e55cf881b70d306', 'e5ce0cce41ae6ac', '7970c147d6716d4', '9ea9c48b5d950cd', 'd98e4ed8e5352b2', 'ac883d20d26cf91', '94c21c40b1d6376', 'a57ad70c21f9666', '655911492b87f97', '028fcb4f94d2565', '02812f1183de24c', '9379d9f0a77177f', '1c29dd4b464c744', 'aec326a305e8467', '805e8b7d97261d6', 'c2db863a19575d4', 'b76afbed90dc1bd', '73d30860241e19e', '70fde43b25d4e2a', '10a18b1f7457511', 'ef8e30e45c3c531', '0b22014d5c03eec', 'a134012d79dd2e1', '36fdb1aa3676d46', 'a0395a6bb9acda9', '0631f61aafb9cfa', '4fa401fca3b0452', '16ea30d9a6417fd', '18e8d38b0f9ea56', '9a328c5060fce88', '11cf866911f211d', '232f5b46237f39b', '75bb011b5c5315d', '9d064ac0b1b6799', '6cfc0ac2fc5d028', '58f3e7522ebf3f5', '65c4c930c43ff82', 'eafdff380b2657d', 'ccbec83d25cb642', 'f9181346d331074', '213033cbc99ddc7', 'f10183ea6b03ac4', 'e73089d7d016cd8', '98734aaf1a2e202', '0dc525d7bacbb0d', '6bb7a7cdb2002cc', 'b5def8de8acb990', '7d48ac04df70669', 'c5ca76e150c267e', 'f219011e3b8c9d7', '8a40ac78fa1364e', 'f8592fc09148e8d', '8e12c944b783937', '4d119ca82a91057', '625a3c1947c3691', '1b371c711084608', '24ff93110e008a6', '127ad85ed94fc2a', '2d040b13570f753', '797aa625fede9bb', '961f1f159a9806f', '86c32476a20f963', '272191c95ae581d', '85d734c72f263c4', 'a556e137c9008e5', '9b92cad2e2ab008', '077c4b54368a1cf', '1059e675371b898', '4678b687aef94db', '660d526c483749b', 'cb46b1ec8fe267d', '1f5005b3af584c9', '774d8911f085cd6', '197056f46b17f1e', 'aafb66ec2c9ea48', '0ccd097f50d7bf0', '14529f5d9be88aa', '2003f8b7963d828', '6e679fb4bd69b93', 'fa2126c98ef90dc', '761115efa1501dc', '8d52f5c8c871f39', '82eb0bcec2c98e7', '7a3651f9c062db4', '43913dc0fdda1e4', '3127060e4f02037', '640e1521b23e549', '5dc91cc267d9dc4', 'a731a47f149e8af', '13f57b6c7857c08', '81d4d8f197b97e5', 'bac0c285c80f77c', 'f271b7f7324f94e', '323bf0814bc324f', '460530600aeb341', 'ee7be12be20b7be', '2db45ac3fd32d81', 'cc01d88ede8b29b', '9f9d4b26aa8a016', 'b4295770c18cc86', 'ddaefa229ce89cb', 'd899cd85cd5dcfc', '76762ddbc2eae9c', '12d5484d43552dd', '97a55e7cc0efa89', '45865fed0a55322', '696a8b62ae82672', '90d3d49ebe18300', 'c292fb7577c5c45', '1c2086b12e37403', 'f711b08f98c0a55', '9d3f6a51ad7c82d', '788c18f3248f435', '605252153ed7b2a', '443fe1aafcc96ab', '52163cafa41895b', '199663adf9fc7c7', 'c562e71dd16e964', 'baf221ab63408e0', '01de16e63a1c17c', '4781403c85227a2', 'defa94bd5164138', 'e48aa68c80496ac', '15a13d216650f52', '1a66f181a803c75', 'bc10f49ae647918', '03dfd23ba7c058e', '329b1a3e6200037', '2c8092b69b753cc', '546ae4510d2a544', '64a9db20c6e7fe3', 'cf3792624accc92', '477045887b3f897', 'fec9fb67e61f014', 'a415326a7bb4b37', '9695db335a9a7ac', '00eb3dc9baa1543', '014d3fe7b38411a', '6237e3853f38666', '8dc94791a9f8ee1', '6361695ed75632b', 'c13fa0de43e7085', 'aea2f6220f2c9a6', 'fa2f9a910a9d2c5', '57731f5499147d2', 'a3cfe546e2ce6ce', 'fc837f5a0c671b1', 'f7a404d20c2f6ad', '263899eecb6d8f2', 'a58fd0310dace82', 'b0f52596eb40d8b', '88ddc76efb6eab5', '122538c3568b869', '27effa335c1c560', 'd513f28e89c9d3a', '8d24bbe965730f6', 'f27470de2873e73', 'e1040f9de68092e', 'c45d7c897edeb0a', '91c85e3b7b84d1c', 'b1873beae72e67b', '5d716298d972f92', '3e683b83825f888', '8016e87f44e8d93', '5d2ee98c8248659', 'c474fda1fe98696', '0542231cc338c27', '0de99f3b8d84b7d', '10061974eed6117', '0aa3a1de2f4670e', '6221adf2397ae5a', 'f5c76896a81c2b0', '5707199f42393dc', 'ab751e152297818', 'a927adc5ac6fcf9', '6c09b6ce77afc15', '4020acd46567514', '6f9b4e4421b1886', 'f7c0024e0bdf80d', '5fb209b1dfe7553', '71f09a7ae2d0b4e', '78d24e7240c8149', '992017ec305bf3b', 'abf8b940873f97c', 'd433d7633b7b189', 'f1b2edf7a5ab06e', '93f1c872643f219', 'a21bc983faabb90', 'f3e903c5aa6d2db', '0984a88f389c11b', 'dcc3154f6ff1f55', 'cc8cabc32ae4412', '523ed3febb5e6db', '6d12e4b036d5dab', 'c6edef2e4716525', '099e1511e2243c4', 'e0bb0dba7fd2b8f', '73a57fe7c268b63', '1b67a2e6fb3e680', '1e659ad2ab78354', 'ded2174e1058b3c', '80d3e0d97569d79', 'b9593727de119fc', '29f9aed7ae37704', '520d276e61a63ea', '8f4e4d4a4ae404e', '8b564ca7ce221af', '1395ce0b35c7ef5', '1df0d3e43279985', '2636011cd996894', '9c44374ec914e84', '54189ec740d0c5e', '4dad619d9c17ea7', '411816d6a0b7356', '46a197d1ff41d29', 'c4ed268df8b9fde', '68593d20f927af7', 'b8fbbda9518a6c0', 'a41c520fb30d9fb', '216c0e668403804', '9b783a14906a526', '8d304be71996940', '5a731277b044e84', '25e09cd176ae7c7', '9d12689c4a1f28e', 'ef59a2332e6a58e', 'bd48d09500085ff', '2b7371d7c8e7454', '396e91fa33ec90b', '89fed06dfca8f96', '3ec464f0d440bce', '58439e24a4ad5c9', '39c63bd4e31c5e8', 'a45ae21356a73ce', 'f721bf84bccd2d5', 'f9c166672db007d', '4485c774211a829', '7ac45a014bc7e06', '9ac2e479e1bec3f', 'd0b07146fd148a1', '3df883298a48c49', '51a231b1478ed56', '73d0700735ef939', '3b79971ad81a7e9', '1e315671ef9759a', '571418b78b9f1cc', '971f4198c79a904', '0ce9e24aaf0d7fe', '96e77baa6246163', 'de9541a812b5fb3', '3c0c714ff139da0', '949b3ef04574bd0', 'a9f060dc93ef102', 'fded79d711fff28', '5af3b9a8ea67270', 'ed6fc708aab5c4e', '9e08b2c533731a6', '33bfc2caa94120d', 'd820b618486a5f0', 'b9de90d51142a38', '3dc998a3a53d57c', '2b043c3e4648c2f', '671bbf99965cfd1', 'a7bbcc127e2b4df', 'b4d0bf0fa185867', 'b0f8c0999f2de22', 'ff684621b134cc4', 'c5300b2977b819e', '57192e6053b09bf', '60d09a82e783d09', '6b1367f5d7dd3b1', 'd566ea29c1a18c3', 'e0b28c7e82e8e1e', '5d4abed0f5fb0b6', '99e2d4517d86b2b', '63c8c7cb5f6bdd5', 'b0a07102869e7fd', '8c36c8c540d4b6d', '876a3b892a45a89', '84779322755ec7a', '461c5c14738570b', '3230706f49ab684', 'e333b28575ed7f9', '3fb84bf642d2d4b', '509a4464aa0cf59', '1c4746f587702a6', 'fcbc00010438282', '29bf3fb2a1a4198', '3c4a823a1b46093', '926504a9508cbb3', 'e4e285ed54127f7', '1b2d360745a2152', '80f7e3322915507', '7259fefc2d732f9', '77c8a9649a92916', '491528f55c9a99b', '164e229ac329220', '92a1520b8130c52', 'ef53ef78483f007', '29b7edb6008161f', '3ed8d40439b7ca1', '3822880d95ddeb5', 'a75e13c0f341c96', '4317190198f3544', 'ca088ecd8cb1d3c', '908d4ee105b93a0', 'f73326d5a0bc070', 'b8d8e3bed754e11', '8160393283e2f05', '96368e5714d1673', 'c54142c0cb05d1c', 'd62c06931725ff0', '07c1a6dc7abaa79', 'eb88a16d2bd9fde', '66a3d8a02f8ac38', '4afbe72b5f7daf6', 'fc82e51bb0b0327', '8f86cae937bb0b4', 'be2cf469933b5dc', '498424b2c7f16c3', '938b8bcb70fa001', 'e5103f87766763e', '32187dfc0ab5abe', '3efe352977d6dc8', 'fcaab4df8ee1d7f', '20fd3aecf8ef2a8', '49eee7807c16741', 'a8fae111a530357', '3bb2299f0502e33', '8027e117a2a51b3', '0cfba290f15bcf3', 'd464a19614ad040', 'ddccbd9f57c5ad3', 'eba317b20c00a78', '1a1a929439f4cd1', '570d82d64a61a81', '1c0e6f4decedd8d', '319958ab5149931', '0fcbe6520a0589f', '34eb72aada5fa7f', '54e7a640ae1d135', '0b26dfff1363655', 'b639f4d1fe0137c', '0b77ec256b60b3e', '8c24a40c8bccba3', '6459e50036af48c', 'c1491e5f15edfba', 'f7a255b3c544163', '3252434915eed0f', '3e428d88585c7dd', '4f6302c4412be9e', 'b61c1e659a76c0c', '9eff969a002a9c1', 'dc205401360f3ff', '9e4f3ad398e1a2e', 'cf5abc9ed7d3a35', 'e0828b596bbf4bd', 'face0412c382cdf', '745086814c01092', '1c8258021ec88f0', '5d262e40ec5b2a2', '5acef5cce108ae1', '601661258a3797b', '0ffe2f831d5f523', '700aa4f425295ca', '226b122325ea66b', 'b23576018224e4e', 'ad6263cbbbe3657', '6d1c3e4914ed023', '263139659a08f81', '6931877a51c1e75', 'dd51cf07a593fcc', '9fee7ea0b48bd2a', 'd9fb724cd6cc232', '18e9aead0a393e7', '9f0cddaba3378c8', 'fcd7164cdc6a2c2', 'cf57d9b6a5d00fb', 'ae8e3d5af3036a6', '15caa29f532d3bd', 'b8bb47893e6b403', 'bd38ec59815f2eb', 'e7c3f16ca26b719', '2bcced5507c8f31', '3053347822efa14', 'ca683b348642a45', '247521d9c1516f6', '231bfc0cbc87bbd', '71afcd8a2d4a571', '5e66a197627e3ba', '9dd1ea98e391ecb', '39f45ffb7750015', '05d59ead1b50605', '6f062cfdab4ee82', 'ab3da961329a9e8', '6c53f4c1f1210cc', 'b8138b8e85484a4', '7294e7534a975df', '7db255d98909b10', 'b1710ed3e580307', 'd3c861a3ad394c0', 'edd1493535569bd', 'fffcd3dde79eb2c', 'd112a77a1156a2e', 'cea79915f508508', 'f6af1139a64d911', '858905852b19d7e', 'ec50ad5b3def6e2', '19d655adcf953d4', '3d7c368de194e68', 'f8d9d71e038c850', '107d3bcd2bd860d', '71f4760baba4bcd', 'ddb11ddeb7575b5', 'f6900251518b005', '8cb7be3946ca905', 'b3f5a4ca3d5fdbf', 'cd9bce6615d28d9', 'a4bc635c1a2316f', '3d92cfcbe5f62b1', '2371573b861857c', '7894470ea9214c0', 'b696487efed715a', '4c287d557cee1ab', 'b5eb431428aa50f', 'f15583d00e65820', '50a565616d57b3f', '561d7bc837fae17', 'f1496b3843b8375', '14c9bc85738df7b', 'c380ba7d627cfcd', '097dc038ddd11bf', 'af1e4f1eb5246b8', 'a2e2def0ce5a42d', '464336a26eaf304', '19654a28676ff03', '3292e51e7219e1e', 'af180b27d38750a', 'a378faf2acbdd8a', 'b0936be9b928257', '5a12e792133aeb5', '73c897c4cacfd3e', '505df882c03a166', '8860b4ff17fcc70', '4afffcf2d1a2e7b', '87cd760e8b39f6a', '63c04990d6c2399', '666abded97d8aa1', '7c80009bf313d23', '87d5b5c245e401f', 'fd42eb300f40f53', '7a46482b64e1e9a', 'b4b20839c378217', 'bce410011472e79', '49f8d9501f4125b', '5a9c3b07ef6a1be', '89eb12473dfd5e1', 'd985e933038733f', '10d226da7a158d1', 'c7a7338b3620b7f', 'ccef659f963a5bf', '1f386beaa063714', '3eb9cd749f824a5', 'e5b054013876883', 'd0b3144a898163c', 'ddeae308d649f5e', 'b0c92bbcb3e79a1', '77a1c1590ed83a2', '6eb029f550cc02c', '0a2b71249843f5f', '243e52730aa97c7', '34d021d95ee1f85', '4c99326e5d82bb3', '090b859e594bc87', '2ad9366cbb7e652', 'db53cc110454379', 'afa110f814dc7d6', '5ed1c84da4b533c', 'f79254f7be42cca', '880f5b6f284b549', '272a2e4d781e2a1', 'fa2a6111a94deb7', 'a5840eacaefcc8b', '8fb991394be3b2b', '7513d41eb8faeea', 'e912f424d5b2cf9', 'ad24ec4d3883a71', 'a305dfdf8e9a0ca', '1cbbbc5026b3f30', '34f3caddb6e86f7', '6fcbf3e25eabfc9', 'c03d32bafa0e492', '005fefeabf1e678', '50c706a366758b6', '1db3c30f6d1fd5c', '0eefa32d78197ee', '7696dec4f4fbbc7', 'b99f3746d279c06', 'c390c5d4e7e926d', 'fbb272ef99cb028', '1c734fb0d7518f9', 'f312ae2133408be', '3fc8d257c2f6649', 'e7ef1a2433c6703', '46ec9d1a024bdac', 'bad6d71a750aae5', 'ad315c028ec4545', '105888ff5de4a73', '4f1e57c1e4bb806', '7a8181c87c42b2e', '66203daf93591c3', '2e485922904f345', 'e3233f8c7eadd95', '90d6b09e692be0a', 'eff6bb5973aca16', '3f7b5c6bc565780', '2f6a4217ccfb426', '1eafc8ce35c8c21', '9d0808e41b1be28', '0f5ae2c1fdab9f4', 'c08f3e65a2ec18b', '7c4e8b1abfdae07', 'f43e69037381068', 'd0ca96c82ec79c9', 'f032093cab54085', '83c9acc20530e03', '87b34e763e123c0', '9faa8bd0de203a8', 'edd175193cf98b5', '35568fdd2689a4b', '8d0c24d99c584bc', '9be9eb582224e7e', '05055378ef673f4', '8d8d256ddcb72ff', 'f12816ca86af064', '756d1d58f1646f3', 'c19c149e410d83c', '7fdc728072cfb0a', '950ef91c27635e8', 'ee4ac9bf01a3518', 'fa383294d84c739', '5d3750b13e7ccec', '8f94f84dea423b3', '36bb0b85081b4d7', 'da04b37a6103c95', '122fc3283bf3d83', 'aa097faa63b3d9f', 'f8a655b957a8024', '7f20672140cbb33', '7c47fc331c8e9fd', '062202455094ad2', '6b20356a8729829', '64db1506a4854aa', '7eac71c10982d67', '952263efdc63e5d', 'd4ed68b25980202', '6cf5aff356429e5', '5c7c889566600da', '2b50f4d730ffa3f', 'de4b71555c7fcc9', '93403461fe68582', 'b0e1acf1dea1061', 'b32aadc5b1e02cc', '044e6e1117534d8', 'ca2a07a2a1e5180', 'b8cbd66ca943948', 'e5e5ed2a1d8d9fb', '955ef19094b696d', 'ee50e778afe4260', '0c5a71f0dd43ffc', '1b7ca4c1e4372b0', '61cfba60ab5417b', 'dddfa46f2b72c56', 'e07d6ca0af39805', 'd84a474922aa0e4', 'a1b845b3e48fed1', '4554434815b6350', 'd989cb1a4cc1849', '1290366e32d4f0f', '0df2d354bdcf496', 'efd7b595af23463', 'bd152b20fd991df', '03c83417d330ea0', '2fde2bd3b8c1f2e', '593b2323f630991', '10ade0fcfe69c2e', '4680bfb9e7b945c', '6feccdb2d109909', '483a209dea05304', 'eda81d845c0b358', '7ba3453e117c15d', '92ca8e8d8bbb961', 'aa5d0a865ba1d6d', '2eec351240152dd', '1f5369d631aed7f', '36485a3b3bf5f5f', 'f669a47d822f63c', '757d0f7f2ac084c', 'a5435ac7e6de685', '4f3bec1f1b893fb', 'f19f184d6ad9043', 'f5d261e98c24854', 'b6ad5b56411d5ea', 'b16325dab2920c4', 'c589697d9b10ef0', '9aa531951bc0266', '3ee6e8dd258af54', '7e649f222f0e965', 'a72cfc76b357839', '7f7800301ac13b8', 'b04111f397d5764', '04b6911607ebb3e', 'f2b61b6f10bbda0', 'a3a0524ddd1aefa', 'b5612b728f32311', '02004eeeef03f52', '85ff88317de8faa', '68f6b154bb548e3', 'df4f06d21fa2931', '0c49f284b6e5d56', '275a1207223dfa3', 'e660247bcb44b27', 'dbc3da55695dda3', '87afa44f9fb1bd4', '2a7b4ddbafdf079', 'e04c5892c27b239', '7130bbbef44f7c8', '0c864e8c4d40776', '494f02274475adf', '31e533b991862d8', '8e0150d3e16cbfb', 'bfe5361df91bb49', '09caf921913ca4a', 'a78bedae5c65972', '1bcd0194fc4a69f', '624715c1b24d005', '34a86a7454c18ba', '48f743707d2ee74', '12fe4482f168fa0', 'b195af5aaa55121', '5945ef27ea29124', 'c35e30b63a6b7fc', 'd86f883f1c52bf8', '0b9b8c1c4187ec8', '668e5eaf1043bf1', '0da8138bbc4a774', '06a6974a28c1804', 'bd9e77f924a5c7b', '9ed0613835c8985', '30f80bcaad15c00', '1763c9afdf66697', 'f06d2aa39666ef2', 'b937a1521939d5d', '0618ff8395c4f85', 'fd4d47438ebb946', '54e0757fd4a9b41', '351046f0523bc44', 'bbaad7de3a8ee83', '3ad097b7d8d793a', '921a81228b61af4', 'caa334dbbe5efb1', 'c5fb4d14712cd00', '70233560704c9a4', '4de3ab2711a4751', 'bffe76f7ac9e1f4', 'fd127030c0df686', 'aa4e0dd10603736', '826830eb1ce1169', '9a8180f100dded5', '620ef1b74514258', '67d16c748bd8888', 'd6c7651889b4737', '14c6462ffb5c404', '27ff640bf0c179e', '61bbc37def87f8a', '00ca94ffb2a68b5', '59ee2d48176bcd4', 'c61658f5e2a3f69', '43442cd982405f8', '82bb733880ece01', 'c7ec633dd5bbf88', '138e1faacde17f1', '4f870de2e27da90', '463ad9b1fdcc1c6', '6f6841af07a4563', 'fb0de52c0155400', 'c1844efdf5bc6b0', 'b39d7854da02fe9', '181cc63bddc1339', '165de1043ba4593', '524f14fde0d73d7', '75c7893ea1eb7ef', '6d3c626ce56c88d', '793778043975be7', '9768113c067d31e', '554fa38cc557508', '96e5dc3aeca2892', '35e68385aecf907', '273d0875a6d0417', 'e6d9fd5efffc27b', 'b618521c9fb8b5c', '5553825b5c6154d', 'a43a0f1c1527b86', '104b3035f811116', 'a55001da167fb21', 'af23c067a7a2f8f', '859efc034eeb148', '10f36df61437a2c', '23b938934ec31d7', '87ab8a3aacef43f', '3a120ea8323ae97', '794f2570411a04d', '603e75ab83a89d7', '707cf6304aecb32', '1fa4eb46859c06d', '8347a281df238e9', 'cca300d892c183a', 'a0258a2fb4a1bb0', '58b491ae19af0f3', '552db4465d79212', 'd6eb0cf057b4d12', 'ec2bc5a62c0c832', '59773c120303e1f', '9530b1b07e4b302', '375b378912e9742', '590d2e5e0864bf2', '1d8867afe6cf87a', 'b61068b03c5f9fb', '4c50fad34c5c94d', '8f58dd17b4270b4', '2fb73eeb21cd139', '2ac24e1496eca35', '0ce2ad8e57593f5', '5d141f01130aa40', 'b97db299d882c1f', '44dad47b7432132', '6e1754674393ba7', 'ff64a1fc2517893', '3dec479bcfeb934', '879a751efdd9bdd', 'acddb815a4ad10e', '82e8c5bb9118e7c', '7c416b1496dab4a', '0f375d1531f807b', '4323bb16e88a4d6', '8ba848558291767', 'b94a54eb7dfbc06', '1275fa9335f8131', '8a365e38ba78b86', 'a5dac5d0538d62d', '557f93a02f5a776', '1636de68fa25ba8', '3724ed7ac38b8ac', '60893c4e70271c0', 'a3c26690d3243e9', '4e2392b13d298b4', 'ef14833b7be8c61', '851fc78fe0019d0', '92d11d65f4ea799', '9147ecaf2801bf5', 'a25da0c4f2b31cb', '32b897d499ffb66', 'ba5fe70efb57597', '2d2ef03016d0c74', '64ee62e784bfe32', 'eac602ada841a58', 'd090dfa6fae3a53', 'a3f3e9e62e39eb7', '5f9b0b18347b836', 'e49bb5f31af659a', '73df3f7ebc6ab0b', 'cb8fc0bfd6f2f76', '1eb1e467b57ff4c', '355af386a5afd8e', '6c514578b4707b2', 'bdb757561a68530', '2827326bb08485a', '552f26149e05611', '3b420991fdd8d44', '05ee512a6c80ab3', '23217d74a9dc4c7', '23b13c84b6deca8', '0a587e38f57d813', '713e1a928ec76a4', '634204e9ba478d3', 'e043db3cee04cdb', '8e25ee599358325', 'fc3cf0c1bee7b42', '4c78e97b0cec16e', '43ce5c52cf111f2', '976f6c94775aaa2', 'ec8b9b3eba85bf5', 'dac78d4d20174b9', 'b8cfc612376d9de', 'e6933452ced7b54', 'd063c1e5f230a6c', 'fc950d43881de43', '3e19b824e744227', '9c14fdd5975c05f', 'aa164f5d6942dfe', '654bbff58e1595c', '3053a2cbff01561', '61f529bba680992', '9d898be86b31893', 'bffacef9a21545d', 'd94529d6a46d4e0', '5be160e819782c3', '39f3ae4c8c8cad3', 'ed31215b91c9c84', '71b552cf47efb10', '9744259e073d126', '9c9922e9e501faf', 'df240730d1a05c8', '9a4abc14fd64d70', '60ea4937ad26ac5', 'f3e93609c1849a5', '22b5fbe654b9401', '533b80b309efe44', '19df6a867f23d76', '97aa528c46e304a', 'b8521fb4132ae44', 'cdefd4cb34f4d15', '7124b2a81b23a85', 'e6bed6da267dba6', 'dbe7d43b797f328', 'd32c65b5c08de3e', '14442eca13b2cca', '1050aa063a47748', '281a080db804168', 'a018721ebcd00a6', 'fc99d4691e85a35', 'c355992e4e6049f', '0ea528819041df1', '2bc366da93ad84b', '8187dac4be757a0', 'dba80368a42e538', 'e08d21dc3facb6e', '014d39a51e32a03', '59fab72b6d95bc9', '3a75fe5b48e9cb9', '3e9b205d4e92f83', '164894fcbf28267', 'ad2dc32364ed948', '87e81dbafdad770', '568de0d91a59392', '663e210f7cf9fe7', 'fe8fd21b2ca4d91', 'd5d50c8d9a01d50', '666fff30b547e29', '7511759c372fea1', '451899891fda9f7', '81c7d8bc6f6ea52', 'b10463dc57814d9', 'afdbfa5aae49b3b', '66a9035971673ee', 'b1cb5fa84cae014', '6fefabf0d042e1d', '051b897cc4f1956', 'b2e79ff8276ac54', '7f76a0fba4c5ab9', '4e8dbc554c52ffc', 'f50c003210fc517', 'e3eee00096b0c4a', '6e19bdf3fc56d87', '88ad1912681d992', '3c3e82eb9bf31fe', 'b858c028c875820', 'ecbd9c38584b58b', '14c00d2dee6ccb1', '00f62ae69f0351b', '93b9506714b352f', '7997823870f2b1b', '9f8d475ab96346a', 'b7dffbf577a082b', 'f5f9d0d8c654104', 'a9583a0889871b5', '77629f0609feaf3', 'cbb22c561d41bca', '45d49c476c93ca6', '3f0f9c553bf370f', '9eb4f37156463c3', 'd720be37facce1c', '554b561b340d40a', '3784e1cc4a274d4', '509f2944a4b69e6', '9481facc389e737', 'd2273cdc3525cd5', 'a47c09e428ff035', 'cfe5f28187d551f', 'b85f7e51cc8b74c', '209c2a18b2a98ae', '3f1db2f10bcbba8', 'b54349383af7d18', 'e2714544538635b', 'af1499d20a10ce8', '41f0542293392c4', '9dda32803cb7680', 'b235eecc477a6f2', '6742f4612c41023', '43d3c35b8e88bd5', '2545f60929f257b', '49fc9f884fbf3af', '4999b30e9548edd', '9dc2c5813f1df81', 'cb66cfd824ff625', 'd3fb989eb8bdb3b', '4ec66c0d3ddf69a', '0ba0916b82d2bdd', 'e3ab58dd697c5df', '5e5e88a94c56e22', 'de70e44785b1efd', '8e9af0f37247761', '7390e0ef560b4bd', '6bc7e6cf7b47d78', '16bcc8a4668a231', '63d3489c7c4b4f4', 'ef76f8bd53a38da', '3a6a34fe9476cc6', '6024ccf97cc1cd2', 'b41b4216fcad910', 'e306c456ccb7abc', '009201290d7316b', '9c87edf3c7dbe95', '5945a7c3ede04ae', '44dfdabee199801', 'affeb2ae5f99c25', '55042c9f91c3124', '0101ef3edcc444e', 'ba776b2e7f052d5', '5f4ae7f62e892a1', '7b8ebb61f73c347', 'b90097c80a2cb7f', '0c5b9df27e876c0', '4ecc18f0c358865', 'a841f1073e91133', '3ce3982b7bfc3ac', '8e0a023fc1789ae', '00937de412ea430', '91534bdad7cdcf7', 'f5efc07a01c6b1e', 'e993c38f6ad9427', 'f1595c93bbf7370', '65128fe51e4fded', '9ff72f4bfa7558a', 'bb2c6ca45882c22', '3ba782cd0a08cf5', 'b78552412db654f', '268df6f395fe3f7', '66fd6e6de03ccdc', '8ead0ce8c06caa4', '4286a6c800542a7', 'a9f3c8550c27f35', 'ca9f4a6b9ecb31a', '694442efd216a70', 'bfffb2ac9b7af43', 'fa6d665cc098b57', 'd80129795ac8109', '011becee63d8a50', 'b9fbff26e4d1f20', '085ff374b441c60', 'ef684da2067d0f1', '9ce30a8c7e956a2', 'b999e727a3354de', 'cc3b3195098c6a7', '235f892b086bfa6', '97faab5d9a33aec', 'de442ca210bc5f8', '6340d0b890546fa', 'aff1a0920780ca1', 'ff3c5654070575e', '39e8fb6cd0d2b9a', '1fa424694a23a34', '993e9893bdba66a', '1fef16ab468202d', '11458007e805462', '2e3e33065c2056f', 'baa9150d3e7cc39', 'd85ddb1633f07c5', '964cec52a578685', '28d55e37c059d3d', 'd035aa53198653f', '7b91345a0da2c77', 'de092b03b22533b', '35c7bdc6a0468c4', '6068d694db5e2fb', 'd2e29f41f059cb7', '0e218c0bb602230', 'b74b63f6ccf0101', 'f8272964ac7fed5', '928c0562a2fd71e', '90165d9ac97e1cd', '2015123fda51417', '473179981153516', '272785b6c8227f1', '1f06515a0f59169', 'a1b51afb4188fa5', 'fa29aaa3c1d5c0c', '81b12c92c723e2e', 'bb4394e5a47b254', '4113d43398da5bc', '8647974d74b48d7', '469c404fa96634d', '019fa401ddb00aa', 'c1c7641fd348ed1', '34698b01f6db5f2', '6e8af1d17a0b7d5', '7c754d0d0ffbf50', '0fc013c084761ca', '174de951011fd07', '549a72ac7daba6a', '5114c47398067e4', '09f7b44609e5cfb', 'fa2dbe07a6f3854', 'd2465b088c604f5', '8abf599e5a3f89c', 'd67bbf605933432', 'aaa67ad2e6b3c12', '757f30f72b23d5b', '447ac88210b6d88', '80a065ed1f02072', '84aeb4d69f1026c', '789a2bd54c3d284', '1db30be9beb4ce2', '340d74185a70574', 'aeda1a9f6e73298', '8f44f27660d21fc', 'f2d1f8e3192d9be', '37d39e4464bbe45', '267aaf488ca97d7', '5620681b52ac385', 'e48305beef725b5', '41b22e537de151e', 'c0db9160bad7e6b', '5031664d38d649b', 'b06294c94ea3c64', '394c8b77e605b58', '3e387560bd5dde9', '8d69d9ab8c7675e', '6a345af169d301e', '68576949179eece', 'c450d4a16429d42', '2564e3703075008', '07c7d5659ccafe3', '24c2abffdce2e7e', 'e0052b9e94779e7', 'b3322f59986c016', '1a3075898e85f81', '9a80ea670384878', '56559831dd3a1ff', '5f8a41680eb8b77', '98625276fe1f626', 'e13cb172bcbd070', '4d045391a3864a9', 'fa13b8a076c76d5', '55285250ea8e5c5', 'b91487667a2a6db', '8667a77f0be0cbd', '14a81c560d778c4', 'c34e799722fbb87', '713215cd9d490f3', 'be179d5e66ec15f', '1b9c1b184b42002', '02a93f65788903c', 'a40d3438a1aba1c', 'a4cdd45e68476a2', '304e9e72905f969', '6b7b72f0dca801d', 'be53534ef73e781', '608d74b6e2d361f', '09e4e3f2a7187d2', 'b4d71019c0c5915', 'f59c8ff238c1676', '9103be7b790235f', '8343fa0c1f76c54', '289c317ce5a0d51', 'cc8b37c15f4bab9', 'bc635a9bb4742e3', '55028d278d68a85', 'f6a31c3e426b7f4', 'c4a10a528d60936', '1f50093d21b108b', '49c9c7bc34b800d', 'f2741e156d60731', '280547631293efc', '3a62574381f7aec', 'ca5d04f64f9bdfd', '3de72a7cbd84adc', '2cfb18db6968730', 'ace863a45d55396', 'adc532d2b2517a4', 'c0fc181a4d17ca3', 'da67ded9bf49cd8', '1f714c4497e30af', 'fd8b050ab2ff95f', 'c22bc8c9bce059d', '153c83fe7c8f4e1', '55b3608e1e830a5', 'a932dc40e687b7c', '74ff6f8733f1812', 'bc7735fc1f84bcc', 'a8f2e3031d07dff', '8aa89184dc1ac4f', '7ca9f81aa1c3fdc', '378f561073d3ec4', '3a7888c04e87477', '6bd2e1b6877f254', '0eb26a9ddcee1dd', '23d738c890443b6', 'c0680671a3c7f75', '377c65950db3e0b', '3de664c0f056ff7', '56d47ea6fe73974', '88ef1fc8304a1f5', '6197ae4b415d012', '1fba2f472c35c8d', '8313cbf53b30aad', '3859e5fcdf8fe48', '772982e1fe9ad28', '188a639f3d9a4cc', '23faa1e32933ac2', '4bbf0d527a1bc5c', '0c48c4874faa486', '4e5809caa3e37e5', '66586aaf2e099ad', '17874193ee446c2', 'c5e7ae330314fd6', 'd7ee01513ad473b', '0537a349c945f8a', 'e071cd44ed55b9f', 'edcf905bc4c2585', '17b5e0382f6ed19', 'dd2b48ee84eeb35', '873e00a841e64d9', 'b64bf31c0b1d27b', '1f133443121f251', '714cb04c1fce3b0', 'ecef3bc18917fb9', '5baece435c6919a', '97344ba9e3ec2d5', '4eab54b2d39e97c', '3b4d0d59a95fe9a', '20f2a2fa982ea63', '16d306848fd88cc', '43af757ffbf6b39', 'f60b9fb57caf00f', '0d3d924f9f83f86', 'de554c880a05f0d', 'd4c62cb57792199', 'cf60278ce0cc8b5', 'd290cfa6472da30', 'ac3821e6b8e8aec', '29cc1684a723386', '206fbebc6b410cc', '67d2f1ea3a71af2', 'a3e2fd07d619858', 'ae25534f4788de9', '02657ef9050f136', '214279f841fcd2a', '27429708f87cf27', '7d9f566661cd479', '70216fd118f6ef9', '4e031d3f119c8fd', '90270b1235857d5', '7994f391f593ff1', 'f6a9088ac563fe7', '1c5bac640c12e86', 'c0ab13ec176e4f6', 'd8d979599b3b0f0', '5b76f978285a661', 'eead92b7ea57902', 'efb8d292edda360', '81bee086ed4abf3', 'b3a565b63257c46', 'c89ca79d3d4868b', '26e6f975d148a28', 'a6efcf6b0977770', 'e73564876c0af42', '0f9b628eeee6a76', 'f3811819e9c733e', '3c69fb63eea2306', '6c259a4169ed197', '782dada30316409', '31ae7499ef677fe', '7314bcdf0018d6e', '74bf57e4333f222', '092ad14229d884a', 'ec15574edcdd27e', '96bd3757671edee', '5430fcffee821e8', 'bf8f29a407e2fae', 'a6bc48ea129333f', 'd4c65f695944576', '9d41ca248419730', '23a018f27be1e4e', 'b537d3f2d7a667c', '6e74f61553a3f4b', '2de1513d0f9cd92', '1afe7ff378909c2', 'ee120f03296c938', '1a8455755e844ff', '3ad1067f4b713f6', '9f28a9584f95977', 'a9aa4af9bb53cd7', '679c95f92951d49', 'ce4cbc1d88b7fb7', 'cc96bec7e0fe232', '2f869e688770924', '46a4fa71e3d659b', '8f40db338618650', '95ec176435454d4', '6c94dea24d07f78', '90b831210573800', '1de60365607599e', 'd0d270e580f06bc', '560339c75ada42f', '3a53f480b55bc57', '2244cd4dcf189c2', '5771bc571cf7f37', '7169a9610011672', 'e4682e3bf249e35', '17c0703a4077902', '7d5504603b22b01', '32554ae75623411', '35ff2784b543455', 'eebad7e760555ec', 'a747580321744b2', '245d9f0e5542f53', '3633dfa34efa137', 'd4d2a3f1626f93b', 'c5f33918c70b3fe', '61f5b44c79942b8', '80abfd3c9b2f20a', 'bd955adb7c38a84', '292e2c7f025f193', 'e8fd69254e19dd2', '551757e4f8916b6', '5b4b0a22c448e65', '96d9a93f7c263b5', '3ee7dc2e115847f', '8e6e69e936d8905', 'e226cc9d03c48ad', 'dbd8b4ad207d7b0', 'cb0d4bead1df551', '6d0913b3ab6735b', 'eb3ecf7fd1412cf', '60b55105e9e96a9', 'dc9fa0f11d925c3', '553ff264e9b07a5', '2eb4275336d8a85', 'c4ee11144cfd6af', 'cd68b6d98126612', 'bba2d6411650437', 'df06dc6f087fc55', 'beec6846c97636f', 'b040359bf6edc11', '8ff857a3abdfb15', '5a06c27c8a2227f', '6ad949a7ad436d8', '2c395b8c88fd7e1', 'a584fc7ee666c4d', 'a89eade43e4d1c3', 'be881b922d13ba4', '0d071fad37bedc1', '627e00454d26e18', 'a9c5861d0054aeb', '281b16b63ffac52', '4678368531a1efd', '6746ef81edfb598', 'bfcb17c5365f039', '7e1e9e4aedb8242', '937a4c0a1d37361', 'bfcb1e3259026b3', 'bbbe3149b012afc', 'cfffea630ce0597', '0203ca82fa4237c', '0b1ecce2a3ae4aa', '331e45b413a556e', 'ee88d271d2b0193', '2b74e7af24b3eb7', '6e4fac6e7bddc47', '824dbd7c9f60847', '23dda3338470082', '32af03e02ee6944', '598f1b5cde88e97', 'e91ee82a4afe4c8', 'cd1d4e94ea60b17', 'e6877bb6656dd1c', '0e6fa925c5f346f', '91a0dea9e918bba', '0198ad37381ae6b', 'cd7944467d6f79a', '60b877a80e9a09f', '2309722eac2d84b', '828e1cd748372c4', 'b9ecfd29226151c', 'bed4bac42ce0496', '49f44df2fcbebb0', 'f5ea7a42422c7f7', 'b47d68be6aa2ec3', '024dc5236465850', '5d79146d9fd2c47', '2dac54c19279527', 'bff34fb0a226094', 'e76b40ecbd93e5c', '2b1f730d7024681', 'd483de9a3728fe3', 'f4c23bbcb6026fd', '9400dbcd8a4aac0', '409e5d10d58577b', 'abb563dde76a9e7', '5eddbc64f9e3818', 'e409b45d176ada6', 'dfce7f1b185d1f9', 'd187ab0ff043911', 'edb6024f13195ae', '4745542d9f363a7', '4be5a22348c37da', 'a7a450f7735b737', '1f689fdda84cb60', '3941bce3021f475', 'dd0fd6e08dc4722', 'd7a468908a3288f', 'b344c148a4ac657', '7c8d5377cac4c92', '57c54550f31a40b', '871ccf1ff0bc27c', 'a00dac19c34999e', 'a087da8dcbef32a', '03854e2d8c46d82', '72ae97cb42aa87b', 'cdd1fe47c388322', '085bd9de4f80f59', '19a21ebacf46da0', '3bc5bf467ad8f29', 'ef32b616102d621', '0f297636fceff2d', '8ebfec44722c9b6', 'fb742c77c5986fa', '7cf621fc50f0622', '4c8fe65669aab3f', 'f7f96cd6ad0873e', '20e66f5bf24cd0e', '7183dc7a597718a', '4a69479f304066b', '934b9fe9359f3fd', 'bc12c973b103fcb', 'e26e26c770d0b1b', '83146b73db4c737', 'f4b0fb36b36aadd', 'ca4fc4186851001', '6c0ef7369925b88', '9d3be7ca219193a', '6e315b8f36e04ff', 'a5677447388d24f', '5a6dae021dc815a', '77e000c098d8469', '59e9725a9c2d0b2', '8e3d08e66e6d727', '6dd1900e0c79d45', '9a1d61ddf9a6a30', '2fff690c8383fd9', 'bf041f8a819448f', 'a9372dc667f16c3', '76c12840bfc048a', '41d234ddc8e74d4', 'd7fff3d8a269056', '48eac71d65090b3', '82ef38d2b60021a', '023ccfd5922b31a', 'c64ef813b4341fc', 'c985cce868c5a37', '4ee904ac8cb57a9', 'f497c8bbc424ca7', '525acd6ea55c5d8', '77c6e1ff2febc0a', '19181585f8b649b', 'd19627888d7bd15', '9de0c829c6d3c40', 'a0fa731a76b2c4a', '03537fa3a0497a9', '5e2fb72d5f7966f', '0f3885761f45ad4', '1760a07cd6af829', '3f524b7766b7a90', '317e2e957d556b1', 'f12c00a485b5beb', 'c0dae4a101eaa41', '8266b43eff56e7c', '4c60afabc2ef6f4', 'a752dacd70ee2bd', 'd1bb890fc18476a', '83f8f553801909b', '944671575e5aa0c', 'e715cf9b822bc67', 'd8722eb12db1c80', '12723b8b66da95e', '86dd447fed39a50', '0836f57ac823c12', '16e221d88c8d044', 'b14a9b3638f7a39', 'e617bb564c5812e', 'dca52ee7b31a68b', '90c9ad1e51c30d5', '3acaaa931f82ff6', '1ad8929c9447d7a', '724a0b4221ab8fd', 'c09b3d0db079916', '2fa18035df6b28e', 'a6e25611c394f8c', '39cc557817fc4fe', '4bbec686f343955', '9fbabdaa8cee383', '3d82f7ef0e36847', '37215afc6eb8995', 'b890b96fda2a84b', 'e8b7b0e4175bb98', '5db768c2afca0b0', '8ac624b72397db7', '08de56a362515c4', '73f18a41ac83fab', '129478e86c4d58d', '1ade1b178f2cb4e', 'c397e25b90e7eaf', '8746170843d9d54', '746265f06f9ea07', 'c054849c78db76b', '074f512e016a436', 'c3a9ee7f75238a6', '8638928c8788309', '7616f57d0c88cab', 'fa0c14a34e343f2', 'd8767303aa6ddb7', '13a943680f73655', '586554d7702cea7', '39b1a6aa3d246ba', '770528de4186887', '319aa8d5c2bd7ae', '38bfa0958e9d695', '0d01fcf05b845f4', '56cc24c26be3cfa', '332292961dd0f9e', '52c70cb6e8d6503', 'a5aeb6ee76da32d', '23b0007d78e1804', 'af4f72c31d01463', '7dc6c7950596e8d', 'e01834701180238', '15ae3570bb09b9b', '1a1514f0360ff18', '2b8d135856354d0', '334a7ee13455007', '90ada8e6d56bd6b', '72e31a44b986ad0', 'f7e501b644cb16c', '684871003a89254', '9e5e218378a6adc', '7e58e16f7a514f4', '28db886173d2026', 'fa712b4ba2fc748', '2fff90cc9dfdf2b', '62eac70febd8d91', '0c01ef12c401336', '7a5c55adc6b1932', 'd253988d2246f92', 'e1011b811b8f1e1', '98d89ee288e958d', '05f3a1c12e11396', '6703e2b89cf15de', 'cf99bc9a7b53599', 'ebb13d848ea2207', '28989aeaf95f326', '04b4a2efa536ea3', '94ccc8d7bb3a4d8', 'a8a436413f6a20c', '0315944009e1928', '976686e904c04b6', '54c3d527d8c38df', '72fd90994d5e8e0', '86de9fcef2890d3', 'a1df02200a08002', '3c48f02e215cc9e', '84c3ad26217e438', 'b0b880f6f6dc8d0', 'c5a78cb2320afd1', '929fa8fb14f4e7b', '1959e050e274bfd', '40a212c6f2a4217', 'ded49609d164bde', '356bd429e3edf9c', '4154324c44a68bf', '273b870c8774c76', '745ab3e1874d820', '2d66bc4fe583b70', '53534608a75bbe4', 'aba4317051231ca', '33a184be5b424b8', '7496a0a14c3ec50', 'c2b0524ba08e281', '7fc729778782757', 'e81bbdca48f2ac0', 'c3984aacf1b83c1', 'b94739d3be54c7e', '363d85a152fd392', '93e7855af1778a9', '6229e8ab3a9df21', 'ab8ec31f02c9a18', '7ae728ed460feba', 'f183ad08aab4628', 'c053d21d3a6989f', '5f0000c334aa6ce', '4daaad5229fbb6a', '9486fcf5af179bc', 'a0f1f064d9815f2', '57aa6392e0bbeaa', 'e72dcea344e3591', '4eee1a5fac60496', 'd7e3ae7e2dcb28b', '6630dea731508db', '171962b360cab8c', '555f21eb8353de4', '6f7392dffadaa7f', '8d6c1ff89fac35f', 'e9757ee908b4ce1', 'c2c6d35ff678ca6', '46eb7e3d476deb2', 'ee2c434861cf557', '9118269461fcd3d', '106856acf597cf2', 'fc1b95dc5540535', 'dd9a325ee12813c', 'af4c07f3d1908d5', '085acb53b8ea8b3', '75713cdb9b94474', '38b30d1f523e297', '8fe098a9f2600a2', '21d499897931441', 'd9b80d30434580b', 'fe61525fa1a5c72', 'b62653c04554d50', 'f5629dd3c9d5e63', '1e3eab3aedb74d4', 'b74a93fd48b6c18', '268ad7ee0807d96', '206ea45ec11d478', '32cf2cf1a52bf32', '742fd15c9868360', '37951dd0d488f8e', 'c9d333921d46129', '86ba1463827f3c2', '9dbd73d5002294b', '43d6e3a32f36b13', '79a14b2da1c20b6', 'c0dd11e63b84729', 'fc3debc637c3ae7', '2278034c47b8678', 'd2812336172a6fd', '637f06093236b18', '6468c9127a84679', 'c2aca628630c3ef', 'de44c8084d027e1', 'ae6373b584d09b8', '733708d98ced39c', 'a7f3b46f69f4980', '757c3bd2b874f27', '8fcedd81c559d6d', '284d5a2eb482574', '067494310c6617f', 'd80bb1daf85f237', 'ec5d3daf5466c6e', '4833dd13fef8a78', 'dd82ad4f4f21d34', 'ec052e109801519', 'aeb32ae020d3a8c', 'b3f17c1b58ad681', '47e76f5fc687d49', 'ee2c01a88e1f8d3', 'e798cb5214f234c', '60e9cf68ff71046', 'fdbf00396927aae', '4afdf6e02491fd5', 'f6586dea5fc9178', 'ffb51f6745ee8a2', 'fa855563e6939e7', '6869eeeb306ab2d', '5acce182a4eae34', '975fd1266ad4a7f', '68a086bd02492e7', '8f0913057572ea5', 'fa916e688691c4e', '6623ca24e8b349a', 'ab614422b1d044f', '3a228a5ea08fe73', '43124deb726e0f4', 'de54ee95d8a7c96', '0c1431d30698fe2', '1062d0bbfaaedf5', '3caf51066df1b5a', '60c703d665c716f', '721638a71efcc51', 'b4f0eff605b3772', '400a9250378dab2', 'b5ecbee7c8fe379', 'a423136bfc12a3a', 'e4729363632912b', 'a706c6cf37e9081', 'e5e5f1f1312a9ec', '02ccac3e625a215', '5e50c62805d4523', 'f0ff7891f2a1474', 'd6430197120ec3a', 'c012be5b81c71e2', '5619806b384f7c3', 'd3063e55d944c08', 'b4d585258d838b1', '5b330289f5157e6', '7b71b18bfee791d', '9fe5fc63ede68ed', 'be480efab45de2b', '4f3e0e1b1f76662', '57b48b258c3e67a', '88e7051f78140eb', '3ebd0c4b59f6bdd', '82013946da1ccae', '3a41872880fb235', '468935de14b06be', 'bf0e646b73e59f4', '4dd06933c6873d0', '579c7b9a6fe281f', '7fd31a06746b545', '8f31b8fd05fa216', '5b8b84cb313da81', 'b94e965d55593e9', '04716f6f34ea66b', '7f4cf07b8c4b02c', 'b54dd0cd81121fc', 'b2b5519a19b1a8c', '268a1e6feb0b361', '4d7d76084933254', '88b725d613a0bda', '918feb6608da9e8', '3240834d0b5d360', 'e4d305f813b6597', '468c4b46d324be6', '23b021c21d4f7d5', '04ee249920e23ca', 'c1808ed7a1dee70', '2ec706f61e81d6c', '390e648285f6f67', '25106655a12823f', '38067eed7387583', 'b5c01739c206cc9', '44955953e121592', '0e5e3b8c7463ea4', 'c55143c27f0da73', '6edefd9c80418eb', 'abcb14efe97c908', '625129dcbfa4849', 'af2156f748faa70', 'b0036d7d5fd127b', 'be9678511ff66ff', '32e793faecd5db5', '9144b96b0340fcc', 'eb5c235eeafe6cb', 'f612656a4f15ffe', 'f690380ec0949a3', '119c6dbd20e06d8', '183c5eaf094b922', '43803787fa4ed96', '50cd27c9c27956f', 'aeb629ae6bd15e9', '79315a416b52061', 'aac16d543cfc2ca', 'e34bae798ca2059', '2bb04876bd388aa', 'aa7cb3b2dceb38d', 'a6c9244af0f4729', '84fa8e3ddb1e909', 'ac34d43d11503b7', '0186f6e000b581c', '72e6dbfa5334498', '8ff74cd009af28f', 'c5db5c0327fc04f', '1ecf77bf1a2e595', '1b2a3ab73a522d8', '6687706d1d8d112', '1c92ebd22d77d88', '8c3529f1b9fc67e', '21a37a060be63c5', '32fff932e1e96d6', '919bfbbe437add2', '975efb1c803d33b', 'ee9aeb26a6f9511', '939aac1108402f8', 'e05c3001a7a25d2', '1a7202c66a1ee52', '38a44d07b166906', '3e5d830c5d92e16', '6c59276fc438b84', '9ba560fbe5769fd', '24ad79ef90cba8b', '42e40ac0162f592', '5398de0e9942edb', '4659fd8327ce219', 'a7a2b3615493c8d', '510c10ac00ff033', '64fc9b337a31d66', 'ebd6e9f2681cc8a', '4866855725010d1', '6b7402af0a05898', '06eb7897f65b433', '8a8534a7b59c635', '62e25b937be7888', '97ab90a598d37a0', 'eb489044f67a814', '39e9388e79faf29', '8a0ed14b3c31d61', '59d9a2d15efcf95', 'a1382e3dd2ae65e', '9d8f9e13c93cf96', 'fece4960fc9b3c8', '3d8bfd403a1bc79', 'e947e19ce0d373c', '694dfd1f4777587', 'a97050fd7ee9aae', 'baa5a5ffc6bdea5', 'c8fdf4864bc60bb', '94c2c7413117fd7', 'bbfa1f4af696d74', '1598a22548f7b4e', 'f87039fbb9937eb', '8da62e9d2d6ed35', '951145a5f4b26f9', '93d051903159cbd', 'ac63c0caaad9b51', '4079d2c2c654e23', 'cd03309aed89117', 'b8dd0aaed8f49a3', 'a1fc5659cc0268c', 'dfb0e6e33b497db', 'f55d9fcad984451', 'cfa9cc472e6bd21', 'e237924d1354e05', '2334ac3fa90a68c', '52d3acc2caf432d', '7b9888ec96c5fb6', '189a66f168cc825', 'b29f46e4db671b8', 'ef2112415afafdb', '1b0d28efc9bc56f', 'f087ba41a3f9b31', '4faa8332c1e84ff', '73da769c4ed19f1', '3f0359c80a85fe1', 'a405c1fb43dce6a', 'a2b00eebc13c0d5', '438b122a4da465e', 'ba69e4fd37e7378', '95e69e43c03fad9', 'bdcf18fb9c381c4', '2e4a6a389ee3bf3', '7235f9eb3badf27', '47eab9096524504', '92fb7b88e673f5c', '743d5604b52ad8d', '7476ea319791722', '0d0d311d13365cf', 'bf489c49636f34b', '94aec0f244cc889', '940d67d4dd1ea4d', '49ecf769e8b95a5', '0431c210727b672', '63f397e582e26d0', 'b38b3b4102aee2f', 'fc56dc513a7aa2a', '3dbf3a566473795', '2484a909db24f56', '7cdf7c04a8ebaad', '1a1472917fc513d', '93f766950b997c2', '32ad28f37beae2c', 'aafdd5c79112d82', '80edd77a00a07ed', 'd701c0087cf186c', '7eb425e9a369f56', 'fe237d2cfd6e503', 'c9b8c86a0f6dc8d', '2a1f838f99251e8', 'cf162d60a3a476a', '8ba446a03e6846e', '53db8dad29242cc', '9e5727fbd2b63dd', '882654ec48a8b4c', '51b1a3a021c10e6', '7b25a521d1d47fb', 'a76310f3e10171c', '1d5fbea536442ab', '9218dfd55e8644b', '0aa47cc023f3102', '5826ce97061f28c', '4885076534c13f4', '71143e2f02ba4fd', '1381fbe6eb99ca9', '54e267a464d27ba', '71e93fda523e0cf', '74ea8819ca97276', 'a1670107f3b617d', 'c904a0165e66c35', 'cb86188fcb2b288', '08199117318954f', '8243ad8d159b130', 'e50a88c801d9c4e', '315cac09f7bb0e6', '7d38705881ce8b8', '57f073e7330bac0', '12c3eac242ac662', '244e7921256212f', '76e42f8085526dc', '93627170fc04f89', 'b8fab986354805e', 'c684caa72e4a7a3', '0281104b110415d', '3b6e21955b390a2', '3cc0f06d17718f3', 'f5514300b20efe5', '4f1aacfe5210b08', '112f4a7abe0e18e', 'd7b549be3fffb19', 'c4b1225f8201d83', 'f4baaeb3ac1c741', '646c39032d544e0', '94972f4324ab83f', 'cb9b24396da4555', 'dcf469dd1e7e5f0', '868ed3e1cd9eb1b', '9cc44e4ec056e34', '193515c8a1f96d4', 'c1f0a3b869682ae', '303637975d7c38d', '0b7767f37a432e7', 'f7a0146fc193947', '7377b615399bf87', 'df8cc47b56809de', 'f1916793cf24a9c', 'c063fcc80ded9df', 'aeb96a7dba6f977', '32b05eb74563f83', '3c65367cff49c1f', '43803b184cfb58f', '1cb1605eeb3374e', '2b66f2388958532', '436a97aa103870f', '9baae0e3a8b32b4', '53ee566d2838890', 'd8e7ee1357d6d53', 'c0c00d71350df3b', 'ef79b4a85a25001', '0c7e5d2321b87c7', '8cca70dc78a13f7', 'f6265b05ee9d28d', '1255f6981f141e0', '69ce491130ab5db', '55e5d0ffdf48732', '90d01715e121020', 'dbd7fec6a1c0ff2', '14faa2c2a24904c', 'a1e8fec88287e98', '8a771be7e29207d', 'b481e77be9689af', '143f1296c7c52fa', '979b3c40066ca06', 'c2ee134c3f82da3', '3fe7754299dd528', 'e84d915126127b8', 'be3f63e9bc34834', 'd3e7107f78acd45', 'c68f202c21433f7', 'c743fa018910da2', '552c2b6dc8646fc', 'ab8982f5c82a3d5', 'fb5e2810ba40e25', 'bcdc42173061238', '66f8ea797adae81', '53b281ff5fada99', '5f7b6f995594e2a', 'cc9ec0413d3b8e3', 'fd193f698816998', '692ec3482fe67c4', '822151183d916c4', '93857c5e2a50d1e', 'd9ad299d6437db1', '39207dfaf73d679', '8b6240648217231', '354e32a7bd40137', '877d872e4ffe1a3', '4be942af944f54f', '47c6a3ef57b29c7', '9bbe3534bbaa8e1', 'e220d45e5e7c67f', '8918fcbd8b1c15c', '305f22db20857d9', 'ba3bb89e18c193d', '51081c29e704495', 'b6d6d9b397e3437', '62f7c0daa01ee8c', '90475060d5d4dc5', 'e801cf685a4f7c7', '5a0689b75d9c940', 'bd19c5373a50144', '1c319db2b8ff922', '8d16cea8e44ddda', '657c9f287816191', 'c37aeb5b39ffcca', 'ce6161b8a1affdc', 'a6e6bc035cf7449', 'c88a0d22815f50c', 'e75abeba6dd1fc4', '4b09c63d649b1a5', '54b2ba31fda658e', '47a0ae3bea1e5d3', 'a129c1c38d5092f', '077978a8331cfbb', 'b5f57883879e2f4', '9d801e01aa7d159', '4269fff6c7ab3c3', '25cfa3398e4932c', '08dd09bc687bb14', '90c055192ee36f1', '82502ccb6defcb1', 'b6d359e7e53f88b', 'b9fd680f1f215bc', 'e8e5af884062109', 'da882476099fd32', '9921fd210f374eb', '5d952114f33c5c6', '5d943ef7a3cfac5', '9720a43a4f26f5b', '4180f390eb992d7', '4d56250c8c8aac4', '5c24b92853fb7cd', 'fdc0dbdfe1c6938', 'f979b3e31d3b3cd', '8e32893a465f454', 'd83a3c12b141d8d', 'bbf1a4e58fbf056', 'dd6384da1d60462', 'c0a35288e4d50b3', 'f2c1de31f148a21', '8f20f4ab0b67c1f', '7b525118ae656af', 'e420e237e940d8d', '08b2693dc69fdb3', '7e0a9556fa13597', '388d005ae0a7476', '944f2a0f917f570', '8ed1134f01bb82b', '16329d647baf182', 'e5f4f01c292a9e2', 'b60c6e1d28f5012', '2188e7d38d56b89', '45fa6d809d58860', '736df0a6df2e05e', '7ecf3232795fa98', 'c5f4d021652a8c4', 'b5ba25102c39b47', '9933716dfe760fc', '67519cb658a6411', '3c040edeb770a6b', '58077ae91f7047a', '7674e72cf6be67c', '9b83e3af86b811d', 'b3f05f0858da124', 'cc37259ad760f52', 'af619edc4a1d914', 'cb627a841d69eb1', 'f49d24b93882c2e', 'bbd02d4a3bdc14a', '30d51c24bd5d382', '336dc419994b796', 'e919176795de3fe', '41a14b38bcfffe1', '5d8a8a01810b6be', '6d6fcdde1597700', 'db5e3626736667f', '34064fb83f91129', 'fb21741699a1707', 'a77c589626f905f', '5af0d325060808d', '1129ba01f75e41f', 'd50324a2923a39d', '86be2829f1fed9e', 'f5e3098c469fcaf', '16c21d00a64b523', '0a20faa763241b9', '8cb186425673c85', '49c94ef56b30b55', '2e0f159d7f91f9e', 'b947c24dad7ffd9', '8a0995456a3d7fc', 'dc1ccb07dd27628', '8969aac8bd6d85c', 'b52e1b054c35a9d', 'fdca6fef70c76e2', '04a43be7bee626a', '282b0134a7e1c03', '61b8f9a97792599', 'b44b8b7c4d12374', 'f8692e6e4f30d62', '6797d4d727a1536', '71282979d60eaa8', 'fe1af2bcaa18517', '10a16db67553f20', '463d719bf070fa1', '99ca204b1776b64', '00fed6ac4e24af8', 'e634b877934292a', '911a69be3dcb979', 'c531a6f93881146', '02ea4583333f064', 'bd2a3233d415a2d', '3709bb304ee3774', '57a698f16e2d75d', 'a01d369c103c725', 'a132b4d1d5021ab', '76a26b3f781436c', '6721015b71cd2a0', 'e35b9a90fd1abcc', '15efbeb6a7afde9', 'aa4a07d8ec16af3', '390cc994be294ac', '771a741b20933ce', '2d30c63820ba396', '44d32ef1ecfd4fa', '538b2361b0f88bb', '4023cbc7973e65d', '101061fc0d33c11', '9fa383d638c316e', '0028d17a676f8c8', 'e3578225a2c82ec', '2e580c0e30fa03d', 'b78479a12a6606d', 'c0753ad2a82c5f1', '97b73ef4feb6690', '376cb9796e4b1d9', '4941149a14754ce', 'ead7a16c30232f0', 'd3daeeb624dec46', '01f567d5c80c808', '11ec5fe2c927d86', 'efccf94cc6b4cce', '740bab968d61f2e', 'a6394180817e545', 'd6f694b11202e62', 'efa8582c12fe4ca', '6f2e6a06c544f92', '91cb6dabce38878', 'fce8b5e7ceaf416', 'e3010bd817e7363', 'ae027aab83ccb32', 'c02e67523e534d6', '9ebc1348e6d6888', '23daa7d884bee60', '9f202735ce25869', '60074dcea49b6b2', '6713badbfbfd8c4', '213eb8de1161d88', '573898904fd68ae', 'abb449fc8e831a9', 'fad80183ba7d2ae', '6d22e8f2f7a76dd', '05ba93f1b1e1fdd', '040aed8d5c29389', 'd4c35012d2586e4', '174e076500cbb6f', '75ee40712f02695', '3071941e5a644f4', '5dc9270c26f96bd', 'd13a10ac25ae4f4', '1af1d29bf55d030', 'a5f8328acd00052', '7a7ac3c803e5d17', '18cdac946ea6e01', 'fed639acdaafdb3', 'e1a300b7f36a474', 'b5c27fea91cd0ee', '216c519722991b2', '2d3be708f9414c6', '3919da9502babbc', '495395bb434e7ea', 'e5c7cf2521c9b86', '423c607a5313ade', '4e484eb2c013663', '84379236957d409', 'd7895a3477a6113', '08d06ca418b5390', '93658e0a869f13c', 'f0028608c70df54', 'd31c921107ae085', '70019b76d64130e', '3178d7dc73ade2c', '183dc227fb38348', '043f669c9f734b1', 'b64943e68a416d4', 'c672e4b48258f9b', '9921543c151eb58', '9d785578075ed7d', 'ef8e90f65f4230d', '0acc5fd0e091c0c', '10de47b71c0598e', '30284fa54bc1bf2', '04c2ea26ae0724b', '0c59a009ab2eed0', '15b2a4f019a87b0', '82d9b15b39d0092', '87a9ff1e6ea1397', 'b77121b3631fcb9', 'a5d5f39bf5a21b3', '5ea758bd8352fcd', 'ba40558b8952b17', '9256ac0cd3dd438', '1f727afbd10a856', '6abefff4382916b', 'df3c3b3dc255483', '9168336f5602661', '0fe9fd52e8427ae', '33b69eb42a69a59', '04296aa26ec3adb', '1e58c9624e8dff1', 'a8fce94b590bf56', '8d60ded48987df8', '645bfb05d23a85a', 'ef7bde99ee4c752', '8419cbe5dc0a89e', '32e2fcd566362e3', '8bc2eca9f5bd0a0', '5af34fe3d2103d5', 'ca6a1a56e345732', '2435d47ab62f1d4', '43b3c3ea3dfe223', '9dd211a3d8c8525', 'f61b733bdebe6c6', 'bd8969b25b6f321', 'bc761bb001843ec', 'c5b7a8cab9f7b83', '38699caeae1f6d3', 'b1d1cba963a4038', 'e5caa3387c1a874', '96a7418d581d152', '55b3815acb436e5', '933d4663f860cee', '0a725b574ebb459', 'aca38b898566eff', '55f1934325aea8d', '8473f81ec89f974', '86d64bd3d47235c', 'dec3981e5a67ceb', 'e1bfdafdd7454bb', '9975d7e033cb38a', 'cb684e5658f3b91', 'b857cc5224600e4', 'b24f421dd375ab6', '299ab9ecd8fdc4b', '236307778fecbd3', '6d55dd125e20d74', '29dace8af20cb11', '6482aa9c2276e07', 'd9150f4090ec45f', 'f105c1fb436d682', '3807323aae289b4', '708ae83aa902a7b', '7d9fa6f4cd0e1de', 'e8190b71441e171', '3327703b0afd9d9', 'f7e9f2e7c0b44af', '426376dfb593db3', '76a20aa2903dffa', '9402cc20d69d44f', 'd9dfd8d6cc71fb4', '8a1f5d51b7c70cf', 'c514c06c63aef08', 'f0eba487ad170e3', '45b67db2c14ed34', '44c1c640a242aea', '9f59c74e18739ec', '323935016e51bf5', '5d1d87d684e3d20', '50b153c891c7c45', 'f115c29a7b5ad40', '7f3e801aafa7c53', '17823a1753a93dd', 'f839584585a4c2e', '27605775799b6dd', '69c4232839503cf', '351122e8012b24a', 'b2957da14d85989', '53aeb2b93188de3', 'a97e42508160c80', 'fca9e11c944e35b', 'da02f8f44230aab', '80b662f22256be9', '604c55252c1b92c', '3ae9629b85c6d96', '50eac21730532e2', '6bf0c4152af5e43', 'ccc3aa3cea1559a', '8b74c281674a2ff', '5f258552cdd338d', 'f3ab8364e66f755', 'b10d98c0da0fdb4', 'e3cb47a56655cd1', '43c1b935efb8598', '4fc5a3d6f9706b3', 'c63c9fc15922a7a', 'a866cc6b16badb3', 'cf65d84bb1d536d', '4028bf1d371ebb9', '0abeedea473226b', 'fdce9d1df890957', '2071911d4e0d40d', '3d2ef679ba0d24c', '7000cab8bbccf7f', 'c1005db67139de8', '36944fc338360dd', 'c65dbef7ab317de', '40abeee108f1777', '06bf8644c966d41', '8108f2ffce7c1c3', '83aba0799e90969', 'ab43be1c5f452ad', 'da7708eb457ed93', 'db0aef8316d22bc', 'f3aee60b726d6fc', '1e5af47ddbd9a1f', '00fc1746bb2eac1', '6a71629032a8560', '98ca43db8f7a88b', '2b8fb6b6aca6ca5', 'f900423add5c3c9', '143ff697d515d67', '955746689e6c210', '11d008482a99656', '50bca38f7db0eb2', 'b3c16e0cff3c992', '89ef994eee7bf1c', '48e7ffaf53cc37b', 'c7442f3dc601840', 'c578097a3ea3e4d', 'efd717db2deb4b3', 'd57c7c92eb53d0f', '51740274364e370', 'd54a70442b39259', 'd73b32e58cee9af', '615f420291ccc51', '935c56510143cac', 'c07d91fc7b0751f', 'c6861edccd45041', 'acbfb45c43836d1', '695e6062d4a53cc', 'e7a4795191d04af', '88884036d7caed3', '69d4c1625995449', '68e11d79d90afa7', 'e35c54f78cf3a27', '462cb1976dabae9', 'aceffa05e5afde7', '1bd425502e43326', 'b8c389ce2e04938', '4abcbb04d496b0a', '6f416d815d76fe7', '498dc18a4f6d4bc', 'f8bd5ba145109eb', '1e2afac1d708d5d', 'b9aef4ac9a121fa', '4e015d2150307c5', '7020d0480244c83', 'a6ae43399b69ee4', '88106db1f5e5c72', 'b543d2ee1e27ce5', '6d56430f78d06af', 'f7fa8894e6004f8', 'b02e79557734f7a', '865fe55cb71555a', '5a7e0840b0e0ef8', 'f2ed65175338f47', 'a857d55348546b6', 'b8ea914a97e9f79', 'da8f9b521c08db8', '0306ce6fee53523', 'de4c48e6fa8ccc8', '3e070ecb25ddc5b', 'ca108a48cb937b1', '2698f975f22a888', '560594a95e78309', '8f5845fb8b44b35', '3010bfff14ce8ae', 'cd77ad12a3be1b1', '92c4ce32d3b09c5', 'ddb9143f2961732', 'c56d345a37f9ee1', 'f03639579b5f208', 'f6522727bcc9e66', 'f32a04e993eacfd', '85929277659c29f', '2a38632dd8c14d5', '972424590472a3b', '3fe55f3a3bb2591', 'e5d5ab157fe6418', '4cf0d9f74d1dd71', '8cd173a3679b199', 'c8847bc86d34f85', '223929829c1d021', 'e7d024d4434782e', '44d9f965bd7f0ca', '4db25fab1326c80', '95ed517bf252a00', '99ef89f521ac439', '2ebaad445ab1540', '8ed7779798ce14b', '196b6f478b062d5', '70e8f1560cd0896', 'bf4938b5f8f2d4d', 'f69d90f5d35dbdb', '5c4c5f9088d9b59', '621ea23457578ee', '46ea71170f39cf9', 'be298840924f2dd', 'fe306428e08c867', '22e7efd69d88e61', '8684790409fe4ab', '520dff1f946eae3', '82c04b83b14c6b3', 'e400322ec0d54d1', 'aa0f956fba541b4', 'bc6c02c80956948', '256df38ebfe4f1c', '29424169530f6d0', 'f848923ccd64db1', 'd7c0e3ad96ffc58', '784e909601bec92', '71e7312b3c96ffc', '964735686800b20', '4354c5179a4313f', '569f3d7b4cf74b5', '6191b67aadb9231', 'a2178ce9bb4d911', 'cf79f24ca1f0fd4', '1dfcff69b71938e', 'f28f4ba18d85394', '77ec2a2957be69a', '1398a9f5e8b4ac8', 'f79ce85bac230b0', 'f89255e1f8b77af', '26c3d206c532e00', '07fac55c42e3414', '28009db2d0a66db', 'c4dabecf279de27', 'a9dab51288e5227', 'e18663eb1ed69dc', 'ff840c2bf377690', '5b2a44448993666', '8e1d9841b0fae24', '94b036a4bee460b', 'c43453c3610b08a', 'baa884ea4484e2d', '7d22e22c99ec66e', 'ddbb829cc7e541b', '613a26ca933d9a7', '150510b210cda56', 'abce2354817a746', '6785f5c0357bc19', '2746d0b6e0f2f6f', 'f621099589dbde0', '5bfb33580f85366', 'b8c511ac7eea7bd', '1b25afb1dbb402a', '84c5dd39eddb25e', '6f7e93a91ce349a', '3d75ea4fc59d8c1', 'c1dd047679de97b', '12f2d8133327b9a', '948f1635efbfb9f', '741d337b8f106c6', 'b2f7367d6274e25', '79721208245b1da', '819d9bf013e67ff', 'a18a59fea08e82b', 'ec4cdcb61775e8f', 'c8e972816833694', 'ca736b00a6903ed', 'b87efc0aaaeffba', '94db6897a1ac666', 'd669b1f7760491f', '1a244475dda4fbb', 'ac10898c84b067d', 'ca131e2541488ce', '0d707cc27e906cd', 'baa56f527101482', 'bafa66306617737', 'c137c851abe6016', 'dd0413bb285863b', 'f67113fd71669d8', 'b5d54ed6afc1e97', '8221400a8750b50', '353a4aec98d9ace', '4226e240b0f7a38', '6036795b5973e83', 'd8a62d06edb6a9d', '0b8b1537862081b', '660eb80cf310800', '8d04c9f8df7be5d', '326faa4aadacd4f', 'e3d319f4207e86b', '1ecc9e34a3159f8', '4a245632055e673', '5da39f6f12f4905', 'b8650da414bb9c4', 'bb96fc358edd890', 'cfc044205294ae3', 'b0e4026ab6da68a', '8f7fa29f8a52c9d', 'c64d59fc31266d8', '3d77fb58bde13d0', 'd6677fed53e63e2', '09858eb44735ed9', 'cb3489b3169716c', '502607a06441bea', '0ca87ba6e206d85', '4d00fe2522db569', '60a5830d54d48a8', '4ec8f6429431987', 'cc5bd8bc1197b50', 'd0834408bd2db34', '33c596cb2600774', 'fe6a68c787f5b5d', '12f8ce9a0698e98', '10fbcb17b7f72ca', 'ca605d1398865b1', '9934394758127f5', '323d2b409a28871', '04a307dc0bb54b7', '5df3eeb0247c9b2', '38088978ef555f5', '436c441fd31b6c6', '5e9fb4756222f0d', '33f8dff99fcf985', '91d2e437070478c', 'ae9c59f233b8fd7', '71159474ce398b1', '105985ae58feb34', 'e352253c40fcdfa', '692a674b4222be5', 'a1a859a07df4620', '670928d04526590', 'f71027cf6c21039', '8f803733e915109', '463dc35b2daff7f', '69c2c63d3fd8033', '5bdc98b24b614e7', '67d2fd27db32bc9', '8f00eac0ec93248', 'a0d112e44a35fe5', 'd9405f508397923', '129c16706d35990', '5778a1c3bcf240c', '48af89b28ea9446', '142da01b54f4537', 'b647fdbe624bcd3', '3470573113eb25d', 'c50489992ab38ee', 'b5c33999925119b', '629d2cb58b27ce6', '028daec3ff80e05', 'dc3772a9d4bb990', 'd24764f16d14677', '41d79d2ee7578fa', 'f534197e9df22e5', 'a6e534e99261f55', 'db6d40d98e73a5d', 'a5748c199332a82', 'ba4bfc181baf255', 'de5e2bb378bda09', 'c032fdd11a9ac9b', 'bfc5d3328be5b2e', 'f5f605cc1c89b39', 'ecd823cb1d28190', 'bc20294bbdf34f1', 'c1e312ca0970f0e', 'b1a6bedf6ff951d', '389a6738569bab1', '2340820271eb8d8', '786ce48569ade6a', '9e6f901770c5f34', '702f1d7ec725a09', '47ca33f81ef4ba3', '89c88329f2f57f5', 'a66531078707c39', 'a85b7c117dd14eb', 'b0076384887de2a', '4dd9eecfa4ea2d9', 'eeaea3422f12332', '743387d56268eb9', 'f98a778c3832fe0', 'd30a9c9a53d6d39', 'ecaaf287834c0e1', '4c4848f6e050cbe', 'c336d1586821c1d', '19ed243ae88a0e2', '2d6f0172e519f4b', 'b89b7468f47ac56', '1d97278b41df98f', 'b48093eaa032ab3', '6c369cd4a10e172', '896ef56284d9cc3', '8ac85b248475248', '5edddf27193d021', 'f629c4e01956471', '3dc236f8d425b5b', '7deff8262e6be86', 'b712c80351b4cc5', '48ffee39d176a22', 'f00e0c82cb79800', '1a40419288a10cf', 'cfafdd9574c950c', 'a173f76377c5fda', '3530f9bad8750f4', '2857c2782cfcc03', '3bfb9060ed61a76', 'dd1afb158a6a1bf', 'ca9ebd69d5405b9', '57ff2437f152580', '8c048b50e13fe22', 'a3b73dfd9a970ae', 'ace0e43ad2733c8', '2fa1276798b93d5', '621d0f4390bf825', '90685245febec25', 'fb1314545976408', '079043260b737ea', '414f252f45c7bac', '10531d33e563e98', '51f61695220d54a', 'd4f86a2e47f76dc', '2c34086146f8b61', 'a6021dd115eba1e', '5a302e2781c1e86', 'cd11f8ca7c57cfa', '52022ca0ab87b8a', 'f79f8368c70e8d6', 'b3ca52d539a25e2', '3541e014270744d', '3d44eab7c14d03b', 'e884d19a97d7de5', '2ab18548c010d21', '84783c28af01dfe', '5a406f9a4225b33', '40a4c4c0e69d380', '0f8660c9dd701dc', 'c4dfe6cc7b1bb44', 'fde2a2ece6c0307', 'e8f3b3dd4b7e82d', '540a3b980bcdd10', '826c70d43529ccc', 'fe23c5ac30da31f', '205457a2d7f06d1', '664495f30c32e5e', '99bd94c15cf8d7f', 'e6a9a8e9ed26841', '10bf47c39c9bc05', '6f05c9ae3fa89f5', '2f7882c9b08dcca', 'dda58dcb5b5e7c9', '6d2d7300eb064b3', '7d73b8da46f3f04', '10c9873215163e0', 'eb9a5c402db1b9a', '357437344f46d8a', '542597b9279fb14', '78de607f78bb860', 'eaefc72e6716d97', '7a22f89d7ab0219', '05390576c72ff0e', '1d351734f42c8e0', '0d393c0459213c8', 'd6fc9e40cdcad4e', '87a7b0d57884916', 'd88f7b08b2698d1', 'df40cb56025622e', 'c7a53a9069defff', '2293a4f30525f29', '7426a7054f58dca', '17c05098766edd6', 'b21b79372df6278', '762ad6cdb755e8e', 'b1df1dafe921b89', '29c945d9641e577', '8bb83f8c2b8b3bb', 'e8e0a92cc595395', '2235ddfbff819ed', '2d2b8195ec8fb66', '683a57a37617f67', 'cff37e65efb7b76', 'c7246915c5662bb', 'b91197c0ecee7e2', 'e8be0c946d4f232', '133af0bccc2defa', '2727d2cee2191db', '339f6a1ca919c79', '59d7d5fb6eb4964', '099c0a5b3f8bac5', 'fd3b34d4bf67306', '4beb85b5e77d793', '69f84a0b64ea9b3', 'dd5b2405186c9cd', '26fe5ac0f4a4f2b', '07f6b473454e233', '45ad4f174b8ccee', 'fe80122ed490bb5', '33bbd552d96c700', '3d58fa6ad12b6ce', 'e81aedb4eb32087', '801683660c71d75', '9776ca47e36f20c', '23c7f5765a4dc25', 'a94088ec9fe479f', 'fd953b16fdc5aad', '167445a3502d8c4', 'a42f0763937c783', '1e407ecca806464', '59d1b2b6a5d01d1', 'af79330b776f6fa', '53eb2abc2a74167', 'fb93f33f51fc968', '76325938f9e14bb', '2d335dddfc37b0c', 'a5f182717b5ac20', 'a1279a20b35f9c2', 'ff4ab555e533e46', '34d63b4f2a8e085', '3555409c3ac1e3b', '570b9f7b2cbcb68', 'f5b84359c89893d', '4337a0a61bb993d', '9989b63b099aa10', '0b0008d6382aa90', 'fe729d6c0624862', 'b9cb0eed2886bb1', '25ff380ed795cef', 'd6c165254af2361', 'af2eea763f8f029', 'ac3fa2ec7ee84ff', '2304004d7e17ba3', 'a04038531eb064f', '46627fdd8aac136', 'e3de75b097ca3f7', '46ad6fc83280a13', '530f87926d7fda2', '6d06828e437309e', '46fc91dae91a53f', '81d95512ff3ce9d', 'a2dab1c87ad3558', '6f716190a3f1432', '90b38bfb269f36c', 'a380f2314f38ca8', '353b5a2ebfac7e2', '96cc99fa91ad24c', 'af9946b5c50cf5c', '4870437fb35e917', '543e560f3bb7b2a', '9c76f9c0b0e7e22', '65cc93307ad8bf0', '02021ddc19f7ba9', '3a8c26df6be743d', '813c0113e12c5f5', '1098b8f734e5a7a', 'e471758b756ffdc', '03ad8c7a2514a67', '464683337282bd4', '110cf6ecd85dc6a', '8215eecf5b5c077', 'd089cf962cbbbd6', '4043d16f136e475', '5f407d279dd903f', 'b0d160c8b66fc81', '2e089a83b1c53d7', '637cb9c990f195b', 'e5da6018d68a26c', '3efd7ba4ffc8fad', '58d91f4e1d14d68', '74dea54d0e7fadc', '095aa77d7f92e81', 'c3bfc6d4b0cc207', 'cd2326c7ef584b6', '110125b4a429b43', '44dc9a08c987dc3', 'c1fcc33b096ad5e', 'fcc9e8f952b1fff', '8abaf19d23278d2', 'f7657c0e1349ae8', '512da05356e564f', '243ce3e0008cc67', 'd010f0bcd8439a4', '598584a9271b4e6', 'c4b59bd73ffc152', 'fcd7828dde69d1f', '7ebedcccdb86561', 'd5f07a65694f995', 'f7745127e919895', 'b5a097660ef9a6f', '730fd896651f1da', 'c5a280a11620ee9', 'a9eec07fbea6ef2', '3bffa7ba91d59f2', '87ba537ccf27e0a', 'c07c6e600ed166f', '6e568f166b917b1', 'd0bf3abcedcf7e1', '265f2837513c468', '85c15f00ebab607', '7067c82ba14a04d', '4a39882f55cb815', '2a9c04f9d8eebb7', '59a0246c520f7db', 'de88a121becea97', 'e548f70173b1c40', '0cead7b6a2d7585', '1004fe93df75acc', '298170b2a02fd25', 'a61c78631044e84', '81bd5af3eacdc8b', '7d52b3a0b0fdb77', '72d3b17425b8a61', '87067b21decdf8f', '93ecf53c06fdb2c', '0f604335809b7d7', '6fd808281013256', '8faf49cd66e447d', 'e5dc69f6d229dab', 'cb765341751e399', '1e3795ecb8bb655', '7f9f91757ca4433', '0bac361001c9003', '6e6890fb78c9bb4', '0bc868062d5878a', '01370a0e9c1a7d5', 'b9c81bf8051fb4a', '404e26fea98b5de', '7ec7285bfbf8c34', '39a2e62d5f0e6a4', '356dca1a1cb169b', 'f3011061eb55e24', '80084fa1664a54c', '81c8ebe6ce883d0', 'dbf8eab4bf81ea9', 'cd9b528e269c4b2', 'eb0f7441221da1b', 'd5f096f6e5f9a3d', '248038c596e2867', '53f9e999842c619', '15a0a39c5276eb2', 'c2ba31881933a15', '5082f9b0ff01d8e', '341efff8a1ecf26', '1aa83fda64dafd7', '4d9ee34038add57', '55ed96b8deffc45', '7eb4fc207ecc10f', 'd63a4755fe92a14', '5b9c78f1ccf8c20', '81e8477dedb64e2', 'afbe84b320a018b', '97aa2e7effe80c3', 'f45aeafce4d3afb', 'cbc35a912bf81fa', '0e7ec5b28285eee', '39d95f0399cb7b7', '88098b19c16032e', '191fa011b8814ec', 'a9ef6507906147a', '684e4c7a3ed0a1e', 'af26d5b5924d2f3', '16d0729b8886d99', 'bc24949c918a2e7', '16d811f45876e8f', '1f49b8de206b285', '3902623e086b773', 'f7ea5926e18e907', '262632612360ffe', '4ca11467d2e508a', '7842dbc6f6bd43f', 'e55cdabb75eeef4', '1f88dbcce255d66', '00ab1d21393d532', '73589a174cab37a', 'cff3f656f66bb02', '1a41b965d239551', 'b7baf63e40e0977', 'c16ef38c86e9666', '6e135c1b252f033', '510552492de24c0', '5a721576f2b7b3b', '6835891fec1ff49', '9baf50336ad7171', '533151275d676d0', 'f064dc068b23668', 'fe0522c8bd31255', '9b3e8cf51a6aedb', '6ca87d23ccb6d64', 'dc2721ae48256d4', '4afb23fd2c7425d', 'cbeec9178d496ff', 'eaae341dd9b29b1', 'bd493469046d8ad', '8db97824f8df55c', '2b6d6c58e29b9c9', '66e67112009b2cc', 'd78cb5fe6372cc8', '0204ecbadbe6616', '623e47847d0fadf', '2c8855840da3b47', '22017e4862092e7', 'acd459c7e3d646b', '1f9d003700790d0', 'f405402162c27ff', '4a4c3ce9280080d', 'd4ed88c3f76a903', 'dda58d013d7c68c', 'a79dcc999e1cb84', '2903a022d0edc58', 'c65516d4e07fa5d', '066dbc1c7d3b89c', '39942ba9c7367a8', '34f376ec432a38c', '931e8300bee31e1'}\n",
      "Количество пересечений: 3249\n"
     ]
    }
   ],
   "source": [
    "#Проверим, есть ли пользователи, встречающиеся одновременно в обеих группах\n",
    "group_A2 = df_test_2[df_test_2['device_type_canonical']=='mobile']['user_id']\n",
    "group_B2 = df_test_2[df_test_2['device_type_canonical']=='desktop']['user_id']\n",
    "\n",
    "intersection2 = set(group_A2) & set(group_B2)\n",
    "count2 = len(intersection2)\n",
    "\n",
    "print(f'Пересекающиеся элементы: {intersection2}')  \n",
    "print(f'Количество пересечений: {count2}') "
   ]
  },
  {
   "cell_type": "markdown",
   "metadata": {},
   "source": [
    "Удалим найденные пересекающиеся значения"
   ]
  },
  {
   "cell_type": "code",
   "execution_count": 87,
   "metadata": {},
   "outputs": [
    {
     "name": "stdout",
     "output_type": "stream",
     "text": [
      "Пересекающиеся элементы: set()\n",
      "Количество пересечений: 0\n"
     ]
    }
   ],
   "source": [
    "# Удалим найденные пересечения\n",
    "df_test_2 = df_test_2[~df_test_2['user_id'].isin(intersection2)]\n",
    "group_A2 = df_test_2[df_test_2['device_type_canonical']=='mobile']['user_id']\n",
    "group_B2 = df_test_2[df_test_2['device_type_canonical']=='desktop']['user_id']\n",
    "\n",
    "intersection2 = set(group_A2) & set(group_B2)\n",
    "count2 = len(intersection2)\n",
    "\n",
    "print(f'Пересекающиеся элементы: {intersection2}')  \n",
    "print(f'Количество пересечений: {count2}') "
   ]
  },
  {
   "cell_type": "markdown",
   "metadata": {},
   "source": [
    "Пересечения удалены.\n",
    "\n",
    "Посчитаем процентное соотношение групп. "
   ]
  },
  {
   "cell_type": "code",
   "execution_count": 88,
   "metadata": {},
   "outputs": [
    {
     "data": {
      "text/plain": [
       "(87.11192485273045, 12.888075147269543)"
      ]
     },
     "execution_count": 88,
     "metadata": {},
     "output_type": "execute_result"
    }
   ],
   "source": [
    "# Посчитаем, в каком процентном отношении находятся группы\n",
    "(100 * df_test_2[df_test_2['device_type_canonical']=='mobile']['user_id'].nunique() / df_test_2['user_id'].nunique(),\n",
    "100 * df_test_2[df_test_2['device_type_canonical']=='desktop']['user_id'].nunique() / df_test_2['user_id'].nunique())"
   ]
  },
  {
   "cell_type": "markdown",
   "metadata": {},
   "source": [
    "Видим, что данные неравномерно распределены по группам: **87.11%** пользователей с мобильным приложением против **12.89%** пользователей со стационарными устройствами.\n",
    "\n",
    "Теперь расчитаем исследуемую метрику - среднее время между заказами - для каждой группы."
   ]
  },
  {
   "cell_type": "code",
   "execution_count": 89,
   "metadata": {},
   "outputs": [
    {
     "data": {
      "text/plain": [
       "device_type_canonical\n",
       "desktop    11.762457\n",
       "mobile     10.840234\n",
       "Name: days_since_prev, dtype: float64"
      ]
     },
     "metadata": {},
     "output_type": "display_data"
    }
   ],
   "source": [
    "# Рассчитаем среднее время между заказами для каждой группы\n",
    "avg_time = df_test_2.groupby('device_type_canonical').days_since_prev.mean() \n",
    "display(avg_time)"
   ]
  },
  {
   "cell_type": "markdown",
   "metadata": {},
   "source": [
    "Получили, что среднее время между заказами для пользователей с мобильным приложением больше, чем для пользователей со стационарными устройствами.\n",
    "\n",
    "С помощью прверки гипотезы, проверим, действительно ли это так.\n",
    "\n",
    "Так как данные у нас неравномерно распределены по группам ( 87.07% в группе А против 12.93% в группе В), будем использовать **тест Манна-Уитни**, который не зависит от равномерности размера выборок.\n",
    "\n",
    "Сформулируем нулевую и альтернативную гипотезы:\n",
    "- Нулевая гипотеза **Н0**: Dist(XA)=Dist(XB) - распределение времени между заказами в *группе А (мобильные устройства)* и в *группе В (стационарные устройства)* не различается.\n",
    "- Альтернативная гипотеза **Н1**: Dist(XA)>Dist(XB) - распределение времени между заказами в *группе А (мобильные устройства)* больше, чем в *группе В (стационарные устройства)*.\n",
    "\n",
    "Гипотезу будем проверять на уровне значимости alpha = 0.05."
   ]
  },
  {
   "cell_type": "code",
   "execution_count": 90,
   "metadata": {},
   "outputs": [
    {
     "name": "stdout",
     "output_type": "stream",
     "text": [
      "pvalue=6.127027003670033e-39 < 0.05\n",
      "Нулевая гипотеза не находит подтверждения!\n"
     ]
    }
   ],
   "source": [
    "# Выборка целевой метрики для группы A\n",
    "metric_a2 = df_test_2[df_test_2['device_type_canonical']=='mobile'].days_since_prev \n",
    "# Выборка целевой метрики для группы B\n",
    "metric_b2 = df_test_2[df_test_2['device_type_canonical']=='desktop'].days_since_prev \n",
    "\n",
    "# На каком уровне значимости проверяем гипотезу о равенстве распределений\n",
    "alpha = 0.05 \n",
    "\n",
    "# Применяем тест Манна — Уитни\n",
    "stat_mw, p_value_mw = mannwhitneyu(\n",
    "    metric_a2, \n",
    "    metric_b2, \n",
    "    alternative='greater' # Альтернативная гипотеза односторонняя\n",
    ") \n",
    "\n",
    "if p_value_mw > alpha:\n",
    "    print(f'pvalue={p_value_mw} > {alpha}')\n",
    "    print('Нулевая гипотеза находит подтверждение!')\n",
    "else:\n",
    "    print(f'pvalue={p_value_mw} < {alpha}')\n",
    "    print('Нулевая гипотеза не находит подтверждения!')"
   ]
  },
  {
   "cell_type": "markdown",
   "metadata": {},
   "source": [
    "P-value = 6.127027003670033e-39 **меньше** уровня значимости. Это означает, что нет оснований принимать нулевую гипотезу. **Альтернативная гипотеза**, согласно результатам статистического теста, **находит подтверждение**.\n",
    "\n",
    "Таким образом, можно сделать вывод, что распределение метрики в группе A **больше**, чем в группе B. Это означает, что среднее время между заказами для пользователей с мобильными устройствами **больше**, чем для пользователей со стационарными устройствами."
   ]
  },
  {
   "cell_type": "markdown",
   "metadata": {},
   "source": [
    "### Промежуточные выводы\n",
    "\n",
    "В результате статистического анализа данных были проверены две гипотезы, предполагающие большую активность пользователей мобильных устройств, и получены следующие результаты:\n",
    " - гипотеза о том, что среднее количество заказов на одного пользователя мобильного приложения выше по сравнению с пользователями стационарных устройств не подтвердилась;\n",
    " - гипотеза о том, что среднее время между заказами для пользователей мобильного приложения больше, чем для пользователей стационарных устройств, нашла подтверждение."
   ]
  },
  {
   "cell_type": "markdown",
   "metadata": {},
   "source": [
    "## 5. Общий вывод и рекомендации"
   ]
  },
  {
   "cell_type": "markdown",
   "metadata": {},
   "source": [
    "### 1. Общий обзор проделанной работы\n",
    "\n",
    "В ходе исследования были проанализированны данные о бронировании билетов на сервисе Яндекс Афиша за период с 1 июня по 31 октября 2024 года. Исследуемая информация включала информацию обо всех заказах билетов, совершённых с двух типов устройств — мобильных и стационарных, информацию о событиях, включая город и регион события, а также информацию о площадке проведения мероприятия.\n",
    "\n",
    "Основное внимание в исследовании было уделено изучению динамики пользовательского поведения осенью 2024 года, основной акцент сделан на выявлении изменений в предпочтениях пользователей и популярности событий, а также проверены гипотезы о статистически значимых различиях в поведении пользователей мобильных и стационарных устройств."
   ]
  },
  {
   "cell_type": "markdown",
   "metadata": {},
   "source": [
    "### 2. Основные результаты анализа\n",
    "\n",
    "Проведя анализ предоставленных данных было выявлено наибольшее воздействие сезонности на:\n",
    "- типы мероприятий - предпочтения пользователей значительно меняются в зависимости от времени года;\n",
    "- возрастные ограничения - спрос на разные возрастные категории мероприятий имеет выраженную сезонную динамику;\n",
    "- средняя стоимость билета - ценовая политика варьируется в зависимости от сезона.\n",
    "\n",
    "Оценка динамики осеннего периода показывает:\n",
    "- стабильный рост количества заказов и активных пользователей в течение осени;\n",
    "- пиковые дни активности:\n",
    "    - **вторник** - максимальное количество заказов;\n",
    "    - **пятница** - пиковая активность пользователей сервиса;\n",
    "- положительный тренд - сервис демонстрирует рост популярности в осенний период.\n",
    "\n",
    "Самые популярные регионы по количеству проведенных мероприятий:\n",
    "- Каменевский регион - лидер по объему мероприятий - **3280** мероприятий, что составляет **29.79%** от общего количества осенних мероприятий;\n",
    "- Североярская область - активный регион с высокой культурной активностью - **2254** мероприятий, что составляет **20.47%** от общего количества осенних мероприятий\n",
    "\n",
    "Выделены топ-5 наиболее успешных билетных сервисов (более 1000 мероприятий):\n",
    "- Лови билет! - реализовал билеты на **2870** мероприятий - выручка составила **10.4 млн.руб**;\n",
    "- Билеты без проблем - реализовал билеты на **2190** мероприятия - выручка составила **12.2 млн.руб**;\n",
    "- Билеты в руки - реализовал билеты на **2070** мероприятий - выручка составила **7.6 млн.руб**;\n",
    "- Лучшие билеты - реализовал билеты на **1210** мероприятий - выручка составила **1.7 млн.руб**;\n",
    "- Облачко - реализовал билеты на **1124** мероприятий - выручка составила **10.7 млн.руб**.\n",
    "\n",
    "Проверены гипотезы о статистически значимых различиях в поведении пользователей мобильных и стационарных устройств:\n",
    "- гипотеза о том, что среднее количество заказов на одного пользователя мобильного приложения выше по сравнению с пользователями стационарных устройств **не подтвердилась**;\n",
    "- гипотеза о том, что среднее время между заказами для пользователей мобильного приложения больше, чем для пользователей стационарных устройств, **нашла подтверждение**."
   ]
  },
  {
   "cell_type": "markdown",
   "metadata": {},
   "source": [
    "### 3. Рекомендации\n",
    "\n",
    "На основе проанализированных данных можно дать следующие рекомендации:\n",
    "\n",
    "- Стратегические решения:\n",
    "    - сезонное планирование мероприятий с учетом выявленных закономерностей;\n",
    "    - дифференцированная ценовая политика в зависимости от сезона и типа мероприятий;\n",
    "    - фокус на вторники и пятницы для максимального охвата аудитории;\n",
    "    - для стационарных пользователей: программы лояльности и регулярные напоминания;\n",
    "    - для мобильной аудитория: акции для стимулирования повторных покупок.\n",
    "\n",
    "- Оптимизация ресурсов:\n",
    "    - усиление присутствия в Каменевском регионе и Североярской области;\n",
    "    - партнерство с топовыми билетными сервисами для увеличения продаж;\n",
    "    - разработка специальных предложений для пиковых дней недели.\n",
    "\n",
    "- Перспективы роста:\n",
    "    - расширение географии на основе успешных регионов;\n",
    "    - разнообразие мероприятий с учетом сезонных предпочтений;\n",
    "    - улучшение пользовательского опыта в дни высокой активности."
   ]
  }
 ],
 "metadata": {
  "ExecuteTimeLog": [
   {
    "duration": 1467,
    "start_time": "2025-08-25T09:53:17.347Z"
   },
   {
    "duration": 1835,
    "start_time": "2025-08-25T09:58:15.214Z"
   },
   {
    "duration": 118,
    "start_time": "2025-08-25T10:00:20.925Z"
   },
   {
    "duration": 4,
    "start_time": "2025-08-25T10:01:15.584Z"
   },
   {
    "duration": 26,
    "start_time": "2025-08-25T10:01:35.613Z"
   },
   {
    "duration": 21,
    "start_time": "2025-08-25T10:12:25.084Z"
   },
   {
    "duration": 13,
    "start_time": "2025-08-25T10:13:06.123Z"
   },
   {
    "duration": 120,
    "start_time": "2025-08-25T10:27:51.534Z"
   },
   {
    "duration": 271,
    "start_time": "2025-08-25T10:28:00.939Z"
   },
   {
    "duration": 665,
    "start_time": "2025-08-25T10:28:34.072Z"
   },
   {
    "duration": 15,
    "start_time": "2025-08-25T10:29:31.600Z"
   },
   {
    "duration": 11,
    "start_time": "2025-08-25T10:29:49.248Z"
   },
   {
    "duration": 249,
    "start_time": "2025-08-25T10:36:51.732Z"
   },
   {
    "duration": 1015,
    "start_time": "2025-08-25T10:40:59.147Z"
   },
   {
    "duration": 343,
    "start_time": "2025-08-25T10:41:06.239Z"
   },
   {
    "duration": 9,
    "start_time": "2025-08-25T13:04:59.059Z"
   },
   {
    "duration": 5,
    "start_time": "2025-08-25T13:05:09.920Z"
   },
   {
    "duration": 607,
    "start_time": "2025-08-25T13:05:58.106Z"
   },
   {
    "duration": 214,
    "start_time": "2025-08-25T13:06:01.897Z"
   },
   {
    "duration": 5,
    "start_time": "2025-08-25T13:12:09.927Z"
   },
   {
    "duration": 6,
    "start_time": "2025-08-25T13:12:29.712Z"
   },
   {
    "duration": 20,
    "start_time": "2025-08-25T13:13:01.636Z"
   },
   {
    "duration": 22,
    "start_time": "2025-08-25T13:13:21.224Z"
   },
   {
    "duration": 20,
    "start_time": "2025-08-25T13:15:02.642Z"
   },
   {
    "duration": 5,
    "start_time": "2025-08-25T13:15:06.208Z"
   },
   {
    "duration": 6,
    "start_time": "2025-08-25T13:15:20.494Z"
   },
   {
    "duration": 20,
    "start_time": "2025-08-25T13:15:23.915Z"
   },
   {
    "duration": 557,
    "start_time": "2025-08-25T13:32:37.680Z"
   },
   {
    "duration": 544,
    "start_time": "2025-08-25T13:35:57.651Z"
   },
   {
    "duration": 192,
    "start_time": "2025-08-25T13:48:02.766Z"
   },
   {
    "duration": 202,
    "start_time": "2025-08-25T13:50:14.023Z"
   },
   {
    "duration": 196,
    "start_time": "2025-08-25T13:50:21.418Z"
   },
   {
    "duration": 196,
    "start_time": "2025-08-25T13:50:33.497Z"
   },
   {
    "duration": 189,
    "start_time": "2025-08-25T13:50:38.051Z"
   },
   {
    "duration": 388,
    "start_time": "2025-08-25T13:54:19.377Z"
   },
   {
    "duration": 399,
    "start_time": "2025-08-25T13:54:27.882Z"
   },
   {
    "duration": 600,
    "start_time": "2025-08-25T13:54:36.187Z"
   },
   {
    "duration": 197,
    "start_time": "2025-08-25T13:54:43.978Z"
   },
   {
    "duration": 197,
    "start_time": "2025-08-25T13:54:52.746Z"
   },
   {
    "duration": 264,
    "start_time": "2025-08-25T13:56:39.078Z"
   },
   {
    "duration": 425,
    "start_time": "2025-08-25T13:57:22.862Z"
   },
   {
    "duration": 114,
    "start_time": "2025-08-25T14:03:14.279Z"
   },
   {
    "duration": 129,
    "start_time": "2025-08-25T14:03:34.842Z"
   },
   {
    "duration": 196,
    "start_time": "2025-08-25T14:04:12.239Z"
   },
   {
    "duration": 1392,
    "start_time": "2025-08-25T14:05:41.196Z"
   },
   {
    "duration": 14,
    "start_time": "2025-08-25T14:06:07.457Z"
   },
   {
    "duration": 10,
    "start_time": "2025-08-25T14:08:23.024Z"
   },
   {
    "duration": 25,
    "start_time": "2025-08-25T14:08:36.627Z"
   },
   {
    "duration": 33,
    "start_time": "2025-08-25T14:35:44.238Z"
   },
   {
    "duration": 8,
    "start_time": "2025-08-25T14:36:31.043Z"
   },
   {
    "duration": 18,
    "start_time": "2025-08-25T14:37:00.255Z"
   },
   {
    "duration": 19,
    "start_time": "2025-08-25T14:37:27.860Z"
   },
   {
    "duration": 25,
    "start_time": "2025-08-25T14:38:01.192Z"
   },
   {
    "duration": 21,
    "start_time": "2025-08-25T14:39:01.779Z"
   },
   {
    "duration": 22,
    "start_time": "2025-08-25T14:39:47.124Z"
   },
   {
    "duration": 30,
    "start_time": "2025-08-25T14:40:30.943Z"
   },
   {
    "duration": 29,
    "start_time": "2025-08-25T14:42:12.706Z"
   },
   {
    "duration": 58,
    "start_time": "2025-08-25T14:43:00.359Z"
   },
   {
    "duration": 3,
    "start_time": "2025-08-25T15:04:09.158Z"
   },
   {
    "duration": 467,
    "start_time": "2025-08-25T15:11:51.722Z"
   },
   {
    "duration": 163,
    "start_time": "2025-08-25T15:12:11.606Z"
   },
   {
    "duration": 112,
    "start_time": "2025-08-25T15:13:45.772Z"
   },
   {
    "duration": 11,
    "start_time": "2025-08-25T15:14:16.976Z"
   },
   {
    "duration": 1468,
    "start_time": "2025-08-25T15:16:47.732Z"
   },
   {
    "duration": 1572,
    "start_time": "2025-08-25T15:18:06.836Z"
   },
   {
    "duration": 774,
    "start_time": "2025-08-25T15:32:47.568Z"
   },
   {
    "duration": 582,
    "start_time": "2025-08-25T15:34:14.602Z"
   },
   {
    "duration": 575,
    "start_time": "2025-08-25T15:53:01.418Z"
   },
   {
    "duration": 219,
    "start_time": "2025-08-25T15:53:21.133Z"
   },
   {
    "duration": 236,
    "start_time": "2025-08-25T15:53:49.157Z"
   },
   {
    "duration": 227,
    "start_time": "2025-08-25T15:55:56.006Z"
   },
   {
    "duration": 47,
    "start_time": "2025-08-25T16:10:24.485Z"
   },
   {
    "duration": 85,
    "start_time": "2025-08-25T16:10:55.278Z"
   },
   {
    "duration": 52,
    "start_time": "2025-08-25T16:11:21.743Z"
   },
   {
    "duration": 1270,
    "start_time": "2025-08-25T16:11:38.536Z"
   },
   {
    "duration": 1446,
    "start_time": "2025-08-25T16:11:39.808Z"
   },
   {
    "duration": 114,
    "start_time": "2025-08-25T16:11:41.256Z"
   },
   {
    "duration": 18,
    "start_time": "2025-08-25T16:11:41.372Z"
   },
   {
    "duration": 48,
    "start_time": "2025-08-25T16:11:41.392Z"
   },
   {
    "duration": 12,
    "start_time": "2025-08-25T16:11:41.442Z"
   },
   {
    "duration": 24,
    "start_time": "2025-08-25T16:11:41.456Z"
   },
   {
    "duration": 42,
    "start_time": "2025-08-25T16:11:41.482Z"
   },
   {
    "duration": 767,
    "start_time": "2025-08-25T16:11:41.526Z"
   },
   {
    "duration": 213,
    "start_time": "2025-08-25T16:11:42.296Z"
   },
   {
    "duration": 5,
    "start_time": "2025-08-25T16:11:42.510Z"
   },
   {
    "duration": 65,
    "start_time": "2025-08-25T16:11:42.516Z"
   },
   {
    "duration": 30,
    "start_time": "2025-08-25T16:11:42.583Z"
   },
   {
    "duration": 21,
    "start_time": "2025-08-25T16:11:42.615Z"
   },
   {
    "duration": 512,
    "start_time": "2025-08-25T16:11:42.638Z"
   },
   {
    "duration": 581,
    "start_time": "2025-08-25T16:11:43.155Z"
   },
   {
    "duration": 198,
    "start_time": "2025-08-25T16:11:43.738Z"
   },
   {
    "duration": 191,
    "start_time": "2025-08-25T16:11:43.938Z"
   },
   {
    "duration": 431,
    "start_time": "2025-08-25T16:11:44.130Z"
   },
   {
    "duration": 74,
    "start_time": "2025-08-25T16:11:44.562Z"
   },
   {
    "duration": 311,
    "start_time": "2025-08-25T16:11:44.638Z"
   },
   {
    "duration": 12,
    "start_time": "2025-08-25T16:11:44.951Z"
   },
   {
    "duration": 131,
    "start_time": "2025-08-25T16:11:44.965Z"
   },
   {
    "duration": 45,
    "start_time": "2025-08-25T16:11:45.098Z"
   },
   {
    "duration": 23,
    "start_time": "2025-08-25T16:11:45.145Z"
   },
   {
    "duration": 26,
    "start_time": "2025-08-25T16:11:45.170Z"
   },
   {
    "duration": 49,
    "start_time": "2025-08-25T16:11:45.198Z"
   },
   {
    "duration": 34,
    "start_time": "2025-08-25T16:11:45.251Z"
   },
   {
    "duration": 52,
    "start_time": "2025-08-25T16:11:45.287Z"
   },
   {
    "duration": 62,
    "start_time": "2025-08-25T16:11:45.340Z"
   },
   {
    "duration": 24,
    "start_time": "2025-08-25T16:11:45.403Z"
   },
   {
    "duration": 40,
    "start_time": "2025-08-25T16:11:45.429Z"
   },
   {
    "duration": 106,
    "start_time": "2025-08-25T16:11:45.471Z"
   },
   {
    "duration": 678,
    "start_time": "2025-08-25T16:11:45.579Z"
   },
   {
    "duration": 9,
    "start_time": "2025-08-25T16:11:46.259Z"
   },
   {
    "duration": 253,
    "start_time": "2025-08-25T16:11:46.269Z"
   },
   {
    "duration": 76,
    "start_time": "2025-08-25T16:11:46.524Z"
   },
   {
    "duration": 16,
    "start_time": "2025-08-25T16:17:01.934Z"
   },
   {
    "duration": 9,
    "start_time": "2025-08-25T16:17:42.422Z"
   },
   {
    "duration": 358,
    "start_time": "2025-08-25T16:28:10.153Z"
   },
   {
    "duration": 83,
    "start_time": "2025-08-25T16:28:15.819Z"
   },
   {
    "duration": 571,
    "start_time": "2025-08-25T16:28:21.107Z"
   },
   {
    "duration": 566,
    "start_time": "2025-08-25T16:29:19.911Z"
   },
   {
    "duration": 331,
    "start_time": "2025-08-25T16:29:34.340Z"
   },
   {
    "duration": 536,
    "start_time": "2025-08-25T16:29:41.643Z"
   },
   {
    "duration": 233,
    "start_time": "2025-08-25T16:41:43.780Z"
   },
   {
    "duration": 182,
    "start_time": "2025-08-25T16:42:12.946Z"
   },
   {
    "duration": 181,
    "start_time": "2025-08-25T16:42:20.544Z"
   },
   {
    "duration": 546,
    "start_time": "2025-08-25T16:51:42.597Z"
   },
   {
    "duration": 232,
    "start_time": "2025-08-25T16:51:56.176Z"
   },
   {
    "duration": 231,
    "start_time": "2025-08-25T16:55:00.954Z"
   },
   {
    "duration": 216,
    "start_time": "2025-08-25T16:55:12.304Z"
   },
   {
    "duration": 122,
    "start_time": "2025-08-25T17:07:28.602Z"
   },
   {
    "duration": 380,
    "start_time": "2025-08-25T17:07:39.571Z"
   },
   {
    "duration": 11,
    "start_time": "2025-08-25T17:36:54.541Z"
   },
   {
    "duration": 6652,
    "start_time": "2025-08-25T17:37:06.575Z"
   },
   {
    "duration": 7192,
    "start_time": "2025-08-25T17:37:37.401Z"
   },
   {
    "duration": 7109,
    "start_time": "2025-08-25T17:37:58.806Z"
   },
   {
    "duration": 7362,
    "start_time": "2025-08-25T17:38:23.645Z"
   },
   {
    "duration": 7035,
    "start_time": "2025-08-25T17:39:47.536Z"
   },
   {
    "duration": 7159,
    "start_time": "2025-08-25T17:41:01.557Z"
   },
   {
    "duration": 7061,
    "start_time": "2025-08-25T17:41:35.376Z"
   },
   {
    "duration": 37,
    "start_time": "2025-08-25T17:48:40.768Z"
   },
   {
    "duration": 72,
    "start_time": "2025-08-25T17:52:52.064Z"
   },
   {
    "duration": 6736,
    "start_time": "2025-08-25T17:58:47.777Z"
   },
   {
    "duration": 4,
    "start_time": "2025-08-25T18:02:38.217Z"
   },
   {
    "duration": 4,
    "start_time": "2025-08-25T18:02:51.990Z"
   },
   {
    "duration": 210,
    "start_time": "2025-08-25T18:05:55.072Z"
   },
   {
    "duration": 40,
    "start_time": "2025-08-25T18:33:14.872Z"
   },
   {
    "duration": 12,
    "start_time": "2025-08-25T18:44:41.789Z"
   },
   {
    "duration": 26,
    "start_time": "2025-08-25T18:46:04.032Z"
   },
   {
    "duration": 46,
    "start_time": "2025-08-26T09:28:48.777Z"
   },
   {
    "duration": 1315,
    "start_time": "2025-08-26T09:30:45.772Z"
   },
   {
    "duration": 1853,
    "start_time": "2025-08-26T09:30:47.089Z"
   },
   {
    "duration": 91,
    "start_time": "2025-08-26T09:30:48.944Z"
   },
   {
    "duration": 16,
    "start_time": "2025-08-26T09:30:49.038Z"
   },
   {
    "duration": 27,
    "start_time": "2025-08-26T09:30:49.055Z"
   },
   {
    "duration": 10,
    "start_time": "2025-08-26T09:30:49.084Z"
   },
   {
    "duration": 9,
    "start_time": "2025-08-26T09:30:49.095Z"
   },
   {
    "duration": 15,
    "start_time": "2025-08-26T09:30:49.106Z"
   },
   {
    "duration": 697,
    "start_time": "2025-08-26T09:30:49.123Z"
   },
   {
    "duration": 189,
    "start_time": "2025-08-26T09:30:49.822Z"
   },
   {
    "duration": 3,
    "start_time": "2025-08-26T09:30:50.013Z"
   },
   {
    "duration": 32,
    "start_time": "2025-08-26T09:30:50.018Z"
   },
   {
    "duration": 23,
    "start_time": "2025-08-26T09:30:50.052Z"
   },
   {
    "duration": 21,
    "start_time": "2025-08-26T09:30:50.076Z"
   },
   {
    "duration": 457,
    "start_time": "2025-08-26T09:30:50.098Z"
   },
   {
    "duration": 495,
    "start_time": "2025-08-26T09:30:50.557Z"
   },
   {
    "duration": 160,
    "start_time": "2025-08-26T09:30:51.054Z"
   },
   {
    "duration": 166,
    "start_time": "2025-08-26T09:30:51.215Z"
   },
   {
    "duration": 364,
    "start_time": "2025-08-26T09:30:51.382Z"
   },
   {
    "duration": 73,
    "start_time": "2025-08-26T09:30:51.747Z"
   },
   {
    "duration": 296,
    "start_time": "2025-08-26T09:30:51.821Z"
   },
   {
    "duration": 10,
    "start_time": "2025-08-26T09:30:52.118Z"
   },
   {
    "duration": 37,
    "start_time": "2025-08-26T09:30:52.130Z"
   },
   {
    "duration": 11,
    "start_time": "2025-08-26T09:30:52.169Z"
   },
   {
    "duration": 26,
    "start_time": "2025-08-26T09:30:52.181Z"
   },
   {
    "duration": 15,
    "start_time": "2025-08-26T09:30:52.208Z"
   },
   {
    "duration": 21,
    "start_time": "2025-08-26T09:30:52.225Z"
   },
   {
    "duration": 44,
    "start_time": "2025-08-26T09:30:52.249Z"
   },
   {
    "duration": 23,
    "start_time": "2025-08-26T09:30:52.294Z"
   },
   {
    "duration": 23,
    "start_time": "2025-08-26T09:30:52.318Z"
   },
   {
    "duration": 38,
    "start_time": "2025-08-26T09:30:52.343Z"
   },
   {
    "duration": 90,
    "start_time": "2025-08-26T09:30:52.383Z"
   },
   {
    "duration": 86,
    "start_time": "2025-08-26T09:30:52.474Z"
   },
   {
    "duration": 577,
    "start_time": "2025-08-26T09:30:52.562Z"
   },
   {
    "duration": 8,
    "start_time": "2025-08-26T09:30:53.140Z"
   },
   {
    "duration": 194,
    "start_time": "2025-08-26T09:30:53.150Z"
   },
   {
    "duration": 70,
    "start_time": "2025-08-26T09:30:53.345Z"
   },
   {
    "duration": 14,
    "start_time": "2025-08-26T09:30:53.416Z"
   },
   {
    "duration": 538,
    "start_time": "2025-08-26T09:30:53.431Z"
   },
   {
    "duration": 12,
    "start_time": "2025-08-26T09:30:53.970Z"
   },
   {
    "duration": 201,
    "start_time": "2025-08-26T09:30:53.984Z"
   },
   {
    "duration": 319,
    "start_time": "2025-08-26T09:30:54.186Z"
   },
   {
    "duration": 5543,
    "start_time": "2025-08-26T09:30:54.507Z"
   },
   {
    "duration": 36,
    "start_time": "2025-08-26T09:31:00.052Z"
   },
   {
    "duration": 62,
    "start_time": "2025-08-26T09:31:00.089Z"
   },
   {
    "duration": 5580,
    "start_time": "2025-08-26T09:31:00.152Z"
   },
   {
    "duration": 216,
    "start_time": "2025-08-26T09:31:05.733Z"
   },
   {
    "duration": 46,
    "start_time": "2025-08-26T09:31:05.951Z"
   },
   {
    "duration": 42,
    "start_time": "2025-08-26T09:31:05.998Z"
   },
   {
    "duration": 169,
    "start_time": "2025-08-26T09:31:06.042Z"
   },
   {
    "duration": 1118,
    "start_time": "2025-08-26T09:32:50.355Z"
   },
   {
    "duration": 1425,
    "start_time": "2025-08-26T09:33:15.822Z"
   },
   {
    "duration": 28,
    "start_time": "2025-08-26T09:33:23.053Z"
   },
   {
    "duration": 12,
    "start_time": "2025-08-26T09:34:08.994Z"
   },
   {
    "duration": 7,
    "start_time": "2025-08-26T09:34:14.661Z"
   },
   {
    "duration": 1340,
    "start_time": "2025-08-26T09:37:46.911Z"
   },
   {
    "duration": 12,
    "start_time": "2025-08-26T09:51:50.542Z"
   },
   {
    "duration": 38,
    "start_time": "2025-08-26T09:52:09.108Z"
   },
   {
    "duration": 9,
    "start_time": "2025-08-26T10:04:54.957Z"
   },
   {
    "duration": 7,
    "start_time": "2025-08-26T10:05:39.172Z"
   },
   {
    "duration": 8,
    "start_time": "2025-08-26T10:05:50.697Z"
   },
   {
    "duration": 7,
    "start_time": "2025-08-26T10:05:54.064Z"
   },
   {
    "duration": 8,
    "start_time": "2025-08-26T10:06:49.439Z"
   },
   {
    "duration": 39,
    "start_time": "2025-08-26T10:07:03.403Z"
   },
   {
    "duration": 7,
    "start_time": "2025-08-26T10:07:51.368Z"
   },
   {
    "duration": 1533,
    "start_time": "2025-08-26T10:09:06.592Z"
   },
   {
    "duration": 122,
    "start_time": "2025-08-26T10:10:52.240Z"
   },
   {
    "duration": 125,
    "start_time": "2025-08-26T10:11:53.283Z"
   },
   {
    "duration": 50,
    "start_time": "2025-08-26T10:18:44.407Z"
   },
   {
    "duration": 120,
    "start_time": "2025-08-26T10:25:16.060Z"
   },
   {
    "duration": 142,
    "start_time": "2025-08-26T10:25:53.659Z"
   },
   {
    "duration": 66,
    "start_time": "2025-08-26T10:37:01.384Z"
   },
   {
    "duration": 116,
    "start_time": "2025-08-26T10:40:12.463Z"
   },
   {
    "duration": 196,
    "start_time": "2025-08-26T10:42:57.145Z"
   },
   {
    "duration": 195,
    "start_time": "2025-08-26T10:43:03.797Z"
   },
   {
    "duration": 191,
    "start_time": "2025-08-26T10:43:07.931Z"
   },
   {
    "duration": 196,
    "start_time": "2025-08-26T10:43:47.275Z"
   },
   {
    "duration": 203,
    "start_time": "2025-08-26T10:48:04.565Z"
   },
   {
    "duration": 278,
    "start_time": "2025-08-26T10:48:10.413Z"
   },
   {
    "duration": 188,
    "start_time": "2025-08-26T10:49:03.745Z"
   },
   {
    "duration": 104,
    "start_time": "2025-08-26T10:49:17.448Z"
   },
   {
    "duration": 110,
    "start_time": "2025-08-26T10:49:20.768Z"
   },
   {
    "duration": 196,
    "start_time": "2025-08-26T10:49:23.680Z"
   },
   {
    "duration": 192,
    "start_time": "2025-08-26T10:50:31.266Z"
   },
   {
    "duration": 189,
    "start_time": "2025-08-26T10:50:41.490Z"
   },
   {
    "duration": 198,
    "start_time": "2025-08-26T10:50:56.743Z"
   },
   {
    "duration": 203,
    "start_time": "2025-08-26T10:51:09.647Z"
   },
   {
    "duration": 196,
    "start_time": "2025-08-26T10:51:31.745Z"
   },
   {
    "duration": 143,
    "start_time": "2025-08-26T10:51:38.835Z"
   },
   {
    "duration": 235,
    "start_time": "2025-08-26T10:51:56.150Z"
   },
   {
    "duration": 149,
    "start_time": "2025-08-26T10:52:06.200Z"
   },
   {
    "duration": 151,
    "start_time": "2025-08-26T10:52:09.727Z"
   },
   {
    "duration": 43,
    "start_time": "2025-08-26T11:09:09.648Z"
   },
   {
    "duration": 159,
    "start_time": "2025-08-26T11:13:45.439Z"
   },
   {
    "duration": 94,
    "start_time": "2025-08-26T11:49:43.634Z"
   },
   {
    "duration": 11,
    "start_time": "2025-08-26T11:49:53.204Z"
   },
   {
    "duration": 10,
    "start_time": "2025-08-26T11:50:00.256Z"
   },
   {
    "duration": 49,
    "start_time": "2025-08-26T11:51:41.164Z"
   },
   {
    "duration": 12,
    "start_time": "2025-08-26T11:53:24.584Z"
   },
   {
    "duration": 51,
    "start_time": "2025-08-26T11:53:35.797Z"
   },
   {
    "duration": 178,
    "start_time": "2025-08-26T11:54:00.101Z"
   },
   {
    "duration": 405,
    "start_time": "2025-08-26T11:56:16.102Z"
   },
   {
    "duration": 352,
    "start_time": "2025-08-26T11:56:36.947Z"
   },
   {
    "duration": 163,
    "start_time": "2025-08-26T11:57:23.542Z"
   },
   {
    "duration": 199,
    "start_time": "2025-08-26T11:57:33.571Z"
   },
   {
    "duration": 150,
    "start_time": "2025-08-26T11:57:41.010Z"
   },
   {
    "duration": 219,
    "start_time": "2025-08-26T12:04:30.582Z"
   },
   {
    "duration": 447,
    "start_time": "2025-08-26T12:04:36.317Z"
   },
   {
    "duration": 362,
    "start_time": "2025-08-26T12:07:50.826Z"
   },
   {
    "duration": 377,
    "start_time": "2025-08-26T12:08:55.625Z"
   },
   {
    "duration": 347,
    "start_time": "2025-08-26T12:09:16.979Z"
   },
   {
    "duration": 9,
    "start_time": "2025-08-26T13:28:29.419Z"
   },
   {
    "duration": 10,
    "start_time": "2025-08-26T13:29:12.973Z"
   },
   {
    "duration": 12,
    "start_time": "2025-08-26T13:29:36.014Z"
   },
   {
    "duration": 1298,
    "start_time": "2025-08-26T13:56:37.646Z"
   },
   {
    "duration": 1293,
    "start_time": "2025-08-26T13:58:46.592Z"
   },
   {
    "duration": 1626,
    "start_time": "2025-08-26T14:06:59.269Z"
   },
   {
    "duration": 1184,
    "start_time": "2025-08-26T14:07:22.444Z"
   },
   {
    "duration": 1493,
    "start_time": "2025-08-26T14:07:23.630Z"
   },
   {
    "duration": 92,
    "start_time": "2025-08-26T14:07:25.125Z"
   },
   {
    "duration": 16,
    "start_time": "2025-08-26T14:07:25.219Z"
   },
   {
    "duration": 16,
    "start_time": "2025-08-26T14:07:25.237Z"
   },
   {
    "duration": 10,
    "start_time": "2025-08-26T14:07:25.254Z"
   },
   {
    "duration": 10,
    "start_time": "2025-08-26T14:07:25.276Z"
   },
   {
    "duration": 33,
    "start_time": "2025-08-26T14:07:25.288Z"
   },
   {
    "duration": 727,
    "start_time": "2025-08-26T14:07:25.322Z"
   },
   {
    "duration": 194,
    "start_time": "2025-08-26T14:07:26.052Z"
   },
   {
    "duration": 4,
    "start_time": "2025-08-26T14:07:26.248Z"
   },
   {
    "duration": 4,
    "start_time": "2025-08-26T14:07:26.254Z"
   },
   {
    "duration": 33,
    "start_time": "2025-08-26T14:07:26.259Z"
   },
   {
    "duration": 41,
    "start_time": "2025-08-26T14:07:26.293Z"
   },
   {
    "duration": 500,
    "start_time": "2025-08-26T14:07:26.335Z"
   },
   {
    "duration": 516,
    "start_time": "2025-08-26T14:07:26.836Z"
   },
   {
    "duration": 182,
    "start_time": "2025-08-26T14:07:27.354Z"
   },
   {
    "duration": 182,
    "start_time": "2025-08-26T14:07:27.538Z"
   },
   {
    "duration": 394,
    "start_time": "2025-08-26T14:07:27.722Z"
   },
   {
    "duration": 75,
    "start_time": "2025-08-26T14:07:28.118Z"
   },
   {
    "duration": 273,
    "start_time": "2025-08-26T14:07:28.195Z"
   },
   {
    "duration": 16,
    "start_time": "2025-08-26T14:07:28.469Z"
   },
   {
    "duration": 21,
    "start_time": "2025-08-26T14:07:28.487Z"
   },
   {
    "duration": 72,
    "start_time": "2025-08-26T14:07:28.510Z"
   },
   {
    "duration": 35,
    "start_time": "2025-08-26T14:07:28.584Z"
   },
   {
    "duration": 17,
    "start_time": "2025-08-26T14:07:28.620Z"
   },
   {
    "duration": 38,
    "start_time": "2025-08-26T14:07:28.638Z"
   },
   {
    "duration": 19,
    "start_time": "2025-08-26T14:07:28.679Z"
   },
   {
    "duration": 19,
    "start_time": "2025-08-26T14:07:28.699Z"
   },
   {
    "duration": 31,
    "start_time": "2025-08-26T14:07:28.719Z"
   },
   {
    "duration": 35,
    "start_time": "2025-08-26T14:07:28.752Z"
   },
   {
    "duration": 36,
    "start_time": "2025-08-26T14:07:28.788Z"
   },
   {
    "duration": 108,
    "start_time": "2025-08-26T14:07:28.826Z"
   },
   {
    "duration": 633,
    "start_time": "2025-08-26T14:07:28.935Z"
   },
   {
    "duration": 7,
    "start_time": "2025-08-26T14:07:29.570Z"
   },
   {
    "duration": 194,
    "start_time": "2025-08-26T14:07:29.579Z"
   },
   {
    "duration": 64,
    "start_time": "2025-08-26T14:07:29.775Z"
   },
   {
    "duration": 13,
    "start_time": "2025-08-26T14:07:29.841Z"
   },
   {
    "duration": 552,
    "start_time": "2025-08-26T14:07:29.856Z"
   },
   {
    "duration": 8,
    "start_time": "2025-08-26T14:07:30.409Z"
   },
   {
    "duration": 215,
    "start_time": "2025-08-26T14:07:30.418Z"
   },
   {
    "duration": 323,
    "start_time": "2025-08-26T14:07:30.635Z"
   },
   {
    "duration": 5789,
    "start_time": "2025-08-26T14:07:30.960Z"
   },
   {
    "duration": 30,
    "start_time": "2025-08-26T14:07:36.750Z"
   },
   {
    "duration": 42,
    "start_time": "2025-08-26T14:07:36.781Z"
   },
   {
    "duration": 5999,
    "start_time": "2025-08-26T14:07:36.825Z"
   },
   {
    "duration": 192,
    "start_time": "2025-08-26T14:07:42.826Z"
   },
   {
    "duration": 3,
    "start_time": "2025-08-26T14:07:43.020Z"
   },
   {
    "duration": 17,
    "start_time": "2025-08-26T14:07:43.025Z"
   },
   {
    "duration": 142,
    "start_time": "2025-08-26T14:07:43.044Z"
   },
   {
    "duration": 51,
    "start_time": "2025-08-26T14:07:43.188Z"
   },
   {
    "duration": 174,
    "start_time": "2025-08-26T14:07:43.241Z"
   },
   {
    "duration": 70,
    "start_time": "2025-08-26T14:07:43.417Z"
   },
   {
    "duration": 219,
    "start_time": "2025-08-26T14:07:43.488Z"
   },
   {
    "duration": 48,
    "start_time": "2025-08-26T14:07:43.709Z"
   },
   {
    "duration": 197,
    "start_time": "2025-08-26T14:07:43.759Z"
   },
   {
    "duration": 55,
    "start_time": "2025-08-26T14:07:43.957Z"
   },
   {
    "duration": 387,
    "start_time": "2025-08-26T14:07:44.014Z"
   },
   {
    "duration": 13,
    "start_time": "2025-08-26T14:07:44.403Z"
   },
   {
    "duration": 1511,
    "start_time": "2025-08-26T14:07:44.418Z"
   },
   {
    "duration": 1516,
    "start_time": "2025-08-26T14:08:10.698Z"
   },
   {
    "duration": 1407,
    "start_time": "2025-08-26T14:08:28.021Z"
   },
   {
    "duration": 273,
    "start_time": "2025-08-26T14:09:31.666Z"
   },
   {
    "duration": 3,
    "start_time": "2025-08-26T14:10:13.563Z"
   },
   {
    "duration": 75,
    "start_time": "2025-08-26T14:10:19.194Z"
   },
   {
    "duration": 216,
    "start_time": "2025-08-26T14:14:36.592Z"
   },
   {
    "duration": 5,
    "start_time": "2025-08-26T14:14:46.542Z"
   },
   {
    "duration": 76,
    "start_time": "2025-08-26T14:14:53.848Z"
   },
   {
    "duration": 80,
    "start_time": "2025-08-26T14:15:58.372Z"
   },
   {
    "duration": 1670,
    "start_time": "2025-08-26T14:19:13.393Z"
   },
   {
    "duration": 82,
    "start_time": "2025-08-26T14:19:48.920Z"
   },
   {
    "duration": 923,
    "start_time": "2025-08-26T14:19:51.778Z"
   },
   {
    "duration": 17,
    "start_time": "2025-08-26T14:41:55.775Z"
   },
   {
    "duration": 17,
    "start_time": "2025-08-26T14:42:33.430Z"
   },
   {
    "duration": 735,
    "start_time": "2025-08-26T14:43:02.118Z"
   },
   {
    "duration": 212,
    "start_time": "2025-08-26T14:46:01.413Z"
   },
   {
    "duration": 152,
    "start_time": "2025-08-26T14:46:37.994Z"
   },
   {
    "duration": 322,
    "start_time": "2025-08-26T14:51:35.828Z"
   },
   {
    "duration": 1779,
    "start_time": "2025-08-26T14:54:20.221Z"
   },
   {
    "duration": 17,
    "start_time": "2025-08-26T14:54:57.185Z"
   },
   {
    "duration": 16,
    "start_time": "2025-08-26T14:55:08.626Z"
   },
   {
    "duration": 154,
    "start_time": "2025-08-26T14:56:27.412Z"
   },
   {
    "duration": 145,
    "start_time": "2025-08-26T14:59:00.588Z"
   },
   {
    "duration": 1606,
    "start_time": "2025-08-26T15:00:00.936Z"
   },
   {
    "duration": 252,
    "start_time": "2025-08-26T15:00:07.710Z"
   },
   {
    "duration": 203,
    "start_time": "2025-08-26T15:00:17.381Z"
   },
   {
    "duration": 155,
    "start_time": "2025-08-26T15:00:36.400Z"
   },
   {
    "duration": 147,
    "start_time": "2025-08-26T15:01:30.038Z"
   },
   {
    "duration": 156,
    "start_time": "2025-08-26T15:02:44.258Z"
   },
   {
    "duration": 202,
    "start_time": "2025-08-26T15:03:41.939Z"
   },
   {
    "duration": 12,
    "start_time": "2025-08-26T15:03:51.413Z"
   },
   {
    "duration": 140,
    "start_time": "2025-08-26T15:04:00.347Z"
   },
   {
    "duration": 146,
    "start_time": "2025-08-26T15:04:06.729Z"
   },
   {
    "duration": 136,
    "start_time": "2025-08-26T15:04:14.136Z"
   },
   {
    "duration": 141,
    "start_time": "2025-08-26T15:04:21.064Z"
   },
   {
    "duration": 105,
    "start_time": "2025-08-26T15:23:29.017Z"
   },
   {
    "duration": 102,
    "start_time": "2025-08-26T15:28:18.009Z"
   },
   {
    "duration": 165,
    "start_time": "2025-08-26T15:30:50.213Z"
   },
   {
    "duration": 169,
    "start_time": "2025-08-26T15:33:25.441Z"
   },
   {
    "duration": 175,
    "start_time": "2025-08-26T15:33:44.641Z"
   },
   {
    "duration": 218,
    "start_time": "2025-08-26T15:47:22.718Z"
   },
   {
    "duration": 135,
    "start_time": "2025-08-26T15:59:13.814Z"
   },
   {
    "duration": 126,
    "start_time": "2025-08-26T16:01:05.793Z"
   },
   {
    "duration": 106,
    "start_time": "2025-08-26T16:02:40.747Z"
   },
   {
    "duration": 137,
    "start_time": "2025-08-26T16:03:35.820Z"
   },
   {
    "duration": 1463,
    "start_time": "2025-08-26T17:57:02.443Z"
   },
   {
    "duration": 1933,
    "start_time": "2025-08-26T17:57:03.908Z"
   },
   {
    "duration": 100,
    "start_time": "2025-08-26T17:57:05.842Z"
   },
   {
    "duration": 21,
    "start_time": "2025-08-26T17:57:05.944Z"
   },
   {
    "duration": 37,
    "start_time": "2025-08-26T17:57:05.966Z"
   },
   {
    "duration": 17,
    "start_time": "2025-08-26T17:57:06.004Z"
   },
   {
    "duration": 13,
    "start_time": "2025-08-26T17:57:06.023Z"
   },
   {
    "duration": 21,
    "start_time": "2025-08-26T17:57:06.037Z"
   },
   {
    "duration": 727,
    "start_time": "2025-08-26T17:57:06.059Z"
   },
   {
    "duration": 214,
    "start_time": "2025-08-26T17:57:06.789Z"
   },
   {
    "duration": 5,
    "start_time": "2025-08-26T17:57:07.004Z"
   },
   {
    "duration": 7,
    "start_time": "2025-08-26T17:57:07.010Z"
   },
   {
    "duration": 35,
    "start_time": "2025-08-26T17:57:07.019Z"
   },
   {
    "duration": 37,
    "start_time": "2025-08-26T17:57:07.056Z"
   },
   {
    "duration": 557,
    "start_time": "2025-08-26T17:57:07.095Z"
   },
   {
    "duration": 544,
    "start_time": "2025-08-26T17:57:07.653Z"
   },
   {
    "duration": 188,
    "start_time": "2025-08-26T17:57:08.198Z"
   },
   {
    "duration": 186,
    "start_time": "2025-08-26T17:57:08.387Z"
   },
   {
    "duration": 427,
    "start_time": "2025-08-26T17:57:08.575Z"
   },
   {
    "duration": 86,
    "start_time": "2025-08-26T17:57:09.005Z"
   },
   {
    "duration": 283,
    "start_time": "2025-08-26T17:57:09.092Z"
   },
   {
    "duration": 11,
    "start_time": "2025-08-26T17:57:09.376Z"
   },
   {
    "duration": 31,
    "start_time": "2025-08-26T17:57:09.389Z"
   },
   {
    "duration": 6,
    "start_time": "2025-08-26T17:57:09.422Z"
   },
   {
    "duration": 33,
    "start_time": "2025-08-26T17:57:09.430Z"
   },
   {
    "duration": 79,
    "start_time": "2025-08-26T17:57:09.465Z"
   },
   {
    "duration": 27,
    "start_time": "2025-08-26T17:57:09.546Z"
   },
   {
    "duration": 20,
    "start_time": "2025-08-26T17:57:09.578Z"
   },
   {
    "duration": 88,
    "start_time": "2025-08-26T17:57:09.600Z"
   },
   {
    "duration": 28,
    "start_time": "2025-08-26T17:57:09.689Z"
   },
   {
    "duration": 22,
    "start_time": "2025-08-26T17:57:09.719Z"
   },
   {
    "duration": 36,
    "start_time": "2025-08-26T17:57:09.743Z"
   },
   {
    "duration": 100,
    "start_time": "2025-08-26T17:57:09.781Z"
   },
   {
    "duration": 639,
    "start_time": "2025-08-26T17:57:09.883Z"
   },
   {
    "duration": 8,
    "start_time": "2025-08-26T17:57:10.524Z"
   },
   {
    "duration": 217,
    "start_time": "2025-08-26T17:57:10.533Z"
   },
   {
    "duration": 67,
    "start_time": "2025-08-26T17:57:10.751Z"
   },
   {
    "duration": 14,
    "start_time": "2025-08-26T17:57:10.820Z"
   },
   {
    "duration": 625,
    "start_time": "2025-08-26T17:57:10.852Z"
   },
   {
    "duration": 7,
    "start_time": "2025-08-26T17:57:11.479Z"
   },
   {
    "duration": 214,
    "start_time": "2025-08-26T17:57:11.488Z"
   },
   {
    "duration": 351,
    "start_time": "2025-08-26T17:57:11.703Z"
   },
   {
    "duration": 6182,
    "start_time": "2025-08-26T17:57:12.055Z"
   },
   {
    "duration": 34,
    "start_time": "2025-08-26T17:57:18.238Z"
   },
   {
    "duration": 50,
    "start_time": "2025-08-26T17:57:18.274Z"
   },
   {
    "duration": 6210,
    "start_time": "2025-08-26T17:57:18.325Z"
   },
   {
    "duration": 196,
    "start_time": "2025-08-26T17:57:24.536Z"
   },
   {
    "duration": 4,
    "start_time": "2025-08-26T17:57:24.733Z"
   },
   {
    "duration": 18,
    "start_time": "2025-08-26T17:57:24.738Z"
   },
   {
    "duration": 146,
    "start_time": "2025-08-26T17:57:24.758Z"
   },
   {
    "duration": 61,
    "start_time": "2025-08-26T17:57:24.905Z"
   },
   {
    "duration": 176,
    "start_time": "2025-08-26T17:57:24.967Z"
   },
   {
    "duration": 69,
    "start_time": "2025-08-26T17:57:25.145Z"
   },
   {
    "duration": 236,
    "start_time": "2025-08-26T17:57:25.215Z"
   },
   {
    "duration": 48,
    "start_time": "2025-08-26T17:57:25.453Z"
   },
   {
    "duration": 201,
    "start_time": "2025-08-26T17:57:25.502Z"
   },
   {
    "duration": 60,
    "start_time": "2025-08-26T17:57:25.704Z"
   },
   {
    "duration": 443,
    "start_time": "2025-08-26T17:57:25.765Z"
   },
   {
    "duration": 13,
    "start_time": "2025-08-26T17:57:26.209Z"
   },
   {
    "duration": 260,
    "start_time": "2025-08-26T17:57:26.224Z"
   },
   {
    "duration": 966,
    "start_time": "2025-08-26T17:57:26.486Z"
   },
   {
    "duration": 19,
    "start_time": "2025-08-26T17:57:27.454Z"
   },
   {
    "duration": 223,
    "start_time": "2025-08-26T17:57:27.474Z"
   },
   {
    "duration": 258,
    "start_time": "2025-08-26T17:57:27.699Z"
   },
   {
    "duration": 178,
    "start_time": "2025-08-26T17:57:27.959Z"
   },
   {
    "duration": 167,
    "start_time": "2025-08-26T17:57:28.138Z"
   },
   {
    "duration": 237,
    "start_time": "2025-08-26T17:57:28.306Z"
   },
   {
    "duration": 121,
    "start_time": "2025-08-26T17:57:28.545Z"
   },
   {
    "duration": 75,
    "start_time": "2025-08-26T18:16:48.133Z"
   },
   {
    "duration": 57,
    "start_time": "2025-08-26T18:17:21.635Z"
   },
   {
    "duration": 4,
    "start_time": "2025-08-26T18:18:05.252Z"
   },
   {
    "duration": 405,
    "start_time": "2025-08-26T18:29:12.458Z"
   },
   {
    "duration": 318,
    "start_time": "2025-08-26T18:29:39.393Z"
   },
   {
    "duration": 146,
    "start_time": "2025-08-26T18:30:12.786Z"
   },
   {
    "duration": 264,
    "start_time": "2025-08-26T18:30:47.943Z"
   },
   {
    "duration": 1149,
    "start_time": "2025-08-26T18:34:36.305Z"
   },
   {
    "duration": 127,
    "start_time": "2025-08-26T18:34:58.401Z"
   },
   {
    "duration": 67,
    "start_time": "2025-08-26T18:49:03.496Z"
   },
   {
    "duration": 32,
    "start_time": "2025-08-26T18:50:43.974Z"
   },
   {
    "duration": 20,
    "start_time": "2025-08-26T18:51:14.651Z"
   },
   {
    "duration": 47,
    "start_time": "2025-08-26T18:51:52.497Z"
   },
   {
    "duration": 8,
    "start_time": "2025-08-26T18:53:57.973Z"
   },
   {
    "duration": 13,
    "start_time": "2025-08-26T18:54:21.794Z"
   },
   {
    "duration": 23,
    "start_time": "2025-08-26T18:54:54.698Z"
   },
   {
    "duration": 7,
    "start_time": "2025-08-26T18:55:07.344Z"
   },
   {
    "duration": 16,
    "start_time": "2025-08-26T18:55:10.359Z"
   },
   {
    "duration": 4,
    "start_time": "2025-08-26T18:57:04.661Z"
   },
   {
    "duration": 27,
    "start_time": "2025-08-26T18:57:09.379Z"
   },
   {
    "duration": 17,
    "start_time": "2025-08-26T18:59:56.478Z"
   },
   {
    "duration": 1262,
    "start_time": "2025-08-26T19:00:07.845Z"
   },
   {
    "duration": 2288,
    "start_time": "2025-08-26T19:00:09.109Z"
   },
   {
    "duration": 107,
    "start_time": "2025-08-26T19:00:11.399Z"
   },
   {
    "duration": 18,
    "start_time": "2025-08-26T19:00:11.508Z"
   },
   {
    "duration": 32,
    "start_time": "2025-08-26T19:00:11.528Z"
   },
   {
    "duration": 11,
    "start_time": "2025-08-26T19:00:11.562Z"
   },
   {
    "duration": 17,
    "start_time": "2025-08-26T19:00:11.574Z"
   },
   {
    "duration": 9,
    "start_time": "2025-08-26T19:00:11.592Z"
   },
   {
    "duration": 767,
    "start_time": "2025-08-26T19:00:11.603Z"
   },
   {
    "duration": 217,
    "start_time": "2025-08-26T19:00:12.372Z"
   },
   {
    "duration": 5,
    "start_time": "2025-08-26T19:00:12.590Z"
   },
   {
    "duration": 8,
    "start_time": "2025-08-26T19:00:12.596Z"
   },
   {
    "duration": 21,
    "start_time": "2025-08-26T19:00:12.606Z"
   },
   {
    "duration": 36,
    "start_time": "2025-08-26T19:00:12.629Z"
   },
   {
    "duration": 518,
    "start_time": "2025-08-26T19:00:12.666Z"
   },
   {
    "duration": 548,
    "start_time": "2025-08-26T19:00:13.186Z"
   },
   {
    "duration": 186,
    "start_time": "2025-08-26T19:00:13.736Z"
   },
   {
    "duration": 183,
    "start_time": "2025-08-26T19:00:13.924Z"
   },
   {
    "duration": 413,
    "start_time": "2025-08-26T19:00:14.109Z"
   },
   {
    "duration": 79,
    "start_time": "2025-08-26T19:00:14.523Z"
   },
   {
    "duration": 285,
    "start_time": "2025-08-26T19:00:14.603Z"
   },
   {
    "duration": 11,
    "start_time": "2025-08-26T19:00:14.890Z"
   },
   {
    "duration": 21,
    "start_time": "2025-08-26T19:00:14.903Z"
   },
   {
    "duration": 6,
    "start_time": "2025-08-26T19:00:14.925Z"
   },
   {
    "duration": 16,
    "start_time": "2025-08-26T19:00:14.952Z"
   },
   {
    "duration": 18,
    "start_time": "2025-08-26T19:00:14.969Z"
   },
   {
    "duration": 105,
    "start_time": "2025-08-26T19:00:14.988Z"
   },
   {
    "duration": 23,
    "start_time": "2025-08-26T19:00:15.098Z"
   },
   {
    "duration": 22,
    "start_time": "2025-08-26T19:00:15.123Z"
   },
   {
    "duration": 27,
    "start_time": "2025-08-26T19:00:15.147Z"
   },
   {
    "duration": 24,
    "start_time": "2025-08-26T19:00:15.176Z"
   },
   {
    "duration": 59,
    "start_time": "2025-08-26T19:00:15.202Z"
   },
   {
    "duration": 107,
    "start_time": "2025-08-26T19:00:15.263Z"
   },
   {
    "duration": 685,
    "start_time": "2025-08-26T19:00:15.372Z"
   },
   {
    "duration": 9,
    "start_time": "2025-08-26T19:00:16.058Z"
   },
   {
    "duration": 227,
    "start_time": "2025-08-26T19:00:16.069Z"
   },
   {
    "duration": 70,
    "start_time": "2025-08-26T19:00:16.298Z"
   },
   {
    "duration": 14,
    "start_time": "2025-08-26T19:00:16.370Z"
   },
   {
    "duration": 610,
    "start_time": "2025-08-26T19:00:16.386Z"
   },
   {
    "duration": 8,
    "start_time": "2025-08-26T19:00:16.997Z"
   },
   {
    "duration": 269,
    "start_time": "2025-08-26T19:00:17.007Z"
   },
   {
    "duration": 348,
    "start_time": "2025-08-26T19:00:17.278Z"
   },
   {
    "duration": 6097,
    "start_time": "2025-08-26T19:00:17.628Z"
   },
   {
    "duration": 35,
    "start_time": "2025-08-26T19:00:23.726Z"
   },
   {
    "duration": 48,
    "start_time": "2025-08-26T19:00:23.762Z"
   },
   {
    "duration": 6279,
    "start_time": "2025-08-26T19:00:23.812Z"
   },
   {
    "duration": 206,
    "start_time": "2025-08-26T19:00:30.093Z"
   },
   {
    "duration": 4,
    "start_time": "2025-08-26T19:00:30.301Z"
   },
   {
    "duration": 18,
    "start_time": "2025-08-26T19:00:30.307Z"
   },
   {
    "duration": 163,
    "start_time": "2025-08-26T19:00:30.327Z"
   },
   {
    "duration": 66,
    "start_time": "2025-08-26T19:00:30.492Z"
   },
   {
    "duration": 188,
    "start_time": "2025-08-26T19:00:30.560Z"
   },
   {
    "duration": 67,
    "start_time": "2025-08-26T19:00:30.750Z"
   },
   {
    "duration": 258,
    "start_time": "2025-08-26T19:00:30.819Z"
   },
   {
    "duration": 48,
    "start_time": "2025-08-26T19:00:31.079Z"
   },
   {
    "duration": 218,
    "start_time": "2025-08-26T19:00:31.129Z"
   },
   {
    "duration": 53,
    "start_time": "2025-08-26T19:00:31.352Z"
   },
   {
    "duration": 490,
    "start_time": "2025-08-26T19:00:31.408Z"
   },
   {
    "duration": 15,
    "start_time": "2025-08-26T19:00:31.901Z"
   },
   {
    "duration": 228,
    "start_time": "2025-08-26T19:00:31.918Z"
   },
   {
    "duration": 989,
    "start_time": "2025-08-26T19:00:32.147Z"
   },
   {
    "duration": 19,
    "start_time": "2025-08-26T19:00:33.138Z"
   },
   {
    "duration": 168,
    "start_time": "2025-08-26T19:00:33.159Z"
   },
   {
    "duration": 254,
    "start_time": "2025-08-26T19:00:33.329Z"
   },
   {
    "duration": 177,
    "start_time": "2025-08-26T19:00:33.585Z"
   },
   {
    "duration": 165,
    "start_time": "2025-08-26T19:00:33.764Z"
   },
   {
    "duration": 246,
    "start_time": "2025-08-26T19:00:33.930Z"
   },
   {
    "duration": 133,
    "start_time": "2025-08-26T19:00:34.177Z"
   },
   {
    "duration": 62,
    "start_time": "2025-08-26T19:00:34.312Z"
   },
   {
    "duration": 34,
    "start_time": "2025-08-26T19:00:34.376Z"
   },
   {
    "duration": 20,
    "start_time": "2025-08-26T19:00:34.411Z"
   },
   {
    "duration": 88,
    "start_time": "2025-08-26T19:00:34.452Z"
   },
   {
    "duration": 65,
    "start_time": "2025-08-26T19:00:34.542Z"
   },
   {
    "duration": 15,
    "start_time": "2025-08-26T19:00:34.609Z"
   },
   {
    "duration": 30,
    "start_time": "2025-08-26T19:00:34.625Z"
   },
   {
    "duration": 8,
    "start_time": "2025-08-26T19:00:45.135Z"
   },
   {
    "duration": 17,
    "start_time": "2025-08-26T19:00:51.931Z"
   },
   {
    "duration": 105,
    "start_time": "2025-08-26T19:03:00.137Z"
   },
   {
    "duration": 21,
    "start_time": "2025-08-26T19:03:09.964Z"
   },
   {
    "duration": 17,
    "start_time": "2025-08-26T19:03:36.323Z"
   },
   {
    "duration": 18,
    "start_time": "2025-08-26T19:03:48.061Z"
   },
   {
    "duration": 24,
    "start_time": "2025-08-26T19:13:25.439Z"
   },
   {
    "duration": 34,
    "start_time": "2025-08-26T19:13:48.626Z"
   },
   {
    "duration": 25,
    "start_time": "2025-08-26T19:14:00.219Z"
   },
   {
    "duration": 14,
    "start_time": "2025-08-26T19:19:19.108Z"
   },
   {
    "duration": 9,
    "start_time": "2025-08-26T19:19:26.040Z"
   },
   {
    "duration": 54,
    "start_time": "2025-08-26T19:28:22.938Z"
   },
   {
    "duration": 86,
    "start_time": "2025-08-26T19:28:49.151Z"
   },
   {
    "duration": 86,
    "start_time": "2025-08-26T19:29:34.208Z"
   },
   {
    "duration": 10,
    "start_time": "2025-08-26T19:29:44.768Z"
   },
   {
    "duration": 7,
    "start_time": "2025-08-26T19:29:50.336Z"
   },
   {
    "duration": 21,
    "start_time": "2025-08-26T19:29:55.499Z"
   },
   {
    "duration": 12,
    "start_time": "2025-08-26T19:30:14.191Z"
   },
   {
    "duration": 1210,
    "start_time": "2025-08-26T19:30:24.003Z"
   },
   {
    "duration": 2034,
    "start_time": "2025-08-26T19:30:25.215Z"
   },
   {
    "duration": 107,
    "start_time": "2025-08-26T19:30:27.251Z"
   },
   {
    "duration": 16,
    "start_time": "2025-08-26T19:30:27.361Z"
   },
   {
    "duration": 18,
    "start_time": "2025-08-26T19:30:27.379Z"
   },
   {
    "duration": 12,
    "start_time": "2025-08-26T19:30:27.398Z"
   },
   {
    "duration": 41,
    "start_time": "2025-08-26T19:30:27.411Z"
   },
   {
    "duration": 9,
    "start_time": "2025-08-26T19:30:27.453Z"
   },
   {
    "duration": 817,
    "start_time": "2025-08-26T19:30:27.464Z"
   },
   {
    "duration": 213,
    "start_time": "2025-08-26T19:30:28.284Z"
   },
   {
    "duration": 4,
    "start_time": "2025-08-26T19:30:28.499Z"
   },
   {
    "duration": 21,
    "start_time": "2025-08-26T19:30:28.505Z"
   },
   {
    "duration": 46,
    "start_time": "2025-08-26T19:30:28.527Z"
   },
   {
    "duration": 94,
    "start_time": "2025-08-26T19:30:28.575Z"
   },
   {
    "duration": 531,
    "start_time": "2025-08-26T19:30:28.671Z"
   },
   {
    "duration": 552,
    "start_time": "2025-08-26T19:30:29.204Z"
   },
   {
    "duration": 183,
    "start_time": "2025-08-26T19:30:29.758Z"
   },
   {
    "duration": 191,
    "start_time": "2025-08-26T19:30:29.943Z"
   },
   {
    "duration": 425,
    "start_time": "2025-08-26T19:30:30.136Z"
   },
   {
    "duration": 70,
    "start_time": "2025-08-26T19:30:30.562Z"
   },
   {
    "duration": 320,
    "start_time": "2025-08-26T19:30:30.634Z"
   },
   {
    "duration": 12,
    "start_time": "2025-08-26T19:30:30.955Z"
   },
   {
    "duration": 21,
    "start_time": "2025-08-26T19:30:30.968Z"
   },
   {
    "duration": 7,
    "start_time": "2025-08-26T19:30:30.990Z"
   },
   {
    "duration": 16,
    "start_time": "2025-08-26T19:30:30.999Z"
   },
   {
    "duration": 50,
    "start_time": "2025-08-26T19:30:31.017Z"
   },
   {
    "duration": 31,
    "start_time": "2025-08-26T19:30:31.069Z"
   },
   {
    "duration": 22,
    "start_time": "2025-08-26T19:30:31.104Z"
   },
   {
    "duration": 44,
    "start_time": "2025-08-26T19:30:31.128Z"
   },
   {
    "duration": 39,
    "start_time": "2025-08-26T19:30:31.175Z"
   },
   {
    "duration": 61,
    "start_time": "2025-08-26T19:30:31.216Z"
   },
   {
    "duration": 47,
    "start_time": "2025-08-26T19:30:31.279Z"
   },
   {
    "duration": 126,
    "start_time": "2025-08-26T19:30:31.328Z"
   },
   {
    "duration": 706,
    "start_time": "2025-08-26T19:30:31.457Z"
   },
   {
    "duration": 10,
    "start_time": "2025-08-26T19:30:32.165Z"
   },
   {
    "duration": 231,
    "start_time": "2025-08-26T19:30:32.176Z"
   },
   {
    "duration": 71,
    "start_time": "2025-08-26T19:30:32.409Z"
   },
   {
    "duration": 14,
    "start_time": "2025-08-26T19:30:32.482Z"
   },
   {
    "duration": 643,
    "start_time": "2025-08-26T19:30:32.498Z"
   },
   {
    "duration": 14,
    "start_time": "2025-08-26T19:30:33.143Z"
   },
   {
    "duration": 200,
    "start_time": "2025-08-26T19:30:33.159Z"
   },
   {
    "duration": 350,
    "start_time": "2025-08-26T19:30:33.361Z"
   },
   {
    "duration": 6310,
    "start_time": "2025-08-26T19:30:33.713Z"
   },
   {
    "duration": 38,
    "start_time": "2025-08-26T19:30:40.025Z"
   },
   {
    "duration": 48,
    "start_time": "2025-08-26T19:30:40.065Z"
   },
   {
    "duration": 6354,
    "start_time": "2025-08-26T19:30:40.115Z"
   },
   {
    "duration": 215,
    "start_time": "2025-08-26T19:30:46.471Z"
   },
   {
    "duration": 4,
    "start_time": "2025-08-26T19:30:46.688Z"
   },
   {
    "duration": 10,
    "start_time": "2025-08-26T19:30:46.693Z"
   },
   {
    "duration": 163,
    "start_time": "2025-08-26T19:30:46.704Z"
   },
   {
    "duration": 56,
    "start_time": "2025-08-26T19:30:46.869Z"
   },
   {
    "duration": 201,
    "start_time": "2025-08-26T19:30:46.927Z"
   },
   {
    "duration": 75,
    "start_time": "2025-08-26T19:30:47.129Z"
   },
   {
    "duration": 249,
    "start_time": "2025-08-26T19:30:47.205Z"
   },
   {
    "duration": 48,
    "start_time": "2025-08-26T19:30:47.456Z"
   },
   {
    "duration": 227,
    "start_time": "2025-08-26T19:30:47.506Z"
   },
   {
    "duration": 59,
    "start_time": "2025-08-26T19:30:47.735Z"
   },
   {
    "duration": 409,
    "start_time": "2025-08-26T19:30:47.796Z"
   },
   {
    "duration": 15,
    "start_time": "2025-08-26T19:30:48.206Z"
   },
   {
    "duration": 218,
    "start_time": "2025-08-26T19:30:48.222Z"
   },
   {
    "duration": 1025,
    "start_time": "2025-08-26T19:30:48.443Z"
   },
   {
    "duration": 19,
    "start_time": "2025-08-26T19:30:49.470Z"
   },
   {
    "duration": 215,
    "start_time": "2025-08-26T19:30:49.491Z"
   },
   {
    "duration": 247,
    "start_time": "2025-08-26T19:30:49.708Z"
   },
   {
    "duration": 178,
    "start_time": "2025-08-26T19:30:49.956Z"
   },
   {
    "duration": 173,
    "start_time": "2025-08-26T19:30:50.135Z"
   },
   {
    "duration": 244,
    "start_time": "2025-08-26T19:30:50.310Z"
   },
   {
    "duration": 127,
    "start_time": "2025-08-26T19:30:50.555Z"
   },
   {
    "duration": 98,
    "start_time": "2025-08-26T19:30:50.683Z"
   },
   {
    "duration": 12,
    "start_time": "2025-08-26T19:30:50.783Z"
   },
   {
    "duration": 14,
    "start_time": "2025-08-26T19:30:50.797Z"
   },
   {
    "duration": 39,
    "start_time": "2025-08-26T19:30:50.813Z"
   },
   {
    "duration": 12,
    "start_time": "2025-08-26T19:30:50.854Z"
   },
   {
    "duration": 44,
    "start_time": "2025-08-26T19:30:50.869Z"
   },
   {
    "duration": 17,
    "start_time": "2025-08-26T19:30:50.915Z"
   },
   {
    "duration": 45,
    "start_time": "2025-08-26T19:30:50.934Z"
   },
   {
    "duration": 18,
    "start_time": "2025-08-26T19:36:15.442Z"
   },
   {
    "duration": 9,
    "start_time": "2025-08-26T19:39:02.162Z"
   },
   {
    "duration": 19,
    "start_time": "2025-08-26T19:44:32.305Z"
   },
   {
    "duration": 18,
    "start_time": "2025-08-26T19:52:47.245Z"
   },
   {
    "duration": 60,
    "start_time": "2025-08-26T20:02:10.784Z"
   },
   {
    "duration": 31,
    "start_time": "2025-08-26T20:03:33.218Z"
   },
   {
    "duration": 19,
    "start_time": "2025-08-26T20:03:59.294Z"
   },
   {
    "duration": 84,
    "start_time": "2025-08-26T20:04:38.635Z"
   },
   {
    "duration": 88,
    "start_time": "2025-08-26T20:05:16.334Z"
   },
   {
    "duration": 11,
    "start_time": "2025-08-26T20:05:41.054Z"
   },
   {
    "duration": 43,
    "start_time": "2025-08-26T20:06:07.998Z"
   },
   {
    "duration": 24,
    "start_time": "2025-08-26T20:08:20.801Z"
   },
   {
    "duration": 25,
    "start_time": "2025-08-26T20:09:59.773Z"
   },
   {
    "duration": 7,
    "start_time": "2025-08-26T20:13:26.951Z"
   },
   {
    "duration": 14,
    "start_time": "2025-08-26T20:16:53.075Z"
   },
   {
    "duration": 13,
    "start_time": "2025-08-26T20:25:46.392Z"
   },
   {
    "duration": 14,
    "start_time": "2025-08-26T20:25:51.568Z"
   },
   {
    "duration": 5,
    "start_time": "2025-08-26T20:27:36.737Z"
   },
   {
    "duration": 60,
    "start_time": "2025-08-26T20:27:39.625Z"
   },
   {
    "duration": 6,
    "start_time": "2025-08-26T20:27:41.359Z"
   },
   {
    "duration": 12,
    "start_time": "2025-08-26T20:28:03.170Z"
   },
   {
    "duration": 33,
    "start_time": "2025-08-26T20:28:11.329Z"
   },
   {
    "duration": 19,
    "start_time": "2025-08-26T20:28:13.787Z"
   },
   {
    "duration": 44,
    "start_time": "2025-08-26T20:28:16.064Z"
   },
   {
    "duration": 23,
    "start_time": "2025-08-26T20:28:19.238Z"
   },
   {
    "duration": 25,
    "start_time": "2025-08-26T20:28:21.519Z"
   },
   {
    "duration": 8,
    "start_time": "2025-08-26T20:28:23.826Z"
   },
   {
    "duration": 31,
    "start_time": "2025-08-26T20:28:29.799Z"
   },
   {
    "duration": 1225,
    "start_time": "2025-08-26T21:12:42.158Z"
   },
   {
    "duration": 2089,
    "start_time": "2025-08-26T21:12:43.385Z"
   },
   {
    "duration": 101,
    "start_time": "2025-08-26T21:12:45.476Z"
   },
   {
    "duration": 17,
    "start_time": "2025-08-26T21:12:45.579Z"
   },
   {
    "duration": 20,
    "start_time": "2025-08-26T21:12:45.598Z"
   },
   {
    "duration": 34,
    "start_time": "2025-08-26T21:12:45.619Z"
   },
   {
    "duration": 10,
    "start_time": "2025-08-26T21:12:45.655Z"
   },
   {
    "duration": 13,
    "start_time": "2025-08-26T21:12:45.667Z"
   },
   {
    "duration": 781,
    "start_time": "2025-08-26T21:12:45.681Z"
   },
   {
    "duration": 212,
    "start_time": "2025-08-26T21:12:46.465Z"
   },
   {
    "duration": 4,
    "start_time": "2025-08-26T21:12:46.679Z"
   },
   {
    "duration": 18,
    "start_time": "2025-08-26T21:12:46.684Z"
   },
   {
    "duration": 19,
    "start_time": "2025-08-26T21:12:46.703Z"
   },
   {
    "duration": 32,
    "start_time": "2025-08-26T21:12:46.723Z"
   },
   {
    "duration": 522,
    "start_time": "2025-08-26T21:12:46.756Z"
   },
   {
    "duration": 555,
    "start_time": "2025-08-26T21:12:47.280Z"
   },
   {
    "duration": 188,
    "start_time": "2025-08-26T21:12:47.836Z"
   },
   {
    "duration": 181,
    "start_time": "2025-08-26T21:12:48.026Z"
   },
   {
    "duration": 412,
    "start_time": "2025-08-26T21:12:48.209Z"
   },
   {
    "duration": 83,
    "start_time": "2025-08-26T21:12:48.623Z"
   },
   {
    "duration": 323,
    "start_time": "2025-08-26T21:12:48.708Z"
   },
   {
    "duration": 21,
    "start_time": "2025-08-26T21:12:49.033Z"
   },
   {
    "duration": 30,
    "start_time": "2025-08-26T21:12:49.056Z"
   },
   {
    "duration": 12,
    "start_time": "2025-08-26T21:12:49.088Z"
   },
   {
    "duration": 18,
    "start_time": "2025-08-26T21:12:49.101Z"
   },
   {
    "duration": 25,
    "start_time": "2025-08-26T21:12:49.121Z"
   },
   {
    "duration": 24,
    "start_time": "2025-08-26T21:12:49.152Z"
   },
   {
    "duration": 53,
    "start_time": "2025-08-26T21:12:49.181Z"
   },
   {
    "duration": 23,
    "start_time": "2025-08-26T21:12:49.236Z"
   },
   {
    "duration": 26,
    "start_time": "2025-08-26T21:12:49.260Z"
   },
   {
    "duration": 23,
    "start_time": "2025-08-26T21:12:49.288Z"
   },
   {
    "duration": 54,
    "start_time": "2025-08-26T21:12:49.313Z"
   },
   {
    "duration": 103,
    "start_time": "2025-08-26T21:12:49.369Z"
   },
   {
    "duration": 656,
    "start_time": "2025-08-26T21:12:49.474Z"
   },
   {
    "duration": 8,
    "start_time": "2025-08-26T21:12:50.132Z"
   },
   {
    "duration": 210,
    "start_time": "2025-08-26T21:12:50.152Z"
   },
   {
    "duration": 68,
    "start_time": "2025-08-26T21:12:50.363Z"
   },
   {
    "duration": 28,
    "start_time": "2025-08-26T21:12:50.433Z"
   },
   {
    "duration": 592,
    "start_time": "2025-08-26T21:12:50.462Z"
   },
   {
    "duration": 8,
    "start_time": "2025-08-26T21:12:51.055Z"
   },
   {
    "duration": 192,
    "start_time": "2025-08-26T21:12:51.064Z"
   },
   {
    "duration": 348,
    "start_time": "2025-08-26T21:12:51.257Z"
   },
   {
    "duration": 6209,
    "start_time": "2025-08-26T21:12:51.606Z"
   },
   {
    "duration": 39,
    "start_time": "2025-08-26T21:12:57.817Z"
   },
   {
    "duration": 47,
    "start_time": "2025-08-26T21:12:57.857Z"
   },
   {
    "duration": 6235,
    "start_time": "2025-08-26T21:12:57.906Z"
   },
   {
    "duration": 212,
    "start_time": "2025-08-26T21:13:04.142Z"
   },
   {
    "duration": 3,
    "start_time": "2025-08-26T21:13:04.356Z"
   },
   {
    "duration": 11,
    "start_time": "2025-08-26T21:13:04.361Z"
   },
   {
    "duration": 156,
    "start_time": "2025-08-26T21:13:04.373Z"
   },
   {
    "duration": 62,
    "start_time": "2025-08-26T21:13:04.531Z"
   },
   {
    "duration": 184,
    "start_time": "2025-08-26T21:13:04.595Z"
   },
   {
    "duration": 76,
    "start_time": "2025-08-26T21:13:04.781Z"
   },
   {
    "duration": 229,
    "start_time": "2025-08-26T21:13:04.859Z"
   },
   {
    "duration": 48,
    "start_time": "2025-08-26T21:13:05.090Z"
   },
   {
    "duration": 191,
    "start_time": "2025-08-26T21:13:05.152Z"
   },
   {
    "duration": 54,
    "start_time": "2025-08-26T21:13:05.345Z"
   },
   {
    "duration": 373,
    "start_time": "2025-08-26T21:13:05.401Z"
   },
   {
    "duration": 13,
    "start_time": "2025-08-26T21:13:05.775Z"
   },
   {
    "duration": 230,
    "start_time": "2025-08-26T21:13:05.789Z"
   },
   {
    "duration": 905,
    "start_time": "2025-08-26T21:13:06.020Z"
   },
   {
    "duration": 22,
    "start_time": "2025-08-26T21:13:06.926Z"
   },
   {
    "duration": 172,
    "start_time": "2025-08-26T21:13:06.949Z"
   },
   {
    "duration": 264,
    "start_time": "2025-08-26T21:13:07.122Z"
   },
   {
    "duration": 172,
    "start_time": "2025-08-26T21:13:07.388Z"
   },
   {
    "duration": 169,
    "start_time": "2025-08-26T21:13:07.562Z"
   },
   {
    "duration": 245,
    "start_time": "2025-08-26T21:13:07.733Z"
   },
   {
    "duration": 131,
    "start_time": "2025-08-26T21:13:07.980Z"
   },
   {
    "duration": 93,
    "start_time": "2025-08-26T21:13:08.113Z"
   },
   {
    "duration": 10,
    "start_time": "2025-08-26T21:13:08.208Z"
   },
   {
    "duration": 9,
    "start_time": "2025-08-26T21:13:08.220Z"
   },
   {
    "duration": 84,
    "start_time": "2025-08-26T21:13:08.231Z"
   },
   {
    "duration": 35,
    "start_time": "2025-08-26T21:13:08.317Z"
   },
   {
    "duration": 8,
    "start_time": "2025-08-26T21:13:08.354Z"
   },
   {
    "duration": 17,
    "start_time": "2025-08-26T21:13:08.364Z"
   },
   {
    "duration": 76,
    "start_time": "2025-08-26T21:13:08.383Z"
   },
   {
    "duration": 4,
    "start_time": "2025-08-26T21:13:08.460Z"
   },
   {
    "duration": 12,
    "start_time": "2025-08-26T21:13:08.466Z"
   },
   {
    "duration": 33,
    "start_time": "2025-08-26T21:13:08.479Z"
   },
   {
    "duration": 43,
    "start_time": "2025-08-26T21:13:08.514Z"
   },
   {
    "duration": 42,
    "start_time": "2025-08-26T21:13:08.559Z"
   },
   {
    "duration": 21,
    "start_time": "2025-08-26T21:13:08.606Z"
   },
   {
    "duration": 46,
    "start_time": "2025-08-26T21:13:08.629Z"
   },
   {
    "duration": 7,
    "start_time": "2025-08-26T21:13:08.677Z"
   },
   {
    "duration": 39,
    "start_time": "2025-08-26T21:13:08.686Z"
   },
   {
    "duration": 3,
    "start_time": "2025-08-26T21:13:40.332Z"
   },
   {
    "duration": 1380,
    "start_time": "2025-08-27T18:07:42.814Z"
   },
   {
    "duration": 1735,
    "start_time": "2025-08-27T18:07:44.196Z"
   },
   {
    "duration": 103,
    "start_time": "2025-08-27T18:07:45.932Z"
   },
   {
    "duration": 23,
    "start_time": "2025-08-27T18:07:46.038Z"
   },
   {
    "duration": 21,
    "start_time": "2025-08-27T18:07:46.063Z"
   },
   {
    "duration": 13,
    "start_time": "2025-08-27T18:07:46.087Z"
   },
   {
    "duration": 40,
    "start_time": "2025-08-27T18:07:46.101Z"
   },
   {
    "duration": 21,
    "start_time": "2025-08-27T18:07:46.143Z"
   },
   {
    "duration": 718,
    "start_time": "2025-08-27T18:07:46.166Z"
   },
   {
    "duration": 206,
    "start_time": "2025-08-27T18:07:46.887Z"
   },
   {
    "duration": 6,
    "start_time": "2025-08-27T18:07:47.095Z"
   },
   {
    "duration": 10,
    "start_time": "2025-08-27T18:07:47.102Z"
   },
   {
    "duration": 39,
    "start_time": "2025-08-27T18:07:47.113Z"
   },
   {
    "duration": 21,
    "start_time": "2025-08-27T18:07:47.154Z"
   },
   {
    "duration": 498,
    "start_time": "2025-08-27T18:07:47.176Z"
   },
   {
    "duration": 531,
    "start_time": "2025-08-27T18:07:47.676Z"
   },
   {
    "duration": 185,
    "start_time": "2025-08-27T18:07:48.209Z"
   },
   {
    "duration": 176,
    "start_time": "2025-08-27T18:07:48.395Z"
   },
   {
    "duration": 418,
    "start_time": "2025-08-27T18:07:48.573Z"
   },
   {
    "duration": 89,
    "start_time": "2025-08-27T18:07:48.993Z"
   },
   {
    "duration": 288,
    "start_time": "2025-08-27T18:07:49.083Z"
   },
   {
    "duration": 11,
    "start_time": "2025-08-27T18:07:49.372Z"
   },
   {
    "duration": 35,
    "start_time": "2025-08-27T18:07:49.385Z"
   },
   {
    "duration": 24,
    "start_time": "2025-08-27T18:07:49.422Z"
   },
   {
    "duration": 39,
    "start_time": "2025-08-27T18:07:49.448Z"
   },
   {
    "duration": 43,
    "start_time": "2025-08-27T18:07:49.489Z"
   },
   {
    "duration": 28,
    "start_time": "2025-08-27T18:07:49.533Z"
   },
   {
    "duration": 21,
    "start_time": "2025-08-27T18:07:49.566Z"
   },
   {
    "duration": 20,
    "start_time": "2025-08-27T18:07:49.589Z"
   },
   {
    "duration": 47,
    "start_time": "2025-08-27T18:07:49.611Z"
   },
   {
    "duration": 22,
    "start_time": "2025-08-27T18:07:49.660Z"
   },
   {
    "duration": 37,
    "start_time": "2025-08-27T18:07:49.683Z"
   },
   {
    "duration": 115,
    "start_time": "2025-08-27T18:07:49.721Z"
   },
   {
    "duration": 646,
    "start_time": "2025-08-27T18:07:49.838Z"
   },
   {
    "duration": 8,
    "start_time": "2025-08-27T18:07:50.486Z"
   },
   {
    "duration": 223,
    "start_time": "2025-08-27T18:07:50.496Z"
   },
   {
    "duration": 71,
    "start_time": "2025-08-27T18:07:50.722Z"
   },
   {
    "duration": 15,
    "start_time": "2025-08-27T18:07:50.795Z"
   },
   {
    "duration": 617,
    "start_time": "2025-08-27T18:07:50.812Z"
   },
   {
    "duration": 8,
    "start_time": "2025-08-27T18:07:51.430Z"
   },
   {
    "duration": 188,
    "start_time": "2025-08-27T18:07:51.439Z"
   },
   {
    "duration": 343,
    "start_time": "2025-08-27T18:07:51.629Z"
   },
   {
    "duration": 6221,
    "start_time": "2025-08-27T18:07:51.973Z"
   },
   {
    "duration": 25,
    "start_time": "2025-08-27T18:07:58.196Z"
   },
   {
    "duration": 58,
    "start_time": "2025-08-27T18:07:58.223Z"
   },
   {
    "duration": 7422,
    "start_time": "2025-08-27T18:07:58.283Z"
   },
   {
    "duration": 202,
    "start_time": "2025-08-27T18:08:05.706Z"
   },
   {
    "duration": 4,
    "start_time": "2025-08-27T18:08:05.910Z"
   },
   {
    "duration": 12,
    "start_time": "2025-08-27T18:08:05.915Z"
   },
   {
    "duration": 159,
    "start_time": "2025-08-27T18:08:05.929Z"
   },
   {
    "duration": 62,
    "start_time": "2025-08-27T18:08:06.090Z"
   },
   {
    "duration": 181,
    "start_time": "2025-08-27T18:08:06.154Z"
   },
   {
    "duration": 70,
    "start_time": "2025-08-27T18:08:06.336Z"
   },
   {
    "duration": 236,
    "start_time": "2025-08-27T18:08:06.408Z"
   },
   {
    "duration": 48,
    "start_time": "2025-08-27T18:08:06.646Z"
   },
   {
    "duration": 209,
    "start_time": "2025-08-27T18:08:06.696Z"
   },
   {
    "duration": 60,
    "start_time": "2025-08-27T18:08:06.906Z"
   },
   {
    "duration": 449,
    "start_time": "2025-08-27T18:08:06.968Z"
   },
   {
    "duration": 15,
    "start_time": "2025-08-27T18:08:07.418Z"
   },
   {
    "duration": 211,
    "start_time": "2025-08-27T18:08:07.435Z"
   },
   {
    "duration": 957,
    "start_time": "2025-08-27T18:08:07.647Z"
   },
   {
    "duration": 22,
    "start_time": "2025-08-27T18:08:08.606Z"
   },
   {
    "duration": 223,
    "start_time": "2025-08-27T18:08:08.630Z"
   },
   {
    "duration": 268,
    "start_time": "2025-08-27T18:08:08.855Z"
   },
   {
    "duration": 170,
    "start_time": "2025-08-27T18:08:09.125Z"
   },
   {
    "duration": 166,
    "start_time": "2025-08-27T18:08:09.297Z"
   },
   {
    "duration": 242,
    "start_time": "2025-08-27T18:08:09.465Z"
   },
   {
    "duration": 122,
    "start_time": "2025-08-27T18:08:09.709Z"
   },
   {
    "duration": 86,
    "start_time": "2025-08-27T18:08:09.832Z"
   },
   {
    "duration": 10,
    "start_time": "2025-08-27T18:08:09.920Z"
   },
   {
    "duration": 23,
    "start_time": "2025-08-27T18:08:09.932Z"
   },
   {
    "duration": 22,
    "start_time": "2025-08-27T18:08:09.957Z"
   },
   {
    "duration": 9,
    "start_time": "2025-08-27T18:08:09.981Z"
   },
   {
    "duration": 7,
    "start_time": "2025-08-27T18:08:09.992Z"
   },
   {
    "duration": 19,
    "start_time": "2025-08-27T18:08:10.000Z"
   },
   {
    "duration": 81,
    "start_time": "2025-08-27T18:08:10.021Z"
   },
   {
    "duration": 5,
    "start_time": "2025-08-27T18:08:10.104Z"
   },
   {
    "duration": 17,
    "start_time": "2025-08-27T18:08:10.110Z"
   },
   {
    "duration": 54,
    "start_time": "2025-08-27T18:08:10.128Z"
   },
   {
    "duration": 21,
    "start_time": "2025-08-27T18:08:10.184Z"
   },
   {
    "duration": 62,
    "start_time": "2025-08-27T18:08:10.207Z"
   },
   {
    "duration": 22,
    "start_time": "2025-08-27T18:08:10.274Z"
   },
   {
    "duration": 24,
    "start_time": "2025-08-27T18:08:10.297Z"
   },
   {
    "duration": 29,
    "start_time": "2025-08-27T18:08:10.323Z"
   },
   {
    "duration": 30,
    "start_time": "2025-08-27T18:08:10.354Z"
   },
   {
    "duration": 131,
    "start_time": "2025-08-27T18:15:27.655Z"
   },
   {
    "duration": 120,
    "start_time": "2025-08-27T18:15:49.525Z"
   },
   {
    "duration": 126,
    "start_time": "2025-08-27T18:18:09.553Z"
   },
   {
    "duration": 1163,
    "start_time": "2025-08-27T18:18:17.506Z"
   },
   {
    "duration": 1904,
    "start_time": "2025-08-27T18:18:18.671Z"
   },
   {
    "duration": 102,
    "start_time": "2025-08-27T18:18:20.576Z"
   },
   {
    "duration": 18,
    "start_time": "2025-08-27T18:18:20.680Z"
   },
   {
    "duration": 27,
    "start_time": "2025-08-27T18:18:20.700Z"
   },
   {
    "duration": 11,
    "start_time": "2025-08-27T18:18:20.730Z"
   },
   {
    "duration": 41,
    "start_time": "2025-08-27T18:18:20.752Z"
   },
   {
    "duration": 9,
    "start_time": "2025-08-27T18:18:20.795Z"
   },
   {
    "duration": 716,
    "start_time": "2025-08-27T18:18:20.806Z"
   },
   {
    "duration": 228,
    "start_time": "2025-08-27T18:18:21.525Z"
   },
   {
    "duration": 7,
    "start_time": "2025-08-27T18:18:21.755Z"
   },
   {
    "duration": 9,
    "start_time": "2025-08-27T18:18:21.764Z"
   },
   {
    "duration": 26,
    "start_time": "2025-08-27T18:18:21.775Z"
   },
   {
    "duration": 53,
    "start_time": "2025-08-27T18:18:21.802Z"
   },
   {
    "duration": 518,
    "start_time": "2025-08-27T18:18:21.858Z"
   },
   {
    "duration": 550,
    "start_time": "2025-08-27T18:18:22.377Z"
   },
   {
    "duration": 181,
    "start_time": "2025-08-27T18:18:22.928Z"
   },
   {
    "duration": 187,
    "start_time": "2025-08-27T18:18:23.111Z"
   },
   {
    "duration": 207,
    "start_time": "2025-08-27T18:18:23.299Z"
   },
   {
    "duration": 405,
    "start_time": "2025-08-27T18:18:23.508Z"
   },
   {
    "duration": 75,
    "start_time": "2025-08-27T18:18:23.914Z"
   },
   {
    "duration": 282,
    "start_time": "2025-08-27T18:18:23.991Z"
   },
   {
    "duration": 11,
    "start_time": "2025-08-27T18:18:24.275Z"
   },
   {
    "duration": 19,
    "start_time": "2025-08-27T18:18:24.287Z"
   },
   {
    "duration": 6,
    "start_time": "2025-08-27T18:18:24.307Z"
   },
   {
    "duration": 41,
    "start_time": "2025-08-27T18:18:24.315Z"
   },
   {
    "duration": 18,
    "start_time": "2025-08-27T18:18:24.357Z"
   },
   {
    "duration": 25,
    "start_time": "2025-08-27T18:18:24.379Z"
   },
   {
    "duration": 21,
    "start_time": "2025-08-27T18:18:24.405Z"
   },
   {
    "duration": 21,
    "start_time": "2025-08-27T18:18:24.451Z"
   },
   {
    "duration": 27,
    "start_time": "2025-08-27T18:18:24.473Z"
   },
   {
    "duration": 73,
    "start_time": "2025-08-27T18:18:24.501Z"
   },
   {
    "duration": 59,
    "start_time": "2025-08-27T18:18:24.575Z"
   },
   {
    "duration": 93,
    "start_time": "2025-08-27T18:18:24.635Z"
   },
   {
    "duration": 688,
    "start_time": "2025-08-27T18:18:24.729Z"
   },
   {
    "duration": 8,
    "start_time": "2025-08-27T18:18:25.419Z"
   },
   {
    "duration": 205,
    "start_time": "2025-08-27T18:18:25.429Z"
   },
   {
    "duration": 74,
    "start_time": "2025-08-27T18:18:25.636Z"
   },
   {
    "duration": 15,
    "start_time": "2025-08-27T18:18:25.712Z"
   },
   {
    "duration": 620,
    "start_time": "2025-08-27T18:18:25.729Z"
   },
   {
    "duration": 7,
    "start_time": "2025-08-27T18:18:26.351Z"
   },
   {
    "duration": 208,
    "start_time": "2025-08-27T18:18:26.360Z"
   },
   {
    "duration": 320,
    "start_time": "2025-08-27T18:18:26.570Z"
   },
   {
    "duration": 6162,
    "start_time": "2025-08-27T18:18:26.892Z"
   },
   {
    "duration": 26,
    "start_time": "2025-08-27T18:18:33.055Z"
   },
   {
    "duration": 49,
    "start_time": "2025-08-27T18:18:33.082Z"
   },
   {
    "duration": 6301,
    "start_time": "2025-08-27T18:18:33.151Z"
   },
   {
    "duration": 200,
    "start_time": "2025-08-27T18:18:39.454Z"
   },
   {
    "duration": 3,
    "start_time": "2025-08-27T18:18:39.656Z"
   },
   {
    "duration": 8,
    "start_time": "2025-08-27T18:18:39.660Z"
   },
   {
    "duration": 163,
    "start_time": "2025-08-27T18:18:39.669Z"
   },
   {
    "duration": 60,
    "start_time": "2025-08-27T18:18:39.833Z"
   },
   {
    "duration": 171,
    "start_time": "2025-08-27T18:18:39.895Z"
   },
   {
    "duration": 63,
    "start_time": "2025-08-27T18:18:40.068Z"
   },
   {
    "duration": 240,
    "start_time": "2025-08-27T18:18:40.133Z"
   },
   {
    "duration": 50,
    "start_time": "2025-08-27T18:18:40.375Z"
   },
   {
    "duration": 201,
    "start_time": "2025-08-27T18:18:40.427Z"
   },
   {
    "duration": 61,
    "start_time": "2025-08-27T18:18:40.630Z"
   },
   {
    "duration": 391,
    "start_time": "2025-08-27T18:18:40.693Z"
   },
   {
    "duration": 13,
    "start_time": "2025-08-27T18:18:41.086Z"
   },
   {
    "duration": 213,
    "start_time": "2025-08-27T18:18:41.100Z"
   },
   {
    "duration": 954,
    "start_time": "2025-08-27T18:18:41.314Z"
   },
   {
    "duration": 18,
    "start_time": "2025-08-27T18:18:42.270Z"
   },
   {
    "duration": 155,
    "start_time": "2025-08-27T18:18:42.289Z"
   },
   {
    "duration": 249,
    "start_time": "2025-08-27T18:18:42.445Z"
   },
   {
    "duration": 190,
    "start_time": "2025-08-27T18:18:42.696Z"
   },
   {
    "duration": 169,
    "start_time": "2025-08-27T18:18:42.888Z"
   },
   {
    "duration": 237,
    "start_time": "2025-08-27T18:18:43.059Z"
   },
   {
    "duration": 126,
    "start_time": "2025-08-27T18:18:43.298Z"
   },
   {
    "duration": 91,
    "start_time": "2025-08-27T18:18:43.426Z"
   },
   {
    "duration": 10,
    "start_time": "2025-08-27T18:18:43.518Z"
   },
   {
    "duration": 27,
    "start_time": "2025-08-27T18:18:43.529Z"
   },
   {
    "duration": 19,
    "start_time": "2025-08-27T18:18:43.557Z"
   },
   {
    "duration": 10,
    "start_time": "2025-08-27T18:18:43.578Z"
   },
   {
    "duration": 9,
    "start_time": "2025-08-27T18:18:43.589Z"
   },
   {
    "duration": 19,
    "start_time": "2025-08-27T18:18:43.599Z"
   },
   {
    "duration": 88,
    "start_time": "2025-08-27T18:18:43.620Z"
   },
   {
    "duration": 5,
    "start_time": "2025-08-27T18:18:43.710Z"
   },
   {
    "duration": 20,
    "start_time": "2025-08-27T18:18:43.717Z"
   },
   {
    "duration": 50,
    "start_time": "2025-08-27T18:18:43.752Z"
   },
   {
    "duration": 21,
    "start_time": "2025-08-27T18:18:43.804Z"
   },
   {
    "duration": 53,
    "start_time": "2025-08-27T18:18:43.851Z"
   },
   {
    "duration": 23,
    "start_time": "2025-08-27T18:18:43.906Z"
   },
   {
    "duration": 41,
    "start_time": "2025-08-27T18:18:43.931Z"
   },
   {
    "duration": 8,
    "start_time": "2025-08-27T18:18:43.974Z"
   },
   {
    "duration": 32,
    "start_time": "2025-08-27T18:18:43.983Z"
   },
   {
    "duration": 47,
    "start_time": "2025-08-27T18:30:41.481Z"
   },
   {
    "duration": 8,
    "start_time": "2025-08-27T18:31:47.442Z"
   },
   {
    "duration": 106,
    "start_time": "2025-08-27T18:42:09.047Z"
   },
   {
    "duration": 537,
    "start_time": "2025-08-27T18:42:16.541Z"
   },
   {
    "duration": 13,
    "start_time": "2025-08-27T18:46:33.575Z"
   },
   {
    "duration": 518,
    "start_time": "2025-08-27T18:46:46.691Z"
   },
   {
    "duration": 9,
    "start_time": "2025-08-27T18:46:50.188Z"
   },
   {
    "duration": 176,
    "start_time": "2025-08-27T18:47:13.645Z"
   },
   {
    "duration": 133,
    "start_time": "2025-08-27T18:47:18.713Z"
   },
   {
    "duration": 6284,
    "start_time": "2025-08-27T18:47:23.140Z"
   },
   {
    "duration": 38,
    "start_time": "2025-08-27T18:47:29.426Z"
   },
   {
    "duration": 38,
    "start_time": "2025-08-27T18:47:43.254Z"
   },
   {
    "duration": 47,
    "start_time": "2025-08-27T18:47:46.793Z"
   },
   {
    "duration": 6437,
    "start_time": "2025-08-27T18:47:49.959Z"
   },
   {
    "duration": 190,
    "start_time": "2025-08-27T18:48:13.366Z"
   },
   {
    "duration": 4,
    "start_time": "2025-08-27T18:48:21.077Z"
   },
   {
    "duration": 7,
    "start_time": "2025-08-27T18:48:44.012Z"
   },
   {
    "duration": 141,
    "start_time": "2025-08-27T18:48:47.385Z"
   },
   {
    "duration": 54,
    "start_time": "2025-08-27T18:49:00.516Z"
   },
   {
    "duration": 181,
    "start_time": "2025-08-27T18:49:03.252Z"
   },
   {
    "duration": 63,
    "start_time": "2025-08-27T18:49:56.430Z"
   },
   {
    "duration": 241,
    "start_time": "2025-08-27T18:49:59.089Z"
   },
   {
    "duration": 19,
    "start_time": "2025-08-27T18:52:27.319Z"
   },
   {
    "duration": 16,
    "start_time": "2025-08-27T18:52:55.597Z"
   },
   {
    "duration": 50,
    "start_time": "2025-08-27T18:54:36.884Z"
   },
   {
    "duration": 354,
    "start_time": "2025-08-27T18:54:46.427Z"
   },
   {
    "duration": 69,
    "start_time": "2025-08-27T18:58:30.268Z"
   },
   {
    "duration": 130,
    "start_time": "2025-08-27T18:59:29.470Z"
   },
   {
    "duration": 77,
    "start_time": "2025-08-27T19:00:20.696Z"
   },
   {
    "duration": 73,
    "start_time": "2025-08-27T19:00:29.854Z"
   },
   {
    "duration": 1285,
    "start_time": "2025-08-27T19:00:39.911Z"
   },
   {
    "duration": 226,
    "start_time": "2025-08-27T19:03:14.159Z"
   },
   {
    "duration": 219,
    "start_time": "2025-08-27T19:03:26.903Z"
   },
   {
    "duration": 234,
    "start_time": "2025-08-27T19:03:32.517Z"
   },
   {
    "duration": 345,
    "start_time": "2025-08-27T19:10:46.107Z"
   },
   {
    "duration": 13,
    "start_time": "2025-08-27T19:11:50.308Z"
   },
   {
    "duration": 345,
    "start_time": "2025-08-27T19:12:04.780Z"
   },
   {
    "duration": 363,
    "start_time": "2025-08-27T19:12:31.202Z"
   },
   {
    "duration": 348,
    "start_time": "2025-08-27T19:12:45.589Z"
   },
   {
    "duration": 333,
    "start_time": "2025-08-27T19:14:18.208Z"
   },
   {
    "duration": 7,
    "start_time": "2025-08-27T19:19:28.455Z"
   },
   {
    "duration": 198,
    "start_time": "2025-08-27T19:20:17.344Z"
   },
   {
    "duration": 198,
    "start_time": "2025-08-27T19:20:30.977Z"
   },
   {
    "duration": 47,
    "start_time": "2025-08-27T19:23:54.365Z"
   },
   {
    "duration": 179,
    "start_time": "2025-08-27T19:24:06.988Z"
   },
   {
    "duration": 171,
    "start_time": "2025-08-27T19:30:36.680Z"
   },
   {
    "duration": 181,
    "start_time": "2025-08-27T19:30:46.310Z"
   },
   {
    "duration": 194,
    "start_time": "2025-08-27T19:30:54.960Z"
   },
   {
    "duration": 168,
    "start_time": "2025-08-27T19:31:03.618Z"
   },
   {
    "duration": 78,
    "start_time": "2025-08-27T19:35:02.230Z"
   },
   {
    "duration": 1336,
    "start_time": "2025-08-27T19:35:12.663Z"
   },
   {
    "duration": 165,
    "start_time": "2025-08-27T19:36:07.459Z"
   },
   {
    "duration": 163,
    "start_time": "2025-08-27T19:36:28.788Z"
   },
   {
    "duration": 15,
    "start_time": "2025-08-27T19:39:19.695Z"
   },
   {
    "duration": 17,
    "start_time": "2025-08-27T19:39:39.172Z"
   },
   {
    "duration": 15,
    "start_time": "2025-08-27T19:40:21.819Z"
   },
   {
    "duration": 16,
    "start_time": "2025-08-27T19:40:49.159Z"
   },
   {
    "duration": 17,
    "start_time": "2025-08-27T19:41:05.665Z"
   },
   {
    "duration": 171,
    "start_time": "2025-08-27T19:42:32.453Z"
   },
   {
    "duration": 160,
    "start_time": "2025-08-27T19:43:13.756Z"
   },
   {
    "duration": 15,
    "start_time": "2025-08-27T19:44:25.215Z"
   },
   {
    "duration": 16,
    "start_time": "2025-08-27T19:44:34.124Z"
   },
   {
    "duration": 75,
    "start_time": "2025-08-27T19:44:57.439Z"
   },
   {
    "duration": 16,
    "start_time": "2025-08-27T19:45:11.309Z"
   },
   {
    "duration": 15,
    "start_time": "2025-08-27T19:45:27.092Z"
   },
   {
    "duration": 168,
    "start_time": "2025-08-27T19:45:38.555Z"
   },
   {
    "duration": 13,
    "start_time": "2025-08-27T19:46:23.904Z"
   },
   {
    "duration": 207,
    "start_time": "2025-08-27T19:46:43.659Z"
   },
   {
    "duration": 853,
    "start_time": "2025-08-27T19:46:47.828Z"
   },
   {
    "duration": 837,
    "start_time": "2025-08-27T19:47:19.153Z"
   },
   {
    "duration": 824,
    "start_time": "2025-08-27T19:47:28.961Z"
   },
   {
    "duration": 19,
    "start_time": "2025-08-27T19:51:47.646Z"
   },
   {
    "duration": 174,
    "start_time": "2025-08-27T19:51:53.152Z"
   },
   {
    "duration": 149,
    "start_time": "2025-08-27T19:51:55.884Z"
   },
   {
    "duration": 156,
    "start_time": "2025-08-27T19:51:58.473Z"
   },
   {
    "duration": 157,
    "start_time": "2025-08-27T19:52:08.160Z"
   },
   {
    "duration": 244,
    "start_time": "2025-08-27T19:57:29.980Z"
   },
   {
    "duration": 118,
    "start_time": "2025-08-27T19:59:14.104Z"
   },
   {
    "duration": 86,
    "start_time": "2025-08-27T20:02:37.491Z"
   },
   {
    "duration": 10,
    "start_time": "2025-08-27T20:02:41.013Z"
   },
   {
    "duration": 7,
    "start_time": "2025-08-27T20:02:43.870Z"
   },
   {
    "duration": 21,
    "start_time": "2025-08-27T20:02:46.498Z"
   },
   {
    "duration": 10,
    "start_time": "2025-08-27T20:03:03.655Z"
   },
   {
    "duration": 8,
    "start_time": "2025-08-27T20:03:13.632Z"
   },
   {
    "duration": 19,
    "start_time": "2025-08-27T20:03:19.828Z"
   },
   {
    "duration": 60,
    "start_time": "2025-08-27T20:03:29.926Z"
   },
   {
    "duration": 5,
    "start_time": "2025-08-27T20:03:34.022Z"
   },
   {
    "duration": 11,
    "start_time": "2025-08-27T20:03:41.996Z"
   },
   {
    "duration": 35,
    "start_time": "2025-08-27T20:03:45.392Z"
   },
   {
    "duration": 19,
    "start_time": "2025-08-27T20:03:48.344Z"
   },
   {
    "duration": 43,
    "start_time": "2025-08-27T20:03:50.926Z"
   },
   {
    "duration": 21,
    "start_time": "2025-08-27T20:03:54.444Z"
   },
   {
    "duration": 24,
    "start_time": "2025-08-27T20:03:59.824Z"
   },
   {
    "duration": 8,
    "start_time": "2025-08-27T20:04:18.186Z"
   },
   {
    "duration": 33,
    "start_time": "2025-08-27T20:04:51.427Z"
   },
   {
    "duration": 1174,
    "start_time": "2025-08-27T21:29:56.216Z"
   },
   {
    "duration": 1746,
    "start_time": "2025-08-27T21:29:57.392Z"
   },
   {
    "duration": 96,
    "start_time": "2025-08-27T21:29:59.140Z"
   },
   {
    "duration": 16,
    "start_time": "2025-08-27T21:29:59.237Z"
   },
   {
    "duration": 25,
    "start_time": "2025-08-27T21:29:59.255Z"
   },
   {
    "duration": 10,
    "start_time": "2025-08-27T21:29:59.282Z"
   },
   {
    "duration": 19,
    "start_time": "2025-08-27T21:29:59.294Z"
   },
   {
    "duration": 11,
    "start_time": "2025-08-27T21:29:59.314Z"
   },
   {
    "duration": 715,
    "start_time": "2025-08-27T21:29:59.327Z"
   },
   {
    "duration": 199,
    "start_time": "2025-08-27T21:30:00.044Z"
   },
   {
    "duration": 4,
    "start_time": "2025-08-27T21:30:00.245Z"
   },
   {
    "duration": 8,
    "start_time": "2025-08-27T21:30:00.250Z"
   },
   {
    "duration": 24,
    "start_time": "2025-08-27T21:30:00.271Z"
   },
   {
    "duration": 31,
    "start_time": "2025-08-27T21:30:00.299Z"
   },
   {
    "duration": 502,
    "start_time": "2025-08-27T21:30:00.332Z"
   },
   {
    "duration": 546,
    "start_time": "2025-08-27T21:30:00.836Z"
   },
   {
    "duration": 197,
    "start_time": "2025-08-27T21:30:01.384Z"
   },
   {
    "duration": 184,
    "start_time": "2025-08-27T21:30:01.583Z"
   },
   {
    "duration": 205,
    "start_time": "2025-08-27T21:30:01.771Z"
   },
   {
    "duration": 447,
    "start_time": "2025-08-27T21:30:01.978Z"
   },
   {
    "duration": 81,
    "start_time": "2025-08-27T21:30:02.427Z"
   },
   {
    "duration": 289,
    "start_time": "2025-08-27T21:30:02.510Z"
   },
   {
    "duration": 12,
    "start_time": "2025-08-27T21:30:02.800Z"
   },
   {
    "duration": 46,
    "start_time": "2025-08-27T21:30:02.814Z"
   },
   {
    "duration": 14,
    "start_time": "2025-08-27T21:30:02.861Z"
   },
   {
    "duration": 43,
    "start_time": "2025-08-27T21:30:02.876Z"
   },
   {
    "duration": 52,
    "start_time": "2025-08-27T21:30:02.921Z"
   },
   {
    "duration": 43,
    "start_time": "2025-08-27T21:30:02.974Z"
   },
   {
    "duration": 21,
    "start_time": "2025-08-27T21:30:03.019Z"
   },
   {
    "duration": 38,
    "start_time": "2025-08-27T21:30:03.042Z"
   },
   {
    "duration": 29,
    "start_time": "2025-08-27T21:30:03.082Z"
   },
   {
    "duration": 57,
    "start_time": "2025-08-27T21:30:03.113Z"
   },
   {
    "duration": 53,
    "start_time": "2025-08-27T21:30:03.172Z"
   },
   {
    "duration": 89,
    "start_time": "2025-08-27T21:30:03.227Z"
   },
   {
    "duration": 618,
    "start_time": "2025-08-27T21:30:03.317Z"
   },
   {
    "duration": 9,
    "start_time": "2025-08-27T21:30:03.936Z"
   },
   {
    "duration": 206,
    "start_time": "2025-08-27T21:30:03.946Z"
   },
   {
    "duration": 73,
    "start_time": "2025-08-27T21:30:04.154Z"
   },
   {
    "duration": 9,
    "start_time": "2025-08-27T21:30:04.228Z"
   },
   {
    "duration": 558,
    "start_time": "2025-08-27T21:30:04.238Z"
   },
   {
    "duration": 13,
    "start_time": "2025-08-27T21:30:04.801Z"
   },
   {
    "duration": 580,
    "start_time": "2025-08-27T21:30:04.816Z"
   },
   {
    "duration": 8,
    "start_time": "2025-08-27T21:30:05.398Z"
   },
   {
    "duration": 264,
    "start_time": "2025-08-27T21:30:05.407Z"
   },
   {
    "duration": 213,
    "start_time": "2025-08-27T21:30:05.673Z"
   },
   {
    "duration": 6570,
    "start_time": "2025-08-27T21:30:05.888Z"
   },
   {
    "duration": 33,
    "start_time": "2025-08-27T21:30:12.460Z"
   },
   {
    "duration": 47,
    "start_time": "2025-08-27T21:30:12.495Z"
   },
   {
    "duration": 6117,
    "start_time": "2025-08-27T21:30:12.543Z"
   },
   {
    "duration": 205,
    "start_time": "2025-08-27T21:30:18.662Z"
   },
   {
    "duration": 4,
    "start_time": "2025-08-27T21:30:18.870Z"
   },
   {
    "duration": 28,
    "start_time": "2025-08-27T21:30:18.876Z"
   },
   {
    "duration": 140,
    "start_time": "2025-08-27T21:30:18.906Z"
   },
   {
    "duration": 61,
    "start_time": "2025-08-27T21:30:19.048Z"
   },
   {
    "duration": 179,
    "start_time": "2025-08-27T21:30:19.111Z"
   },
   {
    "duration": 65,
    "start_time": "2025-08-27T21:30:19.292Z"
   },
   {
    "duration": 7,
    "start_time": "2025-08-27T21:30:19.371Z"
   },
   {
    "duration": 205,
    "start_time": "2025-08-27T21:30:19.380Z"
   },
   {
    "duration": 46,
    "start_time": "2025-08-27T21:30:19.587Z"
   },
   {
    "duration": 187,
    "start_time": "2025-08-27T21:30:19.635Z"
   },
   {
    "duration": 63,
    "start_time": "2025-08-27T21:30:19.825Z"
   },
   {
    "duration": 400,
    "start_time": "2025-08-27T21:30:19.890Z"
   },
   {
    "duration": 15,
    "start_time": "2025-08-27T21:30:20.292Z"
   },
   {
    "duration": 178,
    "start_time": "2025-08-27T21:30:20.309Z"
   },
   {
    "duration": 216,
    "start_time": "2025-08-27T21:30:20.490Z"
   },
   {
    "duration": 888,
    "start_time": "2025-08-27T21:30:20.708Z"
   },
   {
    "duration": 21,
    "start_time": "2025-08-27T21:30:21.599Z"
   },
   {
    "duration": 271,
    "start_time": "2025-08-27T21:30:21.622Z"
   },
   {
    "duration": 162,
    "start_time": "2025-08-27T21:30:21.895Z"
   },
   {
    "duration": 185,
    "start_time": "2025-08-27T21:30:22.059Z"
   },
   {
    "duration": 175,
    "start_time": "2025-08-27T21:30:22.246Z"
   },
   {
    "duration": 230,
    "start_time": "2025-08-27T21:30:22.422Z"
   },
   {
    "duration": 138,
    "start_time": "2025-08-27T21:30:22.654Z"
   },
   {
    "duration": 97,
    "start_time": "2025-08-27T21:30:22.793Z"
   },
   {
    "duration": 11,
    "start_time": "2025-08-27T21:30:22.892Z"
   },
   {
    "duration": 7,
    "start_time": "2025-08-27T21:30:22.904Z"
   },
   {
    "duration": 20,
    "start_time": "2025-08-27T21:30:22.913Z"
   },
   {
    "duration": 40,
    "start_time": "2025-08-27T21:30:22.935Z"
   },
   {
    "duration": 7,
    "start_time": "2025-08-27T21:30:22.977Z"
   },
   {
    "duration": 17,
    "start_time": "2025-08-27T21:30:22.986Z"
   },
   {
    "duration": 89,
    "start_time": "2025-08-27T21:30:23.004Z"
   },
   {
    "duration": 5,
    "start_time": "2025-08-27T21:30:23.094Z"
   },
   {
    "duration": 15,
    "start_time": "2025-08-27T21:30:23.100Z"
   },
   {
    "duration": 32,
    "start_time": "2025-08-27T21:30:23.116Z"
   },
   {
    "duration": 28,
    "start_time": "2025-08-27T21:30:23.149Z"
   },
   {
    "duration": 41,
    "start_time": "2025-08-27T21:30:23.178Z"
   },
   {
    "duration": 21,
    "start_time": "2025-08-27T21:30:23.221Z"
   },
   {
    "duration": 34,
    "start_time": "2025-08-27T21:30:23.244Z"
   },
   {
    "duration": 8,
    "start_time": "2025-08-27T21:30:23.279Z"
   },
   {
    "duration": 37,
    "start_time": "2025-08-27T21:30:23.288Z"
   },
   {
    "duration": 137,
    "start_time": "2025-08-27T21:31:25.088Z"
   },
   {
    "duration": 131,
    "start_time": "2025-08-27T21:31:34.607Z"
   }
  ],
  "colab": {
   "provenance": []
  },
  "kernelspec": {
   "display_name": "Python 3 (ipykernel)",
   "language": "python",
   "name": "python3"
  },
  "language_info": {
   "codemirror_mode": {
    "name": "ipython",
    "version": 3
   },
   "file_extension": ".py",
   "mimetype": "text/x-python",
   "name": "python",
   "nbconvert_exporter": "python",
   "pygments_lexer": "ipython3",
   "version": "3.9.5"
  },
  "toc": {
   "base_numbering": 1,
   "nav_menu": {},
   "number_sections": false,
   "sideBar": true,
   "skip_h1_title": true,
   "title_cell": "Table of Contents",
   "title_sidebar": "Contents",
   "toc_cell": false,
   "toc_position": {
    "height": "calc(100% - 180px)",
    "left": "10px",
    "top": "150px",
    "width": "317.833px"
   },
   "toc_section_display": true,
   "toc_window_display": true
  }
 },
 "nbformat": 4,
 "nbformat_minor": 1
}
