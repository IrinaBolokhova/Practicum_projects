{
 "cells": [
  {
   "cell_type": "markdown",
   "id": "e06910dd",
   "metadata": {
    "id": "e06910dd"
   },
   "source": [
    "## Часть 1. Исследование для сервиса Яндекс.Книги\n",
    "\n",
    "- Автор: Болохова Ирина\n",
    "- Дата: 07.08.2025"
   ]
  },
  {
   "cell_type": "markdown",
   "id": "4149134c",
   "metadata": {
    "id": "4149134c"
   },
   "source": [
    "## Цели и задачи проекта\n",
    "\n"
   ]
  },
  {
   "cell_type": "markdown",
   "id": "4750d9fc",
   "metadata": {},
   "source": [
    "### Цель проекта:\n",
    "\n",
    "Определить, права ли команда сервиса Яндекс.Книги в том, что пользователи из Санкт-Петербурга проводят в среднем больше времени за чтением и прослушиванием книг в приложении по сравнению с пользователями из Москвы, так как при расчётах среднего LTV было определено, что эта метрика у петербуржцев выше.\n"
   ]
  },
  {
   "cell_type": "markdown",
   "id": "161e5d9c",
   "metadata": {},
   "source": [
    "### Задачи проекта:\n",
    "\n",
    "1. Загрузить данные пользователей и познакомиться с ними.\n",
    "2. Проверить данные на наличие дубликатов.\n",
    "3. Сравнить размеры групп и статистики для каждой группы.\n",
    "4. Проверить гипотезу.\n",
    "5. Подготовить аналитическую записку с интерпретацием результатов проверки гипотезы."
   ]
  },
  {
   "cell_type": "markdown",
   "id": "728986ea",
   "metadata": {
    "id": "728986ea"
   },
   "source": [
    "## Описание данных\n",
    "\n",
    "\n",
    "\n",
    "В данном проекте используется таблица **yandex_knigi_data** с данными читательской активности пользователей Москвы и Санкт-Петербурга в сервисе Яндекс Книги, содержащая следующие поля:\n",
    "\n",
    "- city — город или регион географического положения\n",
    "- puid — идентификатор пользователя;\n",
    "- hours — длительность чтения или прослушивания в часах для конкретного пользователя."
   ]
  },
  {
   "cell_type": "markdown",
   "id": "4fecaf95",
   "metadata": {
    "id": "4fecaf95"
   },
   "source": [
    "## Содержимое проекта\n",
    "\n",
    "\n",
    "\n",
    "1. Загрузка данных и знакомство с ними.\n",
    "2. Подготовка к А/В тестированию.\n",
    "3. Проверка гипотезы в Python.\n",
    "4. Аналитическая записка.\n",
    "---"
   ]
  },
  {
   "cell_type": "markdown",
   "id": "6f7d21d6",
   "metadata": {
    "id": "6f7d21d6"
   },
   "source": [
    "## 1. Загрузка данных и знакомство с ними\n",
    "\n"
   ]
  },
  {
   "cell_type": "code",
   "execution_count": 1,
   "id": "05faf34b",
   "metadata": {
    "id": "05faf34b"
   },
   "outputs": [],
   "source": [
    "# Импортируем необходимые библиотеки\n",
    "import pandas as pd\n",
    "import matplotlib.pyplot as plt\n",
    "from scipy.stats import ttest_ind, mannwhitneyu\n",
    "from statsmodels.stats.power import NormalIndPower\n",
    "from statsmodels.stats.proportion import proportion_effectsize"
   ]
  },
  {
   "cell_type": "code",
   "execution_count": 2,
   "id": "ce87c1db",
   "metadata": {
    "id": "ce87c1db"
   },
   "outputs": [],
   "source": [
    "# Загрузим данные в датафрейм knigi_df \n",
    "knigi_df = pd.read_csv('https://code.s3.yandex.net///datasets/yandex_knigi_data.csv')"
   ]
  },
  {
   "cell_type": "code",
   "execution_count": 3,
   "id": "f68a7419",
   "metadata": {
    "id": "f68a7419"
   },
   "outputs": [
    {
     "data": {
      "text/html": [
       "<div>\n",
       "<style scoped>\n",
       "    .dataframe tbody tr th:only-of-type {\n",
       "        vertical-align: middle;\n",
       "    }\n",
       "\n",
       "    .dataframe tbody tr th {\n",
       "        vertical-align: top;\n",
       "    }\n",
       "\n",
       "    .dataframe thead th {\n",
       "        text-align: right;\n",
       "    }\n",
       "</style>\n",
       "<table border=\"1\" class=\"dataframe\">\n",
       "  <thead>\n",
       "    <tr style=\"text-align: right;\">\n",
       "      <th></th>\n",
       "      <th>Unnamed: 0</th>\n",
       "      <th>city</th>\n",
       "      <th>puid</th>\n",
       "      <th>hours</th>\n",
       "    </tr>\n",
       "  </thead>\n",
       "  <tbody>\n",
       "    <tr>\n",
       "      <th>0</th>\n",
       "      <td>0</td>\n",
       "      <td>Москва</td>\n",
       "      <td>9668</td>\n",
       "      <td>26.167776</td>\n",
       "    </tr>\n",
       "    <tr>\n",
       "      <th>1</th>\n",
       "      <td>1</td>\n",
       "      <td>Москва</td>\n",
       "      <td>16598</td>\n",
       "      <td>82.111217</td>\n",
       "    </tr>\n",
       "    <tr>\n",
       "      <th>2</th>\n",
       "      <td>2</td>\n",
       "      <td>Москва</td>\n",
       "      <td>80401</td>\n",
       "      <td>4.656906</td>\n",
       "    </tr>\n",
       "    <tr>\n",
       "      <th>3</th>\n",
       "      <td>3</td>\n",
       "      <td>Москва</td>\n",
       "      <td>140205</td>\n",
       "      <td>1.840556</td>\n",
       "    </tr>\n",
       "    <tr>\n",
       "      <th>4</th>\n",
       "      <td>4</td>\n",
       "      <td>Москва</td>\n",
       "      <td>248755</td>\n",
       "      <td>151.326434</td>\n",
       "    </tr>\n",
       "  </tbody>\n",
       "</table>\n",
       "</div>"
      ],
      "text/plain": [
       "   Unnamed: 0    city    puid       hours\n",
       "0           0  Москва    9668   26.167776\n",
       "1           1  Москва   16598   82.111217\n",
       "2           2  Москва   80401    4.656906\n",
       "3           3  Москва  140205    1.840556\n",
       "4           4  Москва  248755  151.326434"
      ]
     },
     "execution_count": 3,
     "metadata": {},
     "output_type": "execute_result"
    }
   ],
   "source": [
    "# Выведем первые строки датафрейма для ознакомления\n",
    "knigi_df.head()"
   ]
  },
  {
   "cell_type": "code",
   "execution_count": 4,
   "id": "abf293ad",
   "metadata": {},
   "outputs": [
    {
     "data": {
      "text/html": [
       "<div>\n",
       "<style scoped>\n",
       "    .dataframe tbody tr th:only-of-type {\n",
       "        vertical-align: middle;\n",
       "    }\n",
       "\n",
       "    .dataframe tbody tr th {\n",
       "        vertical-align: top;\n",
       "    }\n",
       "\n",
       "    .dataframe thead th {\n",
       "        text-align: right;\n",
       "    }\n",
       "</style>\n",
       "<table border=\"1\" class=\"dataframe\">\n",
       "  <thead>\n",
       "    <tr style=\"text-align: right;\">\n",
       "      <th></th>\n",
       "      <th>city</th>\n",
       "      <th>puid</th>\n",
       "      <th>hours</th>\n",
       "    </tr>\n",
       "    <tr>\n",
       "      <th>Unnamed: 0</th>\n",
       "      <th></th>\n",
       "      <th></th>\n",
       "      <th></th>\n",
       "    </tr>\n",
       "  </thead>\n",
       "  <tbody>\n",
       "    <tr>\n",
       "      <th>0</th>\n",
       "      <td>Москва</td>\n",
       "      <td>9668</td>\n",
       "      <td>26.167776</td>\n",
       "    </tr>\n",
       "    <tr>\n",
       "      <th>1</th>\n",
       "      <td>Москва</td>\n",
       "      <td>16598</td>\n",
       "      <td>82.111217</td>\n",
       "    </tr>\n",
       "    <tr>\n",
       "      <th>2</th>\n",
       "      <td>Москва</td>\n",
       "      <td>80401</td>\n",
       "      <td>4.656906</td>\n",
       "    </tr>\n",
       "    <tr>\n",
       "      <th>3</th>\n",
       "      <td>Москва</td>\n",
       "      <td>140205</td>\n",
       "      <td>1.840556</td>\n",
       "    </tr>\n",
       "    <tr>\n",
       "      <th>4</th>\n",
       "      <td>Москва</td>\n",
       "      <td>248755</td>\n",
       "      <td>151.326434</td>\n",
       "    </tr>\n",
       "    <tr>\n",
       "      <th>...</th>\n",
       "      <td>...</td>\n",
       "      <td>...</td>\n",
       "      <td>...</td>\n",
       "    </tr>\n",
       "    <tr>\n",
       "      <th>8779</th>\n",
       "      <td>Санкт-Петербург</td>\n",
       "      <td>1130000028554332</td>\n",
       "      <td>4.107774</td>\n",
       "    </tr>\n",
       "    <tr>\n",
       "      <th>8780</th>\n",
       "      <td>Санкт-Петербург</td>\n",
       "      <td>1130000030307246</td>\n",
       "      <td>45.069222</td>\n",
       "    </tr>\n",
       "    <tr>\n",
       "      <th>8781</th>\n",
       "      <td>Санкт-Петербург</td>\n",
       "      <td>1130000038726322</td>\n",
       "      <td>0.211944</td>\n",
       "    </tr>\n",
       "    <tr>\n",
       "      <th>8782</th>\n",
       "      <td>Санкт-Петербург</td>\n",
       "      <td>1130000047892100</td>\n",
       "      <td>4.311841</td>\n",
       "    </tr>\n",
       "    <tr>\n",
       "      <th>8783</th>\n",
       "      <td>Санкт-Петербург</td>\n",
       "      <td>1130000061443598</td>\n",
       "      <td>20.847222</td>\n",
       "    </tr>\n",
       "  </tbody>\n",
       "</table>\n",
       "<p>8784 rows × 3 columns</p>\n",
       "</div>"
      ],
      "text/plain": [
       "                       city              puid       hours\n",
       "Unnamed: 0                                               \n",
       "0                    Москва              9668   26.167776\n",
       "1                    Москва             16598   82.111217\n",
       "2                    Москва             80401    4.656906\n",
       "3                    Москва            140205    1.840556\n",
       "4                    Москва            248755  151.326434\n",
       "...                     ...               ...         ...\n",
       "8779        Санкт-Петербург  1130000028554332    4.107774\n",
       "8780        Санкт-Петербург  1130000030307246   45.069222\n",
       "8781        Санкт-Петербург  1130000038726322    0.211944\n",
       "8782        Санкт-Петербург  1130000047892100    4.311841\n",
       "8783        Санкт-Петербург  1130000061443598   20.847222\n",
       "\n",
       "[8784 rows x 3 columns]"
      ]
     },
     "metadata": {},
     "output_type": "display_data"
    }
   ],
   "source": [
    "# Преобразуем столбец 'Unnamed: 0' в индекс\n",
    "knigi_df = knigi_df.set_index('Unnamed: 0')\n",
    "display(knigi_df)"
   ]
  },
  {
   "cell_type": "code",
   "execution_count": 5,
   "id": "996f9e2e",
   "metadata": {},
   "outputs": [
    {
     "name": "stdout",
     "output_type": "stream",
     "text": [
      "<class 'pandas.core.frame.DataFrame'>\n",
      "Int64Index: 8784 entries, 0 to 8783\n",
      "Data columns (total 3 columns):\n",
      " #   Column  Non-Null Count  Dtype  \n",
      "---  ------  --------------  -----  \n",
      " 0   city    8784 non-null   object \n",
      " 1   puid    8784 non-null   int64  \n",
      " 2   hours   8784 non-null   float64\n",
      "dtypes: float64(1), int64(1), object(1)\n",
      "memory usage: 274.5+ KB\n"
     ]
    }
   ],
   "source": [
    "# Выведем информацию о датафрейме\n",
    "knigi_df.info()"
   ]
  },
  {
   "cell_type": "markdown",
   "id": "edc567f5",
   "metadata": {},
   "source": [
    "Пропуски в данных отсутствуют, типы данных соответствуют данным."
   ]
  },
  {
   "cell_type": "code",
   "execution_count": 6,
   "id": "cda819b5",
   "metadata": {},
   "outputs": [
    {
     "data": {
      "text/plain": [
       "0"
      ]
     },
     "execution_count": 6,
     "metadata": {},
     "output_type": "execute_result"
    }
   ],
   "source": [
    "# Проверим данные на наличие полных дубликатов\n",
    "knigi_df.duplicated().sum() "
   ]
  },
  {
   "cell_type": "markdown",
   "id": "3ee96103",
   "metadata": {},
   "source": [
    "Получили, что в данных отсутсятвуют полные дубликаты. Проверим теперь дубликаты по идентификатору пользователей."
   ]
  },
  {
   "cell_type": "code",
   "execution_count": 7,
   "id": "55981973",
   "metadata": {},
   "outputs": [
    {
     "data": {
      "text/plain": [
       "244"
      ]
     },
     "execution_count": 7,
     "metadata": {},
     "output_type": "execute_result"
    }
   ],
   "source": [
    "# Проверим данные на наличие дубликатов по идентификатору пользователей\n",
    "knigi_df.duplicated(subset='puid').sum()"
   ]
  },
  {
   "cell_type": "markdown",
   "id": "21fbe4da",
   "metadata": {},
   "source": [
    "В данных содержатся 244 дубликата по идентификатору пользователя, проверим их, действительно ли они являются дубликатами."
   ]
  },
  {
   "cell_type": "code",
   "execution_count": 8,
   "id": "11fb287f",
   "metadata": {},
   "outputs": [
    {
     "data": {
      "text/html": [
       "<div>\n",
       "<style scoped>\n",
       "    .dataframe tbody tr th:only-of-type {\n",
       "        vertical-align: middle;\n",
       "    }\n",
       "\n",
       "    .dataframe tbody tr th {\n",
       "        vertical-align: top;\n",
       "    }\n",
       "\n",
       "    .dataframe thead th {\n",
       "        text-align: right;\n",
       "    }\n",
       "</style>\n",
       "<table border=\"1\" class=\"dataframe\">\n",
       "  <thead>\n",
       "    <tr style=\"text-align: right;\">\n",
       "      <th></th>\n",
       "      <th>city</th>\n",
       "      <th>puid</th>\n",
       "      <th>hours</th>\n",
       "    </tr>\n",
       "    <tr>\n",
       "      <th>Unnamed: 0</th>\n",
       "      <th></th>\n",
       "      <th></th>\n",
       "      <th></th>\n",
       "    </tr>\n",
       "  </thead>\n",
       "  <tbody>\n",
       "    <tr>\n",
       "      <th>35</th>\n",
       "      <td>Москва</td>\n",
       "      <td>2637041</td>\n",
       "      <td>10.317371</td>\n",
       "    </tr>\n",
       "    <tr>\n",
       "      <th>6247</th>\n",
       "      <td>Санкт-Петербург</td>\n",
       "      <td>2637041</td>\n",
       "      <td>3.883926</td>\n",
       "    </tr>\n",
       "    <tr>\n",
       "      <th>134</th>\n",
       "      <td>Москва</td>\n",
       "      <td>9979490</td>\n",
       "      <td>32.415573</td>\n",
       "    </tr>\n",
       "    <tr>\n",
       "      <th>6274</th>\n",
       "      <td>Санкт-Петербург</td>\n",
       "      <td>9979490</td>\n",
       "      <td>1.302997</td>\n",
       "    </tr>\n",
       "    <tr>\n",
       "      <th>145</th>\n",
       "      <td>Москва</td>\n",
       "      <td>10597984</td>\n",
       "      <td>42.931506</td>\n",
       "    </tr>\n",
       "    <tr>\n",
       "      <th>6279</th>\n",
       "      <td>Санкт-Петербург</td>\n",
       "      <td>10597984</td>\n",
       "      <td>9.041320</td>\n",
       "    </tr>\n",
       "    <tr>\n",
       "      <th>150</th>\n",
       "      <td>Москва</td>\n",
       "      <td>10815097</td>\n",
       "      <td>9.086655</td>\n",
       "    </tr>\n",
       "    <tr>\n",
       "      <th>6283</th>\n",
       "      <td>Санкт-Петербург</td>\n",
       "      <td>10815097</td>\n",
       "      <td>0.323291</td>\n",
       "    </tr>\n",
       "    <tr>\n",
       "      <th>187</th>\n",
       "      <td>Москва</td>\n",
       "      <td>13626259</td>\n",
       "      <td>21.104167</td>\n",
       "    </tr>\n",
       "    <tr>\n",
       "      <th>6300</th>\n",
       "      <td>Санкт-Петербург</td>\n",
       "      <td>13626259</td>\n",
       "      <td>1.648434</td>\n",
       "    </tr>\n",
       "  </tbody>\n",
       "</table>\n",
       "</div>"
      ],
      "text/plain": [
       "                       city      puid      hours\n",
       "Unnamed: 0                                      \n",
       "35                   Москва   2637041  10.317371\n",
       "6247        Санкт-Петербург   2637041   3.883926\n",
       "134                  Москва   9979490  32.415573\n",
       "6274        Санкт-Петербург   9979490   1.302997\n",
       "145                  Москва  10597984  42.931506\n",
       "6279        Санкт-Петербург  10597984   9.041320\n",
       "150                  Москва  10815097   9.086655\n",
       "6283        Санкт-Петербург  10815097   0.323291\n",
       "187                  Москва  13626259  21.104167\n",
       "6300        Санкт-Петербург  13626259   1.648434"
      ]
     },
     "execution_count": 8,
     "metadata": {},
     "output_type": "execute_result"
    }
   ],
   "source": [
    "# Сохраним дублирующиеся id пользователей и выведем данные датафрейма для этих пользователей\n",
    "puids = knigi_df[knigi_df.duplicated(subset=['puid'])]['puid'].to_list()\n",
    "knigi_df[knigi_df['puid'].isin(puids)].sort_values(by=['puid']).head(10)"
   ]
  },
  {
   "cell_type": "markdown",
   "id": "64d35317",
   "metadata": {},
   "source": [
    "По полученным данным видим, что для пользователей с одним и тем же id город прослушивания и время прослущивания отличаются, что вполне может логично обяснятся тем, что пользователь прослушивал книги в поездке в другой город.\n",
    "\n",
    "Чтобы не исказить результаты последующнго тестирования из-за пересекающихся групп, такие дубликаты лучше удалить."
   ]
  },
  {
   "cell_type": "code",
   "execution_count": 9,
   "id": "5ab54776",
   "metadata": {},
   "outputs": [
    {
     "name": "stdout",
     "output_type": "stream",
     "text": [
      "<class 'pandas.core.frame.DataFrame'>\n",
      "Int64Index: 8296 entries, 0 to 8783\n",
      "Data columns (total 3 columns):\n",
      " #   Column  Non-Null Count  Dtype  \n",
      "---  ------  --------------  -----  \n",
      " 0   city    8296 non-null   object \n",
      " 1   puid    8296 non-null   int64  \n",
      " 2   hours   8296 non-null   float64\n",
      "dtypes: float64(1), int64(1), object(1)\n",
      "memory usage: 259.2+ KB\n"
     ]
    },
    {
     "data": {
      "text/plain": [
       "0"
      ]
     },
     "execution_count": 9,
     "metadata": {},
     "output_type": "execute_result"
    }
   ],
   "source": [
    "# Удалим найденные дубликаты\n",
    "knigi_df = knigi_df.drop_duplicates(subset='puid', keep=False)\n",
    "knigi_df.info()\n",
    "knigi_df.duplicated(subset='puid').sum()"
   ]
  },
  {
   "cell_type": "markdown",
   "id": "29353eb6",
   "metadata": {},
   "source": [
    "Данные очистили от дубликатов, теперь можно приступать к проверке данных для тестирования."
   ]
  },
  {
   "cell_type": "markdown",
   "id": "f0f94fd1",
   "metadata": {},
   "source": [
    "## 2. Подготовка к А/В-тестированию\n",
    "\n",
    "При подготовке к проведению А/В тестированию необходимо сравнить размеры групп, их статистики и распределения."
   ]
  },
  {
   "cell_type": "code",
   "execution_count": 10,
   "id": "74103112",
   "metadata": {},
   "outputs": [
    {
     "data": {
      "text/plain": [
       "(5990, 2306)"
      ]
     },
     "execution_count": 10,
     "metadata": {},
     "output_type": "execute_result"
    }
   ],
   "source": [
    "# Посчитаем количество уникальных пользователей для каждой группы\n",
    "knigi_df[knigi_df['city'] == 'Москва']['puid'].nunique(), knigi_df[knigi_df['city'] == 'Санкт-Петербург']['puid'].nunique() "
   ]
  },
  {
   "cell_type": "code",
   "execution_count": 11,
   "id": "d1874797",
   "metadata": {},
   "outputs": [
    {
     "data": {
      "text/plain": [
       "(72.20347155255544, 27.79652844744455)"
      ]
     },
     "execution_count": 11,
     "metadata": {},
     "output_type": "execute_result"
    }
   ],
   "source": [
    "# Посчитаем, в каком процентном отношении находятся группы\n",
    "(100 * knigi_df[knigi_df['city'] == 'Москва']['puid'].nunique() / knigi_df['puid'].nunique(), \n",
    " 100 * knigi_df[knigi_df['city'] == 'Санкт-Петербург']['puid'].nunique() / knigi_df['puid'].nunique())"
   ]
  },
  {
   "cell_type": "markdown",
   "id": "ffb2c609",
   "metadata": {},
   "source": [
    "Видим, что данные неравномерно распределены по группам: **72%** в Москве против **28%** в Санкт-Петербурге.\n",
    "\n",
    "Учитывая эту неравномерность выборок, будем использовать **тест Манна-Уитни**, который не зависит от равномерности размера выборок.\n",
    "\n",
    "В тестировании будет проверятся гипотеза о том, что пользователи из **Санкт-Петербурга** проводят в среднем **больше времени** за чтением и прослушиванием книг в приложении, чем пользователи из **Москвы**.\n",
    "\n",
    "Поэтому расчитаем среднюю активность пользователей для каждого города."
   ]
  },
  {
   "cell_type": "code",
   "execution_count": 12,
   "id": "9a5a3765",
   "metadata": {},
   "outputs": [
    {
     "data": {
      "text/plain": [
       "city\n",
       "Москва             10.848192\n",
       "Санкт-Петербург    11.264433\n",
       "Name: hours, dtype: float64"
      ]
     },
     "metadata": {},
     "output_type": "display_data"
    }
   ],
   "source": [
    "# Рассчитаем среднюю активность пользователей для каждого города\n",
    "time_mean = knigi_df.groupby('city').hours.mean() \n",
    "display(time_mean)"
   ]
  },
  {
   "cell_type": "markdown",
   "id": "97b1748e",
   "metadata": {},
   "source": [
    "По полученным значениям видим, что среднее время прослушивания книг в **Санкт-Петербурге немного больше, чем в Москве**, не смотря на меньшее количество пользователей.\n",
    "\n",
    "Теперь приступим к проверке гипотезы."
   ]
  },
  {
   "cell_type": "markdown",
   "id": "956e82e2",
   "metadata": {
    "id": "956e82e2"
   },
   "source": [
    "## 3. Проверка гипотезы в Python\n",
    "\n",
    "Гипотеза звучит так: пользователи из Санкт-Петербурга проводят в среднем больше времени за чтением и прослушиванием книг в приложении, чем пользователи из Москвы. Попробуйте статистически это доказать, используя одностороннюю проверку гипотезы с двумя выборками:\n",
    "\n",
    "- Нулевая гипотеза H₀: Средняя активность пользователей в часах в двух группах (Москва и Санкт-Петербург) не различается.\n",
    "\n",
    "- Альтернативная гипотеза H₁: Средняя активность пользователей в Санкт-Петербурге больше, и это различие статистически значимо."
   ]
  },
  {
   "cell_type": "markdown",
   "id": "374542de",
   "metadata": {
    "id": "67956690"
   },
   "source": [
    "Так как выбоки по городам получились неравномерные, будем использовать тест Манна-Уитни, который не зависит от равномерности размера выборок.\n",
    "\n",
    "- Нулевая гипотеза **Н0**: Dist(XA)=Dist(XB) - распределение количества часов прослушанных книг в *группе А (Москва)* и в *группе В (Санкт-Петербург)* не различается.\n",
    "- Альтернативная гипотеза **Н1**: Dist(XA)<Dist(XB) - распределение количества часов прослушанной музыки в *группе В (Санкт-Петербург)* больше, чем в *группе А (Москва)*."
   ]
  },
  {
   "cell_type": "code",
   "execution_count": 13,
   "id": "dd8db850",
   "metadata": {
    "scrolled": true
   },
   "outputs": [
    {
     "name": "stdout",
     "output_type": "stream",
     "text": [
      "pvalue=0.4532273739367588 > 0.05\n",
      "Нулевая гипотеза находит подтверждение!\n"
     ]
    }
   ],
   "source": [
    "# Выборка целевой метрики для группы A\n",
    "metric_a = knigi_df[knigi_df['city'] == 'Москва'].hours \n",
    "# Выборка целевой метрики для группы B\n",
    "metric_b = knigi_df[knigi_df['city'] == 'Санкт-Петербург'].hours \n",
    "\n",
    "# На каком уровне значимости проверяем гипотезу о равенстве распределений\n",
    "alpha = 0.05 \n",
    "\n",
    "# Применяем тест Манна — Уитни\n",
    "stat_mw, p_value_mw = mannwhitneyu(\n",
    "    metric_a, \n",
    "    metric_b, \n",
    "    alternative='less' # Альтернативная гипотеза односторонняя\n",
    ") \n",
    "\n",
    "if p_value_mw > alpha:\n",
    "    print(f'pvalue={p_value_mw} > {alpha}')\n",
    "    print('Нулевая гипотеза находит подтверждение!')\n",
    "else:\n",
    "    print(f'pvalue={p_value_mw} < {alpha}')\n",
    "    print('Нулевая гипотеза не находит подтверждения!')"
   ]
  },
  {
   "cell_type": "markdown",
   "id": "37bfe74d",
   "metadata": {},
   "source": [
    "Поскольку p-value = 0.4532273739367588 **выше** уровня значимости, значит, мы попадаем в область принятия нулевой гипотезы. \n",
    "\n",
    "На основании полученного значения p-value можем сделать вывод, что распределения метрики в группах A и B **не различаются**. \n",
    "Это означает, что средняя активность в часах пользователей в Москве и Санкт-Петербурге **не различается**."
   ]
  },
  {
   "cell_type": "markdown",
   "id": "6953e84c",
   "metadata": {
    "id": "6953e84c"
   },
   "source": [
    "## 4. Аналитическая записка\n",
    "По результатам анализа данных подготовьте аналитическую записку, в которой опишете:\n",
    "\n",
    "- Выбранный тип t-теста и уровень статистической значимости.\n",
    "\n",
    "- Результат теста, или p-value.\n",
    "\n",
    "- Вывод на основе полученного p-value, то есть интерпретацию результатов.\n",
    "\n",
    "- Одну или две возможные причины, объясняющие полученные результаты.\n",
    "\n"
   ]
  },
  {
   "cell_type": "markdown",
   "id": "300250c5",
   "metadata": {},
   "source": [
    "На основании проведённого непараметрического **теста Манна-Уитни** с уровнем значимости **α = 0.05** получены следующие результаты:\n",
    "\n",
    "p-value = 0.453 (значительно > 0.05)\n",
    "\n",
    "**Статистический вывод:**\n",
    "Нулевая гипотеза **не отвергается**. Это означает, что статистически значимых различий в распределении времени активности между группами Москвы и Санкт-Петербурга **не обнаружено**, то есть активность пользователей в обоих городах **не различается** и  команда сервиса Яндекс.Книги оказалась не права в том, что пользователи из Санкт-Петербурга проводят в среднем больше времени за чтением и прослушиванием книг в приложении по сравнению с пользователями из Москвы.\n",
    "\n",
    "Возможной **причиной** полученных результатов может являться то, что разницы в поведении пользователей между городами действительно нет. "
   ]
  },
  {
   "cell_type": "markdown",
   "id": "hc1d6jVISegz",
   "metadata": {
    "id": "hc1d6jVISegz"
   },
   "source": [
    "----"
   ]
  },
  {
   "cell_type": "markdown",
   "id": "NqOUIYhbrIfC",
   "metadata": {
    "id": "NqOUIYhbrIfC"
   },
   "source": [
    "## Часть 2. Анализ результатов A/B-тестирования для интернет-магазина BitMotion Kit"
   ]
  },
  {
   "cell_type": "markdown",
   "id": "tDwMKFNGsClr",
   "metadata": {
    "id": "tDwMKFNGsClr"
   },
   "source": [
    "Теперь необходимо проанализировать другие данные. К нам обратились представители интернет-магазина BitMotion Kit, в котором продаются геймифицированные товары для тех, кто ведёт здоровый образ жизни. У него есть своя целевая аудитория, даже появились хиты продаж: эспандер со счётчиком и напоминанием, так и подстольный велотренажёр с Bluetooth.\n",
    "\n",
    "В будущем компания хочет расширить ассортимент товаров. Но перед этим нужно решить одну проблему. Интерфейс онлайн-магазина слишком сложен для пользователей — об этом говорят отзывы.\n",
    "\n",
    "Чтобы привлечь новых клиентов и увеличить число продаж, владельцы магазина разработали новую версию сайта и протестировали его на части пользователей. По задумке, это решение доказуемо повысит количество пользователей, которые совершат покупку.\n",
    "\n",
    "Задача — провести оценку результатов A/B-теста. В нашем распоряжении:\n",
    "\n",
    "* данные о действиях пользователей и распределении их на группы,\n",
    "\n",
    "* техническое задание.\n",
    "\n",
    "Необходимо оценить корректность проведения теста и проанализировать его результаты."
   ]
  },
  {
   "cell_type": "markdown",
   "id": "UNXAAyF5r9Rk",
   "metadata": {
    "id": "UNXAAyF5r9Rk"
   },
   "source": [
    "## 1. Опишите цели исследования.\n",
    "\n"
   ]
  },
  {
   "cell_type": "markdown",
   "id": "kHx-51yES8bd",
   "metadata": {
    "id": "kHx-51yES8bd"
   },
   "source": [
    "Цель исследования — оценить, насколько корректно проведен А/В тест и его результаты для анализа новой версии онлайн-магазина BitMotion Kit с геймифицированными товарами для людей, ведущих здоровый образ жизни."
   ]
  },
  {
   "cell_type": "markdown",
   "id": "_CZryx2OsH-s",
   "metadata": {
    "id": "_CZryx2OsH-s"
   },
   "source": [
    "## 2. Загрузите данные, оцените их целостность.\n"
   ]
  },
  {
   "cell_type": "code",
   "execution_count": 41,
   "id": "DjFcJbeGsTIg",
   "metadata": {
    "id": "DjFcJbeGsTIg"
   },
   "outputs": [],
   "source": [
    "# Загрузим данные\n",
    "participants = pd.read_csv('https://code.s3.yandex.net/datasets/ab_test_participants.csv')\n",
    "events = pd.read_csv('https://code.s3.yandex.net/datasets/ab_test_events.zip',\n",
    "                     parse_dates=['event_dt'], low_memory=False)"
   ]
  },
  {
   "cell_type": "code",
   "execution_count": 15,
   "id": "a7b506c3",
   "metadata": {},
   "outputs": [
    {
     "data": {
      "text/html": [
       "<div>\n",
       "<style scoped>\n",
       "    .dataframe tbody tr th:only-of-type {\n",
       "        vertical-align: middle;\n",
       "    }\n",
       "\n",
       "    .dataframe tbody tr th {\n",
       "        vertical-align: top;\n",
       "    }\n",
       "\n",
       "    .dataframe thead th {\n",
       "        text-align: right;\n",
       "    }\n",
       "</style>\n",
       "<table border=\"1\" class=\"dataframe\">\n",
       "  <thead>\n",
       "    <tr style=\"text-align: right;\">\n",
       "      <th></th>\n",
       "      <th>user_id</th>\n",
       "      <th>group</th>\n",
       "      <th>ab_test</th>\n",
       "      <th>device</th>\n",
       "    </tr>\n",
       "  </thead>\n",
       "  <tbody>\n",
       "    <tr>\n",
       "      <th>0</th>\n",
       "      <td>0002CE61FF2C4011</td>\n",
       "      <td>B</td>\n",
       "      <td>interface_eu_test</td>\n",
       "      <td>Mac</td>\n",
       "    </tr>\n",
       "    <tr>\n",
       "      <th>1</th>\n",
       "      <td>001064FEAAB631A1</td>\n",
       "      <td>B</td>\n",
       "      <td>recommender_system_test</td>\n",
       "      <td>Android</td>\n",
       "    </tr>\n",
       "    <tr>\n",
       "      <th>2</th>\n",
       "      <td>001064FEAAB631A1</td>\n",
       "      <td>A</td>\n",
       "      <td>interface_eu_test</td>\n",
       "      <td>Android</td>\n",
       "    </tr>\n",
       "    <tr>\n",
       "      <th>3</th>\n",
       "      <td>0010A1C096941592</td>\n",
       "      <td>A</td>\n",
       "      <td>recommender_system_test</td>\n",
       "      <td>Android</td>\n",
       "    </tr>\n",
       "    <tr>\n",
       "      <th>4</th>\n",
       "      <td>001E72F50D1C48FA</td>\n",
       "      <td>A</td>\n",
       "      <td>interface_eu_test</td>\n",
       "      <td>Mac</td>\n",
       "    </tr>\n",
       "  </tbody>\n",
       "</table>\n",
       "</div>"
      ],
      "text/plain": [
       "            user_id group                  ab_test   device\n",
       "0  0002CE61FF2C4011     B        interface_eu_test      Mac\n",
       "1  001064FEAAB631A1     B  recommender_system_test  Android\n",
       "2  001064FEAAB631A1     A        interface_eu_test  Android\n",
       "3  0010A1C096941592     A  recommender_system_test  Android\n",
       "4  001E72F50D1C48FA     A        interface_eu_test      Mac"
      ]
     },
     "execution_count": 15,
     "metadata": {},
     "output_type": "execute_result"
    }
   ],
   "source": [
    "# Выведем первые строки датафрейма participants\n",
    "participants.head()"
   ]
  },
  {
   "cell_type": "markdown",
   "id": "d3271813",
   "metadata": {},
   "source": [
    "Видим, что данные в этом датафрейме содержат следующие поля:\n",
    "- user_id — идентификатор пользователя;\n",
    "- group — группа пользователя;\n",
    "- ab_test — название теста;\n",
    "- device — устройство, с которого происходила регистрация."
   ]
  },
  {
   "cell_type": "code",
   "execution_count": 16,
   "id": "01bfb341",
   "metadata": {},
   "outputs": [
    {
     "data": {
      "text/plain": [
       "0"
      ]
     },
     "execution_count": 16,
     "metadata": {},
     "output_type": "execute_result"
    }
   ],
   "source": [
    "# Проверим на наличие явных дубликатов\n",
    "participants.duplicated().sum()"
   ]
  },
  {
   "cell_type": "markdown",
   "id": "88ffd846",
   "metadata": {},
   "source": [
    "Явные дубликаты в датафрейме отсутствуют."
   ]
  },
  {
   "cell_type": "code",
   "execution_count": 17,
   "id": "c8a5d30f",
   "metadata": {},
   "outputs": [
    {
     "name": "stdout",
     "output_type": "stream",
     "text": [
      "<class 'pandas.core.frame.DataFrame'>\n",
      "RangeIndex: 14525 entries, 0 to 14524\n",
      "Data columns (total 4 columns):\n",
      " #   Column   Non-Null Count  Dtype \n",
      "---  ------   --------------  ----- \n",
      " 0   user_id  14525 non-null  object\n",
      " 1   group    14525 non-null  object\n",
      " 2   ab_test  14525 non-null  object\n",
      " 3   device   14525 non-null  object\n",
      "dtypes: object(4)\n",
      "memory usage: 454.0+ KB\n"
     ]
    }
   ],
   "source": [
    "# Выведем информацию о датафрейме participants\n",
    "participants.info()"
   ]
  },
  {
   "cell_type": "markdown",
   "id": "df2b054d",
   "metadata": {},
   "source": [
    "Данные содержат 14525 строк, пропуски отсутствуют."
   ]
  },
  {
   "cell_type": "code",
   "execution_count": 42,
   "id": "82bb608d",
   "metadata": {},
   "outputs": [
    {
     "data": {
      "text/html": [
       "<div>\n",
       "<style scoped>\n",
       "    .dataframe tbody tr th:only-of-type {\n",
       "        vertical-align: middle;\n",
       "    }\n",
       "\n",
       "    .dataframe tbody tr th {\n",
       "        vertical-align: top;\n",
       "    }\n",
       "\n",
       "    .dataframe thead th {\n",
       "        text-align: right;\n",
       "    }\n",
       "</style>\n",
       "<table border=\"1\" class=\"dataframe\">\n",
       "  <thead>\n",
       "    <tr style=\"text-align: right;\">\n",
       "      <th></th>\n",
       "      <th>user_id</th>\n",
       "      <th>event_dt</th>\n",
       "      <th>event_name</th>\n",
       "      <th>details</th>\n",
       "    </tr>\n",
       "  </thead>\n",
       "  <tbody>\n",
       "    <tr>\n",
       "      <th>0</th>\n",
       "      <td>GLOBAL</td>\n",
       "      <td>2020-12-01 00:00:00</td>\n",
       "      <td>End of Black Friday Ads Campaign</td>\n",
       "      <td>ZONE_CODE15</td>\n",
       "    </tr>\n",
       "    <tr>\n",
       "      <th>1</th>\n",
       "      <td>CCBE9E7E99F94A08</td>\n",
       "      <td>2020-12-01 00:00:11</td>\n",
       "      <td>registration</td>\n",
       "      <td>0.0</td>\n",
       "    </tr>\n",
       "    <tr>\n",
       "      <th>2</th>\n",
       "      <td>GLOBAL</td>\n",
       "      <td>2020-12-01 00:00:25</td>\n",
       "      <td>product_page</td>\n",
       "      <td>NaN</td>\n",
       "    </tr>\n",
       "    <tr>\n",
       "      <th>3</th>\n",
       "      <td>CCBE9E7E99F94A08</td>\n",
       "      <td>2020-12-01 00:00:33</td>\n",
       "      <td>login</td>\n",
       "      <td>NaN</td>\n",
       "    </tr>\n",
       "    <tr>\n",
       "      <th>4</th>\n",
       "      <td>CCBE9E7E99F94A08</td>\n",
       "      <td>2020-12-01 00:00:52</td>\n",
       "      <td>product_page</td>\n",
       "      <td>NaN</td>\n",
       "    </tr>\n",
       "  </tbody>\n",
       "</table>\n",
       "</div>"
      ],
      "text/plain": [
       "            user_id            event_dt                        event_name  \\\n",
       "0            GLOBAL 2020-12-01 00:00:00  End of Black Friday Ads Campaign   \n",
       "1  CCBE9E7E99F94A08 2020-12-01 00:00:11                      registration   \n",
       "2            GLOBAL 2020-12-01 00:00:25                      product_page   \n",
       "3  CCBE9E7E99F94A08 2020-12-01 00:00:33                             login   \n",
       "4  CCBE9E7E99F94A08 2020-12-01 00:00:52                      product_page   \n",
       "\n",
       "       details  \n",
       "0  ZONE_CODE15  \n",
       "1          0.0  \n",
       "2          NaN  \n",
       "3          NaN  \n",
       "4          NaN  "
      ]
     },
     "execution_count": 42,
     "metadata": {},
     "output_type": "execute_result"
    }
   ],
   "source": [
    "# Выведем первые строки датафрейма events\n",
    "events.head()"
   ]
  },
  {
   "cell_type": "markdown",
   "id": "a85c658d",
   "metadata": {},
   "source": [
    "Видим, что данные в этом датафрейме содаржат следующие поля:\n",
    "- user_id — идентификатор пользователя;\n",
    "- event_dt — дата и время события;\n",
    "- event_name — тип события;\n",
    "- details — дополнительные данные о событии."
   ]
  },
  {
   "cell_type": "code",
   "execution_count": 43,
   "id": "5bb505dc",
   "metadata": {},
   "outputs": [
    {
     "name": "stdout",
     "output_type": "stream",
     "text": [
      "<class 'pandas.core.frame.DataFrame'>\n",
      "RangeIndex: 787286 entries, 0 to 787285\n",
      "Data columns (total 4 columns):\n",
      " #   Column      Non-Null Count   Dtype         \n",
      "---  ------      --------------   -----         \n",
      " 0   user_id     787286 non-null  object        \n",
      " 1   event_dt    787286 non-null  datetime64[ns]\n",
      " 2   event_name  787286 non-null  object        \n",
      " 3   details     249022 non-null  object        \n",
      "dtypes: datetime64[ns](1), object(3)\n",
      "memory usage: 24.0+ MB\n"
     ]
    }
   ],
   "source": [
    "# Выведем информацию о датафрейме events\n",
    "events.info()"
   ]
  },
  {
   "cell_type": "code",
   "execution_count": 44,
   "id": "eaefd35f",
   "metadata": {},
   "outputs": [
    {
     "data": {
      "text/plain": [
       "39510"
      ]
     },
     "execution_count": 44,
     "metadata": {},
     "output_type": "execute_result"
    }
   ],
   "source": [
    "# Проверим на наличие дубликатов по столбцам user_id, event_dt и event_name\n",
    "events.duplicated(subset = ['user_id','event_name','event_dt']).sum()"
   ]
  },
  {
   "cell_type": "markdown",
   "id": "940bf007",
   "metadata": {},
   "source": [
    "Данные содержат 787286 строк, пропуски есть только в столбце `details`, а также данные содержат 39510 дубликатов по пользователю, дате события и названию события.\n",
    "\n",
    "Удалим найденные дубликаты."
   ]
  },
  {
   "cell_type": "code",
   "execution_count": 45,
   "id": "614971bb",
   "metadata": {},
   "outputs": [],
   "source": [
    "# Удалим дубликаты\n",
    "events = events.drop_duplicates(subset = ['user_id','event_name','event_dt']).reset_index(drop=True)"
   ]
  },
  {
   "cell_type": "code",
   "execution_count": 46,
   "id": "aea97195",
   "metadata": {},
   "outputs": [
    {
     "data": {
      "text/plain": [
       "0"
      ]
     },
     "execution_count": 46,
     "metadata": {},
     "output_type": "execute_result"
    }
   ],
   "source": [
    "events.duplicated(subset = ['user_id','event_name','event_dt']).sum()"
   ]
  },
  {
   "cell_type": "markdown",
   "id": "0e765976",
   "metadata": {},
   "source": [
    "Дубликаты по событиям удалены, можно приступать к оценке корректности теста."
   ]
  },
  {
   "cell_type": "markdown",
   "id": "CnzA-efasUrk",
   "metadata": {
    "id": "CnzA-efasUrk"
   },
   "source": [
    "## 3. По таблице `ab_test_participants` оцените корректность проведения теста:\n",
    "\n",
    "   3\\.1 Выделите пользователей, участвующих в тесте, и проверьте:\n",
    "\n",
    "   - соответствие требованиям технического задания,\n",
    "\n",
    "   - равномерность распределения пользователей по группам теста,\n",
    "\n",
    "   - отсутствие пересечений с конкурирующим тестом (нет пользователей, участвующих одновременно в двух тестовых группах)."
   ]
  },
  {
   "cell_type": "code",
   "execution_count": 23,
   "id": "aNa3zHrKslEN",
   "metadata": {
    "id": "aNa3zHrKslEN"
   },
   "outputs": [
    {
     "data": {
      "text/html": [
       "<div>\n",
       "<style scoped>\n",
       "    .dataframe tbody tr th:only-of-type {\n",
       "        vertical-align: middle;\n",
       "    }\n",
       "\n",
       "    .dataframe tbody tr th {\n",
       "        vertical-align: top;\n",
       "    }\n",
       "\n",
       "    .dataframe thead th {\n",
       "        text-align: right;\n",
       "    }\n",
       "</style>\n",
       "<table border=\"1\" class=\"dataframe\">\n",
       "  <thead>\n",
       "    <tr style=\"text-align: right;\">\n",
       "      <th></th>\n",
       "      <th>user_id</th>\n",
       "      <th>group</th>\n",
       "      <th>ab_test</th>\n",
       "      <th>device</th>\n",
       "    </tr>\n",
       "  </thead>\n",
       "  <tbody>\n",
       "    <tr>\n",
       "      <th>0</th>\n",
       "      <td>0002CE61FF2C4011</td>\n",
       "      <td>B</td>\n",
       "      <td>interface_eu_test</td>\n",
       "      <td>Mac</td>\n",
       "    </tr>\n",
       "    <tr>\n",
       "      <th>2</th>\n",
       "      <td>001064FEAAB631A1</td>\n",
       "      <td>A</td>\n",
       "      <td>interface_eu_test</td>\n",
       "      <td>Android</td>\n",
       "    </tr>\n",
       "    <tr>\n",
       "      <th>4</th>\n",
       "      <td>001E72F50D1C48FA</td>\n",
       "      <td>A</td>\n",
       "      <td>interface_eu_test</td>\n",
       "      <td>Mac</td>\n",
       "    </tr>\n",
       "    <tr>\n",
       "      <th>5</th>\n",
       "      <td>002412F1EB3F6E38</td>\n",
       "      <td>B</td>\n",
       "      <td>interface_eu_test</td>\n",
       "      <td>Mac</td>\n",
       "    </tr>\n",
       "    <tr>\n",
       "      <th>6</th>\n",
       "      <td>002540BE89C930FB</td>\n",
       "      <td>B</td>\n",
       "      <td>interface_eu_test</td>\n",
       "      <td>Android</td>\n",
       "    </tr>\n",
       "    <tr>\n",
       "      <th>...</th>\n",
       "      <td>...</td>\n",
       "      <td>...</td>\n",
       "      <td>...</td>\n",
       "      <td>...</td>\n",
       "    </tr>\n",
       "    <tr>\n",
       "      <th>14519</th>\n",
       "      <td>FFE600EEC4BA7685</td>\n",
       "      <td>B</td>\n",
       "      <td>interface_eu_test</td>\n",
       "      <td>Android</td>\n",
       "    </tr>\n",
       "    <tr>\n",
       "      <th>14520</th>\n",
       "      <td>FFE7FC140521F5F6</td>\n",
       "      <td>A</td>\n",
       "      <td>interface_eu_test</td>\n",
       "      <td>PC</td>\n",
       "    </tr>\n",
       "    <tr>\n",
       "      <th>14521</th>\n",
       "      <td>FFEFC0E55C1CCD4F</td>\n",
       "      <td>A</td>\n",
       "      <td>interface_eu_test</td>\n",
       "      <td>PC</td>\n",
       "    </tr>\n",
       "    <tr>\n",
       "      <th>14523</th>\n",
       "      <td>FFF28D02B1EACBE1</td>\n",
       "      <td>B</td>\n",
       "      <td>interface_eu_test</td>\n",
       "      <td>PC</td>\n",
       "    </tr>\n",
       "    <tr>\n",
       "      <th>14524</th>\n",
       "      <td>FFF58BC33966EB51</td>\n",
       "      <td>A</td>\n",
       "      <td>interface_eu_test</td>\n",
       "      <td>Android</td>\n",
       "    </tr>\n",
       "  </tbody>\n",
       "</table>\n",
       "<p>10850 rows × 4 columns</p>\n",
       "</div>"
      ],
      "text/plain": [
       "                user_id group            ab_test   device\n",
       "0      0002CE61FF2C4011     B  interface_eu_test      Mac\n",
       "2      001064FEAAB631A1     A  interface_eu_test  Android\n",
       "4      001E72F50D1C48FA     A  interface_eu_test      Mac\n",
       "5      002412F1EB3F6E38     B  interface_eu_test      Mac\n",
       "6      002540BE89C930FB     B  interface_eu_test  Android\n",
       "...                 ...   ...                ...      ...\n",
       "14519  FFE600EEC4BA7685     B  interface_eu_test  Android\n",
       "14520  FFE7FC140521F5F6     A  interface_eu_test       PC\n",
       "14521  FFEFC0E55C1CCD4F     A  interface_eu_test       PC\n",
       "14523  FFF28D02B1EACBE1     B  interface_eu_test       PC\n",
       "14524  FFF58BC33966EB51     A  interface_eu_test  Android\n",
       "\n",
       "[10850 rows x 4 columns]"
      ]
     },
     "metadata": {},
     "output_type": "display_data"
    }
   ],
   "source": [
    "# Выделим пользователей, участвующих в тесте interface_eu_test\n",
    "i_test_participants = participants[participants['ab_test'] == 'interface_eu_test']\n",
    "display(i_test_participants)"
   ]
  },
  {
   "cell_type": "code",
   "execution_count": 24,
   "id": "53dd4f00",
   "metadata": {},
   "outputs": [
    {
     "data": {
      "text/plain": [
       "5383"
      ]
     },
     "metadata": {},
     "output_type": "display_data"
    },
    {
     "data": {
      "text/plain": [
       "5467"
      ]
     },
     "metadata": {},
     "output_type": "display_data"
    }
   ],
   "source": [
    "# Посчитаем количество пользователей в каждой группе теста\n",
    "[count_users_A, count_users_B] = (i_test_participants[i_test_participants['group'] == 'A']['user_id'].nunique(),\n",
    "                                  i_test_participants[i_test_participants['group'] == 'B']['user_id'].nunique())\n",
    "display(count_users_A, count_users_B)"
   ]
  },
  {
   "cell_type": "code",
   "execution_count": 47,
   "id": "9f5adb4d",
   "metadata": {},
   "outputs": [
    {
     "name": "stdout",
     "output_type": "stream",
     "text": [
      "Процентная разница между группами А и В составляет 1.56%\n"
     ]
    }
   ],
   "source": [
    "#Расчитаем разницу в процентах в количестве пользователей в группах A и B\n",
    "from math import fabs\n",
    "\n",
    "P = round(100 * (fabs(count_users_A - count_users_B) / count_users_A), 2)\n",
    "print(f'Процентная разница между группами А и В составляет {P}%')"
   ]
  },
  {
   "cell_type": "markdown",
   "id": "2dba99a6",
   "metadata": {},
   "source": [
    "Разница между количеством участников тестирования в группах А и В небольшая и составляет всего **1.56%**. Распределение можно считать равномерным.\n",
    "\n",
    "Посмотрим на распределение участников в группах по категориям используемых устройств."
   ]
  },
  {
   "cell_type": "code",
   "execution_count": 48,
   "id": "ff8d0810",
   "metadata": {},
   "outputs": [
    {
     "data": {
      "text/plain": [
       "<Figure size 864x360 with 0 Axes>"
      ]
     },
     "metadata": {},
     "output_type": "display_data"
    },
    {
     "data": {
      "image/png": "[encoded data removed]",
      "text/plain": [
       "<Figure size 432x288 with 1 Axes>"
      ]
     },
     "metadata": {
      "needs_background": "light"
     },
     "output_type": "display_data"
    }
   ],
   "source": [
    "#Построим диаграмму распределения количества пользователей групп А и В по типам используемых устройств\n",
    "user_by_device = i_test_participants.groupby(['device', 'group'])['user_id'].nunique()\n",
    "\n",
    "plt.figure(figsize=(12, 5)) # Создаём контейнер графика matplotlib и задаём его размер\n",
    "\n",
    "# Строим столбчатую диаграмму с помощью pandas через plot(kind='bar')\n",
    "user_by_device.unstack().plot(\n",
    "               kind='bar', # Тип графика - столбчатая диаграмма\n",
    "               rot=0, # Градус вращения подписи по оси Х\n",
    "               title=f'Доли пользователей по исп. устройствам',\n",
    "               colormap='coolwarm'\n",
    ")\n",
    "\n",
    "# Настраиваем оформление графика\n",
    "plt.xlabel('Тип устройства')\n",
    "plt.ylabel('Количество пользователей')\n",
    "# Включаем легенду\n",
    "plt.legend(title='Группа')\n",
    "# Добавляем сетку графика\n",
    "plt.grid()\n",
    "\n",
    "# Выводим график\n",
    "plt.show()\n"
   ]
  },
  {
   "cell_type": "markdown",
   "id": "5a7b5f67",
   "metadata": {},
   "source": [
    "По полученному графику видим, что количество пользователей, использующих различные типы устройств в группах А и В, примерно **одинаково**."
   ]
  },
  {
   "cell_type": "code",
   "execution_count": 27,
   "id": "01c45fd7",
   "metadata": {},
   "outputs": [
    {
     "name": "stdout",
     "output_type": "stream",
     "text": [
      "Пересекающиеся элементы: {'6A2064F288EF094F', '0C2E77C6A381704A', '0A0141A363E2E051', 'D7933558E33BF7D5', '48BEDF1889241425', '6D54D48C640D27D3', '7F2C298110AA73B4', '9E0A3633886C080E', 'E7F4B5EBC0495D72', 'A2212CF79158D340', '74EEC94A70685C1E', '2A12B7DB3C6E84D6', '944C88D5DF108AED', 'A9E0A8057A5F07D1', '4E43940B0CF8D947', 'A8C57C0D4118F4D7', '72742C5F312A1FEC', '505555B3CCA490C8', '91E39AA34D6D1173', 'E1489CCA162BC2E6', '40194A2E6C03B547', '147C62E5B82E2EA9', '934134714E66295F', '0D6F5E157A56FB00', 'CC705D51C74418AD', 'B60B4563ADC259E3', '5650B53B91DC98BB', '783A96FF14C40478', 'EEF5EFB2D5915CF1', '06D2B163CB560FAC', 'FEC0BCA6C323872F', 'ECC76B90EB71C492', 'E18D25D68D9FCC60', 'AFFC4117AC279D49', '64E7466FBB579E9E', 'DA8DABF19A0203FD', '9CBD8387C8A1DDDF', '71A21F6C17C665C6', '6E3E5F88B6A3B401', 'C21237DC47AE00C5', '1CC27A00D4907AAB', '64CD9350DEEE01B6', 'AA5A1803D3FA76B4', 'C1760622B65C9B84', '47ADBF580CF107E1', 'BD23AF6242CA944B', 'D40A89E14F1C10BD', '60A6101325BBA47E', 'CA6F4DAED160E5B1', '4F26C1C82B9EA0B5', '2A7E32FA8EF4DBA1', 'A3EC85E750F2AFC6', '08589AA89496453B', '597F7FD5AA3524D3', 'D0562837FBB58AC5', 'D1BB2F57BCD02BAE', '8A26EBC1BA92524B', 'FBF31896CD930197', '81AA83FBC31B6C0B', 'AB94ADBD1345E896', '71D1FF7218FB3F1E', 'F38941283A36C34B', '14E7C76B7AB8822A', '10863662C3B5AB49', '0BA00E790AA510C1', '8C0361CB080810CA', 'CA331DA5AECB1774', '17DD74F263374528', '732A1335A53C14D5', 'CDED0FACF20CA716', '1675B921AC721DBE', 'DC16020AF1E1177B', '04F2CF340B4F3822', '4409E20FCD07CD14', '2DC0C9E9D89D2352', 'CBEFCA3BFDE4CC58', '44F7F21118841F2D', 'CC9D23AA2AD67118', 'DA7D4CF1CBBADE49', '067D05BD30F04F2E', '3D1A366EDDC82832', 'A412E4B7C71C0D94', '4DAD6F609E7D7328', '7E4B0D11D179F4EC', '2AE10F8C21B66E8E', 'FF2174A1AA0EAD20', '697F116B31D05FCF', 'C7D588F1ABF3A91B', 'E8BBE017F65D7CEA', '8D46D7EB5112DC9D', 'AF72679D1CB8C3A5', '9D06341739D723D5', 'F195464E8F2E0267', 'EC9E9E250559033B', '609EBA439CB96E0D', 'E1EA339E17C0D568', '2139548144435929', 'FB6F6BC119E1DBD5', '557A3001E88A209B', 'BA98FD8F84C838C7', 'C615792E479BC0C8', '0ACD764342811460', 'BBE0583F0240AABB', '70CE04E185154AD7', '6786C23A54D59DD4', 'CCE74CB0FBDD3533', '701B5B6292603C20', '3A5B11DD76C2CA65', 'EEA592D3C6F5E5A4', '1AE6FF352875CA8C', '1381632DA8AD52C0', 'EF2E4FAF26951358', 'F9FE888A3A2222E9', '9A7D2A236FE09070', '0C2FF828F063B7AD', '21C2D41E1FDF1E70', '262C647D99621FF5', '0DABE6F3956778ED', '549A5092FD1BD5D9', 'C3666DF0F2EE66A9', 'C8460FF8BEF553A4', 'DBF9BDC859BC4459', 'ED11170D5BB9D744', '3FAA6AD64C3B47E8', '748DD5E33B6F98C3', 'A7EE379599B38AE0', '3FD750E6566CE5E3', '21E6AD81A122B126', '6655D192F953E7CE', '994D853A1F8D1771', '9270DB42112E3B14', 'F4BEF7B9C8172E36', '20285349F62230E9', '29FB97985AB0E005', '9BD9E79856D54059', '4B34A5BD1D1AEF0D', '124B6B7F19141CCC', 'C670F0DE6C790F3C', '65A30CEC01FAB999', 'B3AEC82CC231D137', '3B3F68DC5779E517', 'A847CBD3730F6D41', '18569C8DCB0771B6', 'FB158B12F907E8FB', 'D857FFFE7A6AC9A4', '27736FDA67EF07CB', '676A58D41A3E0A47', '275A5125510426EB', '3341349F0FD06C14', '4FE90CB247C78EC5', '0F1FF07B3788976D', '7E26530508267F69', '2B8243043C2CD72F', '3D960D56A0E4E0C7', '3D89F6FEA1926F70', 'A0BAE4190D41A285', 'C5AE17CBD0B33628', 'A8738C98EA4BB1A7', '4B49F8A4F8D891BE', 'FA86D8DFAD3ADADE', '963B1853B52C27E5', '8683850A677DCC7A', '824E3C1D0F769FA3', 'D0CD9015FE1504CB', 'B9AF175E0AAECD8C', '1D831F7D0F539AFA', 'AC7F4C4BDAD56C17', 'BAAEE6D68FB90D22', '9F0571C70D4BD33B', 'F85FD73AAF991283', '2C662D285ED4136C', '102613D89170C020', 'C176364EF5C025EA', '8C5E672BF19D5DEE', '7DF21AEB1AA231F9', '9FC882129DBDE625', '2F28A3B279E5494A', 'A8C1429C2249A1C3', 'C72752E18AD12854', 'CA6B3F85024FAF6B', '1E7B931452B2F965', 'C422FD79606A0B4C', '7B5B4C6306A09430', '037C3790C2C408BA', '86172D2A196D7D03', 'DE20AA504779785D', 'E17D1ABC377C38CA', 'EAD7AC780F0CB611', '0B0D84A866817D84', '33CEAE52626CA99E', 'D0ECAB9DA4FE2E00', '604F9F5DB1EB8997', 'DF72BA6A526F714F', '495E506B3D29645B', '983E7021DDC7E0FA', 'CB0B5021B1BE7403', '5A47441C0AC5FAEE', '69E475C5708ABE56', 'A4D5B31067614B05', '1AD9F88DA92AC4E5', 'C765194AB5550498', 'F424816C207F768D', '22092C653019E91C', 'A533C3D1BEAC8798', 'EB87A4B3C0008AFB', 'A383BFC91C909D0E', '5461DD0AF191F581', 'F33A89BD00CFDDF3', 'C573C24EF423143C', '46999A8B46BC31A1', 'B931BC5D6FE1416C', '64D18CAEAEE6150A', '2EC08F2084FF3438', '61572514C5A56E3F', 'C57E6C4AFF4FF31A', 'EB215155BA578253', '3AA908B2D4A96AC2', '75654D851F8C8F59', 'C26D3BB63817A267', '7D8970118A695D48', '80055F949A01DDAD', 'B997F98ED3AA6104', 'D7A2C421522E93A4', 'D82DD23742E57665', '19AC976D25997BE9', '00EFA157F7B6E1C4', 'A352755099619F01', '10C2A2FB00BD9AE2', 'F0B92123E5142CBB', '14D84579BCBAD800', 'CE48F47093B03425', '8F5D7DE5A7B06249', '50CF32FEE0C61DA9', 'FF44696E39039D29', '52667DF0F366C919', '8EB3AE898305A358', 'F71DD44DAB783CEB', '1B52830A832D33F5', '85D9DB7B0BC24D2A', '1C711C65356BCFBF', 'CA9D3DEA00836355', 'D1DFCE26FF3C713F', '7415696C510E38FB', 'AA364AF6A253170F', '60E68A4F33951169', '1E8329A6915FB27E', 'B42748BA986E4163', '37094134968B2013', '3656B8F3DEF02DA0', 'BC4A722DBC9D0784', '1A4A33FE1C0FDD90', '2ED365A23D725DB0', '5813B74E3ED6094E', '83AB3C13B3972BAE', '0E6F91028486376D', '5DECF6D0ECE58DF6', '79B52A43517478A4', 'EF449601C94D2496', '127DA1103176E88E', '3F52D53AB33C9FD6', '5ECF8AD51FC8062E', '78745E80BA159887', '98720595D29108E9', 'DF0A6D48CBB3969F', 'A2DB18F90D9E3362', 'AFF3D30CC385F0E9', '187343735EC71686', 'BBFD227B06D480C6', '70BF82527E6ED9C3', '41FA2525E7869F35', 'D9C92EC5F9478381', 'E0DF3060D454B5AF', '86B91078B1F0BA1A', 'FC2DA0D7EF375B27', '9F32866BD479E689', 'E85E1F634E368569', '24D3AAA91EFD597F', '9F15AB8A7F968248', 'DDCEDA0705FF68FB', 'ABFF0B9BAD11BB5D', 'FC3F3E4DA7C85F88', '107D9F8613EBF2AA', '535DC74493925CF8', '1C7C7C34158EB086', 'BF3665AB1DF86357', 'C9E2691EAD9EF4BB', 'C2025648F77BD80B', '0F2729666CE8EF33', '08D42E112D1F4407', 'F5BB0B36AA8DC1D4', 'FE8F9858BBE502D9', '73CE2DE1253D58B4', '770B5C9E0E546E44', '8F98834C531143DA', 'C8BDDF5639850737', '573EF5CB449265BE', 'DE078758B0515023', '0A5E3BE3C51CB47A', 'BE600B10445D29C4', 'F1B93BAE75EE0FB2', '90AC003E691D70D4', 'D266B29CC73DD0F9', 'C77D7125A7F73F33', '5AD2A85FFA7D7EBE', '5207E56E697027E9', '5A26996E38367C70', '84AAB026310D49C4', 'D2A9C2B69B9F4574', '743EFA16F928E18B', '87A8BCBB07EBDACA', 'CE264232AC9049B8', '891458DEF142C0A3', '2BEDCA2DF5D4679F', '9A8CD4B32D7511F1', 'E77F99BCF9D8AB96', 'E3FE22D7C70B05E6', '8D406B3B500671BD', 'B2716998187D5D74', '9E656B4D34C68949', '3AE5E3EE2C8A8727', '95401934D6D6D4FC', '221AA0E38F37A7B7', 'C74B6E95352ADE79', 'CE771EFC59ED44A5', '56F9D84470F97FF0', '303063C7A89A39CA', 'E123EF1A9A7332A4', '001064FEAAB631A1', 'C1FFA9A2B049B203', '9266418A9D2FA813', '894A2506B3A50D03', '8611C1CA3986E553', '0CA93D3A4A1D8389', 'A1C3D3C6C3CADDC5', '03FBDF999D5B81B8', '24553DD3FF973EE4', '52EC082510DA513B', 'A980A65F42FB1BB4', '0082295A41A867B5', 'B3A2485649E4A012', 'DECA5C05A77980A1', '5A7165E3831CBE75', '928364C4C9F13FA8', '38189578561F38CB', '5B57E88DFE82FAD6', '04C4D0F1A70300A5', '0CC466ED84E0756D', 'A35BD08F60AC00B8', '947658F983871E74', 'FB9FFB4BA8695C78', 'D1FA009C9B514DD7', '9918D1C354A1383A', '649CE5D5A38BFA8B', '1D6A02B0987CD71A', '88FB1EDF3E249223', 'B043E52A918CDD6E', 'ACDCFF5D6EEDBEAC', 'D9128C07E09FF452', '4CCFDC7BE9B6FE73', '5BDF2A772826F42C', '967680A9D7C9AFD1', '9FB7D7666F50835C', 'D2F6FB926A64D196', 'B0244412983000C5', 'DA2880E43566AF12', '41EDEEC440887B2C', '412F5C9F04EE8F69', '48CFE37563932DC2', 'A3BEB02A027BA3C4', '0EBE4BDE16D19DC0', '220C8F0BE40515E5', '6DF6E1615D629BA8', 'E0272BC86CC88DC7', 'EE9E527A761299B2', '2FCC63EB9CB798BF', '1353B1C2F6E6AA4E', 'DF7F485FA44A60AF', '46BDEF99D733A7B7', 'F10551276E3FDD53', 'AB88A0F609618A2A', '3A6D88AB973BD99D', '2170CB76798D36EE', '4408C615880185FB', '68373F4331DDD2E6', 'EABF946459C4DA3A', '96BDD55846D1F7F6', 'EAFB9027A27D510C', '8FF91E21E27A330D', '635CA54AA6058DAE', '8DE56E6BDA5F54AC', 'A7957CDA89BDE94F', '2EC26EB640A1756D', '0DB417842D3B79A2', '886E52074D084B18', '5A5D645876C5C692', '30DEB75B33B92DC8', '9BFFAFDAB999DF19', '3BDE2B9FBC14F7A4', '5D72D0AEF96C50FD', 'C79239C16E4E6694', 'F13CC3EF6739F4C0', 'D1D7C0CCE823D871', '7FF05ACE1602142C', 'C45D1641140AB2BC', '65A33D1E2F637CE6', '0BC7C730D40D19D3', '115ABCFDBDDB5950', '25826F4FE6832AF1', '0ADFFFE9C0D60092', 'BE0FDC8CC0D5455D', '8285135A01FF5488', '84F840D269A65875', 'A8294E42CCC07445', 'A4F18DF9C484EDC0', '307C06C0E6F09B93', '48496344F079B793', '7CEFBD3C6ABEF91A', '57442DD4178AFE27', '5438D422A6A53E0E', 'B242B046BC32ADDA', '02313B9E82255F47', 'D9F243D9F177689B', '6C2C087CEF08A20E', '6EFF2BB96F97768F', 'DD9FB2652AE4ACBA', '10779B9305942526', 'B8AC521CB28510E7', 'EF058AAD0A56A298', 'CFDED9167B27A57F', '96749D41A2185B46', '9C1EFF68BC2F16F3', 'BF1EB8E6FA3F19B8', '7963560AC5D4166E', 'B150C94FFD64D8B0', 'DC41AFF8213BE01A', 'BE52857ABCAD4C9B', '5EC32E17A02C2131', '41C7928F2ED27E66', '00E68F103C66C1F7', '49C45D71BDCE2F69', '2CBFC548B33C0259', '37E78FED858E7061', 'E3481D64A20DA394', '5EBCE7B573FA0578', '8D4D2425F80F6A74', '85521867220EB1E7', '340D9C518D3CBB8D', '98D45D3A9D7E3911', '01B9975CAE144B78', '1C5874DE0D952A0D', 'BD31CABB6D5C6561', '0363BAFB478AA9EF', '123C3AC236BE84F0', '9429C337BF221E89', 'B7229F43B32B5593', '395461648C47B5E1', 'CBA33B9DE421A616', '6B72CFAE1935C789', 'F098EC2120B5150C', 'C389958204955C98', 'F4C8BB8D1622FE87', '14AEC962812EB706', 'B06B45B7C3E5E721', '0EA9AB1C2A159C77', 'E40FA02A8A53F693', '958426148AFA05C5', 'DC24142B23D9FEDD', 'B83CF8CFD3575F8B', 'E32D4C0315D6BFBE', 'A12886FD7DA592AF', 'CF849D6380A28CA9', 'E3BEB139D0839F91', 'A944D2BCDFD50619', 'D17646F57096613B', 'EDDF1CA5A0EB8586', 'E391353FC3A4056D', '8E2FDE8953DB6A48', '1B72B5CD89B93B68', '96070D0B8FD4C5BF', 'B582D211C1BE1FFD', '542FE442CF2BDA4B', '94BE60EF959D177D', '8E52B17EF9DCA68B', '7875B71ED824F8F2', '8FA915CDB5994BDC', '2F52D15FF20EE730', 'C41BBCA9DACE544D', '1382E5D05428EBCD', '329E3207708990E1', '69B106F098CB640E', '624B51C834246D6E', 'DA4D24731C8CCEB8', 'C04E36E535A6F740', 'B2795EB0A968DFB5', 'B6E4E414699EFC1F', '4664BF4717549775', '1E8855206E49EFF8', 'C26CED3FB9AFF742', 'E0CCA0E17AD074DA', '57E796E81DD60883', 'F0A1C31A7211AC16', 'FCF70F6E1871BD78', 'C474F67E2204321C', '2BDC4DBEBBA058B6', 'FE82D7FC50D4155B', 'B27B9689064C54C4', '8094961C0D414366', '803230F1D8216380', 'A791C2D62B213C96', 'F03F667009F16326', '19302754B5457163', '7BC59B90C9447C42', 'CD77B10F620BEABA', 'EEFDF8577ED817C0', '4DBBBAA6705078D0', '0F13D8C2809AD613', 'DD4731E5B4C9C4EB', '8FB9E95B030D25C5', '3BB8C637AE50D857', '24BE89E87E2368BF', 'BA9906DF9975512E', 'F7E2CAFE32DB0B14', '8CE0BDF8F59A752E', '75AC3DC6E14554D0', '6B0B075EA63618BE', 'E6FE73B8B903B31B', 'ED61DF6AA1B81F5B', 'F97D8746923ABA37', '6050D52AD58BC624', '16F2DB656CC2F952', '3279592816F7F6D2', 'B19324D874BEE1A5', 'A8533224E9384B16', '8B2134D31A514E4E', '9657A8EEFB5E37E5', 'D8DA1D568FCF46ED', '0D7E9E93CD497547', 'C226A7A3002ED8BE', '1073D7DFF1BBE8BB', '686549722B54A3E1', '12AD54E437AB3BF5', '4764F95CF4989E46', '7A4A6B4CC6FDB0FF', 'FABB6D49B11E673F', 'EF6DBFA129654B41', '4B45602B7DC37B62', '224F9E7FA339E6A9', '468A90E95D36CADB', '7AFFAFC4121EB5B2', 'F34D48681A35BD3B', 'EAF000D4CC7635B7', '43525009898D1143', 'F4E16CAFB780CA34', 'FAA7192A42F9F8DA', '6445624A3AE163E6', '213C96A57E70B18F', '65678C4C3E6AF563', '84DC74ED5E60BA6A', '465CD5B78E1AA5B7', 'AA825CB62FB0EC0B', '37F7B4F29C5F6396', 'E1259EA0AC254490', 'BF6D4EF4B54B3E94', '49D69A4901413D82', '4803D52DB8782CC2', '3981FFA649C17699', 'B37F427F93BCA1E3', '0EE3092A08562765', '9868DEF9E0B7E2C4', 'A09DFE27D4CFF8E8', '788C61EDBDD38346', 'B01CF7E5AC419DE0', '6E8A538DFED17F64', 'A71444B5BEB5CCC4', '9A5549A4A85FCF06', 'E68002AA33773AD5', '13B7E3DA955377BA', '6CAA4AF4C12A22B9', 'DFE341550729F28E', '2828E6688DC580C4', '4CCE583A34A8362C', 'D5F578A546F3E804', '207E61D6D4F44D97', 'F07BB43BAEF2AB42', '8C69C35FB5E142F8', '507ADD5337970C14', '59D9BD2A3172D3F4', 'E0EEE04D9FDB4931', 'DD4352CDCF8C3D57', 'DABC08CC80316871', '639050CCC2A6C4A1', '4A55475E078F40DC', '02894A55BC14A70E', 'C89E24F4C723CEF4', '13AA9B89A2885F8E', 'AEE24B6142A3C431', '67AB39E76836E176', 'D5DD44281759F7C8', '993BDE69A0DE0391', 'E253DCB9EC1C014E', '90192F1A66D5A0AE', '3C37EE92E7960750', 'FE2AF0E94DBD470E', '6610064A4B2303D1', 'D7A8DFC1A19E65B5', 'C0924D3FF1BEAA05', '1D9020D7979F924A', 'E594B711ADD81DD8', '12A77BCF101643B5', '954C980B4A9559FF', 'FEA0C585A53E7027', 'D6924B9AB9903228', '53732758D90FB1E4', '3242BDDFA690A22B', '13AE4DFAC67ACEB3', '8FC9D1BB3017BE66', '4122B8F30EB2271C', '091AC977394578DA', 'C7750723906C925A', '9E68AB5C5C7FEFF4', '4B058B8F19045AC9', '0D77D907C24CDAC1', 'DF9C2411ADA62C66', '2F6674627B916D5C', '6B1D0D8C4F8FBBEC', '74285DE881A72F4C', 'A81BA2A7B5FD1862', 'F507CB8030C885FB', '34A2E022930DFCA3', '66821339106C8891', 'B817F0C0928EDB27', '23F10CDFF7372B06', 'E2E336528AB6202A', 'A4312FFD172A4998', '4566C623449592A7', '2A2A3F0E002F81B5', 'E7F87F9FBA3269B1', '9C99E4676D6A8B44', '341E8DBCD6C8B223', 'C7D1A5A6F6BAD476', 'CE27C7943C1BB6ED', '79DF9D6EDC7A58CE', '0FF10274AC68852A', 'BEF16764A13AEC34', 'C286A270CFB9925D', '8C66932374EF8009', '055A4CD17A483B8E', '16BE66466549CD42', '565EF59DDD36B95B', '2D6A6472D7F46812', '46A7B6A9C1C4E46B', '6DFDC639B8B85EF7', '111E0B8A76E90532', '544EE0E8D5E36FDA', '44EB15AD423DC31C', 'CD650095FD201699', '9431D6C9475CFD3A', 'E7CC63BF20618321', '5424E9D321EC3567', 'E02247CEF572ACCA', '3382B624CF985A13', '2CDFC246EAEEAB13', 'C86F0150DA3B10F2', 'D2D8E67B7D0DE2D2', 'C1E43A9B1D675927', '04988C5DF189632E', '5AD6C5CA55F10640', '3DEA2F9B3EDA8B91', 'A8C25A605F613665', '4B5225B3DCB853CE', '8A2FACABB19EDC70', 'C27F677720E68EA4', 'B06BF284879EED23', '3D264F3D953DBA67', 'EA8341F38EFFE04C', '52828376E649CA27', 'C4D48357F1C18C76', '0DD2E54D87CFD4A4', '2B8FD20CA8A2A616', 'E68B2613255FA585', '020A95B66F363AFB', '63F5FC15B31DB5A6', '09D429B94AE0DEC5', '06C6018D3CB3E903', '21AEB217BA764EAB', 'F6D9C08D0E97DE88', 'ACDFC703CACAC820', 'FA8706D1E274805E', '2DF9E85A613E0DD0', 'BF2613BE28381E56', 'A48676A84719B3A7', '5C7F53937B54D161', 'CF03E97B314C5632', '79BED20696125731', 'CBDE46A45FD5E6A4', '25CE0629AC6B6971', '5D5E6EE92AF6E9E0', '5392D9E8F58D9E5F', '4D269D6E438C6D22', 'EFE533D29119526E', '5EF0009854428FB8', '7CBA351852B6F25C', 'A0028F574B5E5DC6', '729F6099B1B31935', '24FB1A84E1C30291', '32E13C1C0F6AC96E', '1796009027406E06', 'EE8401B631ED63CE', 'FFF28D02B1EACBE1', 'BE3C02D74A664180', '0980BF24051C806A', 'A1EE4FBD37EA95B8', '630A7B72AE3824BF', 'E65F1C4C712CDC41', 'C6C4C814B7B202E7', '13FBEB715F4AAE10', '27802765D2458B2B', '1190EEE1FA160468', '7C9CA3F88B8755F1', '65F225074FEC2C03', 'CD668979C54E22F7', 'B6DBDDB2BD00352E', 'C5AD06762E628169', '82F72EC6CDC1BA8F', 'C7CE76E3DBDC7533', '4A61A28F35795FD1', '8F72F2114F2D5184', '23E633E92EDCD195', '7C91912332353320', '00341D8401F0F665', '051D59BC38C3B3AA', '79656F14758D76BA', '603C1A0FA47D1640', '88EEB8C6C37A0521', '902F92052587344F', 'D3A4F3513CC0AA2F', '5F89649C6337CE7D', 'DF79393DADE71EF6', 'DF40EF85F55A958D', '54AAE35DB9DF5C19', 'BCF4888C3F7DE189', '8F1195B887A60121', '8FBAEB717ABA3930', 'E14805CD622EA211', '5B4EFE916AD19741', 'C2E79843ED511E13', '739656E0D7B50B30', '8FF8F87305BB9A7D', 'EE25BC8FA059151D', '4BDA6084191118DF', '6B1DE4B46F1267CB', 'D737563A454A419E', '3F775ABC71333988', '6ED57949BDA6D94E', '5D0240D20EA50D8C', '84C13EFBE76DF52F', 'D0533ECF2A67B35C', '3FC3BE7BAA35F33F', '526BA4A669CC6CC2', '2F46396B6766CFDB', '94464DF2E5398E26', '4949578BF1954CF5', '502902B3C32C72FF', '814DF3DA9DD71B8A', 'F68F7886D0BCE784', 'A3D5BA3E276CD84C', 'AF987F436A7EBD21', 'AA0D36EF3DBFCC9F', '8A9B589AE60EA3C0', 'A76F046D8D47589E', '2D7AF97EEB0056A5', 'D649423E43336656', 'A2CBF9847DA60249', '7060BB1CBE3BAACC', '54633A9BB233F1E6', '8BD80DB1522F7120', 'D235BA1BB8DECBE9', 'BD5317D49443EA5E', '1FA7A8399291885E', '18E7E50874577C8B', '5E9E80BADEA372AB', 'C93F18A3865E93D6', '29DF5A79ECFED897', '1D0FCBD767EE0874', '6A698019769B0F16', 'F8151E51EA08F337', '68E1CED07444D6EC', 'F8564F547AFFC0B9', '60D456E636F6C031', '802AE3764E188FC6', '430C998549E88DAE', '4CF756542084F860', 'A5B5775B0C7D0309', '2787953F22AA5648', 'EA6EA431FF84563B', 'F69BC50D9CC2A47B', 'A731AAAEA9F5C533', '8FFA1D6F89AAEA40', 'ADFE9F163DEA2EAE', '11970FE3A608F9EF', 'DC4E5D8BD6ABF9BC', 'F5B4B562971760C6', '8C0E932FB144D00F', 'C165E8C0C5DE19FF', 'C4F3A9D7BB596E6E', 'DABC14FDDFADD29E', '6D3792154BB5A659', 'C9E32DE296F68008', '4F37FAAD74FB679C', 'C0DDE3AA2A89024F', '51DA2C882D0D7508', 'D9BAC4C97F9C107F', '06D9C758220CBB01', '8B83F28EB9DD639D', '823BE193CDC32ADF', '68B3C70F0C0B4550', 'CBDA858CF7EEE1E0', 'E3048C1D75193226', 'F7BAFF2E0A04F11B', '3B4FF434FA8193B6', '0EF9EA17D205AB66', 'FC37CBE8211E02A8', '59390C0379937AB0', '4D921165CD2825D1', '5B04574502DEFDB3', '3F6CAEC76651E5AC', 'F9B39A46A299971D', 'ABB61823786179CC', '975744C6B0C12D72', '11A1350D1F8AD059', '3E286601D309601C', 'AE49EDDFB9DABE03', 'A6E6ECF8E4924633', 'C33D8C1C81C7AA23', '4C3B9B6D59E98D59', '0FBF679EA1340786', 'B854154628803E46', '23F551153080EBAB', '133F64DC5E24F047', 'DD9DDDB53DA30E40', '79913E8816E3DA5D', 'B7DBE079E5AB148E', '28F165B39D160BC5', 'B01BF1A169A42CE7', '2CA426D092054330', '538F954F6B3AECE4', 'A2614E5A9AC15FC8', 'FB1F9619F8C3CC75', '97AD409895906A32', 'D18A013DBEEB0951', '198FEF39910DCF76', '0EA6AE1AB7BB8ACA', '83E9CFC64D61108E', '9F3480BE97175137', 'D45554BA350E10C4', 'AAE1914BDB419328', '669F197DC7EB4FD9', 'AEB9B39AE54D3598', '9D1710D562537AA8', '6A581C74EF4D5F44', '2B06EB547B7AAD08', '6F70F06DD209676B', '36EDA624DB7B7F90', '74C5CCDA7DF761EE', 'B05232A00CE7DA9B', '3B62EE83708770A5', '3B6ABE8E7872977E', '11C52432A6F7FA6B', '64D39595B31D9ECE', 'B3059CB4FD2DE0FA', '75013CAAF42E90A9', '3C46C1264F52F92C', '5B1F39B5D751B669', 'ED7297A4D3BFA953', '3340B98CBEAEE766', '8B6B98D9A40E0A42', '61D3434CE0D95AB7', '04BE4EFE4C457312', '8C711C385D747C84', 'A800CDEA85871EEF', 'F19288FFDF6014FE', 'E3780F6861A69868', 'EC998D82E096033B', 'B2BB6F16652B21BF', 'CCAF138D12385DF2', 'DAD6760631314417', '10F028FB8193F8C1'}\n",
      "Количество пересечений: 887\n"
     ]
    }
   ],
   "source": [
    "# Проверим отсутствие пересечений с конкурирующим тестом\n",
    "group_i_test = participants[participants['ab_test'] == 'interface_eu_test']['user_id']\n",
    "group_r_s_test = participants[participants['ab_test'] == 'recommender_system_test']['user_id']\n",
    "\n",
    "intersection = set(group_i_test) & set(group_r_s_test)\n",
    "count = len(intersection)\n",
    "\n",
    "print(f'Пересекающиеся элементы: {intersection}')  \n",
    "print(f'Количество пересечений: {count}')"
   ]
  },
  {
   "cell_type": "markdown",
   "id": "e546f104",
   "metadata": {},
   "source": [
    "Получилось, что 887 пользователей участвуют в обоих тестированиях.\n",
    "\n",
    "Чтобы исключить влияние конкурирующего тестирования, удалим пересекающихся пользователей."
   ]
  },
  {
   "cell_type": "code",
   "execution_count": 28,
   "id": "9919cc31",
   "metadata": {},
   "outputs": [],
   "source": [
    "participants = participants[~participants['user_id'].isin(intersection)] "
   ]
  },
  {
   "cell_type": "code",
   "execution_count": 29,
   "id": "49022c67",
   "metadata": {},
   "outputs": [
    {
     "name": "stdout",
     "output_type": "stream",
     "text": [
      "Пересекающиеся элементы: set()\n",
      "Количество пересечений: 0\n"
     ]
    }
   ],
   "source": [
    "# ПРоверим на пересечение пользователей в группах А и В\n",
    "i_test_participants = participants[participants['ab_test'] == 'interface_eu_test']\n",
    "group_a = i_test_participants[i_test_participants['group'] == 'A']['user_id']\n",
    "group_b = i_test_participants[i_test_participants['group'] == 'B']['user_id']\n",
    "\n",
    "intersection = set(group_a) & set(group_b)\n",
    "count = len(intersection)\n",
    "\n",
    "print(f'Пересекающиеся элементы: {intersection}')  \n",
    "print(f'Количество пересечений: {count}')"
   ]
  },
  {
   "cell_type": "markdown",
   "id": "f9f62b95",
   "metadata": {},
   "source": [
    "Пересечений между группами нет."
   ]
  },
  {
   "cell_type": "markdown",
   "id": "GjulgSrlsqUU",
   "metadata": {
    "id": "GjulgSrlsqUU"
   },
   "source": [
    "3\\.2 Проанализируйте данные о пользовательской активности по таблице `ab_test_events`:\n",
    "\n",
    "- оставьте только события, связанные с участвующими в изучаемом тесте пользователями;"
   ]
  },
  {
   "cell_type": "code",
   "execution_count": 49,
   "id": "QMt0Ybo_swDK",
   "metadata": {
    "id": "QMt0Ybo_swDK"
   },
   "outputs": [
    {
     "data": {
      "text/html": [
       "<div>\n",
       "<style scoped>\n",
       "    .dataframe tbody tr th:only-of-type {\n",
       "        vertical-align: middle;\n",
       "    }\n",
       "\n",
       "    .dataframe tbody tr th {\n",
       "        vertical-align: top;\n",
       "    }\n",
       "\n",
       "    .dataframe thead th {\n",
       "        text-align: right;\n",
       "    }\n",
       "</style>\n",
       "<table border=\"1\" class=\"dataframe\">\n",
       "  <thead>\n",
       "    <tr style=\"text-align: right;\">\n",
       "      <th></th>\n",
       "      <th>user_id</th>\n",
       "      <th>event_dt</th>\n",
       "      <th>event_name</th>\n",
       "      <th>details</th>\n",
       "      <th>group</th>\n",
       "      <th>ab_test</th>\n",
       "      <th>device</th>\n",
       "    </tr>\n",
       "  </thead>\n",
       "  <tbody>\n",
       "    <tr>\n",
       "      <th>0</th>\n",
       "      <td>5F506CEBEDC05D30</td>\n",
       "      <td>2020-12-06 14:10:01</td>\n",
       "      <td>registration</td>\n",
       "      <td>0.0</td>\n",
       "      <td>A</td>\n",
       "      <td>interface_eu_test</td>\n",
       "      <td>iPhone</td>\n",
       "    </tr>\n",
       "    <tr>\n",
       "      <th>1</th>\n",
       "      <td>5F506CEBEDC05D30</td>\n",
       "      <td>2020-12-07 01:25:14</td>\n",
       "      <td>login</td>\n",
       "      <td>NaN</td>\n",
       "      <td>A</td>\n",
       "      <td>interface_eu_test</td>\n",
       "      <td>iPhone</td>\n",
       "    </tr>\n",
       "    <tr>\n",
       "      <th>2</th>\n",
       "      <td>5F506CEBEDC05D30</td>\n",
       "      <td>2020-12-07 01:25:47</td>\n",
       "      <td>login</td>\n",
       "      <td>NaN</td>\n",
       "      <td>A</td>\n",
       "      <td>interface_eu_test</td>\n",
       "      <td>iPhone</td>\n",
       "    </tr>\n",
       "    <tr>\n",
       "      <th>3</th>\n",
       "      <td>5F506CEBEDC05D30</td>\n",
       "      <td>2020-12-09 12:40:49</td>\n",
       "      <td>login</td>\n",
       "      <td>NaN</td>\n",
       "      <td>A</td>\n",
       "      <td>interface_eu_test</td>\n",
       "      <td>iPhone</td>\n",
       "    </tr>\n",
       "    <tr>\n",
       "      <th>4</th>\n",
       "      <td>5F506CEBEDC05D30</td>\n",
       "      <td>2020-12-09 12:40:49</td>\n",
       "      <td>product_page</td>\n",
       "      <td>NaN</td>\n",
       "      <td>A</td>\n",
       "      <td>interface_eu_test</td>\n",
       "      <td>iPhone</td>\n",
       "    </tr>\n",
       "    <tr>\n",
       "      <th>...</th>\n",
       "      <td>...</td>\n",
       "      <td>...</td>\n",
       "      <td>...</td>\n",
       "      <td>...</td>\n",
       "      <td>...</td>\n",
       "      <td>...</td>\n",
       "      <td>...</td>\n",
       "    </tr>\n",
       "    <tr>\n",
       "      <th>67577</th>\n",
       "      <td>16CCB1C8C4DCF1AF</td>\n",
       "      <td>2020-12-23 23:50:29</td>\n",
       "      <td>registration</td>\n",
       "      <td>0.0</td>\n",
       "      <td>A</td>\n",
       "      <td>interface_eu_test</td>\n",
       "      <td>Mac</td>\n",
       "    </tr>\n",
       "    <tr>\n",
       "      <th>67578</th>\n",
       "      <td>16CCB1C8C4DCF1AF</td>\n",
       "      <td>2020-12-23 23:55:52</td>\n",
       "      <td>login</td>\n",
       "      <td>NaN</td>\n",
       "      <td>A</td>\n",
       "      <td>interface_eu_test</td>\n",
       "      <td>Mac</td>\n",
       "    </tr>\n",
       "    <tr>\n",
       "      <th>67579</th>\n",
       "      <td>2DDC948BD76ABC57</td>\n",
       "      <td>2020-12-24 21:57:10</td>\n",
       "      <td>registration</td>\n",
       "      <td>-4.29</td>\n",
       "      <td>B</td>\n",
       "      <td>interface_eu_test</td>\n",
       "      <td>iPhone</td>\n",
       "    </tr>\n",
       "    <tr>\n",
       "      <th>67580</th>\n",
       "      <td>2DDC948BD76ABC57</td>\n",
       "      <td>2020-12-24 21:58:49</td>\n",
       "      <td>login</td>\n",
       "      <td>NaN</td>\n",
       "      <td>B</td>\n",
       "      <td>interface_eu_test</td>\n",
       "      <td>iPhone</td>\n",
       "    </tr>\n",
       "    <tr>\n",
       "      <th>67581</th>\n",
       "      <td>2DDC948BD76ABC57</td>\n",
       "      <td>2020-12-24 22:00:40</td>\n",
       "      <td>product_page</td>\n",
       "      <td>NaN</td>\n",
       "      <td>B</td>\n",
       "      <td>interface_eu_test</td>\n",
       "      <td>iPhone</td>\n",
       "    </tr>\n",
       "  </tbody>\n",
       "</table>\n",
       "<p>67582 rows × 7 columns</p>\n",
       "</div>"
      ],
      "text/plain": [
       "                user_id            event_dt    event_name details group  \\\n",
       "0      5F506CEBEDC05D30 2020-12-06 14:10:01  registration     0.0     A   \n",
       "1      5F506CEBEDC05D30 2020-12-07 01:25:14         login     NaN     A   \n",
       "2      5F506CEBEDC05D30 2020-12-07 01:25:47         login     NaN     A   \n",
       "3      5F506CEBEDC05D30 2020-12-09 12:40:49         login     NaN     A   \n",
       "4      5F506CEBEDC05D30 2020-12-09 12:40:49  product_page     NaN     A   \n",
       "...                 ...                 ...           ...     ...   ...   \n",
       "67577  16CCB1C8C4DCF1AF 2020-12-23 23:50:29  registration     0.0     A   \n",
       "67578  16CCB1C8C4DCF1AF 2020-12-23 23:55:52         login     NaN     A   \n",
       "67579  2DDC948BD76ABC57 2020-12-24 21:57:10  registration   -4.29     B   \n",
       "67580  2DDC948BD76ABC57 2020-12-24 21:58:49         login     NaN     B   \n",
       "67581  2DDC948BD76ABC57 2020-12-24 22:00:40  product_page     NaN     B   \n",
       "\n",
       "                 ab_test  device  \n",
       "0      interface_eu_test  iPhone  \n",
       "1      interface_eu_test  iPhone  \n",
       "2      interface_eu_test  iPhone  \n",
       "3      interface_eu_test  iPhone  \n",
       "4      interface_eu_test  iPhone  \n",
       "...                  ...     ...  \n",
       "67577  interface_eu_test     Mac  \n",
       "67578  interface_eu_test     Mac  \n",
       "67579  interface_eu_test  iPhone  \n",
       "67580  interface_eu_test  iPhone  \n",
       "67581  interface_eu_test  iPhone  \n",
       "\n",
       "[67582 rows x 7 columns]"
      ]
     },
     "metadata": {},
     "output_type": "display_data"
    }
   ],
   "source": [
    "# Объединим таблицы и оставим только пользователей, участвующих в тестировании\n",
    "filtered_events = events.merge(i_test_participants, \n",
    "                       left_on='user_id',\n",
    "                       right_on='user_id',\n",
    "                       how='inner')\n",
    "display(filtered_events)"
   ]
  },
  {
   "cell_type": "markdown",
   "id": "fBZ4DC2xswZJ",
   "metadata": {
    "id": "fBZ4DC2xswZJ"
   },
   "source": [
    "- определите горизонт анализа: рассчитайте время (лайфтайм) совершения события пользователем после регистрации и оставьте только те события, которые были выполнены в течение первых семи дней с момента регистрации;"
   ]
  },
  {
   "cell_type": "code",
   "execution_count": 50,
   "id": "sES4-dKts0Yb",
   "metadata": {
    "id": "sES4-dKts0Yb"
   },
   "outputs": [
    {
     "data": {
      "text/html": [
       "<div>\n",
       "<style scoped>\n",
       "    .dataframe tbody tr th:only-of-type {\n",
       "        vertical-align: middle;\n",
       "    }\n",
       "\n",
       "    .dataframe tbody tr th {\n",
       "        vertical-align: top;\n",
       "    }\n",
       "\n",
       "    .dataframe thead th {\n",
       "        text-align: right;\n",
       "    }\n",
       "</style>\n",
       "<table border=\"1\" class=\"dataframe\">\n",
       "  <thead>\n",
       "    <tr style=\"text-align: right;\">\n",
       "      <th></th>\n",
       "      <th>user_id</th>\n",
       "      <th>event_dt</th>\n",
       "      <th>event_name</th>\n",
       "      <th>details</th>\n",
       "      <th>group</th>\n",
       "      <th>ab_test</th>\n",
       "      <th>device</th>\n",
       "      <th>registration_date</th>\n",
       "      <th>days_since_registration</th>\n",
       "    </tr>\n",
       "  </thead>\n",
       "  <tbody>\n",
       "    <tr>\n",
       "      <th>0</th>\n",
       "      <td>5F506CEBEDC05D30</td>\n",
       "      <td>2020-12-06 14:10:01</td>\n",
       "      <td>registration</td>\n",
       "      <td>0.0</td>\n",
       "      <td>A</td>\n",
       "      <td>interface_eu_test</td>\n",
       "      <td>iPhone</td>\n",
       "      <td>2020-12-06 14:10:01</td>\n",
       "      <td>0</td>\n",
       "    </tr>\n",
       "    <tr>\n",
       "      <th>1</th>\n",
       "      <td>5F506CEBEDC05D30</td>\n",
       "      <td>2020-12-07 01:25:14</td>\n",
       "      <td>login</td>\n",
       "      <td>NaN</td>\n",
       "      <td>A</td>\n",
       "      <td>interface_eu_test</td>\n",
       "      <td>iPhone</td>\n",
       "      <td>2020-12-06 14:10:01</td>\n",
       "      <td>0</td>\n",
       "    </tr>\n",
       "    <tr>\n",
       "      <th>2</th>\n",
       "      <td>5F506CEBEDC05D30</td>\n",
       "      <td>2020-12-07 01:25:47</td>\n",
       "      <td>login</td>\n",
       "      <td>NaN</td>\n",
       "      <td>A</td>\n",
       "      <td>interface_eu_test</td>\n",
       "      <td>iPhone</td>\n",
       "      <td>2020-12-06 14:10:01</td>\n",
       "      <td>0</td>\n",
       "    </tr>\n",
       "    <tr>\n",
       "      <th>3</th>\n",
       "      <td>5F506CEBEDC05D30</td>\n",
       "      <td>2020-12-09 12:40:49</td>\n",
       "      <td>login</td>\n",
       "      <td>NaN</td>\n",
       "      <td>A</td>\n",
       "      <td>interface_eu_test</td>\n",
       "      <td>iPhone</td>\n",
       "      <td>2020-12-06 14:10:01</td>\n",
       "      <td>2</td>\n",
       "    </tr>\n",
       "    <tr>\n",
       "      <th>4</th>\n",
       "      <td>5F506CEBEDC05D30</td>\n",
       "      <td>2020-12-09 12:40:49</td>\n",
       "      <td>product_page</td>\n",
       "      <td>NaN</td>\n",
       "      <td>A</td>\n",
       "      <td>interface_eu_test</td>\n",
       "      <td>iPhone</td>\n",
       "      <td>2020-12-06 14:10:01</td>\n",
       "      <td>2</td>\n",
       "    </tr>\n",
       "    <tr>\n",
       "      <th>...</th>\n",
       "      <td>...</td>\n",
       "      <td>...</td>\n",
       "      <td>...</td>\n",
       "      <td>...</td>\n",
       "      <td>...</td>\n",
       "      <td>...</td>\n",
       "      <td>...</td>\n",
       "      <td>...</td>\n",
       "      <td>...</td>\n",
       "    </tr>\n",
       "    <tr>\n",
       "      <th>67577</th>\n",
       "      <td>16CCB1C8C4DCF1AF</td>\n",
       "      <td>2020-12-23 23:50:29</td>\n",
       "      <td>registration</td>\n",
       "      <td>0.0</td>\n",
       "      <td>A</td>\n",
       "      <td>interface_eu_test</td>\n",
       "      <td>Mac</td>\n",
       "      <td>2020-12-23 23:50:29</td>\n",
       "      <td>0</td>\n",
       "    </tr>\n",
       "    <tr>\n",
       "      <th>67578</th>\n",
       "      <td>16CCB1C8C4DCF1AF</td>\n",
       "      <td>2020-12-23 23:55:52</td>\n",
       "      <td>login</td>\n",
       "      <td>NaN</td>\n",
       "      <td>A</td>\n",
       "      <td>interface_eu_test</td>\n",
       "      <td>Mac</td>\n",
       "      <td>2020-12-23 23:50:29</td>\n",
       "      <td>0</td>\n",
       "    </tr>\n",
       "    <tr>\n",
       "      <th>67579</th>\n",
       "      <td>2DDC948BD76ABC57</td>\n",
       "      <td>2020-12-24 21:57:10</td>\n",
       "      <td>registration</td>\n",
       "      <td>-4.29</td>\n",
       "      <td>B</td>\n",
       "      <td>interface_eu_test</td>\n",
       "      <td>iPhone</td>\n",
       "      <td>2020-12-24 21:57:10</td>\n",
       "      <td>0</td>\n",
       "    </tr>\n",
       "    <tr>\n",
       "      <th>67580</th>\n",
       "      <td>2DDC948BD76ABC57</td>\n",
       "      <td>2020-12-24 21:58:49</td>\n",
       "      <td>login</td>\n",
       "      <td>NaN</td>\n",
       "      <td>B</td>\n",
       "      <td>interface_eu_test</td>\n",
       "      <td>iPhone</td>\n",
       "      <td>2020-12-24 21:57:10</td>\n",
       "      <td>0</td>\n",
       "    </tr>\n",
       "    <tr>\n",
       "      <th>67581</th>\n",
       "      <td>2DDC948BD76ABC57</td>\n",
       "      <td>2020-12-24 22:00:40</td>\n",
       "      <td>product_page</td>\n",
       "      <td>NaN</td>\n",
       "      <td>B</td>\n",
       "      <td>interface_eu_test</td>\n",
       "      <td>iPhone</td>\n",
       "      <td>2020-12-24 21:57:10</td>\n",
       "      <td>0</td>\n",
       "    </tr>\n",
       "  </tbody>\n",
       "</table>\n",
       "<p>67582 rows × 9 columns</p>\n",
       "</div>"
      ],
      "text/plain": [
       "                user_id            event_dt    event_name details group  \\\n",
       "0      5F506CEBEDC05D30 2020-12-06 14:10:01  registration     0.0     A   \n",
       "1      5F506CEBEDC05D30 2020-12-07 01:25:14         login     NaN     A   \n",
       "2      5F506CEBEDC05D30 2020-12-07 01:25:47         login     NaN     A   \n",
       "3      5F506CEBEDC05D30 2020-12-09 12:40:49         login     NaN     A   \n",
       "4      5F506CEBEDC05D30 2020-12-09 12:40:49  product_page     NaN     A   \n",
       "...                 ...                 ...           ...     ...   ...   \n",
       "67577  16CCB1C8C4DCF1AF 2020-12-23 23:50:29  registration     0.0     A   \n",
       "67578  16CCB1C8C4DCF1AF 2020-12-23 23:55:52         login     NaN     A   \n",
       "67579  2DDC948BD76ABC57 2020-12-24 21:57:10  registration   -4.29     B   \n",
       "67580  2DDC948BD76ABC57 2020-12-24 21:58:49         login     NaN     B   \n",
       "67581  2DDC948BD76ABC57 2020-12-24 22:00:40  product_page     NaN     B   \n",
       "\n",
       "                 ab_test  device   registration_date  days_since_registration  \n",
       "0      interface_eu_test  iPhone 2020-12-06 14:10:01                        0  \n",
       "1      interface_eu_test  iPhone 2020-12-06 14:10:01                        0  \n",
       "2      interface_eu_test  iPhone 2020-12-06 14:10:01                        0  \n",
       "3      interface_eu_test  iPhone 2020-12-06 14:10:01                        2  \n",
       "4      interface_eu_test  iPhone 2020-12-06 14:10:01                        2  \n",
       "...                  ...     ...                 ...                      ...  \n",
       "67577  interface_eu_test     Mac 2020-12-23 23:50:29                        0  \n",
       "67578  interface_eu_test     Mac 2020-12-23 23:50:29                        0  \n",
       "67579  interface_eu_test  iPhone 2020-12-24 21:57:10                        0  \n",
       "67580  interface_eu_test  iPhone 2020-12-24 21:57:10                        0  \n",
       "67581  interface_eu_test  iPhone 2020-12-24 21:57:10                        0  \n",
       "\n",
       "[67582 rows x 9 columns]"
      ]
     },
     "metadata": {},
     "output_type": "display_data"
    }
   ],
   "source": [
    "# Создаем отдельный датафрейм с датами регистрации\n",
    "registrations = (filtered_events[filtered_events['event_name'] == 'registration'][['user_id', 'event_dt']]\n",
    "    .rename(columns={'event_dt': 'registration_date'}).drop_duplicates('user_id', keep='first'))\n",
    "\n",
    "# Объединяем с основным датафреймом\n",
    "filtered_events = filtered_events.merge(registrations, on='user_id', how='left')\n",
    "\n",
    "# Вычисляем разницу в днях\n",
    "filtered_events['days_since_registration'] = (filtered_events['event_dt'] - filtered_events['registration_date']).dt.days\n",
    "display(filtered_events)"
   ]
  },
  {
   "cell_type": "code",
   "execution_count": 51,
   "id": "1d2c5d3d",
   "metadata": {},
   "outputs": [
    {
     "data": {
      "text/html": [
       "<div>\n",
       "<style scoped>\n",
       "    .dataframe tbody tr th:only-of-type {\n",
       "        vertical-align: middle;\n",
       "    }\n",
       "\n",
       "    .dataframe tbody tr th {\n",
       "        vertical-align: top;\n",
       "    }\n",
       "\n",
       "    .dataframe thead th {\n",
       "        text-align: right;\n",
       "    }\n",
       "</style>\n",
       "<table border=\"1\" class=\"dataframe\">\n",
       "  <thead>\n",
       "    <tr style=\"text-align: right;\">\n",
       "      <th></th>\n",
       "      <th>user_id</th>\n",
       "      <th>event_dt</th>\n",
       "      <th>event_name</th>\n",
       "      <th>details</th>\n",
       "      <th>group</th>\n",
       "      <th>ab_test</th>\n",
       "      <th>device</th>\n",
       "      <th>registration_date</th>\n",
       "      <th>days_since_registration</th>\n",
       "    </tr>\n",
       "  </thead>\n",
       "  <tbody>\n",
       "    <tr>\n",
       "      <th>3</th>\n",
       "      <td>5F506CEBEDC05D30</td>\n",
       "      <td>2020-12-09 12:40:49</td>\n",
       "      <td>login</td>\n",
       "      <td>NaN</td>\n",
       "      <td>A</td>\n",
       "      <td>interface_eu_test</td>\n",
       "      <td>iPhone</td>\n",
       "      <td>2020-12-06 14:10:01</td>\n",
       "      <td>2</td>\n",
       "    </tr>\n",
       "    <tr>\n",
       "      <th>4</th>\n",
       "      <td>5F506CEBEDC05D30</td>\n",
       "      <td>2020-12-09 12:40:49</td>\n",
       "      <td>product_page</td>\n",
       "      <td>NaN</td>\n",
       "      <td>A</td>\n",
       "      <td>interface_eu_test</td>\n",
       "      <td>iPhone</td>\n",
       "      <td>2020-12-06 14:10:01</td>\n",
       "      <td>2</td>\n",
       "    </tr>\n",
       "    <tr>\n",
       "      <th>5</th>\n",
       "      <td>5F506CEBEDC05D30</td>\n",
       "      <td>2020-12-10 23:18:00</td>\n",
       "      <td>product_page</td>\n",
       "      <td>NaN</td>\n",
       "      <td>A</td>\n",
       "      <td>interface_eu_test</td>\n",
       "      <td>iPhone</td>\n",
       "      <td>2020-12-06 14:10:01</td>\n",
       "      <td>4</td>\n",
       "    </tr>\n",
       "    <tr>\n",
       "      <th>9</th>\n",
       "      <td>51278A006E918D97</td>\n",
       "      <td>2020-12-09 02:12:06</td>\n",
       "      <td>product_cart</td>\n",
       "      <td>NaN</td>\n",
       "      <td>A</td>\n",
       "      <td>interface_eu_test</td>\n",
       "      <td>Android</td>\n",
       "      <td>2020-12-06 14:37:25</td>\n",
       "      <td>2</td>\n",
       "    </tr>\n",
       "    <tr>\n",
       "      <th>10</th>\n",
       "      <td>51278A006E918D97</td>\n",
       "      <td>2020-12-09 02:13:52</td>\n",
       "      <td>product_cart</td>\n",
       "      <td>NaN</td>\n",
       "      <td>A</td>\n",
       "      <td>interface_eu_test</td>\n",
       "      <td>Android</td>\n",
       "      <td>2020-12-06 14:37:25</td>\n",
       "      <td>2</td>\n",
       "    </tr>\n",
       "    <tr>\n",
       "      <th>...</th>\n",
       "      <td>...</td>\n",
       "      <td>...</td>\n",
       "      <td>...</td>\n",
       "      <td>...</td>\n",
       "      <td>...</td>\n",
       "      <td>...</td>\n",
       "      <td>...</td>\n",
       "      <td>...</td>\n",
       "      <td>...</td>\n",
       "    </tr>\n",
       "    <tr>\n",
       "      <th>67540</th>\n",
       "      <td>2AF75C1818C73A66</td>\n",
       "      <td>2020-12-28 11:08:27</td>\n",
       "      <td>product_page</td>\n",
       "      <td>NaN</td>\n",
       "      <td>A</td>\n",
       "      <td>interface_eu_test</td>\n",
       "      <td>PC</td>\n",
       "      <td>2020-12-23 23:30:23</td>\n",
       "      <td>4</td>\n",
       "    </tr>\n",
       "    <tr>\n",
       "      <th>67541</th>\n",
       "      <td>2AF75C1818C73A66</td>\n",
       "      <td>2020-12-28 11:09:19</td>\n",
       "      <td>purchase</td>\n",
       "      <td>8.99</td>\n",
       "      <td>A</td>\n",
       "      <td>interface_eu_test</td>\n",
       "      <td>PC</td>\n",
       "      <td>2020-12-23 23:30:23</td>\n",
       "      <td>4</td>\n",
       "    </tr>\n",
       "    <tr>\n",
       "      <th>67542</th>\n",
       "      <td>2AF75C1818C73A66</td>\n",
       "      <td>2020-12-28 11:10:50</td>\n",
       "      <td>purchase</td>\n",
       "      <td>4.49</td>\n",
       "      <td>A</td>\n",
       "      <td>interface_eu_test</td>\n",
       "      <td>PC</td>\n",
       "      <td>2020-12-23 23:30:23</td>\n",
       "      <td>4</td>\n",
       "    </tr>\n",
       "    <tr>\n",
       "      <th>67551</th>\n",
       "      <td>0E56FC327DD4DA1F</td>\n",
       "      <td>2020-12-27 07:37:23</td>\n",
       "      <td>product_page</td>\n",
       "      <td>NaN</td>\n",
       "      <td>A</td>\n",
       "      <td>interface_eu_test</td>\n",
       "      <td>Android</td>\n",
       "      <td>2020-12-23 23:34:21</td>\n",
       "      <td>3</td>\n",
       "    </tr>\n",
       "    <tr>\n",
       "      <th>67566</th>\n",
       "      <td>52B5A81EFC31AF1D</td>\n",
       "      <td>2020-12-29 16:41:35</td>\n",
       "      <td>purchase</td>\n",
       "      <td>89.99</td>\n",
       "      <td>B</td>\n",
       "      <td>interface_eu_test</td>\n",
       "      <td>iPhone</td>\n",
       "      <td>2020-12-23 23:44:45</td>\n",
       "      <td>5</td>\n",
       "    </tr>\n",
       "  </tbody>\n",
       "</table>\n",
       "<p>25764 rows × 9 columns</p>\n",
       "</div>"
      ],
      "text/plain": [
       "                user_id            event_dt    event_name details group  \\\n",
       "3      5F506CEBEDC05D30 2020-12-09 12:40:49         login     NaN     A   \n",
       "4      5F506CEBEDC05D30 2020-12-09 12:40:49  product_page     NaN     A   \n",
       "5      5F506CEBEDC05D30 2020-12-10 23:18:00  product_page     NaN     A   \n",
       "9      51278A006E918D97 2020-12-09 02:12:06  product_cart     NaN     A   \n",
       "10     51278A006E918D97 2020-12-09 02:13:52  product_cart     NaN     A   \n",
       "...                 ...                 ...           ...     ...   ...   \n",
       "67540  2AF75C1818C73A66 2020-12-28 11:08:27  product_page     NaN     A   \n",
       "67541  2AF75C1818C73A66 2020-12-28 11:09:19      purchase    8.99     A   \n",
       "67542  2AF75C1818C73A66 2020-12-28 11:10:50      purchase    4.49     A   \n",
       "67551  0E56FC327DD4DA1F 2020-12-27 07:37:23  product_page     NaN     A   \n",
       "67566  52B5A81EFC31AF1D 2020-12-29 16:41:35      purchase   89.99     B   \n",
       "\n",
       "                 ab_test   device   registration_date  days_since_registration  \n",
       "3      interface_eu_test   iPhone 2020-12-06 14:10:01                        2  \n",
       "4      interface_eu_test   iPhone 2020-12-06 14:10:01                        2  \n",
       "5      interface_eu_test   iPhone 2020-12-06 14:10:01                        4  \n",
       "9      interface_eu_test  Android 2020-12-06 14:37:25                        2  \n",
       "10     interface_eu_test  Android 2020-12-06 14:37:25                        2  \n",
       "...                  ...      ...                 ...                      ...  \n",
       "67540  interface_eu_test       PC 2020-12-23 23:30:23                        4  \n",
       "67541  interface_eu_test       PC 2020-12-23 23:30:23                        4  \n",
       "67542  interface_eu_test       PC 2020-12-23 23:30:23                        4  \n",
       "67551  interface_eu_test  Android 2020-12-23 23:34:21                        3  \n",
       "67566  interface_eu_test   iPhone 2020-12-23 23:44:45                        5  \n",
       "\n",
       "[25764 rows x 9 columns]"
      ]
     },
     "metadata": {},
     "output_type": "display_data"
    }
   ],
   "source": [
    "# Отфильтуем события, которые выполнены в течении семи дней с момента регистрации\n",
    "filtered_events_week = filtered_events[(filtered_events['days_since_registration']>0) & (filtered_events['days_since_registration']<=7)]\n",
    "display (filtered_events_week)"
   ]
  },
  {
   "cell_type": "markdown",
   "id": "7cf1df48",
   "metadata": {},
   "source": [
    "Оцените достаточность выборки для получения статистически значимых результатов A/B-теста. Заданные параметры:\n",
    "\n",
    "- базовый показатель конверсии — 30%,\n",
    "\n",
    "- мощность теста — 80%,\n",
    "\n",
    "- достоверность теста — 95%."
   ]
  },
  {
   "cell_type": "code",
   "execution_count": 52,
   "id": "7d97b466",
   "metadata": {},
   "outputs": [
    {
     "name": "stdout",
     "output_type": "stream",
     "text": [
      "Необходимый размер выборки для каждой группы: 3761\n"
     ]
    }
   ],
   "source": [
    "# Задаём параметры\n",
    "alpha = 0.05  # Уровень значимости\n",
    "power = 0.8  # Мощность теста\n",
    "p = 0.3 # Базовый уровень доли\n",
    "mde = 0.1 * p  # Минимальный детектируемый эффект\n",
    "effect_size = proportion_effectsize(p, p + mde)\n",
    "\n",
    "# Инициализируем класс NormalIndPower\n",
    "power_analysis = NormalIndPower()\n",
    "\n",
    "# Рассчитываем размер выборки\n",
    "sample_size = power_analysis.solve_power(\n",
    "    effect_size = effect_size,\n",
    "    power = power,\n",
    "    alpha = alpha,\n",
    "    ratio = 1 # Равномерное распределение выборок\n",
    ")\n",
    "\n",
    "print(f\"Необходимый размер выборки для каждой группы: {int(sample_size)}\")"
   ]
  },
  {
   "cell_type": "code",
   "execution_count": 53,
   "id": "378291a2",
   "metadata": {},
   "outputs": [
    {
     "data": {
      "text/plain": [
       "3773"
      ]
     },
     "metadata": {},
     "output_type": "display_data"
    },
    {
     "data": {
      "text/plain": [
       "3870"
      ]
     },
     "metadata": {},
     "output_type": "display_data"
    }
   ],
   "source": [
    "# Проверим количество участников в каждой группе после фильтрации данных.\n",
    "[count_A, count_B] = (filtered_events_week[filtered_events_week['group'] == 'A']['user_id'].nunique(),\n",
    "                                  filtered_events_week[filtered_events_week['group'] == 'B']['user_id'].nunique())\n",
    "display(count_A, count_B)"
   ]
  },
  {
   "cell_type": "markdown",
   "id": "832644e0",
   "metadata": {},
   "source": [
    "По полученным данным видим, что в обеих группах тестирования содержится достаточное количество участников."
   ]
  },
  {
   "cell_type": "markdown",
   "id": "SadyUDgZs0t3",
   "metadata": {
    "id": "SadyUDgZs0t3"
   },
   "source": [
    "- рассчитайте для каждой группы количество посетителей, сделавших покупку, и общее количество посетителей."
   ]
  },
  {
   "cell_type": "code",
   "execution_count": 54,
   "id": "7ph853Xks4sy",
   "metadata": {
    "id": "7ph853Xks4sy"
   },
   "outputs": [
    {
     "data": {
      "text/plain": [
       "1188"
      ]
     },
     "metadata": {},
     "output_type": "display_data"
    },
    {
     "data": {
      "text/plain": [
       "1311"
      ]
     },
     "metadata": {},
     "output_type": "display_data"
    }
   ],
   "source": [
    "# Расчитаем количество уникальных посетителей, совершивших покупки, в каждой из групп\n",
    "purchase_A = filtered_events_week[(filtered_events_week['event_name']=='purchase')&(filtered_events_week['group']=='A')]['user_id'].nunique()\n",
    "purchase_B = filtered_events_week[(filtered_events_week['event_name']=='purchase')&(filtered_events_week['group']=='B')]['user_id'].nunique()\n",
    "display(purchase_A, purchase_B)"
   ]
  },
  {
   "cell_type": "markdown",
   "id": "sh1JpGvAs5E3",
   "metadata": {
    "id": "sh1JpGvAs5E3"
   },
   "source": [
    "- сделайте предварительный общий вывод об изменении пользовательской активности в тестовой группе по сравнению с контрольной."
   ]
  },
  {
   "cell_type": "code",
   "execution_count": 55,
   "id": "hHTHPkJYs8mE",
   "metadata": {
    "id": "hHTHPkJYs8mE"
   },
   "outputs": [
    {
     "data": {
      "text/plain": [
       "31.49"
      ]
     },
     "metadata": {},
     "output_type": "display_data"
    },
    {
     "data": {
      "text/plain": [
       "33.88"
      ]
     },
     "metadata": {},
     "output_type": "display_data"
    }
   ],
   "source": [
    "# Посчитаем конверсию в покупку для каждой из групп \n",
    "conversion_A = round(100 * purchase_A / count_A, 2)\n",
    "conversion_B = round(100 * purchase_B / count_B, 2)\n",
    "display(conversion_A, conversion_B)"
   ]
  },
  {
   "cell_type": "code",
   "execution_count": 56,
   "id": "044c9183",
   "metadata": {},
   "outputs": [
    {
     "data": {
      "text/plain": [
       "-2.39"
      ]
     },
     "execution_count": 56,
     "metadata": {},
     "output_type": "execute_result"
    }
   ],
   "source": [
    "# Посчитаем разницу конверсий групп А и В\n",
    "round(conversion_A - conversion_B, 2)"
   ]
  },
  {
   "cell_type": "markdown",
   "id": "e16a8d10",
   "metadata": {},
   "source": [
    "По полученным данным видим, что конверсия в группе В (с новым дизайном страницы онлайн-магазина) **больше**, чем в группе А (со старой версией страницы онлайн-магазина) **на 2.39 процентных пункта**."
   ]
  },
  {
   "cell_type": "markdown",
   "id": "IKZ1Oo3Ws919",
   "metadata": {
    "id": "IKZ1Oo3Ws919"
   },
   "source": [
    "## 4. Проведите оценку результатов A/B-тестирования:"
   ]
  },
  {
   "cell_type": "markdown",
   "id": "dcUdBSmvtC-E",
   "metadata": {
    "id": "dcUdBSmvtC-E"
   },
   "source": [
    "- Проверьте изменение конверсии подходящим статистическим тестом, учитывая все этапы проверки гипотез."
   ]
  },
  {
   "cell_type": "markdown",
   "id": "3b07c489",
   "metadata": {
    "id": "l_KOziBQtL3t"
   },
   "source": [
    "Для проверки статистической значимости ролученной разницы в конверсиях групп А и В будем использовать **Z-тест пропорций**.\n",
    "\n",
    "Сформулируем гипотезы:\n",
    "- **Нулевая гипотеза H0**: pA = pB - конверсия зарегистрированных пользователей в покупателей **одинакова** в группах А и В.\n",
    "- **Альтернативная гипотеза H1**: pA < pB  - конверсия зарегистрированных пользователей в покупателей **в группе B выше, чем в группе A**.\n",
    "\n",
    "Проверка на непересечение групп уже была выполнена ранее, перечений не найдено. \n",
    "\n",
    "Проверим, выполняется ли предпосылка Z-теста пропорций о достаточном размере выборок. Для этого посчитаем количество наблюдений в каждой группе, а также — количество «успехов» в них (то есть факт покупки). Убедимся, что условия для проведения теста выполнены."
   ]
  },
  {
   "cell_type": "code",
   "execution_count": 57,
   "id": "37cad90f",
   "metadata": {},
   "outputs": [
    {
     "name": "stdout",
     "output_type": "stream",
     "text": [
      "n_a=12401, n_b=13363\n",
      "m_a=2286, m_b=3029\n",
      "p_a=0.18433997258285623, p_b=0.2266706577864252\n",
      "Предпосылка о достаточном количестве данных выполняется!\n"
     ]
    }
   ],
   "source": [
    "n_a, n_b = (filtered_events_week[filtered_events_week.group=='A'].shape[0],\n",
    "            filtered_events_week[filtered_events_week.group=='B'].shape[0]) ## размеры выборок A и B\n",
    "m_a = filtered_events_week[(filtered_events_week.group=='A')&(filtered_events_week.event_name=='purchase')].shape[0] # количество успехов (регистраций) в группе A\n",
    "m_b = filtered_events_week[(filtered_events_week.group=='B')&(filtered_events_week.event_name=='purchase')].shape[0] # количество успехов (регистраций) в группе B\n",
    "\n",
    "p_a, p_b = m_a/n_a, m_b/n_b # рассчитываем доли успехов для каждой группы: A и B\n",
    "\n",
    "print(f'n_a={n_a}, n_b={n_b}')\n",
    "\n",
    "print(f'm_a={m_a}, m_b={m_b}')\n",
    "\n",
    "print(f'p_a={p_a}, p_b={p_b}')\n",
    "\n",
    "if (p_a*n_a > 10)and((1-p_a)*n_a > 10)and(p_b*n_b > 10)and((1-p_b)*n_b > 10):\n",
    "    print('Предпосылка о достаточном количестве данных выполняется!')\n",
    "else:\n",
    "    print('Предпосылка о достаточном количестве данных НЕ выполняется!')"
   ]
  },
  {
   "cell_type": "code",
   "execution_count": 58,
   "id": "6da91ff7",
   "metadata": {},
   "outputs": [
    {
     "name": "stdout",
     "output_type": "stream",
     "text": [
      "pvalue=2.43364881586486e-17 < 0.05\n",
      "Нулевая гипотеза не находит подтверждения!\n"
     ]
    }
   ],
   "source": [
    "# Применим Z-тест пропорций\n",
    "from statsmodels.stats.proportion import proportions_ztest\n",
    "\n",
    "alpha = 0.05 ## на каком уровне значимости проверяем гипотезу о равенстве вероятностей\n",
    "\n",
    "stat_ztest, p_value_ztest = proportions_ztest(\n",
    "    [m_a, m_b],\n",
    "    [n_a, n_b],\n",
    "    alternative='smaller' # так как H_1: p_a < p_b\n",
    ")\n",
    "p_value_ztest\n",
    "\n",
    "if p_value_ztest > alpha:\n",
    "    print(f'pvalue={p_value_ztest} > {alpha}')\n",
    "    print('Нулевая гипотеза находит подтверждение!')\n",
    "else:\n",
    "    print(f'pvalue={p_value_ztest} < {alpha}')\n",
    "    print('Нулевая гипотеза не находит подтверждения!')"
   ]
  },
  {
   "cell_type": "markdown",
   "id": "9jkyKOjgtGoc",
   "metadata": {
    "id": "9jkyKOjgtGoc"
   },
   "source": [
    "- Опишите выводы по проведённой оценке результатов A/B-тестирования. Что можно сказать про результаты A/B-тестирования? Был ли достигнут ожидаемый эффект в изменении конверсии?"
   ]
  },
  {
   "cell_type": "markdown",
   "id": "npoPPSKytKvR",
   "metadata": {
    "id": "npoPPSKytKvR"
   },
   "source": [
    "В результате применения Z-теста для проверки гипотезы, получили значение p-value, которое очень близко к нулю.Это означает, что **нет оснований принимать нулевую гипотезу**. **Альтернативная гипотеза**, согласно результатам статистического теста, **находит подтверждение**.\n",
    "\n",
    "Таким образом, можно сделать вывод, что **существует статистически значимое различие** между конверсиями зарегистрированных пользователей в покупателей в группах A и B. \n",
    "\n",
    "В рамках альтернативной гипотезы мы предполагали, что в группе B (с обновленным дизайном страницы онлайн-магазина) конверсия будет выше. Результаты подтверждают это: **конверсия зарегистрированных пользователей в покупателей в группе В выше, чем в группе А на 2.39 процентных пункта**. \n",
    "\n",
    "Предположение владельца онлайн-магазина BitMotion Kit о том, что в течение семи дней после регистрации в системе конверсия зарегистрированных пользователей в покупателей увеличится как минимум на три процентных пункта, оказалось **частично верным** (ожидалось повышение не менее, чем на 3 процентных пункта)."
   ]
  }
 ],
 "metadata": {
  "ExecuteTimeLog": [
   {
    "duration": 1248,
    "start_time": "2025-08-07T09:49:26.541Z"
   },
   {
    "duration": 49,
    "start_time": "2025-08-07T09:51:07.735Z"
   },
   {
    "duration": 13,
    "start_time": "2025-08-07T09:52:19.516Z"
   },
   {
    "duration": 9,
    "start_time": "2025-08-07T09:52:40.661Z"
   },
   {
    "duration": 9,
    "start_time": "2025-08-07T09:52:47.727Z"
   },
   {
    "duration": 14,
    "start_time": "2025-08-07T09:53:51.754Z"
   },
   {
    "duration": 3,
    "start_time": "2025-08-07T09:59:31.405Z"
   },
   {
    "duration": 6,
    "start_time": "2025-08-07T10:01:25.192Z"
   },
   {
    "duration": 7,
    "start_time": "2025-08-07T10:03:51.554Z"
   },
   {
    "duration": 5,
    "start_time": "2025-08-07T10:06:08.466Z"
   },
   {
    "duration": 8,
    "start_time": "2025-08-07T10:08:13.603Z"
   },
   {
    "duration": 13,
    "start_time": "2025-08-07T10:09:32.535Z"
   },
   {
    "duration": 12,
    "start_time": "2025-08-07T10:10:14.015Z"
   },
   {
    "duration": 6,
    "start_time": "2025-08-07T10:11:20.602Z"
   },
   {
    "duration": 12,
    "start_time": "2025-08-07T10:11:33.302Z"
   },
   {
    "duration": 91,
    "start_time": "2025-08-07T10:12:43.636Z"
   },
   {
    "duration": 81,
    "start_time": "2025-08-07T10:12:53.222Z"
   },
   {
    "duration": 74,
    "start_time": "2025-08-07T10:13:05.734Z"
   },
   {
    "duration": 89,
    "start_time": "2025-08-07T10:14:24.062Z"
   },
   {
    "duration": 11,
    "start_time": "2025-08-07T10:15:01.534Z"
   },
   {
    "duration": 9,
    "start_time": "2025-08-07T10:22:41.146Z"
   },
   {
    "duration": 8,
    "start_time": "2025-08-07T10:22:52.316Z"
   },
   {
    "duration": 15,
    "start_time": "2025-08-07T10:25:36.112Z"
   },
   {
    "duration": 12,
    "start_time": "2025-08-07T10:28:24.562Z"
   },
   {
    "duration": 14,
    "start_time": "2025-08-07T10:39:30.118Z"
   },
   {
    "duration": 16,
    "start_time": "2025-08-07T10:40:20.226Z"
   },
   {
    "duration": 21,
    "start_time": "2025-08-07T10:40:52.230Z"
   },
   {
    "duration": 7,
    "start_time": "2025-08-07T10:52:08.271Z"
   },
   {
    "duration": 1512,
    "start_time": "2025-08-07T11:11:40.681Z"
   },
   {
    "duration": 12,
    "start_time": "2025-08-07T11:13:07.189Z"
   },
   {
    "duration": 10,
    "start_time": "2025-08-07T11:13:22.627Z"
   },
   {
    "duration": 9,
    "start_time": "2025-08-07T11:28:44.587Z"
   },
   {
    "duration": 1361,
    "start_time": "2025-08-07T14:21:11.339Z"
   },
   {
    "duration": 56,
    "start_time": "2025-08-07T14:21:12.702Z"
   },
   {
    "duration": 46,
    "start_time": "2025-08-07T14:21:12.760Z"
   },
   {
    "duration": 20,
    "start_time": "2025-08-07T14:21:12.808Z"
   },
   {
    "duration": 119,
    "start_time": "2025-08-07T14:21:12.830Z"
   },
   {
    "duration": 29,
    "start_time": "2025-08-07T14:21:12.951Z"
   },
   {
    "duration": 121,
    "start_time": "2025-08-07T14:21:12.982Z"
   },
   {
    "duration": 61,
    "start_time": "2025-08-07T14:21:13.107Z"
   },
   {
    "duration": 38,
    "start_time": "2025-08-07T14:21:13.169Z"
   },
   {
    "duration": 11,
    "start_time": "2025-08-07T14:21:13.211Z"
   },
   {
    "duration": 21,
    "start_time": "2025-08-07T14:21:13.224Z"
   },
   {
    "duration": 1617,
    "start_time": "2025-08-07T14:21:13.246Z"
   },
   {
    "duration": 7,
    "start_time": "2025-08-07T14:25:51.146Z"
   },
   {
    "duration": 9,
    "start_time": "2025-08-07T14:26:28.112Z"
   },
   {
    "duration": 5,
    "start_time": "2025-08-07T14:30:58.413Z"
   },
   {
    "duration": 17,
    "start_time": "2025-08-07T14:43:32.713Z"
   },
   {
    "duration": 4,
    "start_time": "2025-08-07T14:55:24.679Z"
   },
   {
    "duration": 39,
    "start_time": "2025-08-07T14:55:27.027Z"
   },
   {
    "duration": 13,
    "start_time": "2025-08-07T14:55:29.105Z"
   },
   {
    "duration": 17,
    "start_time": "2025-08-07T14:55:34.500Z"
   },
   {
    "duration": 9,
    "start_time": "2025-08-07T14:55:37.109Z"
   },
   {
    "duration": 7,
    "start_time": "2025-08-07T14:55:39.113Z"
   },
   {
    "duration": 11,
    "start_time": "2025-08-07T14:55:41.425Z"
   },
   {
    "duration": 21,
    "start_time": "2025-08-07T14:55:44.314Z"
   },
   {
    "duration": 8,
    "start_time": "2025-08-07T14:55:46.829Z"
   },
   {
    "duration": 13,
    "start_time": "2025-08-07T14:55:48.411Z"
   },
   {
    "duration": 6,
    "start_time": "2025-08-07T14:55:50.841Z"
   },
   {
    "duration": 14,
    "start_time": "2025-08-07T14:55:55.730Z"
   },
   {
    "duration": 1556,
    "start_time": "2025-08-07T15:33:49.375Z"
   },
   {
    "duration": 8,
    "start_time": "2025-08-07T15:35:06.508Z"
   },
   {
    "duration": 14,
    "start_time": "2025-08-07T15:37:01.686Z"
   },
   {
    "duration": 8,
    "start_time": "2025-08-07T15:38:43.472Z"
   },
   {
    "duration": 130,
    "start_time": "2025-08-07T15:40:38.397Z"
   },
   {
    "duration": 1233,
    "start_time": "2025-08-07T15:42:45.323Z"
   },
   {
    "duration": 1427,
    "start_time": "2025-08-07T15:43:02.614Z"
   },
   {
    "duration": 92,
    "start_time": "2025-08-07T15:49:09.273Z"
   },
   {
    "duration": 12,
    "start_time": "2025-08-07T15:49:25.566Z"
   },
   {
    "duration": 1357,
    "start_time": "2025-08-07T15:52:03.878Z"
   },
   {
    "duration": 10,
    "start_time": "2025-08-07T15:52:16.619Z"
   },
   {
    "duration": 9,
    "start_time": "2025-08-07T15:59:32.332Z"
   },
   {
    "duration": 13,
    "start_time": "2025-08-07T16:00:00.079Z"
   },
   {
    "duration": 14,
    "start_time": "2025-08-07T16:00:08.887Z"
   },
   {
    "duration": 3,
    "start_time": "2025-08-07T16:05:10.948Z"
   },
   {
    "duration": 191,
    "start_time": "2025-08-07T16:08:05.282Z"
   },
   {
    "duration": 162,
    "start_time": "2025-08-07T16:11:47.539Z"
   },
   {
    "duration": 166,
    "start_time": "2025-08-07T16:12:09.165Z"
   },
   {
    "duration": 15,
    "start_time": "2025-08-07T16:17:41.376Z"
   },
   {
    "duration": 11,
    "start_time": "2025-08-07T16:17:59.830Z"
   },
   {
    "duration": 6,
    "start_time": "2025-08-07T16:24:12.829Z"
   },
   {
    "duration": 9,
    "start_time": "2025-08-07T16:24:45.701Z"
   },
   {
    "duration": 11,
    "start_time": "2025-08-07T16:26:59.611Z"
   },
   {
    "duration": 171,
    "start_time": "2025-08-07T16:39:25.867Z"
   },
   {
    "duration": 40,
    "start_time": "2025-08-07T16:48:29.482Z"
   },
   {
    "duration": 1714,
    "start_time": "2025-08-07T16:49:26.048Z"
   },
   {
    "duration": 45,
    "start_time": "2025-08-07T16:49:41.440Z"
   },
   {
    "duration": 1656,
    "start_time": "2025-08-07T16:50:35.842Z"
   },
   {
    "duration": 13,
    "start_time": "2025-08-07T16:51:12.817Z"
   },
   {
    "duration": 13,
    "start_time": "2025-08-07T16:51:55.498Z"
   },
   {
    "duration": 40,
    "start_time": "2025-08-07T16:52:33.526Z"
   },
   {
    "duration": 17,
    "start_time": "2025-08-07T16:56:00.919Z"
   },
   {
    "duration": 642,
    "start_time": "2025-08-07T16:56:13.976Z"
   },
   {
    "duration": 101,
    "start_time": "2025-08-07T17:01:01.033Z"
   },
   {
    "duration": 479,
    "start_time": "2025-08-07T17:01:10.699Z"
   },
   {
    "duration": 1158,
    "start_time": "2025-08-07T17:01:24.281Z"
   },
   {
    "duration": 49,
    "start_time": "2025-08-07T17:01:25.441Z"
   },
   {
    "duration": 11,
    "start_time": "2025-08-07T17:01:25.491Z"
   },
   {
    "duration": 96,
    "start_time": "2025-08-07T17:01:25.503Z"
   },
   {
    "duration": 41,
    "start_time": "2025-08-07T17:01:25.600Z"
   },
   {
    "duration": 26,
    "start_time": "2025-08-07T17:01:25.642Z"
   },
   {
    "duration": 16,
    "start_time": "2025-08-07T17:01:25.669Z"
   },
   {
    "duration": 14,
    "start_time": "2025-08-07T17:01:25.686Z"
   },
   {
    "duration": 7,
    "start_time": "2025-08-07T17:01:25.702Z"
   },
   {
    "duration": 123,
    "start_time": "2025-08-07T17:01:25.710Z"
   },
   {
    "duration": 6,
    "start_time": "2025-08-07T17:01:25.835Z"
   },
   {
    "duration": 101,
    "start_time": "2025-08-07T17:01:25.843Z"
   },
   {
    "duration": 1481,
    "start_time": "2025-08-07T17:01:25.946Z"
   },
   {
    "duration": 7,
    "start_time": "2025-08-07T17:01:27.429Z"
   },
   {
    "duration": 12,
    "start_time": "2025-08-07T17:01:27.438Z"
   },
   {
    "duration": 9,
    "start_time": "2025-08-07T17:01:27.452Z"
   },
   {
    "duration": 127,
    "start_time": "2025-08-07T17:01:27.462Z"
   },
   {
    "duration": 11,
    "start_time": "2025-08-07T17:01:27.591Z"
   },
   {
    "duration": 13,
    "start_time": "2025-08-07T17:01:27.603Z"
   },
   {
    "duration": 3,
    "start_time": "2025-08-07T17:01:27.617Z"
   },
   {
    "duration": 191,
    "start_time": "2025-08-07T17:01:27.621Z"
   },
   {
    "duration": 11,
    "start_time": "2025-08-07T17:01:27.814Z"
   },
   {
    "duration": 7,
    "start_time": "2025-08-07T17:01:27.826Z"
   },
   {
    "duration": 118,
    "start_time": "2025-08-07T17:01:27.834Z"
   },
   {
    "duration": 171,
    "start_time": "2025-08-07T17:01:27.954Z"
   },
   {
    "duration": 1612,
    "start_time": "2025-08-07T17:01:28.127Z"
   },
   {
    "duration": 446,
    "start_time": "2025-08-07T17:02:29.129Z"
   },
   {
    "duration": 13,
    "start_time": "2025-08-07T17:03:28.563Z"
   },
   {
    "duration": 14,
    "start_time": "2025-08-07T17:08:52.933Z"
   },
   {
    "duration": 36,
    "start_time": "2025-08-07T17:09:37.246Z"
   },
   {
    "duration": 49,
    "start_time": "2025-08-07T17:09:51.030Z"
   },
   {
    "duration": 51,
    "start_time": "2025-08-07T17:10:13.998Z"
   },
   {
    "duration": 2080,
    "start_time": "2025-08-07T17:11:00.662Z"
   },
   {
    "duration": 1141,
    "start_time": "2025-08-07T17:11:26.268Z"
   },
   {
    "duration": 45,
    "start_time": "2025-08-07T17:11:27.412Z"
   },
   {
    "duration": 11,
    "start_time": "2025-08-07T17:11:27.459Z"
   },
   {
    "duration": 32,
    "start_time": "2025-08-07T17:11:27.472Z"
   },
   {
    "duration": 103,
    "start_time": "2025-08-07T17:11:27.506Z"
   },
   {
    "duration": 18,
    "start_time": "2025-08-07T17:11:27.611Z"
   },
   {
    "duration": 12,
    "start_time": "2025-08-07T17:11:27.630Z"
   },
   {
    "duration": 25,
    "start_time": "2025-08-07T17:11:27.643Z"
   },
   {
    "duration": 20,
    "start_time": "2025-08-07T17:11:27.669Z"
   },
   {
    "duration": 32,
    "start_time": "2025-08-07T17:11:27.691Z"
   },
   {
    "duration": 29,
    "start_time": "2025-08-07T17:11:27.724Z"
   },
   {
    "duration": 116,
    "start_time": "2025-08-07T17:11:27.755Z"
   },
   {
    "duration": 1553,
    "start_time": "2025-08-07T17:11:27.873Z"
   },
   {
    "duration": 9,
    "start_time": "2025-08-07T17:11:29.427Z"
   },
   {
    "duration": 15,
    "start_time": "2025-08-07T17:11:29.438Z"
   },
   {
    "duration": 31,
    "start_time": "2025-08-07T17:11:29.454Z"
   },
   {
    "duration": 224,
    "start_time": "2025-08-07T17:11:29.487Z"
   },
   {
    "duration": 12,
    "start_time": "2025-08-07T17:11:29.712Z"
   },
   {
    "duration": 11,
    "start_time": "2025-08-07T17:11:29.726Z"
   },
   {
    "duration": 6,
    "start_time": "2025-08-07T17:11:29.739Z"
   },
   {
    "duration": 379,
    "start_time": "2025-08-07T17:11:29.746Z"
   },
   {
    "duration": 11,
    "start_time": "2025-08-07T17:11:30.127Z"
   },
   {
    "duration": 29,
    "start_time": "2025-08-07T17:11:30.139Z"
   },
   {
    "duration": 51,
    "start_time": "2025-08-07T17:11:30.169Z"
   },
   {
    "duration": 216,
    "start_time": "2025-08-07T17:11:30.221Z"
   },
   {
    "duration": 66,
    "start_time": "2025-08-07T17:11:30.439Z"
   },
   {
    "duration": 88,
    "start_time": "2025-08-07T17:14:21.295Z"
   },
   {
    "duration": 12,
    "start_time": "2025-08-07T17:14:48.236Z"
   },
   {
    "duration": 21,
    "start_time": "2025-08-07T17:15:05.202Z"
   },
   {
    "duration": 18,
    "start_time": "2025-08-07T17:15:37.435Z"
   },
   {
    "duration": 1389,
    "start_time": "2025-08-07T17:16:49.915Z"
   },
   {
    "duration": 1089,
    "start_time": "2025-08-07T17:17:02.350Z"
   },
   {
    "duration": 87,
    "start_time": "2025-08-07T17:17:03.441Z"
   },
   {
    "duration": 12,
    "start_time": "2025-08-07T17:17:03.529Z"
   },
   {
    "duration": 118,
    "start_time": "2025-08-07T17:17:03.543Z"
   },
   {
    "duration": 65,
    "start_time": "2025-08-07T17:17:03.663Z"
   },
   {
    "duration": 50,
    "start_time": "2025-08-07T17:17:03.729Z"
   },
   {
    "duration": 123,
    "start_time": "2025-08-07T17:17:03.780Z"
   },
   {
    "duration": 111,
    "start_time": "2025-08-07T17:17:03.904Z"
   },
   {
    "duration": 7,
    "start_time": "2025-08-07T17:17:04.017Z"
   },
   {
    "duration": 41,
    "start_time": "2025-08-07T17:17:04.026Z"
   },
   {
    "duration": 10,
    "start_time": "2025-08-07T17:17:04.068Z"
   },
   {
    "duration": 23,
    "start_time": "2025-08-07T17:17:04.079Z"
   },
   {
    "duration": 1541,
    "start_time": "2025-08-07T17:17:04.104Z"
   },
   {
    "duration": 8,
    "start_time": "2025-08-07T17:17:05.647Z"
   },
   {
    "duration": 21,
    "start_time": "2025-08-07T17:17:05.656Z"
   },
   {
    "duration": 55,
    "start_time": "2025-08-07T17:17:05.679Z"
   },
   {
    "duration": 166,
    "start_time": "2025-08-07T17:17:05.736Z"
   },
   {
    "duration": 93,
    "start_time": "2025-08-07T17:17:05.904Z"
   },
   {
    "duration": 37,
    "start_time": "2025-08-07T17:17:05.998Z"
   },
   {
    "duration": 119,
    "start_time": "2025-08-07T17:17:06.037Z"
   },
   {
    "duration": 190,
    "start_time": "2025-08-07T17:17:06.158Z"
   },
   {
    "duration": 10,
    "start_time": "2025-08-07T17:17:06.350Z"
   },
   {
    "duration": 110,
    "start_time": "2025-08-07T17:17:06.361Z"
   },
   {
    "duration": 19,
    "start_time": "2025-08-07T17:17:06.472Z"
   },
   {
    "duration": 176,
    "start_time": "2025-08-07T17:17:06.493Z"
   },
   {
    "duration": 82,
    "start_time": "2025-08-07T17:17:06.671Z"
   },
   {
    "duration": 25,
    "start_time": "2025-08-07T17:17:06.754Z"
   },
   {
    "duration": 169,
    "start_time": "2025-08-07T17:18:04.038Z"
   },
   {
    "duration": 57,
    "start_time": "2025-08-07T17:18:12.461Z"
   },
   {
    "duration": 24,
    "start_time": "2025-08-07T17:18:17.431Z"
   },
   {
    "duration": 20,
    "start_time": "2025-08-07T17:28:51.446Z"
   },
   {
    "duration": 16,
    "start_time": "2025-08-07T17:29:22.200Z"
   },
   {
    "duration": 131,
    "start_time": "2025-08-07T17:31:15.043Z"
   },
   {
    "duration": 17,
    "start_time": "2025-08-07T17:31:20.800Z"
   },
   {
    "duration": 8,
    "start_time": "2025-08-07T17:38:50.834Z"
   },
   {
    "duration": 27,
    "start_time": "2025-08-07T17:39:03.269Z"
   },
   {
    "duration": 7,
    "start_time": "2025-08-07T17:40:18.329Z"
   },
   {
    "duration": 30,
    "start_time": "2025-08-07T17:41:42.083Z"
   },
   {
    "duration": 15,
    "start_time": "2025-08-07T17:42:13.198Z"
   },
   {
    "duration": 85,
    "start_time": "2025-08-07T17:42:36.987Z"
   },
   {
    "duration": 73,
    "start_time": "2025-08-07T17:42:44.535Z"
   },
   {
    "duration": 11,
    "start_time": "2025-08-07T17:42:50.772Z"
   },
   {
    "duration": 12,
    "start_time": "2025-08-07T17:45:02.088Z"
   },
   {
    "duration": 25,
    "start_time": "2025-08-07T17:45:36.142Z"
   },
   {
    "duration": 16,
    "start_time": "2025-08-07T17:46:21.282Z"
   },
   {
    "duration": 18,
    "start_time": "2025-08-07T17:49:01.648Z"
   },
   {
    "duration": 16,
    "start_time": "2025-08-07T17:49:13.934Z"
   },
   {
    "duration": 5,
    "start_time": "2025-08-07T17:58:34.029Z"
   },
   {
    "duration": 5,
    "start_time": "2025-08-07T17:59:03.935Z"
   },
   {
    "duration": 3,
    "start_time": "2025-08-07T18:04:19.951Z"
   },
   {
    "duration": 3,
    "start_time": "2025-08-07T18:04:39.810Z"
   },
   {
    "duration": 4,
    "start_time": "2025-08-07T18:06:06.976Z"
   },
   {
    "duration": 5014,
    "start_time": "2025-08-07T18:52:22.051Z"
   },
   {
    "duration": 13,
    "start_time": "2025-08-07T18:55:20.344Z"
   },
   {
    "duration": 42,
    "start_time": "2025-08-07T19:00:57.982Z"
   },
   {
    "duration": 4,
    "start_time": "2025-08-07T19:04:34.635Z"
   },
   {
    "duration": 1397,
    "start_time": "2025-08-08T10:41:42.337Z"
   },
   {
    "duration": 74,
    "start_time": "2025-08-08T10:41:43.736Z"
   },
   {
    "duration": 13,
    "start_time": "2025-08-08T10:41:43.811Z"
   },
   {
    "duration": 11,
    "start_time": "2025-08-08T10:41:43.826Z"
   },
   {
    "duration": 6,
    "start_time": "2025-08-08T10:41:43.839Z"
   },
   {
    "duration": 5,
    "start_time": "2025-08-08T10:41:43.846Z"
   },
   {
    "duration": 11,
    "start_time": "2025-08-08T10:41:43.852Z"
   },
   {
    "duration": 14,
    "start_time": "2025-08-08T10:41:43.864Z"
   },
   {
    "duration": 7,
    "start_time": "2025-08-08T10:41:43.880Z"
   },
   {
    "duration": 8,
    "start_time": "2025-08-08T10:41:43.890Z"
   },
   {
    "duration": 42,
    "start_time": "2025-08-08T10:41:43.899Z"
   },
   {
    "duration": 22,
    "start_time": "2025-08-08T10:41:43.943Z"
   },
   {
    "duration": 1575,
    "start_time": "2025-08-08T10:41:43.966Z"
   },
   {
    "duration": 7,
    "start_time": "2025-08-08T10:41:45.543Z"
   },
   {
    "duration": 31,
    "start_time": "2025-08-08T10:41:45.552Z"
   },
   {
    "duration": 28,
    "start_time": "2025-08-08T10:41:45.585Z"
   },
   {
    "duration": 147,
    "start_time": "2025-08-08T10:41:45.615Z"
   },
   {
    "duration": 12,
    "start_time": "2025-08-08T10:41:45.763Z"
   },
   {
    "duration": 33,
    "start_time": "2025-08-08T10:41:45.777Z"
   },
   {
    "duration": 47,
    "start_time": "2025-08-08T10:41:45.812Z"
   },
   {
    "duration": 192,
    "start_time": "2025-08-08T10:41:45.861Z"
   },
   {
    "duration": 11,
    "start_time": "2025-08-08T10:41:46.054Z"
   },
   {
    "duration": 5,
    "start_time": "2025-08-08T10:41:46.067Z"
   },
   {
    "duration": 12,
    "start_time": "2025-08-08T10:41:46.073Z"
   },
   {
    "duration": 185,
    "start_time": "2025-08-08T10:41:46.087Z"
   },
   {
    "duration": 67,
    "start_time": "2025-08-08T10:41:46.274Z"
   },
   {
    "duration": 28,
    "start_time": "2025-08-08T10:41:46.343Z"
   },
   {
    "duration": 35,
    "start_time": "2025-08-08T10:41:46.374Z"
   },
   {
    "duration": 31,
    "start_time": "2025-08-08T10:41:46.411Z"
   },
   {
    "duration": 47,
    "start_time": "2025-08-08T10:41:46.443Z"
   },
   {
    "duration": 21,
    "start_time": "2025-08-08T10:41:46.492Z"
   },
   {
    "duration": 19,
    "start_time": "2025-08-08T10:41:46.514Z"
   },
   {
    "duration": 21,
    "start_time": "2025-08-08T10:41:46.534Z"
   },
   {
    "duration": 43,
    "start_time": "2025-08-08T10:41:46.556Z"
   },
   {
    "duration": 3,
    "start_time": "2025-08-08T10:43:55.240Z"
   },
   {
    "duration": 10,
    "start_time": "2025-08-08T10:45:07.460Z"
   },
   {
    "duration": 11,
    "start_time": "2025-08-08T10:54:41.965Z"
   },
   {
    "duration": 7,
    "start_time": "2025-08-08T10:55:28.090Z"
   },
   {
    "duration": 5,
    "start_time": "2025-08-08T10:55:31.103Z"
   },
   {
    "duration": 11,
    "start_time": "2025-08-08T10:55:33.759Z"
   },
   {
    "duration": 5,
    "start_time": "2025-08-08T10:56:06.316Z"
   },
   {
    "duration": 96,
    "start_time": "2025-08-08T10:56:58.901Z"
   },
   {
    "duration": 1202,
    "start_time": "2025-08-08T10:57:11.512Z"
   },
   {
    "duration": 46,
    "start_time": "2025-08-08T10:57:12.716Z"
   },
   {
    "duration": 12,
    "start_time": "2025-08-08T10:57:12.763Z"
   },
   {
    "duration": 4,
    "start_time": "2025-08-08T10:57:12.777Z"
   },
   {
    "duration": 105,
    "start_time": "2025-08-08T10:57:12.783Z"
   },
   {
    "duration": 0,
    "start_time": "2025-08-08T10:57:12.890Z"
   },
   {
    "duration": 0,
    "start_time": "2025-08-08T10:57:12.891Z"
   },
   {
    "duration": 0,
    "start_time": "2025-08-08T10:57:12.892Z"
   },
   {
    "duration": 0,
    "start_time": "2025-08-08T10:57:12.893Z"
   },
   {
    "duration": 0,
    "start_time": "2025-08-08T10:57:12.895Z"
   },
   {
    "duration": 0,
    "start_time": "2025-08-08T10:57:12.896Z"
   },
   {
    "duration": 0,
    "start_time": "2025-08-08T10:57:12.898Z"
   },
   {
    "duration": 0,
    "start_time": "2025-08-08T10:57:12.899Z"
   },
   {
    "duration": 0,
    "start_time": "2025-08-08T10:57:12.899Z"
   },
   {
    "duration": 0,
    "start_time": "2025-08-08T10:57:12.901Z"
   },
   {
    "duration": 0,
    "start_time": "2025-08-08T10:57:12.902Z"
   },
   {
    "duration": 0,
    "start_time": "2025-08-08T10:57:12.903Z"
   },
   {
    "duration": 0,
    "start_time": "2025-08-08T10:57:12.905Z"
   },
   {
    "duration": 1,
    "start_time": "2025-08-08T10:57:12.906Z"
   },
   {
    "duration": 0,
    "start_time": "2025-08-08T10:57:12.909Z"
   },
   {
    "duration": 0,
    "start_time": "2025-08-08T10:57:12.940Z"
   },
   {
    "duration": 0,
    "start_time": "2025-08-08T10:57:12.942Z"
   },
   {
    "duration": 0,
    "start_time": "2025-08-08T10:57:12.943Z"
   },
   {
    "duration": 0,
    "start_time": "2025-08-08T10:57:12.945Z"
   },
   {
    "duration": 0,
    "start_time": "2025-08-08T10:57:12.946Z"
   },
   {
    "duration": 0,
    "start_time": "2025-08-08T10:57:12.948Z"
   },
   {
    "duration": 0,
    "start_time": "2025-08-08T10:57:12.949Z"
   },
   {
    "duration": 0,
    "start_time": "2025-08-08T10:57:12.951Z"
   },
   {
    "duration": 0,
    "start_time": "2025-08-08T10:57:12.953Z"
   },
   {
    "duration": 0,
    "start_time": "2025-08-08T10:57:12.954Z"
   },
   {
    "duration": 1,
    "start_time": "2025-08-08T10:57:12.955Z"
   },
   {
    "duration": 0,
    "start_time": "2025-08-08T10:57:12.956Z"
   },
   {
    "duration": 0,
    "start_time": "2025-08-08T10:57:12.957Z"
   },
   {
    "duration": 0,
    "start_time": "2025-08-08T10:57:12.958Z"
   },
   {
    "duration": 0,
    "start_time": "2025-08-08T10:57:12.959Z"
   },
   {
    "duration": 9,
    "start_time": "2025-08-08T10:57:26.019Z"
   },
   {
    "duration": 9,
    "start_time": "2025-08-08T10:57:36.476Z"
   },
   {
    "duration": 1175,
    "start_time": "2025-08-08T10:57:47.548Z"
   },
   {
    "duration": 67,
    "start_time": "2025-08-08T10:57:48.725Z"
   },
   {
    "duration": 13,
    "start_time": "2025-08-08T10:57:48.794Z"
   },
   {
    "duration": 36,
    "start_time": "2025-08-08T10:57:48.810Z"
   },
   {
    "duration": 35,
    "start_time": "2025-08-08T10:57:48.848Z"
   },
   {
    "duration": 23,
    "start_time": "2025-08-08T10:57:48.885Z"
   },
   {
    "duration": 10,
    "start_time": "2025-08-08T10:57:48.910Z"
   },
   {
    "duration": 28,
    "start_time": "2025-08-08T10:57:48.921Z"
   },
   {
    "duration": 14,
    "start_time": "2025-08-08T10:57:48.950Z"
   },
   {
    "duration": 8,
    "start_time": "2025-08-08T10:57:48.967Z"
   },
   {
    "duration": 23,
    "start_time": "2025-08-08T10:57:48.977Z"
   },
   {
    "duration": 10,
    "start_time": "2025-08-08T10:57:49.002Z"
   },
   {
    "duration": 32,
    "start_time": "2025-08-08T10:57:49.013Z"
   },
   {
    "duration": 1551,
    "start_time": "2025-08-08T10:57:49.047Z"
   },
   {
    "duration": 8,
    "start_time": "2025-08-08T10:57:50.600Z"
   },
   {
    "duration": 29,
    "start_time": "2025-08-08T10:57:50.610Z"
   },
   {
    "duration": 14,
    "start_time": "2025-08-08T10:57:50.641Z"
   },
   {
    "duration": 197,
    "start_time": "2025-08-08T10:57:50.657Z"
   },
   {
    "duration": 11,
    "start_time": "2025-08-08T10:57:50.856Z"
   },
   {
    "duration": 82,
    "start_time": "2025-08-08T10:57:50.869Z"
   },
   {
    "duration": 27,
    "start_time": "2025-08-08T10:57:50.953Z"
   },
   {
    "duration": 389,
    "start_time": "2025-08-08T10:57:50.983Z"
   },
   {
    "duration": 11,
    "start_time": "2025-08-08T10:57:51.374Z"
   },
   {
    "duration": 55,
    "start_time": "2025-08-08T10:57:51.387Z"
   },
   {
    "duration": 41,
    "start_time": "2025-08-08T10:57:51.444Z"
   },
   {
    "duration": 392,
    "start_time": "2025-08-08T10:57:51.487Z"
   },
   {
    "duration": 178,
    "start_time": "2025-08-08T10:57:51.881Z"
   },
   {
    "duration": 90,
    "start_time": "2025-08-08T10:57:52.062Z"
   },
   {
    "duration": 14,
    "start_time": "2025-08-08T10:57:52.154Z"
   },
   {
    "duration": 54,
    "start_time": "2025-08-08T10:57:52.169Z"
   },
   {
    "duration": 43,
    "start_time": "2025-08-08T10:57:52.224Z"
   },
   {
    "duration": 6,
    "start_time": "2025-08-08T10:57:52.268Z"
   },
   {
    "duration": 23,
    "start_time": "2025-08-08T10:57:52.275Z"
   },
   {
    "duration": 50,
    "start_time": "2025-08-08T10:57:52.300Z"
   },
   {
    "duration": 15,
    "start_time": "2025-08-08T10:57:52.352Z"
   },
   {
    "duration": 11,
    "start_time": "2025-08-08T11:48:39.914Z"
   },
   {
    "duration": 97,
    "start_time": "2025-08-08T11:50:42.298Z"
   },
   {
    "duration": 1125,
    "start_time": "2025-08-08T11:50:49.191Z"
   },
   {
    "duration": 62,
    "start_time": "2025-08-08T11:50:50.318Z"
   },
   {
    "duration": 11,
    "start_time": "2025-08-08T11:50:50.382Z"
   },
   {
    "duration": 17,
    "start_time": "2025-08-08T11:50:50.395Z"
   },
   {
    "duration": 11,
    "start_time": "2025-08-08T11:50:50.414Z"
   },
   {
    "duration": 7,
    "start_time": "2025-08-08T11:50:50.427Z"
   },
   {
    "duration": 6,
    "start_time": "2025-08-08T11:50:50.435Z"
   },
   {
    "duration": 15,
    "start_time": "2025-08-08T11:50:50.443Z"
   },
   {
    "duration": 18,
    "start_time": "2025-08-08T11:50:50.460Z"
   },
   {
    "duration": 9,
    "start_time": "2025-08-08T11:50:50.481Z"
   },
   {
    "duration": 11,
    "start_time": "2025-08-08T11:50:50.491Z"
   },
   {
    "duration": 40,
    "start_time": "2025-08-08T11:50:50.503Z"
   },
   {
    "duration": 15,
    "start_time": "2025-08-08T11:50:50.546Z"
   },
   {
    "duration": 1495,
    "start_time": "2025-08-08T11:50:50.563Z"
   },
   {
    "duration": 9,
    "start_time": "2025-08-08T11:50:52.060Z"
   },
   {
    "duration": 12,
    "start_time": "2025-08-08T11:50:52.071Z"
   },
   {
    "duration": 8,
    "start_time": "2025-08-08T11:50:52.085Z"
   },
   {
    "duration": 145,
    "start_time": "2025-08-08T11:50:52.095Z"
   },
   {
    "duration": 11,
    "start_time": "2025-08-08T11:50:52.241Z"
   },
   {
    "duration": 13,
    "start_time": "2025-08-08T11:50:52.254Z"
   },
   {
    "duration": 4,
    "start_time": "2025-08-08T11:50:52.268Z"
   },
   {
    "duration": 200,
    "start_time": "2025-08-08T11:50:52.273Z"
   },
   {
    "duration": 10,
    "start_time": "2025-08-08T11:50:52.475Z"
   },
   {
    "duration": 18,
    "start_time": "2025-08-08T11:50:52.487Z"
   },
   {
    "duration": 14,
    "start_time": "2025-08-08T11:50:52.507Z"
   },
   {
    "duration": 186,
    "start_time": "2025-08-08T11:50:52.522Z"
   },
   {
    "duration": 70,
    "start_time": "2025-08-08T11:50:52.709Z"
   },
   {
    "duration": 24,
    "start_time": "2025-08-08T11:50:52.782Z"
   },
   {
    "duration": 13,
    "start_time": "2025-08-08T11:50:52.808Z"
   },
   {
    "duration": 21,
    "start_time": "2025-08-08T11:50:52.838Z"
   },
   {
    "duration": 18,
    "start_time": "2025-08-08T11:50:52.861Z"
   },
   {
    "duration": 43,
    "start_time": "2025-08-08T11:50:52.881Z"
   },
   {
    "duration": 13,
    "start_time": "2025-08-08T11:50:52.926Z"
   },
   {
    "duration": 49,
    "start_time": "2025-08-08T11:50:52.940Z"
   },
   {
    "duration": 6,
    "start_time": "2025-08-08T11:50:52.990Z"
   },
   {
    "duration": 11,
    "start_time": "2025-08-08T12:02:45.305Z"
   },
   {
    "duration": 324,
    "start_time": "2025-08-08T12:03:53.625Z"
   },
   {
    "duration": 317,
    "start_time": "2025-08-08T12:07:09.614Z"
   },
   {
    "duration": 326,
    "start_time": "2025-08-08T12:09:46.244Z"
   },
   {
    "duration": 207,
    "start_time": "2025-08-08T12:11:39.360Z"
   },
   {
    "duration": 392,
    "start_time": "2025-08-08T12:16:09.915Z"
   },
   {
    "duration": 176,
    "start_time": "2025-08-08T12:16:18.391Z"
   },
   {
    "duration": 1179,
    "start_time": "2025-08-08T12:16:47.649Z"
   },
   {
    "duration": 52,
    "start_time": "2025-08-08T12:16:48.831Z"
   },
   {
    "duration": 12,
    "start_time": "2025-08-08T12:16:48.885Z"
   },
   {
    "duration": 15,
    "start_time": "2025-08-08T12:16:48.899Z"
   },
   {
    "duration": 20,
    "start_time": "2025-08-08T12:16:48.916Z"
   },
   {
    "duration": 6,
    "start_time": "2025-08-08T12:16:48.937Z"
   },
   {
    "duration": 8,
    "start_time": "2025-08-08T12:16:48.945Z"
   },
   {
    "duration": 12,
    "start_time": "2025-08-08T12:16:48.955Z"
   },
   {
    "duration": 16,
    "start_time": "2025-08-08T12:16:48.968Z"
   },
   {
    "duration": 8,
    "start_time": "2025-08-08T12:16:48.986Z"
   },
   {
    "duration": 45,
    "start_time": "2025-08-08T12:16:48.995Z"
   },
   {
    "duration": 7,
    "start_time": "2025-08-08T12:16:49.042Z"
   },
   {
    "duration": 15,
    "start_time": "2025-08-08T12:16:49.050Z"
   },
   {
    "duration": 1564,
    "start_time": "2025-08-08T12:16:49.068Z"
   },
   {
    "duration": 10,
    "start_time": "2025-08-08T12:16:50.634Z"
   },
   {
    "duration": 44,
    "start_time": "2025-08-08T12:16:50.646Z"
   },
   {
    "duration": 12,
    "start_time": "2025-08-08T12:16:50.691Z"
   },
   {
    "duration": 15,
    "start_time": "2025-08-08T12:16:50.705Z"
   },
   {
    "duration": 117,
    "start_time": "2025-08-08T12:16:50.721Z"
   },
   {
    "duration": 362,
    "start_time": "2025-08-08T12:16:50.840Z"
   },
   {
    "duration": 426,
    "start_time": "2025-08-08T12:16:51.204Z"
   },
   {
    "duration": 193,
    "start_time": "2025-08-08T12:16:51.632Z"
   },
   {
    "duration": 18,
    "start_time": "2025-08-08T12:16:51.826Z"
   },
   {
    "duration": 11,
    "start_time": "2025-08-08T12:16:51.845Z"
   },
   {
    "duration": 9,
    "start_time": "2025-08-08T12:16:51.858Z"
   },
   {
    "duration": 200,
    "start_time": "2025-08-08T12:16:51.869Z"
   },
   {
    "duration": 11,
    "start_time": "2025-08-08T12:16:52.071Z"
   },
   {
    "duration": 18,
    "start_time": "2025-08-08T12:16:52.084Z"
   },
   {
    "duration": 17,
    "start_time": "2025-08-08T12:16:52.104Z"
   },
   {
    "duration": 181,
    "start_time": "2025-08-08T12:16:52.124Z"
   },
   {
    "duration": 79,
    "start_time": "2025-08-08T12:16:52.307Z"
   },
   {
    "duration": 31,
    "start_time": "2025-08-08T12:16:52.388Z"
   },
   {
    "duration": 28,
    "start_time": "2025-08-08T12:16:52.421Z"
   },
   {
    "duration": 87,
    "start_time": "2025-08-08T12:16:52.452Z"
   },
   {
    "duration": 28,
    "start_time": "2025-08-08T12:16:52.541Z"
   },
   {
    "duration": 9,
    "start_time": "2025-08-08T12:16:52.571Z"
   },
   {
    "duration": 18,
    "start_time": "2025-08-08T12:16:52.581Z"
   },
   {
    "duration": 40,
    "start_time": "2025-08-08T12:16:52.601Z"
   },
   {
    "duration": 15,
    "start_time": "2025-08-08T12:16:52.643Z"
   },
   {
    "duration": 191,
    "start_time": "2025-08-08T12:18:23.619Z"
   },
   {
    "duration": 230,
    "start_time": "2025-08-08T12:19:57.202Z"
   },
   {
    "duration": 315,
    "start_time": "2025-08-08T12:26:54.188Z"
   },
   {
    "duration": 228,
    "start_time": "2025-08-08T12:27:02.141Z"
   },
   {
    "duration": 14,
    "start_time": "2025-08-08T12:28:20.276Z"
   },
   {
    "duration": 11,
    "start_time": "2025-08-08T12:28:27.720Z"
   },
   {
    "duration": 4,
    "start_time": "2025-08-08T12:28:33.340Z"
   },
   {
    "duration": 156,
    "start_time": "2025-08-08T12:29:00.991Z"
   },
   {
    "duration": 10,
    "start_time": "2025-08-08T12:29:08.135Z"
   },
   {
    "duration": 10,
    "start_time": "2025-08-08T12:29:14.751Z"
   },
   {
    "duration": 1154,
    "start_time": "2025-08-08T12:29:24.922Z"
   },
   {
    "duration": 47,
    "start_time": "2025-08-08T12:29:26.079Z"
   },
   {
    "duration": 12,
    "start_time": "2025-08-08T12:29:26.128Z"
   },
   {
    "duration": 29,
    "start_time": "2025-08-08T12:29:26.143Z"
   },
   {
    "duration": 19,
    "start_time": "2025-08-08T12:29:26.174Z"
   },
   {
    "duration": 9,
    "start_time": "2025-08-08T12:29:26.194Z"
   },
   {
    "duration": 4,
    "start_time": "2025-08-08T12:29:26.205Z"
   },
   {
    "duration": 28,
    "start_time": "2025-08-08T12:29:26.211Z"
   },
   {
    "duration": 22,
    "start_time": "2025-08-08T12:29:26.240Z"
   },
   {
    "duration": 9,
    "start_time": "2025-08-08T12:29:26.264Z"
   },
   {
    "duration": 13,
    "start_time": "2025-08-08T12:29:26.275Z"
   },
   {
    "duration": 6,
    "start_time": "2025-08-08T12:29:26.290Z"
   },
   {
    "duration": 42,
    "start_time": "2025-08-08T12:29:26.297Z"
   },
   {
    "duration": 1384,
    "start_time": "2025-08-08T12:29:26.340Z"
   },
   {
    "duration": 9,
    "start_time": "2025-08-08T12:29:27.738Z"
   },
   {
    "duration": 20,
    "start_time": "2025-08-08T12:29:27.748Z"
   },
   {
    "duration": 19,
    "start_time": "2025-08-08T12:29:27.770Z"
   },
   {
    "duration": 8,
    "start_time": "2025-08-08T12:29:27.790Z"
   },
   {
    "duration": 115,
    "start_time": "2025-08-08T12:29:27.800Z"
   },
   {
    "duration": 364,
    "start_time": "2025-08-08T12:29:27.917Z"
   },
   {
    "duration": 368,
    "start_time": "2025-08-08T12:29:28.282Z"
   },
   {
    "duration": 226,
    "start_time": "2025-08-08T12:29:28.652Z"
   },
   {
    "duration": 12,
    "start_time": "2025-08-08T12:29:28.880Z"
   },
   {
    "duration": 20,
    "start_time": "2025-08-08T12:29:28.894Z"
   },
   {
    "duration": 3,
    "start_time": "2025-08-08T12:29:28.916Z"
   },
   {
    "duration": 191,
    "start_time": "2025-08-08T12:29:28.920Z"
   },
   {
    "duration": 11,
    "start_time": "2025-08-08T12:29:29.113Z"
   },
   {
    "duration": 17,
    "start_time": "2025-08-08T12:29:29.127Z"
   },
   {
    "duration": 18,
    "start_time": "2025-08-08T12:29:29.146Z"
   },
   {
    "duration": 174,
    "start_time": "2025-08-08T12:29:29.166Z"
   },
   {
    "duration": 66,
    "start_time": "2025-08-08T12:29:29.342Z"
   },
   {
    "duration": 41,
    "start_time": "2025-08-08T12:29:29.410Z"
   },
   {
    "duration": 14,
    "start_time": "2025-08-08T12:29:29.453Z"
   },
   {
    "duration": 16,
    "start_time": "2025-08-08T12:29:29.468Z"
   },
   {
    "duration": 14,
    "start_time": "2025-08-08T12:29:29.486Z"
   },
   {
    "duration": 27,
    "start_time": "2025-08-08T12:29:29.501Z"
   },
   {
    "duration": 39,
    "start_time": "2025-08-08T12:29:29.539Z"
   },
   {
    "duration": 42,
    "start_time": "2025-08-08T12:29:29.580Z"
   },
   {
    "duration": 19,
    "start_time": "2025-08-08T12:29:29.624Z"
   },
   {
    "duration": 233,
    "start_time": "2025-08-08T12:30:05.704Z"
   },
   {
    "duration": 1956,
    "start_time": "2025-08-08T12:30:19.506Z"
   },
   {
    "duration": 11,
    "start_time": "2025-08-08T12:30:28.613Z"
   },
   {
    "duration": 114,
    "start_time": "2025-08-08T12:30:38.340Z"
   },
   {
    "duration": 265,
    "start_time": "2025-08-08T12:30:41.891Z"
   },
   {
    "duration": 307,
    "start_time": "2025-08-08T12:31:00.958Z"
   },
   {
    "duration": 249,
    "start_time": "2025-08-08T12:31:02.918Z"
   },
   {
    "duration": 4,
    "start_time": "2025-08-08T12:31:20.677Z"
   },
   {
    "duration": 160,
    "start_time": "2025-08-08T12:31:30.102Z"
   },
   {
    "duration": 153,
    "start_time": "2025-08-08T12:31:44.555Z"
   },
   {
    "duration": 58,
    "start_time": "2025-08-08T12:31:54.693Z"
   },
   {
    "duration": 25,
    "start_time": "2025-08-08T12:32:02.378Z"
   },
   {
    "duration": 12,
    "start_time": "2025-08-08T12:32:11.855Z"
   },
   {
    "duration": 16,
    "start_time": "2025-08-08T12:32:18.180Z"
   },
   {
    "duration": 16,
    "start_time": "2025-08-08T12:32:28.003Z"
   },
   {
    "duration": 6,
    "start_time": "2025-08-08T12:32:30.986Z"
   },
   {
    "duration": 4,
    "start_time": "2025-08-08T12:32:34.283Z"
   },
   {
    "duration": 20,
    "start_time": "2025-08-08T12:34:05.899Z"
   },
   {
    "duration": 7,
    "start_time": "2025-08-08T12:34:09.056Z"
   }
  ],
  "colab": {
   "provenance": [],
   "toc_visible": true
  },
  "kernelspec": {
   "display_name": "Python 3 (ipykernel)",
   "language": "python",
   "name": "python3"
  },
  "language_info": {
   "codemirror_mode": {
    "name": "ipython",
    "version": 3
   },
   "file_extension": ".py",
   "mimetype": "text/x-python",
   "name": "python",
   "nbconvert_exporter": "python",
   "pygments_lexer": "ipython3",
   "version": "3.9.5"
  },
  "toc": {
   "base_numbering": 1,
   "nav_menu": {},
   "number_sections": false,
   "sideBar": true,
   "skip_h1_title": true,
   "title_cell": "Table of Contents",
   "title_sidebar": "Contents",
   "toc_cell": false,
   "toc_position": {
    "height": "calc(100% - 180px)",
    "left": "10px",
    "top": "150px",
    "width": "317.819px"
   },
   "toc_section_display": true,
   "toc_window_display": true
  }
 },
 "nbformat": 4,
 "nbformat_minor": 5
}
