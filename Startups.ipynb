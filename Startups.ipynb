{
 "cells": [
  {
   "cell_type": "markdown",
   "metadata": {
    "id": "4mJbK1knrJgz"
   },
   "source": [
    "# Проект: Исследование стартапов"
   ]
  },
  {
   "cell_type": "markdown",
   "metadata": {},
   "source": [
    "- Автор: Болохова Ирина\n",
    "- Дата: 15.06.2025"
   ]
  },
  {
   "cell_type": "markdown",
   "metadata": {
    "id": "P6j0r3worJg0"
   },
   "source": [
    "## Введение"
   ]
  },
  {
   "cell_type": "markdown",
   "metadata": {},
   "source": [
    "Финансовая компания, которая предоставляет льготные займы стартапам, хочет войти на инвестиционный рынок с прицелом на покупку, развитие и последующую перепродажу перспективных стартапов. Для разработки модели бизнеса нужна информация. Чтобы выработать общее понимание, какие данные могут быть полезны, проводится исследование на исторических данных."
   ]
  },
  {
   "cell_type": "markdown",
   "metadata": {},
   "source": [
    "### Цель:\n",
    "\n",
    "Подготовить датасет и проверить, что данные в нём соответствуют здравому смыслу, а также ответить на вопросы заказчика как о предобработке, так и о значении данных для бизнеса.\n"
   ]
  },
  {
   "cell_type": "markdown",
   "metadata": {},
   "source": [
    "### Задачи:\n",
    "\n",
    "1. Загрузить данные, познакомиться с их содержимым и провести первичную предобработку:\n",
    "    - вывести общую информацию о данных в каждом датасете, проверить названия столбцов;\n",
    "    - обработать типы данных в столбцах и проанализировать пропуски.\n",
    "2. Провести предобработку данных и предварительное исследование:\n",
    "    - исследовать раунды финансирования по годам;\n",
    "    - исследовать, зависит ли полнота сведений о сотрудниках от размера компаний;\n",
    "    - определить, по каким столбцам можно объединять данные;\n",
    "    - проанализировать пропуски в данных.\n",
    "3. Провести исследовательский анализ данных:\n",
    "     - объединить и отфильтровать данные для дальнейшей работы;\n",
    "     - оценить обычный для рассматриваемого периода размер средств, который предоставлялся компаниям;\n",
    "     - определить, что означают покупки за 0 или за 1 доллар;\n",
    "     - определить, какая цена в зависимости от категории стартапов и количества раундов финансирования перед его покупкой.\n",
    "4. Сформулировать выводы по проведённому анализу."
   ]
  },
  {
   "cell_type": "markdown",
   "metadata": {},
   "source": [
    "### Описание данных\n",
    "\n",
    "Для анализа поступили данные от поступили сведения от финансовой компании, которые ранее уже были проанализированы внутри компании. \n",
    "\n",
    "Данные состоят из нескольких датасетов:\n",
    "- файл /datasets/acquisition.csv содержит информацию о покупках одними компаниями других компаний;\n",
    "- файл /datasets/company_and_rounds.csv содержит информацию о компаниях и раундах финансирования;\n",
    "- файл /datasets/people.csv содержит информацию об образовании сотрудника;\n",
    "- файл /datasets/education.csv содержит информацию о сотрудниках;\n",
    "- файл /datasets/degrees.csv содержит информацию о типе образования сотрудника.\n",
    "\n",
    "Также есть дополнительные датасеты, которые не требуются для выполнения проекта, но связаны с исследуемыми данными:\n",
    "- файл /datasets/fund.csv содержит информацию о фондах;\n",
    "- файл /datasets/investment.csv содержит информацию о раундах инвестирования."
   ]
  },
  {
   "cell_type": "markdown",
   "metadata": {},
   "source": [
    "#### Описание датасета `acquisition`:\n",
    "- id — идентификатор покупки;\n",
    "- acquiring_company_id — идентификатор покупающей компании;\n",
    "- acquired_company_id — идентификатор покупаемой компании;\n",
    "- term_code — варианты расчёта;\n",
    "- price_amount — сумма сделки;\n",
    "- acquired_at — дата сделки.\n",
    "\n",
    "#### Описание датасета `company_and_rounds`:\n",
    "- company ID — идентификатор компании;\n",
    "- name — название компании;\n",
    "- category code — категория области деятельности компании;\n",
    "- status — статус компании;\n",
    "- founded at — дата инвестирования;\n",
    "- closed at — дата закрытия компании;\n",
    "- domain — официальный сайт компании;\n",
    "- network username — ник компании в сети;\n",
    "- country code — код страны компании;\n",
    "- investment rounds — число инвестиционных раундов;\n",
    "- funding rounds — число раундов финансирования;\n",
    "- funding total — сумма финансирования;\n",
    "- milestones — вехи финансирования;\n",
    "- funding round id — идентификатор этапа финансирования;\n",
    "- company id — идентификатор компании;\n",
    "- funded at — дата финансирования;\n",
    "- funding round type — тип финансирования;\n",
    "- raised amount — сумма финансирования;\n",
    "- pre money valuation — предварительная денежная оценка;\n",
    "- participants — число участников;\n",
    "- is first round — является ли раунд первым;\n",
    "- is last round — является раунд последним.\n",
    "\n",
    "#### Описание датасета `people`:\n",
    "- id — идентификатор записи об образовании;\n",
    "- person_id — идентификатор работника;\n",
    "- instituition — название учебного заведения;\n",
    "- graduated_at — дата получения образования.\n",
    "\n",
    "#### Описание датасета `education`:\n",
    "- id — идентификатор сотрудника;\n",
    "- first_name — имя сотрудника;\n",
    "- last_name — фамилия сотрудника;\n",
    "- company_id — идентификатор компании;\n",
    "- network_username — ник в социальных сетях.\n",
    "\n",
    "#### Описание датасета `degrees`:\n",
    "- id — идентификатор записи;\n",
    "- object_id — идентификатор сотрудника;\n",
    "- degree_type — тип образования;\n",
    "- subject — специальность.\n",
    "\n",
    "#### Описание датасета `fund`:\n",
    "- id — идентификатор фонда;\n",
    "- name — название фонда;\n",
    "- category_code — категория области деятельности компании;\n",
    "- founded_at — дата создания фонда;\n",
    "- domain — сайт фонда;\n",
    "- network_username — ник фонда в сети;\n",
    "- country_code — код страны фонда;\n",
    "- investment_rounds — число инвестиционных раундов;\n",
    "- invested_companies — число профинансированных компаний;\n",
    "- milestones — вехи финансирования.\n",
    "\n",
    "#### Описание датасета `investment`:\n",
    "- id — идентификатор этапа инвестирования;\n",
    "- funding_round_id — идентификатор раунда инвестирования;\n",
    "- company_id — индентификатор компании;\n",
    "- funding_round_type — тип финансирования;\n",
    "- fund_id — идентификатор фонда."
   ]
  },
  {
   "cell_type": "markdown",
   "metadata": {},
   "source": [
    "### Содержимое проекта\n",
    "\n",
    "1. Знакомство с данными: загрузка и первичная предобработка.\n",
    "2. Предобработка данных, предварительное исследование.\n",
    "3. Исследовательский анализ объединённых таблиц.\n",
    "4. Итоговые выводы и рекомендации."
   ]
  },
  {
   "cell_type": "markdown",
   "metadata": {
    "id": "xqr6uttCrJg0"
   },
   "source": [
    "\n",
    "## Шаг 1. Знакомство с данными: загрузка и первичная предобработка\n",
    "\n",
    "\n",
    "### 1.1. Вывод общей информации, исправление названия столбцов\n",
    "\n"
   ]
  },
  {
   "cell_type": "markdown",
   "metadata": {
    "colab": {
     "base_uri": "https://localhost:8080/"
    },
    "id": "W_W4jRazrJg0",
    "outputId": "d2409aad-233f-4bb4-ec71-7da96594f9df",
    "vscode": {
     "languageId": "plaintext"
    }
   },
   "source": [
    "Начнём с загрузки библиотек и датасетов. \n",
    "\n",
    "Будем использовать pandas и библиотеки визуализации данных matplotlib и seaborn, а также phik для построения матрицы корреляции. \n",
    "\n",
    "Данные датасетов сохраним в переменных: `acquisition`, `company_and_rounds`, `people`, `education`, `degrees`, `fund` и `investment`."
   ]
  },
  {
   "cell_type": "code",
   "execution_count": 1,
   "metadata": {
    "id": "2Tm4Pk__Felf"
   },
   "outputs": [],
   "source": [
    "# Импортируем библиотеки\n",
    "import pandas as pd\n",
    "\n",
    "# Загружаем библиотеки для визуализации данных\n",
    "import matplotlib.pyplot as plt\n",
    "import seaborn as sns\n",
    "\n"
   ]
  },
  {
   "cell_type": "code",
   "execution_count": 2,
   "metadata": {
    "id": "oNqJ2qpRFebv"
   },
   "outputs": [],
   "source": [
    "# Выгружаем данные в переменные acquisition, company_and_rounds, people, education, degrees, fund и investment\n",
    "\n",
    "try:\n",
    "    acquisition = pd.read_csv('https://code.s3.yandex.net/datasets/acquisition.csv')\n",
    "except:\n",
    "    acquisition = pd.read_csv('acquisition.csv')\n",
    "\n",
    "try:\n",
    "    company_and_rounds = pd.read_csv('https://code.s3.yandex.net/datasets/company_and_rounds.csv')\n",
    "except:\n",
    "    company_and_rounds = pd.read_csv('company_and_rounds.csv')\n",
    "\n",
    "try:\n",
    "    people = pd.read_csv('https://code.s3.yandex.net/datasets/people.csv')\n",
    "except:\n",
    "    people = pd.read_csv('people.csv')\n",
    "\n",
    "try:\n",
    "    education = pd.read_csv('https://code.s3.yandex.net/datasets/education.csv')\n",
    "except:\n",
    "    education = pd.read_csv('education.csv')\n",
    "\n",
    "try:\n",
    "    degrees = pd.read_csv('https://code.s3.yandex.net/datasets/degrees.csv')\n",
    "except:\n",
    "    degrees = pd.read_csv('degrees.csv')\n",
    "\n",
    "try:\n",
    "    fund = pd.read_csv('https://code.s3.yandex.net/datasets/fund.csv')\n",
    "except:\n",
    "    fund = pd.read_csv('fund.csv')\n",
    "\n",
    "try:\n",
    "    investment = pd.read_csv('https://code.s3.yandex.net/datasets/investment.csv')\n",
    "except:\n",
    "    investment = pd.read_csv('investment.csv')\n"
   ]
  },
  {
   "cell_type": "markdown",
   "metadata": {},
   "source": [
    "Познакомимся с данными основных датасетов.\n",
    "\n",
    "Начнем с датасета `acquisition`: выведем о них общую информацию и первые строки датасета."
   ]
  },
  {
   "cell_type": "code",
   "execution_count": 3,
   "metadata": {},
   "outputs": [
    {
     "name": "stdout",
     "output_type": "stream",
     "text": [
      "<class 'pandas.core.frame.DataFrame'>\n",
      "RangeIndex: 9407 entries, 0 to 9406\n",
      "Data columns (total 6 columns):\n",
      " #   Column                Non-Null Count  Dtype \n",
      "---  ------                --------------  ----- \n",
      " 0   id                    9407 non-null   int64 \n",
      " 1   acquiring_company_id  9407 non-null   int64 \n",
      " 2   acquired_company_id   9407 non-null   int64 \n",
      " 3   term_code             1831 non-null   object\n",
      " 4   price_amount          9407 non-null   int64 \n",
      " 5   acquired_at           9378 non-null   object\n",
      "dtypes: int64(4), object(2)\n",
      "memory usage: 441.1+ KB\n"
     ]
    }
   ],
   "source": [
    "# Выводим информацию о датасете\n",
    "acquisition.info()"
   ]
  },
  {
   "cell_type": "code",
   "execution_count": 4,
   "metadata": {},
   "outputs": [
    {
     "data": {
      "text/html": [
       "<div>\n",
       "<style scoped>\n",
       "    .dataframe tbody tr th:only-of-type {\n",
       "        vertical-align: middle;\n",
       "    }\n",
       "\n",
       "    .dataframe tbody tr th {\n",
       "        vertical-align: top;\n",
       "    }\n",
       "\n",
       "    .dataframe thead th {\n",
       "        text-align: right;\n",
       "    }\n",
       "</style>\n",
       "<table border=\"1\" class=\"dataframe\">\n",
       "  <thead>\n",
       "    <tr style=\"text-align: right;\">\n",
       "      <th></th>\n",
       "      <th>id</th>\n",
       "      <th>acquiring_company_id</th>\n",
       "      <th>acquired_company_id</th>\n",
       "      <th>term_code</th>\n",
       "      <th>price_amount</th>\n",
       "      <th>acquired_at</th>\n",
       "    </tr>\n",
       "  </thead>\n",
       "  <tbody>\n",
       "    <tr>\n",
       "      <th>0</th>\n",
       "      <td>1</td>\n",
       "      <td>11</td>\n",
       "      <td>10</td>\n",
       "      <td>NaN</td>\n",
       "      <td>20000000</td>\n",
       "      <td>2007-05-30</td>\n",
       "    </tr>\n",
       "    <tr>\n",
       "      <th>1</th>\n",
       "      <td>7</td>\n",
       "      <td>59</td>\n",
       "      <td>72</td>\n",
       "      <td>cash</td>\n",
       "      <td>60000000</td>\n",
       "      <td>2007-07-01</td>\n",
       "    </tr>\n",
       "    <tr>\n",
       "      <th>2</th>\n",
       "      <td>8</td>\n",
       "      <td>24</td>\n",
       "      <td>132</td>\n",
       "      <td>cash</td>\n",
       "      <td>280000000</td>\n",
       "      <td>2007-05-01</td>\n",
       "    </tr>\n",
       "    <tr>\n",
       "      <th>3</th>\n",
       "      <td>9</td>\n",
       "      <td>59</td>\n",
       "      <td>155</td>\n",
       "      <td>cash</td>\n",
       "      <td>100000000</td>\n",
       "      <td>2007-06-01</td>\n",
       "    </tr>\n",
       "    <tr>\n",
       "      <th>4</th>\n",
       "      <td>10</td>\n",
       "      <td>212</td>\n",
       "      <td>215</td>\n",
       "      <td>cash</td>\n",
       "      <td>25000000</td>\n",
       "      <td>2007-07-01</td>\n",
       "    </tr>\n",
       "  </tbody>\n",
       "</table>\n",
       "</div>"
      ],
      "text/plain": [
       "   id  acquiring_company_id  acquired_company_id term_code  price_amount  \\\n",
       "0   1                    11                   10       NaN      20000000   \n",
       "1   7                    59                   72      cash      60000000   \n",
       "2   8                    24                  132      cash     280000000   \n",
       "3   9                    59                  155      cash     100000000   \n",
       "4  10                   212                  215      cash      25000000   \n",
       "\n",
       "  acquired_at  \n",
       "0  2007-05-30  \n",
       "1  2007-07-01  \n",
       "2  2007-05-01  \n",
       "3  2007-06-01  \n",
       "4  2007-07-01  "
      ]
     },
     "execution_count": 4,
     "metadata": {},
     "output_type": "execute_result"
    }
   ],
   "source": [
    "# Выводим первые строки датасета на экран\n",
    "acquisition.head()"
   ]
  },
  {
   "cell_type": "markdown",
   "metadata": {},
   "source": [
    "Датасет `acquisition.csv` содержит 6 столбцов и 9406 строк, в которых представлена информация о покупках одними компаниями других компаний.\n",
    "\n",
    "После первичного анализа данных можно сделать следующие выводы:\n",
    " - Названия столбцов единого вида и не требуют переименования.\n",
    " - Представленные данные хранятся в типах данных `object` и `int64`. \n",
    "   Значения в столбцe `acquired_at` показывают дату сделки, его тип данных следует привести к типу времени и даты. \n",
    "   Значения в остальных столбцах имеют верный тип данных.\n",
    " - Пропуски содержатся только в столбцах `term_code` и `acquired_at`. \n",
    " - Судя по первому знакомству с данными, значения в столбцах соответствуют своему описанию."
   ]
  },
  {
   "cell_type": "markdown",
   "metadata": {},
   "source": [
    "Познакомимся с данными датасета `company_and_rounds`: выведем о них общую информацию и первые строки датасета."
   ]
  },
  {
   "cell_type": "code",
   "execution_count": 5,
   "metadata": {},
   "outputs": [
    {
     "name": "stdout",
     "output_type": "stream",
     "text": [
      "<class 'pandas.core.frame.DataFrame'>\n",
      "RangeIndex: 217774 entries, 0 to 217773\n",
      "Data columns (total 22 columns):\n",
      " #   Column                 Non-Null Count   Dtype  \n",
      "---  ------                 --------------   -----  \n",
      " 0   company  ID            217472 non-null  float64\n",
      " 1   name                   217472 non-null  object \n",
      " 2   category  code         143886 non-null  object \n",
      " 3   status                 217472 non-null  object \n",
      " 4   founded  at            109956 non-null  object \n",
      " 5   closed  at             3449 non-null    object \n",
      " 6   domain                 147159 non-null  object \n",
      " 7   network  username      95534 non-null   object \n",
      " 8   country  code          108607 non-null  object \n",
      " 9   investment  rounds     217472 non-null  float64\n",
      " 10  funding  rounds        217472 non-null  float64\n",
      " 11  funding  total         217472 non-null  float64\n",
      " 12  milestones             217472 non-null  float64\n",
      " 13  funding  round  id     52928 non-null   float64\n",
      " 14  company  id            52928 non-null   float64\n",
      " 15  funded  at             52680 non-null   object \n",
      " 16  funding  round  type   52928 non-null   object \n",
      " 17  raised  amount         52928 non-null   float64\n",
      " 18  pre  money  valuation  52928 non-null   float64\n",
      " 19  participants           52928 non-null   float64\n",
      " 20  is  first  round       52928 non-null   float64\n",
      " 21  is  last  round        52928 non-null   float64\n",
      "dtypes: float64(12), object(10)\n",
      "memory usage: 36.6+ MB\n"
     ]
    }
   ],
   "source": [
    "# Выводим информацию о датасете\n",
    "company_and_rounds.info()"
   ]
  },
  {
   "cell_type": "code",
   "execution_count": 6,
   "metadata": {},
   "outputs": [
    {
     "data": {
      "text/html": [
       "<div>\n",
       "<style scoped>\n",
       "    .dataframe tbody tr th:only-of-type {\n",
       "        vertical-align: middle;\n",
       "    }\n",
       "\n",
       "    .dataframe tbody tr th {\n",
       "        vertical-align: top;\n",
       "    }\n",
       "\n",
       "    .dataframe thead th {\n",
       "        text-align: right;\n",
       "    }\n",
       "</style>\n",
       "<table border=\"1\" class=\"dataframe\">\n",
       "  <thead>\n",
       "    <tr style=\"text-align: right;\">\n",
       "      <th></th>\n",
       "      <th>company  ID</th>\n",
       "      <th>name</th>\n",
       "      <th>category  code</th>\n",
       "      <th>status</th>\n",
       "      <th>founded  at</th>\n",
       "      <th>closed  at</th>\n",
       "      <th>domain</th>\n",
       "      <th>network  username</th>\n",
       "      <th>country  code</th>\n",
       "      <th>investment  rounds</th>\n",
       "      <th>...</th>\n",
       "      <th>milestones</th>\n",
       "      <th>funding  round  id</th>\n",
       "      <th>company  id</th>\n",
       "      <th>funded  at</th>\n",
       "      <th>funding  round  type</th>\n",
       "      <th>raised  amount</th>\n",
       "      <th>pre  money  valuation</th>\n",
       "      <th>participants</th>\n",
       "      <th>is  first  round</th>\n",
       "      <th>is  last  round</th>\n",
       "    </tr>\n",
       "  </thead>\n",
       "  <tbody>\n",
       "    <tr>\n",
       "      <th>0</th>\n",
       "      <td>1.0</td>\n",
       "      <td>Wetpaint</td>\n",
       "      <td>web</td>\n",
       "      <td>operating</td>\n",
       "      <td>2005-10-17</td>\n",
       "      <td>NaN</td>\n",
       "      <td>wetpaint-inc.com</td>\n",
       "      <td>BachelrWetpaint</td>\n",
       "      <td>USA</td>\n",
       "      <td>0.0</td>\n",
       "      <td>...</td>\n",
       "      <td>5.0</td>\n",
       "      <td>888.0</td>\n",
       "      <td>1.0</td>\n",
       "      <td>2005-10-01</td>\n",
       "      <td>series-a</td>\n",
       "      <td>5250000.0</td>\n",
       "      <td>0.0</td>\n",
       "      <td>2.0</td>\n",
       "      <td>0.0</td>\n",
       "      <td>1.0</td>\n",
       "    </tr>\n",
       "    <tr>\n",
       "      <th>1</th>\n",
       "      <td>1.0</td>\n",
       "      <td>Wetpaint</td>\n",
       "      <td>web</td>\n",
       "      <td>operating</td>\n",
       "      <td>2005-10-17</td>\n",
       "      <td>NaN</td>\n",
       "      <td>wetpaint-inc.com</td>\n",
       "      <td>BachelrWetpaint</td>\n",
       "      <td>USA</td>\n",
       "      <td>0.0</td>\n",
       "      <td>...</td>\n",
       "      <td>5.0</td>\n",
       "      <td>889.0</td>\n",
       "      <td>1.0</td>\n",
       "      <td>2007-01-01</td>\n",
       "      <td>series-b</td>\n",
       "      <td>9500000.0</td>\n",
       "      <td>0.0</td>\n",
       "      <td>3.0</td>\n",
       "      <td>0.0</td>\n",
       "      <td>0.0</td>\n",
       "    </tr>\n",
       "    <tr>\n",
       "      <th>2</th>\n",
       "      <td>1.0</td>\n",
       "      <td>Wetpaint</td>\n",
       "      <td>web</td>\n",
       "      <td>operating</td>\n",
       "      <td>2005-10-17</td>\n",
       "      <td>NaN</td>\n",
       "      <td>wetpaint-inc.com</td>\n",
       "      <td>BachelrWetpaint</td>\n",
       "      <td>USA</td>\n",
       "      <td>0.0</td>\n",
       "      <td>...</td>\n",
       "      <td>5.0</td>\n",
       "      <td>2312.0</td>\n",
       "      <td>1.0</td>\n",
       "      <td>2008-05-19</td>\n",
       "      <td>series-c+</td>\n",
       "      <td>25000000.0</td>\n",
       "      <td>0.0</td>\n",
       "      <td>4.0</td>\n",
       "      <td>1.0</td>\n",
       "      <td>0.0</td>\n",
       "    </tr>\n",
       "    <tr>\n",
       "      <th>3</th>\n",
       "      <td>10.0</td>\n",
       "      <td>Flektor</td>\n",
       "      <td>games_video</td>\n",
       "      <td>acquired</td>\n",
       "      <td>NaN</td>\n",
       "      <td>NaN</td>\n",
       "      <td>flektor.com</td>\n",
       "      <td>NaN</td>\n",
       "      <td>USA</td>\n",
       "      <td>0.0</td>\n",
       "      <td>...</td>\n",
       "      <td>0.0</td>\n",
       "      <td>NaN</td>\n",
       "      <td>NaN</td>\n",
       "      <td>NaN</td>\n",
       "      <td>NaN</td>\n",
       "      <td>NaN</td>\n",
       "      <td>NaN</td>\n",
       "      <td>NaN</td>\n",
       "      <td>NaN</td>\n",
       "      <td>NaN</td>\n",
       "    </tr>\n",
       "    <tr>\n",
       "      <th>4</th>\n",
       "      <td>100.0</td>\n",
       "      <td>There</td>\n",
       "      <td>games_video</td>\n",
       "      <td>acquired</td>\n",
       "      <td>NaN</td>\n",
       "      <td>NaN</td>\n",
       "      <td>there.com</td>\n",
       "      <td>NaN</td>\n",
       "      <td>USA</td>\n",
       "      <td>0.0</td>\n",
       "      <td>...</td>\n",
       "      <td>4.0</td>\n",
       "      <td>NaN</td>\n",
       "      <td>NaN</td>\n",
       "      <td>NaN</td>\n",
       "      <td>NaN</td>\n",
       "      <td>NaN</td>\n",
       "      <td>NaN</td>\n",
       "      <td>NaN</td>\n",
       "      <td>NaN</td>\n",
       "      <td>NaN</td>\n",
       "    </tr>\n",
       "  </tbody>\n",
       "</table>\n",
       "<p>5 rows × 22 columns</p>\n",
       "</div>"
      ],
      "text/plain": [
       "   company  ID      name category  code     status founded  at closed  at  \\\n",
       "0          1.0  Wetpaint            web  operating  2005-10-17        NaN   \n",
       "1          1.0  Wetpaint            web  operating  2005-10-17        NaN   \n",
       "2          1.0  Wetpaint            web  operating  2005-10-17        NaN   \n",
       "3         10.0   Flektor    games_video   acquired         NaN        NaN   \n",
       "4        100.0     There    games_video   acquired         NaN        NaN   \n",
       "\n",
       "             domain network  username country  code  investment  rounds  ...  \\\n",
       "0  wetpaint-inc.com   BachelrWetpaint           USA                 0.0  ...   \n",
       "1  wetpaint-inc.com   BachelrWetpaint           USA                 0.0  ...   \n",
       "2  wetpaint-inc.com   BachelrWetpaint           USA                 0.0  ...   \n",
       "3       flektor.com               NaN           USA                 0.0  ...   \n",
       "4         there.com               NaN           USA                 0.0  ...   \n",
       "\n",
       "   milestones  funding  round  id  company  id  funded  at  \\\n",
       "0         5.0               888.0          1.0  2005-10-01   \n",
       "1         5.0               889.0          1.0  2007-01-01   \n",
       "2         5.0              2312.0          1.0  2008-05-19   \n",
       "3         0.0                 NaN          NaN         NaN   \n",
       "4         4.0                 NaN          NaN         NaN   \n",
       "\n",
       "   funding  round  type raised  amount pre  money  valuation  participants  \\\n",
       "0              series-a      5250000.0                   0.0           2.0   \n",
       "1              series-b      9500000.0                   0.0           3.0   \n",
       "2             series-c+     25000000.0                   0.0           4.0   \n",
       "3                   NaN            NaN                   NaN           NaN   \n",
       "4                   NaN            NaN                   NaN           NaN   \n",
       "\n",
       "   is  first  round  is  last  round  \n",
       "0               0.0              1.0  \n",
       "1               0.0              0.0  \n",
       "2               1.0              0.0  \n",
       "3               NaN              NaN  \n",
       "4               NaN              NaN  \n",
       "\n",
       "[5 rows x 22 columns]"
      ]
     },
     "execution_count": 6,
     "metadata": {},
     "output_type": "execute_result"
    }
   ],
   "source": [
    "# Выводим первые строки датасета на экран\n",
    "company_and_rounds.head()"
   ]
  },
  {
   "cell_type": "markdown",
   "metadata": {},
   "source": [
    "Датасет `company_and_rounds.csv` содержит 22 столбца и 217774 строк, в которых представлена информация о компаниях и раундах финансирования.\n",
    "\n",
    "После первичного анализа данных можно сделать следующие выводы:\n",
    " - Названия столбцов необходимо привести к единому виду snake_case.\n",
    " - Представленные данные хранятся в типах данных `object` и `float64`. \n",
    "   Значения в столбцах `founded at`, `closed at` и `funded at` показывают даты, их тип данных следует привести к типу времени и даты. \n",
    "   Значения в остальных столбцах имеют верный тип данных. **(Можно привести часть столбцов к целочисленным после работы с пропусками)**\n",
    " - Во всех столбцах содержатся пропуски. \n",
    " - Судя по первому знакомству с данными, значения в столбцах соответствуют своему описанию."
   ]
  },
  {
   "cell_type": "markdown",
   "metadata": {},
   "source": [
    "Сразу приведем названия столбцов к snake_case\n",
    "\n",
    "Для переименования используем метод `rename()`, которому передадим словарь с новыми названиями столбцов. Однако сначала выведем все названия на экран — так будет удобнее составлять словарь."
   ]
  },
  {
   "cell_type": "code",
   "execution_count": 7,
   "metadata": {},
   "outputs": [
    {
     "data": {
      "text/plain": [
       "Index(['company  ID', 'name', 'category  code', 'status', 'founded  at',\n",
       "       'closed  at', 'domain', 'network  username', 'country  code',\n",
       "       'investment  rounds', 'funding  rounds', 'funding  total', 'milestones',\n",
       "       'funding  round  id', 'company  id', 'funded  at',\n",
       "       'funding  round  type', 'raised  amount', 'pre  money  valuation',\n",
       "       'participants', 'is  first  round', 'is  last  round'],\n",
       "      dtype='object')"
      ]
     },
     "execution_count": 7,
     "metadata": {},
     "output_type": "execute_result"
    }
   ],
   "source": [
    "# Выводим названия столбцов датасета company_and_rounds\n",
    "company_and_rounds.columns"
   ]
  },
  {
   "cell_type": "code",
   "execution_count": 8,
   "metadata": {},
   "outputs": [],
   "source": [
    "# Передаём методу rename() словарь с названиями столбцов\n",
    "company_and_rounds = company_and_rounds.rename(columns={'company  ID': 'company_ID',\n",
    "                                  'name': 'name',\n",
    "                                  'category  code': 'category_code',\n",
    "                                  'status': 'status',\n",
    "                                  'founded  at': 'founded_at',\n",
    "                                  'closed  at': 'closed_at',\n",
    "                                  'domain': 'domain',\n",
    "                                  'network  username': 'network_username',\n",
    "                                  'country  code': 'country_code',\n",
    "                                  'investment  rounds': 'investment_rounds',\n",
    "                                  'funding  rounds': 'funding_rounds',\n",
    "                                  'funding  total': 'funding_total',\n",
    "                                  'milestones': 'milestones',\n",
    "                                  'funding  round  id': 'funding_round_id',\n",
    "                                  'company  id': 'company_id',\n",
    "                                  'funded  at': 'funded_at',\n",
    "                                  'funding  round  type': 'funding_round_type',\n",
    "                                  'raised  amount': 'raised_amount',\n",
    "                                  'pre  money  valuation': 'pre_money_valuation',\n",
    "                                  'participants': 'participants',\n",
    "                                  'is  first  round': 'is_first_round',\n",
    "                                  'is  last  round': 'is_last_round'})"
   ]
  },
  {
   "cell_type": "code",
   "execution_count": 9,
   "metadata": {},
   "outputs": [
    {
     "data": {
      "text/plain": [
       "Index(['company_ID', 'name', 'category_code', 'status', 'founded_at',\n",
       "       'closed_at', 'domain', 'network_username', 'country_code',\n",
       "       'investment_rounds', 'funding_rounds', 'funding_total', 'milestones',\n",
       "       'funding_round_id', 'company_id', 'funded_at', 'funding_round_type',\n",
       "       'raised_amount', 'pre_money_valuation', 'participants',\n",
       "       'is_first_round', 'is_last_round'],\n",
       "      dtype='object')"
      ]
     },
     "execution_count": 9,
     "metadata": {},
     "output_type": "execute_result"
    }
   ],
   "source": [
    "# Проверим результат\n",
    "company_and_rounds.columns"
   ]
  },
  {
   "cell_type": "markdown",
   "metadata": {},
   "source": [
    "Теперь названия столбцов приведены к единому виду.\n"
   ]
  },
  {
   "cell_type": "markdown",
   "metadata": {},
   "source": [
    "Познакомимся с данными датасета `people`: выведем о них общую информацию и первые строки датасета."
   ]
  },
  {
   "cell_type": "code",
   "execution_count": 10,
   "metadata": {},
   "outputs": [
    {
     "name": "stdout",
     "output_type": "stream",
     "text": [
      "<class 'pandas.core.frame.DataFrame'>\n",
      "RangeIndex: 226709 entries, 0 to 226708\n",
      "Data columns (total 5 columns):\n",
      " #   Column            Non-Null Count   Dtype  \n",
      "---  ------            --------------   -----  \n",
      " 0   id                226709 non-null  int64  \n",
      " 1   first_name        226704 non-null  object \n",
      " 2   last_name         226708 non-null  object \n",
      " 3   company_id        34615 non-null   float64\n",
      " 4   network_username  38867 non-null   object \n",
      "dtypes: float64(1), int64(1), object(3)\n",
      "memory usage: 8.6+ MB\n"
     ]
    }
   ],
   "source": [
    "# Выводим информацию о датасете\n",
    "people.info()"
   ]
  },
  {
   "cell_type": "code",
   "execution_count": 11,
   "metadata": {},
   "outputs": [
    {
     "data": {
      "text/html": [
       "<div>\n",
       "<style scoped>\n",
       "    .dataframe tbody tr th:only-of-type {\n",
       "        vertical-align: middle;\n",
       "    }\n",
       "\n",
       "    .dataframe tbody tr th {\n",
       "        vertical-align: top;\n",
       "    }\n",
       "\n",
       "    .dataframe thead th {\n",
       "        text-align: right;\n",
       "    }\n",
       "</style>\n",
       "<table border=\"1\" class=\"dataframe\">\n",
       "  <thead>\n",
       "    <tr style=\"text-align: right;\">\n",
       "      <th></th>\n",
       "      <th>id</th>\n",
       "      <th>first_name</th>\n",
       "      <th>last_name</th>\n",
       "      <th>company_id</th>\n",
       "      <th>network_username</th>\n",
       "    </tr>\n",
       "  </thead>\n",
       "  <tbody>\n",
       "    <tr>\n",
       "      <th>0</th>\n",
       "      <td>10</td>\n",
       "      <td>Mark</td>\n",
       "      <td>Zuckerberg</td>\n",
       "      <td>5.0</td>\n",
       "      <td>NaN</td>\n",
       "    </tr>\n",
       "    <tr>\n",
       "      <th>1</th>\n",
       "      <td>100</td>\n",
       "      <td>Peter</td>\n",
       "      <td>Lester</td>\n",
       "      <td>27.0</td>\n",
       "      <td>NaN</td>\n",
       "    </tr>\n",
       "    <tr>\n",
       "      <th>2</th>\n",
       "      <td>1000</td>\n",
       "      <td>Dr. Steven</td>\n",
       "      <td>E. Saunders</td>\n",
       "      <td>292.0</td>\n",
       "      <td>NaN</td>\n",
       "    </tr>\n",
       "    <tr>\n",
       "      <th>3</th>\n",
       "      <td>10000</td>\n",
       "      <td>Neil</td>\n",
       "      <td>Capel</td>\n",
       "      <td>2526.0</td>\n",
       "      <td>NaN</td>\n",
       "    </tr>\n",
       "    <tr>\n",
       "      <th>4</th>\n",
       "      <td>100000</td>\n",
       "      <td>Sue</td>\n",
       "      <td>Pilsch</td>\n",
       "      <td>NaN</td>\n",
       "      <td>NaN</td>\n",
       "    </tr>\n",
       "  </tbody>\n",
       "</table>\n",
       "</div>"
      ],
      "text/plain": [
       "       id  first_name    last_name  company_id network_username\n",
       "0      10        Mark   Zuckerberg         5.0              NaN\n",
       "1     100       Peter       Lester        27.0              NaN\n",
       "2    1000  Dr. Steven  E. Saunders       292.0              NaN\n",
       "3   10000        Neil        Capel      2526.0              NaN\n",
       "4  100000         Sue       Pilsch         NaN              NaN"
      ]
     },
     "execution_count": 11,
     "metadata": {},
     "output_type": "execute_result"
    }
   ],
   "source": [
    "# Выводим первые строки датасета на экран\n",
    "people.head()"
   ]
  },
  {
   "cell_type": "markdown",
   "metadata": {},
   "source": [
    "Датасет `people.csv` содержит 5 столбцов и 226709 строк, в которых представлена информация о сотрудниках.\n",
    "\n",
    "После первичного анализа данных можно сделать следующие выводы:\n",
    " - Названия столбцов единого вида и не требуют переименования.\n",
    " - Представленные данные хранятся в типах данных `object`, `int64` и `float64`. \n",
    "   Значения в столбце `company_id`содержит целочисленные данные и показывает id компании. \n",
    "   Значения в остальных столбцах имеют верный тип данных. \n",
    " - Пропуски содержатся в столбцах `company_id`, `first_name`, `last_name` и `network_username`. \n",
    " - Судя по первому знакомству с данными, значения в столбцах соответствуют своему описанию."
   ]
  },
  {
   "cell_type": "markdown",
   "metadata": {},
   "source": [
    "Познакомимся с данными датасета `education`: выведем о них общую информацию и первые строки датасета."
   ]
  },
  {
   "cell_type": "code",
   "execution_count": 12,
   "metadata": {},
   "outputs": [
    {
     "name": "stdout",
     "output_type": "stream",
     "text": [
      "<class 'pandas.core.frame.DataFrame'>\n",
      "RangeIndex: 109610 entries, 0 to 109609\n",
      "Data columns (total 4 columns):\n",
      " #   Column        Non-Null Count   Dtype \n",
      "---  ------        --------------   ----- \n",
      " 0   id            109610 non-null  int64 \n",
      " 1   person_id     109610 non-null  int64 \n",
      " 2   instituition  109555 non-null  object\n",
      " 3   graduated_at  58054 non-null   object\n",
      "dtypes: int64(2), object(2)\n",
      "memory usage: 3.3+ MB\n"
     ]
    }
   ],
   "source": [
    "# Выводим информацию о датасете\n",
    "education.info()"
   ]
  },
  {
   "cell_type": "code",
   "execution_count": 13,
   "metadata": {},
   "outputs": [
    {
     "data": {
      "text/html": [
       "<div>\n",
       "<style scoped>\n",
       "    .dataframe tbody tr th:only-of-type {\n",
       "        vertical-align: middle;\n",
       "    }\n",
       "\n",
       "    .dataframe tbody tr th {\n",
       "        vertical-align: top;\n",
       "    }\n",
       "\n",
       "    .dataframe thead th {\n",
       "        text-align: right;\n",
       "    }\n",
       "</style>\n",
       "<table border=\"1\" class=\"dataframe\">\n",
       "  <thead>\n",
       "    <tr style=\"text-align: right;\">\n",
       "      <th></th>\n",
       "      <th>id</th>\n",
       "      <th>person_id</th>\n",
       "      <th>instituition</th>\n",
       "      <th>graduated_at</th>\n",
       "    </tr>\n",
       "  </thead>\n",
       "  <tbody>\n",
       "    <tr>\n",
       "      <th>0</th>\n",
       "      <td>1</td>\n",
       "      <td>6117</td>\n",
       "      <td>NaN</td>\n",
       "      <td>NaN</td>\n",
       "    </tr>\n",
       "    <tr>\n",
       "      <th>1</th>\n",
       "      <td>2</td>\n",
       "      <td>6136</td>\n",
       "      <td>Washington University, St. Louis</td>\n",
       "      <td>1990-01-01</td>\n",
       "    </tr>\n",
       "    <tr>\n",
       "      <th>2</th>\n",
       "      <td>3</td>\n",
       "      <td>6136</td>\n",
       "      <td>Boston University</td>\n",
       "      <td>1992-01-01</td>\n",
       "    </tr>\n",
       "    <tr>\n",
       "      <th>3</th>\n",
       "      <td>4</td>\n",
       "      <td>6005</td>\n",
       "      <td>University of Greenwich</td>\n",
       "      <td>2006-01-01</td>\n",
       "    </tr>\n",
       "    <tr>\n",
       "      <th>4</th>\n",
       "      <td>5</td>\n",
       "      <td>5832</td>\n",
       "      <td>Rice University</td>\n",
       "      <td>NaN</td>\n",
       "    </tr>\n",
       "  </tbody>\n",
       "</table>\n",
       "</div>"
      ],
      "text/plain": [
       "   id  person_id                      instituition graduated_at\n",
       "0   1       6117                               NaN          NaN\n",
       "1   2       6136  Washington University, St. Louis   1990-01-01\n",
       "2   3       6136                 Boston University   1992-01-01\n",
       "3   4       6005           University of Greenwich   2006-01-01\n",
       "4   5       5832                   Rice University          NaN"
      ]
     },
     "execution_count": 13,
     "metadata": {},
     "output_type": "execute_result"
    }
   ],
   "source": [
    "# Выводим первые строки датасета на экран\n",
    "education.head()"
   ]
  },
  {
   "cell_type": "markdown",
   "metadata": {},
   "source": [
    "Датасет `education.csv` содержит 4 столбца и 109610 строк, в которых представлена информация об образовании сотрудников.\n",
    " \n",
    " После первичного анализа данных можно сделать следующие выводы:\n",
    " - Названия столбцов единого вида и не требуют переименования.\n",
    " - Представленные данные хранятся в типах данных object и int64. \n",
    "   Значения в столбцe `graduated_at` показывают дату получения образования, его тип данных следует привести к типу времени и даты. Значения в остальных столбцах имеют верный тип данных.\n",
    " - Пропуски содержатся в столбцах `instituition` и `graduated_at`. \n",
    " - Судя по первому знакомству с данными, значения в столбцах соответствуют своему описанию."
   ]
  },
  {
   "cell_type": "markdown",
   "metadata": {},
   "source": [
    "Познакомимся с данными датасета `degrees`: выведем о них общую информацию и первые строки датасета."
   ]
  },
  {
   "cell_type": "code",
   "execution_count": 14,
   "metadata": {},
   "outputs": [
    {
     "name": "stdout",
     "output_type": "stream",
     "text": [
      "<class 'pandas.core.frame.DataFrame'>\n",
      "RangeIndex: 109610 entries, 0 to 109609\n",
      "Data columns (total 4 columns):\n",
      " #   Column       Non-Null Count   Dtype \n",
      "---  ------       --------------   ----- \n",
      " 0   id           109610 non-null  int64 \n",
      " 1   object_id    109610 non-null  object\n",
      " 2   degree_type  98392 non-null   object\n",
      " 3   subject      81298 non-null   object\n",
      "dtypes: int64(1), object(3)\n",
      "memory usage: 3.3+ MB\n"
     ]
    }
   ],
   "source": [
    "# Выводим информацию о датасете\n",
    "degrees.info()"
   ]
  },
  {
   "cell_type": "code",
   "execution_count": 15,
   "metadata": {},
   "outputs": [
    {
     "data": {
      "text/html": [
       "<div>\n",
       "<style scoped>\n",
       "    .dataframe tbody tr th:only-of-type {\n",
       "        vertical-align: middle;\n",
       "    }\n",
       "\n",
       "    .dataframe tbody tr th {\n",
       "        vertical-align: top;\n",
       "    }\n",
       "\n",
       "    .dataframe thead th {\n",
       "        text-align: right;\n",
       "    }\n",
       "</style>\n",
       "<table border=\"1\" class=\"dataframe\">\n",
       "  <thead>\n",
       "    <tr style=\"text-align: right;\">\n",
       "      <th></th>\n",
       "      <th>id</th>\n",
       "      <th>object_id</th>\n",
       "      <th>degree_type</th>\n",
       "      <th>subject</th>\n",
       "    </tr>\n",
       "  </thead>\n",
       "  <tbody>\n",
       "    <tr>\n",
       "      <th>0</th>\n",
       "      <td>1</td>\n",
       "      <td>p:6117</td>\n",
       "      <td>MBA</td>\n",
       "      <td>NaN</td>\n",
       "    </tr>\n",
       "    <tr>\n",
       "      <th>1</th>\n",
       "      <td>2</td>\n",
       "      <td>p:6136</td>\n",
       "      <td>BA</td>\n",
       "      <td>English, French</td>\n",
       "    </tr>\n",
       "    <tr>\n",
       "      <th>2</th>\n",
       "      <td>3</td>\n",
       "      <td>p:6136</td>\n",
       "      <td>MS</td>\n",
       "      <td>Mass Communication</td>\n",
       "    </tr>\n",
       "    <tr>\n",
       "      <th>3</th>\n",
       "      <td>4</td>\n",
       "      <td>p:6005</td>\n",
       "      <td>MS</td>\n",
       "      <td>Internet Technology</td>\n",
       "    </tr>\n",
       "    <tr>\n",
       "      <th>4</th>\n",
       "      <td>5</td>\n",
       "      <td>p:5832</td>\n",
       "      <td>BCS</td>\n",
       "      <td>Computer Science, Psychology</td>\n",
       "    </tr>\n",
       "  </tbody>\n",
       "</table>\n",
       "</div>"
      ],
      "text/plain": [
       "   id object_id degree_type                       subject\n",
       "0   1    p:6117         MBA                           NaN\n",
       "1   2    p:6136          BA               English, French\n",
       "2   3    p:6136          MS            Mass Communication\n",
       "3   4    p:6005          MS           Internet Technology\n",
       "4   5    p:5832         BCS  Computer Science, Psychology"
      ]
     },
     "execution_count": 15,
     "metadata": {},
     "output_type": "execute_result"
    }
   ],
   "source": [
    "# Выводим первые строки датасета на экран\n",
    "degrees.head()"
   ]
  },
  {
   "cell_type": "markdown",
   "metadata": {},
   "source": [
    "Датасет `degrees.csv` содержит 4 столбца и 109610 строк, в которых представлена информация о типе образования сотрудников.\n",
    " \n",
    "\n",
    "После первичного анализа данных можно сделать следующие выводы:\n",
    " - Названия столбцов единого вида и не требуют переименования.\n",
    " - Представленные данные хранятся в типах данных `object` и `int64`. Значения в столбцах имеют верный тип данных.\n",
    " - Пропуски содержатся в столбцах `degree_type` и `subject`. \n",
    " - Судя по первому знакомству с данными, значения в столбцах соответствуют своему описанию."
   ]
  },
  {
   "cell_type": "markdown",
   "metadata": {
    "id": "mg2gEwh0rJg0"
   },
   "source": [
    "### 1.2. Смена типов и анализ пропусков\n",
    "\n"
   ]
  },
  {
   "cell_type": "markdown",
   "metadata": {
    "id": "FsL0A8RBrJg1",
    "vscode": {
     "languageId": "plaintext"
    }
   },
   "source": [
    "Необходимо изменить тип данных для столбца `acquired_at` датасета `acquisition`, для столбцов `founded_at`, `closed_at` и `funded_at` датасета `company_and_rounds`, а также для столбца `graduated_at` датасета `education` с `object` на `datetime64`.\n",
    "\n",
    "Для этого применим метод `.to_datetime()`."
   ]
  },
  {
   "cell_type": "code",
   "execution_count": 16,
   "metadata": {
    "id": "46VskrGyFeJ-"
   },
   "outputs": [
    {
     "name": "stdout",
     "output_type": "stream",
     "text": [
      "0      2007-05-30\n",
      "1      2007-07-01\n",
      "2      2007-05-01\n",
      "3      2007-06-01\n",
      "4      2007-07-01\n",
      "          ...    \n",
      "9402   2013-12-11\n",
      "9403   2013-12-09\n",
      "9404   2007-07-03\n",
      "9405   2013-12-12\n",
      "9406   2013-12-12\n",
      "Name: acquired_at, Length: 9407, dtype: datetime64[ns]\n"
     ]
    }
   ],
   "source": [
    "# Переведем во временной формат столбец acquired_at датасета acquisition\n",
    "acquisition['acquired_at'] = pd.to_datetime(acquisition['acquired_at'], format='%Y-%m-%d')\n",
    "print(acquisition['acquired_at'])"
   ]
  },
  {
   "cell_type": "code",
   "execution_count": 17,
   "metadata": {},
   "outputs": [
    {
     "name": "stdout",
     "output_type": "stream",
     "text": [
      "0        2005-10-17\n",
      "1        2005-10-17\n",
      "2        2005-10-17\n",
      "3               NaT\n",
      "4               NaT\n",
      "            ...    \n",
      "217769          NaT\n",
      "217770          NaT\n",
      "217771          NaT\n",
      "217772          NaT\n",
      "217773          NaT\n",
      "Name: founded_at, Length: 217774, dtype: datetime64[ns]\n"
     ]
    }
   ],
   "source": [
    "# Переведем во временной формат столбец founded_at датасета company_and_rounds\n",
    "company_and_rounds['founded_at'] = pd.to_datetime(company_and_rounds['founded_at'], format='%Y-%m-%d')\n",
    "print(company_and_rounds['founded_at'])"
   ]
  },
  {
   "cell_type": "code",
   "execution_count": 18,
   "metadata": {},
   "outputs": [
    {
     "name": "stdout",
     "output_type": "stream",
     "text": [
      "0        NaT\n",
      "1        NaT\n",
      "2        NaT\n",
      "3        NaT\n",
      "4        NaT\n",
      "          ..\n",
      "217769   NaT\n",
      "217770   NaT\n",
      "217771   NaT\n",
      "217772   NaT\n",
      "217773   NaT\n",
      "Name: closed_at, Length: 217774, dtype: datetime64[ns]\n"
     ]
    }
   ],
   "source": [
    "# Переведем во временной формат столбец closed_at датасета company_and_rounds\n",
    "company_and_rounds['closed_at'] = pd.to_datetime(company_and_rounds['closed_at'], format='%Y-%m-%d')\n",
    "print(company_and_rounds['closed_at'])"
   ]
  },
  {
   "cell_type": "code",
   "execution_count": 19,
   "metadata": {},
   "outputs": [
    {
     "name": "stdout",
     "output_type": "stream",
     "text": [
      "0        2005-10-01\n",
      "1        2007-01-01\n",
      "2        2008-05-19\n",
      "3               NaT\n",
      "4               NaT\n",
      "            ...    \n",
      "217769   2011-01-31\n",
      "217770   2011-01-13\n",
      "217771   2012-05-31\n",
      "217772   2013-12-03\n",
      "217773   2013-12-04\n",
      "Name: funded_at, Length: 217774, dtype: datetime64[ns]\n"
     ]
    }
   ],
   "source": [
    "# Переведем во временной формат столбец closed_at датасета company_and_rounds\n",
    "company_and_rounds['funded_at'] = pd.to_datetime(company_and_rounds['funded_at'], format='%Y-%m-%d')\n",
    "print(company_and_rounds['funded_at'])"
   ]
  },
  {
   "cell_type": "code",
   "execution_count": 20,
   "metadata": {},
   "outputs": [
    {
     "name": "stdout",
     "output_type": "stream",
     "text": [
      "0               NaT\n",
      "1        1990-01-01\n",
      "2        1992-01-01\n",
      "3        2006-01-01\n",
      "4               NaT\n",
      "            ...    \n",
      "109605          NaT\n",
      "109606          NaT\n",
      "109607          NaT\n",
      "109608          NaT\n",
      "109609          NaT\n",
      "Name: graduated_at, Length: 109610, dtype: datetime64[ns]\n"
     ]
    }
   ],
   "source": [
    "# Переведем во временной формат столбец closed_at датасета company_and_rounds\n",
    "education['graduated_at'] = pd.to_datetime(education['graduated_at'], format='%Y-%m-%d')\n",
    "print(education['graduated_at'])"
   ]
  },
  {
   "cell_type": "markdown",
   "metadata": {},
   "source": [
    "Теперь проанализируем количество пропусков в каждом датасете.\n",
    "\n",
    "При первичном анализе мы обнаружили пропуски в столбцах `term_code` и `acquired_at` датасета `acquisition`, в столбцах `company_id`, `first_name`, `last_name` и `network_username` датасета `people`, в столбцах `instituition` и `graduated_at` датасета `education`, в столбцах `degree_type` и `subject` датасета `degrees`, а также во всех столбцах датасета `company_and_rounds`. \n",
    "\n",
    "Узнаем абсолютное и относительное количество пропусков в каждом из этих столбцов."
   ]
  },
  {
   "cell_type": "code",
   "execution_count": 21,
   "metadata": {},
   "outputs": [
    {
     "name": "stdout",
     "output_type": "stream",
     "text": [
      "Количество пропусков в датасете acquisition\n"
     ]
    },
    {
     "data": {
      "text/plain": [
       "id                         0\n",
       "acquiring_company_id       0\n",
       "acquired_company_id        0\n",
       "term_code               7576\n",
       "price_amount               0\n",
       "acquired_at               29\n",
       "dtype: int64"
      ]
     },
     "execution_count": 21,
     "metadata": {},
     "output_type": "execute_result"
    }
   ],
   "source": [
    "# Применяем метод isna() к датасету acquisition\n",
    "print('Количество пропусков в датасете acquisition')\n",
    "acquisition.isna().sum()"
   ]
  },
  {
   "cell_type": "code",
   "execution_count": 22,
   "metadata": {},
   "outputs": [
    {
     "name": "stdout",
     "output_type": "stream",
     "text": [
      "Доля строк с пропусками в датасете acquisition\n"
     ]
    },
    {
     "data": {
      "text/plain": [
       "id                      0.000000\n",
       "acquiring_company_id    0.000000\n",
       "acquired_company_id     0.000000\n",
       "term_code               0.805358\n",
       "price_amount            0.000000\n",
       "acquired_at             0.003083\n",
       "dtype: float64"
      ]
     },
     "execution_count": 22,
     "metadata": {},
     "output_type": "execute_result"
    }
   ],
   "source": [
    "# Подсчитываем долю строк с пропусками\n",
    "print('Доля строк с пропусками в датасете acquisition')\n",
    "acquisition.isna().sum() / acquisition.shape[0]"
   ]
  },
  {
   "cell_type": "code",
   "execution_count": 23,
   "metadata": {},
   "outputs": [
    {
     "name": "stdout",
     "output_type": "stream",
     "text": [
      "Количество пропусков в датасете people\n"
     ]
    },
    {
     "data": {
      "text/plain": [
       "id                       0\n",
       "first_name               5\n",
       "last_name                1\n",
       "company_id          192094\n",
       "network_username    187842\n",
       "dtype: int64"
      ]
     },
     "execution_count": 23,
     "metadata": {},
     "output_type": "execute_result"
    }
   ],
   "source": [
    "# Применяем метод isna() к датасету people\n",
    "print('Количество пропусков в датасете people')\n",
    "people.isna().sum()"
   ]
  },
  {
   "cell_type": "code",
   "execution_count": 24,
   "metadata": {},
   "outputs": [
    {
     "name": "stdout",
     "output_type": "stream",
     "text": [
      "Доля строк с пропусками в датасете people\n"
     ]
    },
    {
     "data": {
      "text/plain": [
       "id                  0.000000\n",
       "first_name          0.000022\n",
       "last_name           0.000004\n",
       "company_id          0.847315\n",
       "network_username    0.828560\n",
       "dtype: float64"
      ]
     },
     "execution_count": 24,
     "metadata": {},
     "output_type": "execute_result"
    }
   ],
   "source": [
    "# Подсчитываем долю строк с пропусками\n",
    "print('Доля строк с пропусками в датасете people')\n",
    "people.isna().sum() / people.shape[0]"
   ]
  },
  {
   "cell_type": "code",
   "execution_count": 25,
   "metadata": {},
   "outputs": [
    {
     "name": "stdout",
     "output_type": "stream",
     "text": [
      "Количество пропусков в датасете education\n"
     ]
    },
    {
     "data": {
      "text/plain": [
       "id                  0\n",
       "person_id           0\n",
       "instituition       55\n",
       "graduated_at    51556\n",
       "dtype: int64"
      ]
     },
     "execution_count": 25,
     "metadata": {},
     "output_type": "execute_result"
    }
   ],
   "source": [
    "# Применяем метод isna() к датасету education\n",
    "print('Количество пропусков в датасете education')\n",
    "education.isna().sum()"
   ]
  },
  {
   "cell_type": "code",
   "execution_count": 26,
   "metadata": {},
   "outputs": [
    {
     "name": "stdout",
     "output_type": "stream",
     "text": [
      "Доля строк с пропусками в датасете education\n"
     ]
    },
    {
     "data": {
      "text/plain": [
       "id              0.000000\n",
       "person_id       0.000000\n",
       "instituition    0.000502\n",
       "graduated_at    0.470359\n",
       "dtype: float64"
      ]
     },
     "execution_count": 26,
     "metadata": {},
     "output_type": "execute_result"
    }
   ],
   "source": [
    "# Подсчитываем долю строк с пропусками\n",
    "print('Доля строк с пропусками в датасете education')\n",
    "education.isna().sum() / education.shape[0]"
   ]
  },
  {
   "cell_type": "code",
   "execution_count": 27,
   "metadata": {},
   "outputs": [
    {
     "name": "stdout",
     "output_type": "stream",
     "text": [
      "Количество пропусков в датасете degrees\n"
     ]
    },
    {
     "data": {
      "text/plain": [
       "id                 0\n",
       "object_id          0\n",
       "degree_type    11218\n",
       "subject        28312\n",
       "dtype: int64"
      ]
     },
     "execution_count": 27,
     "metadata": {},
     "output_type": "execute_result"
    }
   ],
   "source": [
    "# Применяем метод isna() к датасету degrees\n",
    "print('Количество пропусков в датасете degrees')\n",
    "degrees.isna().sum()"
   ]
  },
  {
   "cell_type": "code",
   "execution_count": 28,
   "metadata": {},
   "outputs": [
    {
     "name": "stdout",
     "output_type": "stream",
     "text": [
      "Доля строк с пропусками в датасете degrees\n"
     ]
    },
    {
     "data": {
      "text/plain": [
       "id             0.000000\n",
       "object_id      0.000000\n",
       "degree_type    0.102345\n",
       "subject        0.258298\n",
       "dtype: float64"
      ]
     },
     "execution_count": 28,
     "metadata": {},
     "output_type": "execute_result"
    }
   ],
   "source": [
    "# Подсчитываем долю строк с пропусками\n",
    "print('Доля строк с пропусками в датасете degrees')\n",
    "degrees.isna().sum() / degrees.shape[0]"
   ]
  },
  {
   "cell_type": "code",
   "execution_count": 29,
   "metadata": {},
   "outputs": [
    {
     "name": "stdout",
     "output_type": "stream",
     "text": [
      "Количество пропусков в датасете company_and_rounds\n"
     ]
    },
    {
     "data": {
      "text/plain": [
       "company_ID                302\n",
       "name                      302\n",
       "category_code           73888\n",
       "status                    302\n",
       "founded_at             107818\n",
       "closed_at              214325\n",
       "domain                  70615\n",
       "network_username       122240\n",
       "country_code           109167\n",
       "investment_rounds         302\n",
       "funding_rounds            302\n",
       "funding_total             302\n",
       "milestones                302\n",
       "funding_round_id       164846\n",
       "company_id             164846\n",
       "funded_at              165094\n",
       "funding_round_type     164846\n",
       "raised_amount          164846\n",
       "pre_money_valuation    164846\n",
       "participants           164846\n",
       "is_first_round         164846\n",
       "is_last_round          164846\n",
       "dtype: int64"
      ]
     },
     "execution_count": 29,
     "metadata": {},
     "output_type": "execute_result"
    }
   ],
   "source": [
    "# Применяем метод isna() к датасету company_and_rounds\n",
    "print('Количество пропусков в датасете company_and_rounds')\n",
    "company_and_rounds.isna().sum()"
   ]
  },
  {
   "cell_type": "code",
   "execution_count": 30,
   "metadata": {},
   "outputs": [
    {
     "name": "stdout",
     "output_type": "stream",
     "text": [
      "Доля строк с пропусками в датасете company_and_rounds\n"
     ]
    },
    {
     "data": {
      "text/plain": [
       "company_ID             0.001387\n",
       "name                   0.001387\n",
       "category_code          0.339288\n",
       "status                 0.001387\n",
       "founded_at             0.495091\n",
       "closed_at              0.984162\n",
       "domain                 0.324258\n",
       "network_username       0.561316\n",
       "country_code           0.501286\n",
       "investment_rounds      0.001387\n",
       "funding_rounds         0.001387\n",
       "funding_total          0.001387\n",
       "milestones             0.001387\n",
       "funding_round_id       0.756959\n",
       "company_id             0.756959\n",
       "funded_at              0.758098\n",
       "funding_round_type     0.756959\n",
       "raised_amount          0.756959\n",
       "pre_money_valuation    0.756959\n",
       "participants           0.756959\n",
       "is_first_round         0.756959\n",
       "is_last_round          0.756959\n",
       "dtype: float64"
      ]
     },
     "execution_count": 30,
     "metadata": {},
     "output_type": "execute_result"
    }
   ],
   "source": [
    "# Подсчитываем долю строк с пропусками\n",
    "print('Доля строк с пропусками в датасете company_and_rounds')\n",
    "company_and_rounds.isna().sum() / company_and_rounds.shape[0]"
   ]
  },
  {
   "cell_type": "markdown",
   "metadata": {
    "id": "DEg1tl8DFeBn"
   },
   "source": [
    "По итогам анализа пропусков получим:\n",
    "\n",
    "- в датасете `acquisition`:\n",
    "    - в столбце `term_code` обнаружено 7576 пропусков — это 80.5% данных\n",
    "    - в столбце `acquired_at` обнаружено 29 пропусков — это менее 1% данных    \n",
    " \n",
    "- в датасете `people`:\n",
    "    - в столбце `first_name` обнаружено 5 пропусков — это менее 1% данных\n",
    "    - в столбце `last_name` обнаружен 1 пропуск — это менее 1% данных\n",
    "    - в столбце `company_id` обнаружено 192094 пропусков — это 85% данных\n",
    "    - в столбце `network_username` обнаружено 187842 пропусков — это 83% данных, причиной может быть отсутствие социальных сетей или нежелание работника указывать свой ник\n",
    "\n",
    "- в датасете `education`:\n",
    "    - в столбце `instituition` обнаружено 55 пропусков — это менее 1% данных\n",
    "    - в столбце `graduated_at` обнаружено 51556 пропусков — это 47% данных, причиной может быть неоконченное образование либо работник находтся в процессе обучения\n",
    "\n",
    "- в датасете `degrees`:\n",
    "    - в столбце `degree_type` обнаружено 11218 пропусков — это 10% данных\n",
    "    - в столбце `subject` обнаружено 28312 пропусков — это 26% данных\n",
    "\n",
    "  Пропуски в этом датасете могут быть вызваны отсутствием данных об образовании сотрудника (например, неокончено в принципе или в процессе получения).\n",
    "     \n",
    "     \n",
    "- в датасете `company_and_rounds`:\n",
    "    количество пропуско варьируется от менее 1% до 76% данных.\n",
    "\n",
    "\n",
    "Все найденные пропуски не будем удалять или заменять, чтобы они не повлияли на дальнейший анализ."
   ]
  },
  {
   "cell_type": "markdown",
   "metadata": {},
   "source": [
    "### Промежуточные выводы\n",
    "\n",
    "В процессе знакомства с данными и первичной предобработки были выполнены следующие этапы:\n",
    "\n",
    " - Загружены все датасеты и получена информация о них.\n",
    " - Скорректированны названия столбцов датасета `company_and_rounds` - приведены к snake_case.\n",
    " - Скорректированны типы данных в столбцах, которых хранят значения дат.\n",
    " - Проанализированны пропуски данных с датасетах."
   ]
  },
  {
   "cell_type": "markdown",
   "metadata": {
    "id": "u60cHsn6rJg1"
   },
   "source": [
    "## Шаг 2. Предобработка данных, предварительное исследование"
   ]
  },
  {
   "cell_type": "markdown",
   "metadata": {
    "id": "g2bHIIjcrJg1"
   },
   "source": [
    "\n",
    "### 2.1. Раунды финансирования по годам\n",
    "\n"
   ]
  },
  {
   "cell_type": "markdown",
   "metadata": {},
   "source": [
    "Составим сводную таблицу, в которой для каждого года будет показываться средний размер средств, выделяемый в рамках одного раунда и общее количество раундов финансирования за год (от 50 раундов и больше). Также добавим в таблицу информацию о количестве стартапов в год для большей информативности.\n",
    "\n",
    "Для начала выделим из столбца `funded_at` год, а затем составим таблицу."
   ]
  },
  {
   "cell_type": "code",
   "execution_count": 31,
   "metadata": {},
   "outputs": [
    {
     "name": "stdout",
     "output_type": "stream",
     "text": [
      "0        2005-10-01\n",
      "1        2007-01-01\n",
      "2        2008-05-19\n",
      "3               NaT\n",
      "4               NaT\n",
      "            ...    \n",
      "217769   2011-01-31\n",
      "217770   2011-01-13\n",
      "217771   2012-05-31\n",
      "217772   2013-12-03\n",
      "217773   2013-12-04\n",
      "Name: funded_at, Length: 217774, dtype: datetime64[ns]\n",
      "0         3.0\n",
      "1         3.0\n",
      "2         3.0\n",
      "3         0.0\n",
      "4         0.0\n",
      "         ... \n",
      "217769    NaN\n",
      "217770    NaN\n",
      "217771    NaN\n",
      "217772    NaN\n",
      "217773    NaN\n",
      "Name: funding_rounds, Length: 217774, dtype: float64\n"
     ]
    }
   ],
   "source": [
    "print(company_and_rounds['funded_at'])\n",
    "print(company_and_rounds['funding_rounds'])"
   ]
  },
  {
   "cell_type": "code",
   "execution_count": 32,
   "metadata": {
    "id": "Cf5IjfOQrJg1",
    "vscode": {
     "languageId": "plaintext"
    }
   },
   "outputs": [
    {
     "name": "stdout",
     "output_type": "stream",
     "text": [
      "0         2005.0\n",
      "1         2007.0\n",
      "2         2008.0\n",
      "3            NaN\n",
      "4            NaN\n",
      "           ...  \n",
      "217769    2011.0\n",
      "217770    2011.0\n",
      "217771    2012.0\n",
      "217772    2013.0\n",
      "217773    2013.0\n",
      "Name: funded_year, Length: 217774, dtype: float64\n"
     ]
    }
   ],
   "source": [
    "# Выделим из столбца funded_at год\n",
    "company_and_rounds['funded_year'] = company_and_rounds['funded_at'].dt.year\n",
    "print(company_and_rounds['funded_year'])"
   ]
  },
  {
   "cell_type": "code",
   "execution_count": 33,
   "metadata": {
    "id": "8Fbz6KmzFdYP"
   },
   "outputs": [
    {
     "data": {
      "text/html": [
       "<div>\n",
       "<style scoped>\n",
       "    .dataframe tbody tr th:only-of-type {\n",
       "        vertical-align: middle;\n",
       "    }\n",
       "\n",
       "    .dataframe tbody tr th {\n",
       "        vertical-align: top;\n",
       "    }\n",
       "\n",
       "    .dataframe thead th {\n",
       "        text-align: right;\n",
       "    }\n",
       "</style>\n",
       "<table border=\"1\" class=\"dataframe\">\n",
       "  <thead>\n",
       "    <tr style=\"text-align: right;\">\n",
       "      <th></th>\n",
       "      <th>company_ID</th>\n",
       "      <th>funding_rounds</th>\n",
       "      <th>raised_amount</th>\n",
       "    </tr>\n",
       "    <tr>\n",
       "      <th>funded_year</th>\n",
       "      <th></th>\n",
       "      <th></th>\n",
       "      <th></th>\n",
       "    </tr>\n",
       "  </thead>\n",
       "  <tbody>\n",
       "    <tr>\n",
       "      <th>1960.0</th>\n",
       "      <td>9</td>\n",
       "      <td>16.0</td>\n",
       "      <td>0.0</td>\n",
       "    </tr>\n",
       "    <tr>\n",
       "      <th>1973.0</th>\n",
       "      <td>1</td>\n",
       "      <td>1.0</td>\n",
       "      <td>0.0</td>\n",
       "    </tr>\n",
       "    <tr>\n",
       "      <th>1974.0</th>\n",
       "      <td>2</td>\n",
       "      <td>2.0</td>\n",
       "      <td>0.0</td>\n",
       "    </tr>\n",
       "    <tr>\n",
       "      <th>1984.0</th>\n",
       "      <td>3</td>\n",
       "      <td>3.0</td>\n",
       "      <td>41000.0</td>\n",
       "    </tr>\n",
       "    <tr>\n",
       "      <th>1985.0</th>\n",
       "      <td>1</td>\n",
       "      <td>1.0</td>\n",
       "      <td>0.0</td>\n",
       "    </tr>\n",
       "    <tr>\n",
       "      <th>1987.0</th>\n",
       "      <td>2</td>\n",
       "      <td>2.0</td>\n",
       "      <td>1250000.0</td>\n",
       "    </tr>\n",
       "    <tr>\n",
       "      <th>1989.0</th>\n",
       "      <td>1</td>\n",
       "      <td>1.0</td>\n",
       "      <td>15000.0</td>\n",
       "    </tr>\n",
       "    <tr>\n",
       "      <th>1990.0</th>\n",
       "      <td>1</td>\n",
       "      <td>1.0</td>\n",
       "      <td>1000000.0</td>\n",
       "    </tr>\n",
       "    <tr>\n",
       "      <th>1992.0</th>\n",
       "      <td>1</td>\n",
       "      <td>2.0</td>\n",
       "      <td>2000000.0</td>\n",
       "    </tr>\n",
       "    <tr>\n",
       "      <th>1993.0</th>\n",
       "      <td>2</td>\n",
       "      <td>2.0</td>\n",
       "      <td>62500.0</td>\n",
       "    </tr>\n",
       "    <tr>\n",
       "      <th>1994.0</th>\n",
       "      <td>2</td>\n",
       "      <td>3.0</td>\n",
       "      <td>6700000.0</td>\n",
       "    </tr>\n",
       "    <tr>\n",
       "      <th>1995.0</th>\n",
       "      <td>7</td>\n",
       "      <td>13.0</td>\n",
       "      <td>2000000.0</td>\n",
       "    </tr>\n",
       "    <tr>\n",
       "      <th>1996.0</th>\n",
       "      <td>7</td>\n",
       "      <td>19.0</td>\n",
       "      <td>12500.0</td>\n",
       "    </tr>\n",
       "    <tr>\n",
       "      <th>1997.0</th>\n",
       "      <td>9</td>\n",
       "      <td>18.0</td>\n",
       "      <td>3300000.0</td>\n",
       "    </tr>\n",
       "    <tr>\n",
       "      <th>1998.0</th>\n",
       "      <td>29</td>\n",
       "      <td>72.0</td>\n",
       "      <td>100000.0</td>\n",
       "    </tr>\n",
       "    <tr>\n",
       "      <th>1999.0</th>\n",
       "      <td>76</td>\n",
       "      <td>268.0</td>\n",
       "      <td>2000000.0</td>\n",
       "    </tr>\n",
       "    <tr>\n",
       "      <th>2000.0</th>\n",
       "      <td>125</td>\n",
       "      <td>403.0</td>\n",
       "      <td>4200000.0</td>\n",
       "    </tr>\n",
       "    <tr>\n",
       "      <th>2001.0</th>\n",
       "      <td>95</td>\n",
       "      <td>302.0</td>\n",
       "      <td>3000000.0</td>\n",
       "    </tr>\n",
       "    <tr>\n",
       "      <th>2002.0</th>\n",
       "      <td>115</td>\n",
       "      <td>385.0</td>\n",
       "      <td>4200000.0</td>\n",
       "    </tr>\n",
       "    <tr>\n",
       "      <th>2003.0</th>\n",
       "      <td>154</td>\n",
       "      <td>569.0</td>\n",
       "      <td>3000000.0</td>\n",
       "    </tr>\n",
       "    <tr>\n",
       "      <th>2004.0</th>\n",
       "      <td>286</td>\n",
       "      <td>1057.0</td>\n",
       "      <td>5000000.0</td>\n",
       "    </tr>\n",
       "    <tr>\n",
       "      <th>2005.0</th>\n",
       "      <td>1624</td>\n",
       "      <td>4157.0</td>\n",
       "      <td>5500000.0</td>\n",
       "    </tr>\n",
       "    <tr>\n",
       "      <th>2006.0</th>\n",
       "      <td>2409</td>\n",
       "      <td>6295.0</td>\n",
       "      <td>5000000.0</td>\n",
       "    </tr>\n",
       "    <tr>\n",
       "      <th>2007.0</th>\n",
       "      <td>3220</td>\n",
       "      <td>8494.0</td>\n",
       "      <td>3973320.0</td>\n",
       "    </tr>\n",
       "    <tr>\n",
       "      <th>2008.0</th>\n",
       "      <td>3735</td>\n",
       "      <td>9931.0</td>\n",
       "      <td>3110000.0</td>\n",
       "    </tr>\n",
       "    <tr>\n",
       "      <th>2009.0</th>\n",
       "      <td>4112</td>\n",
       "      <td>11857.0</td>\n",
       "      <td>2000000.0</td>\n",
       "    </tr>\n",
       "    <tr>\n",
       "      <th>2010.0</th>\n",
       "      <td>6194</td>\n",
       "      <td>16913.0</td>\n",
       "      <td>1602500.0</td>\n",
       "    </tr>\n",
       "    <tr>\n",
       "      <th>2011.0</th>\n",
       "      <td>9162</td>\n",
       "      <td>23503.0</td>\n",
       "      <td>1200000.0</td>\n",
       "    </tr>\n",
       "    <tr>\n",
       "      <th>2012.0</th>\n",
       "      <td>9956</td>\n",
       "      <td>24549.0</td>\n",
       "      <td>1000000.0</td>\n",
       "    </tr>\n",
       "    <tr>\n",
       "      <th>2013.0</th>\n",
       "      <td>11042</td>\n",
       "      <td>23978.0</td>\n",
       "      <td>1200000.0</td>\n",
       "    </tr>\n",
       "  </tbody>\n",
       "</table>\n",
       "</div>"
      ],
      "text/plain": [
       "             company_ID  funding_rounds  raised_amount\n",
       "funded_year                                           \n",
       "1960.0                9            16.0            0.0\n",
       "1973.0                1             1.0            0.0\n",
       "1974.0                2             2.0            0.0\n",
       "1984.0                3             3.0        41000.0\n",
       "1985.0                1             1.0            0.0\n",
       "1987.0                2             2.0      1250000.0\n",
       "1989.0                1             1.0        15000.0\n",
       "1990.0                1             1.0      1000000.0\n",
       "1992.0                1             2.0      2000000.0\n",
       "1993.0                2             2.0        62500.0\n",
       "1994.0                2             3.0      6700000.0\n",
       "1995.0                7            13.0      2000000.0\n",
       "1996.0                7            19.0        12500.0\n",
       "1997.0                9            18.0      3300000.0\n",
       "1998.0               29            72.0       100000.0\n",
       "1999.0               76           268.0      2000000.0\n",
       "2000.0              125           403.0      4200000.0\n",
       "2001.0               95           302.0      3000000.0\n",
       "2002.0              115           385.0      4200000.0\n",
       "2003.0              154           569.0      3000000.0\n",
       "2004.0              286          1057.0      5000000.0\n",
       "2005.0             1624          4157.0      5500000.0\n",
       "2006.0             2409          6295.0      5000000.0\n",
       "2007.0             3220          8494.0      3973320.0\n",
       "2008.0             3735          9931.0      3110000.0\n",
       "2009.0             4112         11857.0      2000000.0\n",
       "2010.0             6194         16913.0      1602500.0\n",
       "2011.0             9162         23503.0      1200000.0\n",
       "2012.0             9956         24549.0      1000000.0\n",
       "2013.0            11042         23978.0      1200000.0"
      ]
     },
     "metadata": {},
     "output_type": "display_data"
    }
   ],
   "source": [
    "# Составим сводную таблицу с помощью метода pivot_table()\n",
    "rounds_table = pd.pivot_table(\n",
    "    company_and_rounds,\n",
    "    values=['raised_amount','funding_rounds','company_ID'],\n",
    "    index='funded_year',\n",
    "    aggfunc={'raised_amount':'median', 'funding_rounds':'sum', 'company_ID':'count'}\n",
    ")\n",
    "display(rounds_table)"
   ]
  },
  {
   "cell_type": "markdown",
   "metadata": {},
   "source": [
    "Для подсчета типичного размера средств, выделяемого в рамках одного раунда, первоначально использовалось определение среднего арифметического `mean`, но результаты показали то слишком большие, то слишком маленькие значения, поэтому в конечном варианте используется определение медианного значения `median`."
   ]
  },
  {
   "cell_type": "code",
   "execution_count": 34,
   "metadata": {},
   "outputs": [
    {
     "data": {
      "text/html": [
       "<div>\n",
       "<style scoped>\n",
       "    .dataframe tbody tr th:only-of-type {\n",
       "        vertical-align: middle;\n",
       "    }\n",
       "\n",
       "    .dataframe tbody tr th {\n",
       "        vertical-align: top;\n",
       "    }\n",
       "\n",
       "    .dataframe thead th {\n",
       "        text-align: right;\n",
       "    }\n",
       "</style>\n",
       "<table border=\"1\" class=\"dataframe\">\n",
       "  <thead>\n",
       "    <tr style=\"text-align: right;\">\n",
       "      <th></th>\n",
       "      <th>company_ID</th>\n",
       "      <th>funding_rounds</th>\n",
       "      <th>raised_amount</th>\n",
       "    </tr>\n",
       "    <tr>\n",
       "      <th>funded_year</th>\n",
       "      <th></th>\n",
       "      <th></th>\n",
       "      <th></th>\n",
       "    </tr>\n",
       "  </thead>\n",
       "  <tbody>\n",
       "    <tr>\n",
       "      <th>1998.0</th>\n",
       "      <td>29</td>\n",
       "      <td>72.0</td>\n",
       "      <td>100000.0</td>\n",
       "    </tr>\n",
       "    <tr>\n",
       "      <th>1999.0</th>\n",
       "      <td>76</td>\n",
       "      <td>268.0</td>\n",
       "      <td>2000000.0</td>\n",
       "    </tr>\n",
       "    <tr>\n",
       "      <th>2000.0</th>\n",
       "      <td>125</td>\n",
       "      <td>403.0</td>\n",
       "      <td>4200000.0</td>\n",
       "    </tr>\n",
       "    <tr>\n",
       "      <th>2001.0</th>\n",
       "      <td>95</td>\n",
       "      <td>302.0</td>\n",
       "      <td>3000000.0</td>\n",
       "    </tr>\n",
       "    <tr>\n",
       "      <th>2002.0</th>\n",
       "      <td>115</td>\n",
       "      <td>385.0</td>\n",
       "      <td>4200000.0</td>\n",
       "    </tr>\n",
       "    <tr>\n",
       "      <th>2003.0</th>\n",
       "      <td>154</td>\n",
       "      <td>569.0</td>\n",
       "      <td>3000000.0</td>\n",
       "    </tr>\n",
       "    <tr>\n",
       "      <th>2004.0</th>\n",
       "      <td>286</td>\n",
       "      <td>1057.0</td>\n",
       "      <td>5000000.0</td>\n",
       "    </tr>\n",
       "    <tr>\n",
       "      <th>2005.0</th>\n",
       "      <td>1624</td>\n",
       "      <td>4157.0</td>\n",
       "      <td>5500000.0</td>\n",
       "    </tr>\n",
       "    <tr>\n",
       "      <th>2006.0</th>\n",
       "      <td>2409</td>\n",
       "      <td>6295.0</td>\n",
       "      <td>5000000.0</td>\n",
       "    </tr>\n",
       "    <tr>\n",
       "      <th>2007.0</th>\n",
       "      <td>3220</td>\n",
       "      <td>8494.0</td>\n",
       "      <td>3973320.0</td>\n",
       "    </tr>\n",
       "    <tr>\n",
       "      <th>2008.0</th>\n",
       "      <td>3735</td>\n",
       "      <td>9931.0</td>\n",
       "      <td>3110000.0</td>\n",
       "    </tr>\n",
       "    <tr>\n",
       "      <th>2009.0</th>\n",
       "      <td>4112</td>\n",
       "      <td>11857.0</td>\n",
       "      <td>2000000.0</td>\n",
       "    </tr>\n",
       "    <tr>\n",
       "      <th>2010.0</th>\n",
       "      <td>6194</td>\n",
       "      <td>16913.0</td>\n",
       "      <td>1602500.0</td>\n",
       "    </tr>\n",
       "    <tr>\n",
       "      <th>2011.0</th>\n",
       "      <td>9162</td>\n",
       "      <td>23503.0</td>\n",
       "      <td>1200000.0</td>\n",
       "    </tr>\n",
       "    <tr>\n",
       "      <th>2012.0</th>\n",
       "      <td>9956</td>\n",
       "      <td>24549.0</td>\n",
       "      <td>1000000.0</td>\n",
       "    </tr>\n",
       "    <tr>\n",
       "      <th>2013.0</th>\n",
       "      <td>11042</td>\n",
       "      <td>23978.0</td>\n",
       "      <td>1200000.0</td>\n",
       "    </tr>\n",
       "  </tbody>\n",
       "</table>\n",
       "</div>"
      ],
      "text/plain": [
       "             company_ID  funding_rounds  raised_amount\n",
       "funded_year                                           \n",
       "1998.0               29            72.0       100000.0\n",
       "1999.0               76           268.0      2000000.0\n",
       "2000.0              125           403.0      4200000.0\n",
       "2001.0               95           302.0      3000000.0\n",
       "2002.0              115           385.0      4200000.0\n",
       "2003.0              154           569.0      3000000.0\n",
       "2004.0              286          1057.0      5000000.0\n",
       "2005.0             1624          4157.0      5500000.0\n",
       "2006.0             2409          6295.0      5000000.0\n",
       "2007.0             3220          8494.0      3973320.0\n",
       "2008.0             3735          9931.0      3110000.0\n",
       "2009.0             4112         11857.0      2000000.0\n",
       "2010.0             6194         16913.0      1602500.0\n",
       "2011.0             9162         23503.0      1200000.0\n",
       "2012.0             9956         24549.0      1000000.0\n",
       "2013.0            11042         23978.0      1200000.0"
      ]
     },
     "metadata": {},
     "output_type": "display_data"
    }
   ],
   "source": [
    "# Отфильтруем таблицу и оставим данные, где общее количество раундов финансирования за год более 50 \n",
    "rounds_table = rounds_table[rounds_table['funding_rounds'] > 50]\n",
    "display(rounds_table)"
   ]
  },
  {
   "cell_type": "markdown",
   "metadata": {},
   "source": [
    "На основе получившейся таблицы построим график, который будет отражать динамику типичного размера средств, которые стартапы получали в рамках одного раунда финансирования, количества раундов финансирования и количества стартапов.\n",
    "\n",
    "Для графиков дополнительно построим сглаживающие линии, по которым проще оценить тенденцию данных с помощью скользящего среднего (аналог параметра KDE, адаптированный для линейных графиков)."
   ]
  },
  {
   "cell_type": "code",
   "execution_count": 35,
   "metadata": {
    "id": "Z92DzKMMFdKW"
   },
   "outputs": [
    {
     "data": {
      "image/png": "[encoded data removed]",
      "text/plain": [
       "<Figure size 1440x720 with 2 Axes>"
      ]
     },
     "metadata": {
      "needs_background": "light"
     },
     "output_type": "display_data"
    }
   ],
   "source": [
    "# Создаём контейнер графика matplotlib и задаём его размер\n",
    "plt.figure(figsize=(20, 10))\n",
    "\n",
    "# Строим линейный график по полученной таблице для столбца raised_amount\n",
    "rounds_table['raised_amount'].plot(kind='line', \n",
    "                                   color='green',\n",
    "                                   alpha=0.7,\n",
    "                                   marker='o',\n",
    "                                  label='raised_amount')\n",
    "\n",
    "# Добавляем сглаживающую линию \n",
    "smooth = rounds_table['raised_amount'].rolling(window=2).mean()\n",
    "smooth.plot(color='darkgreen', linestyle='--', label='сглаженная')\n",
    "\n",
    "# Добавляем заголовок и метки осей\n",
    "plt.title('Динамика финансирования стартапов и количество раундов финансирования')\n",
    "plt.xlabel('Года')\n",
    "plt.ylabel('Сумма финансирования')\n",
    "plt.grid(True)\n",
    "plt.legend()\n",
    "\n",
    "# Создаем 2 вертикальную ось для второго графика\n",
    "ax2 = plt.twinx()\n",
    "\n",
    "# Строим линейный график по полученной таблице для столбца funding_rounds\n",
    "rounds_table['funding_rounds'].plot(kind='line', \n",
    "                                   color='blue',\n",
    "                                   marker='o',\n",
    "                                   alpha=0.7, \n",
    "                                   ylabel='Количество раундов, стартапов',\n",
    "                                   label='funding_rounds', \n",
    "                                   legend=True\n",
    "                                   )\n",
    "\n",
    "# Добавляем сглаживающую линию \n",
    "smooth2 = rounds_table['funding_rounds'].rolling(window=2).mean()\n",
    "smooth2.plot(color='darkblue', linestyle='--', label='сглаженная')\n",
    "\n",
    "# Строим линейный график по полученной таблице для столбца company_ID\n",
    "rounds_table['company_ID'].plot(kind='line', \n",
    "                                  color='red',\n",
    "                                   marker='o',\n",
    "                                   alpha=0.2,\n",
    "                                   #legend=True,\n",
    "                                   label='company_ID')\n",
    "\n",
    "plt.legend()\n",
    "# Отображаем график\n",
    "plt.show()"
   ]
  },
  {
   "cell_type": "markdown",
   "metadata": {},
   "source": [
    "На основе полученных данных можно сказать, что:\n",
    "\n",
    "Максимальный типичный размер средств, которые стартапы получали в рамках одного раунда финансирования, наблюдался в **2005** году и составлял **5500000**. Максимальная сумма финансирования совпала с резким ростом количества стартапов и увеличением раундов финансирования.\n",
    "\n",
    "В 2013 году сохраняется тенденция увеличения количества раундов финансирования с одновременным снижением суммы финансирования каждого раунда. Общий тренд хорошо виден при выводе сглаженных данных.\n",
    "\n",
    "Относительно данных за 2012 год можно наблюдать незначительное уменьшение количества раундов финансирования с увеличением суммы каждого раунда.\n",
    "\n",
    "Если проанализировать картину в целом, то можно сказать, что в 2005 году произошел переломный момент, вызванный резким увеличением количества стартапов с одновременным формированием новой схемы финансирования. А именно с увеличением количества раундов финансирования и уменьшением суммы каждого.\n"
   ]
  },
  {
   "cell_type": "markdown",
   "metadata": {
    "id": "45if1en1rJg2"
   },
   "source": [
    "\n",
    "### 2.2. Люди и их образование\n",
    "\n"
   ]
  },
  {
   "cell_type": "markdown",
   "metadata": {
    "id": "psPO7C4MrJg2",
    "vscode": {
     "languageId": "plaintext"
    }
   },
   "source": [
    "Для того, чтобы оценить зависимость полноты сведений об образовании сотрудников от размера компании, необходимо объединить датасеты `people` и `education`, затем разделить все компании на группы по количеству сотрудников и определить среднюю долю сотрудников без информации об образовании в каждой группе.\n",
    "\n",
    "Соединим данные по столбцам `id` для `people` и `person_id` для `education`, используя значение параметра `how` `'left'`. Это позволит оставить все заведения."
   ]
  },
  {
   "cell_type": "code",
   "execution_count": 36,
   "metadata": {},
   "outputs": [
    {
     "data": {
      "text/html": [
       "<div>\n",
       "<style scoped>\n",
       "    .dataframe tbody tr th:only-of-type {\n",
       "        vertical-align: middle;\n",
       "    }\n",
       "\n",
       "    .dataframe tbody tr th {\n",
       "        vertical-align: top;\n",
       "    }\n",
       "\n",
       "    .dataframe thead th {\n",
       "        text-align: right;\n",
       "    }\n",
       "</style>\n",
       "<table border=\"1\" class=\"dataframe\">\n",
       "  <thead>\n",
       "    <tr style=\"text-align: right;\">\n",
       "      <th></th>\n",
       "      <th>id_x</th>\n",
       "      <th>first_name</th>\n",
       "      <th>last_name</th>\n",
       "      <th>company_id</th>\n",
       "      <th>network_username</th>\n",
       "      <th>id_y</th>\n",
       "      <th>person_id</th>\n",
       "      <th>instituition</th>\n",
       "      <th>graduated_at</th>\n",
       "    </tr>\n",
       "  </thead>\n",
       "  <tbody>\n",
       "    <tr>\n",
       "      <th>0</th>\n",
       "      <td>10</td>\n",
       "      <td>Mark</td>\n",
       "      <td>Zuckerberg</td>\n",
       "      <td>5.0</td>\n",
       "      <td>NaN</td>\n",
       "      <td>2415.0</td>\n",
       "      <td>10.0</td>\n",
       "      <td>Harvard University</td>\n",
       "      <td>NaT</td>\n",
       "    </tr>\n",
       "    <tr>\n",
       "      <th>1</th>\n",
       "      <td>100</td>\n",
       "      <td>Peter</td>\n",
       "      <td>Lester</td>\n",
       "      <td>27.0</td>\n",
       "      <td>NaN</td>\n",
       "      <td>NaN</td>\n",
       "      <td>NaN</td>\n",
       "      <td>NaN</td>\n",
       "      <td>NaT</td>\n",
       "    </tr>\n",
       "    <tr>\n",
       "      <th>2</th>\n",
       "      <td>1000</td>\n",
       "      <td>Dr. Steven</td>\n",
       "      <td>E. Saunders</td>\n",
       "      <td>292.0</td>\n",
       "      <td>NaN</td>\n",
       "      <td>NaN</td>\n",
       "      <td>NaN</td>\n",
       "      <td>NaN</td>\n",
       "      <td>NaT</td>\n",
       "    </tr>\n",
       "    <tr>\n",
       "      <th>3</th>\n",
       "      <td>10000</td>\n",
       "      <td>Neil</td>\n",
       "      <td>Capel</td>\n",
       "      <td>2526.0</td>\n",
       "      <td>NaN</td>\n",
       "      <td>NaN</td>\n",
       "      <td>NaN</td>\n",
       "      <td>NaN</td>\n",
       "      <td>NaT</td>\n",
       "    </tr>\n",
       "    <tr>\n",
       "      <th>4</th>\n",
       "      <td>100000</td>\n",
       "      <td>Sue</td>\n",
       "      <td>Pilsch</td>\n",
       "      <td>NaN</td>\n",
       "      <td>NaN</td>\n",
       "      <td>NaN</td>\n",
       "      <td>NaN</td>\n",
       "      <td>NaN</td>\n",
       "      <td>NaT</td>\n",
       "    </tr>\n",
       "    <tr>\n",
       "      <th>...</th>\n",
       "      <td>...</td>\n",
       "      <td>...</td>\n",
       "      <td>...</td>\n",
       "      <td>...</td>\n",
       "      <td>...</td>\n",
       "      <td>...</td>\n",
       "      <td>...</td>\n",
       "      <td>...</td>\n",
       "      <td>...</td>\n",
       "    </tr>\n",
       "    <tr>\n",
       "      <th>267689</th>\n",
       "      <td>99999</td>\n",
       "      <td>Ramon</td>\n",
       "      <td>Peypoch</td>\n",
       "      <td>NaN</td>\n",
       "      <td>NaN</td>\n",
       "      <td>NaN</td>\n",
       "      <td>NaN</td>\n",
       "      <td>NaN</td>\n",
       "      <td>NaT</td>\n",
       "    </tr>\n",
       "    <tr>\n",
       "      <th>267690</th>\n",
       "      <td>174088</td>\n",
       "      <td>Dr. Ray</td>\n",
       "      <td>Woods</td>\n",
       "      <td>188200.0</td>\n",
       "      <td>network</td>\n",
       "      <td>25958.0</td>\n",
       "      <td>174088.0</td>\n",
       "      <td>Sydney University Medical School</td>\n",
       "      <td>1982-01-01</td>\n",
       "    </tr>\n",
       "    <tr>\n",
       "      <th>267691</th>\n",
       "      <td>118386</td>\n",
       "      <td>Ricardo</td>\n",
       "      <td>Durand</td>\n",
       "      <td>143419.0</td>\n",
       "      <td>itechsocialnet</td>\n",
       "      <td>18871.0</td>\n",
       "      <td>118386.0</td>\n",
       "      <td>ESCS</td>\n",
       "      <td>2004-01-01</td>\n",
       "    </tr>\n",
       "    <tr>\n",
       "      <th>267692</th>\n",
       "      <td>175827</td>\n",
       "      <td>mahesh</td>\n",
       "      <td>kumar</td>\n",
       "      <td>NaN</td>\n",
       "      <td>socialnethubs</td>\n",
       "      <td>NaN</td>\n",
       "      <td>NaN</td>\n",
       "      <td>NaN</td>\n",
       "      <td>NaT</td>\n",
       "    </tr>\n",
       "    <tr>\n",
       "      <th>267693</th>\n",
       "      <td>178190</td>\n",
       "      <td>Alex</td>\n",
       "      <td>Smith</td>\n",
       "      <td>NaN</td>\n",
       "      <td>esocialnetlike</td>\n",
       "      <td>NaN</td>\n",
       "      <td>NaN</td>\n",
       "      <td>NaN</td>\n",
       "      <td>NaT</td>\n",
       "    </tr>\n",
       "  </tbody>\n",
       "</table>\n",
       "<p>267694 rows × 9 columns</p>\n",
       "</div>"
      ],
      "text/plain": [
       "          id_x  first_name    last_name  company_id network_username     id_y  \\\n",
       "0           10        Mark   Zuckerberg         5.0              NaN   2415.0   \n",
       "1          100       Peter       Lester        27.0              NaN      NaN   \n",
       "2         1000  Dr. Steven  E. Saunders       292.0              NaN      NaN   \n",
       "3        10000        Neil        Capel      2526.0              NaN      NaN   \n",
       "4       100000         Sue       Pilsch         NaN              NaN      NaN   \n",
       "...        ...         ...          ...         ...              ...      ...   \n",
       "267689   99999       Ramon      Peypoch         NaN              NaN      NaN   \n",
       "267690  174088     Dr. Ray        Woods    188200.0          network  25958.0   \n",
       "267691  118386     Ricardo       Durand    143419.0   itechsocialnet  18871.0   \n",
       "267692  175827      mahesh        kumar         NaN    socialnethubs      NaN   \n",
       "267693  178190        Alex        Smith         NaN   esocialnetlike      NaN   \n",
       "\n",
       "        person_id                      instituition graduated_at  \n",
       "0            10.0                Harvard University          NaT  \n",
       "1             NaN                               NaN          NaT  \n",
       "2             NaN                               NaN          NaT  \n",
       "3             NaN                               NaN          NaT  \n",
       "4             NaN                               NaN          NaT  \n",
       "...           ...                               ...          ...  \n",
       "267689        NaN                               NaN          NaT  \n",
       "267690   174088.0  Sydney University Medical School   1982-01-01  \n",
       "267691   118386.0                              ESCS   2004-01-01  \n",
       "267692        NaN                               NaN          NaT  \n",
       "267693        NaN                               NaN          NaT  \n",
       "\n",
       "[267694 rows x 9 columns]"
      ]
     },
     "metadata": {},
     "output_type": "display_data"
    }
   ],
   "source": [
    "# Соединяем данные в единый датафрейм people_education_0\n",
    "people_education_0 = pd.merge(people, education, left_on='id', right_on='person_id', how='left')\n",
    "display(people_education_0)"
   ]
  },
  {
   "cell_type": "markdown",
   "metadata": {},
   "source": [
    "Также присоединим датасет `degrees`, чтобы оценить, повлияют ли эти данные на итоговый результат."
   ]
  },
  {
   "cell_type": "code",
   "execution_count": 37,
   "metadata": {},
   "outputs": [
    {
     "data": {
      "text/html": [
       "<div>\n",
       "<style scoped>\n",
       "    .dataframe tbody tr th:only-of-type {\n",
       "        vertical-align: middle;\n",
       "    }\n",
       "\n",
       "    .dataframe tbody tr th {\n",
       "        vertical-align: top;\n",
       "    }\n",
       "\n",
       "    .dataframe thead th {\n",
       "        text-align: right;\n",
       "    }\n",
       "</style>\n",
       "<table border=\"1\" class=\"dataframe\">\n",
       "  <thead>\n",
       "    <tr style=\"text-align: right;\">\n",
       "      <th></th>\n",
       "      <th>id_x</th>\n",
       "      <th>first_name</th>\n",
       "      <th>last_name</th>\n",
       "      <th>company_id</th>\n",
       "      <th>network_username</th>\n",
       "      <th>id_y</th>\n",
       "      <th>person_id</th>\n",
       "      <th>instituition</th>\n",
       "      <th>graduated_at</th>\n",
       "      <th>id</th>\n",
       "      <th>object_id</th>\n",
       "      <th>degree_type</th>\n",
       "      <th>subject</th>\n",
       "    </tr>\n",
       "  </thead>\n",
       "  <tbody>\n",
       "    <tr>\n",
       "      <th>0</th>\n",
       "      <td>10</td>\n",
       "      <td>Mark</td>\n",
       "      <td>Zuckerberg</td>\n",
       "      <td>5.0</td>\n",
       "      <td>NaN</td>\n",
       "      <td>2415.0</td>\n",
       "      <td>10.0</td>\n",
       "      <td>Harvard University</td>\n",
       "      <td>NaT</td>\n",
       "      <td>2415.0</td>\n",
       "      <td>p:10</td>\n",
       "      <td>NaN</td>\n",
       "      <td>Computer Science</td>\n",
       "    </tr>\n",
       "    <tr>\n",
       "      <th>1</th>\n",
       "      <td>100</td>\n",
       "      <td>Peter</td>\n",
       "      <td>Lester</td>\n",
       "      <td>27.0</td>\n",
       "      <td>NaN</td>\n",
       "      <td>NaN</td>\n",
       "      <td>NaN</td>\n",
       "      <td>NaN</td>\n",
       "      <td>NaT</td>\n",
       "      <td>NaN</td>\n",
       "      <td>NaN</td>\n",
       "      <td>NaN</td>\n",
       "      <td>NaN</td>\n",
       "    </tr>\n",
       "    <tr>\n",
       "      <th>2</th>\n",
       "      <td>1000</td>\n",
       "      <td>Dr. Steven</td>\n",
       "      <td>E. Saunders</td>\n",
       "      <td>292.0</td>\n",
       "      <td>NaN</td>\n",
       "      <td>NaN</td>\n",
       "      <td>NaN</td>\n",
       "      <td>NaN</td>\n",
       "      <td>NaT</td>\n",
       "      <td>NaN</td>\n",
       "      <td>NaN</td>\n",
       "      <td>NaN</td>\n",
       "      <td>NaN</td>\n",
       "    </tr>\n",
       "    <tr>\n",
       "      <th>3</th>\n",
       "      <td>10000</td>\n",
       "      <td>Neil</td>\n",
       "      <td>Capel</td>\n",
       "      <td>2526.0</td>\n",
       "      <td>NaN</td>\n",
       "      <td>NaN</td>\n",
       "      <td>NaN</td>\n",
       "      <td>NaN</td>\n",
       "      <td>NaT</td>\n",
       "      <td>NaN</td>\n",
       "      <td>NaN</td>\n",
       "      <td>NaN</td>\n",
       "      <td>NaN</td>\n",
       "    </tr>\n",
       "    <tr>\n",
       "      <th>4</th>\n",
       "      <td>100000</td>\n",
       "      <td>Sue</td>\n",
       "      <td>Pilsch</td>\n",
       "      <td>NaN</td>\n",
       "      <td>NaN</td>\n",
       "      <td>NaN</td>\n",
       "      <td>NaN</td>\n",
       "      <td>NaN</td>\n",
       "      <td>NaT</td>\n",
       "      <td>NaN</td>\n",
       "      <td>NaN</td>\n",
       "      <td>NaN</td>\n",
       "      <td>NaN</td>\n",
       "    </tr>\n",
       "    <tr>\n",
       "      <th>...</th>\n",
       "      <td>...</td>\n",
       "      <td>...</td>\n",
       "      <td>...</td>\n",
       "      <td>...</td>\n",
       "      <td>...</td>\n",
       "      <td>...</td>\n",
       "      <td>...</td>\n",
       "      <td>...</td>\n",
       "      <td>...</td>\n",
       "      <td>...</td>\n",
       "      <td>...</td>\n",
       "      <td>...</td>\n",
       "      <td>...</td>\n",
       "    </tr>\n",
       "    <tr>\n",
       "      <th>267689</th>\n",
       "      <td>99999</td>\n",
       "      <td>Ramon</td>\n",
       "      <td>Peypoch</td>\n",
       "      <td>NaN</td>\n",
       "      <td>NaN</td>\n",
       "      <td>NaN</td>\n",
       "      <td>NaN</td>\n",
       "      <td>NaN</td>\n",
       "      <td>NaT</td>\n",
       "      <td>NaN</td>\n",
       "      <td>NaN</td>\n",
       "      <td>NaN</td>\n",
       "      <td>NaN</td>\n",
       "    </tr>\n",
       "    <tr>\n",
       "      <th>267690</th>\n",
       "      <td>174088</td>\n",
       "      <td>Dr. Ray</td>\n",
       "      <td>Woods</td>\n",
       "      <td>188200.0</td>\n",
       "      <td>network</td>\n",
       "      <td>25958.0</td>\n",
       "      <td>174088.0</td>\n",
       "      <td>Sydney University Medical School</td>\n",
       "      <td>1982-01-01</td>\n",
       "      <td>25958.0</td>\n",
       "      <td>p:174088</td>\n",
       "      <td>M.B.B.S.</td>\n",
       "      <td>Medicine</td>\n",
       "    </tr>\n",
       "    <tr>\n",
       "      <th>267691</th>\n",
       "      <td>118386</td>\n",
       "      <td>Ricardo</td>\n",
       "      <td>Durand</td>\n",
       "      <td>143419.0</td>\n",
       "      <td>itechsocialnet</td>\n",
       "      <td>18871.0</td>\n",
       "      <td>118386.0</td>\n",
       "      <td>ESCS</td>\n",
       "      <td>2004-01-01</td>\n",
       "      <td>18871.0</td>\n",
       "      <td>p:118386</td>\n",
       "      <td>PhD</td>\n",
       "      <td>Journalism</td>\n",
       "    </tr>\n",
       "    <tr>\n",
       "      <th>267692</th>\n",
       "      <td>175827</td>\n",
       "      <td>mahesh</td>\n",
       "      <td>kumar</td>\n",
       "      <td>NaN</td>\n",
       "      <td>socialnethubs</td>\n",
       "      <td>NaN</td>\n",
       "      <td>NaN</td>\n",
       "      <td>NaN</td>\n",
       "      <td>NaT</td>\n",
       "      <td>NaN</td>\n",
       "      <td>NaN</td>\n",
       "      <td>NaN</td>\n",
       "      <td>NaN</td>\n",
       "    </tr>\n",
       "    <tr>\n",
       "      <th>267693</th>\n",
       "      <td>178190</td>\n",
       "      <td>Alex</td>\n",
       "      <td>Smith</td>\n",
       "      <td>NaN</td>\n",
       "      <td>esocialnetlike</td>\n",
       "      <td>NaN</td>\n",
       "      <td>NaN</td>\n",
       "      <td>NaN</td>\n",
       "      <td>NaT</td>\n",
       "      <td>NaN</td>\n",
       "      <td>NaN</td>\n",
       "      <td>NaN</td>\n",
       "      <td>NaN</td>\n",
       "    </tr>\n",
       "  </tbody>\n",
       "</table>\n",
       "<p>267694 rows × 13 columns</p>\n",
       "</div>"
      ],
      "text/plain": [
       "          id_x  first_name    last_name  company_id network_username     id_y  \\\n",
       "0           10        Mark   Zuckerberg         5.0              NaN   2415.0   \n",
       "1          100       Peter       Lester        27.0              NaN      NaN   \n",
       "2         1000  Dr. Steven  E. Saunders       292.0              NaN      NaN   \n",
       "3        10000        Neil        Capel      2526.0              NaN      NaN   \n",
       "4       100000         Sue       Pilsch         NaN              NaN      NaN   \n",
       "...        ...         ...          ...         ...              ...      ...   \n",
       "267689   99999       Ramon      Peypoch         NaN              NaN      NaN   \n",
       "267690  174088     Dr. Ray        Woods    188200.0          network  25958.0   \n",
       "267691  118386     Ricardo       Durand    143419.0   itechsocialnet  18871.0   \n",
       "267692  175827      mahesh        kumar         NaN    socialnethubs      NaN   \n",
       "267693  178190        Alex        Smith         NaN   esocialnetlike      NaN   \n",
       "\n",
       "        person_id                      instituition graduated_at       id  \\\n",
       "0            10.0                Harvard University          NaT   2415.0   \n",
       "1             NaN                               NaN          NaT      NaN   \n",
       "2             NaN                               NaN          NaT      NaN   \n",
       "3             NaN                               NaN          NaT      NaN   \n",
       "4             NaN                               NaN          NaT      NaN   \n",
       "...           ...                               ...          ...      ...   \n",
       "267689        NaN                               NaN          NaT      NaN   \n",
       "267690   174088.0  Sydney University Medical School   1982-01-01  25958.0   \n",
       "267691   118386.0                              ESCS   2004-01-01  18871.0   \n",
       "267692        NaN                               NaN          NaT      NaN   \n",
       "267693        NaN                               NaN          NaT      NaN   \n",
       "\n",
       "       object_id degree_type           subject  \n",
       "0           p:10         NaN  Computer Science  \n",
       "1            NaN         NaN               NaN  \n",
       "2            NaN         NaN               NaN  \n",
       "3            NaN         NaN               NaN  \n",
       "4            NaN         NaN               NaN  \n",
       "...          ...         ...               ...  \n",
       "267689       NaN         NaN               NaN  \n",
       "267690  p:174088    M.B.B.S.          Medicine  \n",
       "267691  p:118386         PhD        Journalism  \n",
       "267692       NaN         NaN               NaN  \n",
       "267693       NaN         NaN               NaN  \n",
       "\n",
       "[267694 rows x 13 columns]"
      ]
     },
     "metadata": {},
     "output_type": "display_data"
    }
   ],
   "source": [
    "# Соединяем данные в единый датафрейм people_education\n",
    "people_education = pd.merge(people_education_0, degrees, left_on='id_y', right_on='id', how='left')\n",
    "display(people_education)"
   ]
  },
  {
   "cell_type": "markdown",
   "metadata": {},
   "source": [
    "Получили новую таблицу `people_education` состоящую из 13 столбцов и 267694 строк.\n",
    "\n",
    "Проверим эту таблицу на наличие явных дубликатов - сначала всей таблицы, а затем проверим столбцы `first_name`, `last_name` и `instituition`, чтобы исключить наличие повторяющихся сотрудников. "
   ]
  },
  {
   "cell_type": "code",
   "execution_count": 38,
   "metadata": {
    "id": "BThTjpLqFcsm"
   },
   "outputs": [
    {
     "data": {
      "text/plain": [
       "0"
      ]
     },
     "execution_count": 38,
     "metadata": {},
     "output_type": "execute_result"
    }
   ],
   "source": [
    "#Посчитаем количество явных дубликатов во всей таблице\n",
    "people_education.duplicated().sum()"
   ]
  },
  {
   "cell_type": "code",
   "execution_count": 39,
   "metadata": {},
   "outputs": [
    {
     "data": {
      "text/plain": [
       "15287"
      ]
     },
     "execution_count": 39,
     "metadata": {},
     "output_type": "execute_result"
    }
   ],
   "source": [
    "#Посчитаем количество явных дубликатов в столбцах first_name, last_name и instituition\n",
    "people_education.duplicated(subset=['first_name', 'last_name', 'instituition']).sum()"
   ]
  },
  {
   "cell_type": "code",
   "execution_count": 40,
   "metadata": {},
   "outputs": [
    {
     "name": "stdout",
     "output_type": "stream",
     "text": [
      "          id_x first_name    last_name  company_id network_username     id_y  \\\n",
      "15      100016     Thomas  F. Ackerman         NaN              NaN      NaN   \n",
      "28      100031    Sandeep        Hegde     81576.0     sandeephegde  14436.0   \n",
      "54      100067      Simon         Hill         NaN              NaN      NaN   \n",
      "65      100077         KC           Oh         NaN          okaysee  48613.0   \n",
      "66      100077         KC           Oh         NaN          okaysee  48614.0   \n",
      "...        ...        ...          ...         ...              ...      ...   \n",
      "267663   99977       Tian           He         NaN         hetianye  48610.0   \n",
      "267664   99977       Tian           He         NaN         hetianye  48611.0   \n",
      "267673   99985       Mark         Sims         NaN              NaN      NaN   \n",
      "267692  175827     mahesh        kumar         NaN    socialnethubs      NaN   \n",
      "267693  178190       Alex        Smith         NaN   esocialnetlike      NaN   \n",
      "\n",
      "        person_id                                 instituition graduated_at  \\\n",
      "15            NaN                                          NaN          NaT   \n",
      "28       100031.0                Gogte Institute of Technology   2010-01-01   \n",
      "54            NaN                                          NaN          NaT   \n",
      "65       100077.0                   Carnegie Mellon University          NaT   \n",
      "66       100077.0                   Carnegie Mellon University          NaT   \n",
      "...           ...                                          ...          ...   \n",
      "267663    99977.0  Massachusetts Institute of Technology (MIT)          NaT   \n",
      "267664    99977.0  Massachusetts Institute of Technology (MIT)          NaT   \n",
      "267673        NaN                                          NaN          NaT   \n",
      "267692        NaN                                          NaN          NaT   \n",
      "267693        NaN                                          NaN          NaT   \n",
      "\n",
      "             id object_id degree_type  \\\n",
      "15          NaN       NaN         NaN   \n",
      "28      14436.0  p:100031          BS   \n",
      "54          NaN       NaN         NaN   \n",
      "65      48613.0  p:100077        MHCI   \n",
      "66      48614.0  p:100077          BS   \n",
      "...         ...       ...         ...   \n",
      "267663  48610.0   p:99977          MS   \n",
      "267664  48611.0   p:99977          BS   \n",
      "267673      NaN       NaN         NaN   \n",
      "267692      NaN       NaN         NaN   \n",
      "267693      NaN       NaN         NaN   \n",
      "\n",
      "                                                subject  \n",
      "15                                                  NaN  \n",
      "28                    Information Science & Engineering  \n",
      "54                                                  NaN  \n",
      "65                           Human-Computer Interaction  \n",
      "66      Computer Science and Human-Computer Interaction  \n",
      "...                                                 ...  \n",
      "267663      Electrical Engineering and Computer Science  \n",
      "267664      Electrical Engineering and Computer Science  \n",
      "267673                                              NaN  \n",
      "267692                                              NaN  \n",
      "267693                                              NaN  \n",
      "\n",
      "[28329 rows x 13 columns]\n"
     ]
    }
   ],
   "source": [
    "# Выведем получившиеся дубликаты\n",
    "print(people_education[people_education.duplicated(subset=['first_name', 'last_name', 'instituition'], keep=False)])"
   ]
  },
  {
   "cell_type": "markdown",
   "metadata": {},
   "source": [
    "Выяснили, что полных явных дубликатов нет, а если смотреть по столбцам `first_name`, `last_name` и `instituition` - получилось 15287 дубликата. Вывели полученные предположительные дубликаты - по полученным данным нельзя однозначно сказать, что они являются дубликатами, поэтому оставляем данные без изменений.\n",
    "\n",
    "Далее создадим новый столбец `is_ed`, в который занесем бинарный признак, показывающий наличие информации об образовании у сотрудника:\n",
    "- логическое значение `True` — если у сотрудника не указана информация об образовании;\n",
    "- логическое значение `False` — если у сотрудника указана информация об образовании.\n",
    "\n",
    "Определять, указана ли информация об образовании сотрудника, будем по столбцам `graduated_at` и `instituition` - считаем, что если нет данных в одним из столбцов - информация об образовании не указана.\n",
    "\n",
    "Использовать для определения наличия информации об образовании столбцов `degree_type` и `subject` не очень корректно, т.к. тип образования и специальность могут дополнить информацию об образовании, но не обязательная ее часть. "
   ]
  },
  {
   "cell_type": "code",
   "execution_count": 41,
   "metadata": {},
   "outputs": [
    {
     "data": {
      "text/html": [
       "<div>\n",
       "<style scoped>\n",
       "    .dataframe tbody tr th:only-of-type {\n",
       "        vertical-align: middle;\n",
       "    }\n",
       "\n",
       "    .dataframe tbody tr th {\n",
       "        vertical-align: top;\n",
       "    }\n",
       "\n",
       "    .dataframe thead th {\n",
       "        text-align: right;\n",
       "    }\n",
       "</style>\n",
       "<table border=\"1\" class=\"dataframe\">\n",
       "  <thead>\n",
       "    <tr style=\"text-align: right;\">\n",
       "      <th></th>\n",
       "      <th>id_x</th>\n",
       "      <th>first_name</th>\n",
       "      <th>last_name</th>\n",
       "      <th>company_id</th>\n",
       "      <th>network_username</th>\n",
       "      <th>id_y</th>\n",
       "      <th>person_id</th>\n",
       "      <th>instituition</th>\n",
       "      <th>graduated_at</th>\n",
       "      <th>id</th>\n",
       "      <th>object_id</th>\n",
       "      <th>degree_type</th>\n",
       "      <th>subject</th>\n",
       "      <th>is_ed</th>\n",
       "    </tr>\n",
       "  </thead>\n",
       "  <tbody>\n",
       "    <tr>\n",
       "      <th>0</th>\n",
       "      <td>10</td>\n",
       "      <td>Mark</td>\n",
       "      <td>Zuckerberg</td>\n",
       "      <td>5.0</td>\n",
       "      <td>NaN</td>\n",
       "      <td>2415.0</td>\n",
       "      <td>10.0</td>\n",
       "      <td>Harvard University</td>\n",
       "      <td>NaT</td>\n",
       "      <td>2415.0</td>\n",
       "      <td>p:10</td>\n",
       "      <td>NaN</td>\n",
       "      <td>Computer Science</td>\n",
       "      <td>True</td>\n",
       "    </tr>\n",
       "    <tr>\n",
       "      <th>1</th>\n",
       "      <td>100</td>\n",
       "      <td>Peter</td>\n",
       "      <td>Lester</td>\n",
       "      <td>27.0</td>\n",
       "      <td>NaN</td>\n",
       "      <td>NaN</td>\n",
       "      <td>NaN</td>\n",
       "      <td>NaN</td>\n",
       "      <td>NaT</td>\n",
       "      <td>NaN</td>\n",
       "      <td>NaN</td>\n",
       "      <td>NaN</td>\n",
       "      <td>NaN</td>\n",
       "      <td>True</td>\n",
       "    </tr>\n",
       "    <tr>\n",
       "      <th>2</th>\n",
       "      <td>1000</td>\n",
       "      <td>Dr. Steven</td>\n",
       "      <td>E. Saunders</td>\n",
       "      <td>292.0</td>\n",
       "      <td>NaN</td>\n",
       "      <td>NaN</td>\n",
       "      <td>NaN</td>\n",
       "      <td>NaN</td>\n",
       "      <td>NaT</td>\n",
       "      <td>NaN</td>\n",
       "      <td>NaN</td>\n",
       "      <td>NaN</td>\n",
       "      <td>NaN</td>\n",
       "      <td>True</td>\n",
       "    </tr>\n",
       "    <tr>\n",
       "      <th>3</th>\n",
       "      <td>10000</td>\n",
       "      <td>Neil</td>\n",
       "      <td>Capel</td>\n",
       "      <td>2526.0</td>\n",
       "      <td>NaN</td>\n",
       "      <td>NaN</td>\n",
       "      <td>NaN</td>\n",
       "      <td>NaN</td>\n",
       "      <td>NaT</td>\n",
       "      <td>NaN</td>\n",
       "      <td>NaN</td>\n",
       "      <td>NaN</td>\n",
       "      <td>NaN</td>\n",
       "      <td>True</td>\n",
       "    </tr>\n",
       "    <tr>\n",
       "      <th>4</th>\n",
       "      <td>100000</td>\n",
       "      <td>Sue</td>\n",
       "      <td>Pilsch</td>\n",
       "      <td>NaN</td>\n",
       "      <td>NaN</td>\n",
       "      <td>NaN</td>\n",
       "      <td>NaN</td>\n",
       "      <td>NaN</td>\n",
       "      <td>NaT</td>\n",
       "      <td>NaN</td>\n",
       "      <td>NaN</td>\n",
       "      <td>NaN</td>\n",
       "      <td>NaN</td>\n",
       "      <td>True</td>\n",
       "    </tr>\n",
       "    <tr>\n",
       "      <th>5</th>\n",
       "      <td>100002</td>\n",
       "      <td>Keith</td>\n",
       "      <td>Kurzendoerfer</td>\n",
       "      <td>NaN</td>\n",
       "      <td>NaN</td>\n",
       "      <td>NaN</td>\n",
       "      <td>NaN</td>\n",
       "      <td>NaN</td>\n",
       "      <td>NaT</td>\n",
       "      <td>NaN</td>\n",
       "      <td>NaN</td>\n",
       "      <td>NaN</td>\n",
       "      <td>NaN</td>\n",
       "      <td>True</td>\n",
       "    </tr>\n",
       "    <tr>\n",
       "      <th>6</th>\n",
       "      <td>100006</td>\n",
       "      <td>Courtney</td>\n",
       "      <td>Homer</td>\n",
       "      <td>81558.0</td>\n",
       "      <td>jobsbostontech</td>\n",
       "      <td>83604.0</td>\n",
       "      <td>100006.0</td>\n",
       "      <td>MIT Sloan School of Management</td>\n",
       "      <td>2004-01-01</td>\n",
       "      <td>83604.0</td>\n",
       "      <td>p:100006</td>\n",
       "      <td>MBA</td>\n",
       "      <td>Strategy &amp; Marketing</td>\n",
       "      <td>False</td>\n",
       "    </tr>\n",
       "    <tr>\n",
       "      <th>7</th>\n",
       "      <td>100009</td>\n",
       "      <td>Eddy</td>\n",
       "      <td>Badrina</td>\n",
       "      <td>NaN</td>\n",
       "      <td>NaN</td>\n",
       "      <td>NaN</td>\n",
       "      <td>NaN</td>\n",
       "      <td>NaN</td>\n",
       "      <td>NaT</td>\n",
       "      <td>NaN</td>\n",
       "      <td>NaN</td>\n",
       "      <td>NaN</td>\n",
       "      <td>NaN</td>\n",
       "      <td>True</td>\n",
       "    </tr>\n",
       "    <tr>\n",
       "      <th>8</th>\n",
       "      <td>100010</td>\n",
       "      <td>Michael</td>\n",
       "      <td>Dadashyan</td>\n",
       "      <td>NaN</td>\n",
       "      <td>fbroulette</td>\n",
       "      <td>NaN</td>\n",
       "      <td>NaN</td>\n",
       "      <td>NaN</td>\n",
       "      <td>NaT</td>\n",
       "      <td>NaN</td>\n",
       "      <td>NaN</td>\n",
       "      <td>NaN</td>\n",
       "      <td>NaN</td>\n",
       "      <td>True</td>\n",
       "    </tr>\n",
       "    <tr>\n",
       "      <th>9</th>\n",
       "      <td>100011</td>\n",
       "      <td>Jeff</td>\n",
       "      <td>Grell</td>\n",
       "      <td>NaN</td>\n",
       "      <td>NaN</td>\n",
       "      <td>NaN</td>\n",
       "      <td>NaN</td>\n",
       "      <td>NaN</td>\n",
       "      <td>NaT</td>\n",
       "      <td>NaN</td>\n",
       "      <td>NaN</td>\n",
       "      <td>NaN</td>\n",
       "      <td>NaN</td>\n",
       "      <td>True</td>\n",
       "    </tr>\n",
       "    <tr>\n",
       "      <th>10</th>\n",
       "      <td>100012</td>\n",
       "      <td>Nick</td>\n",
       "      <td>Bova</td>\n",
       "      <td>NaN</td>\n",
       "      <td>NaN</td>\n",
       "      <td>NaN</td>\n",
       "      <td>NaN</td>\n",
       "      <td>NaN</td>\n",
       "      <td>NaT</td>\n",
       "      <td>NaN</td>\n",
       "      <td>NaN</td>\n",
       "      <td>NaN</td>\n",
       "      <td>NaN</td>\n",
       "      <td>True</td>\n",
       "    </tr>\n",
       "    <tr>\n",
       "      <th>11</th>\n",
       "      <td>100013</td>\n",
       "      <td>Umesh</td>\n",
       "      <td>Singh</td>\n",
       "      <td>NaN</td>\n",
       "      <td>NaN</td>\n",
       "      <td>36786.0</td>\n",
       "      <td>100013.0</td>\n",
       "      <td>Rutgers University</td>\n",
       "      <td>NaT</td>\n",
       "      <td>36786.0</td>\n",
       "      <td>p:100013</td>\n",
       "      <td>MBA</td>\n",
       "      <td>Finance</td>\n",
       "      <td>True</td>\n",
       "    </tr>\n",
       "    <tr>\n",
       "      <th>12</th>\n",
       "      <td>100013</td>\n",
       "      <td>Umesh</td>\n",
       "      <td>Singh</td>\n",
       "      <td>NaN</td>\n",
       "      <td>NaN</td>\n",
       "      <td>36787.0</td>\n",
       "      <td>100013.0</td>\n",
       "      <td>University of Mumbai</td>\n",
       "      <td>NaT</td>\n",
       "      <td>36787.0</td>\n",
       "      <td>p:100013</td>\n",
       "      <td>MS</td>\n",
       "      <td>Physical Chemistry</td>\n",
       "      <td>True</td>\n",
       "    </tr>\n",
       "    <tr>\n",
       "      <th>13</th>\n",
       "      <td>100014</td>\n",
       "      <td>Larry</td>\n",
       "      <td>Blankenship</td>\n",
       "      <td>NaN</td>\n",
       "      <td>NaN</td>\n",
       "      <td>NaN</td>\n",
       "      <td>NaN</td>\n",
       "      <td>NaN</td>\n",
       "      <td>NaT</td>\n",
       "      <td>NaN</td>\n",
       "      <td>NaN</td>\n",
       "      <td>NaN</td>\n",
       "      <td>NaN</td>\n",
       "      <td>True</td>\n",
       "    </tr>\n",
       "    <tr>\n",
       "      <th>14</th>\n",
       "      <td>100015</td>\n",
       "      <td>Steven</td>\n",
       "      <td>G. Anderson</td>\n",
       "      <td>NaN</td>\n",
       "      <td>NaN</td>\n",
       "      <td>NaN</td>\n",
       "      <td>NaN</td>\n",
       "      <td>NaN</td>\n",
       "      <td>NaT</td>\n",
       "      <td>NaN</td>\n",
       "      <td>NaN</td>\n",
       "      <td>NaN</td>\n",
       "      <td>NaN</td>\n",
       "      <td>True</td>\n",
       "    </tr>\n",
       "    <tr>\n",
       "      <th>15</th>\n",
       "      <td>100016</td>\n",
       "      <td>Thomas</td>\n",
       "      <td>F. Ackerman</td>\n",
       "      <td>NaN</td>\n",
       "      <td>NaN</td>\n",
       "      <td>NaN</td>\n",
       "      <td>NaN</td>\n",
       "      <td>NaN</td>\n",
       "      <td>NaT</td>\n",
       "      <td>NaN</td>\n",
       "      <td>NaN</td>\n",
       "      <td>NaN</td>\n",
       "      <td>NaN</td>\n",
       "      <td>True</td>\n",
       "    </tr>\n",
       "    <tr>\n",
       "      <th>16</th>\n",
       "      <td>100017</td>\n",
       "      <td>Kurt</td>\n",
       "      <td>Azarbarzin</td>\n",
       "      <td>NaN</td>\n",
       "      <td>NaN</td>\n",
       "      <td>NaN</td>\n",
       "      <td>NaN</td>\n",
       "      <td>NaN</td>\n",
       "      <td>NaT</td>\n",
       "      <td>NaN</td>\n",
       "      <td>NaN</td>\n",
       "      <td>NaN</td>\n",
       "      <td>NaN</td>\n",
       "      <td>True</td>\n",
       "    </tr>\n",
       "    <tr>\n",
       "      <th>17</th>\n",
       "      <td>100018</td>\n",
       "      <td>Adam</td>\n",
       "      <td>Beckerman</td>\n",
       "      <td>148554.0</td>\n",
       "      <td>adam_beckerman</td>\n",
       "      <td>14433.0</td>\n",
       "      <td>100018.0</td>\n",
       "      <td>Columbia University, Business School</td>\n",
       "      <td>2004-01-01</td>\n",
       "      <td>14433.0</td>\n",
       "      <td>p:100018</td>\n",
       "      <td>MBA</td>\n",
       "      <td>Entrepreneurship, Marketing</td>\n",
       "      <td>False</td>\n",
       "    </tr>\n",
       "    <tr>\n",
       "      <th>18</th>\n",
       "      <td>100018</td>\n",
       "      <td>Adam</td>\n",
       "      <td>Beckerman</td>\n",
       "      <td>148554.0</td>\n",
       "      <td>adam_beckerman</td>\n",
       "      <td>14434.0</td>\n",
       "      <td>100018.0</td>\n",
       "      <td>University of Maryland, College Park</td>\n",
       "      <td>1996-01-01</td>\n",
       "      <td>14434.0</td>\n",
       "      <td>p:100018</td>\n",
       "      <td>BS</td>\n",
       "      <td>Marketing, French</td>\n",
       "      <td>False</td>\n",
       "    </tr>\n",
       "    <tr>\n",
       "      <th>19</th>\n",
       "      <td>100019</td>\n",
       "      <td>Melissa</td>\n",
       "      <td>French</td>\n",
       "      <td>NaN</td>\n",
       "      <td>netcastles</td>\n",
       "      <td>NaN</td>\n",
       "      <td>NaN</td>\n",
       "      <td>NaN</td>\n",
       "      <td>NaT</td>\n",
       "      <td>NaN</td>\n",
       "      <td>NaN</td>\n",
       "      <td>NaN</td>\n",
       "      <td>NaN</td>\n",
       "      <td>True</td>\n",
       "    </tr>\n",
       "    <tr>\n",
       "      <th>20</th>\n",
       "      <td>100022</td>\n",
       "      <td>OÄuz KaÄan</td>\n",
       "      <td>Aslan</td>\n",
       "      <td>NaN</td>\n",
       "      <td>OguzKaganAslan</td>\n",
       "      <td>NaN</td>\n",
       "      <td>NaN</td>\n",
       "      <td>NaN</td>\n",
       "      <td>NaT</td>\n",
       "      <td>NaN</td>\n",
       "      <td>NaN</td>\n",
       "      <td>NaN</td>\n",
       "      <td>NaN</td>\n",
       "      <td>True</td>\n",
       "    </tr>\n",
       "    <tr>\n",
       "      <th>21</th>\n",
       "      <td>100023</td>\n",
       "      <td>Neil</td>\n",
       "      <td>Chandran</td>\n",
       "      <td>81571.0</td>\n",
       "      <td>neilchandran</td>\n",
       "      <td>NaN</td>\n",
       "      <td>NaN</td>\n",
       "      <td>NaN</td>\n",
       "      <td>NaT</td>\n",
       "      <td>NaN</td>\n",
       "      <td>NaN</td>\n",
       "      <td>NaN</td>\n",
       "      <td>NaN</td>\n",
       "      <td>True</td>\n",
       "    </tr>\n",
       "    <tr>\n",
       "      <th>22</th>\n",
       "      <td>100024</td>\n",
       "      <td>Sebastian</td>\n",
       "      <td>Knutsson</td>\n",
       "      <td>NaN</td>\n",
       "      <td>NaN</td>\n",
       "      <td>NaN</td>\n",
       "      <td>NaN</td>\n",
       "      <td>NaN</td>\n",
       "      <td>NaT</td>\n",
       "      <td>NaN</td>\n",
       "      <td>NaN</td>\n",
       "      <td>NaN</td>\n",
       "      <td>NaN</td>\n",
       "      <td>True</td>\n",
       "    </tr>\n",
       "    <tr>\n",
       "      <th>23</th>\n",
       "      <td>100025</td>\n",
       "      <td>Thomas</td>\n",
       "      <td>Hartwig</td>\n",
       "      <td>NaN</td>\n",
       "      <td>NaN</td>\n",
       "      <td>NaN</td>\n",
       "      <td>NaN</td>\n",
       "      <td>NaN</td>\n",
       "      <td>NaT</td>\n",
       "      <td>NaN</td>\n",
       "      <td>NaN</td>\n",
       "      <td>NaN</td>\n",
       "      <td>NaN</td>\n",
       "      <td>True</td>\n",
       "    </tr>\n",
       "    <tr>\n",
       "      <th>24</th>\n",
       "      <td>100026</td>\n",
       "      <td>Lars</td>\n",
       "      <td>Markgren</td>\n",
       "      <td>NaN</td>\n",
       "      <td>NaN</td>\n",
       "      <td>NaN</td>\n",
       "      <td>NaN</td>\n",
       "      <td>NaN</td>\n",
       "      <td>NaT</td>\n",
       "      <td>NaN</td>\n",
       "      <td>NaN</td>\n",
       "      <td>NaN</td>\n",
       "      <td>NaN</td>\n",
       "      <td>True</td>\n",
       "    </tr>\n",
       "    <tr>\n",
       "      <th>25</th>\n",
       "      <td>100027</td>\n",
       "      <td>Suraj</td>\n",
       "      <td>Shinde</td>\n",
       "      <td>NaN</td>\n",
       "      <td>SurajBShinde</td>\n",
       "      <td>NaN</td>\n",
       "      <td>NaN</td>\n",
       "      <td>NaN</td>\n",
       "      <td>NaT</td>\n",
       "      <td>NaN</td>\n",
       "      <td>NaN</td>\n",
       "      <td>NaN</td>\n",
       "      <td>NaN</td>\n",
       "      <td>True</td>\n",
       "    </tr>\n",
       "    <tr>\n",
       "      <th>26</th>\n",
       "      <td>100029</td>\n",
       "      <td>Kaushik</td>\n",
       "      <td>Prakash</td>\n",
       "      <td>NaN</td>\n",
       "      <td>NaN</td>\n",
       "      <td>NaN</td>\n",
       "      <td>NaN</td>\n",
       "      <td>NaN</td>\n",
       "      <td>NaT</td>\n",
       "      <td>NaN</td>\n",
       "      <td>NaN</td>\n",
       "      <td>NaN</td>\n",
       "      <td>NaN</td>\n",
       "      <td>True</td>\n",
       "    </tr>\n",
       "    <tr>\n",
       "      <th>27</th>\n",
       "      <td>100030</td>\n",
       "      <td>Jai</td>\n",
       "      <td>Patel</td>\n",
       "      <td>NaN</td>\n",
       "      <td>NaN</td>\n",
       "      <td>NaN</td>\n",
       "      <td>NaN</td>\n",
       "      <td>NaN</td>\n",
       "      <td>NaT</td>\n",
       "      <td>NaN</td>\n",
       "      <td>NaN</td>\n",
       "      <td>NaN</td>\n",
       "      <td>NaN</td>\n",
       "      <td>True</td>\n",
       "    </tr>\n",
       "    <tr>\n",
       "      <th>28</th>\n",
       "      <td>100031</td>\n",
       "      <td>Sandeep</td>\n",
       "      <td>Hegde</td>\n",
       "      <td>81576.0</td>\n",
       "      <td>sandeephegde</td>\n",
       "      <td>14436.0</td>\n",
       "      <td>100031.0</td>\n",
       "      <td>Gogte Institute of Technology</td>\n",
       "      <td>2010-01-01</td>\n",
       "      <td>14436.0</td>\n",
       "      <td>p:100031</td>\n",
       "      <td>BS</td>\n",
       "      <td>Information Science &amp; Engineering</td>\n",
       "      <td>False</td>\n",
       "    </tr>\n",
       "    <tr>\n",
       "      <th>29</th>\n",
       "      <td>100032</td>\n",
       "      <td>Dejan</td>\n",
       "      <td>Avramovic</td>\n",
       "      <td>NaN</td>\n",
       "      <td>avramavram</td>\n",
       "      <td>NaN</td>\n",
       "      <td>NaN</td>\n",
       "      <td>NaN</td>\n",
       "      <td>NaT</td>\n",
       "      <td>NaN</td>\n",
       "      <td>NaN</td>\n",
       "      <td>NaN</td>\n",
       "      <td>NaN</td>\n",
       "      <td>True</td>\n",
       "    </tr>\n",
       "  </tbody>\n",
       "</table>\n",
       "</div>"
      ],
      "text/plain": [
       "      id_x    first_name      last_name  company_id network_username     id_y  \\\n",
       "0       10          Mark     Zuckerberg         5.0              NaN   2415.0   \n",
       "1      100         Peter         Lester        27.0              NaN      NaN   \n",
       "2     1000    Dr. Steven    E. Saunders       292.0              NaN      NaN   \n",
       "3    10000          Neil          Capel      2526.0              NaN      NaN   \n",
       "4   100000           Sue         Pilsch         NaN              NaN      NaN   \n",
       "5   100002         Keith  Kurzendoerfer         NaN              NaN      NaN   \n",
       "6   100006      Courtney          Homer     81558.0   jobsbostontech  83604.0   \n",
       "7   100009          Eddy        Badrina         NaN              NaN      NaN   \n",
       "8   100010       Michael      Dadashyan         NaN       fbroulette      NaN   \n",
       "9   100011          Jeff          Grell         NaN              NaN      NaN   \n",
       "10  100012          Nick           Bova         NaN              NaN      NaN   \n",
       "11  100013         Umesh          Singh         NaN              NaN  36786.0   \n",
       "12  100013         Umesh          Singh         NaN              NaN  36787.0   \n",
       "13  100014         Larry    Blankenship         NaN              NaN      NaN   \n",
       "14  100015        Steven    G. Anderson         NaN              NaN      NaN   \n",
       "15  100016        Thomas    F. Ackerman         NaN              NaN      NaN   \n",
       "16  100017          Kurt     Azarbarzin         NaN              NaN      NaN   \n",
       "17  100018          Adam      Beckerman    148554.0   adam_beckerman  14433.0   \n",
       "18  100018          Adam      Beckerman    148554.0   adam_beckerman  14434.0   \n",
       "19  100019       Melissa         French         NaN       netcastles      NaN   \n",
       "20  100022  OÄuz KaÄan          Aslan         NaN   OguzKaganAslan      NaN   \n",
       "21  100023          Neil       Chandran     81571.0     neilchandran      NaN   \n",
       "22  100024     Sebastian       Knutsson         NaN              NaN      NaN   \n",
       "23  100025        Thomas        Hartwig         NaN              NaN      NaN   \n",
       "24  100026          Lars       Markgren         NaN              NaN      NaN   \n",
       "25  100027         Suraj         Shinde         NaN     SurajBShinde      NaN   \n",
       "26  100029       Kaushik        Prakash         NaN              NaN      NaN   \n",
       "27  100030           Jai          Patel         NaN              NaN      NaN   \n",
       "28  100031       Sandeep          Hegde     81576.0     sandeephegde  14436.0   \n",
       "29  100032         Dejan      Avramovic         NaN       avramavram      NaN   \n",
       "\n",
       "    person_id                          instituition graduated_at       id  \\\n",
       "0        10.0                    Harvard University          NaT   2415.0   \n",
       "1         NaN                                   NaN          NaT      NaN   \n",
       "2         NaN                                   NaN          NaT      NaN   \n",
       "3         NaN                                   NaN          NaT      NaN   \n",
       "4         NaN                                   NaN          NaT      NaN   \n",
       "5         NaN                                   NaN          NaT      NaN   \n",
       "6    100006.0        MIT Sloan School of Management   2004-01-01  83604.0   \n",
       "7         NaN                                   NaN          NaT      NaN   \n",
       "8         NaN                                   NaN          NaT      NaN   \n",
       "9         NaN                                   NaN          NaT      NaN   \n",
       "10        NaN                                   NaN          NaT      NaN   \n",
       "11   100013.0                    Rutgers University          NaT  36786.0   \n",
       "12   100013.0                  University of Mumbai          NaT  36787.0   \n",
       "13        NaN                                   NaN          NaT      NaN   \n",
       "14        NaN                                   NaN          NaT      NaN   \n",
       "15        NaN                                   NaN          NaT      NaN   \n",
       "16        NaN                                   NaN          NaT      NaN   \n",
       "17   100018.0  Columbia University, Business School   2004-01-01  14433.0   \n",
       "18   100018.0  University of Maryland, College Park   1996-01-01  14434.0   \n",
       "19        NaN                                   NaN          NaT      NaN   \n",
       "20        NaN                                   NaN          NaT      NaN   \n",
       "21        NaN                                   NaN          NaT      NaN   \n",
       "22        NaN                                   NaN          NaT      NaN   \n",
       "23        NaN                                   NaN          NaT      NaN   \n",
       "24        NaN                                   NaN          NaT      NaN   \n",
       "25        NaN                                   NaN          NaT      NaN   \n",
       "26        NaN                                   NaN          NaT      NaN   \n",
       "27        NaN                                   NaN          NaT      NaN   \n",
       "28   100031.0         Gogte Institute of Technology   2010-01-01  14436.0   \n",
       "29        NaN                                   NaN          NaT      NaN   \n",
       "\n",
       "   object_id degree_type                            subject  is_ed  \n",
       "0       p:10         NaN                   Computer Science   True  \n",
       "1        NaN         NaN                                NaN   True  \n",
       "2        NaN         NaN                                NaN   True  \n",
       "3        NaN         NaN                                NaN   True  \n",
       "4        NaN         NaN                                NaN   True  \n",
       "5        NaN         NaN                                NaN   True  \n",
       "6   p:100006         MBA               Strategy & Marketing  False  \n",
       "7        NaN         NaN                                NaN   True  \n",
       "8        NaN         NaN                                NaN   True  \n",
       "9        NaN         NaN                                NaN   True  \n",
       "10       NaN         NaN                                NaN   True  \n",
       "11  p:100013         MBA                            Finance   True  \n",
       "12  p:100013          MS                 Physical Chemistry   True  \n",
       "13       NaN         NaN                                NaN   True  \n",
       "14       NaN         NaN                                NaN   True  \n",
       "15       NaN         NaN                                NaN   True  \n",
       "16       NaN         NaN                                NaN   True  \n",
       "17  p:100018         MBA        Entrepreneurship, Marketing  False  \n",
       "18  p:100018          BS                  Marketing, French  False  \n",
       "19       NaN         NaN                                NaN   True  \n",
       "20       NaN         NaN                                NaN   True  \n",
       "21       NaN         NaN                                NaN   True  \n",
       "22       NaN         NaN                                NaN   True  \n",
       "23       NaN         NaN                                NaN   True  \n",
       "24       NaN         NaN                                NaN   True  \n",
       "25       NaN         NaN                                NaN   True  \n",
       "26       NaN         NaN                                NaN   True  \n",
       "27       NaN         NaN                                NaN   True  \n",
       "28  p:100031          BS  Information Science & Engineering  False  \n",
       "29       NaN         NaN                                NaN   True  "
      ]
     },
     "execution_count": 41,
     "metadata": {},
     "output_type": "execute_result"
    }
   ],
   "source": [
    "# Создаём столбец is_ed  \n",
    "people_education['is_ed'] = people_education[['graduated_at', 'instituition']].isna().any(axis=1)\n",
    "people_education.head(30)"
   ]
  },
  {
   "cell_type": "markdown",
   "metadata": {},
   "source": [
    "Сгруппируем данные по компаниям, и для каждой компании посчитаем количество сотрудников. Выведем в эту таблицу также долю сотрудников без образования из столбца `is_ed`.\n",
    "\n",
    "А затем разделим компании на группы по количеству сотрудников:\n",
    "\n",
    "- стартапы из 1 человека (one) - 1 сотрудник;\n",
    "- микростартапы (micro) - 2 сотрудника;\n",
    "- малые стартапы (small) - 3-7 сотрудников;\n",
    "- средние стартапы (mean) - 8-20 сотрудников;\n",
    "- крупные стартапы (large) - 21-100 сотрудников;\n",
    "- мегастартапы (mega) - более 100 сотрудников.\n",
    "\n",
    "Такое разделение стартапов по количеству сотрудников схоже с разделением обычных компаний по количеству сотрудников на микропредприятие, малое предприятие, среднее предприятие."
   ]
  },
  {
   "cell_type": "code",
   "execution_count": 42,
   "metadata": {
    "id": "4FC98Pd-FcmG"
   },
   "outputs": [
    {
     "name": "stdout",
     "output_type": "stream",
     "text": [
      "1\n",
      "244\n"
     ]
    }
   ],
   "source": [
    "# Определим минимальное  и максимальное количество сотрудников в компании\n",
    "print(people.groupby('company_id')['id'].count().min())\n",
    "print(people.groupby('company_id')['id'].count().max())"
   ]
  },
  {
   "cell_type": "code",
   "execution_count": 43,
   "metadata": {},
   "outputs": [
    {
     "data": {
      "text/html": [
       "<div>\n",
       "<style scoped>\n",
       "    .dataframe tbody tr th:only-of-type {\n",
       "        vertical-align: middle;\n",
       "    }\n",
       "\n",
       "    .dataframe tbody tr th {\n",
       "        vertical-align: top;\n",
       "    }\n",
       "\n",
       "    .dataframe thead th {\n",
       "        text-align: right;\n",
       "    }\n",
       "</style>\n",
       "<table border=\"1\" class=\"dataframe\">\n",
       "  <thead>\n",
       "    <tr style=\"text-align: right;\">\n",
       "      <th></th>\n",
       "      <th>id_x</th>\n",
       "      <th>is_ed</th>\n",
       "    </tr>\n",
       "    <tr>\n",
       "      <th>company_id</th>\n",
       "      <th></th>\n",
       "      <th></th>\n",
       "    </tr>\n",
       "  </thead>\n",
       "  <tbody>\n",
       "    <tr>\n",
       "      <th>1.0</th>\n",
       "      <td>3</td>\n",
       "      <td>1.000000</td>\n",
       "    </tr>\n",
       "    <tr>\n",
       "      <th>2.0</th>\n",
       "      <td>1</td>\n",
       "      <td>0.000000</td>\n",
       "    </tr>\n",
       "    <tr>\n",
       "      <th>3.0</th>\n",
       "      <td>5</td>\n",
       "      <td>0.400000</td>\n",
       "    </tr>\n",
       "    <tr>\n",
       "      <th>4.0</th>\n",
       "      <td>18</td>\n",
       "      <td>0.222222</td>\n",
       "    </tr>\n",
       "    <tr>\n",
       "      <th>5.0</th>\n",
       "      <td>84</td>\n",
       "      <td>0.583333</td>\n",
       "    </tr>\n",
       "    <tr>\n",
       "      <th>...</th>\n",
       "      <td>...</td>\n",
       "      <td>...</td>\n",
       "    </tr>\n",
       "    <tr>\n",
       "      <th>285897.0</th>\n",
       "      <td>2</td>\n",
       "      <td>0.500000</td>\n",
       "    </tr>\n",
       "    <tr>\n",
       "      <th>285953.0</th>\n",
       "      <td>1</td>\n",
       "      <td>1.000000</td>\n",
       "    </tr>\n",
       "    <tr>\n",
       "      <th>285972.0</th>\n",
       "      <td>2</td>\n",
       "      <td>1.000000</td>\n",
       "    </tr>\n",
       "    <tr>\n",
       "      <th>285996.0</th>\n",
       "      <td>1</td>\n",
       "      <td>1.000000</td>\n",
       "    </tr>\n",
       "    <tr>\n",
       "      <th>286091.0</th>\n",
       "      <td>7</td>\n",
       "      <td>0.714286</td>\n",
       "    </tr>\n",
       "  </tbody>\n",
       "</table>\n",
       "<p>22922 rows × 2 columns</p>\n",
       "</div>"
      ],
      "text/plain": [
       "            id_x     is_ed\n",
       "company_id                \n",
       "1.0            3  1.000000\n",
       "2.0            1  0.000000\n",
       "3.0            5  0.400000\n",
       "4.0           18  0.222222\n",
       "5.0           84  0.583333\n",
       "...          ...       ...\n",
       "285897.0       2  0.500000\n",
       "285953.0       1  1.000000\n",
       "285972.0       2  1.000000\n",
       "285996.0       1  1.000000\n",
       "286091.0       7  0.714286\n",
       "\n",
       "[22922 rows x 2 columns]"
      ]
     },
     "metadata": {},
     "output_type": "display_data"
    }
   ],
   "source": [
    "# Сгруппируем данные по компаниям и посчитаем количество сотрудников и долю сотрудников без образования\n",
    "company_people = people_education.groupby('company_id').agg({'id_x':'count', 'is_ed':'mean'})\n",
    "display(company_people)"
   ]
  },
  {
   "cell_type": "code",
   "execution_count": 44,
   "metadata": {},
   "outputs": [
    {
     "data": {
      "text/html": [
       "<div>\n",
       "<style scoped>\n",
       "    .dataframe tbody tr th:only-of-type {\n",
       "        vertical-align: middle;\n",
       "    }\n",
       "\n",
       "    .dataframe tbody tr th {\n",
       "        vertical-align: top;\n",
       "    }\n",
       "\n",
       "    .dataframe thead th {\n",
       "        text-align: right;\n",
       "    }\n",
       "</style>\n",
       "<table border=\"1\" class=\"dataframe\">\n",
       "  <thead>\n",
       "    <tr style=\"text-align: right;\">\n",
       "      <th></th>\n",
       "      <th>id_x</th>\n",
       "      <th>is_ed</th>\n",
       "      <th>group_company</th>\n",
       "    </tr>\n",
       "    <tr>\n",
       "      <th>company_id</th>\n",
       "      <th></th>\n",
       "      <th></th>\n",
       "      <th></th>\n",
       "    </tr>\n",
       "  </thead>\n",
       "  <tbody>\n",
       "    <tr>\n",
       "      <th>1.0</th>\n",
       "      <td>3</td>\n",
       "      <td>1.000000</td>\n",
       "      <td>small</td>\n",
       "    </tr>\n",
       "    <tr>\n",
       "      <th>2.0</th>\n",
       "      <td>1</td>\n",
       "      <td>0.000000</td>\n",
       "      <td>one</td>\n",
       "    </tr>\n",
       "    <tr>\n",
       "      <th>3.0</th>\n",
       "      <td>5</td>\n",
       "      <td>0.400000</td>\n",
       "      <td>small</td>\n",
       "    </tr>\n",
       "    <tr>\n",
       "      <th>4.0</th>\n",
       "      <td>18</td>\n",
       "      <td>0.222222</td>\n",
       "      <td>mean</td>\n",
       "    </tr>\n",
       "    <tr>\n",
       "      <th>5.0</th>\n",
       "      <td>84</td>\n",
       "      <td>0.583333</td>\n",
       "      <td>large</td>\n",
       "    </tr>\n",
       "    <tr>\n",
       "      <th>...</th>\n",
       "      <td>...</td>\n",
       "      <td>...</td>\n",
       "      <td>...</td>\n",
       "    </tr>\n",
       "    <tr>\n",
       "      <th>285897.0</th>\n",
       "      <td>2</td>\n",
       "      <td>0.500000</td>\n",
       "      <td>micro</td>\n",
       "    </tr>\n",
       "    <tr>\n",
       "      <th>285953.0</th>\n",
       "      <td>1</td>\n",
       "      <td>1.000000</td>\n",
       "      <td>one</td>\n",
       "    </tr>\n",
       "    <tr>\n",
       "      <th>285972.0</th>\n",
       "      <td>2</td>\n",
       "      <td>1.000000</td>\n",
       "      <td>micro</td>\n",
       "    </tr>\n",
       "    <tr>\n",
       "      <th>285996.0</th>\n",
       "      <td>1</td>\n",
       "      <td>1.000000</td>\n",
       "      <td>one</td>\n",
       "    </tr>\n",
       "    <tr>\n",
       "      <th>286091.0</th>\n",
       "      <td>7</td>\n",
       "      <td>0.714286</td>\n",
       "      <td>small</td>\n",
       "    </tr>\n",
       "  </tbody>\n",
       "</table>\n",
       "<p>22922 rows × 3 columns</p>\n",
       "</div>"
      ],
      "text/plain": [
       "            id_x     is_ed group_company\n",
       "company_id                              \n",
       "1.0            3  1.000000         small\n",
       "2.0            1  0.000000           one\n",
       "3.0            5  0.400000         small\n",
       "4.0           18  0.222222          mean\n",
       "5.0           84  0.583333         large\n",
       "...          ...       ...           ...\n",
       "285897.0       2  0.500000         micro\n",
       "285953.0       1  1.000000           one\n",
       "285972.0       2  1.000000         micro\n",
       "285996.0       1  1.000000           one\n",
       "286091.0       7  0.714286         small\n",
       "\n",
       "[22922 rows x 3 columns]"
      ]
     },
     "metadata": {},
     "output_type": "display_data"
    }
   ],
   "source": [
    "# Разделим полученные данные на группы по количеству сотрудников\n",
    "company_people['group_company'] = pd.cut(company_people['id_x'], \n",
    "                                        bins=[0, 1, 2, 7, 20, 100, 244],\n",
    "                                        labels=['one', 'micro', 'small', 'mean', 'large', 'mega'])\n",
    "display(company_people)"
   ]
  },
  {
   "cell_type": "markdown",
   "metadata": {},
   "source": [
    "Получили таблицу, в которой каждой компании соответствует ее категория по количеству сотрудников.\n",
    "\n",
    "Теперь для каждой категории компании определим среднюю долю сотрудников без информации об образовании."
   ]
  },
  {
   "cell_type": "code",
   "execution_count": 45,
   "metadata": {},
   "outputs": [
    {
     "data": {
      "text/plain": [
       "group_company\n",
       "one      0.672085\n",
       "micro    0.407920\n",
       "small    0.450496\n",
       "mean     0.561601\n",
       "large    0.581432\n",
       "mega     0.628174\n",
       "Name: is_ed, dtype: float64"
      ]
     },
     "metadata": {},
     "output_type": "display_data"
    }
   ],
   "source": [
    "# Определим долю сотрудников без информации об образовании для каждой категории\n",
    "category_company = company_people.groupby('group_company')['is_ed'].mean()\n",
    "display(category_company)"
   ]
  },
  {
   "cell_type": "code",
   "execution_count": 46,
   "metadata": {},
   "outputs": [
    {
     "data": {
      "image/png": "[encoded data removed]",
      "text/plain": [
       "<Figure size 864x360 with 1 Axes>"
      ]
     },
     "metadata": {
      "needs_background": "light"
     },
     "output_type": "display_data"
    }
   ],
   "source": [
    "# Создаём контейнер графика matplotlib и задаём его размер\n",
    "plt.figure(figsize=(12, 5))\n",
    "\n",
    "# Строим столбчатую диаграмму с помощью pandas через plot(kind='bar')\n",
    "category_company.plot(\n",
    "               kind='bar', # Тип графика - столбчатая диаграмма\n",
    "               rot=0, # Градус вращения подписи по оси Х\n",
    "               legend=False, # Выключаем легенду\n",
    "               title=f'Доли сотрудников без информации об образовании по категориям стартапов',\n",
    "               color='green' #настраиваем цвет графика\n",
    ")\n",
    "\n",
    "# Настраиваем оформление графика\n",
    "plt.xlabel('Категории стартапов')\n",
    "plt.ylabel('Средние доли сторудников')\n",
    "# Добавляем сетку графика\n",
    "plt.grid()\n",
    "\n",
    "# Выводим график\n",
    "plt.show()"
   ]
  },
  {
   "cell_type": "markdown",
   "metadata": {},
   "source": [
    "Вычисления показали, что во всех категориях стартапов, независимо от численности сотрудников, доля тех, кто не указал уровень образования, довольно велика - более 40%.\n",
    "\n",
    "Минимальная доля таких сотрудников наблюдается для микростартапов - 41%.\n",
    "Максимальная доля наблюдается для стартапов из 1 человека - 67%.\n",
    "\n",
    "При этом доля сотрудников без информации об образовании увеличивается с увеличением размера компании, за исключением стартапов из 1 человека."
   ]
  },
  {
   "cell_type": "markdown",
   "metadata": {
    "id": "Lz7qjM32xglW"
   },
   "source": [
    "### 2.3. Объединять или не объединять — вот в чём вопрос\n",
    "\n"
   ]
  },
  {
   "cell_type": "markdown",
   "metadata": {
    "id": "zyI3rt0rxg1O"
   },
   "source": [
    "Для того, чтобы определить, можно ли объединять датасеты по столбцу `network_username`, необходимо изучить данные, которые в нем содержатся в различных таблицах, и найти возможные совпадения.\n",
    "\n",
    "Для начала обратимся к описанию данных. Столбец `network_username` находится в следующих таблицах:\n",
    "- `company_and_rounds` - в ней он содержит ник компании в сети;\n",
    "- `people` - в ней он содержит ник сотрудника в соцсетях;\n",
    "- `fund` - в ней содержит ник фонда в сети.\n",
    "\n",
    "По описанию это разные данные.\n",
    "\n",
    "Посмотрим, что содержат эти столбцы."
   ]
  },
  {
   "cell_type": "code",
   "execution_count": 47,
   "metadata": {
    "id": "RxOS5rwmFcNW"
   },
   "outputs": [
    {
     "name": "stdout",
     "output_type": "stream",
     "text": [
      "['BachelrWetpaint' nan 'Hostnine' ... 'networkzend' 'pPhotonet' 'Photonet']\n"
     ]
    }
   ],
   "source": [
    "# Выведем уникальные значения столбца network_username для таблицы company_and_rounds\n",
    "print(company_and_rounds['network_username'].unique())"
   ]
  },
  {
   "cell_type": "code",
   "execution_count": 48,
   "metadata": {},
   "outputs": [
    {
     "name": "stdout",
     "output_type": "stream",
     "text": [
      "[nan 'jobsbostontech' 'fbroulette' ... 'itechsocialnet' 'socialnethubs'\n",
      " 'esocialnetlike']\n"
     ]
    }
   ],
   "source": [
    "# Выведем уникальные значения столбца network_username для таблицы people\n",
    "print(people['network_username'].unique())"
   ]
  },
  {
   "cell_type": "code",
   "execution_count": 49,
   "metadata": {},
   "outputs": [
    {
     "name": "stdout",
     "output_type": "stream",
     "text": [
      "[nan 'greylockvc' 'imi_vc' ... 'CalSTRS' 'haystack_fund' 'fbFund']\n"
     ]
    }
   ],
   "source": [
    "# Выведем уникальные значения столбца network_username для таблицы fund\n",
    "print(fund['network_username'].unique())"
   ]
  },
  {
   "cell_type": "markdown",
   "metadata": {},
   "source": [
    "По полученным уникальным значениям на первый взгляд совпадений нет.\n",
    "\n",
    "Дополнительно проверим наличие значений каждого столбца в двух других с помощью метода isin()."
   ]
  },
  {
   "cell_type": "code",
   "execution_count": 50,
   "metadata": {},
   "outputs": [
    {
     "data": {
      "text/plain": [
       "0         False\n",
       "1         False\n",
       "2         False\n",
       "3          True\n",
       "4          True\n",
       "          ...  \n",
       "217769     True\n",
       "217770     True\n",
       "217771     True\n",
       "217772     True\n",
       "217773     True\n",
       "Name: network_username, Length: 217774, dtype: bool"
      ]
     },
     "execution_count": 50,
     "metadata": {},
     "output_type": "execute_result"
    }
   ],
   "source": [
    "# Проверим есть ли значение столбца network_username таблицы company_and_rounds в таблице people\n",
    "company_and_rounds['network_username'].isin(people['network_username'])"
   ]
  },
  {
   "cell_type": "code",
   "execution_count": 51,
   "metadata": {},
   "outputs": [
    {
     "data": {
      "text/plain": [
       "124734"
      ]
     },
     "execution_count": 51,
     "metadata": {},
     "output_type": "execute_result"
    }
   ],
   "source": [
    "# Посчитаем количество совпадений\n",
    "company_and_rounds['network_username'].isin(people['network_username']).sum()"
   ]
  },
  {
   "cell_type": "code",
   "execution_count": 52,
   "metadata": {},
   "outputs": [
    {
     "data": {
      "text/plain": [
       "0.5727680990384527"
      ]
     },
     "execution_count": 52,
     "metadata": {},
     "output_type": "execute_result"
    }
   ],
   "source": [
    "# Посчитаем долю от всех данных столбца\n",
    "company_and_rounds['network_username'].isin(people['network_username']).sum() / company_and_rounds.shape[0]"
   ]
  },
  {
   "cell_type": "code",
   "execution_count": 53,
   "metadata": {},
   "outputs": [
    {
     "data": {
      "text/plain": [
       "0         False\n",
       "1         False\n",
       "2         False\n",
       "3          True\n",
       "4          True\n",
       "          ...  \n",
       "217769     True\n",
       "217770     True\n",
       "217771     True\n",
       "217772     True\n",
       "217773     True\n",
       "Name: network_username, Length: 217774, dtype: bool"
      ]
     },
     "execution_count": 53,
     "metadata": {},
     "output_type": "execute_result"
    }
   ],
   "source": [
    "# Проверим есть ли значение столбца network_username таблицы company_and_rounds в таблице fund\n",
    "company_and_rounds['network_username'].isin(fund['network_username'])"
   ]
  },
  {
   "cell_type": "code",
   "execution_count": 54,
   "metadata": {},
   "outputs": [
    {
     "data": {
      "text/plain": [
       "122325"
      ]
     },
     "execution_count": 54,
     "metadata": {},
     "output_type": "execute_result"
    }
   ],
   "source": [
    "# Посчитаем количество совпадений\n",
    "company_and_rounds['network_username'].isin(fund['network_username']).sum()"
   ]
  },
  {
   "cell_type": "code",
   "execution_count": 55,
   "metadata": {},
   "outputs": [
    {
     "data": {
      "text/plain": [
       "0.561706172454012"
      ]
     },
     "execution_count": 55,
     "metadata": {},
     "output_type": "execute_result"
    }
   ],
   "source": [
    "# Посчитаем долю от всех данных столбца\n",
    "company_and_rounds['network_username'].isin(fund['network_username']).sum() / company_and_rounds.shape[0]"
   ]
  },
  {
   "cell_type": "code",
   "execution_count": 56,
   "metadata": {},
   "outputs": [
    {
     "data": {
      "text/plain": [
       "0          True\n",
       "1          True\n",
       "2          True\n",
       "3          True\n",
       "4          True\n",
       "          ...  \n",
       "226704     True\n",
       "226705    False\n",
       "226706    False\n",
       "226707    False\n",
       "226708    False\n",
       "Name: network_username, Length: 226709, dtype: bool"
      ]
     },
     "execution_count": 56,
     "metadata": {},
     "output_type": "execute_result"
    }
   ],
   "source": [
    "# Проверим есть ли значение столбца network_username таблицы people в таблице fund\n",
    "people['network_username'].isin(fund['network_username'])"
   ]
  },
  {
   "cell_type": "code",
   "execution_count": 57,
   "metadata": {},
   "outputs": [
    {
     "data": {
      "text/plain": [
       "187921"
      ]
     },
     "execution_count": 57,
     "metadata": {},
     "output_type": "execute_result"
    }
   ],
   "source": [
    "# Посчитаем количество совпадений\n",
    "people['network_username'].isin(fund['network_username']).sum()"
   ]
  },
  {
   "cell_type": "code",
   "execution_count": 58,
   "metadata": {},
   "outputs": [
    {
     "data": {
      "text/plain": [
       "0.8289084244560208"
      ]
     },
     "execution_count": 58,
     "metadata": {},
     "output_type": "execute_result"
    }
   ],
   "source": [
    "# Посчитаем долю от всех данных столбца\n",
    "people['network_username'].isin(fund['network_username']).sum() / people.shape[0]"
   ]
  },
  {
   "cell_type": "markdown",
   "metadata": {},
   "source": [
    "По полученным данным видим, что число совпадений достаточно большое и процент совпадений во всех случаях превышает 50%.\n",
    "\n",
    "Но по выведенным ранее уникальным значения видим, в каждом из этих столбцов имеются значения `nan`, значит в каждом столбце есть пропуски.\n",
    "\n",
    "Посчитаем количество пропусков в данных столбцах, чтобы проверить гипотезу о том, что совпадающие значения есть пропуски."
   ]
  },
  {
   "cell_type": "code",
   "execution_count": 59,
   "metadata": {},
   "outputs": [
    {
     "data": {
      "text/plain": [
       "122240"
      ]
     },
     "execution_count": 59,
     "metadata": {},
     "output_type": "execute_result"
    }
   ],
   "source": [
    "# Проверим количество пропусков в столбце network_username таблицы company_and_rounds\n",
    "company_and_rounds['network_username'].isna().sum()"
   ]
  },
  {
   "cell_type": "code",
   "execution_count": 60,
   "metadata": {},
   "outputs": [
    {
     "data": {
      "text/plain": [
       "187842"
      ]
     },
     "execution_count": 60,
     "metadata": {},
     "output_type": "execute_result"
    }
   ],
   "source": [
    "# Проверим количество пропусков в столбце network_username таблицы people\n",
    "people['network_username'].isna().sum()"
   ]
  },
  {
   "cell_type": "code",
   "execution_count": 61,
   "metadata": {},
   "outputs": [
    {
     "data": {
      "text/plain": [
       "9503"
      ]
     },
     "execution_count": 61,
     "metadata": {},
     "output_type": "execute_result"
    }
   ],
   "source": [
    "# Проверим количество пропусков в столбце network_username таблицы fund\n",
    "fund['network_username'].isna().sum()"
   ]
  },
  {
   "cell_type": "markdown",
   "metadata": {},
   "source": [
    "По итогам расчетов получили, что в столбце `network_username` таблицы `company_and_rounds` **124734** совпадений со столбцом из таблицы `people` и **122325** совпадений из таблицы `fund`. Всего же в столбце `network_username` таблицы `company_and_rounds` **122240** пропуска, то есть точных совпадений мало.\n",
    "\n",
    "А если сравнить таблицы `people` и `fund`, то получим **187921** совпадений, при этом в этом столбце таблицы `people` всего **187842** пропуска, то есть точных совпадений очень мало.\n",
    "\n",
    "Учитывая малое количество точных совпадений данных в столбцах `network_username` таблиц `company_and_rounds`, `people` и `fund` приходим к выводу, что нельзя использовать этот столбец для объединения таблиц."
   ]
  },
  {
   "cell_type": "markdown",
   "metadata": {
    "id": "EHcODomVrJg1"
   },
   "source": [
    "\n",
    "### 2.4. Проблемный датасет и причина возникновения пропусков\n",
    "\n"
   ]
  },
  {
   "cell_type": "code",
   "execution_count": 62,
   "metadata": {},
   "outputs": [
    {
     "data": {
      "text/html": [
       "<div>\n",
       "<style scoped>\n",
       "    .dataframe tbody tr th:only-of-type {\n",
       "        vertical-align: middle;\n",
       "    }\n",
       "\n",
       "    .dataframe tbody tr th {\n",
       "        vertical-align: top;\n",
       "    }\n",
       "\n",
       "    .dataframe thead th {\n",
       "        text-align: right;\n",
       "    }\n",
       "</style>\n",
       "<table border=\"1\" class=\"dataframe\">\n",
       "  <thead>\n",
       "    <tr style=\"text-align: right;\">\n",
       "      <th></th>\n",
       "      <th>company_ID</th>\n",
       "      <th>name</th>\n",
       "      <th>category_code</th>\n",
       "      <th>status</th>\n",
       "      <th>founded_at</th>\n",
       "      <th>closed_at</th>\n",
       "      <th>domain</th>\n",
       "      <th>network_username</th>\n",
       "      <th>country_code</th>\n",
       "      <th>investment_rounds</th>\n",
       "      <th>...</th>\n",
       "      <th>funding_round_id</th>\n",
       "      <th>company_id</th>\n",
       "      <th>funded_at</th>\n",
       "      <th>funding_round_type</th>\n",
       "      <th>raised_amount</th>\n",
       "      <th>pre_money_valuation</th>\n",
       "      <th>participants</th>\n",
       "      <th>is_first_round</th>\n",
       "      <th>is_last_round</th>\n",
       "      <th>funded_year</th>\n",
       "    </tr>\n",
       "  </thead>\n",
       "  <tbody>\n",
       "    <tr>\n",
       "      <th>0</th>\n",
       "      <td>1.0</td>\n",
       "      <td>Wetpaint</td>\n",
       "      <td>web</td>\n",
       "      <td>operating</td>\n",
       "      <td>2005-10-17</td>\n",
       "      <td>NaT</td>\n",
       "      <td>wetpaint-inc.com</td>\n",
       "      <td>BachelrWetpaint</td>\n",
       "      <td>USA</td>\n",
       "      <td>0.0</td>\n",
       "      <td>...</td>\n",
       "      <td>888.0</td>\n",
       "      <td>1.0</td>\n",
       "      <td>2005-10-01</td>\n",
       "      <td>series-a</td>\n",
       "      <td>5250000.0</td>\n",
       "      <td>0.0</td>\n",
       "      <td>2.0</td>\n",
       "      <td>0.0</td>\n",
       "      <td>1.0</td>\n",
       "      <td>2005.0</td>\n",
       "    </tr>\n",
       "    <tr>\n",
       "      <th>1</th>\n",
       "      <td>1.0</td>\n",
       "      <td>Wetpaint</td>\n",
       "      <td>web</td>\n",
       "      <td>operating</td>\n",
       "      <td>2005-10-17</td>\n",
       "      <td>NaT</td>\n",
       "      <td>wetpaint-inc.com</td>\n",
       "      <td>BachelrWetpaint</td>\n",
       "      <td>USA</td>\n",
       "      <td>0.0</td>\n",
       "      <td>...</td>\n",
       "      <td>889.0</td>\n",
       "      <td>1.0</td>\n",
       "      <td>2007-01-01</td>\n",
       "      <td>series-b</td>\n",
       "      <td>9500000.0</td>\n",
       "      <td>0.0</td>\n",
       "      <td>3.0</td>\n",
       "      <td>0.0</td>\n",
       "      <td>0.0</td>\n",
       "      <td>2007.0</td>\n",
       "    </tr>\n",
       "    <tr>\n",
       "      <th>2</th>\n",
       "      <td>1.0</td>\n",
       "      <td>Wetpaint</td>\n",
       "      <td>web</td>\n",
       "      <td>operating</td>\n",
       "      <td>2005-10-17</td>\n",
       "      <td>NaT</td>\n",
       "      <td>wetpaint-inc.com</td>\n",
       "      <td>BachelrWetpaint</td>\n",
       "      <td>USA</td>\n",
       "      <td>0.0</td>\n",
       "      <td>...</td>\n",
       "      <td>2312.0</td>\n",
       "      <td>1.0</td>\n",
       "      <td>2008-05-19</td>\n",
       "      <td>series-c+</td>\n",
       "      <td>25000000.0</td>\n",
       "      <td>0.0</td>\n",
       "      <td>4.0</td>\n",
       "      <td>1.0</td>\n",
       "      <td>0.0</td>\n",
       "      <td>2008.0</td>\n",
       "    </tr>\n",
       "    <tr>\n",
       "      <th>3</th>\n",
       "      <td>10.0</td>\n",
       "      <td>Flektor</td>\n",
       "      <td>games_video</td>\n",
       "      <td>acquired</td>\n",
       "      <td>NaT</td>\n",
       "      <td>NaT</td>\n",
       "      <td>flektor.com</td>\n",
       "      <td>NaN</td>\n",
       "      <td>USA</td>\n",
       "      <td>0.0</td>\n",
       "      <td>...</td>\n",
       "      <td>NaN</td>\n",
       "      <td>NaN</td>\n",
       "      <td>NaT</td>\n",
       "      <td>NaN</td>\n",
       "      <td>NaN</td>\n",
       "      <td>NaN</td>\n",
       "      <td>NaN</td>\n",
       "      <td>NaN</td>\n",
       "      <td>NaN</td>\n",
       "      <td>NaN</td>\n",
       "    </tr>\n",
       "    <tr>\n",
       "      <th>4</th>\n",
       "      <td>100.0</td>\n",
       "      <td>There</td>\n",
       "      <td>games_video</td>\n",
       "      <td>acquired</td>\n",
       "      <td>NaT</td>\n",
       "      <td>NaT</td>\n",
       "      <td>there.com</td>\n",
       "      <td>NaN</td>\n",
       "      <td>USA</td>\n",
       "      <td>0.0</td>\n",
       "      <td>...</td>\n",
       "      <td>NaN</td>\n",
       "      <td>NaN</td>\n",
       "      <td>NaT</td>\n",
       "      <td>NaN</td>\n",
       "      <td>NaN</td>\n",
       "      <td>NaN</td>\n",
       "      <td>NaN</td>\n",
       "      <td>NaN</td>\n",
       "      <td>NaN</td>\n",
       "      <td>NaN</td>\n",
       "    </tr>\n",
       "    <tr>\n",
       "      <th>5</th>\n",
       "      <td>10000.0</td>\n",
       "      <td>MYWEBBO</td>\n",
       "      <td>network_hosting</td>\n",
       "      <td>operating</td>\n",
       "      <td>2008-07-26</td>\n",
       "      <td>NaT</td>\n",
       "      <td>mywebbo.com</td>\n",
       "      <td>NaN</td>\n",
       "      <td>NaN</td>\n",
       "      <td>0.0</td>\n",
       "      <td>...</td>\n",
       "      <td>NaN</td>\n",
       "      <td>NaN</td>\n",
       "      <td>NaT</td>\n",
       "      <td>NaN</td>\n",
       "      <td>NaN</td>\n",
       "      <td>NaN</td>\n",
       "      <td>NaN</td>\n",
       "      <td>NaN</td>\n",
       "      <td>NaN</td>\n",
       "      <td>NaN</td>\n",
       "    </tr>\n",
       "    <tr>\n",
       "      <th>6</th>\n",
       "      <td>10001.0</td>\n",
       "      <td>THE Movie Streamer</td>\n",
       "      <td>games_video</td>\n",
       "      <td>operating</td>\n",
       "      <td>2008-07-26</td>\n",
       "      <td>NaT</td>\n",
       "      <td>themoviestreamer.com</td>\n",
       "      <td>NaN</td>\n",
       "      <td>NaN</td>\n",
       "      <td>0.0</td>\n",
       "      <td>...</td>\n",
       "      <td>NaN</td>\n",
       "      <td>NaN</td>\n",
       "      <td>NaT</td>\n",
       "      <td>NaN</td>\n",
       "      <td>NaN</td>\n",
       "      <td>NaN</td>\n",
       "      <td>NaN</td>\n",
       "      <td>NaN</td>\n",
       "      <td>NaN</td>\n",
       "      <td>NaN</td>\n",
       "    </tr>\n",
       "    <tr>\n",
       "      <th>7</th>\n",
       "      <td>10002.0</td>\n",
       "      <td>Synergie Media</td>\n",
       "      <td>advertising</td>\n",
       "      <td>operating</td>\n",
       "      <td>2007-06-27</td>\n",
       "      <td>NaT</td>\n",
       "      <td>synergie-media.com</td>\n",
       "      <td>NaN</td>\n",
       "      <td>MAR</td>\n",
       "      <td>0.0</td>\n",
       "      <td>...</td>\n",
       "      <td>NaN</td>\n",
       "      <td>NaN</td>\n",
       "      <td>NaT</td>\n",
       "      <td>NaN</td>\n",
       "      <td>NaN</td>\n",
       "      <td>NaN</td>\n",
       "      <td>NaN</td>\n",
       "      <td>NaN</td>\n",
       "      <td>NaN</td>\n",
       "      <td>NaN</td>\n",
       "    </tr>\n",
       "    <tr>\n",
       "      <th>8</th>\n",
       "      <td>10003.0</td>\n",
       "      <td>Green Basti Ecosystems</td>\n",
       "      <td>cleantech</td>\n",
       "      <td>operating</td>\n",
       "      <td>2008-08-20</td>\n",
       "      <td>NaT</td>\n",
       "      <td>NaN</td>\n",
       "      <td>NaN</td>\n",
       "      <td>IND</td>\n",
       "      <td>0.0</td>\n",
       "      <td>...</td>\n",
       "      <td>NaN</td>\n",
       "      <td>NaN</td>\n",
       "      <td>NaT</td>\n",
       "      <td>NaN</td>\n",
       "      <td>NaN</td>\n",
       "      <td>NaN</td>\n",
       "      <td>NaN</td>\n",
       "      <td>NaN</td>\n",
       "      <td>NaN</td>\n",
       "      <td>NaN</td>\n",
       "    </tr>\n",
       "    <tr>\n",
       "      <th>9</th>\n",
       "      <td>100042.0</td>\n",
       "      <td>HostNine</td>\n",
       "      <td>NaN</td>\n",
       "      <td>operating</td>\n",
       "      <td>NaT</td>\n",
       "      <td>NaT</td>\n",
       "      <td>hostnine.com</td>\n",
       "      <td>Hostnine</td>\n",
       "      <td>NaN</td>\n",
       "      <td>0.0</td>\n",
       "      <td>...</td>\n",
       "      <td>NaN</td>\n",
       "      <td>NaN</td>\n",
       "      <td>NaT</td>\n",
       "      <td>NaN</td>\n",
       "      <td>NaN</td>\n",
       "      <td>NaN</td>\n",
       "      <td>NaN</td>\n",
       "      <td>NaN</td>\n",
       "      <td>NaN</td>\n",
       "      <td>NaN</td>\n",
       "    </tr>\n",
       "    <tr>\n",
       "      <th>10</th>\n",
       "      <td>10005.0</td>\n",
       "      <td>Thomas Publishing</td>\n",
       "      <td>advertising</td>\n",
       "      <td>operating</td>\n",
       "      <td>NaT</td>\n",
       "      <td>NaT</td>\n",
       "      <td>thomaspublishing.com</td>\n",
       "      <td>NaN</td>\n",
       "      <td>USA</td>\n",
       "      <td>0.0</td>\n",
       "      <td>...</td>\n",
       "      <td>NaN</td>\n",
       "      <td>NaN</td>\n",
       "      <td>NaT</td>\n",
       "      <td>NaN</td>\n",
       "      <td>NaN</td>\n",
       "      <td>NaN</td>\n",
       "      <td>NaN</td>\n",
       "      <td>NaN</td>\n",
       "      <td>NaN</td>\n",
       "      <td>NaN</td>\n",
       "    </tr>\n",
       "    <tr>\n",
       "      <th>11</th>\n",
       "      <td>100062.0</td>\n",
       "      <td>Vetter Idea Management System</td>\n",
       "      <td>enterprise</td>\n",
       "      <td>operating</td>\n",
       "      <td>2011-08-01</td>\n",
       "      <td>NaT</td>\n",
       "      <td>getvetter.com</td>\n",
       "      <td>getvetter</td>\n",
       "      <td>NaN</td>\n",
       "      <td>0.0</td>\n",
       "      <td>...</td>\n",
       "      <td>NaN</td>\n",
       "      <td>NaN</td>\n",
       "      <td>NaT</td>\n",
       "      <td>NaN</td>\n",
       "      <td>NaN</td>\n",
       "      <td>NaN</td>\n",
       "      <td>NaN</td>\n",
       "      <td>NaN</td>\n",
       "      <td>NaN</td>\n",
       "      <td>NaN</td>\n",
       "    </tr>\n",
       "    <tr>\n",
       "      <th>12</th>\n",
       "      <td>100068.0</td>\n",
       "      <td>ChatRandom</td>\n",
       "      <td>games_video</td>\n",
       "      <td>operating</td>\n",
       "      <td>2011-02-01</td>\n",
       "      <td>NaT</td>\n",
       "      <td>chatrandom.com</td>\n",
       "      <td>chatrandom</td>\n",
       "      <td>NaN</td>\n",
       "      <td>0.0</td>\n",
       "      <td>...</td>\n",
       "      <td>NaN</td>\n",
       "      <td>NaN</td>\n",
       "      <td>NaT</td>\n",
       "      <td>NaN</td>\n",
       "      <td>NaN</td>\n",
       "      <td>NaN</td>\n",
       "      <td>NaN</td>\n",
       "      <td>NaN</td>\n",
       "      <td>NaN</td>\n",
       "      <td>NaN</td>\n",
       "    </tr>\n",
       "    <tr>\n",
       "      <th>13</th>\n",
       "      <td>10008.0</td>\n",
       "      <td>ScapadasAmorosas</td>\n",
       "      <td>other</td>\n",
       "      <td>operating</td>\n",
       "      <td>2007-03-01</td>\n",
       "      <td>NaT</td>\n",
       "      <td>scapadasamorosas.com</td>\n",
       "      <td>NaN</td>\n",
       "      <td>NaN</td>\n",
       "      <td>0.0</td>\n",
       "      <td>...</td>\n",
       "      <td>NaN</td>\n",
       "      <td>NaN</td>\n",
       "      <td>NaT</td>\n",
       "      <td>NaN</td>\n",
       "      <td>NaN</td>\n",
       "      <td>NaN</td>\n",
       "      <td>NaN</td>\n",
       "      <td>NaN</td>\n",
       "      <td>NaN</td>\n",
       "      <td>NaN</td>\n",
       "    </tr>\n",
       "    <tr>\n",
       "      <th>14</th>\n",
       "      <td>10009.0</td>\n",
       "      <td>dimension5 labs</td>\n",
       "      <td>advertising</td>\n",
       "      <td>operating</td>\n",
       "      <td>2008-08-01</td>\n",
       "      <td>NaT</td>\n",
       "      <td>d5labs.com</td>\n",
       "      <td>NaN</td>\n",
       "      <td>USA</td>\n",
       "      <td>0.0</td>\n",
       "      <td>...</td>\n",
       "      <td>NaN</td>\n",
       "      <td>NaN</td>\n",
       "      <td>NaT</td>\n",
       "      <td>NaN</td>\n",
       "      <td>NaN</td>\n",
       "      <td>NaN</td>\n",
       "      <td>NaN</td>\n",
       "      <td>NaN</td>\n",
       "      <td>NaN</td>\n",
       "      <td>NaN</td>\n",
       "    </tr>\n",
       "    <tr>\n",
       "      <th>15</th>\n",
       "      <td>1001.0</td>\n",
       "      <td>FriendFeed</td>\n",
       "      <td>web</td>\n",
       "      <td>acquired</td>\n",
       "      <td>2007-10-01</td>\n",
       "      <td>NaT</td>\n",
       "      <td>friendfeed.com</td>\n",
       "      <td>friendfeed</td>\n",
       "      <td>USA</td>\n",
       "      <td>0.0</td>\n",
       "      <td>...</td>\n",
       "      <td>1644.0</td>\n",
       "      <td>1001.0</td>\n",
       "      <td>2008-02-26</td>\n",
       "      <td>series-a</td>\n",
       "      <td>5000000.0</td>\n",
       "      <td>0.0</td>\n",
       "      <td>3.0</td>\n",
       "      <td>1.0</td>\n",
       "      <td>1.0</td>\n",
       "      <td>2008.0</td>\n",
       "    </tr>\n",
       "    <tr>\n",
       "      <th>16</th>\n",
       "      <td>10010.0</td>\n",
       "      <td>Whooligan</td>\n",
       "      <td>games_video</td>\n",
       "      <td>operating</td>\n",
       "      <td>2007-12-01</td>\n",
       "      <td>NaT</td>\n",
       "      <td>whooligan.com</td>\n",
       "      <td>NaN</td>\n",
       "      <td>NaN</td>\n",
       "      <td>0.0</td>\n",
       "      <td>...</td>\n",
       "      <td>NaN</td>\n",
       "      <td>NaN</td>\n",
       "      <td>NaT</td>\n",
       "      <td>NaN</td>\n",
       "      <td>NaN</td>\n",
       "      <td>NaN</td>\n",
       "      <td>NaN</td>\n",
       "      <td>NaN</td>\n",
       "      <td>NaN</td>\n",
       "      <td>NaN</td>\n",
       "    </tr>\n",
       "    <tr>\n",
       "      <th>17</th>\n",
       "      <td>10011.0</td>\n",
       "      <td>PoetryVisualized.com</td>\n",
       "      <td>games_video</td>\n",
       "      <td>operating</td>\n",
       "      <td>2008-01-01</td>\n",
       "      <td>NaT</td>\n",
       "      <td>poetryvisualized.com</td>\n",
       "      <td>NaN</td>\n",
       "      <td>USA</td>\n",
       "      <td>0.0</td>\n",
       "      <td>...</td>\n",
       "      <td>NaN</td>\n",
       "      <td>NaN</td>\n",
       "      <td>NaT</td>\n",
       "      <td>NaN</td>\n",
       "      <td>NaN</td>\n",
       "      <td>NaN</td>\n",
       "      <td>NaN</td>\n",
       "      <td>NaN</td>\n",
       "      <td>NaN</td>\n",
       "      <td>NaN</td>\n",
       "    </tr>\n",
       "    <tr>\n",
       "      <th>18</th>\n",
       "      <td>10012.0</td>\n",
       "      <td>moviestring.com</td>\n",
       "      <td>games_video</td>\n",
       "      <td>closed</td>\n",
       "      <td>2008-08-22</td>\n",
       "      <td>2010-01-01</td>\n",
       "      <td>moviestring.com</td>\n",
       "      <td>NaN</td>\n",
       "      <td>NaN</td>\n",
       "      <td>0.0</td>\n",
       "      <td>...</td>\n",
       "      <td>NaN</td>\n",
       "      <td>NaN</td>\n",
       "      <td>NaT</td>\n",
       "      <td>NaN</td>\n",
       "      <td>NaN</td>\n",
       "      <td>NaN</td>\n",
       "      <td>NaN</td>\n",
       "      <td>NaN</td>\n",
       "      <td>NaN</td>\n",
       "      <td>NaN</td>\n",
       "    </tr>\n",
       "    <tr>\n",
       "      <th>19</th>\n",
       "      <td>10013.0</td>\n",
       "      <td>The Adory</td>\n",
       "      <td>consulting</td>\n",
       "      <td>operating</td>\n",
       "      <td>2008-01-01</td>\n",
       "      <td>NaT</td>\n",
       "      <td>theadory.com</td>\n",
       "      <td>the_adory</td>\n",
       "      <td>NaN</td>\n",
       "      <td>0.0</td>\n",
       "      <td>...</td>\n",
       "      <td>NaN</td>\n",
       "      <td>NaN</td>\n",
       "      <td>NaT</td>\n",
       "      <td>NaN</td>\n",
       "      <td>NaN</td>\n",
       "      <td>NaN</td>\n",
       "      <td>NaN</td>\n",
       "      <td>NaN</td>\n",
       "      <td>NaN</td>\n",
       "      <td>NaN</td>\n",
       "    </tr>\n",
       "  </tbody>\n",
       "</table>\n",
       "<p>20 rows × 23 columns</p>\n",
       "</div>"
      ],
      "text/plain": [
       "    company_ID                           name    category_code     status  \\\n",
       "0          1.0                       Wetpaint              web  operating   \n",
       "1          1.0                       Wetpaint              web  operating   \n",
       "2          1.0                       Wetpaint              web  operating   \n",
       "3         10.0                        Flektor      games_video   acquired   \n",
       "4        100.0                          There      games_video   acquired   \n",
       "5      10000.0                        MYWEBBO  network_hosting  operating   \n",
       "6      10001.0             THE Movie Streamer      games_video  operating   \n",
       "7      10002.0                 Synergie Media      advertising  operating   \n",
       "8      10003.0         Green Basti Ecosystems        cleantech  operating   \n",
       "9     100042.0                       HostNine              NaN  operating   \n",
       "10     10005.0              Thomas Publishing      advertising  operating   \n",
       "11    100062.0  Vetter Idea Management System       enterprise  operating   \n",
       "12    100068.0                     ChatRandom      games_video  operating   \n",
       "13     10008.0               ScapadasAmorosas            other  operating   \n",
       "14     10009.0                dimension5 labs      advertising  operating   \n",
       "15      1001.0                     FriendFeed              web   acquired   \n",
       "16     10010.0                      Whooligan      games_video  operating   \n",
       "17     10011.0           PoetryVisualized.com      games_video  operating   \n",
       "18     10012.0                moviestring.com      games_video     closed   \n",
       "19     10013.0                      The Adory       consulting  operating   \n",
       "\n",
       "   founded_at  closed_at                domain network_username country_code  \\\n",
       "0  2005-10-17        NaT      wetpaint-inc.com  BachelrWetpaint          USA   \n",
       "1  2005-10-17        NaT      wetpaint-inc.com  BachelrWetpaint          USA   \n",
       "2  2005-10-17        NaT      wetpaint-inc.com  BachelrWetpaint          USA   \n",
       "3         NaT        NaT           flektor.com              NaN          USA   \n",
       "4         NaT        NaT             there.com              NaN          USA   \n",
       "5  2008-07-26        NaT           mywebbo.com              NaN          NaN   \n",
       "6  2008-07-26        NaT  themoviestreamer.com              NaN          NaN   \n",
       "7  2007-06-27        NaT    synergie-media.com              NaN          MAR   \n",
       "8  2008-08-20        NaT                   NaN              NaN          IND   \n",
       "9         NaT        NaT          hostnine.com         Hostnine          NaN   \n",
       "10        NaT        NaT  thomaspublishing.com              NaN          USA   \n",
       "11 2011-08-01        NaT         getvetter.com        getvetter          NaN   \n",
       "12 2011-02-01        NaT        chatrandom.com       chatrandom          NaN   \n",
       "13 2007-03-01        NaT  scapadasamorosas.com              NaN          NaN   \n",
       "14 2008-08-01        NaT            d5labs.com              NaN          USA   \n",
       "15 2007-10-01        NaT        friendfeed.com       friendfeed          USA   \n",
       "16 2007-12-01        NaT         whooligan.com              NaN          NaN   \n",
       "17 2008-01-01        NaT  poetryvisualized.com              NaN          USA   \n",
       "18 2008-08-22 2010-01-01       moviestring.com              NaN          NaN   \n",
       "19 2008-01-01        NaT          theadory.com        the_adory          NaN   \n",
       "\n",
       "    investment_rounds  ...  funding_round_id  company_id  funded_at  \\\n",
       "0                 0.0  ...             888.0         1.0 2005-10-01   \n",
       "1                 0.0  ...             889.0         1.0 2007-01-01   \n",
       "2                 0.0  ...            2312.0         1.0 2008-05-19   \n",
       "3                 0.0  ...               NaN         NaN        NaT   \n",
       "4                 0.0  ...               NaN         NaN        NaT   \n",
       "5                 0.0  ...               NaN         NaN        NaT   \n",
       "6                 0.0  ...               NaN         NaN        NaT   \n",
       "7                 0.0  ...               NaN         NaN        NaT   \n",
       "8                 0.0  ...               NaN         NaN        NaT   \n",
       "9                 0.0  ...               NaN         NaN        NaT   \n",
       "10                0.0  ...               NaN         NaN        NaT   \n",
       "11                0.0  ...               NaN         NaN        NaT   \n",
       "12                0.0  ...               NaN         NaN        NaT   \n",
       "13                0.0  ...               NaN         NaN        NaT   \n",
       "14                0.0  ...               NaN         NaN        NaT   \n",
       "15                0.0  ...            1644.0      1001.0 2008-02-26   \n",
       "16                0.0  ...               NaN         NaN        NaT   \n",
       "17                0.0  ...               NaN         NaN        NaT   \n",
       "18                0.0  ...               NaN         NaN        NaT   \n",
       "19                0.0  ...               NaN         NaN        NaT   \n",
       "\n",
       "    funding_round_type  raised_amount pre_money_valuation participants  \\\n",
       "0             series-a      5250000.0                 0.0          2.0   \n",
       "1             series-b      9500000.0                 0.0          3.0   \n",
       "2            series-c+     25000000.0                 0.0          4.0   \n",
       "3                  NaN            NaN                 NaN          NaN   \n",
       "4                  NaN            NaN                 NaN          NaN   \n",
       "5                  NaN            NaN                 NaN          NaN   \n",
       "6                  NaN            NaN                 NaN          NaN   \n",
       "7                  NaN            NaN                 NaN          NaN   \n",
       "8                  NaN            NaN                 NaN          NaN   \n",
       "9                  NaN            NaN                 NaN          NaN   \n",
       "10                 NaN            NaN                 NaN          NaN   \n",
       "11                 NaN            NaN                 NaN          NaN   \n",
       "12                 NaN            NaN                 NaN          NaN   \n",
       "13                 NaN            NaN                 NaN          NaN   \n",
       "14                 NaN            NaN                 NaN          NaN   \n",
       "15            series-a      5000000.0                 0.0          3.0   \n",
       "16                 NaN            NaN                 NaN          NaN   \n",
       "17                 NaN            NaN                 NaN          NaN   \n",
       "18                 NaN            NaN                 NaN          NaN   \n",
       "19                 NaN            NaN                 NaN          NaN   \n",
       "\n",
       "    is_first_round  is_last_round  funded_year  \n",
       "0              0.0            1.0       2005.0  \n",
       "1              0.0            0.0       2007.0  \n",
       "2              1.0            0.0       2008.0  \n",
       "3              NaN            NaN          NaN  \n",
       "4              NaN            NaN          NaN  \n",
       "5              NaN            NaN          NaN  \n",
       "6              NaN            NaN          NaN  \n",
       "7              NaN            NaN          NaN  \n",
       "8              NaN            NaN          NaN  \n",
       "9              NaN            NaN          NaN  \n",
       "10             NaN            NaN          NaN  \n",
       "11             NaN            NaN          NaN  \n",
       "12             NaN            NaN          NaN  \n",
       "13             NaN            NaN          NaN  \n",
       "14             NaN            NaN          NaN  \n",
       "15             1.0            1.0       2008.0  \n",
       "16             NaN            NaN          NaN  \n",
       "17             NaN            NaN          NaN  \n",
       "18             NaN            NaN          NaN  \n",
       "19             NaN            NaN          NaN  \n",
       "\n",
       "[20 rows x 23 columns]"
      ]
     },
     "execution_count": 62,
     "metadata": {},
     "output_type": "execute_result"
    }
   ],
   "source": [
    "# Посмотрим еще раз на данные в датасете company_and_rounds\n",
    "company_and_rounds.head(20)"
   ]
  },
  {
   "cell_type": "markdown",
   "metadata": {
    "id": "oSk7xqu_FbaN"
   },
   "source": [
    "Видим, что в данном датасете много пропусков. \n",
    "\n",
    "Поднимем информацию о пропусках в данном датасете: пропуски находятся во всех столбцах и количество пропусков варьируется от 0,1% до 76% от общего количества данных.\n",
    "\n",
    "В данном датасете находятся данные как в общем о компании (название, сайт, ник в сети, область деятельности, статус и код страны), так и информация непосредственно о финансировании (дата финансирования, количество раундов, общая сумма финансироания и сумма финансирования в одном раунде).\n",
    "\n",
    "Заказчик считает, что раньше данные, содержащиеся в этом датасете, хранились по другому. Об этом может говорить задублировавшийся столбец `company_id` в середине таблицы.\n",
    "\n",
    "Разделим датасет на два новых, в одном будут содержаться данные в общем по компаниям, а во втором вся информация о финансировании.\n"
   ]
  },
  {
   "cell_type": "code",
   "execution_count": 63,
   "metadata": {
    "id": "9BY9lTUcFbJ-"
   },
   "outputs": [
    {
     "data": {
      "text/html": [
       "<div>\n",
       "<style scoped>\n",
       "    .dataframe tbody tr th:only-of-type {\n",
       "        vertical-align: middle;\n",
       "    }\n",
       "\n",
       "    .dataframe tbody tr th {\n",
       "        vertical-align: top;\n",
       "    }\n",
       "\n",
       "    .dataframe thead th {\n",
       "        text-align: right;\n",
       "    }\n",
       "</style>\n",
       "<table border=\"1\" class=\"dataframe\">\n",
       "  <thead>\n",
       "    <tr style=\"text-align: right;\">\n",
       "      <th></th>\n",
       "      <th>company_ID</th>\n",
       "      <th>name</th>\n",
       "      <th>category_code</th>\n",
       "      <th>status</th>\n",
       "      <th>founded_at</th>\n",
       "      <th>closed_at</th>\n",
       "      <th>domain</th>\n",
       "      <th>network_username</th>\n",
       "      <th>country_code</th>\n",
       "      <th>investment_rounds</th>\n",
       "      <th>funding_rounds</th>\n",
       "      <th>funding_total</th>\n",
       "      <th>milestones</th>\n",
       "    </tr>\n",
       "  </thead>\n",
       "  <tbody>\n",
       "    <tr>\n",
       "      <th>0</th>\n",
       "      <td>1.0</td>\n",
       "      <td>Wetpaint</td>\n",
       "      <td>web</td>\n",
       "      <td>operating</td>\n",
       "      <td>2005-10-17</td>\n",
       "      <td>NaT</td>\n",
       "      <td>wetpaint-inc.com</td>\n",
       "      <td>BachelrWetpaint</td>\n",
       "      <td>USA</td>\n",
       "      <td>0.0</td>\n",
       "      <td>3.0</td>\n",
       "      <td>39750000.0</td>\n",
       "      <td>5.0</td>\n",
       "    </tr>\n",
       "    <tr>\n",
       "      <th>1</th>\n",
       "      <td>1.0</td>\n",
       "      <td>Wetpaint</td>\n",
       "      <td>web</td>\n",
       "      <td>operating</td>\n",
       "      <td>2005-10-17</td>\n",
       "      <td>NaT</td>\n",
       "      <td>wetpaint-inc.com</td>\n",
       "      <td>BachelrWetpaint</td>\n",
       "      <td>USA</td>\n",
       "      <td>0.0</td>\n",
       "      <td>3.0</td>\n",
       "      <td>39750000.0</td>\n",
       "      <td>5.0</td>\n",
       "    </tr>\n",
       "    <tr>\n",
       "      <th>2</th>\n",
       "      <td>1.0</td>\n",
       "      <td>Wetpaint</td>\n",
       "      <td>web</td>\n",
       "      <td>operating</td>\n",
       "      <td>2005-10-17</td>\n",
       "      <td>NaT</td>\n",
       "      <td>wetpaint-inc.com</td>\n",
       "      <td>BachelrWetpaint</td>\n",
       "      <td>USA</td>\n",
       "      <td>0.0</td>\n",
       "      <td>3.0</td>\n",
       "      <td>39750000.0</td>\n",
       "      <td>5.0</td>\n",
       "    </tr>\n",
       "    <tr>\n",
       "      <th>3</th>\n",
       "      <td>10.0</td>\n",
       "      <td>Flektor</td>\n",
       "      <td>games_video</td>\n",
       "      <td>acquired</td>\n",
       "      <td>NaT</td>\n",
       "      <td>NaT</td>\n",
       "      <td>flektor.com</td>\n",
       "      <td>NaN</td>\n",
       "      <td>USA</td>\n",
       "      <td>0.0</td>\n",
       "      <td>0.0</td>\n",
       "      <td>0.0</td>\n",
       "      <td>0.0</td>\n",
       "    </tr>\n",
       "    <tr>\n",
       "      <th>4</th>\n",
       "      <td>100.0</td>\n",
       "      <td>There</td>\n",
       "      <td>games_video</td>\n",
       "      <td>acquired</td>\n",
       "      <td>NaT</td>\n",
       "      <td>NaT</td>\n",
       "      <td>there.com</td>\n",
       "      <td>NaN</td>\n",
       "      <td>USA</td>\n",
       "      <td>0.0</td>\n",
       "      <td>0.0</td>\n",
       "      <td>0.0</td>\n",
       "      <td>4.0</td>\n",
       "    </tr>\n",
       "    <tr>\n",
       "      <th>...</th>\n",
       "      <td>...</td>\n",
       "      <td>...</td>\n",
       "      <td>...</td>\n",
       "      <td>...</td>\n",
       "      <td>...</td>\n",
       "      <td>...</td>\n",
       "      <td>...</td>\n",
       "      <td>...</td>\n",
       "      <td>...</td>\n",
       "      <td>...</td>\n",
       "      <td>...</td>\n",
       "      <td>...</td>\n",
       "      <td>...</td>\n",
       "    </tr>\n",
       "    <tr>\n",
       "      <th>217769</th>\n",
       "      <td>NaN</td>\n",
       "      <td>NaN</td>\n",
       "      <td>NaN</td>\n",
       "      <td>NaN</td>\n",
       "      <td>NaT</td>\n",
       "      <td>NaT</td>\n",
       "      <td>NaN</td>\n",
       "      <td>NaN</td>\n",
       "      <td>NaN</td>\n",
       "      <td>NaN</td>\n",
       "      <td>NaN</td>\n",
       "      <td>NaN</td>\n",
       "      <td>NaN</td>\n",
       "    </tr>\n",
       "    <tr>\n",
       "      <th>217770</th>\n",
       "      <td>NaN</td>\n",
       "      <td>NaN</td>\n",
       "      <td>NaN</td>\n",
       "      <td>NaN</td>\n",
       "      <td>NaT</td>\n",
       "      <td>NaT</td>\n",
       "      <td>NaN</td>\n",
       "      <td>NaN</td>\n",
       "      <td>NaN</td>\n",
       "      <td>NaN</td>\n",
       "      <td>NaN</td>\n",
       "      <td>NaN</td>\n",
       "      <td>NaN</td>\n",
       "    </tr>\n",
       "    <tr>\n",
       "      <th>217771</th>\n",
       "      <td>NaN</td>\n",
       "      <td>NaN</td>\n",
       "      <td>NaN</td>\n",
       "      <td>NaN</td>\n",
       "      <td>NaT</td>\n",
       "      <td>NaT</td>\n",
       "      <td>NaN</td>\n",
       "      <td>NaN</td>\n",
       "      <td>NaN</td>\n",
       "      <td>NaN</td>\n",
       "      <td>NaN</td>\n",
       "      <td>NaN</td>\n",
       "      <td>NaN</td>\n",
       "    </tr>\n",
       "    <tr>\n",
       "      <th>217772</th>\n",
       "      <td>NaN</td>\n",
       "      <td>NaN</td>\n",
       "      <td>NaN</td>\n",
       "      <td>NaN</td>\n",
       "      <td>NaT</td>\n",
       "      <td>NaT</td>\n",
       "      <td>NaN</td>\n",
       "      <td>NaN</td>\n",
       "      <td>NaN</td>\n",
       "      <td>NaN</td>\n",
       "      <td>NaN</td>\n",
       "      <td>NaN</td>\n",
       "      <td>NaN</td>\n",
       "    </tr>\n",
       "    <tr>\n",
       "      <th>217773</th>\n",
       "      <td>NaN</td>\n",
       "      <td>NaN</td>\n",
       "      <td>NaN</td>\n",
       "      <td>NaN</td>\n",
       "      <td>NaT</td>\n",
       "      <td>NaT</td>\n",
       "      <td>NaN</td>\n",
       "      <td>NaN</td>\n",
       "      <td>NaN</td>\n",
       "      <td>NaN</td>\n",
       "      <td>NaN</td>\n",
       "      <td>NaN</td>\n",
       "      <td>NaN</td>\n",
       "    </tr>\n",
       "  </tbody>\n",
       "</table>\n",
       "<p>217774 rows × 13 columns</p>\n",
       "</div>"
      ],
      "text/plain": [
       "        company_ID      name category_code     status founded_at closed_at  \\\n",
       "0              1.0  Wetpaint           web  operating 2005-10-17       NaT   \n",
       "1              1.0  Wetpaint           web  operating 2005-10-17       NaT   \n",
       "2              1.0  Wetpaint           web  operating 2005-10-17       NaT   \n",
       "3             10.0   Flektor   games_video   acquired        NaT       NaT   \n",
       "4            100.0     There   games_video   acquired        NaT       NaT   \n",
       "...            ...       ...           ...        ...        ...       ...   \n",
       "217769         NaN       NaN           NaN        NaN        NaT       NaT   \n",
       "217770         NaN       NaN           NaN        NaN        NaT       NaT   \n",
       "217771         NaN       NaN           NaN        NaN        NaT       NaT   \n",
       "217772         NaN       NaN           NaN        NaN        NaT       NaT   \n",
       "217773         NaN       NaN           NaN        NaN        NaT       NaT   \n",
       "\n",
       "                  domain network_username country_code  investment_rounds  \\\n",
       "0       wetpaint-inc.com  BachelrWetpaint          USA                0.0   \n",
       "1       wetpaint-inc.com  BachelrWetpaint          USA                0.0   \n",
       "2       wetpaint-inc.com  BachelrWetpaint          USA                0.0   \n",
       "3            flektor.com              NaN          USA                0.0   \n",
       "4              there.com              NaN          USA                0.0   \n",
       "...                  ...              ...          ...                ...   \n",
       "217769               NaN              NaN          NaN                NaN   \n",
       "217770               NaN              NaN          NaN                NaN   \n",
       "217771               NaN              NaN          NaN                NaN   \n",
       "217772               NaN              NaN          NaN                NaN   \n",
       "217773               NaN              NaN          NaN                NaN   \n",
       "\n",
       "        funding_rounds  funding_total  milestones  \n",
       "0                  3.0     39750000.0         5.0  \n",
       "1                  3.0     39750000.0         5.0  \n",
       "2                  3.0     39750000.0         5.0  \n",
       "3                  0.0            0.0         0.0  \n",
       "4                  0.0            0.0         4.0  \n",
       "...                ...            ...         ...  \n",
       "217769             NaN            NaN         NaN  \n",
       "217770             NaN            NaN         NaN  \n",
       "217771             NaN            NaN         NaN  \n",
       "217772             NaN            NaN         NaN  \n",
       "217773             NaN            NaN         NaN  \n",
       "\n",
       "[217774 rows x 13 columns]"
      ]
     },
     "metadata": {},
     "output_type": "display_data"
    }
   ],
   "source": [
    "# Создадим новую таблицу df_company_0, в которой будут содержаться общие данные о компаниях\n",
    "df_company_0 = company_and_rounds[['company_ID', 'name', 'category_code', 'status', 'founded_at',\n",
    "                                 'closed_at', 'domain', 'network_username', 'country_code',\n",
    "                                 'investment_rounds', 'funding_rounds', 'funding_total', 'milestones']]\n",
    "display(df_company_0)"
   ]
  },
  {
   "cell_type": "markdown",
   "metadata": {},
   "source": [
    "Получили таблицу, состоящую из 13 столбцов, отражающую основную общую информацию о компаниях.\n",
    "\n",
    "По первым строчкам таблицы видим, что компании дублируются (из-за различных данных по раундам финансироания, которые остались во второй части основной таблицы).\n",
    "\n",
    "Для удобства последующего анализа данных этой таблицы удалим все дубликаты."
   ]
  },
  {
   "cell_type": "code",
   "execution_count": 64,
   "metadata": {},
   "outputs": [
    {
     "data": {
      "text/plain": [
       "21220"
      ]
     },
     "execution_count": 64,
     "metadata": {},
     "output_type": "execute_result"
    }
   ],
   "source": [
    "# Псчитаем количество явных дубликатов\n",
    "df_company_0.duplicated().sum()"
   ]
  },
  {
   "cell_type": "code",
   "execution_count": 65,
   "metadata": {
    "id": "tJ6Sl6MKrJg1",
    "vscode": {
     "languageId": "plaintext"
    }
   },
   "outputs": [
    {
     "name": "stdout",
     "output_type": "stream",
     "text": [
      "        company_ID      name category_code     status founded_at closed_at  \\\n",
      "1              1.0  Wetpaint           web  operating 2005-10-17       NaT   \n",
      "2              1.0  Wetpaint           web  operating 2005-10-17       NaT   \n",
      "22         10015.0    Fitbit        health  operating 2007-10-01       NaT   \n",
      "23         10015.0    Fitbit        health  operating 2007-10-01       NaT   \n",
      "24         10015.0    Fitbit        health  operating 2007-10-01       NaT   \n",
      "...            ...       ...           ...        ...        ...       ...   \n",
      "217769         NaN       NaN           NaN        NaN        NaT       NaT   \n",
      "217770         NaN       NaN           NaN        NaN        NaT       NaT   \n",
      "217771         NaN       NaN           NaN        NaN        NaT       NaT   \n",
      "217772         NaN       NaN           NaN        NaN        NaT       NaT   \n",
      "217773         NaN       NaN           NaN        NaN        NaT       NaT   \n",
      "\n",
      "                  domain network_username country_code  investment_rounds  \\\n",
      "1       wetpaint-inc.com  BachelrWetpaint          USA                0.0   \n",
      "2       wetpaint-inc.com  BachelrWetpaint          USA                0.0   \n",
      "22            fitbit.com           fitbit          USA                0.0   \n",
      "23            fitbit.com           fitbit          USA                0.0   \n",
      "24            fitbit.com           fitbit          USA                0.0   \n",
      "...                  ...              ...          ...                ...   \n",
      "217769               NaN              NaN          NaN                NaN   \n",
      "217770               NaN              NaN          NaN                NaN   \n",
      "217771               NaN              NaN          NaN                NaN   \n",
      "217772               NaN              NaN          NaN                NaN   \n",
      "217773               NaN              NaN          NaN                NaN   \n",
      "\n",
      "        funding_rounds  funding_total  milestones  \n",
      "1                  3.0     39750000.0         5.0  \n",
      "2                  3.0     39750000.0         5.0  \n",
      "22                 5.0     68069200.0         0.0  \n",
      "23                 5.0     68069200.0         0.0  \n",
      "24                 5.0     68069200.0         0.0  \n",
      "...                ...            ...         ...  \n",
      "217769             NaN            NaN         NaN  \n",
      "217770             NaN            NaN         NaN  \n",
      "217771             NaN            NaN         NaN  \n",
      "217772             NaN            NaN         NaN  \n",
      "217773             NaN            NaN         NaN  \n",
      "\n",
      "[21220 rows x 13 columns]\n"
     ]
    }
   ],
   "source": [
    "# Покажем найденные дубликаты\n",
    "print(df_company_0[df_company_0.duplicated()])"
   ]
  },
  {
   "cell_type": "code",
   "execution_count": 66,
   "metadata": {
    "scrolled": true
   },
   "outputs": [
    {
     "data": {
      "text/html": [
       "<div>\n",
       "<style scoped>\n",
       "    .dataframe tbody tr th:only-of-type {\n",
       "        vertical-align: middle;\n",
       "    }\n",
       "\n",
       "    .dataframe tbody tr th {\n",
       "        vertical-align: top;\n",
       "    }\n",
       "\n",
       "    .dataframe thead th {\n",
       "        text-align: right;\n",
       "    }\n",
       "</style>\n",
       "<table border=\"1\" class=\"dataframe\">\n",
       "  <thead>\n",
       "    <tr style=\"text-align: right;\">\n",
       "      <th></th>\n",
       "      <th>company_ID</th>\n",
       "      <th>name</th>\n",
       "      <th>category_code</th>\n",
       "      <th>status</th>\n",
       "      <th>founded_at</th>\n",
       "      <th>closed_at</th>\n",
       "      <th>domain</th>\n",
       "      <th>network_username</th>\n",
       "      <th>country_code</th>\n",
       "      <th>investment_rounds</th>\n",
       "      <th>funding_rounds</th>\n",
       "      <th>funding_total</th>\n",
       "      <th>milestones</th>\n",
       "    </tr>\n",
       "  </thead>\n",
       "  <tbody>\n",
       "    <tr>\n",
       "      <th>0</th>\n",
       "      <td>1.0</td>\n",
       "      <td>Wetpaint</td>\n",
       "      <td>web</td>\n",
       "      <td>operating</td>\n",
       "      <td>2005-10-17</td>\n",
       "      <td>NaT</td>\n",
       "      <td>wetpaint-inc.com</td>\n",
       "      <td>BachelrWetpaint</td>\n",
       "      <td>USA</td>\n",
       "      <td>0.0</td>\n",
       "      <td>3.0</td>\n",
       "      <td>39750000.0</td>\n",
       "      <td>5.0</td>\n",
       "    </tr>\n",
       "    <tr>\n",
       "      <th>3</th>\n",
       "      <td>10.0</td>\n",
       "      <td>Flektor</td>\n",
       "      <td>games_video</td>\n",
       "      <td>acquired</td>\n",
       "      <td>NaT</td>\n",
       "      <td>NaT</td>\n",
       "      <td>flektor.com</td>\n",
       "      <td>NaN</td>\n",
       "      <td>USA</td>\n",
       "      <td>0.0</td>\n",
       "      <td>0.0</td>\n",
       "      <td>0.0</td>\n",
       "      <td>0.0</td>\n",
       "    </tr>\n",
       "    <tr>\n",
       "      <th>4</th>\n",
       "      <td>100.0</td>\n",
       "      <td>There</td>\n",
       "      <td>games_video</td>\n",
       "      <td>acquired</td>\n",
       "      <td>NaT</td>\n",
       "      <td>NaT</td>\n",
       "      <td>there.com</td>\n",
       "      <td>NaN</td>\n",
       "      <td>USA</td>\n",
       "      <td>0.0</td>\n",
       "      <td>0.0</td>\n",
       "      <td>0.0</td>\n",
       "      <td>4.0</td>\n",
       "    </tr>\n",
       "    <tr>\n",
       "      <th>5</th>\n",
       "      <td>10000.0</td>\n",
       "      <td>MYWEBBO</td>\n",
       "      <td>network_hosting</td>\n",
       "      <td>operating</td>\n",
       "      <td>2008-07-26</td>\n",
       "      <td>NaT</td>\n",
       "      <td>mywebbo.com</td>\n",
       "      <td>NaN</td>\n",
       "      <td>NaN</td>\n",
       "      <td>0.0</td>\n",
       "      <td>0.0</td>\n",
       "      <td>0.0</td>\n",
       "      <td>0.0</td>\n",
       "    </tr>\n",
       "    <tr>\n",
       "      <th>6</th>\n",
       "      <td>10001.0</td>\n",
       "      <td>THE Movie Streamer</td>\n",
       "      <td>games_video</td>\n",
       "      <td>operating</td>\n",
       "      <td>2008-07-26</td>\n",
       "      <td>NaT</td>\n",
       "      <td>themoviestreamer.com</td>\n",
       "      <td>NaN</td>\n",
       "      <td>NaN</td>\n",
       "      <td>0.0</td>\n",
       "      <td>0.0</td>\n",
       "      <td>0.0</td>\n",
       "      <td>0.0</td>\n",
       "    </tr>\n",
       "    <tr>\n",
       "      <th>...</th>\n",
       "      <td>...</td>\n",
       "      <td>...</td>\n",
       "      <td>...</td>\n",
       "      <td>...</td>\n",
       "      <td>...</td>\n",
       "      <td>...</td>\n",
       "      <td>...</td>\n",
       "      <td>...</td>\n",
       "      <td>...</td>\n",
       "      <td>...</td>\n",
       "      <td>...</td>\n",
       "      <td>...</td>\n",
       "      <td>...</td>\n",
       "    </tr>\n",
       "    <tr>\n",
       "      <th>217463</th>\n",
       "      <td>3429.0</td>\n",
       "      <td>Zend Technologies</td>\n",
       "      <td>software</td>\n",
       "      <td>operating</td>\n",
       "      <td>1999-01-01</td>\n",
       "      <td>NaT</td>\n",
       "      <td>zend.com</td>\n",
       "      <td>networkzend</td>\n",
       "      <td>USA</td>\n",
       "      <td>0.0</td>\n",
       "      <td>4.0</td>\n",
       "      <td>44000000.0</td>\n",
       "      <td>6.0</td>\n",
       "    </tr>\n",
       "    <tr>\n",
       "      <th>217467</th>\n",
       "      <td>7748.0</td>\n",
       "      <td>Flowgram</td>\n",
       "      <td>web</td>\n",
       "      <td>closed</td>\n",
       "      <td>2007-06-01</td>\n",
       "      <td>2008-06-11</td>\n",
       "      <td>flowgram.com</td>\n",
       "      <td>network</td>\n",
       "      <td>USA</td>\n",
       "      <td>0.0</td>\n",
       "      <td>1.0</td>\n",
       "      <td>1300000.0</td>\n",
       "      <td>3.0</td>\n",
       "    </tr>\n",
       "    <tr>\n",
       "      <th>217468</th>\n",
       "      <td>174536.0</td>\n",
       "      <td>Pphotonet</td>\n",
       "      <td>games_video</td>\n",
       "      <td>operating</td>\n",
       "      <td>2012-05-01</td>\n",
       "      <td>NaT</td>\n",
       "      <td>pPhotonet.co</td>\n",
       "      <td>pPhotonet</td>\n",
       "      <td>NaN</td>\n",
       "      <td>0.0</td>\n",
       "      <td>0.0</td>\n",
       "      <td>0.0</td>\n",
       "      <td>0.0</td>\n",
       "    </tr>\n",
       "    <tr>\n",
       "      <th>217469</th>\n",
       "      <td>43233.0</td>\n",
       "      <td>Photonet</td>\n",
       "      <td>photo_video</td>\n",
       "      <td>acquired</td>\n",
       "      <td>2010-03-01</td>\n",
       "      <td>NaT</td>\n",
       "      <td>Photonet.com</td>\n",
       "      <td>Photonet</td>\n",
       "      <td>USA</td>\n",
       "      <td>0.0</td>\n",
       "      <td>3.0</td>\n",
       "      <td>57500000.0</td>\n",
       "      <td>3.0</td>\n",
       "    </tr>\n",
       "    <tr>\n",
       "      <th>217472</th>\n",
       "      <td>NaN</td>\n",
       "      <td>NaN</td>\n",
       "      <td>NaN</td>\n",
       "      <td>NaN</td>\n",
       "      <td>NaT</td>\n",
       "      <td>NaT</td>\n",
       "      <td>NaN</td>\n",
       "      <td>NaN</td>\n",
       "      <td>NaN</td>\n",
       "      <td>NaN</td>\n",
       "      <td>NaN</td>\n",
       "      <td>NaN</td>\n",
       "      <td>NaN</td>\n",
       "    </tr>\n",
       "  </tbody>\n",
       "</table>\n",
       "<p>196554 rows × 13 columns</p>\n",
       "</div>"
      ],
      "text/plain": [
       "        company_ID                name    category_code     status founded_at  \\\n",
       "0              1.0            Wetpaint              web  operating 2005-10-17   \n",
       "3             10.0             Flektor      games_video   acquired        NaT   \n",
       "4            100.0               There      games_video   acquired        NaT   \n",
       "5          10000.0             MYWEBBO  network_hosting  operating 2008-07-26   \n",
       "6          10001.0  THE Movie Streamer      games_video  operating 2008-07-26   \n",
       "...            ...                 ...              ...        ...        ...   \n",
       "217463      3429.0   Zend Technologies         software  operating 1999-01-01   \n",
       "217467      7748.0            Flowgram              web     closed 2007-06-01   \n",
       "217468    174536.0           Pphotonet      games_video  operating 2012-05-01   \n",
       "217469     43233.0            Photonet      photo_video   acquired 2010-03-01   \n",
       "217472         NaN                 NaN              NaN        NaN        NaT   \n",
       "\n",
       "        closed_at                domain network_username country_code  \\\n",
       "0             NaT      wetpaint-inc.com  BachelrWetpaint          USA   \n",
       "3             NaT           flektor.com              NaN          USA   \n",
       "4             NaT             there.com              NaN          USA   \n",
       "5             NaT           mywebbo.com              NaN          NaN   \n",
       "6             NaT  themoviestreamer.com              NaN          NaN   \n",
       "...           ...                   ...              ...          ...   \n",
       "217463        NaT              zend.com      networkzend          USA   \n",
       "217467 2008-06-11          flowgram.com          network          USA   \n",
       "217468        NaT          pPhotonet.co        pPhotonet          NaN   \n",
       "217469        NaT          Photonet.com         Photonet          USA   \n",
       "217472        NaT                   NaN              NaN          NaN   \n",
       "\n",
       "        investment_rounds  funding_rounds  funding_total  milestones  \n",
       "0                     0.0             3.0     39750000.0         5.0  \n",
       "3                     0.0             0.0            0.0         0.0  \n",
       "4                     0.0             0.0            0.0         4.0  \n",
       "5                     0.0             0.0            0.0         0.0  \n",
       "6                     0.0             0.0            0.0         0.0  \n",
       "...                   ...             ...            ...         ...  \n",
       "217463                0.0             4.0     44000000.0         6.0  \n",
       "217467                0.0             1.0      1300000.0         3.0  \n",
       "217468                0.0             0.0            0.0         0.0  \n",
       "217469                0.0             3.0     57500000.0         3.0  \n",
       "217472                NaN             NaN            NaN         NaN  \n",
       "\n",
       "[196554 rows x 13 columns]"
      ]
     },
     "metadata": {},
     "output_type": "display_data"
    }
   ],
   "source": [
    "# Удалим найденные дубликаты и выведем получившиеся данные\n",
    "df_company = df_company_0.drop_duplicates()\n",
    "display(df_company)"
   ]
  },
  {
   "cell_type": "markdown",
   "metadata": {},
   "source": [
    "Получили новую таблицу `df_company` без дубликатов, отражающие данные для каждой отдельной компании.\n",
    "\n",
    "Посчитаем количество и долю удаленных данных."
   ]
  },
  {
   "cell_type": "code",
   "execution_count": 67,
   "metadata": {},
   "outputs": [
    {
     "name": "stdout",
     "output_type": "stream",
     "text": [
      "Всего удалено 21220 строк, что составляет 10% данных.\n"
     ]
    }
   ],
   "source": [
    "deleted_rows = len(df_company_0) - len(df_company)\n",
    "deleted_rows_percent = round(deleted_rows / len(df_company_0) * 100)\n",
    "print(f'Всего удалено {deleted_rows} строк, что составляет {deleted_rows_percent}% данных.')"
   ]
  },
  {
   "cell_type": "markdown",
   "metadata": {},
   "source": [
    "Теперь создадим вторую таблицу `df_rounds`, содержащую всю информацию о финансировании компаний."
   ]
  },
  {
   "cell_type": "code",
   "execution_count": 68,
   "metadata": {},
   "outputs": [
    {
     "data": {
      "text/html": [
       "<div>\n",
       "<style scoped>\n",
       "    .dataframe tbody tr th:only-of-type {\n",
       "        vertical-align: middle;\n",
       "    }\n",
       "\n",
       "    .dataframe tbody tr th {\n",
       "        vertical-align: top;\n",
       "    }\n",
       "\n",
       "    .dataframe thead th {\n",
       "        text-align: right;\n",
       "    }\n",
       "</style>\n",
       "<table border=\"1\" class=\"dataframe\">\n",
       "  <thead>\n",
       "    <tr style=\"text-align: right;\">\n",
       "      <th></th>\n",
       "      <th>company_ID</th>\n",
       "      <th>name</th>\n",
       "      <th>funding_round_id</th>\n",
       "      <th>funded_at</th>\n",
       "      <th>funding_round_type</th>\n",
       "      <th>raised_amount</th>\n",
       "      <th>pre_money_valuation</th>\n",
       "      <th>participants</th>\n",
       "      <th>is_first_round</th>\n",
       "      <th>is_last_round</th>\n",
       "      <th>funded_year</th>\n",
       "    </tr>\n",
       "  </thead>\n",
       "  <tbody>\n",
       "    <tr>\n",
       "      <th>0</th>\n",
       "      <td>1.0</td>\n",
       "      <td>Wetpaint</td>\n",
       "      <td>888.0</td>\n",
       "      <td>2005-10-01</td>\n",
       "      <td>series-a</td>\n",
       "      <td>5250000.0</td>\n",
       "      <td>0.0</td>\n",
       "      <td>2.0</td>\n",
       "      <td>0.0</td>\n",
       "      <td>1.0</td>\n",
       "      <td>2005.0</td>\n",
       "    </tr>\n",
       "    <tr>\n",
       "      <th>1</th>\n",
       "      <td>1.0</td>\n",
       "      <td>Wetpaint</td>\n",
       "      <td>889.0</td>\n",
       "      <td>2007-01-01</td>\n",
       "      <td>series-b</td>\n",
       "      <td>9500000.0</td>\n",
       "      <td>0.0</td>\n",
       "      <td>3.0</td>\n",
       "      <td>0.0</td>\n",
       "      <td>0.0</td>\n",
       "      <td>2007.0</td>\n",
       "    </tr>\n",
       "    <tr>\n",
       "      <th>2</th>\n",
       "      <td>1.0</td>\n",
       "      <td>Wetpaint</td>\n",
       "      <td>2312.0</td>\n",
       "      <td>2008-05-19</td>\n",
       "      <td>series-c+</td>\n",
       "      <td>25000000.0</td>\n",
       "      <td>0.0</td>\n",
       "      <td>4.0</td>\n",
       "      <td>1.0</td>\n",
       "      <td>0.0</td>\n",
       "      <td>2008.0</td>\n",
       "    </tr>\n",
       "    <tr>\n",
       "      <th>3</th>\n",
       "      <td>10.0</td>\n",
       "      <td>Flektor</td>\n",
       "      <td>NaN</td>\n",
       "      <td>NaT</td>\n",
       "      <td>NaN</td>\n",
       "      <td>NaN</td>\n",
       "      <td>NaN</td>\n",
       "      <td>NaN</td>\n",
       "      <td>NaN</td>\n",
       "      <td>NaN</td>\n",
       "      <td>NaN</td>\n",
       "    </tr>\n",
       "    <tr>\n",
       "      <th>4</th>\n",
       "      <td>100.0</td>\n",
       "      <td>There</td>\n",
       "      <td>NaN</td>\n",
       "      <td>NaT</td>\n",
       "      <td>NaN</td>\n",
       "      <td>NaN</td>\n",
       "      <td>NaN</td>\n",
       "      <td>NaN</td>\n",
       "      <td>NaN</td>\n",
       "      <td>NaN</td>\n",
       "      <td>NaN</td>\n",
       "    </tr>\n",
       "    <tr>\n",
       "      <th>...</th>\n",
       "      <td>...</td>\n",
       "      <td>...</td>\n",
       "      <td>...</td>\n",
       "      <td>...</td>\n",
       "      <td>...</td>\n",
       "      <td>...</td>\n",
       "      <td>...</td>\n",
       "      <td>...</td>\n",
       "      <td>...</td>\n",
       "      <td>...</td>\n",
       "      <td>...</td>\n",
       "    </tr>\n",
       "    <tr>\n",
       "      <th>217769</th>\n",
       "      <td>NaN</td>\n",
       "      <td>NaN</td>\n",
       "      <td>56454.0</td>\n",
       "      <td>2011-01-31</td>\n",
       "      <td>other</td>\n",
       "      <td>5500000.0</td>\n",
       "      <td>0.0</td>\n",
       "      <td>0.0</td>\n",
       "      <td>1.0</td>\n",
       "      <td>1.0</td>\n",
       "      <td>2011.0</td>\n",
       "    </tr>\n",
       "    <tr>\n",
       "      <th>217770</th>\n",
       "      <td>NaN</td>\n",
       "      <td>NaN</td>\n",
       "      <td>56542.0</td>\n",
       "      <td>2011-01-13</td>\n",
       "      <td>venture</td>\n",
       "      <td>10633300.0</td>\n",
       "      <td>0.0</td>\n",
       "      <td>0.0</td>\n",
       "      <td>0.0</td>\n",
       "      <td>1.0</td>\n",
       "      <td>2011.0</td>\n",
       "    </tr>\n",
       "    <tr>\n",
       "      <th>217771</th>\n",
       "      <td>NaN</td>\n",
       "      <td>NaN</td>\n",
       "      <td>56543.0</td>\n",
       "      <td>2012-05-31</td>\n",
       "      <td>venture</td>\n",
       "      <td>2125720.0</td>\n",
       "      <td>0.0</td>\n",
       "      <td>0.0</td>\n",
       "      <td>1.0</td>\n",
       "      <td>0.0</td>\n",
       "      <td>2012.0</td>\n",
       "    </tr>\n",
       "    <tr>\n",
       "      <th>217772</th>\n",
       "      <td>NaN</td>\n",
       "      <td>NaN</td>\n",
       "      <td>56928.0</td>\n",
       "      <td>2013-12-03</td>\n",
       "      <td>venture</td>\n",
       "      <td>3602480.0</td>\n",
       "      <td>0.0</td>\n",
       "      <td>5.0</td>\n",
       "      <td>1.0</td>\n",
       "      <td>1.0</td>\n",
       "      <td>2013.0</td>\n",
       "    </tr>\n",
       "    <tr>\n",
       "      <th>217773</th>\n",
       "      <td>NaN</td>\n",
       "      <td>NaN</td>\n",
       "      <td>57063.0</td>\n",
       "      <td>2013-12-04</td>\n",
       "      <td>venture</td>\n",
       "      <td>7000000.0</td>\n",
       "      <td>0.0</td>\n",
       "      <td>4.0</td>\n",
       "      <td>1.0</td>\n",
       "      <td>1.0</td>\n",
       "      <td>2013.0</td>\n",
       "    </tr>\n",
       "  </tbody>\n",
       "</table>\n",
       "<p>217774 rows × 11 columns</p>\n",
       "</div>"
      ],
      "text/plain": [
       "        company_ID      name  funding_round_id  funded_at funding_round_type  \\\n",
       "0              1.0  Wetpaint             888.0 2005-10-01           series-a   \n",
       "1              1.0  Wetpaint             889.0 2007-01-01           series-b   \n",
       "2              1.0  Wetpaint            2312.0 2008-05-19          series-c+   \n",
       "3             10.0   Flektor               NaN        NaT                NaN   \n",
       "4            100.0     There               NaN        NaT                NaN   \n",
       "...            ...       ...               ...        ...                ...   \n",
       "217769         NaN       NaN           56454.0 2011-01-31              other   \n",
       "217770         NaN       NaN           56542.0 2011-01-13            venture   \n",
       "217771         NaN       NaN           56543.0 2012-05-31            venture   \n",
       "217772         NaN       NaN           56928.0 2013-12-03            venture   \n",
       "217773         NaN       NaN           57063.0 2013-12-04            venture   \n",
       "\n",
       "        raised_amount  pre_money_valuation  participants  is_first_round  \\\n",
       "0           5250000.0                  0.0           2.0             0.0   \n",
       "1           9500000.0                  0.0           3.0             0.0   \n",
       "2          25000000.0                  0.0           4.0             1.0   \n",
       "3                 NaN                  NaN           NaN             NaN   \n",
       "4                 NaN                  NaN           NaN             NaN   \n",
       "...               ...                  ...           ...             ...   \n",
       "217769      5500000.0                  0.0           0.0             1.0   \n",
       "217770     10633300.0                  0.0           0.0             0.0   \n",
       "217771      2125720.0                  0.0           0.0             1.0   \n",
       "217772      3602480.0                  0.0           5.0             1.0   \n",
       "217773      7000000.0                  0.0           4.0             1.0   \n",
       "\n",
       "        is_last_round  funded_year  \n",
       "0                 1.0       2005.0  \n",
       "1                 0.0       2007.0  \n",
       "2                 0.0       2008.0  \n",
       "3                 NaN          NaN  \n",
       "4                 NaN          NaN  \n",
       "...               ...          ...  \n",
       "217769            1.0       2011.0  \n",
       "217770            1.0       2011.0  \n",
       "217771            0.0       2012.0  \n",
       "217772            1.0       2013.0  \n",
       "217773            1.0       2013.0  \n",
       "\n",
       "[217774 rows x 11 columns]"
      ]
     },
     "metadata": {},
     "output_type": "display_data"
    }
   ],
   "source": [
    "# Создадим новую таблицу df_rounds, в которой будут содержаться общие данные о компаниях\n",
    "df_rounds = company_and_rounds[['company_ID', 'name', 'funding_round_id', 'funded_at',\n",
    "                                 'funding_round_type', 'raised_amount', 'pre_money_valuation', 'participants',\n",
    "                                 'is_first_round', 'is_last_round', 'funded_year']]\n",
    "display(df_rounds)"
   ]
  },
  {
   "cell_type": "code",
   "execution_count": 69,
   "metadata": {},
   "outputs": [
    {
     "name": "stdout",
     "output_type": "stream",
     "text": [
      "<class 'pandas.core.frame.DataFrame'>\n",
      "RangeIndex: 217774 entries, 0 to 217773\n",
      "Data columns (total 11 columns):\n",
      " #   Column               Non-Null Count   Dtype         \n",
      "---  ------               --------------   -----         \n",
      " 0   company_ID           217472 non-null  float64       \n",
      " 1   name                 217472 non-null  object        \n",
      " 2   funding_round_id     52928 non-null   float64       \n",
      " 3   funded_at            52680 non-null   datetime64[ns]\n",
      " 4   funding_round_type   52928 non-null   object        \n",
      " 5   raised_amount        52928 non-null   float64       \n",
      " 6   pre_money_valuation  52928 non-null   float64       \n",
      " 7   participants         52928 non-null   float64       \n",
      " 8   is_first_round       52928 non-null   float64       \n",
      " 9   is_last_round        52928 non-null   float64       \n",
      " 10  funded_year          52680 non-null   float64       \n",
      "dtypes: datetime64[ns](1), float64(8), object(2)\n",
      "memory usage: 18.3+ MB\n"
     ]
    }
   ],
   "source": [
    "df_rounds.info()"
   ]
  },
  {
   "cell_type": "markdown",
   "metadata": {},
   "source": [
    "Получили таблицу состоящую из 11 столбцов и отражающая всю информацию о раундах финансирования компаний.\n",
    "\n",
    "Проверим, есть ли данной таблице явные дубликаты."
   ]
  },
  {
   "cell_type": "code",
   "execution_count": 70,
   "metadata": {},
   "outputs": [
    {
     "data": {
      "text/plain": [
       "0"
      ]
     },
     "execution_count": 70,
     "metadata": {},
     "output_type": "execute_result"
    }
   ],
   "source": [
    "# Посчитаем количество явных дубликатов\n",
    "df_rounds.duplicated().sum()"
   ]
  },
  {
   "cell_type": "markdown",
   "metadata": {},
   "source": [
    "Явных дубликатов в полученной таблице не найдено.\n",
    "\n",
    "По общей информации о таблицу видим, что в таблице много пропусков. Посчитаем и удалим пропуски по столбцу `funding_round_type`."
   ]
  },
  {
   "cell_type": "code",
   "execution_count": 71,
   "metadata": {},
   "outputs": [
    {
     "data": {
      "text/plain": [
       "164846"
      ]
     },
     "execution_count": 71,
     "metadata": {},
     "output_type": "execute_result"
    }
   ],
   "source": [
    "# Посчитаем пропуски по столбцу funding_round_type\n",
    "df_rounds['funding_round_type'].isna().sum()"
   ]
  },
  {
   "cell_type": "code",
   "execution_count": 72,
   "metadata": {},
   "outputs": [
    {
     "data": {
      "text/html": [
       "<div>\n",
       "<style scoped>\n",
       "    .dataframe tbody tr th:only-of-type {\n",
       "        vertical-align: middle;\n",
       "    }\n",
       "\n",
       "    .dataframe tbody tr th {\n",
       "        vertical-align: top;\n",
       "    }\n",
       "\n",
       "    .dataframe thead th {\n",
       "        text-align: right;\n",
       "    }\n",
       "</style>\n",
       "<table border=\"1\" class=\"dataframe\">\n",
       "  <thead>\n",
       "    <tr style=\"text-align: right;\">\n",
       "      <th></th>\n",
       "      <th>company_ID</th>\n",
       "      <th>name</th>\n",
       "      <th>funding_round_id</th>\n",
       "      <th>funded_at</th>\n",
       "      <th>funding_round_type</th>\n",
       "      <th>raised_amount</th>\n",
       "      <th>pre_money_valuation</th>\n",
       "      <th>participants</th>\n",
       "      <th>is_first_round</th>\n",
       "      <th>is_last_round</th>\n",
       "      <th>funded_year</th>\n",
       "    </tr>\n",
       "  </thead>\n",
       "  <tbody>\n",
       "    <tr>\n",
       "      <th>0</th>\n",
       "      <td>1.0</td>\n",
       "      <td>Wetpaint</td>\n",
       "      <td>888.0</td>\n",
       "      <td>2005-10-01</td>\n",
       "      <td>series-a</td>\n",
       "      <td>5250000.0</td>\n",
       "      <td>0.0</td>\n",
       "      <td>2.0</td>\n",
       "      <td>0.0</td>\n",
       "      <td>1.0</td>\n",
       "      <td>2005.0</td>\n",
       "    </tr>\n",
       "    <tr>\n",
       "      <th>1</th>\n",
       "      <td>1.0</td>\n",
       "      <td>Wetpaint</td>\n",
       "      <td>889.0</td>\n",
       "      <td>2007-01-01</td>\n",
       "      <td>series-b</td>\n",
       "      <td>9500000.0</td>\n",
       "      <td>0.0</td>\n",
       "      <td>3.0</td>\n",
       "      <td>0.0</td>\n",
       "      <td>0.0</td>\n",
       "      <td>2007.0</td>\n",
       "    </tr>\n",
       "    <tr>\n",
       "      <th>2</th>\n",
       "      <td>1.0</td>\n",
       "      <td>Wetpaint</td>\n",
       "      <td>2312.0</td>\n",
       "      <td>2008-05-19</td>\n",
       "      <td>series-c+</td>\n",
       "      <td>25000000.0</td>\n",
       "      <td>0.0</td>\n",
       "      <td>4.0</td>\n",
       "      <td>1.0</td>\n",
       "      <td>0.0</td>\n",
       "      <td>2008.0</td>\n",
       "    </tr>\n",
       "    <tr>\n",
       "      <th>15</th>\n",
       "      <td>1001.0</td>\n",
       "      <td>FriendFeed</td>\n",
       "      <td>1644.0</td>\n",
       "      <td>2008-02-26</td>\n",
       "      <td>series-a</td>\n",
       "      <td>5000000.0</td>\n",
       "      <td>0.0</td>\n",
       "      <td>3.0</td>\n",
       "      <td>1.0</td>\n",
       "      <td>1.0</td>\n",
       "      <td>2008.0</td>\n",
       "    </tr>\n",
       "    <tr>\n",
       "      <th>20</th>\n",
       "      <td>10014.0</td>\n",
       "      <td>Mobclix</td>\n",
       "      <td>6682.0</td>\n",
       "      <td>2008-09-01</td>\n",
       "      <td>angel</td>\n",
       "      <td>0.0</td>\n",
       "      <td>0.0</td>\n",
       "      <td>1.0</td>\n",
       "      <td>1.0</td>\n",
       "      <td>1.0</td>\n",
       "      <td>2008.0</td>\n",
       "    </tr>\n",
       "    <tr>\n",
       "      <th>...</th>\n",
       "      <td>...</td>\n",
       "      <td>...</td>\n",
       "      <td>...</td>\n",
       "      <td>...</td>\n",
       "      <td>...</td>\n",
       "      <td>...</td>\n",
       "      <td>...</td>\n",
       "      <td>...</td>\n",
       "      <td>...</td>\n",
       "      <td>...</td>\n",
       "      <td>...</td>\n",
       "    </tr>\n",
       "    <tr>\n",
       "      <th>217769</th>\n",
       "      <td>NaN</td>\n",
       "      <td>NaN</td>\n",
       "      <td>56454.0</td>\n",
       "      <td>2011-01-31</td>\n",
       "      <td>other</td>\n",
       "      <td>5500000.0</td>\n",
       "      <td>0.0</td>\n",
       "      <td>0.0</td>\n",
       "      <td>1.0</td>\n",
       "      <td>1.0</td>\n",
       "      <td>2011.0</td>\n",
       "    </tr>\n",
       "    <tr>\n",
       "      <th>217770</th>\n",
       "      <td>NaN</td>\n",
       "      <td>NaN</td>\n",
       "      <td>56542.0</td>\n",
       "      <td>2011-01-13</td>\n",
       "      <td>venture</td>\n",
       "      <td>10633300.0</td>\n",
       "      <td>0.0</td>\n",
       "      <td>0.0</td>\n",
       "      <td>0.0</td>\n",
       "      <td>1.0</td>\n",
       "      <td>2011.0</td>\n",
       "    </tr>\n",
       "    <tr>\n",
       "      <th>217771</th>\n",
       "      <td>NaN</td>\n",
       "      <td>NaN</td>\n",
       "      <td>56543.0</td>\n",
       "      <td>2012-05-31</td>\n",
       "      <td>venture</td>\n",
       "      <td>2125720.0</td>\n",
       "      <td>0.0</td>\n",
       "      <td>0.0</td>\n",
       "      <td>1.0</td>\n",
       "      <td>0.0</td>\n",
       "      <td>2012.0</td>\n",
       "    </tr>\n",
       "    <tr>\n",
       "      <th>217772</th>\n",
       "      <td>NaN</td>\n",
       "      <td>NaN</td>\n",
       "      <td>56928.0</td>\n",
       "      <td>2013-12-03</td>\n",
       "      <td>venture</td>\n",
       "      <td>3602480.0</td>\n",
       "      <td>0.0</td>\n",
       "      <td>5.0</td>\n",
       "      <td>1.0</td>\n",
       "      <td>1.0</td>\n",
       "      <td>2013.0</td>\n",
       "    </tr>\n",
       "    <tr>\n",
       "      <th>217773</th>\n",
       "      <td>NaN</td>\n",
       "      <td>NaN</td>\n",
       "      <td>57063.0</td>\n",
       "      <td>2013-12-04</td>\n",
       "      <td>venture</td>\n",
       "      <td>7000000.0</td>\n",
       "      <td>0.0</td>\n",
       "      <td>4.0</td>\n",
       "      <td>1.0</td>\n",
       "      <td>1.0</td>\n",
       "      <td>2013.0</td>\n",
       "    </tr>\n",
       "  </tbody>\n",
       "</table>\n",
       "<p>52928 rows × 11 columns</p>\n",
       "</div>"
      ],
      "text/plain": [
       "        company_ID        name  funding_round_id  funded_at  \\\n",
       "0              1.0    Wetpaint             888.0 2005-10-01   \n",
       "1              1.0    Wetpaint             889.0 2007-01-01   \n",
       "2              1.0    Wetpaint            2312.0 2008-05-19   \n",
       "15          1001.0  FriendFeed            1644.0 2008-02-26   \n",
       "20         10014.0     Mobclix            6682.0 2008-09-01   \n",
       "...            ...         ...               ...        ...   \n",
       "217769         NaN         NaN           56454.0 2011-01-31   \n",
       "217770         NaN         NaN           56542.0 2011-01-13   \n",
       "217771         NaN         NaN           56543.0 2012-05-31   \n",
       "217772         NaN         NaN           56928.0 2013-12-03   \n",
       "217773         NaN         NaN           57063.0 2013-12-04   \n",
       "\n",
       "       funding_round_type  raised_amount  pre_money_valuation  participants  \\\n",
       "0                series-a      5250000.0                  0.0           2.0   \n",
       "1                series-b      9500000.0                  0.0           3.0   \n",
       "2               series-c+     25000000.0                  0.0           4.0   \n",
       "15               series-a      5000000.0                  0.0           3.0   \n",
       "20                  angel            0.0                  0.0           1.0   \n",
       "...                   ...            ...                  ...           ...   \n",
       "217769              other      5500000.0                  0.0           0.0   \n",
       "217770            venture     10633300.0                  0.0           0.0   \n",
       "217771            venture      2125720.0                  0.0           0.0   \n",
       "217772            venture      3602480.0                  0.0           5.0   \n",
       "217773            venture      7000000.0                  0.0           4.0   \n",
       "\n",
       "        is_first_round  is_last_round  funded_year  \n",
       "0                  0.0            1.0       2005.0  \n",
       "1                  0.0            0.0       2007.0  \n",
       "2                  1.0            0.0       2008.0  \n",
       "15                 1.0            1.0       2008.0  \n",
       "20                 1.0            1.0       2008.0  \n",
       "...                ...            ...          ...  \n",
       "217769             1.0            1.0       2011.0  \n",
       "217770             0.0            1.0       2011.0  \n",
       "217771             1.0            0.0       2012.0  \n",
       "217772             1.0            1.0       2013.0  \n",
       "217773             1.0            1.0       2013.0  \n",
       "\n",
       "[52928 rows x 11 columns]"
      ]
     },
     "metadata": {},
     "output_type": "display_data"
    }
   ],
   "source": [
    "# Удалим пропуски по колонке\n",
    "df_rounds=df_rounds.dropna(subset=['funding_round_type'])\n",
    "display(df_rounds)"
   ]
  },
  {
   "cell_type": "markdown",
   "metadata": {},
   "source": [
    "Были удалены 164846 пропусков, в итоге получена таблица, содержащая 52928 строк.\n",
    "\n",
    "В результате обработки датасета `company_and_rounds` получены 2 отдельных датасета:\n",
    "- `df_company` - содержит общую информацию по каждой компании, не содержит дубликатов и позволит в дальнейшем отобрать компании по параметрам и расчитать показатели без промежуточных агрегаций;\n",
    "- `df_rounds` - содержит информацию только о раундах финансирования и позволит более подробно изучить эту часть данных без привязки к общим данным о компании."
   ]
  },
  {
   "cell_type": "markdown",
   "metadata": {},
   "source": [
    "### Промежуточные выводы.\n",
    "\n",
    "В процессе предобработки и предварительного анализа данных были выполнены следующие этапы:\n",
    "\n",
    " - Определена тенденция по количеству раундов и выделенных в рамках одного раунда средств финансирования в зависимочти от года.\n",
    " - Определена зависимость полноты сведений об образовании сотрудников от размера компании.\n",
    " - Проведена оценка возможности использования столбца `network_username` для объединения данных.\n",
    " - Датасет `company_and_rounds` разделен на два отдельных датасета, отражающих информацию о компаниях в целом и информацию о раундах финансирования.\n",
    " - В новом датасете `df_company` были выявлены и удалены дубликаты, остальные исследуемые датасеты были проверены на наличие явных дубликатов - их нет.\n"
   ]
  },
  {
   "cell_type": "markdown",
   "metadata": {
    "id": "bmVYhphNrJg2"
   },
   "source": [
    "\n",
    "## Шаг 3. Исследовательский анализ объединённых таблиц\n",
    "\n"
   ]
  },
  {
   "cell_type": "markdown",
   "metadata": {
    "id": "3Di6tCT3rJg2"
   },
   "source": [
    "\n",
    "### 3.1. Объединение данных\n",
    "\n"
   ]
  },
  {
   "cell_type": "markdown",
   "metadata": {},
   "source": [
    "Для дальшего анализа данных объединим датасеты `df_company` (содержит информацию о компаниях) и `acquisition` (содержит информацию о покупках одними компаниями других компаний) в единый датасет `company_and_acquisition`.\n",
    "\n",
    "Для соединения будем спользовать столбец `company_ID` в таблице `df_company` и столбец `acquired_company_id` в таблице `acquisition` (так как в дальнейшем будем анализировать купленные компании). Соединим данные, используя значение параметра `how`  `'left'`. Это позволит оставить все компании."
   ]
  },
  {
   "cell_type": "code",
   "execution_count": 73,
   "metadata": {
    "id": "kuV1b5MXFg3_"
   },
   "outputs": [
    {
     "data": {
      "text/html": [
       "<div>\n",
       "<style scoped>\n",
       "    .dataframe tbody tr th:only-of-type {\n",
       "        vertical-align: middle;\n",
       "    }\n",
       "\n",
       "    .dataframe tbody tr th {\n",
       "        vertical-align: top;\n",
       "    }\n",
       "\n",
       "    .dataframe thead th {\n",
       "        text-align: right;\n",
       "    }\n",
       "</style>\n",
       "<table border=\"1\" class=\"dataframe\">\n",
       "  <thead>\n",
       "    <tr style=\"text-align: right;\">\n",
       "      <th></th>\n",
       "      <th>company_ID</th>\n",
       "      <th>name</th>\n",
       "      <th>category_code</th>\n",
       "      <th>status</th>\n",
       "      <th>founded_at</th>\n",
       "      <th>closed_at</th>\n",
       "      <th>domain</th>\n",
       "      <th>network_username</th>\n",
       "      <th>country_code</th>\n",
       "      <th>investment_rounds</th>\n",
       "      <th>funding_rounds</th>\n",
       "      <th>funding_total</th>\n",
       "      <th>milestones</th>\n",
       "      <th>id</th>\n",
       "      <th>acquiring_company_id</th>\n",
       "      <th>acquired_company_id</th>\n",
       "      <th>term_code</th>\n",
       "      <th>price_amount</th>\n",
       "      <th>acquired_at</th>\n",
       "    </tr>\n",
       "  </thead>\n",
       "  <tbody>\n",
       "    <tr>\n",
       "      <th>0</th>\n",
       "      <td>1.0</td>\n",
       "      <td>Wetpaint</td>\n",
       "      <td>web</td>\n",
       "      <td>operating</td>\n",
       "      <td>2005-10-17</td>\n",
       "      <td>NaT</td>\n",
       "      <td>wetpaint-inc.com</td>\n",
       "      <td>BachelrWetpaint</td>\n",
       "      <td>USA</td>\n",
       "      <td>0.0</td>\n",
       "      <td>3.0</td>\n",
       "      <td>39750000.0</td>\n",
       "      <td>5.0</td>\n",
       "      <td>NaN</td>\n",
       "      <td>NaN</td>\n",
       "      <td>NaN</td>\n",
       "      <td>NaN</td>\n",
       "      <td>NaN</td>\n",
       "      <td>NaT</td>\n",
       "    </tr>\n",
       "    <tr>\n",
       "      <th>1</th>\n",
       "      <td>10.0</td>\n",
       "      <td>Flektor</td>\n",
       "      <td>games_video</td>\n",
       "      <td>acquired</td>\n",
       "      <td>NaT</td>\n",
       "      <td>NaT</td>\n",
       "      <td>flektor.com</td>\n",
       "      <td>NaN</td>\n",
       "      <td>USA</td>\n",
       "      <td>0.0</td>\n",
       "      <td>0.0</td>\n",
       "      <td>0.0</td>\n",
       "      <td>0.0</td>\n",
       "      <td>1.0</td>\n",
       "      <td>11.0</td>\n",
       "      <td>10.0</td>\n",
       "      <td>NaN</td>\n",
       "      <td>2.000000e+07</td>\n",
       "      <td>2007-05-30</td>\n",
       "    </tr>\n",
       "    <tr>\n",
       "      <th>2</th>\n",
       "      <td>100.0</td>\n",
       "      <td>There</td>\n",
       "      <td>games_video</td>\n",
       "      <td>acquired</td>\n",
       "      <td>NaT</td>\n",
       "      <td>NaT</td>\n",
       "      <td>there.com</td>\n",
       "      <td>NaN</td>\n",
       "      <td>USA</td>\n",
       "      <td>0.0</td>\n",
       "      <td>0.0</td>\n",
       "      <td>0.0</td>\n",
       "      <td>4.0</td>\n",
       "      <td>20.0</td>\n",
       "      <td>377.0</td>\n",
       "      <td>100.0</td>\n",
       "      <td>cash</td>\n",
       "      <td>0.000000e+00</td>\n",
       "      <td>2005-05-29</td>\n",
       "    </tr>\n",
       "    <tr>\n",
       "      <th>3</th>\n",
       "      <td>10000.0</td>\n",
       "      <td>MYWEBBO</td>\n",
       "      <td>network_hosting</td>\n",
       "      <td>operating</td>\n",
       "      <td>2008-07-26</td>\n",
       "      <td>NaT</td>\n",
       "      <td>mywebbo.com</td>\n",
       "      <td>NaN</td>\n",
       "      <td>NaN</td>\n",
       "      <td>0.0</td>\n",
       "      <td>0.0</td>\n",
       "      <td>0.0</td>\n",
       "      <td>0.0</td>\n",
       "      <td>NaN</td>\n",
       "      <td>NaN</td>\n",
       "      <td>NaN</td>\n",
       "      <td>NaN</td>\n",
       "      <td>NaN</td>\n",
       "      <td>NaT</td>\n",
       "    </tr>\n",
       "    <tr>\n",
       "      <th>4</th>\n",
       "      <td>10001.0</td>\n",
       "      <td>THE Movie Streamer</td>\n",
       "      <td>games_video</td>\n",
       "      <td>operating</td>\n",
       "      <td>2008-07-26</td>\n",
       "      <td>NaT</td>\n",
       "      <td>themoviestreamer.com</td>\n",
       "      <td>NaN</td>\n",
       "      <td>NaN</td>\n",
       "      <td>0.0</td>\n",
       "      <td>0.0</td>\n",
       "      <td>0.0</td>\n",
       "      <td>0.0</td>\n",
       "      <td>NaN</td>\n",
       "      <td>NaN</td>\n",
       "      <td>NaN</td>\n",
       "      <td>NaN</td>\n",
       "      <td>NaN</td>\n",
       "      <td>NaT</td>\n",
       "    </tr>\n",
       "    <tr>\n",
       "      <th>...</th>\n",
       "      <td>...</td>\n",
       "      <td>...</td>\n",
       "      <td>...</td>\n",
       "      <td>...</td>\n",
       "      <td>...</td>\n",
       "      <td>...</td>\n",
       "      <td>...</td>\n",
       "      <td>...</td>\n",
       "      <td>...</td>\n",
       "      <td>...</td>\n",
       "      <td>...</td>\n",
       "      <td>...</td>\n",
       "      <td>...</td>\n",
       "      <td>...</td>\n",
       "      <td>...</td>\n",
       "      <td>...</td>\n",
       "      <td>...</td>\n",
       "      <td>...</td>\n",
       "      <td>...</td>\n",
       "    </tr>\n",
       "    <tr>\n",
       "      <th>196692</th>\n",
       "      <td>3429.0</td>\n",
       "      <td>Zend Technologies</td>\n",
       "      <td>software</td>\n",
       "      <td>operating</td>\n",
       "      <td>1999-01-01</td>\n",
       "      <td>NaT</td>\n",
       "      <td>zend.com</td>\n",
       "      <td>networkzend</td>\n",
       "      <td>USA</td>\n",
       "      <td>0.0</td>\n",
       "      <td>4.0</td>\n",
       "      <td>44000000.0</td>\n",
       "      <td>6.0</td>\n",
       "      <td>NaN</td>\n",
       "      <td>NaN</td>\n",
       "      <td>NaN</td>\n",
       "      <td>NaN</td>\n",
       "      <td>NaN</td>\n",
       "      <td>NaT</td>\n",
       "    </tr>\n",
       "    <tr>\n",
       "      <th>196693</th>\n",
       "      <td>7748.0</td>\n",
       "      <td>Flowgram</td>\n",
       "      <td>web</td>\n",
       "      <td>closed</td>\n",
       "      <td>2007-06-01</td>\n",
       "      <td>2008-06-11</td>\n",
       "      <td>flowgram.com</td>\n",
       "      <td>network</td>\n",
       "      <td>USA</td>\n",
       "      <td>0.0</td>\n",
       "      <td>1.0</td>\n",
       "      <td>1300000.0</td>\n",
       "      <td>3.0</td>\n",
       "      <td>NaN</td>\n",
       "      <td>NaN</td>\n",
       "      <td>NaN</td>\n",
       "      <td>NaN</td>\n",
       "      <td>NaN</td>\n",
       "      <td>NaT</td>\n",
       "    </tr>\n",
       "    <tr>\n",
       "      <th>196694</th>\n",
       "      <td>174536.0</td>\n",
       "      <td>Pphotonet</td>\n",
       "      <td>games_video</td>\n",
       "      <td>operating</td>\n",
       "      <td>2012-05-01</td>\n",
       "      <td>NaT</td>\n",
       "      <td>pPhotonet.co</td>\n",
       "      <td>pPhotonet</td>\n",
       "      <td>NaN</td>\n",
       "      <td>0.0</td>\n",
       "      <td>0.0</td>\n",
       "      <td>0.0</td>\n",
       "      <td>0.0</td>\n",
       "      <td>NaN</td>\n",
       "      <td>NaN</td>\n",
       "      <td>NaN</td>\n",
       "      <td>NaN</td>\n",
       "      <td>NaN</td>\n",
       "      <td>NaT</td>\n",
       "    </tr>\n",
       "    <tr>\n",
       "      <th>196695</th>\n",
       "      <td>43233.0</td>\n",
       "      <td>Photonet</td>\n",
       "      <td>photo_video</td>\n",
       "      <td>acquired</td>\n",
       "      <td>2010-03-01</td>\n",
       "      <td>NaT</td>\n",
       "      <td>Photonet.com</td>\n",
       "      <td>Photonet</td>\n",
       "      <td>USA</td>\n",
       "      <td>0.0</td>\n",
       "      <td>3.0</td>\n",
       "      <td>57500000.0</td>\n",
       "      <td>3.0</td>\n",
       "      <td>6968.0</td>\n",
       "      <td>5.0</td>\n",
       "      <td>43233.0</td>\n",
       "      <td>cash_and_stock</td>\n",
       "      <td>1.010470e+09</td>\n",
       "      <td>2012-04-09</td>\n",
       "    </tr>\n",
       "    <tr>\n",
       "      <th>196696</th>\n",
       "      <td>NaN</td>\n",
       "      <td>NaN</td>\n",
       "      <td>NaN</td>\n",
       "      <td>NaN</td>\n",
       "      <td>NaT</td>\n",
       "      <td>NaT</td>\n",
       "      <td>NaN</td>\n",
       "      <td>NaN</td>\n",
       "      <td>NaN</td>\n",
       "      <td>NaN</td>\n",
       "      <td>NaN</td>\n",
       "      <td>NaN</td>\n",
       "      <td>NaN</td>\n",
       "      <td>NaN</td>\n",
       "      <td>NaN</td>\n",
       "      <td>NaN</td>\n",
       "      <td>NaN</td>\n",
       "      <td>NaN</td>\n",
       "      <td>NaT</td>\n",
       "    </tr>\n",
       "  </tbody>\n",
       "</table>\n",
       "<p>196697 rows × 19 columns</p>\n",
       "</div>"
      ],
      "text/plain": [
       "        company_ID                name    category_code     status founded_at  \\\n",
       "0              1.0            Wetpaint              web  operating 2005-10-17   \n",
       "1             10.0             Flektor      games_video   acquired        NaT   \n",
       "2            100.0               There      games_video   acquired        NaT   \n",
       "3          10000.0             MYWEBBO  network_hosting  operating 2008-07-26   \n",
       "4          10001.0  THE Movie Streamer      games_video  operating 2008-07-26   \n",
       "...            ...                 ...              ...        ...        ...   \n",
       "196692      3429.0   Zend Technologies         software  operating 1999-01-01   \n",
       "196693      7748.0            Flowgram              web     closed 2007-06-01   \n",
       "196694    174536.0           Pphotonet      games_video  operating 2012-05-01   \n",
       "196695     43233.0            Photonet      photo_video   acquired 2010-03-01   \n",
       "196696         NaN                 NaN              NaN        NaN        NaT   \n",
       "\n",
       "        closed_at                domain network_username country_code  \\\n",
       "0             NaT      wetpaint-inc.com  BachelrWetpaint          USA   \n",
       "1             NaT           flektor.com              NaN          USA   \n",
       "2             NaT             there.com              NaN          USA   \n",
       "3             NaT           mywebbo.com              NaN          NaN   \n",
       "4             NaT  themoviestreamer.com              NaN          NaN   \n",
       "...           ...                   ...              ...          ...   \n",
       "196692        NaT              zend.com      networkzend          USA   \n",
       "196693 2008-06-11          flowgram.com          network          USA   \n",
       "196694        NaT          pPhotonet.co        pPhotonet          NaN   \n",
       "196695        NaT          Photonet.com         Photonet          USA   \n",
       "196696        NaT                   NaN              NaN          NaN   \n",
       "\n",
       "        investment_rounds  funding_rounds  funding_total  milestones      id  \\\n",
       "0                     0.0             3.0     39750000.0         5.0     NaN   \n",
       "1                     0.0             0.0            0.0         0.0     1.0   \n",
       "2                     0.0             0.0            0.0         4.0    20.0   \n",
       "3                     0.0             0.0            0.0         0.0     NaN   \n",
       "4                     0.0             0.0            0.0         0.0     NaN   \n",
       "...                   ...             ...            ...         ...     ...   \n",
       "196692                0.0             4.0     44000000.0         6.0     NaN   \n",
       "196693                0.0             1.0      1300000.0         3.0     NaN   \n",
       "196694                0.0             0.0            0.0         0.0     NaN   \n",
       "196695                0.0             3.0     57500000.0         3.0  6968.0   \n",
       "196696                NaN             NaN            NaN         NaN     NaN   \n",
       "\n",
       "        acquiring_company_id  acquired_company_id       term_code  \\\n",
       "0                        NaN                  NaN             NaN   \n",
       "1                       11.0                 10.0             NaN   \n",
       "2                      377.0                100.0            cash   \n",
       "3                        NaN                  NaN             NaN   \n",
       "4                        NaN                  NaN             NaN   \n",
       "...                      ...                  ...             ...   \n",
       "196692                   NaN                  NaN             NaN   \n",
       "196693                   NaN                  NaN             NaN   \n",
       "196694                   NaN                  NaN             NaN   \n",
       "196695                   5.0              43233.0  cash_and_stock   \n",
       "196696                   NaN                  NaN             NaN   \n",
       "\n",
       "        price_amount acquired_at  \n",
       "0                NaN         NaT  \n",
       "1       2.000000e+07  2007-05-30  \n",
       "2       0.000000e+00  2005-05-29  \n",
       "3                NaN         NaT  \n",
       "4                NaN         NaT  \n",
       "...              ...         ...  \n",
       "196692           NaN         NaT  \n",
       "196693           NaN         NaT  \n",
       "196694           NaN         NaT  \n",
       "196695  1.010470e+09  2012-04-09  \n",
       "196696           NaN         NaT  \n",
       "\n",
       "[196697 rows x 19 columns]"
      ]
     },
     "metadata": {},
     "output_type": "display_data"
    }
   ],
   "source": [
    "# Соединяем данные в единый датасет company_and_acquisition_0\n",
    "company_and_acquisition_0 = pd.merge(df_company, acquisition, left_on='company_ID', right_on='acquired_company_id', how='left')\n",
    "display(company_and_acquisition_0)"
   ]
  },
  {
   "cell_type": "markdown",
   "metadata": {},
   "source": [
    "Теперь отфильтруем полученную таблицу и оставим только те компании, у которых указаны значения `funding_rounds` или `investment_rounds` больше нуля, или те, у которых в колонке `status` указано `acquired`."
   ]
  },
  {
   "cell_type": "code",
   "execution_count": 74,
   "metadata": {},
   "outputs": [
    {
     "data": {
      "text/html": [
       "<div>\n",
       "<style scoped>\n",
       "    .dataframe tbody tr th:only-of-type {\n",
       "        vertical-align: middle;\n",
       "    }\n",
       "\n",
       "    .dataframe tbody tr th {\n",
       "        vertical-align: top;\n",
       "    }\n",
       "\n",
       "    .dataframe thead th {\n",
       "        text-align: right;\n",
       "    }\n",
       "</style>\n",
       "<table border=\"1\" class=\"dataframe\">\n",
       "  <thead>\n",
       "    <tr style=\"text-align: right;\">\n",
       "      <th></th>\n",
       "      <th>company_ID</th>\n",
       "      <th>name</th>\n",
       "      <th>category_code</th>\n",
       "      <th>status</th>\n",
       "      <th>founded_at</th>\n",
       "      <th>closed_at</th>\n",
       "      <th>domain</th>\n",
       "      <th>network_username</th>\n",
       "      <th>country_code</th>\n",
       "      <th>investment_rounds</th>\n",
       "      <th>funding_rounds</th>\n",
       "      <th>funding_total</th>\n",
       "      <th>milestones</th>\n",
       "      <th>id</th>\n",
       "      <th>acquiring_company_id</th>\n",
       "      <th>acquired_company_id</th>\n",
       "      <th>term_code</th>\n",
       "      <th>price_amount</th>\n",
       "      <th>acquired_at</th>\n",
       "    </tr>\n",
       "  </thead>\n",
       "  <tbody>\n",
       "    <tr>\n",
       "      <th>0</th>\n",
       "      <td>1.0</td>\n",
       "      <td>Wetpaint</td>\n",
       "      <td>web</td>\n",
       "      <td>operating</td>\n",
       "      <td>2005-10-17</td>\n",
       "      <td>NaT</td>\n",
       "      <td>wetpaint-inc.com</td>\n",
       "      <td>BachelrWetpaint</td>\n",
       "      <td>USA</td>\n",
       "      <td>0.0</td>\n",
       "      <td>3.0</td>\n",
       "      <td>39750000.0</td>\n",
       "      <td>5.0</td>\n",
       "      <td>NaN</td>\n",
       "      <td>NaN</td>\n",
       "      <td>NaN</td>\n",
       "      <td>NaN</td>\n",
       "      <td>NaN</td>\n",
       "      <td>NaT</td>\n",
       "    </tr>\n",
       "    <tr>\n",
       "      <th>1</th>\n",
       "      <td>10.0</td>\n",
       "      <td>Flektor</td>\n",
       "      <td>games_video</td>\n",
       "      <td>acquired</td>\n",
       "      <td>NaT</td>\n",
       "      <td>NaT</td>\n",
       "      <td>flektor.com</td>\n",
       "      <td>NaN</td>\n",
       "      <td>USA</td>\n",
       "      <td>0.0</td>\n",
       "      <td>0.0</td>\n",
       "      <td>0.0</td>\n",
       "      <td>0.0</td>\n",
       "      <td>1.0</td>\n",
       "      <td>11.0</td>\n",
       "      <td>10.0</td>\n",
       "      <td>NaN</td>\n",
       "      <td>2.000000e+07</td>\n",
       "      <td>2007-05-30</td>\n",
       "    </tr>\n",
       "    <tr>\n",
       "      <th>2</th>\n",
       "      <td>100.0</td>\n",
       "      <td>There</td>\n",
       "      <td>games_video</td>\n",
       "      <td>acquired</td>\n",
       "      <td>NaT</td>\n",
       "      <td>NaT</td>\n",
       "      <td>there.com</td>\n",
       "      <td>NaN</td>\n",
       "      <td>USA</td>\n",
       "      <td>0.0</td>\n",
       "      <td>0.0</td>\n",
       "      <td>0.0</td>\n",
       "      <td>4.0</td>\n",
       "      <td>20.0</td>\n",
       "      <td>377.0</td>\n",
       "      <td>100.0</td>\n",
       "      <td>cash</td>\n",
       "      <td>0.000000e+00</td>\n",
       "      <td>2005-05-29</td>\n",
       "    </tr>\n",
       "    <tr>\n",
       "      <th>13</th>\n",
       "      <td>1001.0</td>\n",
       "      <td>FriendFeed</td>\n",
       "      <td>web</td>\n",
       "      <td>acquired</td>\n",
       "      <td>2007-10-01</td>\n",
       "      <td>NaT</td>\n",
       "      <td>friendfeed.com</td>\n",
       "      <td>friendfeed</td>\n",
       "      <td>USA</td>\n",
       "      <td>0.0</td>\n",
       "      <td>1.0</td>\n",
       "      <td>5000000.0</td>\n",
       "      <td>3.0</td>\n",
       "      <td>1901.0</td>\n",
       "      <td>5.0</td>\n",
       "      <td>1001.0</td>\n",
       "      <td>cash_and_stock</td>\n",
       "      <td>4.750000e+07</td>\n",
       "      <td>2009-08-10</td>\n",
       "    </tr>\n",
       "    <tr>\n",
       "      <th>18</th>\n",
       "      <td>10014.0</td>\n",
       "      <td>Mobclix</td>\n",
       "      <td>mobile</td>\n",
       "      <td>acquired</td>\n",
       "      <td>2008-03-01</td>\n",
       "      <td>NaT</td>\n",
       "      <td>mobclix.com</td>\n",
       "      <td>mobclix</td>\n",
       "      <td>USA</td>\n",
       "      <td>0.0</td>\n",
       "      <td>1.0</td>\n",
       "      <td>0.0</td>\n",
       "      <td>4.0</td>\n",
       "      <td>3878.0</td>\n",
       "      <td>23054.0</td>\n",
       "      <td>10014.0</td>\n",
       "      <td>NaN</td>\n",
       "      <td>0.000000e+00</td>\n",
       "      <td>2010-09-30</td>\n",
       "    </tr>\n",
       "    <tr>\n",
       "      <th>...</th>\n",
       "      <td>...</td>\n",
       "      <td>...</td>\n",
       "      <td>...</td>\n",
       "      <td>...</td>\n",
       "      <td>...</td>\n",
       "      <td>...</td>\n",
       "      <td>...</td>\n",
       "      <td>...</td>\n",
       "      <td>...</td>\n",
       "      <td>...</td>\n",
       "      <td>...</td>\n",
       "      <td>...</td>\n",
       "      <td>...</td>\n",
       "      <td>...</td>\n",
       "      <td>...</td>\n",
       "      <td>...</td>\n",
       "      <td>...</td>\n",
       "      <td>...</td>\n",
       "      <td>...</td>\n",
       "    </tr>\n",
       "    <tr>\n",
       "      <th>196687</th>\n",
       "      <td>1344.0</td>\n",
       "      <td>Vobile</td>\n",
       "      <td>web</td>\n",
       "      <td>operating</td>\n",
       "      <td>2005-01-01</td>\n",
       "      <td>NaT</td>\n",
       "      <td>vobileinc.com</td>\n",
       "      <td>networkmobile</td>\n",
       "      <td>USA</td>\n",
       "      <td>0.0</td>\n",
       "      <td>1.0</td>\n",
       "      <td>10000000.0</td>\n",
       "      <td>0.0</td>\n",
       "      <td>NaN</td>\n",
       "      <td>NaN</td>\n",
       "      <td>NaN</td>\n",
       "      <td>NaN</td>\n",
       "      <td>NaN</td>\n",
       "      <td>NaT</td>\n",
       "    </tr>\n",
       "    <tr>\n",
       "      <th>196688</th>\n",
       "      <td>142181.0</td>\n",
       "      <td>Stop Being Watched</td>\n",
       "      <td>software</td>\n",
       "      <td>operating</td>\n",
       "      <td>2010-06-10</td>\n",
       "      <td>NaT</td>\n",
       "      <td>stopbeingwatched.com</td>\n",
       "      <td>SBWinfonetwork</td>\n",
       "      <td>USA</td>\n",
       "      <td>0.0</td>\n",
       "      <td>1.0</td>\n",
       "      <td>500000.0</td>\n",
       "      <td>1.0</td>\n",
       "      <td>NaN</td>\n",
       "      <td>NaN</td>\n",
       "      <td>NaN</td>\n",
       "      <td>NaN</td>\n",
       "      <td>NaN</td>\n",
       "      <td>NaT</td>\n",
       "    </tr>\n",
       "    <tr>\n",
       "      <th>196692</th>\n",
       "      <td>3429.0</td>\n",
       "      <td>Zend Technologies</td>\n",
       "      <td>software</td>\n",
       "      <td>operating</td>\n",
       "      <td>1999-01-01</td>\n",
       "      <td>NaT</td>\n",
       "      <td>zend.com</td>\n",
       "      <td>networkzend</td>\n",
       "      <td>USA</td>\n",
       "      <td>0.0</td>\n",
       "      <td>4.0</td>\n",
       "      <td>44000000.0</td>\n",
       "      <td>6.0</td>\n",
       "      <td>NaN</td>\n",
       "      <td>NaN</td>\n",
       "      <td>NaN</td>\n",
       "      <td>NaN</td>\n",
       "      <td>NaN</td>\n",
       "      <td>NaT</td>\n",
       "    </tr>\n",
       "    <tr>\n",
       "      <th>196693</th>\n",
       "      <td>7748.0</td>\n",
       "      <td>Flowgram</td>\n",
       "      <td>web</td>\n",
       "      <td>closed</td>\n",
       "      <td>2007-06-01</td>\n",
       "      <td>2008-06-11</td>\n",
       "      <td>flowgram.com</td>\n",
       "      <td>network</td>\n",
       "      <td>USA</td>\n",
       "      <td>0.0</td>\n",
       "      <td>1.0</td>\n",
       "      <td>1300000.0</td>\n",
       "      <td>3.0</td>\n",
       "      <td>NaN</td>\n",
       "      <td>NaN</td>\n",
       "      <td>NaN</td>\n",
       "      <td>NaN</td>\n",
       "      <td>NaN</td>\n",
       "      <td>NaT</td>\n",
       "    </tr>\n",
       "    <tr>\n",
       "      <th>196695</th>\n",
       "      <td>43233.0</td>\n",
       "      <td>Photonet</td>\n",
       "      <td>photo_video</td>\n",
       "      <td>acquired</td>\n",
       "      <td>2010-03-01</td>\n",
       "      <td>NaT</td>\n",
       "      <td>Photonet.com</td>\n",
       "      <td>Photonet</td>\n",
       "      <td>USA</td>\n",
       "      <td>0.0</td>\n",
       "      <td>3.0</td>\n",
       "      <td>57500000.0</td>\n",
       "      <td>3.0</td>\n",
       "      <td>6968.0</td>\n",
       "      <td>5.0</td>\n",
       "      <td>43233.0</td>\n",
       "      <td>cash_and_stock</td>\n",
       "      <td>1.010470e+09</td>\n",
       "      <td>2012-04-09</td>\n",
       "    </tr>\n",
       "  </tbody>\n",
       "</table>\n",
       "<p>40890 rows × 19 columns</p>\n",
       "</div>"
      ],
      "text/plain": [
       "        company_ID                name category_code     status founded_at  \\\n",
       "0              1.0            Wetpaint           web  operating 2005-10-17   \n",
       "1             10.0             Flektor   games_video   acquired        NaT   \n",
       "2            100.0               There   games_video   acquired        NaT   \n",
       "13          1001.0          FriendFeed           web   acquired 2007-10-01   \n",
       "18         10014.0             Mobclix        mobile   acquired 2008-03-01   \n",
       "...            ...                 ...           ...        ...        ...   \n",
       "196687      1344.0              Vobile           web  operating 2005-01-01   \n",
       "196688    142181.0  Stop Being Watched      software  operating 2010-06-10   \n",
       "196692      3429.0   Zend Technologies      software  operating 1999-01-01   \n",
       "196693      7748.0            Flowgram           web     closed 2007-06-01   \n",
       "196695     43233.0            Photonet   photo_video   acquired 2010-03-01   \n",
       "\n",
       "        closed_at                domain network_username country_code  \\\n",
       "0             NaT      wetpaint-inc.com  BachelrWetpaint          USA   \n",
       "1             NaT           flektor.com              NaN          USA   \n",
       "2             NaT             there.com              NaN          USA   \n",
       "13            NaT        friendfeed.com       friendfeed          USA   \n",
       "18            NaT           mobclix.com          mobclix          USA   \n",
       "...           ...                   ...              ...          ...   \n",
       "196687        NaT         vobileinc.com    networkmobile          USA   \n",
       "196688        NaT  stopbeingwatched.com   SBWinfonetwork          USA   \n",
       "196692        NaT              zend.com      networkzend          USA   \n",
       "196693 2008-06-11          flowgram.com          network          USA   \n",
       "196695        NaT          Photonet.com         Photonet          USA   \n",
       "\n",
       "        investment_rounds  funding_rounds  funding_total  milestones      id  \\\n",
       "0                     0.0             3.0     39750000.0         5.0     NaN   \n",
       "1                     0.0             0.0            0.0         0.0     1.0   \n",
       "2                     0.0             0.0            0.0         4.0    20.0   \n",
       "13                    0.0             1.0      5000000.0         3.0  1901.0   \n",
       "18                    0.0             1.0            0.0         4.0  3878.0   \n",
       "...                   ...             ...            ...         ...     ...   \n",
       "196687                0.0             1.0     10000000.0         0.0     NaN   \n",
       "196688                0.0             1.0       500000.0         1.0     NaN   \n",
       "196692                0.0             4.0     44000000.0         6.0     NaN   \n",
       "196693                0.0             1.0      1300000.0         3.0     NaN   \n",
       "196695                0.0             3.0     57500000.0         3.0  6968.0   \n",
       "\n",
       "        acquiring_company_id  acquired_company_id       term_code  \\\n",
       "0                        NaN                  NaN             NaN   \n",
       "1                       11.0                 10.0             NaN   \n",
       "2                      377.0                100.0            cash   \n",
       "13                       5.0               1001.0  cash_and_stock   \n",
       "18                   23054.0              10014.0             NaN   \n",
       "...                      ...                  ...             ...   \n",
       "196687                   NaN                  NaN             NaN   \n",
       "196688                   NaN                  NaN             NaN   \n",
       "196692                   NaN                  NaN             NaN   \n",
       "196693                   NaN                  NaN             NaN   \n",
       "196695                   5.0              43233.0  cash_and_stock   \n",
       "\n",
       "        price_amount acquired_at  \n",
       "0                NaN         NaT  \n",
       "1       2.000000e+07  2007-05-30  \n",
       "2       0.000000e+00  2005-05-29  \n",
       "13      4.750000e+07  2009-08-10  \n",
       "18      0.000000e+00  2010-09-30  \n",
       "...              ...         ...  \n",
       "196687           NaN         NaT  \n",
       "196688           NaN         NaT  \n",
       "196692           NaN         NaT  \n",
       "196693           NaN         NaT  \n",
       "196695  1.010470e+09  2012-04-09  \n",
       "\n",
       "[40890 rows x 19 columns]"
      ]
     },
     "metadata": {},
     "output_type": "display_data"
    }
   ],
   "source": [
    "# Проведем фильтрацию полученной таблицы\n",
    "company_and_acquisition = company_and_acquisition_0[\n",
    "    ((company_and_acquisition_0['funding_rounds'] > 0) |\n",
    "    (company_and_acquisition_0['investment_rounds'] > 0)) |\n",
    "    (company_and_acquisition_0['status'] == 'acquired')\n",
    "]\n",
    "display(company_and_acquisition)"
   ]
  },
  {
   "cell_type": "markdown",
   "metadata": {},
   "source": [
    "Получили таблицу `company_and_acquisition`, состоящую из 40890 строк и содержащую необходимую для дальнейшего анализа информацию.\n",
    "\n",
    "Проверим полученную таблицу на дубликаты и пропуски."
   ]
  },
  {
   "cell_type": "code",
   "execution_count": 75,
   "metadata": {},
   "outputs": [
    {
     "data": {
      "text/plain": [
       "company_ID                  0\n",
       "name                        0\n",
       "category_code            5454\n",
       "status                      0\n",
       "founded_at              12979\n",
       "closed_at               38762\n",
       "domain                   5007\n",
       "network_username        19952\n",
       "country_code             6032\n",
       "investment_rounds           0\n",
       "funding_rounds              0\n",
       "funding_total               0\n",
       "milestones                  0\n",
       "id                      31500\n",
       "acquiring_company_id    31500\n",
       "acquired_company_id     31500\n",
       "term_code               39060\n",
       "price_amount            31500\n",
       "acquired_at             31529\n",
       "dtype: int64"
      ]
     },
     "execution_count": 75,
     "metadata": {},
     "output_type": "execute_result"
    }
   ],
   "source": [
    "# Посчитаем количество пропусков\n",
    "company_and_acquisition.isna().sum()"
   ]
  },
  {
   "cell_type": "code",
   "execution_count": 76,
   "metadata": {},
   "outputs": [
    {
     "data": {
      "text/plain": [
       "0"
      ]
     },
     "execution_count": 76,
     "metadata": {},
     "output_type": "execute_result"
    }
   ],
   "source": [
    "# Псчитаем количество явных дубликатов\n",
    "company_and_acquisition.duplicated().sum()"
   ]
  },
  {
   "cell_type": "markdown",
   "metadata": {},
   "source": [
    "Пропуски в таблице есть, но самое главное, что они отсутствуют в столбцах `company_ID` и `name` - это значит, что можем прроанализировать все компании.\n",
    "\n",
    "Дубликаты в таблице отстуствуют.\n",
    "\n",
    "Можем приступать к дальнейшему анализу."
   ]
  },
  {
   "cell_type": "markdown",
   "metadata": {
    "id": "DFHINkV3rJg2"
   },
   "source": [
    "\n",
    "### 3.2. Анализ выбросов\n",
    "\n"
   ]
  },
  {
   "cell_type": "markdown",
   "metadata": {
    "id": "8jm75fKXrJg2",
    "vscode": {
     "languageId": "plaintext"
    }
   },
   "source": [
    "Для начала оценим статистические показатели для столбца `funding_total`."
   ]
  },
  {
   "cell_type": "code",
   "execution_count": 77,
   "metadata": {},
   "outputs": [
    {
     "name": "stdout",
     "output_type": "stream",
     "text": [
      "Статистические показатели столбца funding_total:\n"
     ]
    },
    {
     "data": {
      "text/plain": [
       "count    4.089000e+04\n",
       "mean     1.013559e+07\n",
       "std      5.641289e+07\n",
       "min      0.000000e+00\n",
       "25%      0.000000e+00\n",
       "50%      6.000000e+05\n",
       "75%      5.631320e+06\n",
       "max      5.700000e+09\n",
       "Name: funding_total, dtype: float64"
      ]
     },
     "execution_count": 77,
     "metadata": {},
     "output_type": "execute_result"
    }
   ],
   "source": [
    "# Изучаем статистические показатели столбца funding_total\n",
    "print('Статистические показатели столбца funding_total:')\n",
    "company_and_acquisition['funding_total'].describe()"
   ]
  },
  {
   "cell_type": "markdown",
   "metadata": {},
   "source": [
    "По полученным статистическим показателям можно заметить, что данные об итоговой сумме финансирования имеют асимметричное распределение, сильно смещенное вправо из-за наличия выбросов, поскольку среднее значение значительно больше медианы **(10,14 млн > 600 тыс)**. Стандартное отклонение составляет **56,41 млн** и сильно превышает среднее значение, что указывает на большой разброс данных. Это подтверждается разницей между минимальным **(0)** и максимальным **(5,7 млрд)** значениями.\n",
    "\n",
    "Дополнительно проверим это и построим гистограмму распределения значений и диаграмму размаха для столбца с итоговой суммой финансирования."
   ]
  },
  {
   "cell_type": "code",
   "execution_count": 78,
   "metadata": {
    "scrolled": true
   },
   "outputs": [
    {
     "data": {
      "image/png": "[encoded data removed]",
      "text/plain": [
       "<Figure size 720x360 with 1 Axes>"
      ]
     },
     "metadata": {
      "needs_background": "light"
     },
     "output_type": "display_data"
    }
   ],
   "source": [
    "# Создаём контейнер графика matplotlib и задаём его размер\n",
    "plt.figure(figsize=(10, 5))\n",
    "\n",
    "# Строим гистограмму \n",
    "sns.histplot(\n",
    "                data=company_and_acquisition,\n",
    "                x='funding_total',\n",
    "                bins=50, # Устанавливаем количество корзин \n",
    "                alpha=0.75,\n",
    "                edgecolor='black',\n",
    "                kde=True\n",
    ")\n",
    "\n",
    "# Настраиваем оформление графика\n",
    "plt.title('Распределение размера общего финансирования')\n",
    "plt.xlabel('Сумма финансирования')\n",
    "plt.ylabel(' ')\n",
    "# Добавляем сетку графика\n",
    "plt.grid()\n",
    "\n",
    "# Выводим график\n",
    "plt.show()"
   ]
  },
  {
   "cell_type": "markdown",
   "metadata": {},
   "source": [
    "Для большей информативности построим гистограмму в логарифмической шкале."
   ]
  },
  {
   "cell_type": "code",
   "execution_count": 102,
   "metadata": {
    "scrolled": true
   },
   "outputs": [
    {
     "data": {
      "image/png": "[encoded data removed]",
      "text/plain": [
       "<Figure size 720x360 with 1 Axes>"
      ]
     },
     "metadata": {
      "needs_background": "light"
     },
     "output_type": "display_data"
    }
   ],
   "source": [
    "# Создаём контейнер графика matplotlib и задаём его размер\n",
    "plt.figure(figsize=(10, 5))\n",
    "\n",
    "# Строим гистограмму \n",
    "company_and_acquisition['funding_total'].plot(\n",
    "                kind='hist', # Тип графика - гистограмма\n",
    "                bins=50, # Устанавливаем количество корзин \n",
    "                alpha=0.75,\n",
    "                edgecolor='black',\n",
    "                rot=0, # Градус вращения подписи по оси Х\n",
    "                logy=True\n",
    ")\n",
    "\n",
    "# Настраиваем оформление графика\n",
    "plt.title('Распределение размера общего финансирования в логарифмической шкале')\n",
    "plt.xlabel('Сумма финансирования')\n",
    "plt.ylabel('Количество компаний (логарифмическая шкала)')\n",
    "# Добавляем сетку графика\n",
    "plt.grid()\n",
    "\n",
    "# Выводим график\n",
    "plt.show()"
   ]
  },
  {
   "cell_type": "code",
   "execution_count": 101,
   "metadata": {},
   "outputs": [
    {
     "data": {
      "image/png": "[encoded data removed]",
      "text/plain": [
       "<Figure size 720x360 with 1 Axes>"
      ]
     },
     "metadata": {
      "needs_background": "light"
     },
     "output_type": "display_data"
    }
   ],
   "source": [
    "# Создаём контейнер графика matplotlib и задаём его размер\n",
    "plt.figure(figsize=(10, 5))\n",
    "\n",
    "# Строим диаграмму размаха \n",
    "company_and_acquisition.boxplot(column='funding_total', vert=False)\n",
    "\n",
    "# Добавляем заголовок и метки оси\n",
    "plt.title('Распределение суммы общего финансирования')\n",
    "plt.xlabel('Сумма финансирования')\n",
    "\n",
    "\n",
    "# Выводим график\n",
    "plt.show()"
   ]
  },
  {
   "cell_type": "markdown",
   "metadata": {},
   "source": [
    "По полученным графикам видим, что большая часть сумм финансированиянаходится вблизи минимальных значений, а величина выбросов в зоне максимальных значений настолько велика, что очень сложно оценить данные.\n",
    "\n",
    "Поэтому попробуем посмотреть на данные, убрав выбросы."
   ]
  },
  {
   "cell_type": "code",
   "execution_count": 81,
   "metadata": {},
   "outputs": [
    {
     "data": {
      "image/png": "[encoded data removed]",
      "text/plain": [
       "<Figure size 720x360 with 1 Axes>"
      ]
     },
     "metadata": {
      "needs_background": "light"
     },
     "output_type": "display_data"
    }
   ],
   "source": [
    "# Создаём контейнер графика matplotlib и задаём его размер\n",
    "plt.figure(figsize=(10, 5))\n",
    "\n",
    "# Строим диаграмму размаха \n",
    "company_and_acquisition.boxplot(column='funding_total', vert=False, showfliers=False)\n",
    "\n",
    "# Добавляем заголовок и метки оси\n",
    "plt.title('Распределение суммы общего финансирования')\n",
    "plt.xlabel('Сумма финансирования')\n",
    "\n",
    "# Выводим график\n",
    "plt.show()\n"
   ]
  },
  {
   "cell_type": "markdown",
   "metadata": {},
   "source": [
    "По диаграмме разброса, построенной без выбросов, можно более точно оценить основную массу данных.\n",
    "\n",
    "Получим, что наиболее типичные для компаний суммы финансирования находятся в пределах от 0 до 5,6 млн, а значения свыше будут являтся выбросами.\n",
    "\n",
    "Также оценим долю нулевых значений в столбце."
   ]
  },
  {
   "cell_type": "code",
   "execution_count": 82,
   "metadata": {},
   "outputs": [
    {
     "name": "stdout",
     "output_type": "stream",
     "text": [
      "0.31724137931034485\n"
     ]
    }
   ],
   "source": [
    "# Посчитаем долю нулевых значений в столбце\n",
    "print((company_and_acquisition['funding_total'] == 0).sum() / len(company_and_acquisition['funding_total']))"
   ]
  },
  {
   "cell_type": "markdown",
   "metadata": {},
   "source": [
    "Доля нулевых значений составляет 32%, что превышает значение нижнего квартиля.\n",
    "\n",
    "В результате анализа можно сказать, что для данных этого датасета стандартное нахождение типичных значений малоинформативно из-за большой величины выбросов, и необходимо дополнительно изучить данные без влияния выбросов. Так же для увеличение наглядности отображения данных на некоторых графиках можно использовать логарифмическую шкалу.\n"
   ]
  },
  {
   "cell_type": "markdown",
   "metadata": {
    "id": "JqkRAQrIrJg2"
   },
   "source": [
    "\n",
    "### 3.3. Куплены забесплатно?\n",
    "\n"
   ]
  },
  {
   "cell_type": "markdown",
   "metadata": {},
   "source": [
    "Для начала выделим компании, которые были проданы за ноль или за один доллар, и при этом известно, что у них был ненулевой общий объём финансирования - для этого проведем фильтрацию нашей таблицы."
   ]
  },
  {
   "cell_type": "code",
   "execution_count": 83,
   "metadata": {},
   "outputs": [
    {
     "data": {
      "text/html": [
       "<div>\n",
       "<style scoped>\n",
       "    .dataframe tbody tr th:only-of-type {\n",
       "        vertical-align: middle;\n",
       "    }\n",
       "\n",
       "    .dataframe tbody tr th {\n",
       "        vertical-align: top;\n",
       "    }\n",
       "\n",
       "    .dataframe thead th {\n",
       "        text-align: right;\n",
       "    }\n",
       "</style>\n",
       "<table border=\"1\" class=\"dataframe\">\n",
       "  <thead>\n",
       "    <tr style=\"text-align: right;\">\n",
       "      <th></th>\n",
       "      <th>company_ID</th>\n",
       "      <th>name</th>\n",
       "      <th>category_code</th>\n",
       "      <th>status</th>\n",
       "      <th>founded_at</th>\n",
       "      <th>closed_at</th>\n",
       "      <th>domain</th>\n",
       "      <th>network_username</th>\n",
       "      <th>country_code</th>\n",
       "      <th>investment_rounds</th>\n",
       "      <th>funding_rounds</th>\n",
       "      <th>funding_total</th>\n",
       "      <th>milestones</th>\n",
       "      <th>id</th>\n",
       "      <th>acquiring_company_id</th>\n",
       "      <th>acquired_company_id</th>\n",
       "      <th>term_code</th>\n",
       "      <th>price_amount</th>\n",
       "      <th>acquired_at</th>\n",
       "    </tr>\n",
       "  </thead>\n",
       "  <tbody>\n",
       "    <tr>\n",
       "      <th>66</th>\n",
       "      <td>10054.0</td>\n",
       "      <td>Jumptap</td>\n",
       "      <td>mobile</td>\n",
       "      <td>acquired</td>\n",
       "      <td>2005-01-01</td>\n",
       "      <td>NaT</td>\n",
       "      <td>jumptap.com</td>\n",
       "      <td>jumptap</td>\n",
       "      <td>USA</td>\n",
       "      <td>0.0</td>\n",
       "      <td>7.0</td>\n",
       "      <td>121500000.0</td>\n",
       "      <td>3.0</td>\n",
       "      <td>9288.0</td>\n",
       "      <td>23283.0</td>\n",
       "      <td>10054.0</td>\n",
       "      <td>cash_and_stock</td>\n",
       "      <td>0.0</td>\n",
       "      <td>2013-08-13</td>\n",
       "    </tr>\n",
       "    <tr>\n",
       "      <th>170</th>\n",
       "      <td>101312.0</td>\n",
       "      <td>SideTour</td>\n",
       "      <td>web</td>\n",
       "      <td>acquired</td>\n",
       "      <td>2011-06-01</td>\n",
       "      <td>NaT</td>\n",
       "      <td>sidetour.com</td>\n",
       "      <td>sidetour</td>\n",
       "      <td>USA</td>\n",
       "      <td>0.0</td>\n",
       "      <td>3.0</td>\n",
       "      <td>4000000.0</td>\n",
       "      <td>2.0</td>\n",
       "      <td>9653.0</td>\n",
       "      <td>11391.0</td>\n",
       "      <td>101312.0</td>\n",
       "      <td>NaN</td>\n",
       "      <td>0.0</td>\n",
       "      <td>2013-09-18</td>\n",
       "    </tr>\n",
       "    <tr>\n",
       "      <th>177</th>\n",
       "      <td>101340.0</td>\n",
       "      <td>ChoicePass</td>\n",
       "      <td>enterprise</td>\n",
       "      <td>acquired</td>\n",
       "      <td>2011-07-01</td>\n",
       "      <td>NaT</td>\n",
       "      <td>choicepass.com</td>\n",
       "      <td>choicepass</td>\n",
       "      <td>USA</td>\n",
       "      <td>0.0</td>\n",
       "      <td>1.0</td>\n",
       "      <td>250000.0</td>\n",
       "      <td>1.0</td>\n",
       "      <td>7272.0</td>\n",
       "      <td>1972.0</td>\n",
       "      <td>101340.0</td>\n",
       "      <td>NaN</td>\n",
       "      <td>0.0</td>\n",
       "      <td>2012-06-18</td>\n",
       "    </tr>\n",
       "    <tr>\n",
       "      <th>181</th>\n",
       "      <td>10137.0</td>\n",
       "      <td>Producteev</td>\n",
       "      <td>software</td>\n",
       "      <td>acquired</td>\n",
       "      <td>2008-07-08</td>\n",
       "      <td>NaT</td>\n",
       "      <td>producteev.com</td>\n",
       "      <td>producteev</td>\n",
       "      <td>USA</td>\n",
       "      <td>0.0</td>\n",
       "      <td>3.0</td>\n",
       "      <td>1310000.0</td>\n",
       "      <td>2.0</td>\n",
       "      <td>8254.0</td>\n",
       "      <td>757.0</td>\n",
       "      <td>10137.0</td>\n",
       "      <td>cash_and_stock</td>\n",
       "      <td>0.0</td>\n",
       "      <td>2012-11-05</td>\n",
       "    </tr>\n",
       "    <tr>\n",
       "      <th>184</th>\n",
       "      <td>10139.0</td>\n",
       "      <td>TradeCard</td>\n",
       "      <td>enterprise</td>\n",
       "      <td>acquired</td>\n",
       "      <td>1999-01-01</td>\n",
       "      <td>NaT</td>\n",
       "      <td>tradecard.com</td>\n",
       "      <td>TradeCard</td>\n",
       "      <td>USA</td>\n",
       "      <td>0.0</td>\n",
       "      <td>2.0</td>\n",
       "      <td>44925000.0</td>\n",
       "      <td>1.0</td>\n",
       "      <td>9326.0</td>\n",
       "      <td>44008.0</td>\n",
       "      <td>10139.0</td>\n",
       "      <td>NaN</td>\n",
       "      <td>0.0</td>\n",
       "      <td>2013-04-01</td>\n",
       "    </tr>\n",
       "    <tr>\n",
       "      <th>...</th>\n",
       "      <td>...</td>\n",
       "      <td>...</td>\n",
       "      <td>...</td>\n",
       "      <td>...</td>\n",
       "      <td>...</td>\n",
       "      <td>...</td>\n",
       "      <td>...</td>\n",
       "      <td>...</td>\n",
       "      <td>...</td>\n",
       "      <td>...</td>\n",
       "      <td>...</td>\n",
       "      <td>...</td>\n",
       "      <td>...</td>\n",
       "      <td>...</td>\n",
       "      <td>...</td>\n",
       "      <td>...</td>\n",
       "      <td>...</td>\n",
       "      <td>...</td>\n",
       "      <td>...</td>\n",
       "    </tr>\n",
       "    <tr>\n",
       "      <th>196402</th>\n",
       "      <td>99.0</td>\n",
       "      <td>Amie Street</td>\n",
       "      <td>web</td>\n",
       "      <td>acquired</td>\n",
       "      <td>2011-07-04</td>\n",
       "      <td>NaT</td>\n",
       "      <td>amiestreet.com</td>\n",
       "      <td>amiestreet_logs</td>\n",
       "      <td>USA</td>\n",
       "      <td>0.0</td>\n",
       "      <td>2.0</td>\n",
       "      <td>3900000.0</td>\n",
       "      <td>0.0</td>\n",
       "      <td>7024.0</td>\n",
       "      <td>317.0</td>\n",
       "      <td>99.0</td>\n",
       "      <td>NaN</td>\n",
       "      <td>0.0</td>\n",
       "      <td>2010-09-22</td>\n",
       "    </tr>\n",
       "    <tr>\n",
       "      <th>196411</th>\n",
       "      <td>9905.0</td>\n",
       "      <td>UBmatrix</td>\n",
       "      <td>software</td>\n",
       "      <td>acquired</td>\n",
       "      <td>2005-01-01</td>\n",
       "      <td>NaT</td>\n",
       "      <td>ubmatrix.com</td>\n",
       "      <td>NaN</td>\n",
       "      <td>USA</td>\n",
       "      <td>0.0</td>\n",
       "      <td>2.0</td>\n",
       "      <td>5172350.0</td>\n",
       "      <td>0.0</td>\n",
       "      <td>3381.0</td>\n",
       "      <td>41119.0</td>\n",
       "      <td>9905.0</td>\n",
       "      <td>NaN</td>\n",
       "      <td>0.0</td>\n",
       "      <td>2010-06-24</td>\n",
       "    </tr>\n",
       "    <tr>\n",
       "      <th>196430</th>\n",
       "      <td>992.0</td>\n",
       "      <td>wunderloop</td>\n",
       "      <td>advertising</td>\n",
       "      <td>acquired</td>\n",
       "      <td>1999-01-01</td>\n",
       "      <td>NaT</td>\n",
       "      <td>wunderloop.com</td>\n",
       "      <td>NaN</td>\n",
       "      <td>USA</td>\n",
       "      <td>0.0</td>\n",
       "      <td>1.0</td>\n",
       "      <td>10000000.0</td>\n",
       "      <td>1.0</td>\n",
       "      <td>9916.0</td>\n",
       "      <td>19182.0</td>\n",
       "      <td>992.0</td>\n",
       "      <td>NaN</td>\n",
       "      <td>0.0</td>\n",
       "      <td>2010-07-02</td>\n",
       "    </tr>\n",
       "    <tr>\n",
       "      <th>196489</th>\n",
       "      <td>997.0</td>\n",
       "      <td>Zimbra</td>\n",
       "      <td>enterprise</td>\n",
       "      <td>acquired</td>\n",
       "      <td>2003-01-01</td>\n",
       "      <td>NaT</td>\n",
       "      <td>zimbra.com</td>\n",
       "      <td>zimbra</td>\n",
       "      <td>USA</td>\n",
       "      <td>0.0</td>\n",
       "      <td>1.0</td>\n",
       "      <td>14500000.0</td>\n",
       "      <td>3.0</td>\n",
       "      <td>9121.0</td>\n",
       "      <td>415.0</td>\n",
       "      <td>997.0</td>\n",
       "      <td>NaN</td>\n",
       "      <td>0.0</td>\n",
       "      <td>2013-07-15</td>\n",
       "    </tr>\n",
       "    <tr>\n",
       "      <th>196562</th>\n",
       "      <td>153326.0</td>\n",
       "      <td>Yoke</td>\n",
       "      <td>web</td>\n",
       "      <td>acquired</td>\n",
       "      <td>NaT</td>\n",
       "      <td>NaT</td>\n",
       "      <td>apps.socialnet.com::yokeapp</td>\n",
       "      <td>NaN</td>\n",
       "      <td>NaN</td>\n",
       "      <td>0.0</td>\n",
       "      <td>1.0</td>\n",
       "      <td>500000.0</td>\n",
       "      <td>1.0</td>\n",
       "      <td>7948.0</td>\n",
       "      <td>2352.0</td>\n",
       "      <td>153326.0</td>\n",
       "      <td>NaN</td>\n",
       "      <td>0.0</td>\n",
       "      <td>2012-09-11</td>\n",
       "    </tr>\n",
       "  </tbody>\n",
       "</table>\n",
       "<p>1618 rows × 19 columns</p>\n",
       "</div>"
      ],
      "text/plain": [
       "        company_ID         name category_code    status founded_at closed_at  \\\n",
       "66         10054.0      Jumptap        mobile  acquired 2005-01-01       NaT   \n",
       "170       101312.0     SideTour           web  acquired 2011-06-01       NaT   \n",
       "177       101340.0   ChoicePass    enterprise  acquired 2011-07-01       NaT   \n",
       "181        10137.0   Producteev      software  acquired 2008-07-08       NaT   \n",
       "184        10139.0    TradeCard    enterprise  acquired 1999-01-01       NaT   \n",
       "...            ...          ...           ...       ...        ...       ...   \n",
       "196402        99.0  Amie Street           web  acquired 2011-07-04       NaT   \n",
       "196411      9905.0     UBmatrix      software  acquired 2005-01-01       NaT   \n",
       "196430       992.0   wunderloop   advertising  acquired 1999-01-01       NaT   \n",
       "196489       997.0       Zimbra    enterprise  acquired 2003-01-01       NaT   \n",
       "196562    153326.0         Yoke           web  acquired        NaT       NaT   \n",
       "\n",
       "                             domain network_username country_code  \\\n",
       "66                      jumptap.com          jumptap          USA   \n",
       "170                    sidetour.com         sidetour          USA   \n",
       "177                  choicepass.com       choicepass          USA   \n",
       "181                  producteev.com       producteev          USA   \n",
       "184                   tradecard.com        TradeCard          USA   \n",
       "...                             ...              ...          ...   \n",
       "196402               amiestreet.com  amiestreet_logs          USA   \n",
       "196411                 ubmatrix.com              NaN          USA   \n",
       "196430               wunderloop.com              NaN          USA   \n",
       "196489                   zimbra.com           zimbra          USA   \n",
       "196562  apps.socialnet.com::yokeapp              NaN          NaN   \n",
       "\n",
       "        investment_rounds  funding_rounds  funding_total  milestones      id  \\\n",
       "66                    0.0             7.0    121500000.0         3.0  9288.0   \n",
       "170                   0.0             3.0      4000000.0         2.0  9653.0   \n",
       "177                   0.0             1.0       250000.0         1.0  7272.0   \n",
       "181                   0.0             3.0      1310000.0         2.0  8254.0   \n",
       "184                   0.0             2.0     44925000.0         1.0  9326.0   \n",
       "...                   ...             ...            ...         ...     ...   \n",
       "196402                0.0             2.0      3900000.0         0.0  7024.0   \n",
       "196411                0.0             2.0      5172350.0         0.0  3381.0   \n",
       "196430                0.0             1.0     10000000.0         1.0  9916.0   \n",
       "196489                0.0             1.0     14500000.0         3.0  9121.0   \n",
       "196562                0.0             1.0       500000.0         1.0  7948.0   \n",
       "\n",
       "        acquiring_company_id  acquired_company_id       term_code  \\\n",
       "66                   23283.0              10054.0  cash_and_stock   \n",
       "170                  11391.0             101312.0             NaN   \n",
       "177                   1972.0             101340.0             NaN   \n",
       "181                    757.0              10137.0  cash_and_stock   \n",
       "184                  44008.0              10139.0             NaN   \n",
       "...                      ...                  ...             ...   \n",
       "196402                 317.0                 99.0             NaN   \n",
       "196411               41119.0               9905.0             NaN   \n",
       "196430               19182.0                992.0             NaN   \n",
       "196489                 415.0                997.0             NaN   \n",
       "196562                2352.0             153326.0             NaN   \n",
       "\n",
       "        price_amount acquired_at  \n",
       "66               0.0  2013-08-13  \n",
       "170              0.0  2013-09-18  \n",
       "177              0.0  2012-06-18  \n",
       "181              0.0  2012-11-05  \n",
       "184              0.0  2013-04-01  \n",
       "...              ...         ...  \n",
       "196402           0.0  2010-09-22  \n",
       "196411           0.0  2010-06-24  \n",
       "196430           0.0  2010-07-02  \n",
       "196489           0.0  2013-07-15  \n",
       "196562           0.0  2012-09-11  \n",
       "\n",
       "[1618 rows x 19 columns]"
      ]
     },
     "metadata": {},
     "output_type": "display_data"
    }
   ],
   "source": [
    "company_and_acquisition_filt = company_and_acquisition[\n",
    "    (company_and_acquisition['funding_total'] > 0) &\n",
    "    ((company_and_acquisition['price_amount'] == 0) |\n",
    "    (company_and_acquisition['price_amount'] == 1))\n",
    "]\n",
    "display(company_and_acquisition_filt)"
   ]
  },
  {
   "cell_type": "markdown",
   "metadata": {},
   "source": [
    "Рассмотрим распределение данных о сумме общего финансирования для данной таблицы."
   ]
  },
  {
   "cell_type": "code",
   "execution_count": 84,
   "metadata": {
    "id": "wJHXCBwwrJg2",
    "scrolled": true,
    "vscode": {
     "languageId": "plaintext"
    }
   },
   "outputs": [
    {
     "data": {
      "image/png": "[encoded data removed]",
      "text/plain": [
       "<Figure size 720x360 with 1 Axes>"
      ]
     },
     "metadata": {
      "needs_background": "light"
     },
     "output_type": "display_data"
    }
   ],
   "source": [
    "# Создаём контейнер графика matplotlib и задаём его размер\n",
    "plt.figure(figsize=(10, 5))\n",
    "\n",
    "# Строим гистограмму \n",
    "sns.histplot(\n",
    "                data=company_and_acquisition_filt,\n",
    "                x='funding_total',\n",
    "                bins=50, # Устанавливаем количество корзин \n",
    "                alpha=0.75,\n",
    "                edgecolor='black',\n",
    "                kde=True\n",
    ")\n",
    "\n",
    "# Настраиваем оформление графика\n",
    "plt.title('Распределение размера общего финансирования')\n",
    "plt.xlabel('Сумма финансирования')\n",
    "plt.ylabel(' ')\n",
    "# Добавляем сетку графика\n",
    "plt.grid()\n",
    "\n",
    "# Выводим график\n",
    "plt.show()"
   ]
  },
  {
   "cell_type": "markdown",
   "metadata": {},
   "source": [
    "Такой вид графика не очень информативен, построим гистограмму с логарифмической у-шкалой."
   ]
  },
  {
   "cell_type": "code",
   "execution_count": 103,
   "metadata": {},
   "outputs": [
    {
     "data": {
      "image/png": "[encoded data removed]",
      "text/plain": [
       "<Figure size 720x360 with 1 Axes>"
      ]
     },
     "metadata": {
      "needs_background": "light"
     },
     "output_type": "display_data"
    }
   ],
   "source": [
    "# Создаём контейнер графика matplotlib и задаём его размер\n",
    "plt.figure(figsize=(10, 5))\n",
    "\n",
    "# Строим гистограмму \n",
    "company_and_acquisition_filt['funding_total'].plot(\n",
    "                kind='hist', # Тип графика - гистограмма\n",
    "                bins=50, # Устанавливаем количество корзин \n",
    "                alpha=0.75,\n",
    "                edgecolor='black',\n",
    "                rot=0, # Градус вращения подписи по оси Х\n",
    "                logy=True\n",
    ")\n",
    "\n",
    "# Настраиваем оформление графика\n",
    "plt.title('Распределение размера общего финансирования в логарифмической шкале')\n",
    "plt.xlabel('Сумма финансирования')\n",
    "plt.ylabel('Количество компаний (логарифмическая шкала)')\n",
    "# Добавляем сетку графика\n",
    "plt.grid()\n",
    "\n",
    "# Выводим график\n",
    "plt.show()"
   ]
  },
  {
   "cell_type": "markdown",
   "metadata": {},
   "source": [
    "В соответствии с этим графиком можно более точно оценить основную часть информации о размере общего финансирования, которая составляет до 500 миллионов. Также отчётливо виден выброс, связанный с финансированием в размере около 5,7 миллиарда."
   ]
  },
  {
   "cell_type": "code",
   "execution_count": 86,
   "metadata": {},
   "outputs": [
    {
     "data": {
      "image/png": "[encoded data removed]",
      "text/plain": [
       "<Figure size 720x360 with 1 Axes>"
      ]
     },
     "metadata": {
      "needs_background": "light"
     },
     "output_type": "display_data"
    }
   ],
   "source": [
    "# Создаём контейнер графика matplotlib и задаём его размер\n",
    "plt.figure(figsize=(10, 5))\n",
    "\n",
    "# Строим диаграмму размаха \n",
    "company_and_acquisition_filt.boxplot(column='funding_total', vert=False)\n",
    "\n",
    "# Добавляем заголовок и метки оси\n",
    "plt.title('Распределение суммы общего финансирования')\n",
    "plt.xlabel('Сумма финансирования')\n",
    "\n",
    "# Выводим график\n",
    "plt.show()"
   ]
  },
  {
   "cell_type": "markdown",
   "metadata": {},
   "source": [
    "На данные также влияют выбросы с большими значениями сумм финансирования.\n",
    "\n",
    "Уберем выбросы и рассмотрим полученную диаграмму разброса"
   ]
  },
  {
   "cell_type": "code",
   "execution_count": 87,
   "metadata": {},
   "outputs": [
    {
     "data": {
      "image/png": "[encoded data removed]",
      "text/plain": [
       "<Figure size 720x360 with 1 Axes>"
      ]
     },
     "metadata": {
      "needs_background": "light"
     },
     "output_type": "display_data"
    }
   ],
   "source": [
    "# Создаём контейнер графика matplotlib и задаём его размер\n",
    "plt.figure(figsize=(10, 5))\n",
    "\n",
    "# Строим диаграмму размаха \n",
    "company_and_acquisition_filt.boxplot(column='funding_total', vert=False, showfliers=False)\n",
    "\n",
    "# Добавляем заголовок и метки оси\n",
    "plt.title('Распределение суммы общего финансирования')\n",
    "plt.xlabel('Сумма финансирования')\n",
    "\n",
    "# Выводим график\n",
    "plt.show()"
   ]
  },
  {
   "cell_type": "markdown",
   "metadata": {},
   "source": [
    "Теперь, когда убраны нулевые значения и выбросы, видим, что основная часть данных наодится между 2 млн и 15,5 млн.\n",
    "\n",
    "Расчитаем верхнюю и нижнюю границу выбросов с помощью метода межквартильного размаха (IQR), и определим процентили, которым они соответствуют."
   ]
  },
  {
   "cell_type": "code",
   "execution_count": 88,
   "metadata": {},
   "outputs": [
    {
     "name": "stdout",
     "output_type": "stream",
     "text": [
      "Нижняя граница выбросов: -18250000.0\n",
      "Верхняя граница выбросов: 35750000.0\n"
     ]
    }
   ],
   "source": [
    "# Рассчитываем квартили\n",
    "Q1 = company_and_acquisition_filt['funding_total'].quantile(0.25)\n",
    "Q3 = company_and_acquisition_filt['funding_total'].quantile(0.75)\n",
    "IQR = Q3 - Q1\n",
    "\n",
    "# Границы выбросов\n",
    "lower_bound = Q1 - 1.5 * IQR\n",
    "upper_bound = Q3 + 1.5 * IQR\n",
    "\n",
    "print(f\"Нижняя граница выбросов: {lower_bound}\")\n",
    "print(f\"Верхняя граница выбросов: {upper_bound}\")"
   ]
  },
  {
   "cell_type": "code",
   "execution_count": 89,
   "metadata": {},
   "outputs": [
    {
     "name": "stdout",
     "output_type": "stream",
     "text": [
      "Нижняя граница -18250000.0 соответствует 0.00% процентилю\n",
      "Верхняя граница 35750000.0 соответствует 90.91% процентилю\n",
      "Процент выбросов: 9.09%\n"
     ]
    }
   ],
   "source": [
    "# Вычисляем процентили для границ\n",
    "lower_percentile = (company_and_acquisition_filt['funding_total'] < lower_bound).mean() * 100\n",
    "upper_percentile = (company_and_acquisition_filt['funding_total'] <= upper_bound).mean() * 100\n",
    "\n",
    "print(f\"Нижняя граница {lower_bound} соответствует {lower_percentile:.2f}% процентилю\")\n",
    "print(f\"Верхняя граница {upper_bound} соответствует {upper_percentile:.2f}% процентилю\")\n",
    "print(f\"Процент выбросов: {100 - upper_percentile + lower_percentile:.2f}%\")"
   ]
  },
  {
   "cell_type": "markdown",
   "metadata": {},
   "source": [
    "Определили, что нижняя граница выбросов равна **-18250000.0** и соответсвует **0%** процентилю (что видно из диаграммы разброса), а верхняя граница выбросов равна **35750000.0** и соответсвует **90.91%** процентилю.\n",
    "\n",
    "Построим гистаграмму с отображенными границами выбросов"
   ]
  },
  {
   "cell_type": "code",
   "execution_count": 105,
   "metadata": {
    "id": "9IDTHfYQFhuX"
   },
   "outputs": [
    {
     "data": {
      "image/png": "[encoded data removed]",
      "text/plain": [
       "<Figure size 720x360 with 1 Axes>"
      ]
     },
     "metadata": {
      "needs_background": "light"
     },
     "output_type": "display_data"
    }
   ],
   "source": [
    "# Создаём контейнер графика matplotlib и задаём его размер\n",
    "plt.figure(figsize=(10, 5))\n",
    "\n",
    "# Строим гистограмму \n",
    "sns.histplot(\n",
    "                data=company_and_acquisition_filt,\n",
    "                x='funding_total',\n",
    "                bins=50, # Устанавливаем количество корзин \n",
    "                alpha=0.75,\n",
    "                edgecolor='black',\n",
    "                kde=True\n",
    ")\n",
    "\n",
    "# Настраиваем оформление графика\n",
    "plt.axvline(lower_bound, color='r', linestyle='--')\n",
    "plt.axvline(upper_bound, color='r', linestyle='--')\n",
    "plt.title(f'Распределение суммы финансироания с границами выбросов')\n",
    "plt.xlabel('Сумма финансирования')\n",
    "plt.ylabel(' ')\n",
    "\n",
    "\n",
    "# Добавляем сетку графика\n",
    "plt.grid()\n",
    "\n",
    "# Выводим график\n",
    "plt.show()\n",
    "\n"
   ]
  },
  {
   "cell_type": "markdown",
   "metadata": {},
   "source": [
    "На этой гистограмме, отражающей распределение сумм финансирования с учётом границ выбросов, можно заметить, что основная часть данных о суммах финансирования значительно меньше по сравнению с объёмом выбросов."
   ]
  },
  {
   "cell_type": "markdown",
   "metadata": {
    "id": "mEiWpROjrJg2"
   },
   "source": [
    "\n",
    "### 3.4. Цены стартапов по категориям\n",
    "\n"
   ]
  },
  {
   "cell_type": "markdown",
   "metadata": {},
   "source": [
    "Сгруппируем компании по категориям области деятельности, предварительно отфильтровав нулевые значения цен (для более верного расчета медианного значения цены), и для каждой категории определим медианное значение цены и разброс цен за стартап.\n",
    "\n",
    "В качестве типичного показателя уровня цен будем использовать именно медианное значение, т.к. в отличие от среднего оно меньше реагирует на величину выбросов, которая в данной таблице имеют высокие значения."
   ]
  },
  {
   "cell_type": "code",
   "execution_count": 91,
   "metadata": {
    "id": "jQ09dYUWrJg2",
    "scrolled": true,
    "vscode": {
     "languageId": "plaintext"
    }
   },
   "outputs": [
    {
     "data": {
      "text/html": [
       "<div>\n",
       "<style scoped>\n",
       "    .dataframe tbody tr th:only-of-type {\n",
       "        vertical-align: middle;\n",
       "    }\n",
       "\n",
       "    .dataframe tbody tr th {\n",
       "        vertical-align: top;\n",
       "    }\n",
       "\n",
       "    .dataframe thead th {\n",
       "        text-align: right;\n",
       "    }\n",
       "</style>\n",
       "<table border=\"1\" class=\"dataframe\">\n",
       "  <thead>\n",
       "    <tr style=\"text-align: right;\">\n",
       "      <th></th>\n",
       "      <th>median</th>\n",
       "      <th>std</th>\n",
       "    </tr>\n",
       "    <tr>\n",
       "      <th>category_code</th>\n",
       "      <th></th>\n",
       "      <th></th>\n",
       "    </tr>\n",
       "  </thead>\n",
       "  <tbody>\n",
       "    <tr>\n",
       "      <th>automotive</th>\n",
       "      <td>2.400000e+09</td>\n",
       "      <td>2.581669e+09</td>\n",
       "    </tr>\n",
       "    <tr>\n",
       "      <th>sports</th>\n",
       "      <td>6.225000e+08</td>\n",
       "      <td>5.126524e+08</td>\n",
       "    </tr>\n",
       "    <tr>\n",
       "      <th>nanotech</th>\n",
       "      <td>5.840000e+08</td>\n",
       "      <td>NaN</td>\n",
       "    </tr>\n",
       "    <tr>\n",
       "      <th>real_estate</th>\n",
       "      <td>4.000000e+08</td>\n",
       "      <td>2.676302e+09</td>\n",
       "    </tr>\n",
       "    <tr>\n",
       "      <th>manufacturing</th>\n",
       "      <td>3.510000e+08</td>\n",
       "      <td>1.060435e+09</td>\n",
       "    </tr>\n",
       "    <tr>\n",
       "      <th>transportation</th>\n",
       "      <td>2.300000e+08</td>\n",
       "      <td>5.726255e+08</td>\n",
       "    </tr>\n",
       "    <tr>\n",
       "      <th>biotech</th>\n",
       "      <td>2.000000e+08</td>\n",
       "      <td>1.968195e+09</td>\n",
       "    </tr>\n",
       "    <tr>\n",
       "      <th>analytics</th>\n",
       "      <td>2.000000e+08</td>\n",
       "      <td>9.296774e+07</td>\n",
       "    </tr>\n",
       "    <tr>\n",
       "      <th>fashion</th>\n",
       "      <td>1.950000e+08</td>\n",
       "      <td>8.649422e+07</td>\n",
       "    </tr>\n",
       "    <tr>\n",
       "      <th>cleantech</th>\n",
       "      <td>1.850000e+08</td>\n",
       "      <td>8.744196e+08</td>\n",
       "    </tr>\n",
       "    <tr>\n",
       "      <th>finance</th>\n",
       "      <td>1.715000e+08</td>\n",
       "      <td>1.052920e+09</td>\n",
       "    </tr>\n",
       "    <tr>\n",
       "      <th>medical</th>\n",
       "      <td>1.650000e+08</td>\n",
       "      <td>1.659058e+08</td>\n",
       "    </tr>\n",
       "    <tr>\n",
       "      <th>security</th>\n",
       "      <td>1.645000e+08</td>\n",
       "      <td>1.378442e+09</td>\n",
       "    </tr>\n",
       "    <tr>\n",
       "      <th>ecommerce</th>\n",
       "      <td>1.575000e+08</td>\n",
       "      <td>2.814255e+08</td>\n",
       "    </tr>\n",
       "    <tr>\n",
       "      <th>health</th>\n",
       "      <td>1.400000e+08</td>\n",
       "      <td>1.927100e+09</td>\n",
       "    </tr>\n",
       "    <tr>\n",
       "      <th>public_relations</th>\n",
       "      <td>1.100000e+08</td>\n",
       "      <td>6.854338e+09</td>\n",
       "    </tr>\n",
       "    <tr>\n",
       "      <th>network_hosting</th>\n",
       "      <td>1.025000e+08</td>\n",
       "      <td>6.769568e+08</td>\n",
       "    </tr>\n",
       "    <tr>\n",
       "      <th>semiconductor</th>\n",
       "      <td>1.000000e+08</td>\n",
       "      <td>1.122025e+09</td>\n",
       "    </tr>\n",
       "    <tr>\n",
       "      <th>messaging</th>\n",
       "      <td>1.000000e+08</td>\n",
       "      <td>6.907460e+07</td>\n",
       "    </tr>\n",
       "    <tr>\n",
       "      <th>search</th>\n",
       "      <td>9.000000e+07</td>\n",
       "      <td>3.395802e+08</td>\n",
       "    </tr>\n",
       "    <tr>\n",
       "      <th>hardware</th>\n",
       "      <td>7.600000e+07</td>\n",
       "      <td>6.450874e+08</td>\n",
       "    </tr>\n",
       "    <tr>\n",
       "      <th>other</th>\n",
       "      <td>7.155000e+07</td>\n",
       "      <td>2.060861e+09</td>\n",
       "    </tr>\n",
       "    <tr>\n",
       "      <th>travel</th>\n",
       "      <td>6.250000e+07</td>\n",
       "      <td>9.526586e+07</td>\n",
       "    </tr>\n",
       "    <tr>\n",
       "      <th>advertising</th>\n",
       "      <td>6.000000e+07</td>\n",
       "      <td>4.954839e+08</td>\n",
       "    </tr>\n",
       "    <tr>\n",
       "      <th>games_video</th>\n",
       "      <td>5.825000e+07</td>\n",
       "      <td>1.463478e+09</td>\n",
       "    </tr>\n",
       "    <tr>\n",
       "      <th>hospitality</th>\n",
       "      <td>5.750000e+07</td>\n",
       "      <td>7.906006e+08</td>\n",
       "    </tr>\n",
       "    <tr>\n",
       "      <th>mobile</th>\n",
       "      <td>5.600000e+07</td>\n",
       "      <td>1.319472e+09</td>\n",
       "    </tr>\n",
       "    <tr>\n",
       "      <th>web</th>\n",
       "      <td>5.550000e+07</td>\n",
       "      <td>6.954405e+08</td>\n",
       "    </tr>\n",
       "    <tr>\n",
       "      <th>enterprise</th>\n",
       "      <td>5.475000e+07</td>\n",
       "      <td>2.413581e+11</td>\n",
       "    </tr>\n",
       "    <tr>\n",
       "      <th>photo_video</th>\n",
       "      <td>5.000000e+07</td>\n",
       "      <td>4.311422e+08</td>\n",
       "    </tr>\n",
       "    <tr>\n",
       "      <th>software</th>\n",
       "      <td>4.814000e+07</td>\n",
       "      <td>1.204059e+09</td>\n",
       "    </tr>\n",
       "    <tr>\n",
       "      <th>social</th>\n",
       "      <td>4.575000e+07</td>\n",
       "      <td>6.295286e+07</td>\n",
       "    </tr>\n",
       "    <tr>\n",
       "      <th>news</th>\n",
       "      <td>4.000000e+07</td>\n",
       "      <td>1.008553e+08</td>\n",
       "    </tr>\n",
       "    <tr>\n",
       "      <th>consulting</th>\n",
       "      <td>3.215000e+07</td>\n",
       "      <td>1.018109e+09</td>\n",
       "    </tr>\n",
       "    <tr>\n",
       "      <th>education</th>\n",
       "      <td>1.625000e+07</td>\n",
       "      <td>2.883294e+08</td>\n",
       "    </tr>\n",
       "    <tr>\n",
       "      <th>local</th>\n",
       "      <td>1.614020e+07</td>\n",
       "      <td>NaN</td>\n",
       "    </tr>\n",
       "    <tr>\n",
       "      <th>music</th>\n",
       "      <td>4.860000e+06</td>\n",
       "      <td>1.599781e+08</td>\n",
       "    </tr>\n",
       "  </tbody>\n",
       "</table>\n",
       "</div>"
      ],
      "text/plain": [
       "                        median           std\n",
       "category_code                               \n",
       "automotive        2.400000e+09  2.581669e+09\n",
       "sports            6.225000e+08  5.126524e+08\n",
       "nanotech          5.840000e+08           NaN\n",
       "real_estate       4.000000e+08  2.676302e+09\n",
       "manufacturing     3.510000e+08  1.060435e+09\n",
       "transportation    2.300000e+08  5.726255e+08\n",
       "biotech           2.000000e+08  1.968195e+09\n",
       "analytics         2.000000e+08  9.296774e+07\n",
       "fashion           1.950000e+08  8.649422e+07\n",
       "cleantech         1.850000e+08  8.744196e+08\n",
       "finance           1.715000e+08  1.052920e+09\n",
       "medical           1.650000e+08  1.659058e+08\n",
       "security          1.645000e+08  1.378442e+09\n",
       "ecommerce         1.575000e+08  2.814255e+08\n",
       "health            1.400000e+08  1.927100e+09\n",
       "public_relations  1.100000e+08  6.854338e+09\n",
       "network_hosting   1.025000e+08  6.769568e+08\n",
       "semiconductor     1.000000e+08  1.122025e+09\n",
       "messaging         1.000000e+08  6.907460e+07\n",
       "search            9.000000e+07  3.395802e+08\n",
       "hardware          7.600000e+07  6.450874e+08\n",
       "other             7.155000e+07  2.060861e+09\n",
       "travel            6.250000e+07  9.526586e+07\n",
       "advertising       6.000000e+07  4.954839e+08\n",
       "games_video       5.825000e+07  1.463478e+09\n",
       "hospitality       5.750000e+07  7.906006e+08\n",
       "mobile            5.600000e+07  1.319472e+09\n",
       "web               5.550000e+07  6.954405e+08\n",
       "enterprise        5.475000e+07  2.413581e+11\n",
       "photo_video       5.000000e+07  4.311422e+08\n",
       "software          4.814000e+07  1.204059e+09\n",
       "social            4.575000e+07  6.295286e+07\n",
       "news              4.000000e+07  1.008553e+08\n",
       "consulting        3.215000e+07  1.018109e+09\n",
       "education         1.625000e+07  2.883294e+08\n",
       "local             1.614020e+07           NaN\n",
       "music             4.860000e+06  1.599781e+08"
      ]
     },
     "metadata": {},
     "output_type": "display_data"
    }
   ],
   "source": [
    "# Сгруппируем компании по категориям и определим медианное значение цены и разброс цен за стартап\n",
    "company_group = company_and_acquisition[company_and_acquisition['price_amount'] > 0].groupby(\n",
    "    'category_code')['price_amount'].agg(['median', 'std']).sort_values(by=['median', 'std'], ascending=False)\n",
    "display(company_group)"
   ]
  },
  {
   "cell_type": "code",
   "execution_count": 92,
   "metadata": {},
   "outputs": [
    {
     "data": {
      "image/png": "[encoded data removed]",
      "text/plain": [
       "<Figure size 720x360 with 1 Axes>"
      ]
     },
     "metadata": {
      "needs_background": "light"
     },
     "output_type": "display_data"
    }
   ],
   "source": [
    "# Визуально отобразим полученные данные\n",
    "company_group_median = company_and_acquisition[company_and_acquisition['price_amount'] > 0].groupby(\n",
    "    'category_code')['price_amount'].median().sort_values(ascending=False)\n",
    "\n",
    "# Создаём контейнер графика matplotlib и задаём его размер\n",
    "plt.figure(figsize=(10, 5))\n",
    "\n",
    "# Строим столбчатую диаграмму с помощью pandas через plot(kind='bar')\n",
    "company_group_median.plot(\n",
    "               kind='bar', # Тип графика - столбчатая диаграмма\n",
    "               rot=45, # Градус вращения подписи по оси Х\n",
    "               legend=False, # Выключаем легенду\n",
    "               title=f'Распределение медианного значения цены стартапо по категориям',\n",
    "               color='green' #настраиваем цвет графика\n",
    ")\n",
    "\n",
    "\n",
    "# Настраиваем оформление графика\n",
    "plt.ylabel('Медианное значение цены')\n",
    "plt.xlabel('Категории области деятельности компании')  \n",
    "# Добавляем сетку графика\n",
    "plt.grid()\n",
    "\n",
    "# Выводим график\n",
    "plt.show()"
   ]
  },
  {
   "cell_type": "markdown",
   "metadata": {},
   "source": [
    "Выделим из полученного списка топ-5 категорий стартапов с самыми высокими ценами и самыми большими разбросами цен."
   ]
  },
  {
   "cell_type": "code",
   "execution_count": 93,
   "metadata": {},
   "outputs": [
    {
     "data": {
      "text/html": [
       "<div>\n",
       "<style scoped>\n",
       "    .dataframe tbody tr th:only-of-type {\n",
       "        vertical-align: middle;\n",
       "    }\n",
       "\n",
       "    .dataframe tbody tr th {\n",
       "        vertical-align: top;\n",
       "    }\n",
       "\n",
       "    .dataframe thead th {\n",
       "        text-align: right;\n",
       "    }\n",
       "</style>\n",
       "<table border=\"1\" class=\"dataframe\">\n",
       "  <thead>\n",
       "    <tr style=\"text-align: right;\">\n",
       "      <th></th>\n",
       "      <th>median</th>\n",
       "      <th>std</th>\n",
       "    </tr>\n",
       "    <tr>\n",
       "      <th>category_code</th>\n",
       "      <th></th>\n",
       "      <th></th>\n",
       "    </tr>\n",
       "  </thead>\n",
       "  <tbody>\n",
       "    <tr>\n",
       "      <th>automotive</th>\n",
       "      <td>2.400000e+09</td>\n",
       "      <td>2.581669e+09</td>\n",
       "    </tr>\n",
       "    <tr>\n",
       "      <th>sports</th>\n",
       "      <td>6.225000e+08</td>\n",
       "      <td>5.126524e+08</td>\n",
       "    </tr>\n",
       "    <tr>\n",
       "      <th>nanotech</th>\n",
       "      <td>5.840000e+08</td>\n",
       "      <td>NaN</td>\n",
       "    </tr>\n",
       "    <tr>\n",
       "      <th>real_estate</th>\n",
       "      <td>4.000000e+08</td>\n",
       "      <td>2.676302e+09</td>\n",
       "    </tr>\n",
       "    <tr>\n",
       "      <th>manufacturing</th>\n",
       "      <td>3.510000e+08</td>\n",
       "      <td>1.060435e+09</td>\n",
       "    </tr>\n",
       "  </tbody>\n",
       "</table>\n",
       "</div>"
      ],
      "text/plain": [
       "                     median           std\n",
       "category_code                            \n",
       "automotive     2.400000e+09  2.581669e+09\n",
       "sports         6.225000e+08  5.126524e+08\n",
       "nanotech       5.840000e+08           NaN\n",
       "real_estate    4.000000e+08  2.676302e+09\n",
       "manufacturing  3.510000e+08  1.060435e+09"
      ]
     },
     "metadata": {},
     "output_type": "display_data"
    }
   ],
   "source": [
    "# Выделим топ-5 категорий\n",
    "company_group_top = company_group.head(5)\n",
    "display(company_group_top)"
   ]
  },
  {
   "cell_type": "markdown",
   "metadata": {
    "id": "eF1aULm5FjfY"
   },
   "source": [
    "Получили, что в список категорий стартапов с самыми высокими ценами и наибольшим разбросом цен вошли следующие категории области деятельности:\n",
    "\n",
    " - автомобилестроение (средняя цена составляет 2,4 млрд, разброс цен составляет 2,6 млрд);\n",
    " - спорт (средняя цена составляет 622 млн, разброс цен составляет 512 млн);\n",
    " - нанотехнологии (средняя цена составляет 584 млн, разброс цен неизвестен);\n",
    " - недвижимость (средняя цена составляет 400 млн, разброс цен составляет 2,7 млрд);\n",
    " - производство (средняя цена составляет 351 млн, разброс цен составляет 1 млрд);\n",
    " "
   ]
  },
  {
   "cell_type": "markdown",
   "metadata": {
    "id": "ADOfyVY_rJg3"
   },
   "source": [
    "\n",
    "### 3.5. Сколько раундов продержится стартап перед покупкой\n",
    "\n",
    "\n"
   ]
  },
  {
   "cell_type": "markdown",
   "metadata": {},
   "source": [
    "Для начала изучим статистические показатели столбца `funding_rounds`, чтобы понять как определять типичное значение раундов для каждого возможного статуса стартапа."
   ]
  },
  {
   "cell_type": "code",
   "execution_count": 94,
   "metadata": {},
   "outputs": [
    {
     "name": "stdout",
     "output_type": "stream",
     "text": [
      "Статистические показатели столбца funding_rounds:\n"
     ]
    },
    {
     "data": {
      "text/plain": [
       "count    40890.000000\n",
       "mean         1.289313\n",
       "std          1.264921\n",
       "min          0.000000\n",
       "25%          1.000000\n",
       "50%          1.000000\n",
       "75%          2.000000\n",
       "max         15.000000\n",
       "Name: funding_rounds, dtype: float64"
      ]
     },
     "execution_count": 94,
     "metadata": {},
     "output_type": "execute_result"
    }
   ],
   "source": [
    "# Изучаем статистические показатели столбца funding_rounds\n",
    "print('Статистические показатели столбца funding_rounds:')\n",
    "company_and_acquisition['funding_rounds'].describe()"
   ]
  },
  {
   "cell_type": "code",
   "execution_count": 95,
   "metadata": {
    "scrolled": true
   },
   "outputs": [
    {
     "data": {
      "image/png": "[encoded data removed]",
      "text/plain": [
       "<Figure size 720x360 with 1 Axes>"
      ]
     },
     "metadata": {
      "needs_background": "light"
     },
     "output_type": "display_data"
    }
   ],
   "source": [
    "# Создаём контейнер графика matplotlib и задаём его размер\n",
    "plt.figure(figsize=(10, 5))\n",
    "\n",
    "# Строим гистограмму \n",
    "sns.histplot(\n",
    "                data=company_and_acquisition,\n",
    "                x='funding_rounds',\n",
    "                bins=50, # Устанавливаем количество корзин \n",
    "                alpha=0.75,\n",
    "                edgecolor='black'\n",
    ")\n",
    "\n",
    "# Настраиваем оформление графика\n",
    "plt.title('Распределение раундов финансирования')\n",
    "plt.xlabel('Раунды финансирования')\n",
    "plt.ylabel(' ')\n",
    "# Добавляем сетку графика\n",
    "plt.grid()\n",
    "\n",
    "# Выводим график\n",
    "plt.show()"
   ]
  },
  {
   "cell_type": "markdown",
   "metadata": {},
   "source": [
    "По полученным данным видим, что значение среднего и медианы близки, но среднее все же немного выше медианы (1,29 > 1), это говорит о сдвинутом вправо распределении. Значение медианы (1) и верхнего квартиля (2) показывают, что большинство значений количества раундов финансирования небольшие, но есть и выбросы вплоть до 15 раундов. Также наблюдаем достаточно большое количество нулевых значений.\n",
    "\n",
    "Учитывая полученные статистические данные, для определения типичного значения раундов для каждого статуса будем использовать медианное значение, так как оно не так сильно зависит от больших значений выбросов, которые присутствуют в наших данных. Но предварительно отфильтруем нулевые значения раундов, т.к. нулевые значения сильно влияют на медианное значение.\n",
    "\n",
    "Чтобы определить типичное значение количества раундов для каждого возможного статуса стартапа, сгруппируем данные по статусам и для каждого конкретного статуса определим медианное значение количества раундов."
   ]
  },
  {
   "cell_type": "code",
   "execution_count": 96,
   "metadata": {
    "id": "hgXMPC4WrJg3",
    "vscode": {
     "languageId": "plaintext"
    }
   },
   "outputs": [
    {
     "data": {
      "text/plain": [
       "status\n",
       "ipo          2.0\n",
       "acquired     1.0\n",
       "closed       1.0\n",
       "operating    1.0\n",
       "Name: funding_rounds, dtype: float64"
      ]
     },
     "metadata": {},
     "output_type": "display_data"
    }
   ],
   "source": [
    "# Сгруппируем компании по статусам стартапов, исключив нулевое значение раундов, и определим медианное значение количества раундов\n",
    "rounds_group_median = company_and_acquisition[company_and_acquisition['funding_rounds'] > 0].groupby(\n",
    "    'status')['funding_rounds'].median().sort_values(ascending=False)\n",
    "display(rounds_group_median)"
   ]
  },
  {
   "cell_type": "markdown",
   "metadata": {},
   "source": [
    "Видим, что медианное значение дает практически одинаковый результат для каждого статуса, за исключением статуса IPO, и не позволяет оценить распределение типичного количества раундов финансирования для разных статусов стартапов.\n",
    "\n",
    "Посчитаем среднее значение для каждого статуса и сравним результаты."
   ]
  },
  {
   "cell_type": "code",
   "execution_count": 97,
   "metadata": {},
   "outputs": [
    {
     "data": {
      "text/plain": [
       "status\n",
       "ipo          2.526531\n",
       "acquired     1.897766\n",
       "operating    1.642359\n",
       "closed       1.383437\n",
       "Name: funding_rounds, dtype: float64"
      ]
     },
     "metadata": {},
     "output_type": "display_data"
    }
   ],
   "source": [
    "# Сгруппируем компании по статусам стартапов, исключив нулевое значение раундов, и определим среднее значение количества раундов\n",
    "rounds_group_mean = company_and_acquisition[company_and_acquisition['funding_rounds'] > 0].groupby(\n",
    "    'status')['funding_rounds'].mean().sort_values(ascending=False)\n",
    "display(rounds_group_mean)"
   ]
  },
  {
   "cell_type": "markdown",
   "metadata": {},
   "source": [
    "Отобразим полученные данные на диаграмме и выведем уровень общего среднего значения количества раундов финансирования."
   ]
  },
  {
   "cell_type": "code",
   "execution_count": 98,
   "metadata": {},
   "outputs": [
    {
     "data": {
      "image/png": "[encoded data removed]",
      "text/plain": [
       "<Figure size 864x360 with 1 Axes>"
      ]
     },
     "metadata": {
      "needs_background": "light"
     },
     "output_type": "display_data"
    }
   ],
   "source": [
    "# Создаём контейнер графика matplotlib и задаём его размер\n",
    "plt.figure(figsize=(12, 5))\n",
    "\n",
    "# Строим столбчатую диаграмму с помощью pandas через plot(kind='bar')\n",
    "rounds_group_mean.plot(\n",
    "               kind='bar', # Тип графика - столбчатая диаграмма\n",
    "               rot=0, # Градус вращения подписи по оси Х\n",
    "               title=f'Распределение среднего количества раундов финансирования по статусам стартапов',\n",
    "               color='green' #настраиваем цвет графика\n",
    ")\n",
    "plt.axhline(1.289, # Данные, по которым строится линия\n",
    "            color='red', # Цвет линии\n",
    "            linestyle='--', # Стиль линии\n",
    "            linewidth=1, # Ширина линии\n",
    "            label=f'Среднее значение количества раундов 1.289')\n",
    "\n",
    "# Настраиваем оформление графика\n",
    "plt.ylabel('Среднее количество раундов')\n",
    "plt.xlabel('Статус стартапов')  \n",
    "# Добавляем сетку графика\n",
    "plt.grid()\n",
    "plt.legend()\n",
    "\n",
    "# Выводим график\n",
    "plt.show()"
   ]
  },
  {
   "cell_type": "markdown",
   "metadata": {
    "id": "pV3e7kw5Fj1Y"
   },
   "source": [
    "По полученным данным и диаграмме видим, что для всех статусов стартапов среднее количество раундов финансирования выше общего среднего (1.289), и наблюдаем следуещее распределение по величине среднего количества раундов:\n",
    "\n",
    " - `IPO` и `acquired` (успешные стартапы) имеют наибольшее среднее количество раундов (**2.52** и **1.89** соответсвенно), что логично — успешные компании привлекают больше инвестиций.\n",
    "\n",
    " - `operating` (действующие стартапы) - среднее значение составляет **1.64**.\n",
    "\n",
    " - `сlosed` (закрытые стартапы) имеют самое низкое среднее (**1.38**), что согласуется с их неудачным развитием."
   ]
  },
  {
   "cell_type": "markdown",
   "metadata": {},
   "source": [
    "### Промежуточный вывод\n",
    "\n",
    "В ходе изучения данных были осуществлены следующие действия:\n",
    "- объеденены и отфильтрованы данные для дальнейшего анализа - получена таблица, содержащая основные данные о 40890 компаниях;\n",
    "- определены наиболее типичные суммы финансирования компаний и величина выбросов, а также доля компаний с нулевым финансированием;\n",
    "- проанализированны компании, проданные за 0 или 1$ и определены для них границы выбросов;\n",
    "- определены 5 категорий стартапов с самыми высокими ценами и наибольшим разбросом цен;\n",
    "- определено среднее количество раундов финансирования для каждого статуса стартапа;\n",
    "- выявлено, что среднее количество раундов финансирования для каждого статуса стартапа превышает общее среднее значение количество раундов (1.289).\n",
    "\n"
   ]
  },
  {
   "cell_type": "markdown",
   "metadata": {
    "id": "VAFEZ2HBrJg3"
   },
   "source": [
    "\n",
    "## Шаг 4. Итоговый вывод и рекомендации\n",
    "\n"
   ]
  },
  {
   "cell_type": "markdown",
   "metadata": {},
   "source": [
    "### 1. Общий обзор проделанной работы\n",
    "\n",
    "В ходе исследования были проанализированны данные 196'554 компаний-стартапов. Исследуемая информация включала сведения о самих компаниях, раундах финансирования, данные о персонале компаний и уровне их образования.\n",
    "\n",
    "Основное внимание в исследовании было уделено подготовке датасета и проверке корректности предоставленных данных, а также  необходимо было ответить на вопросы заказчика о предобработке и значении данных для бизнеса."
   ]
  },
  {
   "cell_type": "markdown",
   "metadata": {},
   "source": [
    "### 2. Главные выводы\n",
    "\n",
    "Проведя анализ предоставленных данных был определен максимальный типичный размер средств, которые стартапы получали в рамках одного раунда финансирования, он составлял **5'500'000** и наблюдался в **2005** году.\n",
    "\n",
    "Так же по результатам графического анализа п. 2.1 можно сделать вывод, что в 2005  году произошло резкое увеличение количества стартапов (более чем в 5 раз) и сформировалась новая схема финансирования - увеличением количества раундов финансирования и уменьшением суммы каждого. \n",
    "\n",
    "Вычисления показали, что во **всех** категориях стартапов, независимо от численности сотрудников, доля тех, кто не указал уровень образования, довольно велика - **более 40%**.\n",
    "\n",
    "Минимальная доля таких сотрудников наблюдается для микростартапов (2 сотрудника) - **41%**. Максимальная доля наблюдается для стартапов из 1 сотрудника - **67%**.\n",
    "\n",
    "При этом доля сотрудников без информации об образовании увеличивается с увеличением размера компании, за исключением стартапов из 1 человека.\n",
    "\n",
    "Наиболее типичные для компаний суммы финансирования находятся в пределах до **5.6 млн**, но есть и компании, сумма финансрования которых значительно больше - некоторые значения достигают суммы **5.7 млрд**. Также велика доля нулевых значений сумм финансироавня - **32%**, это говорит о том, что почти треть изученных стартапов не получили финансирования по различным причинам.\n",
    "\n",
    "Были изучены компании, проданные за 0 или 1$, для них наиболее частые суммы финансирования находятся в пределах между **2 млн** и **15.5 млн**, но также есть и компании, сумма финансрования которых значительно больше - некоторые значения достигают суммы **5.7 млрд**.\n",
    "\n",
    "Для компаний с ненулевой суммой продажи составлен топ-5 категорий области деятельности компаний с максимальной средней ценой и наибольшим размахом цен. В него вошли следующие категории:\n",
    " - автомобилестроение;\n",
    " - спорт;\n",
    " - нанотехнологии;\n",
    " - недвижимость;\n",
    " - производство.\n",
    "\n",
    "По полученным при анализе данным **наибольшее** среднее количество раундов финансирования прошли компании со статусом **IPO** - 2.52 раунда, а **самый низкий** показатель среднего количества раундов финансирования отмечен у компаний со статусом **сlosed** и составляет 1.38.\n",
    "\n",
    "Также можно отметить, что для всех статусов стартапов среднее количество раундов финансирования выше общего среднего (1.289)."
   ]
  },
  {
   "cell_type": "markdown",
   "metadata": {},
   "source": [
    "### 3. Рекомендации\n",
    "\n",
    "На основе проанализированных данных можно дать следующие рекомендации:\n",
    "\n",
    "- При выборе категории деятельности стартапа стоит ориентироваться на полученный ТОП-5 по стоимости.\n",
    "- При выборе стартапа стоит обратить внимание на те проекты, которые уже получили хотя бы 1 раунд финансирования, так как такие проекты подтвердили свою привлекательность привлечением финансирования.\n",
    "- При финансовом планировании нужно ориентировать на среднестатические показатели в 2-3 раунда финансирования общим размером ~5.6 млн. Потенциально высокие шансы встретить интересный для инвестирования проект с требуемым финансированием на порядки превышающим средний размер финансирования.\n",
    "- Данные об образовании сотрудников не рекомендуется рассматривать как один из основных факторов, так как в предоставленных данных  присутствует большое количество пропусков этого параметра."
   ]
  }
 ],
 "metadata": {
  "ExecuteTimeLog": [
   {
    "duration": 4671,
    "start_time": "2025-06-10T12:43:22.087Z"
   },
   {
    "duration": 3362,
    "start_time": "2025-06-10T12:46:15.175Z"
   },
   {
    "duration": 13,
    "start_time": "2025-06-10T12:47:29.019Z"
   },
   {
    "duration": 13,
    "start_time": "2025-06-10T12:47:46.300Z"
   },
   {
    "duration": 99,
    "start_time": "2025-06-10T13:11:25.762Z"
   },
   {
    "duration": 26,
    "start_time": "2025-06-10T13:11:36.002Z"
   },
   {
    "duration": 20,
    "start_time": "2025-06-10T13:23:14.972Z"
   },
   {
    "duration": 22,
    "start_time": "2025-06-10T13:23:21.365Z"
   },
   {
    "duration": 7,
    "start_time": "2025-06-10T13:23:34.505Z"
   },
   {
    "duration": 42,
    "start_time": "2025-06-10T13:23:59.133Z"
   },
   {
    "duration": 7,
    "start_time": "2025-06-10T13:24:03.913Z"
   },
   {
    "duration": 9,
    "start_time": "2025-06-10T13:24:11.322Z"
   },
   {
    "duration": 19,
    "start_time": "2025-06-10T13:31:27.988Z"
   },
   {
    "duration": 7,
    "start_time": "2025-06-10T13:31:36.269Z"
   },
   {
    "duration": 22,
    "start_time": "2025-06-10T13:44:20.489Z"
   },
   {
    "duration": 7,
    "start_time": "2025-06-10T13:44:25.220Z"
   },
   {
    "duration": 5,
    "start_time": "2025-06-10T13:52:10.008Z"
   },
   {
    "duration": 46,
    "start_time": "2025-06-10T14:03:17.807Z"
   },
   {
    "duration": 100,
    "start_time": "2025-06-10T14:03:49.247Z"
   },
   {
    "duration": 4,
    "start_time": "2025-06-10T14:04:13.960Z"
   },
   {
    "duration": 55,
    "start_time": "2025-06-10T16:14:35.464Z"
   },
   {
    "duration": 4872,
    "start_time": "2025-06-10T16:15:19.057Z"
   },
   {
    "duration": 1990,
    "start_time": "2025-06-10T16:15:23.931Z"
   },
   {
    "duration": 13,
    "start_time": "2025-06-10T16:15:25.923Z"
   },
   {
    "duration": 24,
    "start_time": "2025-06-10T16:15:25.938Z"
   },
   {
    "duration": 101,
    "start_time": "2025-06-10T16:15:25.966Z"
   },
   {
    "duration": 26,
    "start_time": "2025-06-10T16:15:26.069Z"
   },
   {
    "duration": 15,
    "start_time": "2025-06-10T16:15:26.097Z"
   },
   {
    "duration": 67,
    "start_time": "2025-06-10T16:15:26.114Z"
   },
   {
    "duration": 5,
    "start_time": "2025-06-10T16:15:26.183Z"
   },
   {
    "duration": 59,
    "start_time": "2025-06-10T16:15:26.189Z"
   },
   {
    "duration": 17,
    "start_time": "2025-06-10T16:15:26.249Z"
   },
   {
    "duration": 23,
    "start_time": "2025-06-10T16:15:26.268Z"
   },
   {
    "duration": 32,
    "start_time": "2025-06-10T16:15:26.293Z"
   },
   {
    "duration": 34,
    "start_time": "2025-06-10T16:15:26.329Z"
   },
   {
    "duration": 7,
    "start_time": "2025-06-10T16:15:26.365Z"
   },
   {
    "duration": 16,
    "start_time": "2025-06-10T16:15:26.373Z"
   },
   {
    "duration": 71,
    "start_time": "2025-06-10T16:20:10.664Z"
   },
   {
    "duration": 44,
    "start_time": "2025-06-10T16:21:05.318Z"
   },
   {
    "duration": 49,
    "start_time": "2025-06-10T16:22:40.426Z"
   },
   {
    "duration": 21,
    "start_time": "2025-06-10T16:23:30.070Z"
   },
   {
    "duration": 10,
    "start_time": "2025-06-10T16:35:12.232Z"
   },
   {
    "duration": 9,
    "start_time": "2025-06-10T16:35:20.196Z"
   },
   {
    "duration": 36,
    "start_time": "2025-06-10T16:36:23.538Z"
   },
   {
    "duration": 37,
    "start_time": "2025-06-10T16:36:25.544Z"
   },
   {
    "duration": 15,
    "start_time": "2025-06-10T16:42:09.227Z"
   },
   {
    "duration": 12,
    "start_time": "2025-06-10T16:42:17.389Z"
   },
   {
    "duration": 19,
    "start_time": "2025-06-10T16:42:54.213Z"
   },
   {
    "duration": 22,
    "start_time": "2025-06-10T16:42:56.005Z"
   },
   {
    "duration": 71,
    "start_time": "2025-06-10T16:46:37.415Z"
   },
   {
    "duration": 78,
    "start_time": "2025-06-10T16:46:53.676Z"
   },
   {
    "duration": 6,
    "start_time": "2025-06-10T16:48:37.019Z"
   },
   {
    "duration": 35,
    "start_time": "2025-06-10T16:48:51.034Z"
   },
   {
    "duration": 14,
    "start_time": "2025-06-10T16:49:06.462Z"
   },
   {
    "duration": 23,
    "start_time": "2025-06-10T16:49:21.360Z"
   },
   {
    "duration": 89,
    "start_time": "2025-06-10T16:49:55.507Z"
   },
   {
    "duration": 9,
    "start_time": "2025-06-10T16:50:20.381Z"
   },
   {
    "duration": 46,
    "start_time": "2025-06-10T16:50:40.005Z"
   },
   {
    "duration": 13,
    "start_time": "2025-06-10T16:50:55.200Z"
   },
   {
    "duration": 21,
    "start_time": "2025-06-10T16:51:09.008Z"
   },
   {
    "duration": 77,
    "start_time": "2025-06-10T16:51:22.574Z"
   },
   {
    "duration": 14,
    "start_time": "2025-06-10T18:36:57.924Z"
   },
   {
    "duration": 12,
    "start_time": "2025-06-10T18:37:36.438Z"
   },
   {
    "duration": 12,
    "start_time": "2025-06-10T18:37:43.124Z"
   },
   {
    "duration": 7,
    "start_time": "2025-06-10T18:46:03.940Z"
   },
   {
    "duration": 999,
    "start_time": "2025-06-10T18:46:25.482Z"
   },
   {
    "duration": 5,
    "start_time": "2025-06-10T18:46:37.695Z"
   },
   {
    "duration": 1041,
    "start_time": "2025-06-10T18:47:17.332Z"
   },
   {
    "duration": 5,
    "start_time": "2025-06-10T18:47:23.214Z"
   },
   {
    "duration": 11,
    "start_time": "2025-06-10T18:59:55.932Z"
   },
   {
    "duration": 5170,
    "start_time": "2025-06-11T08:35:49.001Z"
   },
   {
    "duration": 2839,
    "start_time": "2025-06-11T08:35:54.173Z"
   },
   {
    "duration": 14,
    "start_time": "2025-06-11T08:35:57.014Z"
   },
   {
    "duration": 27,
    "start_time": "2025-06-11T08:35:57.030Z"
   },
   {
    "duration": 107,
    "start_time": "2025-06-11T08:35:57.059Z"
   },
   {
    "duration": 24,
    "start_time": "2025-06-11T08:35:57.168Z"
   },
   {
    "duration": 4,
    "start_time": "2025-06-11T08:35:57.206Z"
   },
   {
    "duration": 53,
    "start_time": "2025-06-11T08:35:57.212Z"
   },
   {
    "duration": 5,
    "start_time": "2025-06-11T08:35:57.266Z"
   },
   {
    "duration": 61,
    "start_time": "2025-06-11T08:35:57.273Z"
   },
   {
    "duration": 9,
    "start_time": "2025-06-11T08:35:57.336Z"
   },
   {
    "duration": 27,
    "start_time": "2025-06-11T08:35:57.346Z"
   },
   {
    "duration": 8,
    "start_time": "2025-06-11T08:35:57.375Z"
   },
   {
    "duration": 37,
    "start_time": "2025-06-11T08:35:57.385Z"
   },
   {
    "duration": 9,
    "start_time": "2025-06-11T08:35:57.424Z"
   },
   {
    "duration": 10,
    "start_time": "2025-06-11T08:35:57.435Z"
   },
   {
    "duration": 106,
    "start_time": "2025-06-11T08:35:57.447Z"
   },
   {
    "duration": 59,
    "start_time": "2025-06-11T08:35:57.555Z"
   },
   {
    "duration": 153,
    "start_time": "2025-06-11T08:35:57.616Z"
   },
   {
    "duration": 37,
    "start_time": "2025-06-11T08:35:57.771Z"
   },
   {
    "duration": 39,
    "start_time": "2025-06-11T08:35:57.809Z"
   },
   {
    "duration": 80,
    "start_time": "2025-06-11T08:35:57.849Z"
   },
   {
    "duration": 38,
    "start_time": "2025-06-11T08:35:57.931Z"
   },
   {
    "duration": 46,
    "start_time": "2025-06-11T08:35:57.971Z"
   },
   {
    "duration": 27,
    "start_time": "2025-06-11T08:35:58.019Z"
   },
   {
    "duration": 16,
    "start_time": "2025-06-11T08:35:58.048Z"
   },
   {
    "duration": 22,
    "start_time": "2025-06-11T08:35:58.066Z"
   },
   {
    "duration": 24,
    "start_time": "2025-06-11T08:35:58.105Z"
   },
   {
    "duration": 96,
    "start_time": "2025-06-11T08:35:58.131Z"
   },
   {
    "duration": 83,
    "start_time": "2025-06-11T08:35:58.229Z"
   },
   {
    "duration": 5,
    "start_time": "2025-06-11T08:35:58.313Z"
   },
   {
    "duration": 32,
    "start_time": "2025-06-11T08:35:58.320Z"
   },
   {
    "duration": 35,
    "start_time": "2025-06-11T08:35:58.354Z"
   },
   {
    "duration": 15,
    "start_time": "2025-06-11T08:35:58.391Z"
   },
   {
    "duration": 14,
    "start_time": "2025-06-11T09:08:25.201Z"
   },
   {
    "duration": 39,
    "start_time": "2025-06-11T09:36:01.370Z"
   },
   {
    "duration": 20,
    "start_time": "2025-06-11T09:36:14.838Z"
   },
   {
    "duration": 73,
    "start_time": "2025-06-11T09:40:11.781Z"
   },
   {
    "duration": 20,
    "start_time": "2025-06-11T09:40:23.638Z"
   },
   {
    "duration": 25,
    "start_time": "2025-06-11T09:40:32.186Z"
   },
   {
    "duration": 114,
    "start_time": "2025-06-11T09:43:46.774Z"
   },
   {
    "duration": 11,
    "start_time": "2025-06-11T09:44:22.908Z"
   },
   {
    "duration": 27,
    "start_time": "2025-06-11T09:44:41.457Z"
   },
   {
    "duration": 12,
    "start_time": "2025-06-11T09:44:50.559Z"
   },
   {
    "duration": 25,
    "start_time": "2025-06-11T09:45:15.945Z"
   },
   {
    "duration": 27,
    "start_time": "2025-06-11T09:45:26.396Z"
   },
   {
    "duration": 190,
    "start_time": "2025-06-11T09:57:02.059Z"
   },
   {
    "duration": 170,
    "start_time": "2025-06-11T09:57:32.624Z"
   },
   {
    "duration": 26,
    "start_time": "2025-06-11T09:59:35.955Z"
   },
   {
    "duration": 12,
    "start_time": "2025-06-11T09:59:40.003Z"
   },
   {
    "duration": 172,
    "start_time": "2025-06-11T09:59:45.169Z"
   },
   {
    "duration": 223,
    "start_time": "2025-06-11T10:03:40.752Z"
   },
   {
    "duration": 238,
    "start_time": "2025-06-11T10:04:28.275Z"
   },
   {
    "duration": 254,
    "start_time": "2025-06-11T10:06:08.159Z"
   },
   {
    "duration": 264,
    "start_time": "2025-06-11T10:06:24.081Z"
   },
   {
    "duration": 465,
    "start_time": "2025-06-11T10:11:01.085Z"
   },
   {
    "duration": 336,
    "start_time": "2025-06-11T10:11:30.170Z"
   },
   {
    "duration": 75,
    "start_time": "2025-06-11T10:11:57.506Z"
   },
   {
    "duration": 363,
    "start_time": "2025-06-11T10:12:04.862Z"
   },
   {
    "duration": 346,
    "start_time": "2025-06-11T10:12:42.929Z"
   },
   {
    "duration": 5,
    "start_time": "2025-06-11T10:33:08.086Z"
   },
   {
    "duration": 865,
    "start_time": "2025-06-11T10:33:56.817Z"
   },
   {
    "duration": 7,
    "start_time": "2025-06-11T10:34:27.508Z"
   },
   {
    "duration": 30,
    "start_time": "2025-06-11T10:39:42.401Z"
   },
   {
    "duration": 12,
    "start_time": "2025-06-11T10:39:50.149Z"
   },
   {
    "duration": 375,
    "start_time": "2025-06-11T10:40:36.096Z"
   },
   {
    "duration": 191,
    "start_time": "2025-06-11T10:49:19.964Z"
   },
   {
    "duration": 391,
    "start_time": "2025-06-11T10:53:43.085Z"
   },
   {
    "duration": 388,
    "start_time": "2025-06-11T10:54:17.437Z"
   },
   {
    "duration": 516,
    "start_time": "2025-06-11T10:55:53.729Z"
   },
   {
    "duration": 394,
    "start_time": "2025-06-11T10:56:37.312Z"
   },
   {
    "duration": 429,
    "start_time": "2025-06-11T10:56:53.696Z"
   },
   {
    "duration": 397,
    "start_time": "2025-06-11T10:57:55.053Z"
   },
   {
    "duration": 410,
    "start_time": "2025-06-11T10:58:01.446Z"
   },
   {
    "duration": 496,
    "start_time": "2025-06-11T10:58:11.553Z"
   },
   {
    "duration": 395,
    "start_time": "2025-06-11T10:58:18.740Z"
   },
   {
    "duration": 395,
    "start_time": "2025-06-11T10:59:03.386Z"
   },
   {
    "duration": 410,
    "start_time": "2025-06-11T11:00:04.403Z"
   },
   {
    "duration": 419,
    "start_time": "2025-06-11T11:00:44.854Z"
   },
   {
    "duration": 404,
    "start_time": "2025-06-11T11:01:12.957Z"
   },
   {
    "duration": 402,
    "start_time": "2025-06-11T11:01:30.410Z"
   },
   {
    "duration": 490,
    "start_time": "2025-06-11T11:01:38.924Z"
   },
   {
    "duration": 397,
    "start_time": "2025-06-11T11:02:21.690Z"
   },
   {
    "duration": 85,
    "start_time": "2025-06-11T11:02:45.405Z"
   },
   {
    "duration": 398,
    "start_time": "2025-06-11T11:02:57.749Z"
   },
   {
    "duration": 385,
    "start_time": "2025-06-11T11:03:22.410Z"
   },
   {
    "duration": 381,
    "start_time": "2025-06-11T11:03:44.196Z"
   },
   {
    "duration": 386,
    "start_time": "2025-06-11T11:04:05.599Z"
   },
   {
    "duration": 483,
    "start_time": "2025-06-11T11:05:02.337Z"
   },
   {
    "duration": 77,
    "start_time": "2025-06-11T11:05:14.401Z"
   },
   {
    "duration": 383,
    "start_time": "2025-06-11T11:05:20.884Z"
   },
   {
    "duration": 366,
    "start_time": "2025-06-11T11:06:07.845Z"
   },
   {
    "duration": 395,
    "start_time": "2025-06-11T11:06:23.695Z"
   },
   {
    "duration": 400,
    "start_time": "2025-06-11T11:06:41.814Z"
   },
   {
    "duration": 404,
    "start_time": "2025-06-11T12:35:49.664Z"
   },
   {
    "duration": 107,
    "start_time": "2025-06-11T13:07:46.875Z"
   },
   {
    "duration": 256,
    "start_time": "2025-06-11T13:14:41.240Z"
   },
   {
    "duration": 93,
    "start_time": "2025-06-11T13:16:06.632Z"
   },
   {
    "duration": 99,
    "start_time": "2025-06-11T13:16:43.021Z"
   },
   {
    "duration": 96,
    "start_time": "2025-06-11T13:19:52.021Z"
   },
   {
    "duration": 136,
    "start_time": "2025-06-11T13:20:27.027Z"
   },
   {
    "duration": 120,
    "start_time": "2025-06-11T13:22:37.869Z"
   },
   {
    "duration": 133,
    "start_time": "2025-06-11T13:22:47.363Z"
   },
   {
    "duration": 17,
    "start_time": "2025-06-11T13:26:43.292Z"
   },
   {
    "duration": 36,
    "start_time": "2025-06-11T13:27:24.642Z"
   },
   {
    "duration": 103,
    "start_time": "2025-06-11T13:39:20.875Z"
   },
   {
    "duration": 13,
    "start_time": "2025-06-11T13:39:25.361Z"
   },
   {
    "duration": 14,
    "start_time": "2025-06-11T13:45:36.756Z"
   },
   {
    "duration": 250,
    "start_time": "2025-06-11T13:50:57.879Z"
   },
   {
    "duration": 114,
    "start_time": "2025-06-11T13:54:05.984Z"
   },
   {
    "duration": 143,
    "start_time": "2025-06-11T13:54:45.924Z"
   },
   {
    "duration": 345,
    "start_time": "2025-06-11T13:56:29.360Z"
   },
   {
    "duration": 124,
    "start_time": "2025-06-11T13:56:32.336Z"
   },
   {
    "duration": 214,
    "start_time": "2025-06-11T13:56:36.435Z"
   },
   {
    "duration": 16,
    "start_time": "2025-06-11T13:57:09.288Z"
   },
   {
    "duration": 4612,
    "start_time": "2025-06-11T18:36:28.495Z"
   },
   {
    "duration": 2016,
    "start_time": "2025-06-11T18:36:33.109Z"
   },
   {
    "duration": 12,
    "start_time": "2025-06-11T18:36:35.126Z"
   },
   {
    "duration": 19,
    "start_time": "2025-06-11T18:36:35.139Z"
   },
   {
    "duration": 118,
    "start_time": "2025-06-11T18:36:35.160Z"
   },
   {
    "duration": 21,
    "start_time": "2025-06-11T18:36:35.279Z"
   },
   {
    "duration": 3,
    "start_time": "2025-06-11T18:36:35.302Z"
   },
   {
    "duration": 59,
    "start_time": "2025-06-11T18:36:35.306Z"
   },
   {
    "duration": 4,
    "start_time": "2025-06-11T18:36:35.366Z"
   },
   {
    "duration": 56,
    "start_time": "2025-06-11T18:36:35.372Z"
   },
   {
    "duration": 8,
    "start_time": "2025-06-11T18:36:35.430Z"
   },
   {
    "duration": 98,
    "start_time": "2025-06-11T18:36:35.439Z"
   },
   {
    "duration": 7,
    "start_time": "2025-06-11T18:36:35.539Z"
   },
   {
    "duration": 23,
    "start_time": "2025-06-11T18:36:35.547Z"
   },
   {
    "duration": 101,
    "start_time": "2025-06-11T18:36:35.572Z"
   },
   {
    "duration": 36,
    "start_time": "2025-06-11T18:36:35.675Z"
   },
   {
    "duration": 122,
    "start_time": "2025-06-11T18:36:35.713Z"
   },
   {
    "duration": 41,
    "start_time": "2025-06-11T18:36:35.836Z"
   },
   {
    "duration": 43,
    "start_time": "2025-06-11T18:36:35.878Z"
   },
   {
    "duration": 17,
    "start_time": "2025-06-11T18:36:35.923Z"
   },
   {
    "duration": 24,
    "start_time": "2025-06-11T18:36:35.942Z"
   },
   {
    "duration": 31,
    "start_time": "2025-06-11T18:36:35.967Z"
   },
   {
    "duration": 32,
    "start_time": "2025-06-11T18:36:35.999Z"
   },
   {
    "duration": 35,
    "start_time": "2025-06-11T18:36:36.032Z"
   },
   {
    "duration": 52,
    "start_time": "2025-06-11T18:36:36.068Z"
   },
   {
    "duration": 94,
    "start_time": "2025-06-11T18:36:36.122Z"
   },
   {
    "duration": 19,
    "start_time": "2025-06-11T18:36:36.218Z"
   },
   {
    "duration": 19,
    "start_time": "2025-06-11T18:36:36.241Z"
   },
   {
    "duration": 66,
    "start_time": "2025-06-11T18:36:36.262Z"
   },
   {
    "duration": 83,
    "start_time": "2025-06-11T18:36:36.330Z"
   },
   {
    "duration": 6,
    "start_time": "2025-06-11T18:36:36.415Z"
   },
   {
    "duration": 19,
    "start_time": "2025-06-11T18:36:36.423Z"
   },
   {
    "duration": 61,
    "start_time": "2025-06-11T18:36:36.443Z"
   },
   {
    "duration": 11,
    "start_time": "2025-06-11T18:36:36.506Z"
   },
   {
    "duration": 376,
    "start_time": "2025-06-11T18:36:36.518Z"
   },
   {
    "duration": 91,
    "start_time": "2025-06-11T18:36:36.896Z"
   },
   {
    "duration": 122,
    "start_time": "2025-06-11T18:36:36.989Z"
   },
   {
    "duration": 300,
    "start_time": "2025-06-11T18:36:37.113Z"
   },
   {
    "duration": 109,
    "start_time": "2025-06-11T18:36:37.414Z"
   },
   {
    "duration": 201,
    "start_time": "2025-06-11T18:36:37.525Z"
   },
   {
    "duration": 14,
    "start_time": "2025-06-11T18:36:37.728Z"
   },
   {
    "duration": 62,
    "start_time": "2025-06-11T18:36:37.744Z"
   },
   {
    "duration": 17,
    "start_time": "2025-06-11T18:41:56.453Z"
   },
   {
    "duration": 98,
    "start_time": "2025-06-11T18:52:52.627Z"
   },
   {
    "duration": 22,
    "start_time": "2025-06-11T18:53:19.556Z"
   },
   {
    "duration": 21,
    "start_time": "2025-06-11T18:54:40.787Z"
   },
   {
    "duration": 21,
    "start_time": "2025-06-11T18:56:17.784Z"
   },
   {
    "duration": 15,
    "start_time": "2025-06-11T19:00:51.232Z"
   },
   {
    "duration": 15,
    "start_time": "2025-06-11T19:01:28.034Z"
   },
   {
    "duration": 7,
    "start_time": "2025-06-11T19:11:11.351Z"
   },
   {
    "duration": 11,
    "start_time": "2025-06-11T19:24:09.513Z"
   },
   {
    "duration": 15,
    "start_time": "2025-06-11T19:27:27.701Z"
   },
   {
    "duration": 122,
    "start_time": "2025-06-11T19:27:41.465Z"
   },
   {
    "duration": 15,
    "start_time": "2025-06-11T19:27:44.118Z"
   },
   {
    "duration": 26,
    "start_time": "2025-06-11T19:29:02.256Z"
   },
   {
    "duration": 10,
    "start_time": "2025-06-11T19:38:13.279Z"
   },
   {
    "duration": 3755,
    "start_time": "2025-06-11T19:39:49.630Z"
   },
   {
    "duration": 30,
    "start_time": "2025-06-11T19:40:17.609Z"
   },
   {
    "duration": 30,
    "start_time": "2025-06-11T19:40:52.238Z"
   },
   {
    "duration": 3287,
    "start_time": "2025-06-11T19:41:05.469Z"
   },
   {
    "duration": 2059,
    "start_time": "2025-06-11T19:41:08.758Z"
   },
   {
    "duration": 13,
    "start_time": "2025-06-11T19:41:10.819Z"
   },
   {
    "duration": 12,
    "start_time": "2025-06-11T19:41:10.834Z"
   },
   {
    "duration": 90,
    "start_time": "2025-06-11T19:41:10.848Z"
   },
   {
    "duration": 26,
    "start_time": "2025-06-11T19:41:10.940Z"
   },
   {
    "duration": 5,
    "start_time": "2025-06-11T19:41:10.968Z"
   },
   {
    "duration": 43,
    "start_time": "2025-06-11T19:41:10.975Z"
   },
   {
    "duration": 5,
    "start_time": "2025-06-11T19:41:11.020Z"
   },
   {
    "duration": 61,
    "start_time": "2025-06-11T19:41:11.026Z"
   },
   {
    "duration": 8,
    "start_time": "2025-06-11T19:41:11.089Z"
   },
   {
    "duration": 18,
    "start_time": "2025-06-11T19:41:11.099Z"
   },
   {
    "duration": 7,
    "start_time": "2025-06-11T19:41:11.118Z"
   },
   {
    "duration": 47,
    "start_time": "2025-06-11T19:41:11.129Z"
   },
   {
    "duration": 7,
    "start_time": "2025-06-11T19:41:11.178Z"
   },
   {
    "duration": 9,
    "start_time": "2025-06-11T19:41:11.186Z"
   },
   {
    "duration": 86,
    "start_time": "2025-06-11T19:41:11.196Z"
   },
   {
    "duration": 42,
    "start_time": "2025-06-11T19:41:11.283Z"
   },
   {
    "duration": 56,
    "start_time": "2025-06-11T19:41:11.326Z"
   },
   {
    "duration": 18,
    "start_time": "2025-06-11T19:41:11.383Z"
   },
   {
    "duration": 6,
    "start_time": "2025-06-11T19:41:11.402Z"
   },
   {
    "duration": 15,
    "start_time": "2025-06-11T19:41:11.410Z"
   },
   {
    "duration": 59,
    "start_time": "2025-06-11T19:41:11.426Z"
   },
   {
    "duration": 39,
    "start_time": "2025-06-11T19:41:11.487Z"
   },
   {
    "duration": 13,
    "start_time": "2025-06-11T19:41:11.527Z"
   },
   {
    "duration": 30,
    "start_time": "2025-06-11T19:41:11.541Z"
   },
   {
    "duration": 20,
    "start_time": "2025-06-11T19:41:11.573Z"
   },
   {
    "duration": 20,
    "start_time": "2025-06-11T19:41:11.594Z"
   },
   {
    "duration": 99,
    "start_time": "2025-06-11T19:41:11.616Z"
   },
   {
    "duration": 78,
    "start_time": "2025-06-11T19:41:11.717Z"
   },
   {
    "duration": 6,
    "start_time": "2025-06-11T19:41:11.797Z"
   },
   {
    "duration": 16,
    "start_time": "2025-06-11T19:41:11.804Z"
   },
   {
    "duration": 67,
    "start_time": "2025-06-11T19:41:11.821Z"
   },
   {
    "duration": 34,
    "start_time": "2025-06-11T19:41:11.894Z"
   },
   {
    "duration": 360,
    "start_time": "2025-06-11T19:41:11.930Z"
   },
   {
    "duration": 89,
    "start_time": "2025-06-11T19:41:12.292Z"
   },
   {
    "duration": 115,
    "start_time": "2025-06-11T19:41:12.383Z"
   },
   {
    "duration": 299,
    "start_time": "2025-06-11T19:41:12.499Z"
   },
   {
    "duration": 101,
    "start_time": "2025-06-11T19:41:12.800Z"
   },
   {
    "duration": 207,
    "start_time": "2025-06-11T19:41:12.903Z"
   },
   {
    "duration": 28,
    "start_time": "2025-06-11T19:41:13.114Z"
   },
   {
    "duration": 29,
    "start_time": "2025-06-11T19:41:13.144Z"
   },
   {
    "duration": 20,
    "start_time": "2025-06-11T19:41:13.174Z"
   },
   {
    "duration": 14,
    "start_time": "2025-06-11T19:41:13.195Z"
   },
   {
    "duration": 5,
    "start_time": "2025-06-11T19:41:13.211Z"
   },
   {
    "duration": 39,
    "start_time": "2025-06-11T19:41:37.269Z"
   },
   {
    "duration": 32,
    "start_time": "2025-06-11T19:42:03.481Z"
   },
   {
    "duration": 18,
    "start_time": "2025-06-11T19:42:07.891Z"
   },
   {
    "duration": 20,
    "start_time": "2025-06-11T19:42:10.339Z"
   },
   {
    "duration": 14,
    "start_time": "2025-06-11T19:42:14.473Z"
   },
   {
    "duration": 6,
    "start_time": "2025-06-11T19:42:18.258Z"
   },
   {
    "duration": 129,
    "start_time": "2025-06-11T19:46:33.699Z"
   },
   {
    "duration": 38,
    "start_time": "2025-06-11T19:57:28.576Z"
   },
   {
    "duration": 4384,
    "start_time": "2025-06-12T09:48:44.418Z"
   },
   {
    "duration": 2397,
    "start_time": "2025-06-12T09:48:48.804Z"
   },
   {
    "duration": 11,
    "start_time": "2025-06-12T09:48:51.203Z"
   },
   {
    "duration": 34,
    "start_time": "2025-06-12T09:48:51.216Z"
   },
   {
    "duration": 94,
    "start_time": "2025-06-12T09:48:51.252Z"
   },
   {
    "duration": 24,
    "start_time": "2025-06-12T09:48:51.347Z"
   },
   {
    "duration": 15,
    "start_time": "2025-06-12T09:48:51.372Z"
   },
   {
    "duration": 59,
    "start_time": "2025-06-12T09:48:51.388Z"
   },
   {
    "duration": 3,
    "start_time": "2025-06-12T09:48:51.449Z"
   },
   {
    "duration": 37,
    "start_time": "2025-06-12T09:48:51.454Z"
   },
   {
    "duration": 8,
    "start_time": "2025-06-12T09:48:51.492Z"
   },
   {
    "duration": 40,
    "start_time": "2025-06-12T09:48:51.501Z"
   },
   {
    "duration": 6,
    "start_time": "2025-06-12T09:48:51.543Z"
   },
   {
    "duration": 22,
    "start_time": "2025-06-12T09:48:51.550Z"
   },
   {
    "duration": 6,
    "start_time": "2025-06-12T09:48:51.573Z"
   },
   {
    "duration": 8,
    "start_time": "2025-06-12T09:48:51.580Z"
   },
   {
    "duration": 83,
    "start_time": "2025-06-12T09:48:51.589Z"
   },
   {
    "duration": 41,
    "start_time": "2025-06-12T09:48:51.674Z"
   },
   {
    "duration": 56,
    "start_time": "2025-06-12T09:48:51.717Z"
   },
   {
    "duration": 78,
    "start_time": "2025-06-12T09:48:51.775Z"
   },
   {
    "duration": 9,
    "start_time": "2025-06-12T09:48:51.854Z"
   },
   {
    "duration": 17,
    "start_time": "2025-06-12T09:48:51.864Z"
   },
   {
    "duration": 33,
    "start_time": "2025-06-12T09:48:51.882Z"
   },
   {
    "duration": 34,
    "start_time": "2025-06-12T09:48:51.916Z"
   },
   {
    "duration": 21,
    "start_time": "2025-06-12T09:48:51.952Z"
   },
   {
    "duration": 13,
    "start_time": "2025-06-12T09:48:51.974Z"
   },
   {
    "duration": 35,
    "start_time": "2025-06-12T09:48:51.989Z"
   },
   {
    "duration": 38,
    "start_time": "2025-06-12T09:48:52.027Z"
   },
   {
    "duration": 67,
    "start_time": "2025-06-12T09:48:52.066Z"
   },
   {
    "duration": 84,
    "start_time": "2025-06-12T09:48:52.134Z"
   },
   {
    "duration": 6,
    "start_time": "2025-06-12T09:48:52.220Z"
   },
   {
    "duration": 96,
    "start_time": "2025-06-12T09:48:52.227Z"
   },
   {
    "duration": 49,
    "start_time": "2025-06-12T09:48:52.325Z"
   },
   {
    "duration": 10,
    "start_time": "2025-06-12T09:48:52.376Z"
   },
   {
    "duration": 372,
    "start_time": "2025-06-12T09:48:52.387Z"
   },
   {
    "duration": 90,
    "start_time": "2025-06-12T09:48:52.760Z"
   },
   {
    "duration": 126,
    "start_time": "2025-06-12T09:48:52.851Z"
   },
   {
    "duration": 306,
    "start_time": "2025-06-12T09:48:52.979Z"
   },
   {
    "duration": 106,
    "start_time": "2025-06-12T09:48:53.286Z"
   },
   {
    "duration": 197,
    "start_time": "2025-06-12T09:48:53.393Z"
   },
   {
    "duration": 36,
    "start_time": "2025-06-12T09:48:53.592Z"
   },
   {
    "duration": 16,
    "start_time": "2025-06-12T09:48:53.629Z"
   },
   {
    "duration": 21,
    "start_time": "2025-06-12T09:48:53.661Z"
   },
   {
    "duration": 12,
    "start_time": "2025-06-12T09:48:53.683Z"
   },
   {
    "duration": 9,
    "start_time": "2025-06-12T09:48:53.696Z"
   },
   {
    "duration": 146,
    "start_time": "2025-06-12T09:48:53.706Z"
   },
   {
    "duration": 4,
    "start_time": "2025-06-12T09:59:11.960Z"
   },
   {
    "duration": 25,
    "start_time": "2025-06-12T10:00:02.008Z"
   },
   {
    "duration": 16,
    "start_time": "2025-06-12T10:00:53.676Z"
   },
   {
    "duration": 4,
    "start_time": "2025-06-12T10:01:40.045Z"
   },
   {
    "duration": 17,
    "start_time": "2025-06-12T10:11:22.730Z"
   },
   {
    "duration": 16,
    "start_time": "2025-06-12T10:14:41.691Z"
   },
   {
    "duration": 28,
    "start_time": "2025-06-12T10:17:33.809Z"
   },
   {
    "duration": 28,
    "start_time": "2025-06-12T10:17:45.229Z"
   },
   {
    "duration": 25,
    "start_time": "2025-06-12T10:18:13.810Z"
   },
   {
    "duration": 17,
    "start_time": "2025-06-12T10:18:15.574Z"
   },
   {
    "duration": 10,
    "start_time": "2025-06-12T10:19:39.054Z"
   },
   {
    "duration": 10,
    "start_time": "2025-06-12T10:19:51.094Z"
   },
   {
    "duration": 13,
    "start_time": "2025-06-12T10:19:55.441Z"
   },
   {
    "duration": 8,
    "start_time": "2025-06-12T10:21:29.075Z"
   },
   {
    "duration": 8,
    "start_time": "2025-06-12T10:21:31.137Z"
   },
   {
    "duration": 10,
    "start_time": "2025-06-12T10:21:33.031Z"
   },
   {
    "duration": 12,
    "start_time": "2025-06-12T10:23:57.756Z"
   },
   {
    "duration": 8,
    "start_time": "2025-06-12T10:27:35.026Z"
   },
   {
    "duration": 12,
    "start_time": "2025-06-12T10:28:48.663Z"
   },
   {
    "duration": 10,
    "start_time": "2025-06-12T10:29:09.776Z"
   },
   {
    "duration": 5,
    "start_time": "2025-06-12T10:29:45.729Z"
   },
   {
    "duration": 79,
    "start_time": "2025-06-12T11:33:07.924Z"
   },
   {
    "duration": 140,
    "start_time": "2025-06-12T11:33:19.191Z"
   },
   {
    "duration": 18374,
    "start_time": "2025-06-12T11:33:28.508Z"
   },
   {
    "duration": 48,
    "start_time": "2025-06-12T11:33:54.783Z"
   },
   {
    "duration": 58,
    "start_time": "2025-06-12T11:35:11.024Z"
   },
   {
    "duration": 13,
    "start_time": "2025-06-12T11:35:39.345Z"
   },
   {
    "duration": 142,
    "start_time": "2025-06-12T11:36:53.447Z"
   },
   {
    "duration": 148,
    "start_time": "2025-06-12T11:37:02.533Z"
   },
   {
    "duration": 122,
    "start_time": "2025-06-12T11:37:35.340Z"
   },
   {
    "duration": 110,
    "start_time": "2025-06-12T11:37:54.609Z"
   },
   {
    "duration": 3215,
    "start_time": "2025-06-12T12:58:06.112Z"
   },
   {
    "duration": 1940,
    "start_time": "2025-06-12T12:58:09.330Z"
   },
   {
    "duration": 12,
    "start_time": "2025-06-12T12:58:11.272Z"
   },
   {
    "duration": 13,
    "start_time": "2025-06-12T12:58:11.286Z"
   },
   {
    "duration": 105,
    "start_time": "2025-06-12T12:58:11.300Z"
   },
   {
    "duration": 21,
    "start_time": "2025-06-12T12:58:11.407Z"
   },
   {
    "duration": 5,
    "start_time": "2025-06-12T12:58:11.429Z"
   },
   {
    "duration": 57,
    "start_time": "2025-06-12T12:58:11.436Z"
   },
   {
    "duration": 4,
    "start_time": "2025-06-12T12:58:11.495Z"
   },
   {
    "duration": 78,
    "start_time": "2025-06-12T12:58:11.501Z"
   },
   {
    "duration": 7,
    "start_time": "2025-06-12T12:58:11.581Z"
   },
   {
    "duration": 35,
    "start_time": "2025-06-12T12:58:11.590Z"
   },
   {
    "duration": 6,
    "start_time": "2025-06-12T12:58:11.626Z"
   },
   {
    "duration": 20,
    "start_time": "2025-06-12T12:58:11.634Z"
   },
   {
    "duration": 16,
    "start_time": "2025-06-12T12:58:11.655Z"
   },
   {
    "duration": 8,
    "start_time": "2025-06-12T12:58:11.672Z"
   },
   {
    "duration": 65,
    "start_time": "2025-06-12T12:58:11.681Z"
   },
   {
    "duration": 48,
    "start_time": "2025-06-12T12:58:11.747Z"
   },
   {
    "duration": 69,
    "start_time": "2025-06-12T12:58:11.797Z"
   },
   {
    "duration": 17,
    "start_time": "2025-06-12T12:58:11.867Z"
   },
   {
    "duration": 7,
    "start_time": "2025-06-12T12:58:11.885Z"
   },
   {
    "duration": 8,
    "start_time": "2025-06-12T12:58:11.894Z"
   },
   {
    "duration": 31,
    "start_time": "2025-06-12T12:58:11.903Z"
   },
   {
    "duration": 57,
    "start_time": "2025-06-12T12:58:11.935Z"
   },
   {
    "duration": 11,
    "start_time": "2025-06-12T12:58:11.993Z"
   },
   {
    "duration": 10,
    "start_time": "2025-06-12T12:58:12.005Z"
   },
   {
    "duration": 46,
    "start_time": "2025-06-12T12:58:12.016Z"
   },
   {
    "duration": 18,
    "start_time": "2025-06-12T12:58:12.065Z"
   },
   {
    "duration": 74,
    "start_time": "2025-06-12T12:58:12.084Z"
   },
   {
    "duration": 64,
    "start_time": "2025-06-12T12:58:12.162Z"
   },
   {
    "duration": 5,
    "start_time": "2025-06-12T12:58:12.227Z"
   },
   {
    "duration": 29,
    "start_time": "2025-06-12T12:58:12.233Z"
   },
   {
    "duration": 46,
    "start_time": "2025-06-12T12:58:12.263Z"
   },
   {
    "duration": 9,
    "start_time": "2025-06-12T12:58:12.310Z"
   },
   {
    "duration": 371,
    "start_time": "2025-06-12T12:58:12.320Z"
   },
   {
    "duration": 90,
    "start_time": "2025-06-12T12:58:12.692Z"
   },
   {
    "duration": 115,
    "start_time": "2025-06-12T12:58:12.783Z"
   },
   {
    "duration": 320,
    "start_time": "2025-06-12T12:58:12.899Z"
   },
   {
    "duration": 113,
    "start_time": "2025-06-12T12:58:13.221Z"
   },
   {
    "duration": 201,
    "start_time": "2025-06-12T12:58:13.335Z"
   },
   {
    "duration": 48,
    "start_time": "2025-06-12T12:58:13.537Z"
   },
   {
    "duration": 17,
    "start_time": "2025-06-12T12:58:13.586Z"
   },
   {
    "duration": 19,
    "start_time": "2025-06-12T12:58:13.604Z"
   },
   {
    "duration": 12,
    "start_time": "2025-06-12T12:58:13.625Z"
   },
   {
    "duration": 28,
    "start_time": "2025-06-12T12:58:13.638Z"
   },
   {
    "duration": 130,
    "start_time": "2025-06-12T12:58:13.667Z"
   },
   {
    "duration": 22,
    "start_time": "2025-06-12T12:58:13.799Z"
   },
   {
    "duration": 28,
    "start_time": "2025-06-12T12:58:13.822Z"
   },
   {
    "duration": 11,
    "start_time": "2025-06-12T12:58:13.851Z"
   },
   {
    "duration": 15,
    "start_time": "2025-06-12T12:58:13.863Z"
   },
   {
    "duration": 13,
    "start_time": "2025-06-12T12:58:13.880Z"
   },
   {
    "duration": 13,
    "start_time": "2025-06-12T12:58:13.895Z"
   },
   {
    "duration": 19,
    "start_time": "2025-06-12T12:58:13.909Z"
   },
   {
    "duration": 9,
    "start_time": "2025-06-12T12:58:13.929Z"
   },
   {
    "duration": 25,
    "start_time": "2025-06-12T12:58:13.939Z"
   },
   {
    "duration": 10,
    "start_time": "2025-06-12T12:58:13.966Z"
   },
   {
    "duration": 15,
    "start_time": "2025-06-12T12:58:13.977Z"
   },
   {
    "duration": 8,
    "start_time": "2025-06-12T12:58:13.993Z"
   },
   {
    "duration": 17,
    "start_time": "2025-06-12T12:58:14.002Z"
   },
   {
    "duration": 12,
    "start_time": "2025-06-12T12:58:14.021Z"
   },
   {
    "duration": 5,
    "start_time": "2025-06-12T12:58:14.034Z"
   },
   {
    "duration": 63,
    "start_time": "2025-06-12T12:58:14.041Z"
   },
   {
    "duration": 12,
    "start_time": "2025-06-12T12:58:14.106Z"
   },
   {
    "duration": 125,
    "start_time": "2025-06-12T12:58:14.120Z"
   },
   {
    "duration": 28,
    "start_time": "2025-06-12T13:00:00.282Z"
   },
   {
    "duration": 26,
    "start_time": "2025-06-12T13:03:31.407Z"
   },
   {
    "duration": 288,
    "start_time": "2025-06-12T13:23:32.047Z"
   },
   {
    "duration": 14,
    "start_time": "2025-06-12T13:24:29.230Z"
   },
   {
    "duration": 14,
    "start_time": "2025-06-12T13:24:33.608Z"
   },
   {
    "duration": 7,
    "start_time": "2025-06-12T13:25:01.097Z"
   },
   {
    "duration": 7,
    "start_time": "2025-06-12T13:25:09.615Z"
   },
   {
    "duration": 37,
    "start_time": "2025-06-12T13:39:05.646Z"
   },
   {
    "duration": 27,
    "start_time": "2025-06-12T14:08:29.219Z"
   },
   {
    "duration": 234,
    "start_time": "2025-06-12T14:13:27.829Z"
   },
   {
    "duration": 198,
    "start_time": "2025-06-12T14:16:17.485Z"
   },
   {
    "duration": 225,
    "start_time": "2025-06-12T14:19:07.438Z"
   },
   {
    "duration": 206,
    "start_time": "2025-06-12T14:19:14.859Z"
   },
   {
    "duration": 211,
    "start_time": "2025-06-12T14:24:13.383Z"
   },
   {
    "duration": 258,
    "start_time": "2025-06-12T14:24:30.055Z"
   },
   {
    "duration": 4,
    "start_time": "2025-06-12T14:27:26.784Z"
   },
   {
    "duration": 4,
    "start_time": "2025-06-12T14:27:36.990Z"
   },
   {
    "duration": 235,
    "start_time": "2025-06-12T14:28:06.775Z"
   },
   {
    "duration": 29,
    "start_time": "2025-06-12T14:28:28.916Z"
   },
   {
    "duration": 219,
    "start_time": "2025-06-12T14:28:38.667Z"
   },
   {
    "duration": 255,
    "start_time": "2025-06-12T14:28:57.167Z"
   },
   {
    "duration": 5,
    "start_time": "2025-06-12T14:29:17.489Z"
   },
   {
    "duration": 25,
    "start_time": "2025-06-12T14:33:27.029Z"
   },
   {
    "duration": 191,
    "start_time": "2025-06-12T14:40:15.442Z"
   },
   {
    "duration": 144,
    "start_time": "2025-06-12T14:40:37.845Z"
   },
   {
    "duration": 4616,
    "start_time": "2025-06-13T07:35:25.384Z"
   },
   {
    "duration": 2222,
    "start_time": "2025-06-13T07:35:30.002Z"
   },
   {
    "duration": 13,
    "start_time": "2025-06-13T07:35:32.226Z"
   },
   {
    "duration": 30,
    "start_time": "2025-06-13T07:35:32.240Z"
   },
   {
    "duration": 92,
    "start_time": "2025-06-13T07:35:32.272Z"
   },
   {
    "duration": 28,
    "start_time": "2025-06-13T07:35:32.365Z"
   },
   {
    "duration": 5,
    "start_time": "2025-06-13T07:35:32.395Z"
   },
   {
    "duration": 42,
    "start_time": "2025-06-13T07:35:32.401Z"
   },
   {
    "duration": 4,
    "start_time": "2025-06-13T07:35:32.445Z"
   },
   {
    "duration": 60,
    "start_time": "2025-06-13T07:35:32.451Z"
   },
   {
    "duration": 9,
    "start_time": "2025-06-13T07:35:32.512Z"
   },
   {
    "duration": 38,
    "start_time": "2025-06-13T07:35:32.523Z"
   },
   {
    "duration": 14,
    "start_time": "2025-06-13T07:35:32.563Z"
   },
   {
    "duration": 35,
    "start_time": "2025-06-13T07:35:32.580Z"
   },
   {
    "duration": 7,
    "start_time": "2025-06-13T07:35:32.617Z"
   },
   {
    "duration": 38,
    "start_time": "2025-06-13T07:35:32.626Z"
   },
   {
    "duration": 67,
    "start_time": "2025-06-13T07:35:32.666Z"
   },
   {
    "duration": 59,
    "start_time": "2025-06-13T07:35:32.734Z"
   },
   {
    "duration": 49,
    "start_time": "2025-06-13T07:35:32.794Z"
   },
   {
    "duration": 41,
    "start_time": "2025-06-13T07:35:32.845Z"
   },
   {
    "duration": 25,
    "start_time": "2025-06-13T07:35:32.888Z"
   },
   {
    "duration": 51,
    "start_time": "2025-06-13T07:35:32.916Z"
   },
   {
    "duration": 69,
    "start_time": "2025-06-13T07:35:32.969Z"
   },
   {
    "duration": 37,
    "start_time": "2025-06-13T07:35:33.040Z"
   },
   {
    "duration": 18,
    "start_time": "2025-06-13T07:35:33.079Z"
   },
   {
    "duration": 19,
    "start_time": "2025-06-13T07:35:33.099Z"
   },
   {
    "duration": 25,
    "start_time": "2025-06-13T07:35:33.119Z"
   },
   {
    "duration": 116,
    "start_time": "2025-06-13T07:35:33.146Z"
   },
   {
    "duration": 78,
    "start_time": "2025-06-13T07:35:33.264Z"
   },
   {
    "duration": 82,
    "start_time": "2025-06-13T07:35:33.344Z"
   },
   {
    "duration": 6,
    "start_time": "2025-06-13T07:35:33.428Z"
   },
   {
    "duration": 31,
    "start_time": "2025-06-13T07:35:33.436Z"
   },
   {
    "duration": 55,
    "start_time": "2025-06-13T07:35:33.469Z"
   },
   {
    "duration": 10,
    "start_time": "2025-06-13T07:35:33.526Z"
   },
   {
    "duration": 399,
    "start_time": "2025-06-13T07:35:33.538Z"
   },
   {
    "duration": 121,
    "start_time": "2025-06-13T07:35:33.939Z"
   },
   {
    "duration": 133,
    "start_time": "2025-06-13T07:35:34.062Z"
   },
   {
    "duration": 350,
    "start_time": "2025-06-13T07:35:34.197Z"
   },
   {
    "duration": 123,
    "start_time": "2025-06-13T07:35:34.549Z"
   },
   {
    "duration": 218,
    "start_time": "2025-06-13T07:35:34.677Z"
   },
   {
    "duration": 42,
    "start_time": "2025-06-13T07:35:34.900Z"
   },
   {
    "duration": 36,
    "start_time": "2025-06-13T07:35:34.944Z"
   },
   {
    "duration": 25,
    "start_time": "2025-06-13T07:35:34.982Z"
   },
   {
    "duration": 16,
    "start_time": "2025-06-13T07:35:35.009Z"
   },
   {
    "duration": 29,
    "start_time": "2025-06-13T07:35:35.027Z"
   },
   {
    "duration": 159,
    "start_time": "2025-06-13T07:35:35.057Z"
   },
   {
    "duration": 25,
    "start_time": "2025-06-13T07:35:35.218Z"
   },
   {
    "duration": 45,
    "start_time": "2025-06-13T07:35:35.246Z"
   },
   {
    "duration": 41,
    "start_time": "2025-06-13T07:35:35.292Z"
   },
   {
    "duration": 50,
    "start_time": "2025-06-13T07:35:35.334Z"
   },
   {
    "duration": 24,
    "start_time": "2025-06-13T07:35:35.386Z"
   },
   {
    "duration": 68,
    "start_time": "2025-06-13T07:35:35.411Z"
   },
   {
    "duration": 22,
    "start_time": "2025-06-13T07:35:35.481Z"
   },
   {
    "duration": 33,
    "start_time": "2025-06-13T07:35:35.505Z"
   },
   {
    "duration": 39,
    "start_time": "2025-06-13T07:35:35.540Z"
   },
   {
    "duration": 16,
    "start_time": "2025-06-13T07:35:35.580Z"
   },
   {
    "duration": 34,
    "start_time": "2025-06-13T07:35:35.598Z"
   },
   {
    "duration": 116,
    "start_time": "2025-06-13T07:35:35.634Z"
   },
   {
    "duration": 29,
    "start_time": "2025-06-13T07:35:35.752Z"
   },
   {
    "duration": 12,
    "start_time": "2025-06-13T07:35:35.783Z"
   },
   {
    "duration": 13,
    "start_time": "2025-06-13T07:35:35.797Z"
   },
   {
    "duration": 39,
    "start_time": "2025-06-13T07:35:35.811Z"
   },
   {
    "duration": 59,
    "start_time": "2025-06-13T07:35:35.852Z"
   },
   {
    "duration": 248,
    "start_time": "2025-06-13T07:35:35.913Z"
   },
   {
    "duration": 233,
    "start_time": "2025-06-13T07:35:36.163Z"
   },
   {
    "duration": 260,
    "start_time": "2025-06-13T07:35:36.398Z"
   },
   {
    "duration": 3,
    "start_time": "2025-06-13T07:35:36.660Z"
   },
   {
    "duration": 41,
    "start_time": "2025-06-13T07:35:36.664Z"
   },
   {
    "duration": 170,
    "start_time": "2025-06-13T07:35:36.707Z"
   },
   {
    "duration": 21,
    "start_time": "2025-06-13T07:38:34.840Z"
   },
   {
    "duration": 166,
    "start_time": "2025-06-13T07:38:45.643Z"
   },
   {
    "duration": 214,
    "start_time": "2025-06-13T07:38:51.033Z"
   },
   {
    "duration": 104,
    "start_time": "2025-06-13T10:05:13.694Z"
   },
   {
    "duration": 42,
    "start_time": "2025-06-13T10:05:25.003Z"
   },
   {
    "duration": 4560,
    "start_time": "2025-06-13T10:05:42.977Z"
   },
   {
    "duration": 3071,
    "start_time": "2025-06-13T10:05:53.616Z"
   },
   {
    "duration": 2075,
    "start_time": "2025-06-13T10:10:20.449Z"
   },
   {
    "duration": 67,
    "start_time": "2025-06-13T10:19:19.966Z"
   },
   {
    "duration": 3530,
    "start_time": "2025-06-13T10:19:36.409Z"
   },
   {
    "duration": 2599,
    "start_time": "2025-06-13T10:19:39.941Z"
   },
   {
    "duration": 11,
    "start_time": "2025-06-13T10:19:42.542Z"
   },
   {
    "duration": 17,
    "start_time": "2025-06-13T10:19:42.555Z"
   },
   {
    "duration": 99,
    "start_time": "2025-06-13T10:19:42.573Z"
   },
   {
    "duration": 23,
    "start_time": "2025-06-13T10:19:42.673Z"
   },
   {
    "duration": 5,
    "start_time": "2025-06-13T10:19:42.698Z"
   },
   {
    "duration": 59,
    "start_time": "2025-06-13T10:19:42.704Z"
   },
   {
    "duration": 4,
    "start_time": "2025-06-13T10:19:42.765Z"
   },
   {
    "duration": 41,
    "start_time": "2025-06-13T10:19:42.772Z"
   },
   {
    "duration": 8,
    "start_time": "2025-06-13T10:19:42.815Z"
   },
   {
    "duration": 44,
    "start_time": "2025-06-13T10:19:42.825Z"
   },
   {
    "duration": 8,
    "start_time": "2025-06-13T10:19:42.870Z"
   },
   {
    "duration": 67,
    "start_time": "2025-06-13T10:19:42.879Z"
   },
   {
    "duration": 19,
    "start_time": "2025-06-13T10:19:42.947Z"
   },
   {
    "duration": 10,
    "start_time": "2025-06-13T10:19:42.968Z"
   },
   {
    "duration": 83,
    "start_time": "2025-06-13T10:19:42.980Z"
   },
   {
    "duration": 43,
    "start_time": "2025-06-13T10:19:43.064Z"
   },
   {
    "duration": 68,
    "start_time": "2025-06-13T10:19:43.109Z"
   },
   {
    "duration": 17,
    "start_time": "2025-06-13T10:19:43.179Z"
   },
   {
    "duration": 24,
    "start_time": "2025-06-13T10:19:43.198Z"
   },
   {
    "duration": 9,
    "start_time": "2025-06-13T10:19:43.223Z"
   },
   {
    "duration": 38,
    "start_time": "2025-06-13T10:19:43.233Z"
   },
   {
    "duration": 34,
    "start_time": "2025-06-13T10:19:43.273Z"
   },
   {
    "duration": 42,
    "start_time": "2025-06-13T10:19:43.309Z"
   },
   {
    "duration": 64,
    "start_time": "2025-06-13T10:19:43.352Z"
   },
   {
    "duration": 19,
    "start_time": "2025-06-13T10:19:43.417Z"
   },
   {
    "duration": 20,
    "start_time": "2025-06-13T10:19:43.440Z"
   },
   {
    "duration": 78,
    "start_time": "2025-06-13T10:19:43.461Z"
   },
   {
    "duration": 73,
    "start_time": "2025-06-13T10:19:43.540Z"
   },
   {
    "duration": 5,
    "start_time": "2025-06-13T10:19:43.615Z"
   },
   {
    "duration": 17,
    "start_time": "2025-06-13T10:19:43.622Z"
   },
   {
    "duration": 72,
    "start_time": "2025-06-13T10:19:43.640Z"
   },
   {
    "duration": 11,
    "start_time": "2025-06-13T10:19:43.714Z"
   },
   {
    "duration": 769,
    "start_time": "2025-06-13T10:19:43.726Z"
   },
   {
    "duration": 191,
    "start_time": "2025-06-13T10:19:44.496Z"
   },
   {
    "duration": 282,
    "start_time": "2025-06-13T10:19:44.688Z"
   },
   {
    "duration": 533,
    "start_time": "2025-06-13T10:19:44.972Z"
   },
   {
    "duration": 129,
    "start_time": "2025-06-13T10:19:45.506Z"
   },
   {
    "duration": 226,
    "start_time": "2025-06-13T10:19:45.636Z"
   },
   {
    "duration": 41,
    "start_time": "2025-06-13T10:19:45.863Z"
   },
   {
    "duration": 21,
    "start_time": "2025-06-13T10:19:45.905Z"
   },
   {
    "duration": 88,
    "start_time": "2025-06-13T10:19:45.927Z"
   },
   {
    "duration": 17,
    "start_time": "2025-06-13T10:19:46.017Z"
   },
   {
    "duration": 7,
    "start_time": "2025-06-13T10:19:46.036Z"
   },
   {
    "duration": 152,
    "start_time": "2025-06-13T10:19:46.045Z"
   },
   {
    "duration": 26,
    "start_time": "2025-06-13T10:19:46.198Z"
   },
   {
    "duration": 19,
    "start_time": "2025-06-13T10:19:46.226Z"
   },
   {
    "duration": 5,
    "start_time": "2025-06-13T10:19:46.261Z"
   },
   {
    "duration": 32,
    "start_time": "2025-06-13T10:19:46.267Z"
   },
   {
    "duration": 26,
    "start_time": "2025-06-13T10:19:46.301Z"
   },
   {
    "duration": 18,
    "start_time": "2025-06-13T10:19:46.329Z"
   },
   {
    "duration": 14,
    "start_time": "2025-06-13T10:19:46.349Z"
   },
   {
    "duration": 12,
    "start_time": "2025-06-13T10:19:46.364Z"
   },
   {
    "duration": 32,
    "start_time": "2025-06-13T10:19:46.378Z"
   },
   {
    "duration": 22,
    "start_time": "2025-06-13T10:19:46.412Z"
   },
   {
    "duration": 9,
    "start_time": "2025-06-13T10:19:46.436Z"
   },
   {
    "duration": 62,
    "start_time": "2025-06-13T10:19:46.446Z"
   },
   {
    "duration": 24,
    "start_time": "2025-06-13T10:19:46.510Z"
   },
   {
    "duration": 28,
    "start_time": "2025-06-13T10:19:46.535Z"
   },
   {
    "duration": 5,
    "start_time": "2025-06-13T10:19:46.564Z"
   },
   {
    "duration": 35,
    "start_time": "2025-06-13T10:19:46.570Z"
   },
   {
    "duration": 30,
    "start_time": "2025-06-13T10:19:46.607Z"
   },
   {
    "duration": 253,
    "start_time": "2025-06-13T10:19:46.638Z"
   },
   {
    "duration": 232,
    "start_time": "2025-06-13T10:19:46.892Z"
   },
   {
    "duration": 245,
    "start_time": "2025-06-13T10:19:47.126Z"
   },
   {
    "duration": 4,
    "start_time": "2025-06-13T10:19:47.372Z"
   },
   {
    "duration": 67,
    "start_time": "2025-06-13T10:19:47.377Z"
   },
   {
    "duration": 168,
    "start_time": "2025-06-13T10:19:47.445Z"
   },
   {
    "duration": 42,
    "start_time": "2025-06-13T10:32:49.571Z"
   },
   {
    "duration": 242,
    "start_time": "2025-06-13T10:33:06.356Z"
   },
   {
    "duration": 223,
    "start_time": "2025-06-13T10:33:09.394Z"
   },
   {
    "duration": 239,
    "start_time": "2025-06-13T10:33:12.873Z"
   },
   {
    "duration": 3,
    "start_time": "2025-06-13T10:33:24.837Z"
   },
   {
    "duration": 105,
    "start_time": "2025-06-13T10:34:12.761Z"
   },
   {
    "duration": 31,
    "start_time": "2025-06-13T10:34:26.638Z"
   },
   {
    "duration": 137,
    "start_time": "2025-06-13T10:34:39.397Z"
   },
   {
    "duration": 102,
    "start_time": "2025-06-13T10:37:13.326Z"
   },
   {
    "duration": 16,
    "start_time": "2025-06-13T10:38:00.089Z"
   },
   {
    "duration": 9,
    "start_time": "2025-06-13T10:38:14.713Z"
   },
   {
    "duration": 8,
    "start_time": "2025-06-13T10:38:57.360Z"
   },
   {
    "duration": 8,
    "start_time": "2025-06-13T10:39:05.281Z"
   },
   {
    "duration": 8,
    "start_time": "2025-06-13T10:39:36.313Z"
   },
   {
    "duration": 234,
    "start_time": "2025-06-13T10:40:36.775Z"
   },
   {
    "duration": 248,
    "start_time": "2025-06-13T10:40:39.283Z"
   },
   {
    "duration": 239,
    "start_time": "2025-06-13T10:40:43.397Z"
   },
   {
    "duration": 28,
    "start_time": "2025-06-13T10:40:51.056Z"
   },
   {
    "duration": 154,
    "start_time": "2025-06-13T10:40:55.609Z"
   },
   {
    "duration": 131,
    "start_time": "2025-06-13T11:04:18.770Z"
   },
   {
    "duration": 140,
    "start_time": "2025-06-13T11:05:23.528Z"
   },
   {
    "duration": 12,
    "start_time": "2025-06-13T11:11:12.258Z"
   },
   {
    "duration": 10,
    "start_time": "2025-06-13T11:12:19.873Z"
   },
   {
    "duration": 10,
    "start_time": "2025-06-13T11:14:00.649Z"
   },
   {
    "duration": 18,
    "start_time": "2025-06-13T11:16:59.237Z"
   },
   {
    "duration": 21,
    "start_time": "2025-06-13T11:17:55.052Z"
   },
   {
    "duration": 102,
    "start_time": "2025-06-13T11:18:51.282Z"
   },
   {
    "duration": 5347,
    "start_time": "2025-06-13T14:58:05.109Z"
   },
   {
    "duration": 2201,
    "start_time": "2025-06-13T14:58:10.458Z"
   },
   {
    "duration": 14,
    "start_time": "2025-06-13T14:58:12.661Z"
   },
   {
    "duration": 70,
    "start_time": "2025-06-13T14:58:12.677Z"
   },
   {
    "duration": 104,
    "start_time": "2025-06-13T14:58:12.748Z"
   },
   {
    "duration": 26,
    "start_time": "2025-06-13T14:58:12.859Z"
   },
   {
    "duration": 4,
    "start_time": "2025-06-13T14:58:12.887Z"
   },
   {
    "duration": 67,
    "start_time": "2025-06-13T14:58:12.893Z"
   },
   {
    "duration": 4,
    "start_time": "2025-06-13T14:58:12.962Z"
   },
   {
    "duration": 121,
    "start_time": "2025-06-13T14:58:12.969Z"
   },
   {
    "duration": 9,
    "start_time": "2025-06-13T14:58:13.091Z"
   },
   {
    "duration": 89,
    "start_time": "2025-06-13T14:58:13.102Z"
   },
   {
    "duration": 7,
    "start_time": "2025-06-13T14:58:13.194Z"
   },
   {
    "duration": 28,
    "start_time": "2025-06-13T14:58:13.203Z"
   },
   {
    "duration": 9,
    "start_time": "2025-06-13T14:58:13.232Z"
   },
   {
    "duration": 26,
    "start_time": "2025-06-13T14:58:13.242Z"
   },
   {
    "duration": 77,
    "start_time": "2025-06-13T14:58:13.270Z"
   },
   {
    "duration": 56,
    "start_time": "2025-06-13T14:58:13.349Z"
   },
   {
    "duration": 68,
    "start_time": "2025-06-13T14:58:13.407Z"
   },
   {
    "duration": 21,
    "start_time": "2025-06-13T14:58:13.477Z"
   },
   {
    "duration": 9,
    "start_time": "2025-06-13T14:58:13.500Z"
   },
   {
    "duration": 10,
    "start_time": "2025-06-13T14:58:13.511Z"
   },
   {
    "duration": 69,
    "start_time": "2025-06-13T14:58:13.523Z"
   },
   {
    "duration": 41,
    "start_time": "2025-06-13T14:58:13.594Z"
   },
   {
    "duration": 90,
    "start_time": "2025-06-13T14:58:13.637Z"
   },
   {
    "duration": 13,
    "start_time": "2025-06-13T14:58:13.730Z"
   },
   {
    "duration": 22,
    "start_time": "2025-06-13T14:58:13.745Z"
   },
   {
    "duration": 23,
    "start_time": "2025-06-13T14:58:13.772Z"
   },
   {
    "duration": 95,
    "start_time": "2025-06-13T14:58:13.797Z"
   },
   {
    "duration": 91,
    "start_time": "2025-06-13T14:58:13.893Z"
   },
   {
    "duration": 7,
    "start_time": "2025-06-13T14:58:13.986Z"
   },
   {
    "duration": 17,
    "start_time": "2025-06-13T14:58:13.995Z"
   },
   {
    "duration": 75,
    "start_time": "2025-06-13T14:58:14.014Z"
   },
   {
    "duration": 18,
    "start_time": "2025-06-13T14:58:14.091Z"
   },
   {
    "duration": 470,
    "start_time": "2025-06-13T14:58:14.111Z"
   },
   {
    "duration": 117,
    "start_time": "2025-06-13T14:58:14.583Z"
   },
   {
    "duration": 150,
    "start_time": "2025-06-13T14:58:14.701Z"
   },
   {
    "duration": 396,
    "start_time": "2025-06-13T14:58:14.853Z"
   },
   {
    "duration": 143,
    "start_time": "2025-06-13T14:58:15.251Z"
   },
   {
    "duration": 254,
    "start_time": "2025-06-13T14:58:15.395Z"
   },
   {
    "duration": 50,
    "start_time": "2025-06-13T14:58:15.651Z"
   },
   {
    "duration": 39,
    "start_time": "2025-06-13T14:58:15.703Z"
   },
   {
    "duration": 41,
    "start_time": "2025-06-13T14:58:15.747Z"
   },
   {
    "duration": 24,
    "start_time": "2025-06-13T14:58:15.791Z"
   },
   {
    "duration": 7,
    "start_time": "2025-06-13T14:58:15.818Z"
   },
   {
    "duration": 197,
    "start_time": "2025-06-13T14:58:15.827Z"
   },
   {
    "duration": 36,
    "start_time": "2025-06-13T14:58:16.026Z"
   },
   {
    "duration": 41,
    "start_time": "2025-06-13T14:58:16.064Z"
   },
   {
    "duration": 9,
    "start_time": "2025-06-13T14:58:16.107Z"
   },
   {
    "duration": 42,
    "start_time": "2025-06-13T14:58:16.118Z"
   },
   {
    "duration": 28,
    "start_time": "2025-06-13T14:58:16.162Z"
   },
   {
    "duration": 21,
    "start_time": "2025-06-13T14:58:16.192Z"
   },
   {
    "duration": 34,
    "start_time": "2025-06-13T14:58:16.215Z"
   },
   {
    "duration": 16,
    "start_time": "2025-06-13T14:58:16.251Z"
   },
   {
    "duration": 11,
    "start_time": "2025-06-13T14:58:16.269Z"
   },
   {
    "duration": 12,
    "start_time": "2025-06-13T14:58:16.282Z"
   },
   {
    "duration": 115,
    "start_time": "2025-06-13T14:58:16.296Z"
   },
   {
    "duration": 28,
    "start_time": "2025-06-13T14:58:16.413Z"
   },
   {
    "duration": 14,
    "start_time": "2025-06-13T14:58:16.443Z"
   },
   {
    "duration": 13,
    "start_time": "2025-06-13T14:58:16.459Z"
   },
   {
    "duration": 9,
    "start_time": "2025-06-13T14:58:16.474Z"
   },
   {
    "duration": 40,
    "start_time": "2025-06-13T14:58:16.485Z"
   },
   {
    "duration": 57,
    "start_time": "2025-06-13T14:58:16.527Z"
   },
   {
    "duration": 299,
    "start_time": "2025-06-13T14:58:16.586Z"
   },
   {
    "duration": 276,
    "start_time": "2025-06-13T14:58:16.887Z"
   },
   {
    "duration": 288,
    "start_time": "2025-06-13T14:58:17.165Z"
   },
   {
    "duration": 6,
    "start_time": "2025-06-13T14:58:17.455Z"
   },
   {
    "duration": 34,
    "start_time": "2025-06-13T14:58:17.463Z"
   },
   {
    "duration": 212,
    "start_time": "2025-06-13T14:58:17.498Z"
   },
   {
    "duration": 176,
    "start_time": "2025-06-13T14:58:17.712Z"
   },
   {
    "duration": 112,
    "start_time": "2025-06-13T14:58:17.890Z"
   },
   {
    "duration": 34,
    "start_time": "2025-06-13T15:00:54.435Z"
   },
   {
    "duration": 164,
    "start_time": "2025-06-13T15:01:40.315Z"
   },
   {
    "duration": 64,
    "start_time": "2025-06-13T15:15:57.052Z"
   },
   {
    "duration": 11,
    "start_time": "2025-06-13T15:16:05.284Z"
   },
   {
    "duration": 243,
    "start_time": "2025-06-13T15:28:44.417Z"
   },
   {
    "duration": 254,
    "start_time": "2025-06-13T15:29:27.038Z"
   },
   {
    "duration": 300,
    "start_time": "2025-06-13T15:30:05.275Z"
   },
   {
    "duration": 324,
    "start_time": "2025-06-13T15:30:11.637Z"
   },
   {
    "duration": 258,
    "start_time": "2025-06-13T15:30:17.467Z"
   },
   {
    "duration": 161,
    "start_time": "2025-06-13T15:32:26.326Z"
   },
   {
    "duration": 5,
    "start_time": "2025-06-13T15:36:56.819Z"
   },
   {
    "duration": 5,
    "start_time": "2025-06-13T15:39:32.048Z"
   },
   {
    "duration": 244,
    "start_time": "2025-06-13T15:40:29.994Z"
   },
   {
    "duration": 240,
    "start_time": "2025-06-13T15:40:44.331Z"
   },
   {
    "duration": 236,
    "start_time": "2025-06-13T15:40:57.273Z"
   },
   {
    "duration": 436,
    "start_time": "2025-06-13T15:45:32.370Z"
   },
   {
    "duration": 18,
    "start_time": "2025-06-13T15:46:28.527Z"
   },
   {
    "duration": 455,
    "start_time": "2025-06-13T15:48:07.768Z"
   },
   {
    "duration": 546,
    "start_time": "2025-06-13T15:48:24.475Z"
   },
   {
    "duration": 168,
    "start_time": "2025-06-13T15:48:49.842Z"
   },
   {
    "duration": 166,
    "start_time": "2025-06-13T15:51:28.348Z"
   },
   {
    "duration": 42,
    "start_time": "2025-06-13T16:20:43.829Z"
   },
   {
    "duration": 262,
    "start_time": "2025-06-13T16:23:38.356Z"
   },
   {
    "duration": 136,
    "start_time": "2025-06-13T16:24:27.245Z"
   },
   {
    "duration": 140,
    "start_time": "2025-06-13T16:25:39.917Z"
   },
   {
    "duration": 7,
    "start_time": "2025-06-13T16:36:43.313Z"
   },
   {
    "duration": 6,
    "start_time": "2025-06-13T16:43:30.038Z"
   },
   {
    "duration": 67,
    "start_time": "2025-06-13T16:53:46.126Z"
   },
   {
    "duration": 508,
    "start_time": "2025-06-13T16:53:56.488Z"
   },
   {
    "duration": 11,
    "start_time": "2025-06-13T17:06:11.452Z"
   },
   {
    "duration": 11,
    "start_time": "2025-06-13T17:06:39.261Z"
   },
   {
    "duration": 12,
    "start_time": "2025-06-13T17:08:25.380Z"
   },
   {
    "duration": 20,
    "start_time": "2025-06-13T17:08:52.896Z"
   },
   {
    "duration": 17,
    "start_time": "2025-06-13T17:11:15.001Z"
   },
   {
    "duration": 21,
    "start_time": "2025-06-13T17:11:33.804Z"
   },
   {
    "duration": 81,
    "start_time": "2025-06-13T17:12:18.132Z"
   },
   {
    "duration": 61,
    "start_time": "2025-06-13T17:12:25.599Z"
   },
   {
    "duration": 22,
    "start_time": "2025-06-13T17:12:34.371Z"
   },
   {
    "duration": 22,
    "start_time": "2025-06-13T17:13:10.180Z"
   },
   {
    "duration": 21,
    "start_time": "2025-06-13T17:14:43.295Z"
   },
   {
    "duration": 20,
    "start_time": "2025-06-13T17:18:11.700Z"
   },
   {
    "duration": 30,
    "start_time": "2025-06-13T17:18:22.048Z"
   },
   {
    "duration": 22,
    "start_time": "2025-06-13T17:21:06.505Z"
   },
   {
    "duration": 11,
    "start_time": "2025-06-13T17:25:01.611Z"
   },
   {
    "duration": 21,
    "start_time": "2025-06-13T17:36:50.492Z"
   },
   {
    "duration": 21,
    "start_time": "2025-06-13T17:36:57.883Z"
   },
   {
    "duration": 4945,
    "start_time": "2025-06-14T09:16:43.572Z"
   },
   {
    "duration": 2346,
    "start_time": "2025-06-14T09:16:48.519Z"
   },
   {
    "duration": 14,
    "start_time": "2025-06-14T09:16:50.867Z"
   },
   {
    "duration": 25,
    "start_time": "2025-06-14T09:16:50.884Z"
   },
   {
    "duration": 105,
    "start_time": "2025-06-14T09:16:50.911Z"
   },
   {
    "duration": 37,
    "start_time": "2025-06-14T09:16:51.018Z"
   },
   {
    "duration": 13,
    "start_time": "2025-06-14T09:16:51.057Z"
   },
   {
    "duration": 77,
    "start_time": "2025-06-14T09:16:51.072Z"
   },
   {
    "duration": 5,
    "start_time": "2025-06-14T09:16:51.151Z"
   },
   {
    "duration": 44,
    "start_time": "2025-06-14T09:16:51.159Z"
   },
   {
    "duration": 33,
    "start_time": "2025-06-14T09:16:51.205Z"
   },
   {
    "duration": 21,
    "start_time": "2025-06-14T09:16:51.240Z"
   },
   {
    "duration": 9,
    "start_time": "2025-06-14T09:16:51.262Z"
   },
   {
    "duration": 26,
    "start_time": "2025-06-14T09:16:51.273Z"
   },
   {
    "duration": 98,
    "start_time": "2025-06-14T09:16:51.301Z"
   },
   {
    "duration": 12,
    "start_time": "2025-06-14T09:16:51.401Z"
   },
   {
    "duration": 76,
    "start_time": "2025-06-14T09:16:51.415Z"
   },
   {
    "duration": 53,
    "start_time": "2025-06-14T09:16:51.493Z"
   },
   {
    "duration": 49,
    "start_time": "2025-06-14T09:16:51.548Z"
   },
   {
    "duration": 41,
    "start_time": "2025-06-14T09:16:51.599Z"
   },
   {
    "duration": 7,
    "start_time": "2025-06-14T09:16:51.642Z"
   },
   {
    "duration": 12,
    "start_time": "2025-06-14T09:16:51.651Z"
   },
   {
    "duration": 37,
    "start_time": "2025-06-14T09:16:51.665Z"
   },
   {
    "duration": 67,
    "start_time": "2025-06-14T09:16:51.703Z"
   },
   {
    "duration": 13,
    "start_time": "2025-06-14T09:16:51.772Z"
   },
   {
    "duration": 13,
    "start_time": "2025-06-14T09:16:51.787Z"
   },
   {
    "duration": 21,
    "start_time": "2025-06-14T09:16:51.838Z"
   },
   {
    "duration": 22,
    "start_time": "2025-06-14T09:16:51.866Z"
   },
   {
    "duration": 206,
    "start_time": "2025-06-14T09:16:51.890Z"
   },
   {
    "duration": 177,
    "start_time": "2025-06-14T09:16:52.099Z"
   },
   {
    "duration": 7,
    "start_time": "2025-06-14T09:16:52.278Z"
   },
   {
    "duration": 16,
    "start_time": "2025-06-14T09:16:52.286Z"
   },
   {
    "duration": 69,
    "start_time": "2025-06-14T09:16:52.304Z"
   },
   {
    "duration": 12,
    "start_time": "2025-06-14T09:16:52.375Z"
   },
   {
    "duration": 473,
    "start_time": "2025-06-14T09:16:52.389Z"
   },
   {
    "duration": 123,
    "start_time": "2025-06-14T09:16:52.864Z"
   },
   {
    "duration": 148,
    "start_time": "2025-06-14T09:16:52.989Z"
   },
   {
    "duration": 384,
    "start_time": "2025-06-14T09:16:53.139Z"
   },
   {
    "duration": 131,
    "start_time": "2025-06-14T09:16:53.525Z"
   },
   {
    "duration": 233,
    "start_time": "2025-06-14T09:16:53.658Z"
   },
   {
    "duration": 51,
    "start_time": "2025-06-14T09:16:53.893Z"
   },
   {
    "duration": 238,
    "start_time": "2025-06-14T09:16:53.946Z"
   },
   {
    "duration": 27,
    "start_time": "2025-06-14T09:16:54.187Z"
   },
   {
    "duration": 16,
    "start_time": "2025-06-14T09:16:54.216Z"
   },
   {
    "duration": 27,
    "start_time": "2025-06-14T09:16:54.234Z"
   },
   {
    "duration": 178,
    "start_time": "2025-06-14T09:16:54.263Z"
   },
   {
    "duration": 27,
    "start_time": "2025-06-14T09:16:54.443Z"
   },
   {
    "duration": 40,
    "start_time": "2025-06-14T09:16:54.472Z"
   },
   {
    "duration": 8,
    "start_time": "2025-06-14T09:16:54.513Z"
   },
   {
    "duration": 29,
    "start_time": "2025-06-14T09:16:54.523Z"
   },
   {
    "duration": 21,
    "start_time": "2025-06-14T09:16:54.554Z"
   },
   {
    "duration": 19,
    "start_time": "2025-06-14T09:16:54.577Z"
   },
   {
    "duration": 23,
    "start_time": "2025-06-14T09:16:54.597Z"
   },
   {
    "duration": 20,
    "start_time": "2025-06-14T09:16:54.622Z"
   },
   {
    "duration": 17,
    "start_time": "2025-06-14T09:16:54.644Z"
   },
   {
    "duration": 24,
    "start_time": "2025-06-14T09:16:54.663Z"
   },
   {
    "duration": 16,
    "start_time": "2025-06-14T09:16:54.690Z"
   },
   {
    "duration": 38,
    "start_time": "2025-06-14T09:16:54.709Z"
   },
   {
    "duration": 14,
    "start_time": "2025-06-14T09:16:54.749Z"
   },
   {
    "duration": 14,
    "start_time": "2025-06-14T09:16:54.765Z"
   },
   {
    "duration": 5,
    "start_time": "2025-06-14T09:16:54.781Z"
   },
   {
    "duration": 62,
    "start_time": "2025-06-14T09:16:54.787Z"
   },
   {
    "duration": 32,
    "start_time": "2025-06-14T09:16:54.851Z"
   },
   {
    "duration": 301,
    "start_time": "2025-06-14T09:16:54.885Z"
   },
   {
    "duration": 266,
    "start_time": "2025-06-14T09:16:55.188Z"
   },
   {
    "duration": 282,
    "start_time": "2025-06-14T09:16:55.456Z"
   },
   {
    "duration": 4,
    "start_time": "2025-06-14T09:16:55.741Z"
   },
   {
    "duration": 39,
    "start_time": "2025-06-14T09:16:55.746Z"
   },
   {
    "duration": 199,
    "start_time": "2025-06-14T09:16:55.787Z"
   },
   {
    "duration": 164,
    "start_time": "2025-06-14T09:16:55.988Z"
   },
   {
    "duration": 114,
    "start_time": "2025-06-14T09:16:56.154Z"
   },
   {
    "duration": 21,
    "start_time": "2025-06-14T09:16:56.270Z"
   },
   {
    "duration": 69,
    "start_time": "2025-06-14T09:16:56.293Z"
   },
   {
    "duration": 11,
    "start_time": "2025-06-14T09:16:56.364Z"
   },
   {
    "duration": 589,
    "start_time": "2025-06-14T09:16:56.376Z"
   },
   {
    "duration": 161,
    "start_time": "2025-06-14T09:16:56.967Z"
   },
   {
    "duration": 162,
    "start_time": "2025-06-14T09:16:57.129Z"
   },
   {
    "duration": 4,
    "start_time": "2025-06-14T09:16:57.293Z"
   },
   {
    "duration": 114,
    "start_time": "2025-06-14T09:16:57.299Z"
   },
   {
    "duration": 325,
    "start_time": "2025-06-14T09:16:57.415Z"
   },
   {
    "duration": 134,
    "start_time": "2025-06-14T09:16:57.742Z"
   },
   {
    "duration": 139,
    "start_time": "2025-06-14T09:16:57.881Z"
   },
   {
    "duration": 16,
    "start_time": "2025-06-14T09:16:58.022Z"
   },
   {
    "duration": 172,
    "start_time": "2025-06-14T09:16:58.039Z"
   },
   {
    "duration": 348,
    "start_time": "2025-06-14T09:16:58.213Z"
   },
   {
    "duration": 20,
    "start_time": "2025-06-14T09:16:58.563Z"
   },
   {
    "duration": 9,
    "start_time": "2025-06-14T09:16:58.584Z"
   },
   {
    "duration": 442,
    "start_time": "2025-06-14T09:21:51.516Z"
   },
   {
    "duration": 107,
    "start_time": "2025-06-14T09:28:06.825Z"
   },
   {
    "duration": 13,
    "start_time": "2025-06-14T09:28:52.718Z"
   },
   {
    "duration": 16,
    "start_time": "2025-06-14T09:29:03.708Z"
   },
   {
    "duration": 10,
    "start_time": "2025-06-14T09:29:22.526Z"
   },
   {
    "duration": 10,
    "start_time": "2025-06-14T09:29:48.716Z"
   },
   {
    "duration": 11,
    "start_time": "2025-06-14T09:33:06.251Z"
   },
   {
    "duration": 9,
    "start_time": "2025-06-14T09:44:06.874Z"
   },
   {
    "duration": 521,
    "start_time": "2025-06-14T09:55:20.383Z"
   },
   {
    "duration": 242,
    "start_time": "2025-06-14T09:56:54.713Z"
   },
   {
    "duration": 19,
    "start_time": "2025-06-14T09:57:34.936Z"
   },
   {
    "duration": 16,
    "start_time": "2025-06-14T10:04:19.362Z"
   },
   {
    "duration": 17,
    "start_time": "2025-06-14T10:04:24.089Z"
   },
   {
    "duration": 19,
    "start_time": "2025-06-14T10:05:30.263Z"
   },
   {
    "duration": 16,
    "start_time": "2025-06-14T10:05:36.415Z"
   },
   {
    "duration": 16,
    "start_time": "2025-06-14T10:08:08.223Z"
   },
   {
    "duration": 426,
    "start_time": "2025-06-14T10:13:01.703Z"
   },
   {
    "duration": 4702,
    "start_time": "2025-06-14T13:18:09.254Z"
   },
   {
    "duration": 2302,
    "start_time": "2025-06-14T13:18:13.958Z"
   },
   {
    "duration": 14,
    "start_time": "2025-06-14T13:18:16.262Z"
   },
   {
    "duration": 21,
    "start_time": "2025-06-14T13:18:16.279Z"
   },
   {
    "duration": 110,
    "start_time": "2025-06-14T13:18:16.302Z"
   },
   {
    "duration": 32,
    "start_time": "2025-06-14T13:18:16.414Z"
   },
   {
    "duration": 28,
    "start_time": "2025-06-14T13:18:16.448Z"
   },
   {
    "duration": 47,
    "start_time": "2025-06-14T13:18:16.478Z"
   },
   {
    "duration": 5,
    "start_time": "2025-06-14T13:18:16.526Z"
   },
   {
    "duration": 52,
    "start_time": "2025-06-14T13:18:16.539Z"
   },
   {
    "duration": 8,
    "start_time": "2025-06-14T13:18:16.593Z"
   },
   {
    "duration": 20,
    "start_time": "2025-06-14T13:18:16.603Z"
   },
   {
    "duration": 13,
    "start_time": "2025-06-14T13:18:16.625Z"
   },
   {
    "duration": 24,
    "start_time": "2025-06-14T13:18:16.640Z"
   },
   {
    "duration": 8,
    "start_time": "2025-06-14T13:18:16.666Z"
   },
   {
    "duration": 11,
    "start_time": "2025-06-14T13:18:16.675Z"
   },
   {
    "duration": 95,
    "start_time": "2025-06-14T13:18:16.687Z"
   },
   {
    "duration": 148,
    "start_time": "2025-06-14T13:18:16.784Z"
   },
   {
    "duration": 57,
    "start_time": "2025-06-14T13:18:16.934Z"
   },
   {
    "duration": 28,
    "start_time": "2025-06-14T13:18:16.992Z"
   },
   {
    "duration": 26,
    "start_time": "2025-06-14T13:18:17.022Z"
   },
   {
    "duration": 8,
    "start_time": "2025-06-14T13:18:17.050Z"
   },
   {
    "duration": 34,
    "start_time": "2025-06-14T13:18:17.060Z"
   },
   {
    "duration": 52,
    "start_time": "2025-06-14T13:18:17.096Z"
   },
   {
    "duration": 12,
    "start_time": "2025-06-14T13:18:17.149Z"
   },
   {
    "duration": 20,
    "start_time": "2025-06-14T13:18:17.162Z"
   },
   {
    "duration": 21,
    "start_time": "2025-06-14T13:18:17.183Z"
   },
   {
    "duration": 48,
    "start_time": "2025-06-14T13:18:17.208Z"
   },
   {
    "duration": 156,
    "start_time": "2025-06-14T13:18:17.257Z"
   },
   {
    "duration": 76,
    "start_time": "2025-06-14T13:18:17.415Z"
   },
   {
    "duration": 6,
    "start_time": "2025-06-14T13:18:17.493Z"
   },
   {
    "duration": 26,
    "start_time": "2025-06-14T13:18:17.500Z"
   },
   {
    "duration": 58,
    "start_time": "2025-06-14T13:18:17.527Z"
   },
   {
    "duration": 11,
    "start_time": "2025-06-14T13:18:17.587Z"
   },
   {
    "duration": 457,
    "start_time": "2025-06-14T13:18:17.600Z"
   },
   {
    "duration": 102,
    "start_time": "2025-06-14T13:18:18.059Z"
   },
   {
    "duration": 138,
    "start_time": "2025-06-14T13:18:18.163Z"
   },
   {
    "duration": 352,
    "start_time": "2025-06-14T13:18:18.302Z"
   },
   {
    "duration": 129,
    "start_time": "2025-06-14T13:18:18.656Z"
   },
   {
    "duration": 372,
    "start_time": "2025-06-14T13:18:18.787Z"
   },
   {
    "duration": 41,
    "start_time": "2025-06-14T13:18:19.160Z"
   },
   {
    "duration": 35,
    "start_time": "2025-06-14T13:18:19.202Z"
   },
   {
    "duration": 23,
    "start_time": "2025-06-14T13:18:19.239Z"
   },
   {
    "duration": 103,
    "start_time": "2025-06-14T13:18:19.264Z"
   },
   {
    "duration": 9,
    "start_time": "2025-06-14T13:18:19.369Z"
   },
   {
    "duration": 387,
    "start_time": "2025-06-14T13:18:19.380Z"
   },
   {
    "duration": 81,
    "start_time": "2025-06-14T13:18:19.768Z"
   },
   {
    "duration": 24,
    "start_time": "2025-06-14T13:18:19.851Z"
   },
   {
    "duration": 61,
    "start_time": "2025-06-14T13:18:19.877Z"
   },
   {
    "duration": 52,
    "start_time": "2025-06-14T13:18:19.940Z"
   },
   {
    "duration": 42,
    "start_time": "2025-06-14T13:18:20.036Z"
   },
   {
    "duration": 83,
    "start_time": "2025-06-14T13:18:20.080Z"
   },
   {
    "duration": 77,
    "start_time": "2025-06-14T13:18:20.165Z"
   },
   {
    "duration": 19,
    "start_time": "2025-06-14T13:18:20.243Z"
   },
   {
    "duration": 25,
    "start_time": "2025-06-14T13:18:20.264Z"
   },
   {
    "duration": 55,
    "start_time": "2025-06-14T13:18:20.291Z"
   },
   {
    "duration": 125,
    "start_time": "2025-06-14T13:18:20.348Z"
   },
   {
    "duration": 11,
    "start_time": "2025-06-14T13:18:20.474Z"
   },
   {
    "duration": 58,
    "start_time": "2025-06-14T13:18:20.486Z"
   },
   {
    "duration": 63,
    "start_time": "2025-06-14T13:18:20.546Z"
   },
   {
    "duration": 13,
    "start_time": "2025-06-14T13:18:20.611Z"
   },
   {
    "duration": 58,
    "start_time": "2025-06-14T13:18:20.626Z"
   },
   {
    "duration": 30,
    "start_time": "2025-06-14T13:18:20.685Z"
   },
   {
    "duration": 252,
    "start_time": "2025-06-14T13:18:20.717Z"
   },
   {
    "duration": 231,
    "start_time": "2025-06-14T13:18:20.971Z"
   },
   {
    "duration": 257,
    "start_time": "2025-06-14T13:18:21.204Z"
   },
   {
    "duration": 4,
    "start_time": "2025-06-14T13:18:21.462Z"
   },
   {
    "duration": 34,
    "start_time": "2025-06-14T13:18:21.467Z"
   },
   {
    "duration": 184,
    "start_time": "2025-06-14T13:18:21.502Z"
   },
   {
    "duration": 167,
    "start_time": "2025-06-14T13:18:21.692Z"
   },
   {
    "duration": 108,
    "start_time": "2025-06-14T13:18:21.861Z"
   },
   {
    "duration": 21,
    "start_time": "2025-06-14T13:18:21.970Z"
   },
   {
    "duration": 72,
    "start_time": "2025-06-14T13:18:21.993Z"
   },
   {
    "duration": 9,
    "start_time": "2025-06-14T13:18:22.066Z"
   },
   {
    "duration": 576,
    "start_time": "2025-06-14T13:18:22.077Z"
   },
   {
    "duration": 170,
    "start_time": "2025-06-14T13:18:22.655Z"
   },
   {
    "duration": 160,
    "start_time": "2025-06-14T13:18:22.826Z"
   },
   {
    "duration": 4,
    "start_time": "2025-06-14T13:18:22.987Z"
   },
   {
    "duration": 44,
    "start_time": "2025-06-14T13:18:22.993Z"
   },
   {
    "duration": 339,
    "start_time": "2025-06-14T13:18:23.040Z"
   },
   {
    "duration": 132,
    "start_time": "2025-06-14T13:18:23.381Z"
   },
   {
    "duration": 137,
    "start_time": "2025-06-14T13:18:23.520Z"
   },
   {
    "duration": 8,
    "start_time": "2025-06-14T13:18:23.659Z"
   },
   {
    "duration": 8,
    "start_time": "2025-06-14T13:18:23.668Z"
   },
   {
    "duration": 370,
    "start_time": "2025-06-14T13:18:23.677Z"
   },
   {
    "duration": 20,
    "start_time": "2025-06-14T13:18:24.048Z"
   },
   {
    "duration": 15,
    "start_time": "2025-06-14T13:18:24.069Z"
   },
   {
    "duration": 18,
    "start_time": "2025-06-14T13:18:24.085Z"
   },
   {
    "duration": 248,
    "start_time": "2025-06-14T13:18:24.104Z"
   },
   {
    "duration": 16,
    "start_time": "2025-06-14T13:18:24.355Z"
   },
   {
    "duration": 101,
    "start_time": "2025-06-14T13:18:24.373Z"
   },
   {
    "duration": 269,
    "start_time": "2025-06-14T13:18:24.476Z"
   },
   {
    "duration": 533,
    "start_time": "2025-06-14T13:28:17.732Z"
   },
   {
    "duration": 132,
    "start_time": "2025-06-14T13:28:38.366Z"
   },
   {
    "duration": 666,
    "start_time": "2025-06-14T13:30:03.125Z"
   },
   {
    "duration": 473,
    "start_time": "2025-06-14T13:30:39.433Z"
   },
   {
    "duration": 521,
    "start_time": "2025-06-14T13:56:56.119Z"
   },
   {
    "duration": 11,
    "start_time": "2025-06-14T14:07:55.438Z"
   },
   {
    "duration": 362,
    "start_time": "2025-06-14T14:12:02.004Z"
   },
   {
    "duration": 354,
    "start_time": "2025-06-14T14:12:17.720Z"
   },
   {
    "duration": 372,
    "start_time": "2025-06-14T14:17:09.712Z"
   },
   {
    "duration": 9,
    "start_time": "2025-06-14T14:18:00.446Z"
   },
   {
    "duration": 559,
    "start_time": "2025-06-14T14:18:41.470Z"
   },
   {
    "duration": 475,
    "start_time": "2025-06-14T14:19:02.127Z"
   },
   {
    "duration": 2798,
    "start_time": "2025-06-14T14:48:06.595Z"
   },
   {
    "duration": 1973,
    "start_time": "2025-06-14T14:48:09.396Z"
   },
   {
    "duration": 12,
    "start_time": "2025-06-14T14:48:11.371Z"
   },
   {
    "duration": 17,
    "start_time": "2025-06-14T14:48:11.385Z"
   },
   {
    "duration": 110,
    "start_time": "2025-06-14T14:48:11.403Z"
   },
   {
    "duration": 25,
    "start_time": "2025-06-14T14:48:11.515Z"
   },
   {
    "duration": 9,
    "start_time": "2025-06-14T14:48:11.547Z"
   },
   {
    "duration": 27,
    "start_time": "2025-06-14T14:48:11.557Z"
   },
   {
    "duration": 4,
    "start_time": "2025-06-14T14:48:11.585Z"
   },
   {
    "duration": 75,
    "start_time": "2025-06-14T14:48:11.592Z"
   },
   {
    "duration": 9,
    "start_time": "2025-06-14T14:48:11.668Z"
   },
   {
    "duration": 93,
    "start_time": "2025-06-14T14:48:11.679Z"
   },
   {
    "duration": 7,
    "start_time": "2025-06-14T14:48:11.773Z"
   },
   {
    "duration": 26,
    "start_time": "2025-06-14T14:48:11.782Z"
   },
   {
    "duration": 7,
    "start_time": "2025-06-14T14:48:11.810Z"
   },
   {
    "duration": 9,
    "start_time": "2025-06-14T14:48:11.819Z"
   },
   {
    "duration": 82,
    "start_time": "2025-06-14T14:48:11.837Z"
   },
   {
    "duration": 67,
    "start_time": "2025-06-14T14:48:11.922Z"
   },
   {
    "duration": 66,
    "start_time": "2025-06-14T14:48:11.990Z"
   },
   {
    "duration": 20,
    "start_time": "2025-06-14T14:48:12.057Z"
   },
   {
    "duration": 9,
    "start_time": "2025-06-14T14:48:12.078Z"
   },
   {
    "duration": 14,
    "start_time": "2025-06-14T14:48:12.088Z"
   },
   {
    "duration": 63,
    "start_time": "2025-06-14T14:48:12.104Z"
   },
   {
    "duration": 37,
    "start_time": "2025-06-14T14:48:12.168Z"
   },
   {
    "duration": 34,
    "start_time": "2025-06-14T14:48:12.206Z"
   },
   {
    "duration": 17,
    "start_time": "2025-06-14T14:48:12.242Z"
   },
   {
    "duration": 20,
    "start_time": "2025-06-14T14:48:12.261Z"
   },
   {
    "duration": 30,
    "start_time": "2025-06-14T14:48:12.286Z"
   },
   {
    "duration": 101,
    "start_time": "2025-06-14T14:48:12.317Z"
   },
   {
    "duration": 119,
    "start_time": "2025-06-14T14:48:12.420Z"
   },
   {
    "duration": 8,
    "start_time": "2025-06-14T14:48:12.547Z"
   },
   {
    "duration": 21,
    "start_time": "2025-06-14T14:48:12.557Z"
   },
   {
    "duration": 67,
    "start_time": "2025-06-14T14:48:12.579Z"
   },
   {
    "duration": 27,
    "start_time": "2025-06-14T14:48:12.647Z"
   },
   {
    "duration": 421,
    "start_time": "2025-06-14T14:48:12.676Z"
   },
   {
    "duration": 136,
    "start_time": "2025-06-14T14:48:13.100Z"
   },
   {
    "duration": 162,
    "start_time": "2025-06-14T14:48:13.239Z"
   },
   {
    "duration": 377,
    "start_time": "2025-06-14T14:48:13.403Z"
   },
   {
    "duration": 136,
    "start_time": "2025-06-14T14:48:13.782Z"
   },
   {
    "duration": 201,
    "start_time": "2025-06-14T14:48:13.919Z"
   },
   {
    "duration": 56,
    "start_time": "2025-06-14T14:48:14.121Z"
   },
   {
    "duration": 19,
    "start_time": "2025-06-14T14:48:14.179Z"
   },
   {
    "duration": 53,
    "start_time": "2025-06-14T14:48:14.200Z"
   },
   {
    "duration": 16,
    "start_time": "2025-06-14T14:48:14.256Z"
   },
   {
    "duration": 7,
    "start_time": "2025-06-14T14:48:14.274Z"
   },
   {
    "duration": 225,
    "start_time": "2025-06-14T14:48:14.283Z"
   },
   {
    "duration": 44,
    "start_time": "2025-06-14T14:48:14.510Z"
   },
   {
    "duration": 19,
    "start_time": "2025-06-14T14:48:14.556Z"
   },
   {
    "duration": 10,
    "start_time": "2025-06-14T14:48:14.576Z"
   },
   {
    "duration": 88,
    "start_time": "2025-06-14T14:48:14.588Z"
   },
   {
    "duration": 17,
    "start_time": "2025-06-14T14:48:14.678Z"
   },
   {
    "duration": 32,
    "start_time": "2025-06-14T14:48:14.697Z"
   },
   {
    "duration": 23,
    "start_time": "2025-06-14T14:48:14.731Z"
   },
   {
    "duration": 79,
    "start_time": "2025-06-14T14:48:14.757Z"
   },
   {
    "duration": 17,
    "start_time": "2025-06-14T14:48:14.838Z"
   },
   {
    "duration": 10,
    "start_time": "2025-06-14T14:48:14.857Z"
   },
   {
    "duration": 11,
    "start_time": "2025-06-14T14:48:14.869Z"
   },
   {
    "duration": 18,
    "start_time": "2025-06-14T14:48:14.882Z"
   },
   {
    "duration": 40,
    "start_time": "2025-06-14T14:48:14.902Z"
   },
   {
    "duration": 16,
    "start_time": "2025-06-14T14:48:14.947Z"
   },
   {
    "duration": 5,
    "start_time": "2025-06-14T14:48:14.965Z"
   },
   {
    "duration": 46,
    "start_time": "2025-06-14T14:48:14.971Z"
   },
   {
    "duration": 85,
    "start_time": "2025-06-14T14:48:15.019Z"
   },
   {
    "duration": 270,
    "start_time": "2025-06-14T14:48:15.106Z"
   },
   {
    "duration": 278,
    "start_time": "2025-06-14T14:48:15.377Z"
   },
   {
    "duration": 284,
    "start_time": "2025-06-14T14:48:15.657Z"
   },
   {
    "duration": 7,
    "start_time": "2025-06-14T14:48:15.946Z"
   },
   {
    "duration": 35,
    "start_time": "2025-06-14T14:48:15.955Z"
   },
   {
    "duration": 190,
    "start_time": "2025-06-14T14:48:15.992Z"
   },
   {
    "duration": 167,
    "start_time": "2025-06-14T14:48:16.184Z"
   },
   {
    "duration": 103,
    "start_time": "2025-06-14T14:48:16.352Z"
   },
   {
    "duration": 23,
    "start_time": "2025-06-14T14:48:16.456Z"
   },
   {
    "duration": 81,
    "start_time": "2025-06-14T14:48:16.480Z"
   },
   {
    "duration": 11,
    "start_time": "2025-06-14T14:48:16.562Z"
   },
   {
    "duration": 616,
    "start_time": "2025-06-14T14:48:16.575Z"
   },
   {
    "duration": 770,
    "start_time": "2025-06-14T14:48:17.193Z"
   },
   {
    "duration": 178,
    "start_time": "2025-06-14T14:48:17.965Z"
   },
   {
    "duration": 178,
    "start_time": "2025-06-14T14:48:18.145Z"
   },
   {
    "duration": 4,
    "start_time": "2025-06-14T14:48:18.325Z"
   },
   {
    "duration": 49,
    "start_time": "2025-06-14T14:48:18.330Z"
   },
   {
    "duration": 264,
    "start_time": "2025-06-14T14:48:18.381Z"
   },
   {
    "duration": 493,
    "start_time": "2025-06-14T14:48:18.657Z"
   },
   {
    "duration": 145,
    "start_time": "2025-06-14T14:48:19.153Z"
   },
   {
    "duration": 170,
    "start_time": "2025-06-14T14:48:19.300Z"
   },
   {
    "duration": 7,
    "start_time": "2025-06-14T14:48:19.471Z"
   },
   {
    "duration": 10,
    "start_time": "2025-06-14T14:48:19.480Z"
   },
   {
    "duration": 387,
    "start_time": "2025-06-14T14:48:19.492Z"
   },
   {
    "duration": 18,
    "start_time": "2025-06-14T14:48:19.881Z"
   },
   {
    "duration": 522,
    "start_time": "2025-06-14T14:48:19.901Z"
   },
   {
    "duration": 25,
    "start_time": "2025-06-14T14:48:20.425Z"
   },
   {
    "duration": 18,
    "start_time": "2025-06-14T14:48:20.455Z"
   },
   {
    "duration": 252,
    "start_time": "2025-06-14T14:48:20.475Z"
   },
   {
    "duration": 29,
    "start_time": "2025-06-14T14:48:20.728Z"
   },
   {
    "duration": 101,
    "start_time": "2025-06-14T14:48:20.758Z"
   },
   {
    "duration": 299,
    "start_time": "2025-06-14T14:48:20.861Z"
   },
   {
    "duration": 4713,
    "start_time": "2025-06-14T21:16:33.272Z"
   },
   {
    "duration": 1903,
    "start_time": "2025-06-14T21:16:37.987Z"
   },
   {
    "duration": 12,
    "start_time": "2025-06-14T21:16:39.892Z"
   },
   {
    "duration": 12,
    "start_time": "2025-06-14T21:16:39.906Z"
   },
   {
    "duration": 102,
    "start_time": "2025-06-14T21:16:39.919Z"
   },
   {
    "duration": 24,
    "start_time": "2025-06-14T21:16:40.023Z"
   },
   {
    "duration": 4,
    "start_time": "2025-06-14T21:16:40.057Z"
   },
   {
    "duration": 58,
    "start_time": "2025-06-14T21:16:40.062Z"
   },
   {
    "duration": 5,
    "start_time": "2025-06-14T21:16:40.122Z"
   },
   {
    "duration": 51,
    "start_time": "2025-06-14T21:16:40.131Z"
   },
   {
    "duration": 8,
    "start_time": "2025-06-14T21:16:40.184Z"
   },
   {
    "duration": 23,
    "start_time": "2025-06-14T21:16:40.193Z"
   },
   {
    "duration": 8,
    "start_time": "2025-06-14T21:16:40.218Z"
   },
   {
    "duration": 43,
    "start_time": "2025-06-14T21:16:40.227Z"
   },
   {
    "duration": 7,
    "start_time": "2025-06-14T21:16:40.272Z"
   },
   {
    "duration": 14,
    "start_time": "2025-06-14T21:16:40.280Z"
   },
   {
    "duration": 82,
    "start_time": "2025-06-14T21:16:40.295Z"
   },
   {
    "duration": 42,
    "start_time": "2025-06-14T21:16:40.379Z"
   },
   {
    "duration": 110,
    "start_time": "2025-06-14T21:16:40.423Z"
   },
   {
    "duration": 20,
    "start_time": "2025-06-14T21:16:40.534Z"
   },
   {
    "duration": 10,
    "start_time": "2025-06-14T21:16:40.556Z"
   },
   {
    "duration": 9,
    "start_time": "2025-06-14T21:16:40.567Z"
   },
   {
    "duration": 36,
    "start_time": "2025-06-14T21:16:40.577Z"
   },
   {
    "duration": 57,
    "start_time": "2025-06-14T21:16:40.614Z"
   },
   {
    "duration": 13,
    "start_time": "2025-06-14T21:16:40.673Z"
   },
   {
    "duration": 12,
    "start_time": "2025-06-14T21:16:40.688Z"
   },
   {
    "duration": 23,
    "start_time": "2025-06-14T21:16:40.702Z"
   },
   {
    "duration": 21,
    "start_time": "2025-06-14T21:16:40.759Z"
   },
   {
    "duration": 89,
    "start_time": "2025-06-14T21:16:40.782Z"
   },
   {
    "duration": 71,
    "start_time": "2025-06-14T21:16:40.872Z"
   },
   {
    "duration": 7,
    "start_time": "2025-06-14T21:16:40.957Z"
   },
   {
    "duration": 14,
    "start_time": "2025-06-14T21:16:40.965Z"
   },
   {
    "duration": 51,
    "start_time": "2025-06-14T21:16:40.980Z"
   },
   {
    "duration": 33,
    "start_time": "2025-06-14T21:16:41.033Z"
   },
   {
    "duration": 484,
    "start_time": "2025-06-14T21:16:41.067Z"
   },
   {
    "duration": 120,
    "start_time": "2025-06-14T21:16:41.554Z"
   },
   {
    "duration": 131,
    "start_time": "2025-06-14T21:16:41.676Z"
   },
   {
    "duration": 351,
    "start_time": "2025-06-14T21:16:41.808Z"
   },
   {
    "duration": 144,
    "start_time": "2025-06-14T21:16:42.161Z"
   },
   {
    "duration": 243,
    "start_time": "2025-06-14T21:16:42.307Z"
   },
   {
    "duration": 43,
    "start_time": "2025-06-14T21:16:42.552Z"
   },
   {
    "duration": 18,
    "start_time": "2025-06-14T21:16:42.597Z"
   },
   {
    "duration": 51,
    "start_time": "2025-06-14T21:16:42.617Z"
   },
   {
    "duration": 15,
    "start_time": "2025-06-14T21:16:42.670Z"
   },
   {
    "duration": 6,
    "start_time": "2025-06-14T21:16:42.687Z"
   },
   {
    "duration": 187,
    "start_time": "2025-06-14T21:16:42.695Z"
   },
   {
    "duration": 26,
    "start_time": "2025-06-14T21:16:42.884Z"
   },
   {
    "duration": 19,
    "start_time": "2025-06-14T21:16:42.912Z"
   },
   {
    "duration": 27,
    "start_time": "2025-06-14T21:16:42.932Z"
   },
   {
    "duration": 25,
    "start_time": "2025-06-14T21:16:42.960Z"
   },
   {
    "duration": 28,
    "start_time": "2025-06-14T21:16:42.987Z"
   },
   {
    "duration": 23,
    "start_time": "2025-06-14T21:16:43.017Z"
   },
   {
    "duration": 88,
    "start_time": "2025-06-14T21:16:43.041Z"
   },
   {
    "duration": 12,
    "start_time": "2025-06-14T21:16:43.131Z"
   },
   {
    "duration": 14,
    "start_time": "2025-06-14T21:16:43.144Z"
   },
   {
    "duration": 25,
    "start_time": "2025-06-14T21:16:43.159Z"
   },
   {
    "duration": 11,
    "start_time": "2025-06-14T21:16:43.186Z"
   },
   {
    "duration": 16,
    "start_time": "2025-06-14T21:16:43.198Z"
   },
   {
    "duration": 13,
    "start_time": "2025-06-14T21:16:43.216Z"
   },
   {
    "duration": 12,
    "start_time": "2025-06-14T21:16:43.230Z"
   },
   {
    "duration": 5,
    "start_time": "2025-06-14T21:16:43.258Z"
   },
   {
    "duration": 34,
    "start_time": "2025-06-14T21:16:43.265Z"
   },
   {
    "duration": 32,
    "start_time": "2025-06-14T21:16:43.300Z"
   },
   {
    "duration": 263,
    "start_time": "2025-06-14T21:16:43.334Z"
   },
   {
    "duration": 225,
    "start_time": "2025-06-14T21:16:43.599Z"
   },
   {
    "duration": 243,
    "start_time": "2025-06-14T21:16:43.826Z"
   },
   {
    "duration": 4,
    "start_time": "2025-06-14T21:16:44.070Z"
   },
   {
    "duration": 30,
    "start_time": "2025-06-14T21:16:44.075Z"
   },
   {
    "duration": 175,
    "start_time": "2025-06-14T21:16:44.107Z"
   },
   {
    "duration": 152,
    "start_time": "2025-06-14T21:16:44.283Z"
   },
   {
    "duration": 100,
    "start_time": "2025-06-14T21:16:44.436Z"
   },
   {
    "duration": 29,
    "start_time": "2025-06-14T21:16:44.538Z"
   },
   {
    "duration": 52,
    "start_time": "2025-06-14T21:16:44.569Z"
   },
   {
    "duration": 10,
    "start_time": "2025-06-14T21:16:44.622Z"
   },
   {
    "duration": 543,
    "start_time": "2025-06-14T21:16:44.633Z"
   },
   {
    "duration": 653,
    "start_time": "2025-06-14T21:16:45.179Z"
   },
   {
    "duration": 154,
    "start_time": "2025-06-14T21:16:45.833Z"
   },
   {
    "duration": 160,
    "start_time": "2025-06-14T21:16:45.989Z"
   },
   {
    "duration": 9,
    "start_time": "2025-06-14T21:16:46.150Z"
   },
   {
    "duration": 32,
    "start_time": "2025-06-14T21:16:46.160Z"
   },
   {
    "duration": 239,
    "start_time": "2025-06-14T21:16:46.194Z"
   },
   {
    "duration": 495,
    "start_time": "2025-06-14T21:16:46.438Z"
   },
   {
    "duration": 128,
    "start_time": "2025-06-14T21:16:46.935Z"
   },
   {
    "duration": 130,
    "start_time": "2025-06-14T21:16:47.065Z"
   },
   {
    "duration": 6,
    "start_time": "2025-06-14T21:16:47.197Z"
   },
   {
    "duration": 6,
    "start_time": "2025-06-14T21:16:47.205Z"
   },
   {
    "duration": 374,
    "start_time": "2025-06-14T21:16:47.212Z"
   },
   {
    "duration": 17,
    "start_time": "2025-06-14T21:16:47.588Z"
   },
   {
    "duration": 378,
    "start_time": "2025-06-14T21:16:47.607Z"
   },
   {
    "duration": 8,
    "start_time": "2025-06-14T21:16:47.987Z"
   },
   {
    "duration": 13,
    "start_time": "2025-06-14T21:16:47.996Z"
   },
   {
    "duration": 234,
    "start_time": "2025-06-14T21:16:48.010Z"
   },
   {
    "duration": 21,
    "start_time": "2025-06-14T21:16:48.245Z"
   },
   {
    "duration": 14,
    "start_time": "2025-06-14T21:16:48.267Z"
   },
   {
    "duration": 287,
    "start_time": "2025-06-14T21:16:48.282Z"
   },
   {
    "duration": 5337,
    "start_time": "2025-06-15T08:26:09.872Z"
   },
   {
    "duration": 2752,
    "start_time": "2025-06-15T08:26:15.211Z"
   },
   {
    "duration": 22,
    "start_time": "2025-06-15T08:26:17.966Z"
   },
   {
    "duration": 26,
    "start_time": "2025-06-15T08:26:17.991Z"
   },
   {
    "duration": 152,
    "start_time": "2025-06-15T08:26:18.019Z"
   },
   {
    "duration": 27,
    "start_time": "2025-06-15T08:26:18.173Z"
   },
   {
    "duration": 4,
    "start_time": "2025-06-15T08:26:18.203Z"
   },
   {
    "duration": 76,
    "start_time": "2025-06-15T08:26:18.209Z"
   },
   {
    "duration": 6,
    "start_time": "2025-06-15T08:26:18.287Z"
   },
   {
    "duration": 50,
    "start_time": "2025-06-15T08:26:18.295Z"
   },
   {
    "duration": 10,
    "start_time": "2025-06-15T08:26:18.347Z"
   },
   {
    "duration": 27,
    "start_time": "2025-06-15T08:26:18.371Z"
   },
   {
    "duration": 8,
    "start_time": "2025-06-15T08:26:18.400Z"
   },
   {
    "duration": 34,
    "start_time": "2025-06-15T08:26:18.410Z"
   },
   {
    "duration": 28,
    "start_time": "2025-06-15T08:26:18.446Z"
   },
   {
    "duration": 14,
    "start_time": "2025-06-15T08:26:18.476Z"
   },
   {
    "duration": 114,
    "start_time": "2025-06-15T08:26:18.492Z"
   },
   {
    "duration": 49,
    "start_time": "2025-06-15T08:26:18.607Z"
   },
   {
    "duration": 60,
    "start_time": "2025-06-15T08:26:18.658Z"
   },
   {
    "duration": 85,
    "start_time": "2025-06-15T08:26:18.720Z"
   },
   {
    "duration": 21,
    "start_time": "2025-06-15T08:26:18.807Z"
   },
   {
    "duration": 11,
    "start_time": "2025-06-15T08:26:18.829Z"
   },
   {
    "duration": 43,
    "start_time": "2025-06-15T08:26:18.842Z"
   },
   {
    "duration": 39,
    "start_time": "2025-06-15T08:26:18.887Z"
   },
   {
    "duration": 23,
    "start_time": "2025-06-15T08:26:18.928Z"
   },
   {
    "duration": 29,
    "start_time": "2025-06-15T08:26:18.953Z"
   },
   {
    "duration": 36,
    "start_time": "2025-06-15T08:26:18.984Z"
   },
   {
    "duration": 25,
    "start_time": "2025-06-15T08:26:19.026Z"
   },
   {
    "duration": 94,
    "start_time": "2025-06-15T08:26:19.053Z"
   },
   {
    "duration": 94,
    "start_time": "2025-06-15T08:26:19.149Z"
   },
   {
    "duration": 8,
    "start_time": "2025-06-15T08:26:19.245Z"
   },
   {
    "duration": 52,
    "start_time": "2025-06-15T08:26:19.272Z"
   },
   {
    "duration": 56,
    "start_time": "2025-06-15T08:26:19.326Z"
   },
   {
    "duration": 12,
    "start_time": "2025-06-15T08:26:19.385Z"
   },
   {
    "duration": 453,
    "start_time": "2025-06-15T08:26:19.400Z"
   },
   {
    "duration": 128,
    "start_time": "2025-06-15T08:26:19.856Z"
   },
   {
    "duration": 153,
    "start_time": "2025-06-15T08:26:19.986Z"
   },
   {
    "duration": 402,
    "start_time": "2025-06-15T08:26:20.141Z"
   },
   {
    "duration": 145,
    "start_time": "2025-06-15T08:26:20.546Z"
   },
   {
    "duration": 259,
    "start_time": "2025-06-15T08:26:20.694Z"
   },
   {
    "duration": 58,
    "start_time": "2025-06-15T08:26:20.955Z"
   },
   {
    "duration": 22,
    "start_time": "2025-06-15T08:26:21.015Z"
   },
   {
    "duration": 43,
    "start_time": "2025-06-15T08:26:21.038Z"
   },
   {
    "duration": 18,
    "start_time": "2025-06-15T08:26:21.083Z"
   },
   {
    "duration": 8,
    "start_time": "2025-06-15T08:26:21.102Z"
   },
   {
    "duration": 205,
    "start_time": "2025-06-15T08:26:21.111Z"
   },
   {
    "duration": 32,
    "start_time": "2025-06-15T08:26:21.318Z"
   },
   {
    "duration": 34,
    "start_time": "2025-06-15T08:26:21.351Z"
   },
   {
    "duration": 11,
    "start_time": "2025-06-15T08:26:21.387Z"
   },
   {
    "duration": 23,
    "start_time": "2025-06-15T08:26:21.400Z"
   },
   {
    "duration": 48,
    "start_time": "2025-06-15T08:26:21.425Z"
   },
   {
    "duration": 22,
    "start_time": "2025-06-15T08:26:21.475Z"
   },
   {
    "duration": 28,
    "start_time": "2025-06-15T08:26:21.499Z"
   },
   {
    "duration": 12,
    "start_time": "2025-06-15T08:26:21.529Z"
   },
   {
    "duration": 16,
    "start_time": "2025-06-15T08:26:21.543Z"
   },
   {
    "duration": 18,
    "start_time": "2025-06-15T08:26:21.561Z"
   },
   {
    "duration": 22,
    "start_time": "2025-06-15T08:26:21.580Z"
   },
   {
    "duration": 10,
    "start_time": "2025-06-15T08:26:21.603Z"
   },
   {
    "duration": 19,
    "start_time": "2025-06-15T08:26:21.615Z"
   },
   {
    "duration": 24,
    "start_time": "2025-06-15T08:26:21.636Z"
   },
   {
    "duration": 14,
    "start_time": "2025-06-15T08:26:21.662Z"
   },
   {
    "duration": 39,
    "start_time": "2025-06-15T08:26:21.678Z"
   },
   {
    "duration": 53,
    "start_time": "2025-06-15T08:26:21.719Z"
   },
   {
    "duration": 288,
    "start_time": "2025-06-15T08:26:21.774Z"
   },
   {
    "duration": 293,
    "start_time": "2025-06-15T08:26:22.064Z"
   },
   {
    "duration": 290,
    "start_time": "2025-06-15T08:26:22.359Z"
   },
   {
    "duration": 4,
    "start_time": "2025-06-15T08:26:22.651Z"
   },
   {
    "duration": 45,
    "start_time": "2025-06-15T08:26:22.656Z"
   },
   {
    "duration": 197,
    "start_time": "2025-06-15T08:26:22.703Z"
   },
   {
    "duration": 171,
    "start_time": "2025-06-15T08:26:22.902Z"
   },
   {
    "duration": 110,
    "start_time": "2025-06-15T08:26:23.075Z"
   },
   {
    "duration": 23,
    "start_time": "2025-06-15T08:26:23.187Z"
   },
   {
    "duration": 121,
    "start_time": "2025-06-15T08:26:23.212Z"
   },
   {
    "duration": 23,
    "start_time": "2025-06-15T08:26:23.334Z"
   },
   {
    "duration": 564,
    "start_time": "2025-06-15T08:26:23.359Z"
   },
   {
    "duration": 711,
    "start_time": "2025-06-15T08:26:23.925Z"
   },
   {
    "duration": 175,
    "start_time": "2025-06-15T08:26:24.638Z"
   },
   {
    "duration": 200,
    "start_time": "2025-06-15T08:26:24.815Z"
   },
   {
    "duration": 5,
    "start_time": "2025-06-15T08:26:25.017Z"
   },
   {
    "duration": 53,
    "start_time": "2025-06-15T08:26:25.023Z"
   },
   {
    "duration": 275,
    "start_time": "2025-06-15T08:26:25.078Z"
   },
   {
    "duration": 451,
    "start_time": "2025-06-15T08:26:25.359Z"
   },
   {
    "duration": 144,
    "start_time": "2025-06-15T08:26:25.812Z"
   },
   {
    "duration": 153,
    "start_time": "2025-06-15T08:26:25.958Z"
   },
   {
    "duration": 10,
    "start_time": "2025-06-15T08:26:26.112Z"
   },
   {
    "duration": 42,
    "start_time": "2025-06-15T08:26:26.124Z"
   },
   {
    "duration": 374,
    "start_time": "2025-06-15T08:26:26.168Z"
   },
   {
    "duration": 29,
    "start_time": "2025-06-15T08:26:26.544Z"
   },
   {
    "duration": 497,
    "start_time": "2025-06-15T08:26:26.576Z"
   },
   {
    "duration": 8,
    "start_time": "2025-06-15T08:26:27.075Z"
   },
   {
    "duration": 12,
    "start_time": "2025-06-15T08:26:27.085Z"
   },
   {
    "duration": 263,
    "start_time": "2025-06-15T08:26:27.098Z"
   },
   {
    "duration": 18,
    "start_time": "2025-06-15T08:26:27.371Z"
   },
   {
    "duration": 18,
    "start_time": "2025-06-15T08:26:27.391Z"
   },
   {
    "duration": 371,
    "start_time": "2025-06-15T08:26:27.411Z"
   },
   {
    "duration": 24,
    "start_time": "2025-06-15T08:28:20.505Z"
   },
   {
    "duration": 132,
    "start_time": "2025-06-15T08:29:17.158Z"
   },
   {
    "duration": 81,
    "start_time": "2025-06-15T08:29:21.052Z"
   },
   {
    "duration": 33,
    "start_time": "2025-06-15T08:29:28.483Z"
   },
   {
    "duration": 36,
    "start_time": "2025-06-15T08:29:34.417Z"
   },
   {
    "duration": 111,
    "start_time": "2025-06-15T08:29:47.094Z"
   },
   {
    "duration": 10,
    "start_time": "2025-06-15T08:30:22.264Z"
   },
   {
    "duration": 22,
    "start_time": "2025-06-15T08:30:29.232Z"
   },
   {
    "duration": 111,
    "start_time": "2025-06-15T08:31:48.789Z"
   },
   {
    "duration": 93,
    "start_time": "2025-06-15T08:31:51.843Z"
   },
   {
    "duration": 23,
    "start_time": "2025-06-15T08:32:19.969Z"
   },
   {
    "duration": 24,
    "start_time": "2025-06-15T08:32:24.848Z"
   },
   {
    "duration": 31,
    "start_time": "2025-06-15T08:32:52.898Z"
   },
   {
    "duration": 51,
    "start_time": "2025-06-15T08:45:12.804Z"
   },
   {
    "duration": 4672,
    "start_time": "2025-06-15T08:46:10.162Z"
   },
   {
    "duration": 1859,
    "start_time": "2025-06-15T08:46:14.836Z"
   },
   {
    "duration": 13,
    "start_time": "2025-06-15T08:46:16.697Z"
   },
   {
    "duration": 26,
    "start_time": "2025-06-15T08:46:16.712Z"
   },
   {
    "duration": 95,
    "start_time": "2025-06-15T08:46:16.740Z"
   },
   {
    "duration": 29,
    "start_time": "2025-06-15T08:46:16.836Z"
   },
   {
    "duration": 10,
    "start_time": "2025-06-15T08:46:16.866Z"
   },
   {
    "duration": 56,
    "start_time": "2025-06-15T08:46:16.878Z"
   },
   {
    "duration": 5,
    "start_time": "2025-06-15T08:46:16.935Z"
   },
   {
    "duration": 112,
    "start_time": "2025-06-15T08:46:16.957Z"
   },
   {
    "duration": 9,
    "start_time": "2025-06-15T08:46:17.070Z"
   },
   {
    "duration": 21,
    "start_time": "2025-06-15T08:46:17.081Z"
   },
   {
    "duration": 7,
    "start_time": "2025-06-15T08:46:17.104Z"
   },
   {
    "duration": 49,
    "start_time": "2025-06-15T08:46:17.113Z"
   },
   {
    "duration": 8,
    "start_time": "2025-06-15T08:46:17.164Z"
   },
   {
    "duration": 9,
    "start_time": "2025-06-15T08:46:17.174Z"
   },
   {
    "duration": 93,
    "start_time": "2025-06-15T08:46:17.185Z"
   },
   {
    "duration": 43,
    "start_time": "2025-06-15T08:46:17.280Z"
   },
   {
    "duration": 66,
    "start_time": "2025-06-15T08:46:17.325Z"
   },
   {
    "duration": 19,
    "start_time": "2025-06-15T08:46:17.392Z"
   },
   {
    "duration": 7,
    "start_time": "2025-06-15T08:46:17.413Z"
   },
   {
    "duration": 36,
    "start_time": "2025-06-15T08:46:17.422Z"
   },
   {
    "duration": 39,
    "start_time": "2025-06-15T08:46:17.460Z"
   },
   {
    "duration": 58,
    "start_time": "2025-06-15T08:46:17.501Z"
   },
   {
    "duration": 101,
    "start_time": "2025-06-15T08:46:17.561Z"
   },
   {
    "duration": 15,
    "start_time": "2025-06-15T08:46:17.664Z"
   },
   {
    "duration": 24,
    "start_time": "2025-06-15T08:46:17.680Z"
   },
   {
    "duration": 50,
    "start_time": "2025-06-15T08:46:17.709Z"
   },
   {
    "duration": 70,
    "start_time": "2025-06-15T08:46:17.761Z"
   },
   {
    "duration": 93,
    "start_time": "2025-06-15T08:46:17.833Z"
   },
   {
    "duration": 6,
    "start_time": "2025-06-15T08:46:17.928Z"
   },
   {
    "duration": 30,
    "start_time": "2025-06-15T08:46:17.936Z"
   },
   {
    "duration": 51,
    "start_time": "2025-06-15T08:46:17.968Z"
   },
   {
    "duration": 33,
    "start_time": "2025-06-15T08:46:18.021Z"
   },
   {
    "duration": 428,
    "start_time": "2025-06-15T08:46:18.055Z"
   },
   {
    "duration": 102,
    "start_time": "2025-06-15T08:46:18.484Z"
   },
   {
    "duration": 126,
    "start_time": "2025-06-15T08:46:18.587Z"
   },
   {
    "duration": 346,
    "start_time": "2025-06-15T08:46:18.715Z"
   },
   {
    "duration": 123,
    "start_time": "2025-06-15T08:46:19.063Z"
   },
   {
    "duration": 220,
    "start_time": "2025-06-15T08:46:19.188Z"
   },
   {
    "duration": 50,
    "start_time": "2025-06-15T08:46:19.410Z"
   },
   {
    "duration": 20,
    "start_time": "2025-06-15T08:46:19.462Z"
   },
   {
    "duration": 24,
    "start_time": "2025-06-15T08:46:19.484Z"
   },
   {
    "duration": 15,
    "start_time": "2025-06-15T08:46:19.510Z"
   },
   {
    "duration": 111,
    "start_time": "2025-06-15T08:46:19.557Z"
   },
   {
    "duration": 158,
    "start_time": "2025-06-15T08:46:19.669Z"
   },
   {
    "duration": 33,
    "start_time": "2025-06-15T08:46:19.829Z"
   },
   {
    "duration": 22,
    "start_time": "2025-06-15T08:46:19.864Z"
   },
   {
    "duration": 7,
    "start_time": "2025-06-15T08:46:19.887Z"
   },
   {
    "duration": 24,
    "start_time": "2025-06-15T08:46:19.896Z"
   },
   {
    "duration": 16,
    "start_time": "2025-06-15T08:46:19.921Z"
   },
   {
    "duration": 18,
    "start_time": "2025-06-15T08:46:19.958Z"
   },
   {
    "duration": 116,
    "start_time": "2025-06-15T08:46:19.978Z"
   },
   {
    "duration": 12,
    "start_time": "2025-06-15T08:46:20.096Z"
   },
   {
    "duration": 11,
    "start_time": "2025-06-15T08:46:20.109Z"
   },
   {
    "duration": 19,
    "start_time": "2025-06-15T08:46:20.122Z"
   },
   {
    "duration": 10,
    "start_time": "2025-06-15T08:46:20.143Z"
   },
   {
    "duration": 10,
    "start_time": "2025-06-15T08:46:20.154Z"
   },
   {
    "duration": 16,
    "start_time": "2025-06-15T08:46:20.165Z"
   },
   {
    "duration": 24,
    "start_time": "2025-06-15T08:46:20.182Z"
   },
   {
    "duration": 5,
    "start_time": "2025-06-15T08:46:20.207Z"
   },
   {
    "duration": 48,
    "start_time": "2025-06-15T08:46:20.214Z"
   },
   {
    "duration": 31,
    "start_time": "2025-06-15T08:46:20.263Z"
   },
   {
    "duration": 263,
    "start_time": "2025-06-15T08:46:20.295Z"
   },
   {
    "duration": 231,
    "start_time": "2025-06-15T08:46:20.560Z"
   },
   {
    "duration": 263,
    "start_time": "2025-06-15T08:46:20.794Z"
   },
   {
    "duration": 3,
    "start_time": "2025-06-15T08:46:21.059Z"
   },
   {
    "duration": 32,
    "start_time": "2025-06-15T08:46:21.064Z"
   },
   {
    "duration": 96,
    "start_time": "2025-06-15T08:46:21.097Z"
   },
   {
    "duration": 176,
    "start_time": "2025-06-15T08:46:21.195Z"
   },
   {
    "duration": 161,
    "start_time": "2025-06-15T08:46:21.372Z"
   },
   {
    "duration": 112,
    "start_time": "2025-06-15T08:46:21.535Z"
   },
   {
    "duration": 33,
    "start_time": "2025-06-15T08:46:21.649Z"
   },
   {
    "duration": 55,
    "start_time": "2025-06-15T08:46:21.684Z"
   },
   {
    "duration": 23,
    "start_time": "2025-06-15T08:46:21.741Z"
   },
   {
    "duration": 509,
    "start_time": "2025-06-15T08:46:21.765Z"
   },
   {
    "duration": 608,
    "start_time": "2025-06-15T08:46:22.276Z"
   },
   {
    "duration": 116,
    "start_time": "2025-06-15T08:46:22.885Z"
   },
   {
    "duration": 0,
    "start_time": "2025-06-15T08:46:23.003Z"
   },
   {
    "duration": 0,
    "start_time": "2025-06-15T08:46:23.004Z"
   },
   {
    "duration": 0,
    "start_time": "2025-06-15T08:46:23.005Z"
   },
   {
    "duration": 0,
    "start_time": "2025-06-15T08:46:23.007Z"
   },
   {
    "duration": 0,
    "start_time": "2025-06-15T08:46:23.007Z"
   },
   {
    "duration": 0,
    "start_time": "2025-06-15T08:46:23.009Z"
   },
   {
    "duration": 0,
    "start_time": "2025-06-15T08:46:23.010Z"
   },
   {
    "duration": 0,
    "start_time": "2025-06-15T08:46:23.011Z"
   },
   {
    "duration": 0,
    "start_time": "2025-06-15T08:46:23.012Z"
   },
   {
    "duration": 0,
    "start_time": "2025-06-15T08:46:23.014Z"
   },
   {
    "duration": 0,
    "start_time": "2025-06-15T08:46:23.015Z"
   },
   {
    "duration": 0,
    "start_time": "2025-06-15T08:46:23.016Z"
   },
   {
    "duration": 0,
    "start_time": "2025-06-15T08:46:23.017Z"
   },
   {
    "duration": 0,
    "start_time": "2025-06-15T08:46:23.018Z"
   },
   {
    "duration": 0,
    "start_time": "2025-06-15T08:46:23.019Z"
   },
   {
    "duration": 0,
    "start_time": "2025-06-15T08:46:23.021Z"
   },
   {
    "duration": 0,
    "start_time": "2025-06-15T08:46:23.022Z"
   },
   {
    "duration": 0,
    "start_time": "2025-06-15T08:46:23.023Z"
   },
   {
    "duration": 0,
    "start_time": "2025-06-15T08:46:23.024Z"
   },
   {
    "duration": 559,
    "start_time": "2025-06-15T08:47:06.454Z"
   },
   {
    "duration": 651,
    "start_time": "2025-06-15T08:48:38.251Z"
   },
   {
    "duration": 445,
    "start_time": "2025-06-15T08:48:48.218Z"
   },
   {
    "duration": 20,
    "start_time": "2025-06-15T08:52:22.734Z"
   },
   {
    "duration": 31,
    "start_time": "2025-06-15T08:52:52.135Z"
   },
   {
    "duration": 11,
    "start_time": "2025-06-15T08:53:47.169Z"
   },
   {
    "duration": 37,
    "start_time": "2025-06-15T08:53:58.291Z"
   },
   {
    "duration": 10,
    "start_time": "2025-06-15T08:54:00.532Z"
   },
   {
    "duration": 31,
    "start_time": "2025-06-15T08:54:03.011Z"
   },
   {
    "duration": 12,
    "start_time": "2025-06-15T08:54:13.050Z"
   },
   {
    "duration": 8,
    "start_time": "2025-06-15T08:54:37.595Z"
   },
   {
    "duration": 7,
    "start_time": "2025-06-15T08:54:51.211Z"
   },
   {
    "duration": 18,
    "start_time": "2025-06-15T08:56:07.315Z"
   },
   {
    "duration": 31,
    "start_time": "2025-06-15T08:56:35.328Z"
   },
   {
    "duration": 31,
    "start_time": "2025-06-15T08:56:39.945Z"
   },
   {
    "duration": 142,
    "start_time": "2025-06-15T08:56:46.449Z"
   },
   {
    "duration": 12,
    "start_time": "2025-06-15T08:56:55.839Z"
   },
   {
    "duration": 41,
    "start_time": "2025-06-15T08:57:21.930Z"
   },
   {
    "duration": 34,
    "start_time": "2025-06-15T09:12:08.696Z"
   },
   {
    "duration": 231,
    "start_time": "2025-06-15T09:12:20.246Z"
   },
   {
    "duration": 509,
    "start_time": "2025-06-15T09:12:29.336Z"
   },
   {
    "duration": 119,
    "start_time": "2025-06-15T09:16:22.174Z"
   },
   {
    "duration": 128,
    "start_time": "2025-06-15T09:16:37.557Z"
   },
   {
    "duration": 6,
    "start_time": "2025-06-15T09:16:59.007Z"
   },
   {
    "duration": 6,
    "start_time": "2025-06-15T09:17:01.724Z"
   },
   {
    "duration": 342,
    "start_time": "2025-06-15T09:17:07.371Z"
   },
   {
    "duration": 497,
    "start_time": "2025-06-15T09:17:45.936Z"
   },
   {
    "duration": 757,
    "start_time": "2025-06-15T09:17:57.063Z"
   },
   {
    "duration": 330,
    "start_time": "2025-06-15T09:18:48.642Z"
   },
   {
    "duration": 16,
    "start_time": "2025-06-15T09:33:32.889Z"
   },
   {
    "duration": 15,
    "start_time": "2025-06-15T09:33:35.807Z"
   },
   {
    "duration": 287,
    "start_time": "2025-06-15T09:33:38.647Z"
   },
   {
    "duration": 223,
    "start_time": "2025-06-15T09:33:47.928Z"
   },
   {
    "duration": 10,
    "start_time": "2025-06-15T09:33:55.127Z"
   },
   {
    "duration": 5,
    "start_time": "2025-06-15T09:40:57.881Z"
   },
   {
    "duration": 149,
    "start_time": "2025-06-15T09:41:02.377Z"
   },
   {
    "duration": 3682,
    "start_time": "2025-06-15T09:41:14.898Z"
   },
   {
    "duration": 2990,
    "start_time": "2025-06-15T09:41:18.582Z"
   },
   {
    "duration": 18,
    "start_time": "2025-06-15T09:41:21.576Z"
   },
   {
    "duration": 13,
    "start_time": "2025-06-15T09:41:21.597Z"
   },
   {
    "duration": 113,
    "start_time": "2025-06-15T09:41:21.611Z"
   },
   {
    "duration": 34,
    "start_time": "2025-06-15T09:41:21.725Z"
   },
   {
    "duration": 12,
    "start_time": "2025-06-15T09:41:21.760Z"
   },
   {
    "duration": 56,
    "start_time": "2025-06-15T09:41:21.773Z"
   },
   {
    "duration": 52,
    "start_time": "2025-06-15T09:41:21.831Z"
   },
   {
    "duration": 63,
    "start_time": "2025-06-15T09:41:21.885Z"
   },
   {
    "duration": 8,
    "start_time": "2025-06-15T09:41:21.950Z"
   },
   {
    "duration": 19,
    "start_time": "2025-06-15T09:41:21.960Z"
   },
   {
    "duration": 7,
    "start_time": "2025-06-15T09:41:21.981Z"
   },
   {
    "duration": 26,
    "start_time": "2025-06-15T09:41:21.990Z"
   },
   {
    "duration": 7,
    "start_time": "2025-06-15T09:41:22.018Z"
   },
   {
    "duration": 36,
    "start_time": "2025-06-15T09:41:22.026Z"
   },
   {
    "duration": 70,
    "start_time": "2025-06-15T09:41:22.064Z"
   },
   {
    "duration": 53,
    "start_time": "2025-06-15T09:41:22.136Z"
   },
   {
    "duration": 68,
    "start_time": "2025-06-15T09:41:22.191Z"
   },
   {
    "duration": 19,
    "start_time": "2025-06-15T09:41:22.261Z"
   },
   {
    "duration": 7,
    "start_time": "2025-06-15T09:41:22.281Z"
   },
   {
    "duration": 10,
    "start_time": "2025-06-15T09:41:22.290Z"
   },
   {
    "duration": 61,
    "start_time": "2025-06-15T09:41:22.302Z"
   },
   {
    "duration": 35,
    "start_time": "2025-06-15T09:41:22.364Z"
   },
   {
    "duration": 11,
    "start_time": "2025-06-15T09:41:22.401Z"
   },
   {
    "duration": 18,
    "start_time": "2025-06-15T09:41:22.413Z"
   },
   {
    "duration": 43,
    "start_time": "2025-06-15T09:41:22.432Z"
   },
   {
    "duration": 20,
    "start_time": "2025-06-15T09:41:22.480Z"
   },
   {
    "duration": 90,
    "start_time": "2025-06-15T09:41:22.501Z"
   },
   {
    "duration": 80,
    "start_time": "2025-06-15T09:41:22.593Z"
   },
   {
    "duration": 6,
    "start_time": "2025-06-15T09:41:22.674Z"
   },
   {
    "duration": 20,
    "start_time": "2025-06-15T09:41:22.681Z"
   },
   {
    "duration": 65,
    "start_time": "2025-06-15T09:41:22.702Z"
   },
   {
    "duration": 10,
    "start_time": "2025-06-15T09:41:22.769Z"
   },
   {
    "duration": 429,
    "start_time": "2025-06-15T09:41:22.781Z"
   },
   {
    "duration": 101,
    "start_time": "2025-06-15T09:41:23.212Z"
   },
   {
    "duration": 132,
    "start_time": "2025-06-15T09:41:23.315Z"
   },
   {
    "duration": 323,
    "start_time": "2025-06-15T09:41:23.449Z"
   },
   {
    "duration": 124,
    "start_time": "2025-06-15T09:41:23.774Z"
   },
   {
    "duration": 211,
    "start_time": "2025-06-15T09:41:23.900Z"
   },
   {
    "duration": 53,
    "start_time": "2025-06-15T09:41:24.113Z"
   },
   {
    "duration": 18,
    "start_time": "2025-06-15T09:41:24.168Z"
   },
   {
    "duration": 51,
    "start_time": "2025-06-15T09:41:24.188Z"
   },
   {
    "duration": 17,
    "start_time": "2025-06-15T09:41:24.240Z"
   },
   {
    "duration": 6,
    "start_time": "2025-06-15T09:41:24.258Z"
   },
   {
    "duration": 164,
    "start_time": "2025-06-15T09:41:24.266Z"
   },
   {
    "duration": 30,
    "start_time": "2025-06-15T09:41:24.431Z"
   },
   {
    "duration": 18,
    "start_time": "2025-06-15T09:41:24.463Z"
   },
   {
    "duration": 10,
    "start_time": "2025-06-15T09:41:24.482Z"
   },
   {
    "duration": 20,
    "start_time": "2025-06-15T09:41:24.493Z"
   },
   {
    "duration": 17,
    "start_time": "2025-06-15T09:41:24.514Z"
   },
   {
    "duration": 42,
    "start_time": "2025-06-15T09:41:24.532Z"
   },
   {
    "duration": 11,
    "start_time": "2025-06-15T09:41:24.576Z"
   },
   {
    "duration": 86,
    "start_time": "2025-06-15T09:41:24.589Z"
   },
   {
    "duration": 11,
    "start_time": "2025-06-15T09:41:24.676Z"
   },
   {
    "duration": 12,
    "start_time": "2025-06-15T09:41:24.688Z"
   },
   {
    "duration": 9,
    "start_time": "2025-06-15T09:41:24.701Z"
   },
   {
    "duration": 19,
    "start_time": "2025-06-15T09:41:24.711Z"
   },
   {
    "duration": 12,
    "start_time": "2025-06-15T09:41:24.732Z"
   },
   {
    "duration": 20,
    "start_time": "2025-06-15T09:41:24.746Z"
   },
   {
    "duration": 6,
    "start_time": "2025-06-15T09:41:24.767Z"
   },
   {
    "duration": 35,
    "start_time": "2025-06-15T09:41:24.774Z"
   },
   {
    "duration": 53,
    "start_time": "2025-06-15T09:41:24.810Z"
   },
   {
    "duration": 239,
    "start_time": "2025-06-15T09:41:24.864Z"
   },
   {
    "duration": 266,
    "start_time": "2025-06-15T09:41:25.104Z"
   },
   {
    "duration": 238,
    "start_time": "2025-06-15T09:41:25.372Z"
   },
   {
    "duration": 4,
    "start_time": "2025-06-15T09:41:25.611Z"
   },
   {
    "duration": 43,
    "start_time": "2025-06-15T09:41:25.616Z"
   },
   {
    "duration": 30,
    "start_time": "2025-06-15T09:41:25.661Z"
   },
   {
    "duration": 189,
    "start_time": "2025-06-15T09:41:25.693Z"
   },
   {
    "duration": 12,
    "start_time": "2025-06-15T09:41:25.884Z"
   },
   {
    "duration": 84,
    "start_time": "2025-06-15T09:41:25.897Z"
   },
   {
    "duration": 147,
    "start_time": "2025-06-15T09:41:25.982Z"
   },
   {
    "duration": 111,
    "start_time": "2025-06-15T09:41:26.131Z"
   },
   {
    "duration": 29,
    "start_time": "2025-06-15T09:41:26.244Z"
   },
   {
    "duration": 57,
    "start_time": "2025-06-15T09:41:26.275Z"
   },
   {
    "duration": 24,
    "start_time": "2025-06-15T09:41:26.334Z"
   },
   {
    "duration": 510,
    "start_time": "2025-06-15T09:41:26.360Z"
   },
   {
    "duration": 608,
    "start_time": "2025-06-15T09:41:26.872Z"
   },
   {
    "duration": 149,
    "start_time": "2025-06-15T09:41:27.481Z"
   },
   {
    "duration": 156,
    "start_time": "2025-06-15T09:41:27.631Z"
   },
   {
    "duration": 4,
    "start_time": "2025-06-15T09:41:27.793Z"
   },
   {
    "duration": 143,
    "start_time": "2025-06-15T09:41:27.799Z"
   },
   {
    "duration": 240,
    "start_time": "2025-06-15T09:41:27.944Z"
   },
   {
    "duration": 398,
    "start_time": "2025-06-15T09:41:28.186Z"
   },
   {
    "duration": 127,
    "start_time": "2025-06-15T09:41:28.586Z"
   },
   {
    "duration": 131,
    "start_time": "2025-06-15T09:41:28.715Z"
   },
   {
    "duration": 11,
    "start_time": "2025-06-15T09:41:28.849Z"
   },
   {
    "duration": 71,
    "start_time": "2025-06-15T09:41:28.862Z"
   },
   {
    "duration": 354,
    "start_time": "2025-06-15T09:41:28.934Z"
   },
   {
    "duration": 19,
    "start_time": "2025-06-15T09:41:29.289Z"
   },
   {
    "duration": 452,
    "start_time": "2025-06-15T09:41:29.309Z"
   },
   {
    "duration": 8,
    "start_time": "2025-06-15T09:41:29.762Z"
   },
   {
    "duration": 11,
    "start_time": "2025-06-15T09:41:29.772Z"
   },
   {
    "duration": 244,
    "start_time": "2025-06-15T09:41:29.784Z"
   },
   {
    "duration": 16,
    "start_time": "2025-06-15T09:41:30.030Z"
   },
   {
    "duration": 16,
    "start_time": "2025-06-15T09:41:30.057Z"
   },
   {
    "duration": 272,
    "start_time": "2025-06-15T09:41:30.075Z"
   },
   {
    "duration": 3,
    "start_time": "2025-06-15T09:45:18.861Z"
   },
   {
    "duration": 160,
    "start_time": "2025-06-15T09:49:40.810Z"
   },
   {
    "duration": 172,
    "start_time": "2025-06-15T09:49:51.485Z"
   },
   {
    "duration": 449,
    "start_time": "2025-06-15T09:49:57.610Z"
   },
   {
    "duration": 495,
    "start_time": "2025-06-15T09:50:48.095Z"
   },
   {
    "duration": 687,
    "start_time": "2025-06-15T09:53:19.412Z"
   },
   {
    "duration": 337,
    "start_time": "2025-06-15T09:53:38.856Z"
   },
   {
    "duration": 1436,
    "start_time": "2025-10-31T13:56:18.335Z"
   }
  ],
  "colab": {
   "provenance": []
  },
  "kernelspec": {
   "display_name": "Python 3 (ipykernel)",
   "language": "python",
   "name": "python3"
  },
  "language_info": {
   "codemirror_mode": {
    "name": "ipython",
    "version": 3
   },
   "file_extension": ".py",
   "mimetype": "text/x-python",
   "name": "python",
   "nbconvert_exporter": "python",
   "pygments_lexer": "ipython3",
   "version": "3.9.5"
  },
  "toc": {
   "base_numbering": 1,
   "nav_menu": {},
   "number_sections": false,
   "sideBar": true,
   "skip_h1_title": true,
   "title_cell": "Table of Contents",
   "title_sidebar": "Contents",
   "toc_cell": false,
   "toc_position": {
    "height": "calc(100% - 180px)",
    "left": "10px",
    "top": "150px",
    "width": "232.972px"
   },
   "toc_section_display": true,
   "toc_window_display": true
  }
 },
 "nbformat": 4,
 "nbformat_minor": 1
}
